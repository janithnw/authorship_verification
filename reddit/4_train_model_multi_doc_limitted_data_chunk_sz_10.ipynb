{
 "cells": [
  {
   "cell_type": "code",
   "execution_count": 1,
   "metadata": {
    "collapsed": true
   },
   "outputs": [],
   "source": [
    "%load_ext autoreload\n",
    "%autoreload 2\n",
    "import sys\n",
    "sys.path.append(\"../\")\n",
    "import warnings\n",
    "warnings.filterwarnings(\"ignore\")"
   ]
  },
  {
   "cell_type": "code",
   "execution_count": 2,
   "metadata": {
    "collapsed": true
   },
   "outputs": [],
   "source": [
    "import pickle\n",
    "import glob\n",
    "from tqdm.notebook import trange, tqdm\n",
    "import json\n",
    "import re\n",
    "import pandas as pd\n",
    "import numpy as np\n",
    "from collections import defaultdict\n",
    "\n",
    "from utills import chunker, cartesian_product, get_num_chunks\n",
    "from train_utils import generate_unique_pairs, get_random_author_excluding, generate_doc_pairs, fit_transformers, vectorize\n",
    "\n",
    "\n",
    "from sklearn.linear_model import SGDClassifier\n",
    "from sklearn.metrics import precision_recall_curve\n",
    "from sklearn.metrics import roc_curve, auc\n",
    "\n",
    "from sklearn.utils.fixes import loguniform\n",
    "from sklearn.model_selection import RandomizedSearchCV"
   ]
  },
  {
   "cell_type": "code",
   "execution_count": 3,
   "metadata": {},
   "outputs": [
    {
     "data": {
      "text/html": [
       "        <script type=\"text/javascript\">\n",
       "        window.PlotlyConfig = {MathJaxConfig: 'local'};\n",
       "        if (window.MathJax) {MathJax.Hub.Config({SVG: {font: \"STIX-Web\"}});}\n",
       "        if (typeof require !== 'undefined') {\n",
       "        require.undef(\"plotly\");\n",
       "        requirejs.config({\n",
       "            paths: {\n",
       "                'plotly': ['https://cdn.plot.ly/plotly-latest.min']\n",
       "            }\n",
       "        });\n",
       "        require(['plotly'], function(Plotly) {\n",
       "            window._Plotly = Plotly;\n",
       "        });\n",
       "        }\n",
       "        </script>\n",
       "        "
      ]
     },
     "metadata": {},
     "output_type": "display_data"
    }
   ],
   "source": [
    "\n",
    "from plotly.offline import init_notebook_mode\n",
    "import plotly.offline as py\n",
    "import plotly.graph_objs as go\n",
    "init_notebook_mode(connected=True)"
   ]
  },
  {
   "cell_type": "code",
   "execution_count": 4,
   "metadata": {
    "collapsed": true
   },
   "outputs": [],
   "source": [
    "# BASE_PATH = '../data/reddit_2/'\n",
    "COMPUTED_DATA_PATH = '../temp_data/reddit/preprocessed/'\n",
    "chunk_sz=10\n",
    "TEMP_DATA = '../temp_data/reddit/multidoc_' + str(chunk_sz) + '_limitted_data_40_capped/'\n",
    "MAX_COMMENTS = 40"
   ]
  },
  {
   "cell_type": "code",
   "execution_count": 5,
   "metadata": {
    "collapsed": true
   },
   "outputs": [],
   "source": [
    "with open(COMPUTED_DATA_PATH + 'metadata.p', 'rb') as f:\n",
    "    (train_files, test_files, min_count, author_mapping_all) = pickle.load(f)"
   ]
  },
  {
   "cell_type": "markdown",
   "metadata": {},
   "source": [
    "Vectorize Data\n",
    "==="
   ]
  },
  {
   "cell_type": "code",
   "execution_count": 6,
   "metadata": {
    "collapsed": true
   },
   "outputs": [],
   "source": [
    "exclude_users_root = np.random.choice(train_files, size=int(len(train_files)*0.5), replace=False)\n",
    "exclude_users_root = [u.replace('../data/reddit_2/', '/scratch/jnw301/av/data/reddit_2/reddit_2/').replace('.jsonl', '') for u in exclude_users_root]\n",
    "\n",
    "exclude_users = []\n",
    "for u in exclude_users_root:\n",
    "    exclude_users.extend(author_mapping_all[u])\n",
    "    \n",
    "    \n",
    "exclude_users_test_root = np.random.choice(test_files, size=int(len(test_files)*0.5), replace=False)\n",
    "exclude_users_test_root = [u.replace('../data/reddit_2/', '/scratch/jnw301/av/data/reddit_2/reddit_2/').replace('.jsonl', '') for u in exclude_users_test_root]\n",
    "\n",
    "exclude_users_test = []\n",
    "for u in exclude_users_test_root:\n",
    "    exclude_users_test.extend(author_mapping_all[u])"
   ]
  },
  {
   "cell_type": "code",
   "execution_count": 8,
   "metadata": {},
   "outputs": [
    {
     "name": "stdout",
     "output_type": "stream",
     "text": [
      "Sampled: 7411\n",
      "Reading preprocessed data...\n"
     ]
    },
    {
     "data": {
      "application/vnd.jupyter.widget-view+json": {
       "model_id": "30357481a8c24de491645ab443f4c31a"
      }
     },
     "metadata": {},
     "output_type": "display_data"
    },
    {
     "name": "stdout",
     "output_type": "stream",
     "text": [
      "\n",
      "Fitting transformer\n",
      "Generating pairs\n"
     ]
    },
    {
     "data": {
      "application/vnd.jupyter.widget-view+json": {
       "model_id": "f1fb0cef4ec346548dd18978922a1554"
      }
     },
     "metadata": {},
     "output_type": "display_data"
    },
    {
     "name": "stdout",
     "output_type": "stream",
     "text": [
      "\n"
     ]
    },
    {
     "data": {
      "application/vnd.jupyter.widget-view+json": {
       "model_id": "f8480ec0d3e94389b4ee0148ece670a9"
      }
     },
     "metadata": {},
     "output_type": "display_data"
    },
    {
     "name": "stdout",
     "output_type": "stream",
     "text": [
      "\n"
     ]
    },
    {
     "data": {
      "application/vnd.jupyter.widget-view+json": {
       "model_id": "cb86a9fae5324b1a9875ab34fd05367e"
      }
     },
     "metadata": {},
     "output_type": "display_data"
    },
    {
     "name": "stdout",
     "output_type": "stream",
     "text": [
      "\n"
     ]
    }
   ],
   "source": [
    "transformer, scaler, secondary_scaler = fit_transformers(\n",
    "    COMPUTED_DATA_PATH + 'train.jsonl', \n",
    "    author_mapping_all, \n",
    "    chunk_sz, \n",
    "    sample_fraction=0.1,\n",
    "    exclude_users=exclude_users,\n",
    "    max_comments=MAX_COMMENTS\n",
    ")"
   ]
  },
  {
   "cell_type": "code",
   "execution_count": 9,
   "metadata": {
    "collapsed": true
   },
   "outputs": [],
   "source": [
    "with open(TEMP_DATA + 'model_' + str(chunk_sz) + '.p', 'wb') as f:\n",
    "    pickle.dump((transformer, scaler, secondary_scaler ), f)"
   ]
  },
  {
   "cell_type": "code",
   "execution_count": 10,
   "metadata": {},
   "outputs": [
    {
     "name": "stdout",
     "output_type": "stream",
     "text": [
      "Precomputing record size...\n"
     ]
    },
    {
     "data": {
      "application/vnd.jupyter.widget-view+json": {
       "model_id": "5209177e262e42b08618b60c75d4125d"
      }
     },
     "metadata": {},
     "output_type": "display_data"
    },
    {
     "name": "stdout",
     "output_type": "stream",
     "text": [
      "\n"
     ]
    },
    {
     "data": {
      "application/vnd.jupyter.widget-view+json": {
       "model_id": "2aad657e90844653bd2b9a4dd57b7a41"
      }
     },
     "metadata": {},
     "output_type": "display_data"
    },
    {
     "name": "stdout",
     "output_type": "stream",
     "text": [
      "\n"
     ]
    }
   ],
   "source": [
    "XX_train, author_bounds, author_subreddit, x_shape = vectorize(\n",
    "    preprocessed_path = COMPUTED_DATA_PATH + 'train.jsonl', \n",
    "    vectorized_x_path = TEMP_DATA + 'XX_train_' + str(chunk_sz) + '.npy', \n",
    "    transformer=transformer,\n",
    "    scaler=scaler,\n",
    "    chunk_sz=chunk_sz,\n",
    "    max_comments=MAX_COMMENTS,\n",
    "    exclude_users=exclude_users\n",
    ")"
   ]
  },
  {
   "cell_type": "code",
   "execution_count": 11,
   "metadata": {},
   "outputs": [
    {
     "name": "stdout",
     "output_type": "stream",
     "text": [
      "Precomputing record size...\n"
     ]
    },
    {
     "data": {
      "application/vnd.jupyter.widget-view+json": {
       "model_id": "fe5f547dbf0548048a2db0462dacc362"
      }
     },
     "metadata": {},
     "output_type": "display_data"
    },
    {
     "name": "stdout",
     "output_type": "stream",
     "text": [
      "\n"
     ]
    },
    {
     "data": {
      "application/vnd.jupyter.widget-view+json": {
       "model_id": "6d9a623efdf74234aac1e63198730f7f"
      }
     },
     "metadata": {},
     "output_type": "display_data"
    },
    {
     "name": "stdout",
     "output_type": "stream",
     "text": [
      "\n"
     ]
    }
   ],
   "source": [
    "XX_test, author_bounds_test, author_subreddit_test, x_shape_test = vectorize(\n",
    "    preprocessed_path = COMPUTED_DATA_PATH + 'test.jsonl', \n",
    "    vectorized_x_path = TEMP_DATA + 'XX_test_' + str(chunk_sz) + '.npy', \n",
    "    transformer=transformer,\n",
    "    scaler=scaler,\n",
    "    chunk_sz=chunk_sz,\n",
    "    max_comments=MAX_COMMENTS,\n",
    "    exclude_users=exclude_users_test\n",
    ")"
   ]
  },
  {
   "cell_type": "code",
   "execution_count": 12,
   "metadata": {
    "collapsed": true
   },
   "outputs": [],
   "source": [
    "with open(TEMP_DATA + 'experiment_data' + str(chunk_sz) + '.p', 'wb') as f:\n",
    "    pickle.dump((\n",
    "        author_bounds, \n",
    "        author_bounds_test, \n",
    "        author_subreddit, \n",
    "        author_subreddit_test, \n",
    "        x_shape, \n",
    "        x_shape_test,\n",
    "        exclude_users,\n",
    "        exclude_users_test\n",
    "    ), f)"
   ]
  },
  {
   "cell_type": "markdown",
   "metadata": {
    "collapsed": true
   },
   "source": [
    "Train the classifier\n",
    "==="
   ]
  },
  {
   "cell_type": "code",
   "execution_count": 13,
   "metadata": {},
   "outputs": [
    {
     "data": {
      "application/vnd.jupyter.widget-view+json": {
       "model_id": "52326409c63e411ea6a552c183fc78e5"
      }
     },
     "metadata": {},
     "output_type": "display_data"
    },
    {
     "name": "stdout",
     "output_type": "stream",
     "text": [
      "\n"
     ]
    },
    {
     "data": {
      "application/vnd.jupyter.widget-view+json": {
       "model_id": "bb3ed91fbf40402f937393ad92d63171"
      }
     },
     "metadata": {},
     "output_type": "display_data"
    },
    {
     "name": "stdout",
     "output_type": "stream",
     "text": [
      "\n"
     ]
    },
    {
     "data": {
      "application/vnd.jupyter.widget-view+json": {
       "model_id": "649dbaf7e68c4a64b52be9b4fb9518e9"
      }
     },
     "metadata": {},
     "output_type": "display_data"
    },
    {
     "name": "stdout",
     "output_type": "stream",
     "text": [
      "\n"
     ]
    },
    {
     "data": {
      "application/vnd.jupyter.widget-view+json": {
       "model_id": "54cd282fd3e045ecbd0e58ece763573a"
      }
     },
     "metadata": {},
     "output_type": "display_data"
    },
    {
     "name": "stdout",
     "output_type": "stream",
     "text": [
      "\n"
     ]
    },
    {
     "data": {
      "application/vnd.jupyter.widget-view+json": {
       "model_id": "5ddd7974242d4f69af7ba8f7dafb34f2"
      }
     },
     "metadata": {},
     "output_type": "display_data"
    },
    {
     "name": "stdout",
     "output_type": "stream",
     "text": [
      "\n"
     ]
    },
    {
     "data": {
      "application/vnd.jupyter.widget-view+json": {
       "model_id": "a90337eceaa448539a11aa3a62c76703"
      }
     },
     "metadata": {},
     "output_type": "display_data"
    },
    {
     "name": "stdout",
     "output_type": "stream",
     "text": [
      "\n"
     ]
    }
   ],
   "source": [
    "author_mapping = defaultdict(set)\n",
    "author_to_root = {}\n",
    "for y in author_bounds.keys():\n",
    "    u = re.search(r'(.*)_[A-Z]+$', y).group(1)\n",
    "    author_mapping[u].add(y)\n",
    "    author_to_root[y] = u\n",
    "\n",
    "subreddit_to_author = defaultdict(list)\n",
    "for k, v in author_subreddit.items():\n",
    "    subreddit_to_author[v].append(k)\n",
    "    \n",
    "author_mapping_test = defaultdict(set)\n",
    "author_to_root_test = {}\n",
    "for y in author_bounds_test.keys():\n",
    "    u = re.search(r'(.*)_[A-Z]+$', y).group(1)\n",
    "    author_mapping_test[u].add(y)\n",
    "    author_to_root_test[y] = u\n",
    "\n",
    "subreddit_to_author_test = defaultdict(list)\n",
    "for k, v in author_subreddit_test.items():\n",
    "    subreddit_to_author_test[v].append(k)\n",
    "    \n",
    "X_idxs_train, Y_train = generate_doc_pairs(author_mapping, subreddit_to_author, author_to_root, author_bounds, author_subreddit)\n",
    "X_idxs_test, Y_test = generate_doc_pairs(author_mapping_test, subreddit_to_author_test, author_to_root_test, author_bounds_test, author_subreddit_test)"
   ]
  },
  {
   "cell_type": "code",
   "execution_count": 14,
   "metadata": {
    "collapsed": true
   },
   "outputs": [],
   "source": [
    "with open(TEMP_DATA + 'experiment_data' + str(chunk_sz) + '.p', 'wb') as f:\n",
    "    pickle.dump((\n",
    "        author_bounds, \n",
    "        author_bounds_test, \n",
    "        author_subreddit, \n",
    "        author_subreddit_test, \n",
    "        x_shape, \n",
    "        x_shape_test,\n",
    "        exclude_users,\n",
    "        exclude_users_test,\n",
    "        X_idxs_train,\n",
    "        Y_train,\n",
    "        X_idxs_test,\n",
    "        Y_test\n",
    "    ), f)"
   ]
  },
  {
   "cell_type": "code",
   "execution_count": 15,
   "metadata": {
    "scrolled": true
   },
   "outputs": [
    {
     "name": "stdout",
     "output_type": "stream",
     "text": [
      "AUC: 0.7665618885937436\n",
      "AUC: 0.7826923280976275\n",
      "AUC: 0.7866352787606996\n",
      "AUC: 0.8173270708760466\n",
      "AUC: 0.8193893421166447\n",
      "AUC: 0.8228230360764885\n",
      "AUC: 0.8319298195746292\n",
      "AUC: 0.833070243844846\n",
      "AUC: 0.8366660503834911\n",
      "AUC: 0.8404726303502159\n",
      "AUC: 0.8404339698637991\n",
      "AUC: 0.8431527748593364\n",
      "AUC: 0.8424224591898081\n",
      "AUC: 0.8465653394078376\n",
      "AUC: 0.8480789829235569\n",
      "AUC: 0.8466434261886571\n",
      "AUC: 0.8478279981677834\n",
      "AUC: 0.8496910680118542\n",
      "AUC: 0.8482689449588823\n",
      "AUC: 0.8525917067439379\n",
      "AUC: 0.852708362690975\n",
      "AUC: 0.8526700931190949\n",
      "AUC: 0.8530177619341397\n",
      "AUC: 0.8537143235753197\n",
      "AUC: 0.8524229678433173\n",
      "AUC: 0.8535062256688645\n",
      "AUC: 0.8539247413352554\n",
      "AUC: 0.8552490620570434\n",
      "AUC: 0.8531894631338521\n",
      "AUC: 0.8542337817060588\n",
      "AUC: 0.8545501757560567\n",
      "AUC: 0.8544678962566202\n",
      "AUC: 0.8564333728924425\n",
      "AUC: 0.8555464326676602\n",
      "AUC: 0.855255830966542\n",
      "AUC: 0.8575150382218852\n",
      "AUC: 0.8569836411766885\n",
      "AUC: 0.8570865109778711\n",
      "AUC: 0.856828263863102\n",
      "~~~~~~~~~~~~~~~~~~~~ Epoch:  0\n",
      "AUC: 0.8574366198045529\n",
      "AUC: 0.8579461785052818\n",
      "AUC: 0.8580345988875845\n",
      "AUC: 0.8570140572114415\n",
      "AUC: 0.8587262901181432\n",
      "AUC: 0.8575257306957298\n",
      "AUC: 0.8580220319464941\n",
      "AUC: 0.8577996352193819\n",
      "AUC: 0.8596360235442123\n",
      "AUC: 0.8594085160901649\n",
      "AUC: 0.8590254919390691\n",
      "AUC: 0.8602222046983566\n",
      "AUC: 0.8582385921914042\n",
      "AUC: 0.859238051718413\n",
      "AUC: 0.8599141704518529\n",
      "AUC: 0.8592143180792857\n",
      "AUC: 0.8581530684217346\n",
      "AUC: 0.8595680092211484\n",
      "AUC: 0.8589739248645053\n",
      "AUC: 0.859547007177452\n",
      "AUC: 0.8604371307923347\n",
      "AUC: 0.8601165616469156\n",
      "AUC: 0.8592645698225598\n",
      "AUC: 0.8611012240974442\n",
      "AUC: 0.8591117046155043\n",
      "AUC: 0.8603345445644022\n",
      "AUC: 0.8607923006805802\n",
      "AUC: 0.8605641700062264\n",
      "AUC: 0.8596268931264057\n",
      "AUC: 0.8595192025799732\n",
      "AUC: 0.8595120443580465\n",
      "AUC: 0.85986903424184\n",
      "AUC: 0.8603991111494207\n",
      "AUC: 0.8599897787704252\n",
      "AUC: 0.8599551187495748\n",
      "AUC: 0.8605068930160524\n",
      "AUC: 0.859472268803935\n",
      "AUC: 0.8606426893564101\n",
      "AUC: 0.860337117551066\n",
      "~~~~~~~~~~~~~~~~~~~~ Epoch:  1\n",
      "AUC: 0.8606722979283495\n",
      "AUC: 0.8610460426655243\n",
      "AUC: 0.8610097949548956\n",
      "AUC: 0.8609161436875015\n",
      "AUC: 0.8611039428760049\n",
      "AUC: 0.8603428338751111\n",
      "AUC: 0.8607285319457227\n",
      "AUC: 0.8610246368904213\n",
      "AUC: 0.8618523743903037\n",
      "AUC: 0.8615820714071376\n",
      "AUC: 0.8616482032524118\n",
      "AUC: 0.8620018943942745\n",
      "AUC: 0.8611437328490953\n",
      "AUC: 0.8616475608068002\n",
      "AUC: 0.8615802033483269\n",
      "AUC: 0.861044858707153\n",
      "AUC: 0.860638299578416\n",
      "AUC: 0.8607049489048186\n",
      "AUC: 0.8612224492586563\n",
      "AUC: 0.8613151873240593\n",
      "AUC: 0.8619813601663351\n",
      "AUC: 0.8621919974151705\n",
      "AUC: 0.8615005288777292\n",
      "AUC: 0.8621148110194726\n",
      "AUC: 0.8613241799605125\n",
      "AUC: 0.8616559398355998\n",
      "AUC: 0.8620723198910176\n",
      "AUC: 0.8615233156705809\n",
      "AUC: 0.8611249224901785\n",
      "AUC: 0.8604817046621738\n",
      "AUC: 0.8614906022118705\n",
      "AUC: 0.8612006830090827\n",
      "AUC: 0.8612873282548824\n",
      "AUC: 0.8610904370991828\n",
      "AUC: 0.8617252278351254\n",
      "AUC: 0.8617992805060944\n",
      "AUC: 0.8612802933953301\n",
      "AUC: 0.8617389290692158\n",
      "AUC: 0.8614952098766557\n",
      "~~~~~~~~~~~~~~~~~~~~ Epoch:  2\n",
      "AUC: 0.8616657527517368\n",
      "AUC: 0.8618981947007558\n",
      "AUC: 0.8617772050495309\n",
      "AUC: 0.862139954514306\n",
      "AUC: 0.8621138337331307\n",
      "AUC: 0.8619330950379198\n",
      "AUC: 0.8624961801922224\n",
      "AUC: 0.861560635191968\n",
      "AUC: 0.8624998794613425\n",
      "AUC: 0.8625049309102535\n",
      "AUC: 0.8620960535301448\n",
      "AUC: 0.8625630602222861\n",
      "AUC: 0.8622646914979137\n",
      "AUC: 0.8623661113906712\n",
      "AUC: 0.862393579545311\n",
      "AUC: 0.8617924907691821\n",
      "AUC: 0.8616691444159754\n",
      "AUC: 0.862101710576166\n",
      "AUC: 0.8622808055077923\n",
      "AUC: 0.8622027475649305\n",
      "AUC: 0.862316611036404\n",
      "AUC: 0.8625691001723002\n",
      "AUC: 0.861862469277582\n",
      "AUC: 0.8627254723954251\n",
      "AUC: 0.8621944438352426\n",
      "AUC: 0.8620592338666899\n",
      "AUC: 0.8625527746840657\n",
      "AUC: 0.8626225609394148\n",
      "AUC: 0.8621712693320717\n",
      "AUC: 0.8619039478733025\n",
      "AUC: 0.8618983949643504\n",
      "AUC: 0.8619283944508265\n",
      "AUC: 0.8623135670297656\n",
      "AUC: 0.8619601097957814\n",
      "AUC: 0.8622128360437737\n",
      "AUC: 0.8623847343028631\n",
      "AUC: 0.86223947110186\n",
      "AUC: 0.8624745260902618\n",
      "AUC: 0.8622965878811581\n",
      "~~~~~~~~~~~~~~~~~~~~ Epoch:  3\n",
      "AUC: 0.8623242386761962\n",
      "AUC: 0.8626725339157653\n",
      "AUC: 0.8620826086334554\n",
      "AUC: 0.862617605617029\n",
      "AUC: 0.8624962667060952\n",
      "AUC: 0.862183624794806\n",
      "AUC: 0.8624727413411065\n",
      "AUC: 0.8625163939984104\n",
      "AUC: 0.8628714677601304\n",
      "AUC: 0.8631236941501903\n",
      "AUC: 0.8624962378681377\n",
      "AUC: 0.8631787554239532\n",
      "AUC: 0.8629044728026346\n",
      "AUC: 0.8627375763270846\n",
      "AUC: 0.8628148091839365\n",
      "AUC: 0.8625049357165797\n",
      "AUC: 0.8622069899489193\n",
      "AUC: 0.8625155240533551\n",
      "AUC: 0.8625973805960799\n",
      "AUC: 0.8624436630671657\n",
      "AUC: 0.8628444033368972\n",
      "AUC: 0.8629908745279032\n",
      "AUC: 0.8624888233088099\n",
      "AUC: 0.8631194165198091\n",
      "AUC: 0.8624649791241784\n",
      "AUC: 0.8626224359749317\n",
      "AUC: 0.8628608537896146\n",
      "AUC: 0.862852569285232\n",
      "AUC: 0.8628019490569435\n",
      "AUC: 0.8624615442030031\n",
      "AUC: 0.8624160298953238\n",
      "AUC: 0.8623986293921133\n",
      "AUC: 0.8623886017934029\n",
      "AUC: 0.8624563133179115\n",
      "AUC: 0.8624354362386981\n",
      "AUC: 0.8627562328835607\n",
      "AUC: 0.8627074134255153\n",
      "AUC: 0.8627998102417529\n",
      "AUC: 0.8626651594091563\n",
      "~~~~~~~~~~~~~~~~~~~~ Epoch:  4\n",
      "AUC: 0.8627133011751975\n",
      "AUC: 0.8627292613826354\n",
      "AUC: 0.8624786579287462\n",
      "AUC: 0.862605102760289\n",
      "AUC: 0.8629125778708366\n",
      "AUC: 0.8627855034105523\n",
      "AUC: 0.8629152437798083\n",
      "AUC: 0.8628183818864648\n",
      "AUC: 0.8631711470094658\n",
      "AUC: 0.8631003690487962\n",
      "AUC: 0.862884098785571\n",
      "AUC: 0.863252197691486\n",
      "AUC: 0.8628867214376064\n",
      "AUC: 0.8629617145464159\n",
      "AUC: 0.8629999136255107\n",
      "AUC: 0.8628517922624848\n",
      "AUC: 0.862493155410889\n",
      "AUC: 0.8627859455925693\n",
      "AUC: 0.8628915582039439\n",
      "AUC: 0.8627426950645636\n",
      "AUC: 0.8628898775918578\n",
      "AUC: 0.8631175821052821\n",
      "AUC: 0.8628026619953404\n",
      "AUC: 0.8633021706678363\n",
      "AUC: 0.8628545639106344\n",
      "AUC: 0.8628514782491683\n",
      "AUC: 0.863015646333505\n",
      "AUC: 0.8631656902270394\n",
      "AUC: 0.8625883687343214\n",
      "AUC: 0.8627575161726752\n",
      "AUC: 0.862605017848525\n",
      "AUC: 0.8623749181825087\n",
      "AUC: 0.8625783363292848\n",
      "AUC: 0.8628387639140722\n",
      "AUC: 0.8625863965384415\n",
      "AUC: 0.86286320568527\n",
      "AUC: 0.8628998106661516\n",
      "AUC: 0.8628960665379863\n",
      "AUC: 0.8627816743706229\n",
      "~~~~~~~~~~~~~~~~~~~~ Epoch:  5\n",
      "AUC: 0.8630183667141744\n",
      "AUC: 0.8630422205114585\n",
      "AUC: 0.8627702305077711\n",
      "AUC: 0.8631053468007044\n",
      "AUC: 0.8628930161229128\n",
      "AUC: 0.8629271154056983\n",
      "AUC: 0.8629461164155571\n",
      "AUC: 0.8628057268293929\n",
      "AUC: 0.8634135668918239\n",
      "AUC: 0.8631359775180307\n",
      "AUC: 0.8630543564852933\n",
      "AUC: 0.8633709652178648\n",
      "AUC: 0.8632600976897669\n",
      "AUC: 0.8631737952952414\n",
      "AUC: 0.863201647955983\n",
      "AUC: 0.8628144999769464\n",
      "AUC: 0.862753196887466\n",
      "AUC: 0.8629880003447932\n",
      "AUC: 0.8629210386071826\n",
      "AUC: 0.862860699987174\n",
      "AUC: 0.8630218881492226\n",
      "AUC: 0.8632672334821709\n",
      "AUC: 0.8630710296311281\n",
      "AUC: 0.863390688778773\n",
      "AUC: 0.8630220868107084\n",
      "AUC: 0.863125839373816\n",
      "AUC: 0.8632925868532517\n",
      "AUC: 0.8632956500851952\n",
      "AUC: 0.863111844953823\n",
      "AUC: 0.8629165190583791\n",
      "AUC: 0.8628945813831685\n",
      "AUC: 0.8628720781635667\n",
      "AUC: 0.8630575174458709\n",
      "AUC: 0.8627714865610369\n",
      "AUC: 0.8629423017946064\n",
      "AUC: 0.8631432382749178\n",
      "AUC: 0.8630178940920911\n",
      "AUC: 0.8630996737335956\n",
      "AUC: 0.8629993576937718\n",
      "~~~~~~~~~~~~~~~~~~~~ Epoch:  6\n",
      "AUC: 0.8631021858401268\n",
      "AUC: 0.8631255157478472\n",
      "AUC: 0.8628556693656768\n",
      "AUC: 0.8631763474544913\n",
      "AUC: 0.8631579408269814\n",
      "AUC: 0.8628631143650709\n",
      "AUC: 0.8629817312932266\n",
      "AUC: 0.8630341250559089\n",
      "AUC: 0.8634191246071024\n",
      "AUC: 0.8633727163227363\n",
      "AUC: 0.8631245288488529\n",
      "AUC: 0.8634346137945657\n",
      "AUC: 0.863217858092387\n",
      "AUC: 0.8631795084150691\n",
      "AUC: 0.8633418004300512\n",
      "AUC: 0.8631019375132694\n",
      "AUC: 0.8629977171344045\n",
      "AUC: 0.8630911184728328\n",
      "AUC: 0.8631294745585858\n",
      "AUC: 0.8630082477952649\n",
      "AUC: 0.8632717209887995\n",
      "AUC: 0.8634803684185588\n",
      "AUC: 0.8631071603878174\n",
      "AUC: 0.863494175391827\n",
      "AUC: 0.8630430247700545\n",
      "AUC: 0.8631571766211042\n",
      "AUC: 0.8633746196279397\n",
      "AUC: 0.8633025391528506\n",
      "AUC: 0.8630847484884148\n",
      "AUC: 0.862850154907335\n",
      "AUC: 0.8628969332788239\n",
      "AUC: 0.862768240688695\n",
      "AUC: 0.8630446989737056\n",
      "AUC: 0.8629684562200655\n",
      "AUC: 0.8631361473415589\n",
      "AUC: 0.8631605458558202\n",
      "AUC: 0.8631994114121583\n",
      "AUC: 0.8631436804569347\n",
      "AUC: 0.8631444174269629\n",
      "~~~~~~~~~~~~~~~~~~~~ Epoch:  7\n",
      "AUC: 0.8632953697161626\n",
      "AUC: 0.8632134731207188\n",
      "AUC: 0.863107275739648\n",
      "AUC: 0.8631547398136848\n",
      "AUC: 0.8631199548283514\n",
      "AUC: 0.8629976898985556\n",
      "AUC: 0.8633197297798139\n",
      "AUC: 0.8631151308788838\n",
      "AUC: 0.8634476052944766\n",
      "AUC: 0.8633867011300767\n",
      "AUC: 0.8632144231712118\n",
      "AUC: 0.8635365960274967\n",
      "AUC: 0.8634897583779839\n",
      "AUC: 0.8632811477967262\n",
      "AUC: 0.8633737785208422\n",
      "AUC: 0.8631278548266323\n",
      "AUC: 0.8629669518399428\n",
      "AUC: 0.8630702237704233\n",
      "AUC: 0.8632328121755254\n",
      "AUC: 0.8632144712344746\n",
      "AUC: 0.8632735762307402\n"
     ]
    },
    {
     "name": "stdout",
     "output_type": "stream",
     "text": [
      "AUC: 0.8634503737384087\n",
      "AUC: 0.8631085013528471\n",
      "AUC: 0.863531727218984\n",
      "AUC: 0.8633242909834453\n",
      "AUC: 0.863329468998948\n",
      "AUC: 0.8633567977701262\n",
      "AUC: 0.8632715255315313\n",
      "AUC: 0.8632893778294112\n",
      "AUC: 0.8631091069499571\n",
      "AUC: 0.8630810652403823\n",
      "AUC: 0.862849791228647\n",
      "AUC: 0.8632119110646808\n",
      "AUC: 0.8629204842775527\n",
      "AUC: 0.863094282637628\n",
      "AUC: 0.8632315128653235\n",
      "AUC: 0.8633259780039664\n",
      "AUC: 0.8632049867506326\n",
      "AUC: 0.8631542015051424\n",
      "~~~~~~~~~~~~~~~~~~~~ Epoch:  8\n",
      "AUC: 0.8631195831391199\n",
      "AUC: 0.8632776279637868\n",
      "AUC: 0.8630959440244093\n",
      "AUC: 0.8631879002607385\n",
      "AUC: 0.8634027126049948\n",
      "AUC: 0.8630532334070545\n",
      "AUC: 0.8632594520399379\n",
      "AUC: 0.8632186495341129\n",
      "AUC: 0.8634747305978425\n",
      "AUC: 0.8634535603327266\n",
      "AUC: 0.8632896005225286\n",
      "AUC: 0.8633866402499439\n",
      "AUC: 0.863491504676529\n",
      "AUC: 0.8632780925753264\n",
      "AUC: 0.8635511047244007\n",
      "AUC: 0.8632862921679451\n",
      "AUC: 0.8631716949306608\n",
      "AUC: 0.8631904812579463\n",
      "AUC: 0.8632493667653122\n",
      "AUC: 0.8632548924384154\n",
      "AUC: 0.8632495269761878\n",
      "AUC: 0.8635754792070307\n",
      "AUC: 0.8632911818038715\n",
      "AUC: 0.8635742103368952\n",
      "AUC: 0.8633606380248167\n",
      "AUC: 0.8632977392350143\n",
      "AUC: 0.8635677410217341\n",
      "AUC: 0.8634513446163155\n",
      "AUC: 0.863319247545078\n",
      "AUC: 0.8630301293966689\n",
      "AUC: 0.8631793658273896\n",
      "AUC: 0.8629554887517858\n",
      "AUC: 0.8632792877484592\n",
      "AUC: 0.8630488436290602\n",
      "AUC: 0.8632492257797415\n",
      "AUC: 0.863374050879331\n",
      "AUC: 0.8633340654489718\n",
      "AUC: 0.8633677081307618\n",
      "AUC: 0.8633013103354339\n",
      "~~~~~~~~~~~~~~~~~~~~ Epoch:  9\n",
      "AUC: 0.8633455701919566\n",
      "AUC: 0.8633392546792361\n",
      "AUC: 0.8632421604801228\n",
      "AUC: 0.8633072109019861\n",
      "AUC: 0.8632443553691201\n",
      "AUC: 0.8631537657315604\n",
      "AUC: 0.8634589514286941\n",
      "AUC: 0.863228699562346\n",
      "AUC: 0.8633927202526771\n",
      "AUC: 0.8634803796333201\n",
      "AUC: 0.863259240561582\n",
      "AUC: 0.8635451512882595\n",
      "AUC: 0.8634831592920136\n",
      "AUC: 0.8633488368917122\n",
      "AUC: 0.8634713084935374\n",
      "AUC: 0.8632349926455438\n",
      "AUC: 0.8631141247545845\n",
      "AUC: 0.8633580874676756\n",
      "AUC: 0.8633694127744792\n",
      "AUC: 0.8632173486218021\n",
      "AUC: 0.863344149121489\n",
      "AUC: 0.8635211837412538\n",
      "AUC: 0.8631214207578641\n",
      "AUC: 0.8635902266181394\n",
      "AUC: 0.8633737304575796\n",
      "AUC: 0.8633916916988551\n",
      "AUC: 0.8635224830514557\n",
      "AUC: 0.8634294229621926\n",
      "AUC: 0.8633094762837685\n",
      "AUC: 0.8632008004404504\n",
      "AUC: 0.8632240069857966\n",
      "AUC: 0.8631057345110236\n",
      "AUC: 0.8632508967791752\n",
      "AUC: 0.8630668705567948\n",
      "AUC: 0.8632081413027755\n",
      "AUC: 0.8633701032833534\n",
      "AUC: 0.8633122255023957\n",
      "AUC: 0.8633267950794324\n",
      "AUC: 0.8632714502324196\n",
      "~~~~~~~~~~~~~~~~~~~~ Epoch:  10\n",
      "AUC: 0.8633191786544014\n",
      "AUC: 0.8633733491556954\n",
      "AUC: 0.8631935188561495\n",
      "AUC: 0.8634676925340727\n",
      "AUC: 0.863434254922204\n",
      "AUC: 0.8631991198283642\n",
      "AUC: 0.8634636584242226\n",
      "AUC: 0.8632658011969423\n",
      "AUC: 0.8634953785755037\n",
      "AUC: 0.8635626751538441\n",
      "AUC: 0.8634163321315387\n",
      "AUC: 0.8637281505589267\n",
      "AUC: 0.8635693078840985\n",
      "AUC: 0.8634739968320317\n",
      "AUC: 0.8635846608923174\n",
      "AUC: 0.8633597440481304\n",
      "AUC: 0.863212404514178\n",
      "AUC: 0.8633881077815655\n",
      "AUC: 0.86344098858531\n",
      "AUC: 0.8633503348634\n",
      "AUC: 0.8634376754244004\n",
      "AUC: 0.8636482758247344\n",
      "AUC: 0.8633237847170778\n",
      "AUC: 0.8636886665886088\n",
      "AUC: 0.8634747562315825\n",
      "AUC: 0.8633519978522899\n",
      "AUC: 0.8635183928677987\n",
      "AUC: 0.8635036374461463\n",
      "AUC: 0.863414845374612\n",
      "AUC: 0.86331406312114\n",
      "AUC: 0.8632565602336315\n",
      "AUC: 0.8631633126976438\n",
      "AUC: 0.8632543252919154\n",
      "AUC: 0.8632902525807925\n",
      "AUC: 0.8633004836473153\n",
      "AUC: 0.8633614246602166\n",
      "AUC: 0.863470526664464\n",
      "AUC: 0.8634357000243029\n",
      "AUC: 0.8633566295487065\n",
      "~~~~~~~~~~~~~~~~~~~~ Epoch:  11\n",
      "AUC: 0.863420734726403\n",
      "AUC: 0.8633868821683663\n",
      "AUC: 0.8632353707432103\n",
      "AUC: 0.8633850990213197\n",
      "AUC: 0.8633747862472505\n",
      "AUC: 0.8633147904785158\n",
      "AUC: 0.8633429299167248\n",
      "AUC: 0.8633460075676473\n",
      "AUC: 0.8635134679854799\n",
      "AUC: 0.863619907284973\n",
      "AUC: 0.8634999782297452\n",
      "AUC: 0.8635563628453413\n",
      "AUC: 0.8635582389146959\n",
      "AUC: 0.8634157729955824\n",
      "AUC: 0.8636125712289744\n",
      "AUC: 0.8633973599596375\n",
      "AUC: 0.8632554515743716\n",
      "AUC: 0.8633840608548451\n",
      "AUC: 0.8632901852922248\n",
      "AUC: 0.8633563347606953\n",
      "AUC: 0.8633400349062008\n",
      "AUC: 0.8636192808604489\n",
      "AUC: 0.8633791760252447\n",
      "AUC: 0.8635894127468908\n",
      "AUC: 0.863459196551334\n",
      "AUC: 0.8634588729253649\n",
      "AUC: 0.8635145926658272\n",
      "AUC: 0.8635351092705701\n",
      "AUC: 0.8634788287920432\n",
      "AUC: 0.8633522926403012\n",
      "AUC: 0.8633251753474791\n",
      "AUC: 0.863075408194361\n",
      "AUC: 0.8632998796523137\n",
      "AUC: 0.8632120424375987\n",
      "AUC: 0.8633056168037728\n",
      "AUC: 0.8634332455936871\n",
      "AUC: 0.8634045566321742\n",
      "AUC: 0.8634816388908031\n",
      "AUC: 0.8634172581504003\n",
      "~~~~~~~~~~~~~~~~~~~~ Epoch:  12\n",
      "AUC: 0.8634289583506531\n",
      "AUC: 0.8634549525652364\n",
      "AUC: 0.8633442772901896\n",
      "AUC: 0.8634718243725572\n",
      "AUC: 0.8634331334460741\n",
      "AUC: 0.863290862984229\n",
      "AUC: 0.8635004684750247\n",
      "AUC: 0.8634892793474654\n",
      "AUC: 0.8635829690654699\n",
      "AUC: 0.8635766054894869\n",
      "AUC: 0.8633880116550401\n",
      "AUC: 0.8635431582649657\n",
      "AUC: 0.8635135785309839\n",
      "AUC: 0.8634813072542903\n",
      "AUC: 0.8635755416892722\n",
      "AUC: 0.8634485809787097\n",
      "AUC: 0.8634034399623707\n",
      "AUC: 0.8634172100871375\n",
      "AUC: 0.8634492907128891\n",
      "AUC: 0.8633822136234481\n",
      "AUC: 0.8634363841247421\n",
      "AUC: 0.8636148638466057\n",
      "AUC: 0.8634014917981221\n",
      "AUC: 0.8635526699846563\n",
      "AUC: 0.8635568194463372\n",
      "AUC: 0.8634325502784865\n",
      "AUC: 0.8635573289169218\n",
      "AUC: 0.8635913961575321\n",
      "AUC: 0.8634551207866561\n",
      "AUC: 0.8633946572021642\n",
      "AUC: 0.8633846696561728\n",
      "AUC: 0.8632718795975666\n",
      "AUC: 0.8633768193232632\n",
      "AUC: 0.8631606067359531\n",
      "AUC: 0.8633385801914495\n",
      "AUC: 0.8634419626674342\n",
      "AUC: 0.8634397661763282\n",
      "AUC: 0.8634626090429867\n",
      "AUC: 0.8634029433086559\n",
      "~~~~~~~~~~~~~~~~~~~~ Epoch:  13\n",
      "AUC: 0.8634560660308227\n",
      "AUC: 0.8635154289665984\n",
      "AUC: 0.8633438158828675\n",
      "AUC: 0.8634578427694344\n",
      "AUC: 0.863406101065016\n",
      "AUC: 0.8632763110303887\n",
      "AUC: 0.8634797211666208\n",
      "AUC: 0.863436358491002\n",
      "AUC: 0.8636281949935734\n",
      "AUC: 0.8636073403438824\n",
      "AUC: 0.86345144234495\n",
      "AUC: 0.8636407875684038\n",
      "AUC: 0.8636218025796325\n",
      "AUC: 0.8634784378775064\n",
      "AUC: 0.8635965581519474\n",
      "AUC: 0.8635098728534287\n",
      "AUC: 0.8634431257983919\n",
      "AUC: 0.8634676588897887\n",
      "AUC: 0.8634458862317803\n",
      "AUC: 0.8634341539893524\n",
      "AUC: 0.8633185330045723\n",
      "AUC: 0.8635173434865631\n",
      "AUC: 0.8633607421618861\n",
      "AUC: 0.8636984939237244\n",
      "AUC: 0.8634690094674712\n",
      "AUC: 0.8634604381856208\n",
      "AUC: 0.8636196092927442\n",
      "AUC: 0.8635032994011986\n",
      "AUC: 0.8634859822076435\n",
      "AUC: 0.8634396364055189\n",
      "AUC: 0.8634093373247054\n",
      "AUC: 0.8632305932548969\n",
      "AUC: 0.8633466147668662\n",
      "AUC: 0.8633020649286585\n",
      "AUC: 0.8633965460883888\n",
      "AUC: 0.8634809451777111\n",
      "AUC: 0.8634501718727055\n",
      "AUC: 0.863519908462683\n",
      "AUC: 0.8634579260790898\n",
      "~~~~~~~~~~~~~~~~~~~~ Epoch:  14\n",
      "AUC: 0.8634397309299356\n",
      "AUC: 0.8634422574554456\n",
      "AUC: 0.8633419590388183\n",
      "AUC: 0.8634670885390714\n",
      "AUC: 0.8634816036444104\n",
      "AUC: 0.8633120364535624\n",
      "AUC: 0.8634814963031237\n",
      "AUC: 0.8634179758951235\n",
      "AUC: 0.863604639188518\n",
      "AUC: 0.8636272385346452\n",
      "AUC: 0.86345458728444\n",
      "AUC: 0.8635742103368951\n",
      "AUC: 0.863601612805076\n",
      "AUC: 0.8635386771667721\n",
      "AUC: 0.863637713121699\n",
      "AUC: 0.8634748683791957\n",
      "AUC: 0.863471226785991\n",
      "AUC: 0.8634464421635191\n",
      "AUC: 0.8634503256751461\n",
      "AUC: 0.8633752300313761\n",
      "AUC: 0.8634520928011052\n",
      "AUC: 0.8636093109376537\n",
      "AUC: 0.8633054870329635\n",
      "AUC: 0.8636025852850916\n",
      "AUC: 0.8635391962500094\n",
      "AUC: 0.8635016924861152\n",
      "AUC: 0.8635907681308993\n",
      "AUC: 0.8635526443509162\n",
      "AUC: 0.8635275425109106\n",
      "AUC: 0.8634531213549272\n",
      "AUC: 0.8633836955740485\n",
      "AUC: 0.8633715291601474\n",
      "AUC: 0.8634025588025542\n",
      "AUC: 0.8632795617090565\n",
      "AUC: 0.8634228414994187\n",
      "AUC: 0.8634331366502915\n",
      "AUC: 0.8634482813843722\n",
      "AUC: 0.8635257257195801\n",
      "AUC: 0.8634700684613594\n",
      "~~~~~~~~~~~~~~~~~~~~ Epoch:  15\n",
      "AUC: 0.8634993790410701\n",
      "AUC: 0.8634977160521803\n",
      "AUC: 0.8633786056745272\n",
      "AUC: 0.8634793911322168\n",
      "AUC: 0.8634353587751377\n",
      "AUC: 0.8634530668832295\n",
      "AUC: 0.8635783549922498\n",
      "AUC: 0.8633891235185174\n",
      "AUC: 0.8635831324805632\n",
      "AUC: 0.8636410487121312\n",
      "AUC: 0.863467769435293\n",
      "AUC: 0.8636271408060111\n",
      "AUC: 0.8636305725229687\n",
      "AUC: 0.863542325168412\n",
      "AUC: 0.8636581816631792\n",
      "AUC: 0.8635058371414697\n",
      "AUC: 0.8634406537445798\n",
      "AUC: 0.8634587848093834\n",
      "AUC: 0.8634224249511417\n",
      "AUC: 0.8633584831885385\n",
      "AUC: 0.8635092976963848\n",
      "AUC: 0.8635999033550321\n",
      "AUC: 0.8634151401626233\n",
      "AUC: 0.8636024923627835\n",
      "AUC: 0.8635107107563087\n",
      "AUC: 0.8634308680642916\n",
      "AUC: 0.863568280932385\n",
      "AUC: 0.8635814310410632\n",
      "AUC: 0.8635268584104713\n",
      "AUC: 0.8634589770624342\n",
      "AUC: 0.8634390692590189\n",
      "AUC: 0.8632829934260143\n",
      "AUC: 0.8634259079355797\n",
      "AUC: 0.8632818254887304\n",
      "AUC: 0.8633813324636318\n",
      "AUC: 0.863547727479141\n",
      "AUC: 0.8635833679905506\n",
      "AUC: 0.8635782236193316\n",
      "AUC: 0.8635195768261703\n",
      "~~~~~~~~~~~~~~~~~~~~ Epoch:  16\n",
      "AUC: 0.8635151117490643\n",
      "AUC: 0.863554169558453\n"
     ]
    },
    {
     "name": "stdout",
     "output_type": "stream",
     "text": [
      "AUC: 0.8634216655515909\n",
      "AUC: 0.8635076859749754\n",
      "AUC: 0.863542733706145\n",
      "AUC: 0.8633988947798268\n",
      "AUC: 0.8635784639356451\n",
      "AUC: 0.8634827683774767\n",
      "AUC: 0.8636811623111906\n",
      "AUC: 0.8636621500865704\n",
      "AUC: 0.8634240174472463\n",
      "AUC: 0.8636802795492655\n",
      "AUC: 0.8636428286549603\n",
      "AUC: 0.8636043476047244\n",
      "AUC: 0.8636652741986467\n",
      "AUC: 0.8635200734798851\n",
      "AUC: 0.8634595842616533\n",
      "AUC: 0.8634862465555884\n",
      "AUC: 0.8634668049658212\n",
      "AUC: 0.8634312637851546\n",
      "AUC: 0.8634760859818511\n",
      "AUC: 0.8635728149001678\n",
      "AUC: 0.8634094526765357\n",
      "AUC: 0.863622578000271\n",
      "AUC: 0.8635422482671915\n",
      "AUC: 0.8635233626091633\n",
      "AUC: 0.8636258879569632\n",
      "AUC: 0.8635945346885872\n",
      "AUC: 0.863528692824998\n",
      "AUC: 0.8635013496348413\n",
      "AUC: 0.8634427348838553\n",
      "AUC: 0.8632752648533701\n",
      "AUC: 0.8634294325748453\n",
      "AUC: 0.8633038961389676\n",
      "AUC: 0.8633172481133491\n",
      "AUC: 0.8634985523529515\n",
      "AUC: 0.8634349037762505\n",
      "AUC: 0.8635126525121224\n",
      "AUC: 0.8634718211683396\n",
      "~~~~~~~~~~~~~~~~~~~~ Epoch:  17\n",
      "AUC: 0.8635904877618669\n",
      "AUC: 0.863567603240381\n",
      "AUC: 0.863386970284348\n",
      "AUC: 0.8635315253532807\n",
      "AUC: 0.8634862321366096\n",
      "AUC: 0.8634145730161235\n",
      "AUC: 0.8635821728174178\n",
      "AUC: 0.8633970651716262\n",
      "AUC: 0.8635711631260392\n",
      "AUC: 0.8636700901375706\n",
      "AUC: 0.8635050825482452\n",
      "AUC: 0.8636157594254008\n",
      "AUC: 0.8636110075708274\n",
      "AUC: 0.8635567153092679\n",
      "AUC: 0.8636550126920577\n",
      "AUC: 0.8635108966009245\n",
      "AUC: 0.8634139786337746\n",
      "AUC: 0.8634989689012282\n",
      "AUC: 0.8634780645861659\n",
      "AUC: 0.8634464453677365\n",
      "AUC: 0.8635075850421239\n",
      "AUC: 0.8636370915035012\n",
      "AUC: 0.8634107984478918\n",
      "AUC: 0.8636072073688558\n",
      "AUC: 0.8635102813911618\n",
      "AUC: 0.8634901156482365\n",
      "AUC: 0.8636289672099942\n",
      "AUC: 0.8635352310308356\n",
      "AUC: 0.8635479149258654\n",
      "AUC: 0.8635184857901068\n",
      "AUC: 0.8634585028382421\n",
      "AUC: 0.863303090278263\n",
      "AUC: 0.8634220692829977\n",
      "AUC: 0.8632726325886824\n",
      "AUC: 0.8634302784882689\n",
      "AUC: 0.863500149655382\n",
      "AUC: 0.863471508757132\n",
      "AUC: 0.863486004637166\n",
      "AUC: 0.863458510848786\n",
      "~~~~~~~~~~~~~~~~~~~~ Epoch:  18\n",
      "AUC: 0.8635377159015178\n",
      "AUC: 0.863547370208888\n",
      "AUC: 0.8634687034646984\n",
      "AUC: 0.8635629715439641\n",
      "AUC: 0.8635202240781081\n",
      "AUC: 0.8634438563599851\n",
      "AUC: 0.8635427865757339\n",
      "AUC: 0.8634306533817182\n",
      "AUC: 0.8636126785702609\n",
      "AUC: 0.8637107869042175\n",
      "AUC: 0.8635508868376097\n",
      "AUC: 0.8635947525753782\n",
      "AUC: 0.8636313575562597\n",
      "AUC: 0.8635478748731464\n",
      "AUC: 0.8636894147733982\n",
      "AUC: 0.8635349762955433\n",
      "AUC: 0.8634680113537154\n",
      "AUC: 0.8635130530393116\n",
      "AUC: 0.8635141168395262\n",
      "AUC: 0.863463179393704\n",
      "AUC: 0.8634570064686632\n",
      "AUC: 0.8636087902523076\n",
      "AUC: 0.8633955736083734\n",
      "AUC: 0.8636305500934461\n",
      "AUC: 0.8635549129369163\n",
      "AUC: 0.863482165984584\n",
      "AUC: 0.863606810045884\n",
      "AUC: 0.863551617399203\n",
      "AUC: 0.8635557892904064\n",
      "AUC: 0.8635058323351436\n",
      "AUC: 0.863472162417505\n",
      "AUC: 0.8633735910741176\n",
      "AUC: 0.8634451764976009\n",
      "AUC: 0.8633652248621884\n",
      "AUC: 0.8634088550899695\n",
      "AUC: 0.863521906292303\n",
      "AUC: 0.8635153873117706\n",
      "AUC: 0.863523260074203\n",
      "AUC: 0.8634905482176011\n",
      "~~~~~~~~~~~~~~~~~~~~ Epoch:  19\n",
      "AUC: 0.8635315397722594\n",
      "AUC: 0.8635384128188273\n",
      "AUC: 0.8634025379751403\n",
      "AUC: 0.8635406589753045\n",
      "AUC: 0.8635584295656379\n",
      "AUC: 0.8634308055820501\n",
      "AUC: 0.8635748399656368\n",
      "AUC: 0.8634251068812011\n",
      "AUC: 0.8636743132962541\n",
      "AUC: 0.8636863451330198\n",
      "AUC: 0.8635571430723061\n",
      "AUC: 0.863606109924357\n",
      "AUC: 0.8636224882821806\n",
      "AUC: 0.8635294634393103\n",
      "AUC: 0.863668220476651\n",
      "AUC: 0.8636043716363555\n",
      "AUC: 0.8635242005120434\n",
      "AUC: 0.8635387909164938\n",
      "AUC: 0.863512673339536\n",
      "AUC: 0.8634835293791363\n",
      "AUC: 0.8635075690210361\n",
      "AUC: 0.863601809864453\n",
      "AUC: 0.8634849071926674\n",
      "AUC: 0.8636814971519209\n",
      "AUC: 0.8635551965101662\n",
      "AUC: 0.8635188078139671\n",
      "AUC: 0.8636286371755902\n",
      "AUC: 0.8636002093578047\n",
      "AUC: 0.8635219094965206\n",
      "AUC: 0.8634711707121843\n",
      "AUC: 0.8634749084319145\n",
      "AUC: 0.8633259331449211\n",
      "AUC: 0.8634563896567917\n",
      "AUC: 0.8633597376396952\n",
      "AUC: 0.8634737949663284\n",
      "AUC: 0.8634934672597565\n",
      "AUC: 0.8635691797153979\n",
      "AUC: 0.8635733259728613\n",
      "AUC: 0.8635389094725417\n",
      "~~~~~~~~~~~~~~~~~~~~ Epoch:  20\n",
      "AUC: 0.863584973303525\n",
      "AUC: 0.8635499271744643\n",
      "AUC: 0.8634851747448299\n",
      "AUC: 0.8635786898329798\n",
      "AUC: 0.8635530865329332\n",
      "AUC: 0.8633912334957504\n",
      "AUC: 0.8635764372680674\n",
      "AUC: 0.8634999558002225\n",
      "AUC: 0.8636407058608573\n",
      "AUC: 0.8636697120399037\n",
      "AUC: 0.8635239601957296\n",
      "AUC: 0.863618845086867\n",
      "AUC: 0.863676907110332\n",
      "AUC: 0.8635889978007228\n",
      "AUC: 0.863628374429754\n",
      "AUC: 0.8635243975714204\n",
      "AUC: 0.8634866006216236\n",
      "AUC: 0.8634914694301363\n",
      "AUC: 0.8635194855059711\n",
      "AUC: 0.8634780133186857\n",
      "AUC: 0.8635359167333836\n",
      "AUC: 0.8635764741165688\n",
      "AUC: 0.8633731136457079\n",
      "AUC: 0.863670779044336\n",
      "AUC: 0.8635730472059374\n",
      "AUC: 0.8635553663336946\n",
      "AUC: 0.863640390245432\n",
      "AUC: 0.8636423336033543\n",
      "AUC: 0.863577329642645\n",
      "AUC: 0.8635038313013058\n",
      "AUC: 0.8634997347092139\n",
      "AUC: 0.8633629370508831\n",
      "AUC: 0.8634491112767082\n",
      "AUC: 0.8634157137175584\n",
      "AUC: 0.8634716705701164\n",
      "AUC: 0.8635530464802141\n",
      "AUC: 0.8635076651475616\n",
      "AUC: 0.8635437382283357\n",
      "AUC: 0.8635103278523159\n",
      "~~~~~~~~~~~~~~~~~~~~ Epoch:  21\n",
      "AUC: 0.8635581796366719\n",
      "AUC: 0.8635720843385746\n",
      "AUC: 0.8634924595333483\n",
      "AUC: 0.8635682825344939\n",
      "AUC: 0.8635079150765277\n",
      "AUC: 0.8633571085792249\n",
      "AUC: 0.8635617042759374\n",
      "AUC: 0.8634918331088242\n",
      "AUC: 0.8636296641273035\n",
      "AUC: 0.8637041653887245\n",
      "AUC: 0.8635226721002891\n",
      "AUC: 0.8636272305241014\n",
      "AUC: 0.8636006659588006\n",
      "AUC: 0.8635820398423909\n",
      "AUC: 0.8636579477553008\n",
      "AUC: 0.863586774073768\n",
      "AUC: 0.8635559511033908\n",
      "AUC: 0.8635424677560912\n",
      "AUC: 0.8634867095650192\n",
      "AUC: 0.863456697261673\n",
      "AUC: 0.8634668466206489\n",
      "AUC: 0.8635865065216056\n",
      "AUC: 0.863501852696991\n",
      "AUC: 0.8636992837633418\n",
      "AUC: 0.8636006387229517\n",
      "AUC: 0.8635735086132595\n",
      "AUC: 0.8636734545659605\n",
      "AUC: 0.8636287140768105\n",
      "AUC: 0.8635652273130943\n",
      "AUC: 0.863498185470046\n",
      "AUC: 0.8634875939290529\n",
      "AUC: 0.8633167290301118\n",
      "AUC: 0.8634164827297618\n",
      "AUC: 0.8633875550540442\n",
      "AUC: 0.8634619361573086\n",
      "AUC: 0.8635530224485828\n",
      "AUC: 0.8635380491401393\n",
      "AUC: 0.8635620999968004\n",
      "AUC: 0.8635284220686181\n",
      "~~~~~~~~~~~~~~~~~~~~ Epoch:  22\n",
      "AUC: 0.8635898645415603\n",
      "AUC: 0.8636034712512343\n",
      "AUC: 0.8634753810539979\n",
      "AUC: 0.8635486070368483\n",
      "AUC: 0.8635649132997778\n",
      "AUC: 0.8634296328384399\n",
      "AUC: 0.8636002686358288\n",
      "AUC: 0.8635251329393399\n",
      "AUC: 0.8636750022030197\n",
      "AUC: 0.8636865598155932\n",
      "AUC: 0.8635863030537935\n",
      "AUC: 0.8636508087586792\n",
      "AUC: 0.8636646253446002\n",
      "AUC: 0.863606399906042\n",
      "AUC: 0.8636976383976483\n",
      "AUC: 0.8636091491246692\n",
      "AUC: 0.8635767016160123\n",
      "AUC: 0.8635914442207948\n",
      "AUC: 0.8635712079850842\n",
      "AUC: 0.8635350483904373\n",
      "AUC: 0.8635717559062793\n",
      "AUC: 0.8636489166682372\n",
      "AUC: 0.8635412597660883\n",
      "AUC: 0.8636710882513262\n",
      "AUC: 0.8636063502406707\n",
      "AUC: 0.8635845551531395\n",
      "AUC: 0.8636628566165323\n",
      "AUC: 0.8636271584292075\n",
      "AUC: 0.8636119624276466\n",
      "AUC: 0.8635444095119049\n",
      "AUC: 0.8635011061143102\n",
      "AUC: 0.8633823962638464\n",
      "AUC: 0.8634460592595261\n",
      "AUC: 0.8633736615669029\n",
      "AUC: 0.8634281653068183\n",
      "AUC: 0.863542898723347\n",
      "AUC: 0.8635561866133782\n",
      "AUC: 0.8635614463364275\n",
      "AUC: 0.863531970739515\n",
      "~~~~~~~~~~~~~~~~~~~~ Epoch:  23\n",
      "AUC: 0.8635983172673627\n",
      "AUC: 0.8635935349727228\n",
      "AUC: 0.86348945397732\n",
      "AUC: 0.8635581251649741\n",
      "AUC: 0.8635580018026\n",
      "AUC: 0.8634525926590373\n",
      "AUC: 0.8635961688395193\n",
      "AUC: 0.8635457584874784\n",
      "AUC: 0.8636425883386467\n",
      "AUC: 0.8637067592028023\n",
      "AUC: 0.863574514737559\n",
      "AUC: 0.8636737028928178\n",
      "AUC: 0.8636733456225647\n",
      "AUC: 0.863608424971511\n",
      "AUC: 0.863669322727476\n",
      "AUC: 0.8636117141007893\n",
      "AUC: 0.8635481952948978\n",
      "AUC: 0.8635498967343979\n",
      "AUC: 0.8635095540337863\n",
      "AUC: 0.8634869306560276\n",
      "AUC: 0.86351384127682\n",
      "AUC: 0.863568949011737\n",
      "AUC: 0.863463727314899\n",
      "AUC: 0.8636465872021044\n",
      "AUC: 0.8635945539138924\n",
      "AUC: 0.8635758781321112\n",
      "AUC: 0.8636708959982754\n",
      "AUC: 0.8636319343154123\n",
      "AUC: 0.8636168648804432\n",
      "AUC: 0.8635665186127526\n",
      "AUC: 0.8635384288399148\n",
      "AUC: 0.8634086307947433\n",
      "AUC: 0.8634860414856675\n",
      "AUC: 0.8633676264232152\n",
      "AUC: 0.8634684343104273\n",
      "AUC: 0.86355435380096\n",
      "AUC: 0.8635476361589417\n",
      "AUC: 0.8635704790256\n",
      "AUC: 0.8635411364037142\n",
      "~~~~~~~~~~~~~~~~~~~~ Epoch:  24\n",
      "AUC: 0.8635597432948189\n",
      "AUC: 0.8635329288005518\n",
      "AUC: 0.8634750926744216\n",
      "AUC: 0.8635713906254827\n",
      "AUC: 0.8635405916867367\n",
      "AUC: 0.8634632867349907\n",
      "AUC: 0.8635993426169672\n",
      "AUC: 0.8635348897816704\n",
      "AUC: 0.8636661409394844\n",
      "AUC: 0.8636837144704406\n",
      "AUC: 0.863550093793775\n",
      "AUC: 0.8636590820483008\n",
      "AUC: 0.8636520119423559\n",
      "AUC: 0.8635944321536269\n",
      "AUC: 0.8636887691235693\n",
      "AUC: 0.8635939451125647\n",
      "AUC: 0.8635315173427368\n",
      "AUC: 0.8635628529879162\n",
      "AUC: 0.8635414712444445\n",
      "AUC: 0.8635079695482255\n",
      "AUC: 0.8635273758915999\n",
      "AUC: 0.8635960951425166\n",
      "AUC: 0.8635154738256434\n"
     ]
    },
    {
     "name": "stdout",
     "output_type": "stream",
     "text": [
      "AUC: 0.8636751800370918\n",
      "AUC: 0.8636221246034926\n",
      "AUC: 0.8635422883199105\n",
      "AUC: 0.8636378332798558\n",
      "AUC: 0.8636306478220803\n",
      "AUC: 0.8635971188900124\n",
      "AUC: 0.8635471090651605\n",
      "AUC: 0.8635689714412595\n",
      "AUC: 0.8634374911818933\n",
      "AUC: 0.8634831705067747\n",
      "AUC: 0.8634095616199313\n",
      "AUC: 0.8634616782177986\n",
      "AUC: 0.8635541022698852\n",
      "AUC: 0.8635516190013117\n",
      "AUC: 0.8635700656815406\n",
      "AUC: 0.8635420800457722\n",
      "~~~~~~~~~~~~~~~~~~~~ Epoch:  25\n",
      "AUC: 0.8636098075913683\n",
      "AUC: 0.863594167805682\n",
      "AUC: 0.8634879191571307\n",
      "AUC: 0.8636192263887512\n",
      "AUC: 0.8635782188130053\n",
      "AUC: 0.8634573589325898\n",
      "AUC: 0.8635798866082214\n",
      "AUC: 0.8635496115590391\n",
      "AUC: 0.8636784595537175\n",
      "AUC: 0.8636798437756835\n",
      "AUC: 0.863560137413573\n",
      "AUC: 0.8636142294115379\n",
      "AUC: 0.8636714487257966\n",
      "AUC: 0.8636109146485196\n",
      "AUC: 0.8636943861168714\n",
      "AUC: 0.8636070663832851\n",
      "AUC: 0.8635762129728415\n",
      "AUC: 0.8635990494310647\n",
      "AUC: 0.8635858496570151\n",
      "AUC: 0.8635636412254248\n",
      "AUC: 0.8635684795938712\n",
      "AUC: 0.8636255563204505\n",
      "AUC: 0.8634741266028411\n",
      "AUC: 0.863643793124432\n",
      "AUC: 0.8636153973488219\n",
      "AUC: 0.8635840344677934\n",
      "AUC: 0.8636552674273502\n",
      "AUC: 0.8636368239513387\n",
      "AUC: 0.8636260017066847\n",
      "AUC: 0.8635750097891649\n",
      "AUC: 0.8635428282305617\n",
      "AUC: 0.8634040151194144\n",
      "AUC: 0.8634568446556787\n",
      "AUC: 0.8633765838132758\n",
      "AUC: 0.8634662906889105\n",
      "AUC: 0.8635581876472157\n",
      "AUC: 0.8635244264093782\n",
      "AUC: 0.8635860643395887\n",
      "AUC: 0.8635588220822835\n",
      "~~~~~~~~~~~~~~~~~~~~ Epoch:  26\n",
      "AUC: 0.8635888295793034\n",
      "AUC: 0.8635904092585378\n",
      "AUC: 0.8634895276743226\n",
      "AUC: 0.8635826166015435\n",
      "AUC: 0.8635586987199092\n",
      "AUC: 0.8634607345757408\n",
      "AUC: 0.8635842139039742\n",
      "AUC: 0.8635121174077973\n",
      "AUC: 0.863621378020812\n",
      "AUC: 0.8636744590881511\n",
      "AUC: 0.8635220296546774\n",
      "AUC: 0.8636172766223938\n",
      "AUC: 0.8636611760044463\n",
      "AUC: 0.8636273330590619\n",
      "AUC: 0.8636644779505946\n",
      "AUC: 0.8635882752496735\n",
      "AUC: 0.8635747246138061\n",
      "AUC: 0.863581288453384\n",
      "AUC: 0.8635386963920771\n",
      "AUC: 0.8634910592902946\n",
      "AUC: 0.8635351589359415\n",
      "AUC: 0.8635725745838542\n",
      "AUC: 0.8634723066072931\n",
      "AUC: 0.863625934418117\n",
      "AUC: 0.8636019925048515\n",
      "AUC: 0.863580759757494\n",
      "AUC: 0.8636416543092414\n",
      "AUC: 0.8636186207916411\n",
      "AUC: 0.8636003631602456\n",
      "AUC: 0.8635744746848399\n",
      "AUC: 0.8635559655223696\n",
      "AUC: 0.8634508351457308\n",
      "AUC: 0.8634852196038749\n",
      "AUC: 0.8633828640796035\n",
      "AUC: 0.8634595378004991\n",
      "AUC: 0.863556668848114\n",
      "AUC: 0.8635675183286167\n",
      "AUC: 0.8635740212880616\n",
      "AUC: 0.8635508563975433\n",
      "~~~~~~~~~~~~~~~~~~~~ Epoch:  27\n",
      "AUC: 0.863587624793518\n",
      "AUC: 0.8636306446178628\n",
      "AUC: 0.8634906347314739\n",
      "AUC: 0.8635990462268471\n",
      "AUC: 0.8635807950038867\n",
      "AUC: 0.8634696118603636\n",
      "AUC: 0.8635821728174178\n",
      "AUC: 0.8635148922601648\n",
      "AUC: 0.8636451821527245\n",
      "AUC: 0.8636928801346397\n",
      "AUC: 0.8635874181214883\n",
      "AUC: 0.8636365948497866\n",
      "AUC: 0.863653559579415\n",
      "AUC: 0.8635921827929318\n",
      "AUC: 0.8636613346132131\n",
      "AUC: 0.8636043956679871\n",
      "AUC: 0.8635733275749701\n",
      "AUC: 0.8635942767490773\n",
      "AUC: 0.8635671947026479\n",
      "AUC: 0.8635483683226436\n",
      "AUC: 0.8635361041801082\n",
      "AUC: 0.8636048730963967\n",
      "AUC: 0.863505313251906\n",
      "AUC: 0.8636691272702077\n",
      "AUC: 0.8636384821339024\n",
      "AUC: 0.8636217256784121\n",
      "AUC: 0.8636784050820197\n",
      "AUC: 0.8636591653579562\n",
      "AUC: 0.8636458694573812\n",
      "AUC: 0.8636011465914277\n",
      "AUC: 0.8635731913957256\n",
      "AUC: 0.8634615228132493\n",
      "AUC: 0.8634833275134329\n",
      "AUC: 0.8633989957126785\n",
      "AUC: 0.8634622277411025\n",
      "AUC: 0.8635552013164924\n",
      "AUC: 0.8635649245145391\n",
      "AUC: 0.8635793755355279\n",
      "AUC: 0.8635579088802918\n",
      "~~~~~~~~~~~~~~~~~~~~ Epoch:  28\n",
      "AUC: 0.8635960935404079\n",
      "AUC: 0.8635864680709954\n",
      "AUC: 0.8635249326757451\n",
      "AUC: 0.8636097242817129\n",
      "AUC: 0.8635701281637822\n",
      "AUC: 0.863498020452844\n",
      "AUC: 0.8636036779232638\n",
      "AUC: 0.8635113387829415\n",
      "AUC: 0.8636456195284151\n",
      "AUC: 0.8636790731613715\n",
      "AUC: 0.8635483074425108\n",
      "AUC: 0.8636240198981524\n",
      "AUC: 0.8636663396009703\n",
      "AUC: 0.863612270032528\n",
      "AUC: 0.8636764985725988\n",
      "AUC: 0.863605457866093\n",
      "AUC: 0.863575371865744\n",
      "AUC: 0.8636131143438429\n",
      "AUC: 0.8635587483852807\n",
      "AUC: 0.8635635178630503\n",
      "AUC: 0.8635225567484583\n",
      "AUC: 0.8636108553704955\n",
      "AUC: 0.8634931820843976\n",
      "AUC: 0.8636783794482794\n",
      "AUC: 0.8636210063315803\n",
      "AUC: 0.8636091363077991\n",
      "AUC: 0.8636599471870295\n",
      "AUC: 0.8636424665783812\n",
      "AUC: 0.8636401034679645\n",
      "AUC: 0.8635806444056635\n",
      "AUC: 0.863565578174912\n",
      "AUC: 0.8634471230597408\n",
      "AUC: 0.863501034019416\n",
      "AUC: 0.86339851668216\n",
      "AUC: 0.8634691440446066\n",
      "AUC: 0.8635664577326196\n",
      "AUC: 0.8635725441437878\n",
      "AUC: 0.8636055924432284\n",
      "AUC: 0.8635826598584798\n",
      "~~~~~~~~~~~~~~~~~~~~ Epoch:  29\n",
      "AUC: 0.863586734021049\n",
      "AUC: 0.8636243947916015\n",
      "AUC: 0.863568301759799\n",
      "AUC: 0.8636090369770562\n",
      "AUC: 0.863566151729847\n",
      "AUC: 0.8634830679718143\n",
      "AUC: 0.8635728373296903\n",
      "AUC: 0.8635448869403144\n",
      "AUC: 0.8636461161821297\n",
      "AUC: 0.8636982568116285\n",
      "AUC: 0.8635843244494785\n",
      "AUC: 0.8636299733342936\n",
      "AUC: 0.8636509401315974\n",
      "AUC: 0.8636077761174644\n",
      "AUC: 0.8636895637695128\n",
      "AUC: 0.8636376586500012\n",
      "AUC: 0.8635821984511578\n",
      "AUC: 0.8635903547868402\n",
      "AUC: 0.8635585913786223\n",
      "AUC: 0.8635240338927325\n",
      "AUC: 0.8635662494584811\n",
      "AUC: 0.8636178934342654\n",
      "AUC: 0.863523336975423\n",
      "AUC: 0.863680559918298\n",
      "AUC: 0.8636257710030237\n",
      "AUC: 0.8636225860108148\n",
      "AUC: 0.8636631738340663\n",
      "AUC: 0.863663255541613\n",
      "AUC: 0.8636135645364036\n",
      "AUC: 0.8635843677064148\n",
      "AUC: 0.8635696507353725\n",
      "AUC: 0.8634936899528736\n",
      "AUC: 0.8635052667907522\n",
      "AUC: 0.8634202172452746\n",
      "AUC: 0.8635067631603315\n",
      "AUC: 0.863568684663792\n",
      "AUC: 0.8635673549135235\n",
      "AUC: 0.8636000219110802\n",
      "AUC: 0.8635761280610772\n",
      "~~~~~~~~~~~~~~~~~~~~ Epoch:  30\n",
      "AUC: 0.8636080660991494\n",
      "AUC: 0.8636168616762259\n",
      "AUC: 0.8635190048733441\n",
      "AUC: 0.8636215029852948\n",
      "AUC: 0.8635736463946126\n",
      "AUC: 0.8634756534124868\n",
      "AUC: 0.8635985704005464\n",
      "AUC: 0.8635400693992821\n",
      "AUC: 0.8636616934855748\n",
      "AUC: 0.8636991940452513\n",
      "AUC: 0.863544811641203\n",
      "AUC: 0.8636120249098881\n",
      "AUC: 0.8636486827603586\n",
      "AUC: 0.8636371988447878\n",
      "AUC: 0.8636854239204843\n",
      "AUC: 0.8636246943859389\n",
      "AUC: 0.8635775427231098\n",
      "AUC: 0.8636061291496621\n",
      "AUC: 0.8635558838148231\n",
      "AUC: 0.8635318377644883\n",
      "AUC: 0.8635597272737312\n",
      "AUC: 0.8635761216526423\n",
      "AUC: 0.8635079855693129\n",
      "AUC: 0.8636232124353388\n",
      "AUC: 0.8636033687162736\n",
      "AUC: 0.8635691108247213\n",
      "AUC: 0.8636408708780592\n",
      "AUC: 0.8636240919930463\n",
      "AUC: 0.8636037035570039\n",
      "AUC: 0.8635732330505533\n",
      "AUC: 0.8635905502441084\n",
      "AUC: 0.8634823806671575\n",
      "AUC: 0.8635062969466829\n",
      "AUC: 0.8634166990144441\n",
      "AUC: 0.8634871197048609\n",
      "AUC: 0.8635552605945165\n",
      "AUC: 0.8635787090582849\n",
      "AUC: 0.863600398406638\n",
      "AUC: 0.8635774433923669\n",
      "~~~~~~~~~~~~~~~~~~~~ Epoch:  31\n",
      "AUC: 0.8636077777195732\n",
      "AUC: 0.8636303802699179\n",
      "AUC: 0.8635471923748159\n",
      "AUC: 0.863600497737381\n",
      "AUC: 0.863560006040655\n",
      "AUC: 0.8634739920257055\n",
      "AUC: 0.8635879115709855\n",
      "AUC: 0.8635357693393779\n",
      "AUC: 0.8636330205451495\n",
      "AUC: 0.863685835662435\n",
      "AUC: 0.8635844301886563\n",
      "AUC: 0.863637751572309\n",
      "AUC: 0.8636433301150013\n",
      "AUC: 0.8636044533439022\n",
      "AUC: 0.8636733119782809\n",
      "AUC: 0.8636328811616876\n",
      "AUC: 0.8636000587595816\n",
      "AUC: 0.8636002381957624\n",
      "AUC: 0.8635529359347099\n",
      "AUC: 0.863517587007094\n",
      "AUC: 0.8635424597455476\n",
      "AUC: 0.8636149856068713\n",
      "AUC: 0.863531297853837\n",
      "AUC: 0.8636391117626439\n",
      "AUC: 0.8636127458588289\n",
      "AUC: 0.8635968465315237\n",
      "AUC: 0.863670601210264\n",
      "AUC: 0.8636386872038231\n",
      "AUC: 0.8636129124781396\n",
      "AUC: 0.8635950425570633\n",
      "AUC: 0.863561015369172\n",
      "AUC: 0.8634762413864004\n",
      "AUC: 0.8634909407342466\n",
      "AUC: 0.8633903267021938\n",
      "AUC: 0.8634758232360148\n",
      "AUC: 0.8635662286310672\n",
      "AUC: 0.8635663776271818\n",
      "AUC: 0.8636164867827767\n",
      "AUC: 0.8635931072096846\n",
      "~~~~~~~~~~~~~~~~~~~~ Epoch:  32\n",
      "AUC: 0.8636170987883218\n",
      "AUC: 0.8636220861528825\n",
      "AUC: 0.8635587291599756\n",
      "AUC: 0.8636373542493374\n",
      "AUC: 0.8635705591310379\n",
      "AUC: 0.8634871693702324\n",
      "AUC: 0.8635813429250815\n",
      "AUC: 0.8635300418005715\n",
      "AUC: 0.8636460184534955\n",
      "AUC: 0.8637009515585579\n",
      "AUC: 0.8635995316658005\n",
      "AUC: 0.8636501358730011\n",
      "AUC: 0.8636729531059195\n",
      "AUC: 0.8636177989098486\n",
      "AUC: 0.8636700965460056\n",
      "AUC: 0.8636185502988558\n",
      "AUC: 0.8635994339371663\n",
      "AUC: 0.8636090033327724\n",
      "AUC: 0.8635790230716012\n",
      "AUC: 0.863548900222751\n",
      "AUC: 0.8635681527636847\n",
      "AUC: 0.8636190421462442\n",
      "AUC: 0.863540517989734\n",
      "AUC: 0.8636753402479675\n",
      "AUC: 0.863635543866442\n",
      "AUC: 0.8636065360852865\n",
      "AUC: 0.8636600657430775\n",
      "AUC: 0.8636563905055888\n",
      "AUC: 0.8636490272137414\n",
      "AUC: 0.863624325900925\n",
      "AUC: 0.8635736848452228\n",
      "AUC: 0.8634608387128101\n",
      "AUC: 0.8634996113468396\n",
      "AUC: 0.8634187000482816\n",
      "AUC: 0.8634700123875529\n",
      "AUC: 0.8635469568648286\n",
      "AUC: 0.8635686269878768\n",
      "AUC: 0.8636080020147991\n",
      "AUC: 0.863587605568213\n",
      "~~~~~~~~~~~~~~~~~~~~ Epoch:  33\n",
      "AUC: 0.8636124190286424\n",
      "AUC: 0.8636157145663557\n",
      "AUC: 0.8635684507559135\n",
      "AUC: 0.8636221342161452\n"
     ]
    },
    {
     "name": "stdout",
     "output_type": "stream",
     "text": [
      "AUC: 0.8635923285848288\n",
      "AUC: 0.8634888515844272\n",
      "AUC: 0.863590500578737\n",
      "AUC: 0.8635504734935504\n",
      "AUC: 0.8636405728858304\n",
      "AUC: 0.8636921223371976\n",
      "AUC: 0.8635974457201989\n",
      "AUC: 0.863638551024579\n",
      "AUC: 0.8636388329957202\n",
      "AUC: 0.8636146940230774\n",
      "AUC: 0.8636766315476256\n",
      "AUC: 0.8636463308647033\n",
      "AUC: 0.8636040271829728\n",
      "AUC: 0.8636236289836156\n",
      "AUC: 0.8635998905381621\n",
      "AUC: 0.8635548504546747\n",
      "AUC: 0.8635870592491268\n",
      "AUC: 0.8635905182019332\n",
      "AUC: 0.8635128159272156\n",
      "AUC: 0.8636117157028981\n",
      "AUC: 0.8636195740463515\n",
      "AUC: 0.8636083865209009\n",
      "AUC: 0.8636627348562669\n",
      "AUC: 0.8636416927598515\n",
      "AUC: 0.8636358899219334\n",
      "AUC: 0.8635828729389445\n",
      "AUC: 0.8635678836094136\n",
      "AUC: 0.8634844313663665\n",
      "AUC: 0.8635066702380234\n",
      "AUC: 0.8634019516033353\n",
      "AUC: 0.8634729586655573\n",
      "AUC: 0.8635650959401763\n",
      "AUC: 0.8635654019429487\n",
      "AUC: 0.8635915051009276\n",
      "AUC: 0.8635733612192538\n",
      "~~~~~~~~~~~~~~~~~~~~ Epoch:  34\n",
      "AUC: 0.8636180584514672\n",
      "AUC: 0.8636034696491254\n",
      "AUC: 0.8635390584686563\n",
      "AUC: 0.8636314584891114\n",
      "AUC: 0.863586621873436\n",
      "AUC: 0.8635178593655828\n",
      "AUC: 0.863607138478179\n",
      "AUC: 0.8635581572071493\n",
      "AUC: 0.8636486859645761\n",
      "AUC: 0.8636960346867825\n",
      "AUC: 0.863613667071364\n",
      "AUC: 0.8636495126526947\n",
      "AUC: 0.8636536300722004\n",
      "AUC: 0.8636158219076424\n",
      "AUC: 0.8636752985931396\n",
      "AUC: 0.8636377355512215\n",
      "AUC: 0.8636113824642766\n",
      "AUC: 0.8636288454497286\n",
      "AUC: 0.8636079074903826\n",
      "AUC: 0.863576994801915\n",
      "AUC: 0.8635697228302666\n",
      "AUC: 0.8636234703748487\n",
      "AUC: 0.8635350820347213\n",
      "AUC: 0.8636757904405281\n",
      "AUC: 0.8636300710629277\n",
      "AUC: 0.8636132377062173\n",
      "AUC: 0.8636780814560507\n",
      "AUC: 0.8636653895504772\n",
      "AUC: 0.8636397157576453\n",
      "AUC: 0.8635966414616028\n",
      "AUC: 0.8636134475824644\n",
      "AUC: 0.8635098119732959\n",
      "AUC: 0.8635429003254558\n",
      "AUC: 0.8634621444314471\n",
      "AUC: 0.8635165280132057\n",
      "AUC: 0.8635765462114628\n",
      "AUC: 0.86357022108609\n",
      "AUC: 0.8635929021397639\n",
      "AUC: 0.863576169715905\n",
      "~~~~~~~~~~~~~~~~~~~~ Epoch:  35\n",
      "AUC: 0.86360761430448\n",
      "AUC: 0.8636229384747414\n",
      "AUC: 0.8635665090000999\n",
      "AUC: 0.8636128676190944\n",
      "AUC: 0.8635944177346478\n",
      "AUC: 0.8635122567912594\n",
      "AUC: 0.8636081718383275\n",
      "AUC: 0.8635505343736831\n",
      "AUC: 0.8636489503125211\n",
      "AUC: 0.8636808386852216\n",
      "AUC: 0.8635886052840773\n",
      "AUC: 0.8636185262672245\n",
      "AUC: 0.8636530437003953\n",
      "AUC: 0.8636197422677709\n",
      "AUC: 0.863668992693072\n",
      "AUC: 0.8636265640468584\n",
      "AUC: 0.8635994339371664\n",
      "AUC: 0.8636047513361311\n",
      "AUC: 0.8635479245385179\n",
      "AUC: 0.8635478860879078\n",
      "AUC: 0.8635698269673359\n",
      "AUC: 0.8636045686957328\n",
      "AUC: 0.8635305688943526\n",
      "AUC: 0.8636618953512781\n",
      "AUC: 0.8636316411295097\n",
      "AUC: 0.8636021126630082\n",
      "AUC: 0.8636557240283458\n",
      "AUC: 0.8636473498058727\n",
      "AUC: 0.8636349815262683\n",
      "AUC: 0.8636095608666199\n",
      "AUC: 0.8636194699092822\n",
      "AUC: 0.8635042830959754\n",
      "AUC: 0.86350533407932\n",
      "AUC: 0.8634386543128509\n",
      "AUC: 0.8634890470416957\n",
      "AUC: 0.8635739171509926\n",
      "AUC: 0.8635795501653825\n",
      "AUC: 0.8635964924654883\n",
      "AUC: 0.8635789381598372\n",
      "~~~~~~~~~~~~~~~~~~~~ Epoch:  36\n",
      "AUC: 0.8636141797461665\n",
      "AUC: 0.8636289143404051\n",
      "AUC: 0.8635429900435462\n",
      "AUC: 0.8636406802271172\n",
      "AUC: 0.8635801093013387\n",
      "AUC: 0.8635187421275079\n",
      "AUC: 0.8636154374015407\n",
      "AUC: 0.8635611707737212\n",
      "AUC: 0.863660043313555\n",
      "AUC: 0.8636943396557175\n",
      "AUC: 0.8635824595948853\n",
      "AUC: 0.8636280379869151\n",
      "AUC: 0.863638688805932\n",
      "AUC: 0.8636111309332017\n",
      "AUC: 0.8636535723962853\n",
      "AUC: 0.8636269581656127\n",
      "AUC: 0.8636272257177753\n",
      "AUC: 0.8636376346183698\n",
      "AUC: 0.863614519393223\n",
      "AUC: 0.8635749857575334\n",
      "AUC: 0.8635820750887836\n",
      "AUC: 0.8636162144242879\n",
      "AUC: 0.863545853011895\n",
      "AUC: 0.8636635551359506\n",
      "AUC: 0.8636417039746129\n",
      "AUC: 0.8636275557521792\n",
      "AUC: 0.8636755645431933\n",
      "AUC: 0.8636615765316356\n",
      "AUC: 0.863656758990603\n",
      "AUC: 0.8636197919331425\n",
      "AUC: 0.8636288919108824\n",
      "AUC: 0.8635344075469344\n",
      "AUC: 0.863512006862293\n",
      "AUC: 0.8634551688499188\n",
      "AUC: 0.863506284129813\n",
      "AUC: 0.863587229072655\n",
      "AUC: 0.8635805803213132\n",
      "AUC: 0.8636120233077794\n",
      "AUC: 0.8635959525548373\n",
      "~~~~~~~~~~~~~~~~~~~~ Epoch:  37\n",
      "AUC: 0.8636069846757384\n",
      "AUC: 0.8636254970424263\n",
      "AUC: 0.8635731817830731\n",
      "AUC: 0.8636396052121411\n",
      "AUC: 0.8635978494516056\n",
      "AUC: 0.8635284300791619\n",
      "AUC: 0.8636193785890831\n",
      "AUC: 0.8635704213496845\n",
      "AUC: 0.8636483383069758\n",
      "AUC: 0.8636944646202006\n",
      "AUC: 0.8635915932169093\n",
      "AUC: 0.8636176451074079\n",
      "AUC: 0.8636525822930733\n",
      "AUC: 0.863615897206754\n",
      "AUC: 0.8636568423002583\n",
      "AUC: 0.8636300870840153\n",
      "AUC: 0.8636073050974897\n",
      "AUC: 0.8636139105918953\n",
      "AUC: 0.8635580098131437\n",
      "AUC: 0.8635359519797763\n",
      "AUC: 0.8635642227909035\n",
      "AUC: 0.8635847393956466\n",
      "AUC: 0.8635339813860052\n",
      "AUC: 0.8636461113758036\n",
      "AUC: 0.8636222399553233\n",
      "AUC: 0.8636206811035027\n",
      "AUC: 0.8636690359500085\n",
      "AUC: 0.8636427693769363\n",
      "AUC: 0.8636557608768473\n",
      "AUC: 0.863639539525682\n",
      "AUC: 0.8636360116821988\n",
      "AUC: 0.8635115566697324\n",
      "AUC: 0.8635195784282791\n",
      "AUC: 0.8634457965136898\n",
      "AUC: 0.8634995072097705\n",
      "AUC: 0.863573518225912\n",
      "AUC: 0.8635654612209727\n",
      "AUC: 0.8636005329837737\n",
      "AUC: 0.8635852136198385\n",
      "~~~~~~~~~~~~~~~~~~~~ Epoch:  38\n",
      "AUC: 0.8636165316418218\n",
      "AUC: 0.8636324758281722\n",
      "AUC: 0.863560783063402\n",
      "AUC: 0.8636084874537525\n",
      "AUC: 0.863580139741405\n",
      "AUC: 0.8635144372612777\n",
      "AUC: 0.8636073419459913\n",
      "AUC: 0.8635526443509163\n",
      "AUC: 0.8636422775295479\n",
      "AUC: 0.8636844562467951\n",
      "AUC: 0.8635795501653825\n",
      "AUC: 0.8636116371995689\n",
      "AUC: 0.8636420708575183\n",
      "AUC: 0.8636063262090393\n",
      "AUC: 0.8636652117164053\n",
      "AUC: 0.8636328859680138\n",
      "AUC: 0.8636216760130409\n",
      "AUC: 0.8636248561989236\n",
      "AUC: 0.8635793418912441\n",
      "AUC: 0.863546881565717\n",
      "AUC: 0.8635719561698738\n",
      "AUC: 0.8636144056435011\n",
      "AUC: 0.8635374627683342\n",
      "AUC: 0.863623191607925\n",
      "AUC: 0.8636254922361002\n",
      "AUC: 0.8635992272651367\n",
      "AUC: 0.8636565827586398\n",
      "AUC: 0.863655393993942\n",
      "AUC: 0.8636671871165027\n",
      "AUC: 0.8636372789502258\n",
      "AUC: 0.8636322403181849\n",
      "AUC: 0.8635533220429205\n",
      "AUC: 0.8635425286362239\n",
      "AUC: 0.8634647142138933\n",
      "AUC: 0.8634986420710418\n",
      "AUC: 0.863575306179285\n",
      "AUC: 0.8635902041886169\n",
      "AUC: 0.8635979471802397\n",
      "AUC: 0.8635827415660264\n",
      "~~~~~~~~~~~~~~~~~~~~ Epoch:  39\n",
      "AUC: 0.8636249090685126\n",
      "AUC: 0.8636261298753853\n",
      "AUC: 0.8635356443748949\n",
      "AUC: 0.8636096281551877\n",
      "AUC: 0.8635663119407229\n",
      "AUC: 0.8635162123977804\n",
      "AUC: 0.8636073771923838\n",
      "AUC: 0.8635710686016224\n",
      "AUC: 0.8636524637370254\n",
      "AUC: 0.8636930131096666\n",
      "AUC: 0.8635946965015717\n",
      "AUC: 0.8636183788732187\n",
      "AUC: 0.863638714439672\n",
      "AUC: 0.8636014926469192\n",
      "AUC: 0.86367563343387\n",
      "AUC: 0.8636348517554588\n",
      "AUC: 0.8636196701728769\n",
      "AUC: 0.8636464430123162\n",
      "AUC: 0.8636231675762934\n",
      "AUC: 0.8635815912519389\n",
      "AUC: 0.8635765205777227\n",
      "AUC: 0.8636187473582327\n",
      "AUC: 0.8635649213103216\n",
      "AUC: 0.8636748868511892\n",
      "AUC: 0.8636270126373107\n",
      "AUC: 0.8636058231468896\n",
      "AUC: 0.8636648208018685\n",
      "AUC: 0.863652854651562\n",
      "AUC: 0.8636389291222456\n",
      "AUC: 0.8636170811651254\n",
      "AUC: 0.8635913256647467\n",
      "AUC: 0.8635156644765856\n",
      "AUC: 0.8635283067167876\n",
      "AUC: 0.863458259317711\n",
      "AUC: 0.863502161903981\n",
      "AUC: 0.8635789109239883\n",
      "AUC: 0.8635860899733286\n",
      "AUC: 0.8636110075708273\n",
      "AUC: 0.8635959060936833\n",
      "~~~~~~~~~~~~~~~~~~~~ Epoch:  40\n",
      "AUC: 0.8636179751418119\n",
      "AUC: 0.8636238917294519\n",
      "AUC: 0.8635751187325603\n",
      "AUC: 0.8636265448215534\n",
      "AUC: 0.8636019348289362\n",
      "AUC: 0.863540465120145\n",
      "AUC: 0.8636029393511268\n",
      "AUC: 0.8635666868341719\n",
      "AUC: 0.86364221024098\n",
      "AUC: 0.8636751239632854\n",
      "AUC: 0.8635884659006154\n",
      "AUC: 0.8636107816734926\n",
      "AUC: 0.8636323492615803\n",
      "AUC: 0.8636086460625194\n",
      "AUC: 0.8636700244511115\n",
      "AUC: 0.8636392992093684\n",
      "AUC: 0.8636196205075053\n",
      "AUC: 0.863639704542884\n",
      "AUC: 0.8635868445665533\n",
      "AUC: 0.8635563436200364\n",
      "AUC: 0.8635762930782792\n",
      "AUC: 0.8636003968045294\n",
      "AUC: 0.8635197081990885\n",
      "AUC: 0.8636337206666764\n",
      "AUC: 0.8636179687333769\n",
      "AUC: 0.8636184285385902\n",
      "AUC: 0.8636624208429505\n",
      "AUC: 0.8636310884019885\n",
      "AUC: 0.8636393440684136\n",
      "AUC: 0.8636201556118303\n",
      "AUC: 0.8635905790820662\n",
      "AUC: 0.8635045506481378\n",
      "AUC: 0.8635099641736279\n",
      "AUC: 0.8634567629481321\n",
      "AUC: 0.8634855143918863\n",
      "AUC: 0.8635683338019743\n",
      "AUC: 0.8635691925322679\n",
      "AUC: 0.8636054610703104\n",
      "AUC: 0.863590862655316\n",
      "~~~~~~~~~~~~~~~~~~~~ Epoch:  41\n",
      "AUC: 0.8636194458776509\n",
      "AUC: 0.8636218153965025\n",
      "AUC: 0.8635561241311366\n",
      "AUC: 0.8636257645945887\n",
      "AUC: 0.8635900616009375\n",
      "AUC: 0.863532425738402\n",
      "AUC: 0.8636157610275096\n",
      "AUC: 0.8635885139638781\n",
      "AUC: 0.8636474170944405\n",
      "AUC: 0.8636920053832585\n",
      "AUC: 0.8635823522535986\n",
      "AUC: 0.8636275060868077\n",
      "AUC: 0.8636382738597639\n",
      "AUC: 0.8636087774354375\n",
      "AUC: 0.8636645196054223\n",
      "AUC: 0.8636390973436651\n",
      "AUC: 0.8636339593808813\n",
      "AUC: 0.8636494421599095\n",
      "AUC: 0.863583576264689\n",
      "AUC: 0.8635590383669657\n",
      "AUC: 0.8635764100322186\n",
      "AUC: 0.8636093477861551\n",
      "AUC: 0.8635344347827835\n",
      "AUC: 0.8636345986222752\n",
      "AUC: 0.863627510893134\n"
     ]
    },
    {
     "name": "stdout",
     "output_type": "stream",
     "text": [
      "AUC: 0.8636180985041861\n",
      "AUC: 0.8636503457492485\n",
      "AUC: 0.8636379726633177\n",
      "AUC: 0.8636370226128246\n",
      "AUC: 0.8636069686546508\n",
      "AUC: 0.8635885219744219\n",
      "AUC: 0.8635114781664035\n",
      "AUC: 0.8635196761569133\n",
      "AUC: 0.8634449441918313\n",
      "AUC: 0.8635029581520334\n",
      "AUC: 0.8635722221199276\n",
      "AUC: 0.863583166124847\n",
      "AUC: 0.8635984886929996\n",
      "AUC: 0.8635855548690039\n",
      "~~~~~~~~~~~~~~~~~~~~ Epoch:  42\n",
      "AUC: 0.8636216840235844\n",
      "AUC: 0.8636251974480889\n",
      "AUC: 0.8635694216338201\n",
      "AUC: 0.8636097611302144\n",
      "AUC: 0.8635892653528852\n",
      "AUC: 0.8635345693599191\n",
      "AUC: 0.863596692729083\n",
      "AUC: 0.8635332203843455\n",
      "AUC: 0.8636317612876665\n",
      "AUC: 0.8636776104360763\n",
      "AUC: 0.863574692571631\n",
      "AUC: 0.8636109547012385\n",
      "AUC: 0.8636378621178133\n",
      "AUC: 0.8636188915480207\n",
      "AUC: 0.8636654872791116\n",
      "AUC: 0.863630221661151\n",
      "AUC: 0.8636303338087639\n",
      "AUC: 0.8636417119851566\n",
      "AUC: 0.8636214725452287\n",
      "AUC: 0.8635908177962709\n",
      "AUC: 0.8635778599406437\n",
      "AUC: 0.8636199521440182\n",
      "AUC: 0.8635659803042101\n",
      "AUC: 0.8636667449344857\n",
      "AUC: 0.863634348693309\n",
      "AUC: 0.8636231131045958\n",
      "AUC: 0.8636647823512582\n",
      "AUC: 0.8636629591514929\n",
      "AUC: 0.8636729867502033\n",
      "AUC: 0.8636434134246564\n",
      "AUC: 0.8636406642060295\n",
      "AUC: 0.8635493728448342\n",
      "AUC: 0.8635367498299373\n",
      "AUC: 0.8634650362377536\n",
      "AUC: 0.863509001306265\n",
      "AUC: 0.863582336232511\n",
      "AUC: 0.8635865449722159\n",
      "AUC: 0.8636111309332017\n",
      "AUC: 0.8635981506480519\n",
      "~~~~~~~~~~~~~~~~~~~~ Epoch:  43\n",
      "AUC: 0.8636140708027711\n",
      "AUC: 0.8636296545146509\n",
      "AUC: 0.8635834272685745\n",
      "AUC: 0.8636185599115083\n",
      "AUC: 0.8636084650242299\n",
      "AUC: 0.8635488329341834\n",
      "AUC: 0.8636279931278698\n",
      "AUC: 0.8635833503673541\n",
      "AUC: 0.8636653831420422\n",
      "AUC: 0.8636811559027555\n",
      "AUC: 0.8635833984306167\n",
      "AUC: 0.8636119239770365\n",
      "AUC: 0.8636409237476481\n",
      "AUC: 0.8636146699914462\n",
      "AUC: 0.8636504562947527\n",
      "AUC: 0.8636325142787822\n",
      "AUC: 0.8636305292660322\n",
      "AUC: 0.8636419891499716\n",
      "AUC: 0.8635953405492922\n",
      "AUC: 0.8635629491144416\n",
      "AUC: 0.8635811731015534\n",
      "AUC: 0.863603221322268\n",
      "AUC: 0.8635364342145122\n",
      "AUC: 0.863628685238853\n",
      "AUC: 0.8636210736201481\n",
      "AUC: 0.863607013513696\n",
      "AUC: 0.8636680410404702\n",
      "AUC: 0.8636617271298586\n",
      "AUC: 0.8636483030605833\n",
      "AUC: 0.863609129899364\n",
      "AUC: 0.8635969282390703\n",
      "AUC: 0.8635046980421434\n",
      "AUC: 0.8635272797650744\n",
      "AUC: 0.863461735893714\n",
      "AUC: 0.8635116832363243\n",
      "AUC: 0.8635844349949827\n",
      "AUC: 0.863581017697004\n",
      "AUC: 0.8636063246069305\n",
      "AUC: 0.8635945715370887\n",
      "~~~~~~~~~~~~~~~~~~~~ Epoch:  44\n",
      "AUC: 0.8636309954796806\n",
      "AUC: 0.8636398551411071\n",
      "AUC: 0.8635914281997074\n",
      "AUC: 0.8636158010802286\n",
      "AUC: 0.8635981778839009\n",
      "AUC: 0.8635365607811041\n",
      "AUC: 0.8636202869847482\n",
      "AUC: 0.8635749585216846\n",
      "AUC: 0.8636571338840521\n",
      "AUC: 0.8636808531042005\n",
      "AUC: 0.8636083096196805\n",
      "AUC: 0.8636298579824631\n",
      "AUC: 0.8636475676926637\n",
      "AUC: 0.8636274420024574\n",
      "AUC: 0.8636677270271538\n",
      "AUC: 0.8636343518975266\n",
      "AUC: 0.8636340250673402\n",
      "AUC: 0.8636414139929278\n",
      "AUC: 0.8636227782638655\n",
      "AUC: 0.8635951595110025\n",
      "AUC: 0.8636026734010732\n",
      "AUC: 0.8636355054158317\n",
      "AUC: 0.8635615616882583\n",
      "AUC: 0.863652209001733\n",
      "AUC: 0.8636276759103358\n",
      "AUC: 0.8636155495491536\n",
      "AUC: 0.8636604758829194\n",
      "AUC: 0.8636495382864349\n",
      "AUC: 0.8636394594202442\n",
      "AUC: 0.8636219996390095\n",
      "AUC: 0.8635980272856776\n",
      "AUC: 0.8635214769271561\n",
      "AUC: 0.8635221097601153\n",
      "AUC: 0.863457810727259\n",
      "AUC: 0.8635209001680038\n",
      "AUC: 0.8635858448506889\n",
      "AUC: 0.8635980673383966\n",
      "AUC: 0.8636103795441946\n",
      "AUC: 0.8635988860159713\n",
      "~~~~~~~~~~~~~~~~~~~~ Epoch:  45\n",
      "AUC: 0.863629271610658\n",
      "AUC: 0.8636299605174235\n",
      "AUC: 0.8635964251769206\n",
      "AUC: 0.8636382402154799\n",
      "AUC: 0.8636027374854234\n",
      "AUC: 0.8635326500336282\n",
      "AUC: 0.8635974216885676\n",
      "AUC: 0.863551702310967\n",
      "AUC: 0.8636568583213459\n",
      "AUC: 0.8636893747206793\n",
      "AUC: 0.8635944674000194\n",
      "AUC: 0.8636262628504121\n",
      "AUC: 0.8636402796999277\n",
      "AUC: 0.8636145402206367\n",
      "AUC: 0.8636593528046805\n",
      "AUC: 0.8636419362803825\n",
      "AUC: 0.8636341340107357\n",
      "AUC: 0.8636483719512598\n",
      "AUC: 0.8635868974361424\n",
      "AUC: 0.8635782700804856\n",
      "AUC: 0.8635810513412878\n",
      "AUC: 0.863612612883802\n",
      "AUC: 0.8635365431579076\n",
      "AUC: 0.863630827258261\n",
      "AUC: 0.86362856027437\n",
      "AUC: 0.8636148526318445\n",
      "AUC: 0.8636613217963431\n",
      "AUC: 0.8636519238263742\n",
      "AUC: 0.8636418289390959\n",
      "AUC: 0.8636096730142327\n",
      "AUC: 0.8636007332473684\n",
      "AUC: 0.8635153728927918\n",
      "AUC: 0.8635221257812028\n",
      "AUC: 0.8634581840185996\n",
      "AUC: 0.8635152767662665\n",
      "AUC: 0.8635733948635378\n",
      "AUC: 0.8635836563701267\n",
      "AUC: 0.8636098700736099\n",
      "AUC: 0.8635984358234108\n",
      "~~~~~~~~~~~~~~~~~~~~ Epoch:  46\n",
      "AUC: 0.8636257597882624\n",
      "AUC: 0.8636383619757455\n",
      "AUC: 0.8635997896053105\n",
      "AUC: 0.8636447287559462\n",
      "AUC: 0.8635991775997651\n",
      "AUC: 0.8635355626673483\n",
      "AUC: 0.8636174288227257\n",
      "AUC: 0.8635918495543105\n",
      "AUC: 0.863656871138216\n",
      "AUC: 0.8636963038410537\n",
      "AUC: 0.8636029665869756\n",
      "AUC: 0.8636260145235549\n",
      "AUC: 0.8636424233214447\n",
      "AUC: 0.8636241929258981\n",
      "AUC: 0.8636670285077359\n",
      "AUC: 0.8636334354913175\n",
      "AUC: 0.863629535958603\n",
      "AUC: 0.8636433941993514\n",
      "AUC: 0.8635933875787173\n",
      "AUC: 0.8635654067492751\n",
      "AUC: 0.8635743945794021\n",
      "AUC: 0.8636055587989446\n",
      "AUC: 0.863548544554607\n",
      "AUC: 0.8636313591583683\n",
      "AUC: 0.863631078789336\n",
      "AUC: 0.8636242554081396\n",
      "AUC: 0.8636745055493049\n",
      "AUC: 0.8636616277991158\n",
      "AUC: 0.8636548508790732\n",
      "AUC: 0.8636287605379644\n",
      "AUC: 0.8636099421685038\n",
      "AUC: 0.863516769931628\n",
      "AUC: 0.8635323248055502\n",
      "AUC: 0.8634717843198383\n",
      "AUC: 0.8635067823856364\n",
      "AUC: 0.863570966066662\n",
      "AUC: 0.8635784607314276\n",
      "AUC: 0.8636125568099955\n",
      "AUC: 0.8635997783905491\n",
      "~~~~~~~~~~~~~~~~~~~~ Epoch:  47\n",
      "AUC: 0.8636287701506169\n",
      "AUC: 0.863634600224384\n",
      "AUC: 0.8636033318677723\n",
      "AUC: 0.8636371427709815\n",
      "AUC: 0.863611135739528\n",
      "AUC: 0.8635506817676888\n",
      "AUC: 0.8636163762372724\n",
      "AUC: 0.863563573936857\n",
      "AUC: 0.8636352843248234\n",
      "AUC: 0.8636780414033318\n",
      "AUC: 0.8635919152407695\n",
      "AUC: 0.8636210624053867\n",
      "AUC: 0.8636465984168655\n",
      "AUC: 0.8636251798248925\n",
      "AUC: 0.8636656122435945\n",
      "AUC: 0.8636360164885252\n",
      "AUC: 0.8636367518564446\n",
      "AUC: 0.8636471239085379\n",
      "AUC: 0.8635994531624716\n",
      "AUC: 0.8635829322169685\n",
      "AUC: 0.8635954975559502\n",
      "AUC: 0.8636118919348613\n",
      "AUC: 0.863551960250477\n",
      "AUC: 0.8636442433169929\n",
      "AUC: 0.8636382610428939\n",
      "AUC: 0.8636107143849248\n",
      "AUC: 0.8636749220975819\n",
      "AUC: 0.8636588657636186\n",
      "AUC: 0.8636530997742018\n",
      "AUC: 0.8636318413931042\n",
      "AUC: 0.8636157289853345\n",
      "AUC: 0.8635281641291082\n",
      "AUC: 0.8635495010135349\n",
      "AUC: 0.863498693338522\n",
      "AUC: 0.8635308588760375\n",
      "AUC: 0.863594106925549\n",
      "AUC: 0.8635988139210773\n",
      "AUC: 0.8636212626689814\n",
      "AUC: 0.8636089600758359\n",
      "~~~~~~~~~~~~~~~~~~~~ Epoch:  48\n",
      "AUC: 0.8636372421017244\n",
      "AUC: 0.8636376073825209\n",
      "AUC: 0.8635980224793515\n",
      "AUC: 0.86363622956899\n",
      "AUC: 0.8635921667718444\n",
      "AUC: 0.8635413062272425\n",
      "AUC: 0.8636151682472696\n",
      "AUC: 0.8635644951493923\n",
      "AUC: 0.8636576866115734\n",
      "AUC: 0.8636948443199761\n",
      "AUC: 0.8635999466119686\n",
      "AUC: 0.8636119383960151\n",
      "AUC: 0.8636247841040294\n",
      "AUC: 0.8636076880014829\n",
      "AUC: 0.8636583082297711\n",
      "AUC: 0.8636362728259264\n",
      "AUC: 0.8636339033070748\n",
      "AUC: 0.8636425867365379\n",
      "AUC: 0.8635928076153472\n",
      "AUC: 0.8635738050033795\n",
      "AUC: 0.8635936807646197\n",
      "AUC: 0.8636114289254305\n",
      "AUC: 0.8635451464819331\n",
      "AUC: 0.8636299444963359\n",
      "AUC: 0.8636218618576565\n",
      "AUC: 0.863614822191778\n",
      "AUC: 0.8636596652158883\n",
      "AUC: 0.8636521240899688\n",
      "AUC: 0.8636827339798814\n",
      "AUC: 0.8636475052104222\n",
      "AUC: 0.8636113311967965\n",
      "AUC: 0.8635403305430093\n",
      "AUC: 0.8635443790718386\n",
      "AUC: 0.863490463305837\n",
      "AUC: 0.8635192179538089\n",
      "AUC: 0.8635818539977749\n",
      "AUC: 0.8635890154239192\n",
      "AUC: 0.863613628620754\n",
      "AUC: 0.8636024459016296\n",
      "~~~~~~~~~~~~~~~~~~~~ Epoch:  49\n",
      "AUC: 0.8636287893759221\n",
      "AUC: 0.863635034395857\n",
      "AUC: 0.8635922388667384\n",
      "AUC: 0.863628533038521\n",
      "AUC: 0.8636013708866538\n",
      "AUC: 0.8635463368487397\n",
      "AUC: 0.8636047817761976\n",
      "AUC: 0.8635722701831902\n",
      "AUC: 0.8636522186143856\n",
      "AUC: 0.863682682712401\n",
      "AUC: 0.8636016672767737\n",
      "AUC: 0.8636233085618642\n",
      "AUC: 0.8636330493831073\n",
      "AUC: 0.8636122732367455\n",
      "AUC: 0.8636566884978176\n",
      "AUC: 0.8636379085789673\n",
      "AUC: 0.8636385141760775\n",
      "AUC: 0.8636383988242471\n",
      "AUC: 0.8636014686152879\n",
      "AUC: 0.8635743753540972\n",
      "AUC: 0.8635940925065703\n",
      "AUC: 0.8636119512128855\n",
      "AUC: 0.8635450807954741\n",
      "AUC: 0.8636329276228416\n",
      "AUC: 0.8636207756279194\n",
      "AUC: 0.8636190293293741\n",
      "AUC: 0.8636637041320648\n",
      "AUC: 0.8636604230133305\n",
      "AUC: 0.8636525005855267\n",
      "AUC: 0.8636222607827369\n",
      "AUC: 0.8636103923610647\n",
      "AUC: 0.863537220849912\n",
      "AUC: 0.8635475961062228\n",
      "AUC: 0.8634765457870642\n",
      "AUC: 0.8635257962123652\n",
      "AUC: 0.8635874709910774\n",
      "AUC: 0.863587011185864\n",
      "AUC: 0.8636114385380832\n",
      "AUC: 0.8636005137584686\n",
      "~~~~~~~~~~~~~~~~~~~~ Epoch:  50\n",
      "AUC: 0.8636195179725449\n",
      "AUC: 0.8636410310889348\n",
      "AUC: 0.8635972807029968\n",
      "AUC: 0.8636424185151185\n",
      "AUC: 0.863603208505398\n",
      "AUC: 0.863544270128443\n"
     ]
    },
    {
     "name": "stdout",
     "output_type": "stream",
     "text": [
      "AUC: 0.86361609586824\n",
      "AUC: 0.8635747870960476\n",
      "AUC: 0.8636584219794927\n",
      "AUC: 0.8636784611558261\n",
      "AUC: 0.8635970660204235\n",
      "AUC: 0.8636262804736086\n",
      "AUC: 0.863641082356415\n",
      "AUC: 0.8636195420041763\n",
      "AUC: 0.8636592262380888\n",
      "AUC: 0.8636314376616975\n",
      "AUC: 0.8636384532959448\n",
      "AUC: 0.8636460825378458\n",
      "AUC: 0.8636074060303416\n",
      "AUC: 0.8635759630438753\n",
      "AUC: 0.8635891083462269\n",
      "AUC: 0.8636144729320689\n",
      "AUC: 0.8635453066928088\n",
      "AUC: 0.8636241208310039\n",
      "AUC: 0.863619642937028\n",
      "AUC: 0.8636167559370478\n",
      "AUC: 0.8636605223440732\n",
      "AUC: 0.86365325678086\n",
      "AUC: 0.8636508920683346\n",
      "AUC: 0.863643041735425\n",
      "AUC: 0.8636410358952613\n",
      "AUC: 0.8635678916199573\n",
      "AUC: 0.8635581299713004\n",
      "AUC: 0.8634964535904797\n",
      "AUC: 0.8635309293688229\n",
      "AUC: 0.863598097778463\n",
      "AUC: 0.863608167032001\n",
      "AUC: 0.8636186816717738\n",
      "AUC: 0.8636081478066959\n",
      "~~~~~~~~~~~~~~~~~~~~ Epoch:  51\n",
      "AUC: 0.8636302681223049\n",
      "AUC: 0.8636352026172766\n",
      "AUC: 0.8636000988123005\n",
      "AUC: 0.86364132107062\n",
      "AUC: 0.8636023994404758\n",
      "AUC: 0.8635488217194218\n",
      "AUC: 0.863618547094638\n",
      "AUC: 0.8635757531676281\n",
      "AUC: 0.8636400345772879\n",
      "AUC: 0.8636839403677754\n",
      "AUC: 0.8635980368983301\n",
      "AUC: 0.863613139977583\n",
      "AUC: 0.8636333601922059\n",
      "AUC: 0.863614320731737\n",
      "AUC: 0.8636605383651608\n",
      "AUC: 0.8636465920084306\n",
      "AUC: 0.8636520391782048\n",
      "AUC: 0.8636556391165817\n",
      "AUC: 0.8636041249116071\n",
      "AUC: 0.8635662606732425\n",
      "AUC: 0.8635843917380462\n",
      "AUC: 0.8636022953034066\n",
      "AUC: 0.8635418717716337\n",
      "AUC: 0.8636328250878813\n",
      "AUC: 0.863626916510785\n",
      "AUC: 0.8636236546173556\n",
      "AUC: 0.8636620139073262\n",
      "AUC: 0.8636557384473248\n",
      "AUC: 0.8636469925356197\n",
      "AUC: 0.8636263878148954\n",
      "AUC: 0.8636480515295082\n",
      "AUC: 0.8635760014944855\n",
      "AUC: 0.8635482369497256\n",
      "AUC: 0.8634896221987395\n",
      "AUC: 0.8635301891945771\n",
      "AUC: 0.8635890266386804\n",
      "AUC: 0.8635879356026169\n",
      "AUC: 0.8636104916918078\n",
      "AUC: 0.8635994419477102\n",
      "~~~~~~~~~~~~~~~~~~~~ Epoch:  52\n",
      "AUC: 0.863619122251682\n",
      "AUC: 0.8636333153331609\n",
      "AUC: 0.8635746316914983\n",
      "AUC: 0.8636430833902526\n",
      "AUC: 0.8636141845524927\n",
      "AUC: 0.8635581299713004\n",
      "AUC: 0.863618904364891\n",
      "AUC: 0.8635723679118246\n",
      "AUC: 0.863653533945675\n",
      "AUC: 0.8636719037246836\n",
      "AUC: 0.8635934372440887\n",
      "AUC: 0.8636155575596973\n",
      "AUC: 0.8636466801244123\n",
      "AUC: 0.8636223713282412\n",
      "AUC: 0.8636693355443459\n",
      "AUC: 0.8636488702070833\n",
      "AUC: 0.863647902533394\n",
      "AUC: 0.8636589490732739\n",
      "AUC: 0.8636080148316692\n",
      "AUC: 0.8635812147563809\n",
      "AUC: 0.8635893374477792\n",
      "AUC: 0.8636143383549334\n",
      "AUC: 0.8635625966505152\n",
      "AUC: 0.8636430417354249\n",
      "AUC: 0.8636345233231637\n",
      "AUC: 0.8636195179725449\n",
      "AUC: 0.8636645404328358\n",
      "AUC: 0.8636578484245578\n",
      "AUC: 0.8636807153228474\n",
      "AUC: 0.8636677430482416\n",
      "AUC: 0.8636585645671723\n",
      "AUC: 0.8635924535493118\n",
      "AUC: 0.8635620246976887\n",
      "AUC: 0.8634981422131096\n",
      "AUC: 0.8635321261440645\n",
      "AUC: 0.8635863575254912\n",
      "AUC: 0.8635909363523189\n",
      "AUC: 0.8636132793610449\n",
      "AUC: 0.8636039246480123\n",
      "~~~~~~~~~~~~~~~~~~~~ Epoch:  53\n",
      "AUC: 0.8636295487754729\n",
      "AUC: 0.8636365195506748\n",
      "AUC: 0.863591628463302\n",
      "AUC: 0.8636420356111255\n",
      "AUC: 0.8636035833988471\n",
      "AUC: 0.8635571526849586\n",
      "AUC: 0.8636172349675661\n",
      "AUC: 0.8635870464322568\n",
      "AUC: 0.8636442144790352\n",
      "AUC: 0.8636812279976496\n",
      "AUC: 0.8636031123788727\n",
      "AUC: 0.8636229560979376\n",
      "AUC: 0.86363963244799\n",
      "AUC: 0.8636254890318825\n",
      "AUC: 0.8636590227702767\n",
      "AUC: 0.8636492098541396\n",
      "AUC: 0.8636549678330127\n",
      "AUC: 0.8636649505726779\n",
      "AUC: 0.863618212253908\n",
      "AUC: 0.8635876007618867\n",
      "AUC: 0.8635936663456409\n",
      "AUC: 0.8636161551462638\n",
      "AUC: 0.8635535591550164\n",
      "AUC: 0.863625096515237\n",
      "AUC: 0.8636247776955943\n",
      "AUC: 0.8636249811634065\n",
      "AUC: 0.8636713221592047\n",
      "AUC: 0.8636621436781354\n",
      "AUC: 0.8636897143677359\n",
      "AUC: 0.8636658637746695\n",
      "AUC: 0.8636526143352485\n",
      "AUC: 0.8635804153041112\n",
      "AUC: 0.8635535703697778\n",
      "AUC: 0.8634976455593948\n",
      "AUC: 0.8635263281124727\n",
      "AUC: 0.8635825877635857\n",
      "AUC: 0.8635896210210293\n",
      "AUC: 0.863613351455939\n",
      "AUC: 0.863603735599179\n",
      "~~~~~~~~~~~~~~~~~~~~ Epoch:  54\n",
      "AUC: 0.8636354733736565\n",
      "AUC: 0.8636431763125606\n",
      "AUC: 0.8636115394709347\n",
      "AUC: 0.8636466368674759\n",
      "AUC: 0.8636068100458839\n",
      "AUC: 0.8635601390156817\n",
      "AUC: 0.8636187761961904\n",
      "AUC: 0.8635756890832778\n",
      "AUC: 0.8636546666365663\n",
      "AUC: 0.863685050629144\n",
      "AUC: 0.863593514145309\n",
      "AUC: 0.8636129845730336\n",
      "AUC: 0.863633440297644\n",
      "AUC: 0.8636091651457567\n",
      "AUC: 0.8636474587492682\n",
      "AUC: 0.8636360469285917\n",
      "AUC: 0.8636429936721622\n",
      "AUC: 0.8636495030400422\n",
      "AUC: 0.8635993618422722\n",
      "AUC: 0.8635826630626975\n",
      "AUC: 0.8635980352962215\n",
      "AUC: 0.8636187281329277\n",
      "AUC: 0.863549012370364\n",
      "AUC: 0.8636287813653785\n",
      "AUC: 0.8636247584702892\n",
      "AUC: 0.8636237683670774\n",
      "AUC: 0.863663467019969\n",
      "AUC: 0.8636552033429998\n",
      "AUC: 0.8636431042176664\n",
      "AUC: 0.8636224754653106\n",
      "AUC: 0.8636175345619037\n",
      "AUC: 0.8635416362616465\n",
      "AUC: 0.8635539340484657\n",
      "AUC: 0.8634980364739316\n",
      "AUC: 0.8635199805575771\n",
      "AUC: 0.8635781034611749\n",
      "AUC: 0.8635835890815591\n",
      "AUC: 0.8636150128427202\n",
      "AUC: 0.863605754256213\n",
      "~~~~~~~~~~~~~~~~~~~~ Epoch:  55\n",
      "AUC: 0.863625267940874\n",
      "AUC: 0.8636298964330732\n",
      "AUC: 0.8635742696149191\n",
      "AUC: 0.8636410326910435\n",
      "AUC: 0.8635983781474956\n",
      "AUC: 0.863554123097299\n",
      "AUC: 0.8636165268354954\n",
      "AUC: 0.8635904749449969\n",
      "AUC: 0.8636511035466906\n",
      "AUC: 0.8636789465947796\n",
      "AUC: 0.8636037019548952\n",
      "AUC: 0.8636294141983374\n",
      "AUC: 0.8636400778342245\n",
      "AUC: 0.8636111822006819\n",
      "AUC: 0.8636645372286185\n",
      "AUC: 0.8636422631105689\n",
      "AUC: 0.8636520471887484\n",
      "AUC: 0.8636517155522356\n",
      "AUC: 0.8635956465520648\n",
      "AUC: 0.8635722781937343\n",
      "AUC: 0.8635866122607835\n",
      "AUC: 0.8636103266746058\n",
      "AUC: 0.8635563884790814\n",
      "AUC: 0.8636319327133035\n",
      "AUC: 0.8636324421838881\n",
      "AUC: 0.863627260964168\n",
      "AUC: 0.8636605912347498\n",
      "AUC: 0.8636566452408811\n",
      "AUC: 0.8636537950894024\n",
      "AUC: 0.8636326168137427\n",
      "AUC: 0.863636360941908\n",
      "AUC: 0.8635723550949544\n",
      "AUC: 0.8635575243741902\n",
      "AUC: 0.8634935729989344\n",
      "AUC: 0.8635225727695461\n",
      "AUC: 0.8635847778462566\n",
      "AUC: 0.8635909059122526\n",
      "AUC: 0.863608913614682\n",
      "AUC: 0.8635995140426042\n",
      "~~~~~~~~~~~~~~~~~~~~ Epoch:  56\n",
      "AUC: 0.8636284657499531\n",
      "AUC: 0.863639453011809\n",
      "AUC: 0.863603623451566\n",
      "AUC: 0.8636377531744178\n",
      "AUC: 0.8636104532411975\n",
      "AUC: 0.8635567954147056\n",
      "AUC: 0.8636185759325958\n",
      "AUC: 0.8635726306576608\n",
      "AUC: 0.8636428286549602\n",
      "AUC: 0.8636744302501935\n",
      "AUC: 0.8635947045121155\n",
      "AUC: 0.8636113664431889\n",
      "AUC: 0.8636356912604475\n",
      "AUC: 0.8636154966795647\n",
      "AUC: 0.8636542725178121\n",
      "AUC: 0.863635385257675\n",
      "AUC: 0.8636456868169827\n",
      "AUC: 0.8636667657618995\n",
      "AUC: 0.8636129621435111\n",
      "AUC: 0.8635877145116085\n",
      "AUC: 0.8635952620459632\n",
      "AUC: 0.8636138737433938\n",
      "AUC: 0.86355293593471\n",
      "AUC: 0.8636262163892583\n",
      "AUC: 0.8636312726444955\n",
      "AUC: 0.8636282430568358\n",
      "AUC: 0.8636643946409391\n",
      "AUC: 0.863652769739798\n",
      "AUC: 0.8636526015183784\n",
      "AUC: 0.863635668830925\n",
      "AUC: 0.863622195096278\n",
      "AUC: 0.8635585048647495\n",
      "AUC: 0.8635531762510236\n",
      "AUC: 0.8635015482963271\n",
      "AUC: 0.8635317288210927\n",
      "AUC: 0.8635838309999813\n",
      "AUC: 0.8635950057085617\n",
      "AUC: 0.8636204936567781\n",
      "AUC: 0.8636106118499646\n",
      "~~~~~~~~~~~~~~~~~~~~ Epoch:  57\n",
      "AUC: 0.8636351721772103\n",
      "AUC: 0.8636375817487808\n",
      "AUC: 0.8635848899938698\n",
      "AUC: 0.8636516354467978\n",
      "AUC: 0.8636198832533415\n",
      "AUC: 0.8635794636515095\n",
      "AUC: 0.8636361254319207\n",
      "AUC: 0.8635937432468612\n",
      "AUC: 0.8636553090821778\n",
      "AUC: 0.8636810533677951\n",
      "AUC: 0.8635976700154246\n",
      "AUC: 0.8636146347450533\n",
      "AUC: 0.8636320208292851\n",
      "AUC: 0.8636097194753867\n",
      "AUC: 0.8636457749329645\n",
      "AUC: 0.8636351048886425\n",
      "AUC: 0.8636468595605931\n",
      "AUC: 0.8636559194856144\n",
      "AUC: 0.8636069702567596\n",
      "AUC: 0.8635789317514021\n",
      "AUC: 0.8635876824694332\n",
      "AUC: 0.8636087998649602\n",
      "AUC: 0.8635495410662537\n",
      "AUC: 0.8636236129625279\n",
      "AUC: 0.8636252294902639\n",
      "AUC: 0.8636230105696354\n",
      "AUC: 0.8636655273318304\n",
      "AUC: 0.8636553731665281\n",
      "AUC: 0.8636485177431565\n",
      "AUC: 0.8636302136506071\n",
      "AUC: 0.8636215238127087\n",
      "AUC: 0.8635598378192355\n",
      "AUC: 0.8635616514063484\n",
      "AUC: 0.8634907132348031\n",
      "AUC: 0.8635246138561026\n",
      "AUC: 0.8635902778856198\n",
      "AUC: 0.8635961544205408\n",
      "AUC: 0.8636176354947556\n",
      "AUC: 0.8636077825258994\n",
      "~~~~~~~~~~~~~~~~~~~~ Epoch:  58\n",
      "AUC: 0.8636280844480689\n",
      "AUC: 0.8636389771855082\n",
      "AUC: 0.8636094086662878\n",
      "AUC: 0.8636511099551255\n",
      "AUC: 0.8636021254798782\n",
      "AUC: 0.8635541999985192\n",
      "AUC: 0.863615620041939\n",
      "AUC: 0.863589603397833\n",
      "AUC: 0.8636496936909842\n",
      "AUC: 0.8636693019000621\n",
      "AUC: 0.8635902842940548\n",
      "AUC: 0.8636126849786961\n",
      "AUC: 0.8636340346799928\n",
      "AUC: 0.8636120297162144\n",
      "AUC: 0.8636507446743289\n",
      "AUC: 0.8636249987866029\n",
      "AUC: 0.8636440494618332\n",
      "AUC: 0.8636493091848825\n",
      "AUC: 0.8635972246291903\n",
      "AUC: 0.8635783918407511\n",
      "AUC: 0.8635885908650986\n",
      "AUC: 0.8636101680658387\n",
      "AUC: 0.8635613598225547\n",
      "AUC: 0.8636283824402977\n",
      "AUC: 0.8636256268132356\n",
      "AUC: 0.8636209005924023\n",
      "AUC: 0.8636547547525479\n"
     ]
    },
    {
     "name": "stdout",
     "output_type": "stream",
     "text": [
      "AUC: 0.8636449081921269\n",
      "AUC: 0.8636403710201268\n",
      "AUC: 0.8636256364258883\n",
      "AUC: 0.8636437018042329\n",
      "AUC: 0.8635846913323838\n",
      "AUC: 0.8635600348786125\n",
      "AUC: 0.8635066846570022\n",
      "AUC: 0.8635332556307381\n",
      "AUC: 0.8635870928934107\n",
      "AUC: 0.8635946244066776\n",
      "AUC: 0.8636161150935449\n",
      "AUC: 0.8636062701352326\n",
      "~~~~~~~~~~~~~~~~~~~~ Epoch:  59\n",
      "AUC: 0.8636291081955647\n",
      "AUC: 0.8636342109119559\n",
      "AUC: 0.8635774241670617\n",
      "AUC: 0.8636410407015873\n",
      "AUC: 0.8636083560808345\n",
      "AUC: 0.8635670633297299\n",
      "AUC: 0.8636192520224912\n",
      "AUC: 0.8635861300260477\n",
      "AUC: 0.8636521064667724\n",
      "AUC: 0.8636775207179858\n",
      "AUC: 0.8636060121957229\n",
      "AUC: 0.8636221262056014\n",
      "AUC: 0.8636450876283077\n",
      "AUC: 0.8636249987866028\n",
      "AUC: 0.86365637608661\n",
      "AUC: 0.863644135975706\n",
      "AUC: 0.8636550719700817\n",
      "AUC: 0.8636633740976609\n",
      "AUC: 0.8636152916096438\n",
      "AUC: 0.863593922683042\n",
      "AUC: 0.8636103138577357\n",
      "AUC: 0.8636239782433246\n",
      "AUC: 0.8635618356488556\n",
      "AUC: 0.8636299957638163\n",
      "AUC: 0.8636330461788897\n",
      "AUC: 0.8636253256167894\n",
      "AUC: 0.8636598590710478\n",
      "AUC: 0.8636528242114956\n",
      "AUC: 0.8636529395633261\n",
      "AUC: 0.8636403998580846\n",
      "AUC: 0.8636278329169942\n",
      "AUC: 0.8635596615872722\n",
      "AUC: 0.863560116586159\n",
      "AUC: 0.8635109895232326\n",
      "AUC: 0.8635353367700136\n",
      "AUC: 0.8635905582546524\n",
      "AUC: 0.8635921603634094\n",
      "AUC: 0.8636133738854617\n",
      "AUC: 0.8636024330847597\n",
      "~~~~~~~~~~~~~~~~~~~~ Epoch:  60\n",
      "AUC: 0.8636316956012074\n",
      "AUC: 0.8636336037127371\n",
      "AUC: 0.8635954446863612\n",
      "AUC: 0.8636461354074348\n",
      "AUC: 0.8636067924226876\n",
      "AUC: 0.8635577919263526\n",
      "AUC: 0.8636089809032499\n",
      "AUC: 0.8635851959966423\n",
      "AUC: 0.8636498651166213\n",
      "AUC: 0.8636775767917921\n",
      "AUC: 0.8636036923422425\n",
      "AUC: 0.8636148109770168\n",
      "AUC: 0.8636270767216607\n",
      "AUC: 0.8636129797667073\n",
      "AUC: 0.8636534986992824\n",
      "AUC: 0.863645877467925\n",
      "AUC: 0.8636579733890408\n",
      "AUC: 0.8636594281037924\n",
      "AUC: 0.8636162016074178\n",
      "AUC: 0.8635882255843019\n",
      "AUC: 0.8636001564882158\n",
      "AUC: 0.8636157994781197\n",
      "AUC: 0.8635612797171168\n",
      "AUC: 0.8636261539070167\n",
      "AUC: 0.8636233197766254\n",
      "AUC: 0.8636253592610732\n",
      "AUC: 0.8636620058967823\n",
      "AUC: 0.8636557176199109\n",
      "AUC: 0.8636440863103347\n",
      "AUC: 0.8636276182344207\n",
      "AUC: 0.8636221021739701\n",
      "AUC: 0.8635568643053824\n",
      "AUC: 0.8635586730861691\n",
      "AUC: 0.8635064571575588\n",
      "AUC: 0.8635286095153426\n",
      "AUC: 0.8635834977613598\n",
      "AUC: 0.8635967712324121\n",
      "AUC: 0.8636146731956635\n",
      "AUC: 0.8636048907195929\n",
      "~~~~~~~~~~~~~~~~~~~~ Epoch:  61\n",
      "AUC: 0.8636281212965704\n",
      "AUC: 0.8636317484707964\n",
      "AUC: 0.8635773408574065\n",
      "AUC: 0.8636459864113204\n",
      "AUC: 0.8636098540525223\n",
      "AUC: 0.8635612460728329\n",
      "AUC: 0.8636153204476015\n",
      "AUC: 0.8635825893656945\n",
      "AUC: 0.8636518949884164\n",
      "AUC: 0.8636807489671313\n",
      "AUC: 0.8636001004144092\n",
      "AUC: 0.8636180007755518\n",
      "AUC: 0.8636352602931919\n",
      "AUC: 0.863616616553586\n",
      "AUC: 0.8636519078052867\n",
      "AUC: 0.8636361959247061\n",
      "AUC: 0.863647426707093\n",
      "AUC: 0.8636583306592935\n",
      "AUC: 0.8636092388427595\n",
      "AUC: 0.8635871874178274\n",
      "AUC: 0.8636020437723317\n",
      "AUC: 0.8636207275646566\n",
      "AUC: 0.8635637886194303\n",
      "AUC: 0.8636260017066848\n",
      "AUC: 0.8636191126390294\n",
      "AUC: 0.8636184077111762\n",
      "AUC: 0.8636585437397584\n",
      "AUC: 0.8636524845644391\n",
      "AUC: 0.8636430962071227\n",
      "AUC: 0.8636357489363626\n",
      "AUC: 0.8636276342555083\n",
      "AUC: 0.8635666243519303\n",
      "AUC: 0.8635663952503781\n",
      "AUC: 0.8635115118106873\n",
      "AUC: 0.8635392395069458\n",
      "AUC: 0.8635922084266721\n",
      "AUC: 0.8636002782484814\n",
      "AUC: 0.8636170154786664\n",
      "AUC: 0.8636075117695196\n",
      "~~~~~~~~~~~~~~~~~~~~ Epoch:  62\n",
      "AUC: 0.8636297025779136\n",
      "AUC: 0.8636432387948022\n",
      "AUC: 0.8635887703012793\n",
      "AUC: 0.8636499996937569\n",
      "AUC: 0.8636114930097808\n",
      "AUC: 0.8635756282031452\n",
      "AUC: 0.8636308929447201\n",
      "AUC: 0.8635971797701452\n",
      "AUC: 0.8636616694539435\n",
      "AUC: 0.8636895541568602\n",
      "AUC: 0.8636082423311128\n",
      "AUC: 0.8636259600518572\n",
      "AUC: 0.8636302969602625\n",
      "AUC: 0.8636134620014433\n",
      "AUC: 0.8636510506771015\n",
      "AUC: 0.8636355871233784\n",
      "AUC: 0.863653474667651\n",
      "AUC: 0.8636633548723558\n",
      "AUC: 0.8636050076735322\n",
      "AUC: 0.8635899366364544\n",
      "AUC: 0.8635970131508345\n",
      "AUC: 0.8636224033704165\n",
      "AUC: 0.8635635915600534\n",
      "AUC: 0.8636270751195521\n",
      "AUC: 0.8636263605790464\n",
      "AUC: 0.8636225219264644\n",
      "AUC: 0.8636597965888064\n",
      "AUC: 0.8636465839978869\n",
      "AUC: 0.8636473385911114\n",
      "AUC: 0.8636306558326241\n",
      "AUC: 0.8636551937303472\n",
      "AUC: 0.8635935878423118\n",
      "AUC: 0.863564740272032\n",
      "AUC: 0.8635109062135772\n",
      "AUC: 0.8635322398937862\n",
      "AUC: 0.8635816152835704\n",
      "AUC: 0.8635867244083966\n",
      "AUC: 0.8636159148299503\n",
      "AUC: 0.86360708560859\n",
      "~~~~~~~~~~~~~~~~~~~~ Epoch:  63\n",
      "AUC: 0.8636313751794561\n",
      "AUC: 0.8636444804290888\n",
      "AUC: 0.8636023545814304\n",
      "AUC: 0.863648093184336\n",
      "AUC: 0.8636106599132272\n",
      "AUC: 0.8635656999351775\n",
      "AUC: 0.8636149311351735\n",
      "AUC: 0.8635920289904911\n",
      "AUC: 0.8636551024101482\n",
      "AUC: 0.8636824760403714\n",
      "AUC: 0.8636092324343245\n",
      "AUC: 0.8636276967377496\n",
      "AUC: 0.8636390396677498\n",
      "AUC: 0.8636215190063825\n",
      "AUC: 0.8636553026737428\n",
      "AUC: 0.8636365708181551\n",
      "AUC: 0.8636508440050719\n",
      "AUC: 0.8636617143129885\n",
      "AUC: 0.8636354509441341\n",
      "AUC: 0.8636085275064715\n",
      "AUC: 0.8636008838455915\n",
      "AUC: 0.8636171260241707\n",
      "AUC: 0.8635774770366508\n",
      "AUC: 0.8636430032848149\n",
      "AUC: 0.8636282446589446\n",
      "AUC: 0.8636278825823656\n",
      "AUC: 0.8636593223646143\n",
      "AUC: 0.863651760411281\n",
      "AUC: 0.863647625368579\n",
      "AUC: 0.8636399144191312\n",
      "AUC: 0.8636366333003967\n",
      "AUC: 0.8635799763263118\n",
      "AUC: 0.863579494091576\n",
      "AUC: 0.8635216018916393\n",
      "AUC: 0.8635371359381478\n",
      "AUC: 0.8635868958340336\n",
      "AUC: 0.8635888552130434\n",
      "AUC: 0.8636081638277836\n",
      "AUC: 0.8635993346064235\n",
      "~~~~~~~~~~~~~~~~~~~~ Epoch:  64\n",
      "AUC: 0.8636288150096624\n",
      "AUC: 0.863642282335874\n",
      "AUC: 0.8635982788167526\n",
      "AUC: 0.8636506821920875\n",
      "AUC: 0.8636121947334164\n",
      "AUC: 0.8635692806482496\n",
      "AUC: 0.8636225491623133\n",
      "AUC: 0.8635920514200138\n",
      "AUC: 0.8636589859217753\n",
      "AUC: 0.8636831280986355\n",
      "AUC: 0.863612454275035\n",
      "AUC: 0.8636304411500506\n",
      "AUC: 0.8636469300533784\n",
      "AUC: 0.8636285778975662\n",
      "AUC: 0.8636579910122372\n",
      "AUC: 0.8636472777109787\n",
      "AUC: 0.8636616534328557\n",
      "AUC: 0.8636678295621143\n",
      "AUC: 0.863613258533631\n",
      "AUC: 0.8635840424783372\n",
      "AUC: 0.8635924855914869\n",
      "AUC: 0.8636081397961524\n",
      "AUC: 0.8635481536400703\n",
      "AUC: 0.8636196765813119\n",
      "AUC: 0.8636132585336311\n",
      "AUC: 0.8636158283160774\n",
      "AUC: 0.8636533769390169\n",
      "AUC: 0.8636498667187301\n",
      "AUC: 0.8636749269039081\n",
      "AUC: 0.8636620315305226\n",
      "AUC: 0.863658329057185\n",
      "AUC: 0.8635942302879234\n",
      "AUC: 0.8635620807714954\n",
      "AUC: 0.8635049960343724\n",
      "AUC: 0.8635353591995363\n",
      "AUC: 0.863582989892884\n",
      "AUC: 0.8635969106158738\n",
      "AUC: 0.8636194715113911\n",
      "AUC: 0.8636108217262116\n",
      "~~~~~~~~~~~~~~~~~~~~ Epoch:  65\n",
      "AUC: 0.863636051734918\n",
      "AUC: 0.8636442833697117\n",
      "AUC: 0.8636078434060322\n",
      "AUC: 0.8636525069939618\n",
      "AUC: 0.8636159068194066\n",
      "AUC: 0.8635728661676481\n",
      "AUC: 0.8636208861734236\n",
      "AUC: 0.8635897363728599\n",
      "AUC: 0.8636539328707555\n",
      "AUC: 0.8636743725742781\n",
      "AUC: 0.863595907695792\n",
      "AUC: 0.863609902115785\n",
      "AUC: 0.8636319743681312\n",
      "AUC: 0.8636249619381016\n",
      "AUC: 0.8636561630061453\n",
      "AUC: 0.8636447896360789\n",
      "AUC: 0.8636609469028939\n",
      "AUC: 0.8636707357873996\n",
      "AUC: 0.8636193769869743\n",
      "AUC: 0.8635961015509517\n",
      "AUC: 0.8636078418039235\n",
      "AUC: 0.8636225010990506\n",
      "AUC: 0.8635696843796563\n",
      "AUC: 0.8636307439486057\n",
      "AUC: 0.8636271824608388\n",
      "AUC: 0.8636220925613176\n",
      "AUC: 0.8636622173751383\n",
      "AUC: 0.8636555365816213\n",
      "AUC: 0.8636480419168557\n",
      "AUC: 0.8636313655668035\n",
      "AUC: 0.8636525774867471\n",
      "AUC: 0.8636001981430435\n",
      "AUC: 0.8635712560483471\n",
      "AUC: 0.863519982159686\n",
      "AUC: 0.8635434915035871\n",
      "AUC: 0.8635948887546225\n",
      "AUC: 0.863595571252953\n",
      "AUC: 0.8636177732761086\n",
      "AUC: 0.8636092772933699\n",
      "~~~~~~~~~~~~~~~~~~~~ Epoch:  66\n",
      "AUC: 0.8636277896600577\n",
      "AUC: 0.8636376874879588\n",
      "AUC: 0.8635975274277455\n",
      "AUC: 0.8636510554834278\n",
      "AUC: 0.8636165540713443\n",
      "AUC: 0.8635741238230221\n",
      "AUC: 0.8636191094348118\n",
      "AUC: 0.863586192508289\n",
      "AUC: 0.8636539088391241\n",
      "AUC: 0.863677282003781\n",
      "AUC: 0.8636052720214771\n",
      "AUC: 0.8636216231434517\n",
      "AUC: 0.863633821599528\n",
      "AUC: 0.8636236337899419\n",
      "AUC: 0.8636556006659716\n",
      "AUC: 0.8636407010545308\n",
      "AUC: 0.863655559011144\n",
      "AUC: 0.8636600417114462\n",
      "AUC: 0.863644940234302\n",
      "AUC: 0.8636224306062653\n",
      "AUC: 0.8636146091113133\n",
      "AUC: 0.863630399495223\n",
      "AUC: 0.8635853514011917\n",
      "AUC: 0.8636537774662061\n",
      "AUC: 0.8636308576983276\n",
      "AUC: 0.8636264839414206\n",
      "AUC: 0.8636591669600648\n",
      "AUC: 0.8636555686237963\n",
      "AUC: 0.8636553267053744\n",
      "AUC: 0.8636412778136835\n",
      "AUC: 0.8636396901239052\n",
      "AUC: 0.8635879692469007\n",
      "AUC: 0.8635692037470293\n",
      "AUC: 0.8635230293705418\n",
      "AUC: 0.863542924357087\n",
      "AUC: 0.8635905406314558\n",
      "AUC: 0.8635974633433952\n",
      "AUC: 0.8636176627306043\n",
      "AUC: 0.8636088655514191\n",
      "~~~~~~~~~~~~~~~~~~~~ Epoch:  67\n",
      "AUC: 0.8636281597471807\n",
      "AUC: 0.8636379726633177\n",
      "AUC: 0.8635919360681834\n",
      "AUC: 0.8636468515500492\n",
      "AUC: 0.8636091122761679\n",
      "AUC: 0.8635689634307158\n",
      "AUC: 0.8636143511718034\n"
     ]
    },
    {
     "name": "stdout",
     "output_type": "stream",
     "text": [
      "AUC: 0.8635926361897102\n",
      "AUC: 0.8636496552403742\n",
      "AUC: 0.8636744478733898\n",
      "AUC: 0.8635998360664644\n",
      "AUC: 0.8636189796640026\n",
      "AUC: 0.863633656582326\n",
      "AUC: 0.8636237731734039\n",
      "AUC: 0.8636518949884164\n",
      "AUC: 0.8636410919690676\n",
      "AUC: 0.8636581255893727\n",
      "AUC: 0.863668946231918\n",
      "AUC: 0.8636505716465832\n",
      "AUC: 0.8636287236894632\n",
      "AUC: 0.8636197518804235\n",
      "AUC: 0.8636386215173641\n",
      "AUC: 0.863587182611501\n",
      "AUC: 0.8636550767764082\n",
      "AUC: 0.8636256188026918\n",
      "AUC: 0.8636195035535661\n",
      "AUC: 0.8636514287747682\n",
      "AUC: 0.8636500942181736\n",
      "AUC: 0.8636823895264985\n",
      "AUC: 0.8636670893878687\n",
      "AUC: 0.8636280668248727\n",
      "AUC: 0.8635634425639388\n",
      "AUC: 0.8635698445905321\n",
      "AUC: 0.8635151325764783\n",
      "AUC: 0.8635329960891196\n",
      "AUC: 0.86358552122472\n",
      "AUC: 0.8635940636686126\n",
      "AUC: 0.8636201812455705\n",
      "AUC: 0.8636112671124461\n",
      "~~~~~~~~~~~~~~~~~~~~ Epoch:  68\n",
      "AUC: 0.8636297298137624\n",
      "AUC: 0.8636395299130295\n",
      "AUC: 0.8635941774183344\n",
      "AUC: 0.8636566372303374\n",
      "AUC: 0.8636205096778655\n",
      "AUC: 0.8635827944356154\n",
      "AUC: 0.8636261795407569\n",
      "AUC: 0.8635920065609687\n",
      "AUC: 0.8636527569229278\n",
      "AUC: 0.8636804573833374\n",
      "AUC: 0.8636009799721169\n",
      "AUC: 0.8636118967411877\n",
      "AUC: 0.8636328026583585\n",
      "AUC: 0.8636204616146028\n",
      "AUC: 0.8636541411448939\n",
      "AUC: 0.8636386631721918\n",
      "AUC: 0.8636540498246947\n",
      "AUC: 0.8636652629838855\n",
      "AUC: 0.8636108922189969\n",
      "AUC: 0.8635873732624432\n",
      "AUC: 0.8635952364122229\n",
      "AUC: 0.8636069125808443\n",
      "AUC: 0.863556946012929\n",
      "AUC: 0.8636211072644321\n",
      "AUC: 0.8636291578609363\n",
      "AUC: 0.8636272401367541\n",
      "AUC: 0.86365863185574\n",
      "AUC: 0.8636511484057358\n",
      "AUC: 0.8636524268885238\n",
      "AUC: 0.8636389451433331\n",
      "AUC: 0.863627102355401\n",
      "AUC: 0.8635718936876324\n",
      "AUC: 0.863576011107138\n",
      "AUC: 0.8635164222740276\n",
      "AUC: 0.8635350932494825\n",
      "AUC: 0.8635880749860787\n",
      "AUC: 0.8635947173289855\n",
      "AUC: 0.8636148638466057\n",
      "AUC: 0.8636052495919545\n",
      "~~~~~~~~~~~~~~~~~~~~ Epoch:  69\n",
      "AUC: 0.8636280459974588\n",
      "AUC: 0.8636321249663543\n",
      "AUC: 0.863586846168662\n",
      "AUC: 0.8636548188368982\n",
      "AUC: 0.8636183003698896\n",
      "AUC: 0.8635757339423231\n",
      "AUC: 0.8636269373381988\n",
      "AUC: 0.863592083462189\n",
      "AUC: 0.8636575280028063\n",
      "AUC: 0.8636816910070805\n",
      "AUC: 0.8636064655925011\n",
      "AUC: 0.8636159516784518\n",
      "AUC: 0.8636362680196\n",
      "AUC: 0.8636203799070562\n",
      "AUC: 0.8636543478169235\n",
      "AUC: 0.8636413098558585\n",
      "AUC: 0.8636604486470705\n",
      "AUC: 0.8636666167657853\n",
      "AUC: 0.8636184285385902\n",
      "AUC: 0.8635908450321197\n",
      "AUC: 0.8636026397567893\n",
      "AUC: 0.8636121082195437\n",
      "AUC: 0.8635625389745998\n",
      "AUC: 0.8636241096162427\n",
      "AUC: 0.8636231243193571\n",
      "AUC: 0.8636248578010323\n",
      "AUC: 0.8636520840372499\n",
      "AUC: 0.8636490640622427\n",
      "AUC: 0.8636470309862301\n",
      "AUC: 0.8636335876916494\n",
      "AUC: 0.8636234447411086\n",
      "AUC: 0.8635688128324925\n",
      "AUC: 0.8635663648103117\n",
      "AUC: 0.8635183528150799\n",
      "AUC: 0.8635384624841986\n",
      "AUC: 0.8635848899938696\n",
      "AUC: 0.8635916412801721\n",
      "AUC: 0.8636142374220817\n",
      "AUC: 0.863605813534237\n",
      "~~~~~~~~~~~~~~~~~~~~ Epoch:  70\n",
      "AUC: 0.8636268540285437\n",
      "AUC: 0.8636331423054151\n",
      "AUC: 0.863585639780768\n",
      "AUC: 0.8636514576127258\n",
      "AUC: 0.8636146427555973\n",
      "AUC: 0.8635758028329996\n",
      "AUC: 0.8636207676173755\n",
      "AUC: 0.8635875094416874\n",
      "AUC: 0.8636490560516991\n",
      "AUC: 0.8636792782312923\n",
      "AUC: 0.863604903536463\n",
      "AUC: 0.8636203590796423\n",
      "AUC: 0.8636348998187217\n",
      "AUC: 0.863615725781117\n",
      "AUC: 0.8636445669429618\n",
      "AUC: 0.8636379518359039\n",
      "AUC: 0.8636542901410084\n",
      "AUC: 0.8636659951475876\n",
      "AUC: 0.8636114289254305\n",
      "AUC: 0.8635904525154743\n",
      "AUC: 0.8635954318694913\n",
      "AUC: 0.8636096425741664\n",
      "AUC: 0.8635555842204854\n",
      "AUC: 0.8636199697672146\n",
      "AUC: 0.8636241192288953\n",
      "AUC: 0.863624470090713\n",
      "AUC: 0.8636517011332567\n",
      "AUC: 0.8636441183525099\n",
      "AUC: 0.8636415389574109\n",
      "AUC: 0.8636288839003388\n",
      "AUC: 0.8636504819284929\n",
      "AUC: 0.863599666242936\n",
      "AUC: 0.8635748607930503\n",
      "AUC: 0.8635233658133807\n",
      "AUC: 0.8635343578815631\n",
      "AUC: 0.8635854186897596\n",
      "AUC: 0.8635880781902963\n",
      "AUC: 0.8636115923405238\n",
      "AUC: 0.8636020662018543\n",
      "~~~~~~~~~~~~~~~~~~~~ Epoch:  71\n",
      "AUC: 0.8636286820346354\n",
      "AUC: 0.8636316203020957\n",
      "AUC: 0.8635839175138542\n",
      "AUC: 0.8636467426066536\n",
      "AUC: 0.8636112030280958\n",
      "AUC: 0.8635802871354106\n",
      "AUC: 0.8636286820346355\n",
      "AUC: 0.8635918992196818\n",
      "AUC: 0.8636488269501468\n",
      "AUC: 0.8636715368417782\n",
      "AUC: 0.8635967616197595\n",
      "AUC: 0.863612420630751\n",
      "AUC: 0.8636300566439489\n",
      "AUC: 0.8636165941240633\n",
      "AUC: 0.8636522602692132\n",
      "AUC: 0.86364188821712\n",
      "AUC: 0.863660525548291\n",
      "AUC: 0.8636667881914222\n",
      "AUC: 0.863635550274877\n",
      "AUC: 0.8636158795835576\n",
      "AUC: 0.8636018146707793\n",
      "AUC: 0.8636172718160676\n",
      "AUC: 0.863575615386275\n",
      "AUC: 0.8636402989252329\n",
      "AUC: 0.8636279819131085\n",
      "AUC: 0.8636222864164771\n",
      "AUC: 0.8636578644456454\n",
      "AUC: 0.863655836175959\n",
      "AUC: 0.8636504386715564\n",
      "AUC: 0.8636391790512117\n",
      "AUC: 0.8636350584274884\n",
      "AUC: 0.8635747246138061\n",
      "AUC: 0.8635700784984106\n",
      "AUC: 0.863514836186358\n",
      "AUC: 0.8635401206667622\n",
      "AUC: 0.8635935830359855\n",
      "AUC: 0.8636018146707795\n",
      "AUC: 0.8636206042022823\n",
      "AUC: 0.8636123325147697\n",
      "~~~~~~~~~~~~~~~~~~~~ Epoch:  72\n",
      "AUC: 0.8636316619569235\n",
      "AUC: 0.8636372421017243\n",
      "AUC: 0.863597543448833\n",
      "AUC: 0.8636467890678077\n",
      "AUC: 0.8636109675181083\n",
      "AUC: 0.8635742407769615\n",
      "AUC: 0.8636238564830591\n",
      "AUC: 0.8635890811103781\n",
      "AUC: 0.8636555045394463\n",
      "AUC: 0.8636799511169703\n",
      "AUC: 0.8636089296357695\n",
      "AUC: 0.8636243595452088\n",
      "AUC: 0.8636427229157824\n",
      "AUC: 0.8636299204647047\n",
      "AUC: 0.8636545769184758\n",
      "AUC: 0.8636443282287568\n",
      "AUC: 0.8636593896531821\n",
      "AUC: 0.8636653270682357\n",
      "AUC: 0.8636511660289321\n",
      "AUC: 0.8636275413332004\n",
      "AUC: 0.8636206650824151\n",
      "AUC: 0.8636318413931043\n",
      "AUC: 0.8635889048784149\n",
      "AUC: 0.8636519286327005\n",
      "AUC: 0.8636248097377696\n",
      "AUC: 0.8636231499530973\n",
      "AUC: 0.8636534938929561\n",
      "AUC: 0.8636550191004927\n",
      "AUC: 0.8636545192425605\n",
      "AUC: 0.8636448633330819\n",
      "AUC: 0.8636367694796412\n",
      "AUC: 0.8635828889600322\n",
      "AUC: 0.8635794876831409\n",
      "AUC: 0.8635294265908088\n",
      "AUC: 0.863548570188347\n",
      "AUC: 0.8635944129283217\n",
      "AUC: 0.8636007156241721\n",
      "AUC: 0.8636204728293642\n",
      "AUC: 0.8636126240985633\n",
      "~~~~~~~~~~~~~~~~~~~~ Epoch:  73\n",
      "AUC: 0.8636345345379248\n",
      "AUC: 0.8636410390994786\n",
      "AUC: 0.8635958612346382\n",
      "AUC: 0.8636542709157032\n",
      "AUC: 0.8636149343393911\n",
      "AUC: 0.8635755545061423\n",
      "AUC: 0.863619122251682\n",
      "AUC: 0.8635872370831987\n",
      "AUC: 0.8636501006266086\n",
      "AUC: 0.863676016337863\n",
      "AUC: 0.8635988203295124\n",
      "AUC: 0.8636210559969517\n",
      "AUC: 0.8636343502954178\n",
      "AUC: 0.8636221902899518\n",
      "AUC: 0.8636476221643614\n",
      "AUC: 0.8636380367476677\n",
      "AUC: 0.8636558602075902\n",
      "AUC: 0.8636627540815718\n",
      "AUC: 0.8636422935506353\n",
      "AUC: 0.8636218890935053\n",
      "AUC: 0.8636174945091848\n",
      "AUC: 0.8636326168137427\n",
      "AUC: 0.8635868157285957\n",
      "AUC: 0.8636476045411651\n",
      "AUC: 0.8636271920734914\n",
      "AUC: 0.8636241769048105\n",
      "AUC: 0.8636537758640973\n",
      "AUC: 0.8636456627853515\n",
      "AUC: 0.8636494389556919\n",
      "AUC: 0.8636378989663147\n",
      "AUC: 0.8636537662514447\n",
      "AUC: 0.8636062108572088\n",
      "AUC: 0.8635757996287821\n",
      "AUC: 0.8635235308305828\n",
      "AUC: 0.8635422450629742\n",
      "AUC: 0.8635886325199262\n",
      "AUC: 0.8635954927496239\n",
      "AUC: 0.8636207868426805\n",
      "AUC: 0.8636131624071057\n",
      "~~~~~~~~~~~~~~~~~~~~ Epoch:  74\n",
      "AUC: 0.8636354076871975\n",
      "AUC: 0.8636383363420054\n",
      "AUC: 0.8635990782690222\n",
      "AUC: 0.8636498138491411\n",
      "AUC: 0.8636143623865647\n",
      "AUC: 0.8635793034406338\n",
      "AUC: 0.863621627949778\n",
      "AUC: 0.8635899814954996\n",
      "AUC: 0.8636527473102754\n",
      "AUC: 0.8636804814149689\n",
      "AUC: 0.8636112895419686\n",
      "AUC: 0.8636217945690887\n",
      "AUC: 0.8636393664979363\n",
      "AUC: 0.8636225860108147\n",
      "AUC: 0.8636516130172753\n",
      "AUC: 0.86363963244799\n",
      "AUC: 0.8636558329717414\n",
      "AUC: 0.863671485574298\n",
      "AUC: 0.863618726530819\n",
      "AUC: 0.8636013260276083\n",
      "AUC: 0.8636046055442341\n",
      "AUC: 0.8636099437706128\n",
      "AUC: 0.8635653554817948\n",
      "AUC: 0.8636187633793204\n",
      "AUC: 0.863619873640689\n",
      "AUC: 0.8636183115846507\n",
      "AUC: 0.8636499804684518\n",
      "AUC: 0.8636471479401694\n",
      "AUC: 0.8636485593979844\n",
      "AUC: 0.8636320656883302\n",
      "AUC: 0.8636497689900959\n",
      "AUC: 0.8635996021585859\n",
      "AUC: 0.8635669127315065\n",
      "AUC: 0.8635123993789386\n",
      "AUC: 0.8635404571096013\n",
      "AUC: 0.8635843661043062\n",
      "AUC: 0.8635889096847411\n",
      "AUC: 0.8636166149514772\n",
      "AUC: 0.8636086108161268\n",
      "~~~~~~~~~~~~~~~~~~~~ Epoch:  75\n",
      "AUC: 0.8636335828853232\n",
      "AUC: 0.8636379806738614\n",
      "AUC: 0.8636016993189488\n",
      "AUC: 0.8636487692742314\n",
      "AUC: 0.8636096778205591\n",
      "AUC: 0.8635695930594571\n",
      "AUC: 0.8636177156001932\n",
      "AUC: 0.8635808222397356\n",
      "AUC: 0.8636466032231919\n",
      "AUC: 0.8636757359688305\n",
      "AUC: 0.863601651255686\n",
      "AUC: 0.863614875061367\n",
      "AUC: 0.8636280411911327\n",
      "AUC: 0.8636139666657017\n",
      "AUC: 0.8636467313918925\n",
      "AUC: 0.8636408356316665\n",
      "AUC: 0.8636594329101185\n",
      "AUC: 0.8636669660254943\n",
      "AUC: 0.8636201091506763\n",
      "AUC: 0.8636006243039729\n",
      "AUC: 0.8636037372012879\n",
      "AUC: 0.8636162384559192\n",
      "AUC: 0.8635634313491776\n",
      "AUC: 0.8636205449242582\n",
      "AUC: 0.8636243130840549\n",
      "AUC: 0.8636215702738628\n",
      "AUC: 0.8636516835100607\n",
      "AUC: 0.8636472841194136\n"
     ]
    },
    {
     "name": "stdout",
     "output_type": "stream",
     "text": [
      "AUC: 0.8636518068724349\n",
      "AUC: 0.8636413675317738\n",
      "AUC: 0.8636330413725632\n",
      "AUC: 0.8635815143507186\n",
      "AUC: 0.8635778070710548\n",
      "AUC: 0.8635286928249981\n",
      "AUC: 0.8635447892116803\n",
      "AUC: 0.8635864840920828\n",
      "AUC: 0.8635952556375279\n",
      "AUC: 0.86361610868511\n",
      "AUC: 0.8636077504837243\n",
      "~~~~~~~~~~~~~~~~~~~~ Epoch:  76\n",
      "AUC: 0.8636311412715774\n",
      "AUC: 0.8636345793969701\n",
      "AUC: 0.8635959589632722\n",
      "AUC: 0.8636552994695252\n",
      "AUC: 0.8636154790563684\n",
      "AUC: 0.863580786993343\n",
      "AUC: 0.8636279050118882\n",
      "AUC: 0.8635973463894558\n",
      "AUC: 0.8636576850094646\n",
      "AUC: 0.8636785172296328\n",
      "AUC: 0.8636074925442145\n",
      "AUC: 0.863618654435925\n",
      "AUC: 0.8636322018675746\n",
      "AUC: 0.8636197342572272\n",
      "AUC: 0.8636476285727964\n",
      "AUC: 0.8636370642676524\n",
      "AUC: 0.8636562126715168\n",
      "AUC: 0.8636661601647895\n",
      "AUC: 0.8636185118482456\n",
      "AUC: 0.8635968897884602\n",
      "AUC: 0.8636068533028203\n",
      "AUC: 0.8636175009176199\n",
      "AUC: 0.8635757916182383\n",
      "AUC: 0.86362437075997\n",
      "AUC: 0.8636282847116635\n",
      "AUC: 0.8636280427932413\n",
      "AUC: 0.8636572236021427\n",
      "AUC: 0.8636528258136045\n",
      "AUC: 0.8636856081629914\n",
      "AUC: 0.8636729114510917\n",
      "AUC: 0.8636331391011975\n",
      "AUC: 0.8635804841947877\n",
      "AUC: 0.8635797744606085\n",
      "AUC: 0.8635255623044867\n",
      "AUC: 0.863542892314912\n",
      "AUC: 0.8635861877019628\n",
      "AUC: 0.8635935606064631\n",
      "AUC: 0.8636133594664828\n",
      "AUC: 0.8636053312995011\n",
      "~~~~~~~~~~~~~~~~~~~~ Epoch:  77\n",
      "AUC: 0.8636257581861537\n",
      "AUC: 0.863632522289326\n",
      "AUC: 0.8635990318078682\n",
      "AUC: 0.8636525566593332\n",
      "AUC: 0.8636174512522483\n",
      "AUC: 0.863581729033292\n",
      "AUC: 0.863624140056309\n",
      "AUC: 0.8635962954061114\n",
      "AUC: 0.8636583322614024\n",
      "AUC: 0.8636819217107414\n",
      "AUC: 0.8636060186041576\n",
      "AUC: 0.8636190181146128\n",
      "AUC: 0.8636357825806469\n",
      "AUC: 0.8636159132278415\n",
      "AUC: 0.8636440895145521\n",
      "AUC: 0.8636370786866311\n",
      "AUC: 0.8636572876864927\n",
      "AUC: 0.8636717691475478\n",
      "AUC: 0.8636267018282116\n",
      "AUC: 0.863601494249028\n",
      "AUC: 0.8636081093560859\n",
      "AUC: 0.8636191270580083\n",
      "AUC: 0.8635709244118344\n",
      "AUC: 0.8636251205468686\n",
      "AUC: 0.8636264118465266\n",
      "AUC: 0.8636209230219248\n",
      "AUC: 0.8636546394007174\n",
      "AUC: 0.8636514399895294\n",
      "AUC: 0.8636497193247245\n",
      "AUC: 0.8636388361999376\n",
      "AUC: 0.863632120160028\n",
      "AUC: 0.8635836755954319\n",
      "AUC: 0.8635767737109064\n",
      "AUC: 0.8635283916285517\n",
      "AUC: 0.8635480334819134\n",
      "AUC: 0.8635938826303231\n",
      "AUC: 0.8635983893622567\n",
      "AUC: 0.863620085119045\n",
      "AUC: 0.8636125263699291\n",
      "~~~~~~~~~~~~~~~~~~~~ Epoch:  78\n",
      "AUC: 0.8636310371345082\n",
      "AUC: 0.8636356464014023\n",
      "AUC: 0.8635966510742553\n",
      "AUC: 0.8636542484861807\n",
      "AUC: 0.8636214389009447\n",
      "AUC: 0.863587730532696\n",
      "AUC: 0.8636305917482738\n",
      "AUC: 0.8636038573594446\n",
      "AUC: 0.8636611455643799\n",
      "AUC: 0.8636804766086426\n",
      "AUC: 0.8636074188472116\n",
      "AUC: 0.8636207996595505\n",
      "AUC: 0.8636333057205083\n",
      "AUC: 0.8636184253343727\n",
      "AUC: 0.8636457124507231\n",
      "AUC: 0.8636364186178231\n",
      "AUC: 0.8636604983124421\n",
      "AUC: 0.8636744350565198\n",
      "AUC: 0.8636227013626453\n",
      "AUC: 0.8635979664055449\n",
      "AUC: 0.8635988860159716\n",
      "AUC: 0.8636124254370775\n",
      "AUC: 0.863571308917936\n",
      "AUC: 0.8636225411517696\n",
      "AUC: 0.8636208861734234\n",
      "AUC: 0.8636204423892976\n",
      "AUC: 0.8636487468447089\n",
      "AUC: 0.8636459191227527\n",
      "AUC: 0.8636799238811214\n",
      "AUC: 0.8636691080449024\n",
      "AUC: 0.8636303738614829\n",
      "AUC: 0.8635819581348443\n",
      "AUC: 0.8635789445682722\n",
      "AUC: 0.8635259580253498\n",
      "AUC: 0.8635379738410277\n",
      "AUC: 0.8635836595743442\n",
      "AUC: 0.863590282691946\n",
      "AUC: 0.8636139410319617\n",
      "AUC: 0.8636061147306834\n",
      "~~~~~~~~~~~~~~~~~~~~ Epoch:  79\n",
      "AUC: 0.8636250051950378\n",
      "AUC: 0.8636305853398387\n",
      "AUC: 0.863595215584809\n",
      "AUC: 0.863647038996774\n",
      "AUC: 0.8636127955242003\n",
      "AUC: 0.8635756057736224\n",
      "AUC: 0.8636190373399178\n",
      "AUC: 0.863594483421107\n",
      "AUC: 0.8636515120844236\n",
      "AUC: 0.8636742924688404\n",
      "AUC: 0.8636041521474559\n",
      "AUC: 0.8636162320474843\n",
      "AUC: 0.8636299172604871\n",
      "AUC: 0.8636184573765479\n",
      "AUC: 0.863647974628288\n",
      "AUC: 0.8636366909763119\n",
      "AUC: 0.863658058300805\n",
      "AUC: 0.8636667817829872\n",
      "AUC: 0.8636153428771238\n",
      "AUC: 0.8635979952435024\n",
      "AUC: 0.8636004208361606\n",
      "AUC: 0.8636128724254206\n",
      "AUC: 0.8635659066072072\n",
      "AUC: 0.8636187345413626\n",
      "AUC: 0.8636201764392442\n",
      "AUC: 0.8636219675968345\n",
      "AUC: 0.8636526495816412\n",
      "AUC: 0.8636525294234842\n",
      "AUC: 0.863683949980428\n",
      "AUC: 0.8636730460282273\n",
      "AUC: 0.8636347027593444\n",
      "AUC: 0.8635845070898768\n",
      "AUC: 0.8635798850061125\n",
      "AUC: 0.8635347359792297\n",
      "AUC: 0.8635484676533866\n",
      "AUC: 0.8635886052840773\n",
      "AUC: 0.8635942126647271\n",
      "AUC: 0.8636215142000561\n",
      "AUC: 0.8636142886895618\n",
      "~~~~~~~~~~~~~~~~~~~~ Epoch:  80\n",
      "AUC: 0.8636374551821892\n",
      "AUC: 0.863637990286514\n",
      "AUC: 0.8635991679871124\n",
      "AUC: 0.8636564177414376\n",
      "AUC: 0.8636202068793106\n",
      "AUC: 0.8635888680299135\n",
      "AUC: 0.863628347193905\n",
      "AUC: 0.8635981730775746\n",
      "AUC: 0.8636624272513854\n",
      "AUC: 0.8636850666502316\n",
      "AUC: 0.863611129331093\n",
      "AUC: 0.863622491486398\n",
      "AUC: 0.863634191686651\n",
      "AUC: 0.8636197823204899\n",
      "AUC: 0.8636473081510451\n",
      "AUC: 0.863639177449103\n",
      "AUC: 0.8636606825549491\n",
      "AUC: 0.8636693339422372\n",
      "AUC: 0.8636434198330916\n",
      "AUC: 0.8636205625474547\n",
      "AUC: 0.8636081910636324\n",
      "AUC: 0.8636181449653402\n",
      "AUC: 0.8635738642814037\n",
      "AUC: 0.8636335348220605\n",
      "AUC: 0.8636233325934956\n",
      "AUC: 0.863623718701706\n",
      "AUC: 0.8636488413691255\n",
      "AUC: 0.863647111091668\n",
      "AUC: 0.8636804253411623\n",
      "AUC: 0.8636719790237951\n",
      "AUC: 0.8636325399125224\n",
      "AUC: 0.8635827880271805\n",
      "AUC: 0.8635784350976874\n",
      "AUC: 0.8635302180325348\n",
      "AUC: 0.8635514956389374\n",
      "AUC: 0.8635927259078007\n",
      "AUC: 0.8635983525137553\n",
      "AUC: 0.8636193978143882\n",
      "AUC: 0.8636120825858036\n",
      "~~~~~~~~~~~~~~~~~~~~ Epoch:  81\n",
      "AUC: 0.8636352042193856\n",
      "AUC: 0.8636395219024857\n",
      "AUC: 0.8636074909421056\n",
      "AUC: 0.8636566788851651\n",
      "AUC: 0.8636204119492314\n",
      "AUC: 0.8635833824095294\n",
      "AUC: 0.8636268155779334\n",
      "AUC: 0.8635940364327639\n",
      "AUC: 0.8636553891876155\n",
      "AUC: 0.8636788809083206\n",
      "AUC: 0.8636057830941706\n",
      "AUC: 0.8636187137139489\n",
      "AUC: 0.8636257229397611\n",
      "AUC: 0.8636150144448289\n",
      "AUC: 0.8636436569451876\n",
      "AUC: 0.8636409189413219\n",
      "AUC: 0.8636624128324066\n",
      "AUC: 0.8636706652946142\n",
      "AUC: 0.863624503734997\n",
      "AUC: 0.8636023657961918\n",
      "AUC: 0.8636076896035915\n",
      "AUC: 0.8636200658937399\n",
      "AUC: 0.8635734957963893\n",
      "AUC: 0.8636247728892681\n",
      "AUC: 0.8636259792771622\n",
      "AUC: 0.8636245069392146\n",
      "AUC: 0.863652366008391\n",
      "AUC: 0.8636512092858685\n",
      "AUC: 0.8636478768996537\n",
      "AUC: 0.8636403229568643\n",
      "AUC: 0.8636546169711947\n",
      "AUC: 0.8636079010819475\n",
      "AUC: 0.8635833711947679\n",
      "AUC: 0.8635338708405009\n",
      "AUC: 0.8635506961866677\n",
      "AUC: 0.8635937176131212\n",
      "AUC: 0.8635975226214192\n",
      "AUC: 0.8636197262466835\n",
      "AUC: 0.8636127795031128\n",
      "~~~~~~~~~~~~~~~~~~~~ Epoch:  82\n",
      "AUC: 0.8636307295296268\n",
      "AUC: 0.8636365099380225\n",
      "AUC: 0.8636029874143896\n",
      "AUC: 0.8636506133014109\n",
      "AUC: 0.8636197887289249\n",
      "AUC: 0.8635845887974234\n",
      "AUC: 0.8636291770862414\n",
      "AUC: 0.8636033639099474\n",
      "AUC: 0.8636604678723756\n",
      "AUC: 0.8636824856530239\n",
      "AUC: 0.8636117910020096\n",
      "AUC: 0.8636233982799546\n",
      "AUC: 0.8636366028603304\n",
      "AUC: 0.8636240455318925\n",
      "AUC: 0.8636459271332964\n",
      "AUC: 0.8636353740429137\n",
      "AUC: 0.8636605656010098\n",
      "AUC: 0.8636637313679137\n",
      "AUC: 0.8636169161479235\n",
      "AUC: 0.8635939435104558\n",
      "AUC: 0.8635984230065408\n",
      "AUC: 0.863613417142398\n",
      "AUC: 0.8635718904834149\n",
      "AUC: 0.863617670741148\n",
      "AUC: 0.8636181818138415\n",
      "AUC: 0.8636177620613472\n",
      "AUC: 0.8636462619740267\n",
      "AUC: 0.8636450924346339\n",
      "AUC: 0.8636467041560436\n",
      "AUC: 0.8636404351044772\n",
      "AUC: 0.8636323204236228\n",
      "AUC: 0.8635872579106126\n",
      "AUC: 0.863579606239189\n",
      "AUC: 0.8635331114409501\n",
      "AUC: 0.8635520740001985\n",
      "AUC: 0.863591509907254\n",
      "AUC: 0.8635946196003514\n",
      "AUC: 0.8636134732162045\n",
      "AUC: 0.8636064223355648\n",
      "~~~~~~~~~~~~~~~~~~~~ Epoch:  83\n",
      "AUC: 0.8636286547987866\n",
      "AUC: 0.8636360100800902\n",
      "AUC: 0.863601765005408\n",
      "AUC: 0.863652649581641\n",
      "AUC: 0.8636219611883996\n",
      "AUC: 0.8635867612568979\n",
      "AUC: 0.8636285506617172\n",
      "AUC: 0.8635968994011126\n",
      "AUC: 0.8636574462952598\n",
      "AUC: 0.8636764601219886\n",
      "AUC: 0.8636058904354573\n",
      "AUC: 0.8636182330813218\n",
      "AUC: 0.8636304363437244\n",
      "AUC: 0.8636177812866522\n",
      "AUC: 0.8636455105850196\n",
      "AUC: 0.8636344271966384\n",
      "AUC: 0.8636570906271155\n",
      "AUC: 0.8636641014550367\n",
      "AUC: 0.8636173647383755\n",
      "AUC: 0.8635993554338373\n",
      "AUC: 0.8636007028073018\n",
      "AUC: 0.8636147677200802\n",
      "AUC: 0.8635730680333512\n",
      "AUC: 0.8636226484930563\n",
      "AUC: 0.8636277976706015\n",
      "AUC: 0.8636251253531946\n",
      "AUC: 0.8636530164645465\n",
      "AUC: 0.8636503649745535\n",
      "AUC: 0.8636825160930903\n",
      "AUC: 0.8636724196037033\n",
      "AUC: 0.863647143133843\n",
      "AUC: 0.8636094551274418\n",
      "AUC: 0.8635829578507086\n",
      "AUC: 0.8635349971229571\n",
      "AUC: 0.8635467261611677\n",
      "AUC: 0.8635895264966127\n",
      "AUC: 0.863598019275134\n",
      "AUC: 0.8636168792994223\n",
      "AUC: 0.863610310653518\n",
      "~~~~~~~~~~~~~~~~~~~~ Epoch:  84\n",
      "AUC: 0.8636307647760195\n",
      "AUC: 0.8636336677970873\n",
      "AUC: 0.8635995396763444\n",
      "AUC: 0.8636522362375818\n",
      "AUC: 0.8636177139980845\n",
      "AUC: 0.8635847810504742\n",
      "AUC: 0.863621310732244\n",
      "AUC: 0.8635962136985647\n",
      "AUC: 0.8636530453025041\n"
     ]
    },
    {
     "name": "stdout",
     "output_type": "stream",
     "text": [
      "AUC: 0.8636732142496467\n",
      "AUC: 0.8636026894221607\n",
      "AUC: 0.863615370112973\n",
      "AUC: 0.8636254185390972\n",
      "AUC: 0.8636135036562708\n",
      "AUC: 0.8636410807543062\n",
      "AUC: 0.8636362247626636\n",
      "AUC: 0.8636597773635013\n",
      "AUC: 0.8636703016159264\n",
      "AUC: 0.8636189780618938\n",
      "AUC: 0.863600755676891\n",
      "AUC: 0.8636058808228048\n",
      "AUC: 0.8636151682472695\n",
      "AUC: 0.863570974077206\n",
      "AUC: 0.8636217449037172\n",
      "AUC: 0.863624444456973\n",
      "AUC: 0.8636260770057964\n",
      "AUC: 0.863648277426843\n",
      "AUC: 0.8636433573508502\n",
      "AUC: 0.8636441087398572\n",
      "AUC: 0.8636420227942554\n",
      "AUC: 0.8636362439879688\n",
      "AUC: 0.8635901064599827\n",
      "AUC: 0.8635848771769996\n",
      "AUC: 0.863534476437611\n",
      "AUC: 0.8635474807543921\n",
      "AUC: 0.8635896819011621\n",
      "AUC: 0.8635956161119983\n",
      "AUC: 0.8636146747977723\n",
      "AUC: 0.8636084137567497\n",
      "~~~~~~~~~~~~~~~~~~~~ Epoch:  85\n",
      "AUC: 0.8636297089863487\n",
      "AUC: 0.8636344239924207\n",
      "AUC: 0.8635997447462652\n",
      "AUC: 0.8636540898774137\n",
      "AUC: 0.8636209935147101\n",
      "AUC: 0.8635865321553456\n",
      "AUC: 0.863624226570182\n",
      "AUC: 0.8635982451724684\n",
      "AUC: 0.8636552209661961\n",
      "AUC: 0.8636775319327471\n",
      "AUC: 0.8636096137362088\n",
      "AUC: 0.8636171148094094\n",
      "AUC: 0.8636324069374954\n",
      "AUC: 0.8636224642505492\n",
      "AUC: 0.8636455426271948\n",
      "AUC: 0.8636338376206156\n",
      "AUC: 0.8636598815005706\n",
      "AUC: 0.8636667897935308\n",
      "AUC: 0.8636514319789856\n",
      "AUC: 0.8636289720163204\n",
      "AUC: 0.8636186175874234\n",
      "AUC: 0.8636332720762244\n",
      "AUC: 0.8635915852063655\n",
      "AUC: 0.8636460408830182\n",
      "AUC: 0.8636211328981721\n",
      "AUC: 0.8636185150524631\n",
      "AUC: 0.8636495222653474\n",
      "AUC: 0.8636476093474912\n",
      "AUC: 0.8636488750134095\n",
      "AUC: 0.8636400714257894\n",
      "AUC: 0.8636474907914433\n",
      "AUC: 0.8636097787534107\n",
      "AUC: 0.8635851287080745\n",
      "AUC: 0.8635434882993696\n",
      "AUC: 0.8635554592560024\n",
      "AUC: 0.8635945907623939\n",
      "AUC: 0.8635993314022059\n",
      "AUC: 0.8636203494669898\n",
      "AUC: 0.8636139794825719\n",
      "~~~~~~~~~~~~~~~~~~~~ Epoch:  86\n",
      "AUC: 0.8636351225118387\n",
      "AUC: 0.863637620199391\n",
      "AUC: 0.8635999514182949\n",
      "AUC: 0.8636510971382555\n",
      "AUC: 0.8636206202233698\n",
      "AUC: 0.8635877737896323\n",
      "AUC: 0.8636270991511834\n",
      "AUC: 0.8635975818994431\n",
      "AUC: 0.8636587023485252\n",
      "AUC: 0.8636793807662528\n",
      "AUC: 0.8636063550469968\n",
      "AUC: 0.8636210191484504\n",
      "AUC: 0.8636323396489278\n",
      "AUC: 0.8636238468704066\n",
      "AUC: 0.8636485241515917\n",
      "AUC: 0.8636394562160266\n",
      "AUC: 0.8636619722524985\n",
      "AUC: 0.8636689238023953\n",
      "AUC: 0.8636525502508983\n",
      "AUC: 0.8636332784846595\n",
      "AUC: 0.8636207467899616\n",
      "AUC: 0.8636323668847767\n",
      "AUC: 0.8635941806225519\n",
      "AUC: 0.8636492483047499\n",
      "AUC: 0.8636280075468487\n",
      "AUC: 0.8636258238726128\n",
      "AUC: 0.8636495318779998\n",
      "AUC: 0.8636488477775605\n",
      "AUC: 0.8636498218596849\n",
      "AUC: 0.8636399656866114\n",
      "AUC: 0.8636320688925478\n",
      "AUC: 0.8635881855315828\n",
      "AUC: 0.8635791656592807\n",
      "AUC: 0.8635333389403935\n",
      "AUC: 0.8635472516528399\n",
      "AUC: 0.8635889545437865\n",
      "AUC: 0.8635962633639362\n",
      "AUC: 0.86361445851309\n",
      "AUC: 0.8636088174881565\n",
      "~~~~~~~~~~~~~~~~~~~~ Epoch:  87\n",
      "AUC: 0.8636277928642752\n",
      "AUC: 0.8636307455507145\n",
      "AUC: 0.8635977132723612\n",
      "AUC: 0.8636472440666949\n",
      "AUC: 0.8636152739864476\n",
      "AUC: 0.8635811891226409\n",
      "AUC: 0.8636221358182541\n",
      "AUC: 0.8635974280970025\n",
      "AUC: 0.8636518869778728\n",
      "AUC: 0.8636744414649546\n",
      "AUC: 0.8636036314621098\n",
      "AUC: 0.8636196189053966\n",
      "AUC: 0.8636313303204108\n",
      "AUC: 0.8636203158227059\n",
      "AUC: 0.8636443362393007\n",
      "AUC: 0.8636361254319207\n",
      "AUC: 0.8636586254473049\n",
      "AUC: 0.8636681964450196\n",
      "AUC: 0.8636378236672033\n",
      "AUC: 0.8636188595058458\n",
      "AUC: 0.8636055043272468\n",
      "AUC: 0.8636167238948727\n",
      "AUC: 0.8635812948618189\n",
      "AUC: 0.8636290841639335\n",
      "AUC: 0.8636203606817512\n",
      "AUC: 0.8636191991529023\n",
      "AUC: 0.8636459864113204\n",
      "AUC: 0.8636457621160945\n",
      "AUC: 0.8636476910550379\n",
      "AUC: 0.8636387048270195\n",
      "AUC: 0.8636334370934263\n",
      "AUC: 0.8635894960565462\n",
      "AUC: 0.863587605568213\n",
      "AUC: 0.8635397137311379\n",
      "AUC: 0.8635531618320448\n",
      "AUC: 0.8635903916353415\n",
      "AUC: 0.8635941565909205\n",
      "AUC: 0.8636172878371552\n",
      "AUC: 0.8636113824642765\n",
      "~~~~~~~~~~~~~~~~~~~~ Epoch:  88\n",
      "AUC: 0.8636308512898924\n",
      "AUC: 0.8636374183336877\n",
      "AUC: 0.863600952736268\n",
      "AUC: 0.8636527392997315\n",
      "AUC: 0.8636169770280562\n",
      "AUC: 0.8635844381992002\n",
      "AUC: 0.8636201171612201\n",
      "AUC: 0.8635971301047738\n",
      "AUC: 0.8636553315117005\n",
      "AUC: 0.8636740056913728\n",
      "AUC: 0.8636098220103472\n",
      "AUC: 0.8636188498931934\n",
      "AUC: 0.8636305276639236\n",
      "AUC: 0.8636160574176297\n",
      "AUC: 0.8636414091866016\n",
      "AUC: 0.863637937416925\n",
      "AUC: 0.8636619722524985\n",
      "AUC: 0.8636668106209446\n",
      "AUC: 0.8636214869642075\n",
      "AUC: 0.8635998232495945\n",
      "AUC: 0.8636031508294828\n",
      "AUC: 0.8636164499342751\n",
      "AUC: 0.8635768345910392\n",
      "AUC: 0.863620836508052\n",
      "AUC: 0.8636221854836255\n",
      "AUC: 0.8636234863959363\n",
      "AUC: 0.8636501038308261\n",
      "AUC: 0.8636525854972907\n",
      "AUC: 0.8636536028363515\n",
      "AUC: 0.8636436040755987\n",
      "AUC: 0.8636373975062739\n",
      "AUC: 0.8635905838883923\n",
      "AUC: 0.8635865770143909\n",
      "AUC: 0.8635449766584049\n",
      "AUC: 0.8635556178647694\n",
      "AUC: 0.863590506987172\n",
      "AUC: 0.8635956481541736\n",
      "AUC: 0.863613332230634\n",
      "AUC: 0.863607502156867\n",
      "~~~~~~~~~~~~~~~~~~~~ Epoch:  89\n",
      "AUC: 0.8636297538453939\n",
      "AUC: 0.863638470919141\n",
      "AUC: 0.8636018387024106\n",
      "AUC: 0.8636510186349263\n",
      "AUC: 0.8636216359603217\n",
      "AUC: 0.8635898917774093\n",
      "AUC: 0.8636272978126693\n",
      "AUC: 0.8635991423533727\n",
      "AUC: 0.8636550415300154\n",
      "AUC: 0.8636710626175862\n",
      "AUC: 0.8636032309349206\n",
      "AUC: 0.8636175954420364\n",
      "AUC: 0.8636322819730125\n",
      "AUC: 0.8636196189053966\n",
      "AUC: 0.8636440959229871\n",
      "AUC: 0.8636359491999575\n",
      "AUC: 0.8636561870377767\n",
      "AUC: 0.8636629992042117\n",
      "AUC: 0.8636164098815563\n",
      "AUC: 0.863595683400566\n",
      "AUC: 0.8636012891791072\n",
      "AUC: 0.8636115811257624\n",
      "AUC: 0.8635710878269276\n",
      "AUC: 0.8636184413554603\n",
      "AUC: 0.8636222848143684\n",
      "AUC: 0.8636216183371255\n",
      "AUC: 0.8636458886826863\n",
      "AUC: 0.8636448489141029\n",
      "AUC: 0.8636473626227428\n",
      "AUC: 0.8636441600073373\n",
      "AUC: 0.863639328047326\n",
      "AUC: 0.8635917438151324\n",
      "AUC: 0.8635891516031635\n",
      "AUC: 0.8635461237682749\n",
      "AUC: 0.863556707298724\n",
      "AUC: 0.8635927707668457\n",
      "AUC: 0.8635977773567114\n",
      "AUC: 0.863617954314398\n",
      "AUC: 0.8636118470758161\n",
      "~~~~~~~~~~~~~~~~~~~~ Epoch:  90\n",
      "AUC: 0.8636346146433628\n",
      "AUC: 0.8636387897387838\n",
      "AUC: 0.8636053409121537\n",
      "AUC: 0.8636532615871864\n",
      "AUC: 0.863619221582425\n",
      "AUC: 0.8635864472435815\n",
      "AUC: 0.8636241688942667\n",
      "AUC: 0.8635992480925505\n",
      "AUC: 0.8636571338840522\n",
      "AUC: 0.8636736051641836\n",
      "AUC: 0.8636068324754065\n",
      "AUC: 0.8636209566662088\n",
      "AUC: 0.8636311124336198\n",
      "AUC: 0.8636217160657597\n",
      "AUC: 0.863645831006771\n",
      "AUC: 0.8636397093492102\n",
      "AUC: 0.8636635663507117\n",
      "AUC: 0.8636705867912852\n",
      "AUC: 0.8636417744673983\n",
      "AUC: 0.8636219804137046\n",
      "AUC: 0.8636095352328795\n",
      "AUC: 0.8636188370763231\n",
      "AUC: 0.8635810994045505\n",
      "AUC: 0.8636274820551764\n",
      "AUC: 0.8636186832738826\n",
      "AUC: 0.863618370862675\n",
      "AUC: 0.8636462683824618\n",
      "AUC: 0.8636431234429716\n",
      "AUC: 0.863642889535093\n",
      "AUC: 0.8636352683037356\n",
      "AUC: 0.8636336982371537\n",
      "AUC: 0.8635905262124771\n",
      "AUC: 0.8635835153845561\n",
      "AUC: 0.8635429660119148\n",
      "AUC: 0.8635595430312242\n",
      "AUC: 0.863595090620326\n",
      "AUC: 0.8636008309760026\n",
      "AUC: 0.8636184237322639\n",
      "AUC: 0.8636122924620506\n",
      "~~~~~~~~~~~~~~~~~~~~ Epoch:  91\n",
      "AUC: 0.8636340619158416\n",
      "AUC: 0.8636405328331114\n",
      "AUC: 0.8636057238161466\n",
      "AUC: 0.8636561389745141\n",
      "AUC: 0.863618825861562\n",
      "AUC: 0.863588574844011\n",
      "AUC: 0.863623797205035\n",
      "AUC: 0.8636031908822017\n",
      "AUC: 0.8636606905654929\n",
      "AUC: 0.8636784403284125\n",
      "AUC: 0.8636140563837921\n",
      "AUC: 0.8636217449037173\n",
      "AUC: 0.8636319279069773\n",
      "AUC: 0.863619755084641\n",
      "AUC: 0.8636452190012258\n",
      "AUC: 0.863638748083956\n",
      "AUC: 0.8636631578129786\n",
      "AUC: 0.8636703112285791\n",
      "AUC: 0.8636557480599771\n",
      "AUC: 0.8636322451245111\n",
      "AUC: 0.8636172622034151\n",
      "AUC: 0.8636318606184095\n",
      "AUC: 0.8635938153417554\n",
      "AUC: 0.8636422775295478\n",
      "AUC: 0.8636217320868472\n",
      "AUC: 0.8636219691989432\n",
      "AUC: 0.8636465936105394\n",
      "AUC: 0.8636471767781269\n",
      "AUC: 0.8636467858635902\n",
      "AUC: 0.8636421878114575\n",
      "AUC: 0.8636369937748671\n",
      "AUC: 0.8635961496142144\n",
      "AUC: 0.863588877642566\n",
      "AUC: 0.863545812959176\n",
      "AUC: 0.8635561145184839\n",
      "AUC: 0.8635930463295519\n",
      "AUC: 0.8635982852251876\n",
      "AUC: 0.8636183644542397\n",
      "AUC: 0.8636126689576085\n",
      "~~~~~~~~~~~~~~~~~~~~ Epoch:  92\n",
      "AUC: 0.8636303017665887\n",
      "AUC: 0.8636347299951932\n",
      "AUC: 0.8636010504649022\n",
      "AUC: 0.863651390324158\n",
      "AUC: 0.8636216664003882\n",
      "AUC: 0.8635915707873867\n",
      "AUC: 0.8636245309708459\n",
      "AUC: 0.8635994643772327\n",
      "AUC: 0.8636565122658544\n",
      "AUC: 0.8636745760420903\n",
      "AUC: 0.8636127698904601\n",
      "AUC: 0.8636241464647441\n",
      "AUC: 0.863632805862576\n",
      "AUC: 0.8636200354536735\n",
      "AUC: 0.8636453023108812\n",
      "AUC: 0.8636381440889546\n",
      "AUC: 0.8636652565754503\n",
      "AUC: 0.8636728730004816\n",
      "AUC: 0.8636268556306523\n",
      "AUC: 0.8636064575819573\n",
      "AUC: 0.863611821442076\n",
      "AUC: 0.8636221742688642\n",
      "AUC: 0.8635805803213132\n",
      "AUC: 0.8636187617772116\n",
      "AUC: 0.8636218938998316\n",
      "AUC: 0.8636224914863981\n",
      "AUC: 0.86364843603561\n",
      "AUC: 0.8636480611421609\n",
      "AUC: 0.8636816605670141\n",
      "AUC: 0.8636738054277782\n"
     ]
    },
    {
     "name": "stdout",
     "output_type": "stream",
     "text": [
      "AUC: 0.8636335348220605\n",
      "AUC: 0.863590051988285\n",
      "AUC: 0.8635881614999517\n",
      "AUC: 0.8635468062666054\n",
      "AUC: 0.8635559671244784\n",
      "AUC: 0.8635938938450844\n",
      "AUC: 0.8635997847989842\n",
      "AUC: 0.8636164723637977\n",
      "AUC: 0.8636112991546212\n",
      "~~~~~~~~~~~~~~~~~~~~ Epoch:  93\n",
      "AUC: 0.8636296625251948\n",
      "AUC: 0.8636341932887597\n",
      "AUC: 0.8636009158877667\n",
      "AUC: 0.8636527633313629\n",
      "AUC: 0.8636193096984065\n",
      "AUC: 0.8635909011059262\n",
      "AUC: 0.8636256860912594\n",
      "AUC: 0.8636006835819968\n",
      "AUC: 0.863657101841877\n",
      "AUC: 0.8636728617857202\n",
      "AUC: 0.8636108409515165\n",
      "AUC: 0.8636226292677514\n",
      "AUC: 0.8636339129197272\n",
      "AUC: 0.8636223537050449\n",
      "AUC: 0.8636460585062145\n",
      "AUC: 0.8636382738597639\n",
      "AUC: 0.8636645051864433\n",
      "AUC: 0.8636726471031468\n",
      "AUC: 0.8636444435805873\n",
      "AUC: 0.8636244829075831\n",
      "AUC: 0.863613973074137\n",
      "AUC: 0.8636236530152469\n",
      "AUC: 0.8635844686392666\n",
      "AUC: 0.8636303898825705\n",
      "AUC: 0.8636185182566805\n",
      "AUC: 0.8636178533815463\n",
      "AUC: 0.863643020908011\n",
      "AUC: 0.8636406161427668\n",
      "AUC: 0.8636774518273092\n",
      "AUC: 0.8636725509766213\n",
      "AUC: 0.8636364843042823\n",
      "AUC: 0.86360025421685\n",
      "AUC: 0.8635877385432398\n",
      "AUC: 0.8635471122693779\n",
      "AUC: 0.8635564125107129\n",
      "AUC: 0.8635932930543005\n",
      "AUC: 0.8635955199854729\n",
      "AUC: 0.8636148622444968\n",
      "AUC: 0.8636094535253331\n",
      "~~~~~~~~~~~~~~~~~~~~ Epoch:  94\n",
      "AUC: 0.8636306574347329\n",
      "AUC: 0.8636357617532329\n",
      "AUC: 0.8636039246480123\n",
      "AUC: 0.8636526207436835\n",
      "AUC: 0.8636186432211637\n",
      "AUC: 0.86358833132348\n",
      "AUC: 0.8636224450252442\n",
      "AUC: 0.8635964460043344\n",
      "AUC: 0.863654213239788\n",
      "AUC: 0.8636742796519703\n",
      "AUC: 0.8636106775364235\n",
      "AUC: 0.8636201171612201\n",
      "AUC: 0.8636320512693514\n",
      "AUC: 0.863622366521915\n",
      "AUC: 0.863642836665504\n",
      "AUC: 0.8636358482671058\n",
      "AUC: 0.8636618649112118\n",
      "AUC: 0.8636712356453318\n",
      "AUC: 0.8636264182549616\n",
      "AUC: 0.8636051454548853\n",
      "AUC: 0.8636087518016975\n",
      "AUC: 0.8636176002483626\n",
      "AUC: 0.8635734589478881\n",
      "AUC: 0.8636159404636905\n",
      "AUC: 0.8636211921761959\n",
      "AUC: 0.8636201764392442\n",
      "AUC: 0.8636460408830182\n",
      "AUC: 0.8636452254096609\n",
      "AUC: 0.8636450171355226\n",
      "AUC: 0.8636380527687555\n",
      "AUC: 0.8636485898380507\n",
      "AUC: 0.8636098844925887\n",
      "AUC: 0.8635876135787568\n",
      "AUC: 0.8635481440274178\n",
      "AUC: 0.8635579024718569\n",
      "AUC: 0.8635977100681437\n",
      "AUC: 0.8636015310975294\n",
      "AUC: 0.8636150176490464\n",
      "AUC: 0.863609876482045\n",
      "~~~~~~~~~~~~~~~~~~~~ Epoch:  95\n",
      "AUC: 0.863629995763816\n",
      "AUC: 0.8636338504374856\n",
      "AUC: 0.8636062380930576\n",
      "AUC: 0.8636517395838671\n",
      "AUC: 0.8636231611678584\n",
      "AUC: 0.8635927194993656\n",
      "AUC: 0.8636267659125619\n",
      "AUC: 0.8635993281979885\n",
      "AUC: 0.8636558441865027\n",
      "AUC: 0.8636734625765042\n",
      "AUC: 0.8636090642129052\n",
      "AUC: 0.8636213844292469\n",
      "AUC: 0.8636303033686975\n",
      "AUC: 0.8636179719375945\n",
      "AUC: 0.8636401114785084\n",
      "AUC: 0.8636366140750917\n",
      "AUC: 0.8636616742602696\n",
      "AUC: 0.8636688597180451\n",
      "AUC: 0.8636263413537413\n",
      "AUC: 0.8636065136557638\n",
      "AUC: 0.8636065489021565\n",
      "AUC: 0.8636147821390592\n",
      "AUC: 0.8635810978024419\n",
      "AUC: 0.8636207003288077\n",
      "AUC: 0.8636241833132455\n",
      "AUC: 0.8636199905946282\n",
      "AUC: 0.8636460520977793\n",
      "AUC: 0.8636485545916581\n",
      "AUC: 0.8636501054329347\n",
      "AUC: 0.8636442256937965\n",
      "AUC: 0.8636437146211029\n",
      "AUC: 0.8636093846346566\n",
      "AUC: 0.863590672004374\n",
      "AUC: 0.863549078056823\n",
      "AUC: 0.8635562795356859\n",
      "AUC: 0.8635944593894757\n",
      "AUC: 0.8636020101280477\n",
      "AUC: 0.8636189780618938\n",
      "AUC: 0.8636130919143203\n",
      "~~~~~~~~~~~~~~~~~~~~ Epoch:  96\n",
      "AUC: 0.8636321858464872\n",
      "AUC: 0.8636352763142794\n",
      "AUC: 0.8636055491862922\n",
      "AUC: 0.8636470630284052\n",
      "AUC: 0.8636192119697724\n",
      "AUC: 0.8635896082041593\n",
      "AUC: 0.8636263429558502\n",
      "AUC: 0.863602647767333\n",
      "AUC: 0.863656348850761\n",
      "AUC: 0.8636740601630706\n",
      "AUC: 0.8636107127828161\n",
      "AUC: 0.8636228471545421\n",
      "AUC: 0.8636303514319603\n",
      "AUC: 0.8636188050341481\n",
      "AUC: 0.8636412073208981\n",
      "AUC: 0.8636353884618926\n",
      "AUC: 0.8636589234395338\n",
      "AUC: 0.863666836254685\n",
      "AUC: 0.8636533577137117\n",
      "AUC: 0.8636296497083246\n",
      "AUC: 0.8636170571334941\n",
      "AUC: 0.8636301495662568\n",
      "AUC: 0.8635950890182172\n",
      "AUC: 0.8636379534380126\n",
      "AUC: 0.8636208525291396\n",
      "AUC: 0.8636218346218076\n",
      "AUC: 0.8636471447359519\n",
      "AUC: 0.8636469284512696\n",
      "AUC: 0.863646925247052\n",
      "AUC: 0.8636400778342244\n",
      "AUC: 0.8636384597043798\n",
      "AUC: 0.8636032405475731\n",
      "AUC: 0.8635911846791762\n",
      "AUC: 0.8635486615085461\n",
      "AUC: 0.8635558165262552\n",
      "AUC: 0.8635908674616424\n",
      "AUC: 0.8635970580098796\n",
      "AUC: 0.8636142550452781\n",
      "AUC: 0.8636091347056905\n",
      "~~~~~~~~~~~~~~~~~~~~ Epoch:  97\n",
      "AUC: 0.863622834337672\n",
      "AUC: 0.8636296833526086\n",
      "AUC: 0.8635995476868881\n",
      "AUC: 0.8636502047636778\n",
      "AUC: 0.8636171885064121\n",
      "AUC: 0.8635889577480038\n",
      "AUC: 0.8636224962927244\n",
      "AUC: 0.863595393418881\n",
      "AUC: 0.8636537966915112\n",
      "AUC: 0.8636682236808686\n",
      "AUC: 0.8636067155214673\n",
      "AUC: 0.8636166550041962\n",
      "AUC: 0.8636289367699277\n",
      "AUC: 0.8636157353937695\n",
      "AUC: 0.8636376938963939\n",
      "AUC: 0.8636314456722414\n",
      "AUC: 0.8636585581587372\n",
      "AUC: 0.8636669612191681\n",
      "AUC: 0.8636235665013742\n",
      "AUC: 0.8636040367956255\n",
      "AUC: 0.8636064896241326\n",
      "AUC: 0.8636152884054262\n",
      "AUC: 0.8635779384439729\n",
      "AUC: 0.8636159628932132\n",
      "AUC: 0.8636187954214956\n",
      "AUC: 0.8636181017084037\n",
      "AUC: 0.8636412938347711\n",
      "AUC: 0.8636397686272343\n",
      "AUC: 0.8636438620151086\n",
      "AUC: 0.8636408356316665\n",
      "AUC: 0.8636542484861807\n",
      "AUC: 0.8636175009176197\n",
      "AUC: 0.8635900744178076\n",
      "AUC: 0.8635535543486902\n",
      "AUC: 0.8635601518325519\n",
      "AUC: 0.8635958756536171\n",
      "AUC: 0.8635999578267299\n",
      "AUC: 0.8636190004914166\n",
      "AUC: 0.8636136830924517\n",
      "~~~~~~~~~~~~~~~~~~~~ Epoch:  98\n",
      "AUC: 0.8636313495457159\n",
      "AUC: 0.8636349639030718\n",
      "AUC: 0.8636008357823288\n",
      "AUC: 0.8636499932853219\n",
      "AUC: 0.8636209871062751\n",
      "AUC: 0.8635916460864983\n",
      "AUC: 0.8636272657704942\n",
      "AUC: 0.8636058840270222\n",
      "AUC: 0.8636584972786043\n",
      "AUC: 0.8636751800370916\n",
      "AUC: 0.8636128740275293\n",
      "AUC: 0.8636232380690789\n",
      "AUC: 0.8636332720762243\n",
      "AUC: 0.8636214741473373\n",
      "AUC: 0.8636440718913557\n",
      "AUC: 0.8636385045634251\n",
      "AUC: 0.8636621100338515\n",
      "AUC: 0.8636723058539816\n",
      "AUC: 0.8636268716517399\n",
      "AUC: 0.8636065136557638\n",
      "AUC: 0.8636076431424375\n",
      "AUC: 0.8636169033310535\n",
      "AUC: 0.8635781226864798\n",
      "AUC: 0.8636143655907822\n",
      "AUC: 0.8636184237322638\n",
      "AUC: 0.8636175954420364\n",
      "AUC: 0.8636413563170124\n",
      "AUC: 0.8636397221660803\n",
      "AUC: 0.8636422342726116\n",
      "AUC: 0.8636380800046044\n",
      "AUC: 0.8636336677970874\n",
      "AUC: 0.8635933971913697\n",
      "AUC: 0.863586714795744\n",
      "AUC: 0.8635481183936775\n",
      "AUC: 0.8635578239685278\n",
      "AUC: 0.8635949432263204\n",
      "AUC: 0.8636032405475731\n",
      "AUC: 0.863617954314398\n",
      "AUC: 0.8636122331840266\n",
      "~~~~~~~~~~~~~~~~~~~~ Epoch:  99\n"
     ]
    }
   ],
   "source": [
    "batch_sz = 50000\n",
    "clf = SGDClassifier(loss='log', alpha=0.01)\n",
    "x_test_diff_sample = secondary_scaler.transform(np.abs(XX_test[X_idxs_test[:batch_sz, 0]] - XX_test[X_idxs_test[:batch_sz, 1]]))\n",
    "y_test_sample = Y_test[:batch_sz]\n",
    "aucs = []\n",
    "for i in range(100):\n",
    "    for idxs in chunker(np.arange(len(X_idxs_train)), batch_sz):\n",
    "        x_diff = secondary_scaler.transform(np.abs(XX_train[X_idxs_train[idxs, 0]] - XX_train[X_idxs_train[idxs, 1]]))\n",
    "        x_diff[np.isnan(x_diff)]=0\n",
    "        y = Y_train[idxs]\n",
    "        clf.partial_fit(x_diff, y, classes=[0, 1])\n",
    "\n",
    "        probs = clf.predict_proba(x_test_diff_sample)[:, 1]\n",
    "\n",
    "        fpr, tpr, thresh = roc_curve(y_test_sample, probs)\n",
    "        roc_auc = auc(fpr, tpr)\n",
    "        print('AUC:', roc_auc)\n",
    "    print('~'*20, 'Epoch: ', i)\n",
    "    aucs.append(roc_auc)"
   ]
  },
  {
   "cell_type": "code",
   "execution_count": 17,
   "metadata": {},
   "outputs": [
    {
     "data": {
      "application/vnd.plotly.v1+json": {
       "config": {
        "plotlyServerURL": "https://plot.ly"
       },
       "data": [
        {
         "type": "scatter",
         "y": [
          0.856828263863102,
          0.860337117551066,
          0.8614952098766557,
          0.8622965878811581,
          0.8626651594091563,
          0.8627816743706229,
          0.8629993576937718,
          0.8631444174269629,
          0.8631542015051424,
          0.8633013103354339,
          0.8632714502324196,
          0.8633566295487065,
          0.8634172581504003,
          0.8634029433086559,
          0.8634579260790898,
          0.8634700684613594,
          0.8635195768261703,
          0.8634718211683396,
          0.863458510848786,
          0.8634905482176011,
          0.8635389094725417,
          0.8635103278523159,
          0.8635284220686181,
          0.863531970739515,
          0.8635411364037142,
          0.8635420800457722,
          0.8635588220822835,
          0.8635508563975433,
          0.8635579088802918,
          0.8635826598584798,
          0.8635761280610772,
          0.8635774433923669,
          0.8635931072096846,
          0.863587605568213,
          0.8635733612192538,
          0.863576169715905,
          0.8635789381598372,
          0.8635959525548373,
          0.8635852136198385,
          0.8635827415660264,
          0.8635959060936833,
          0.863590862655316,
          0.8635855548690039,
          0.8635981506480519,
          0.8635945715370887,
          0.8635988860159713,
          0.8635984358234108,
          0.8635997783905491,
          0.8636089600758359,
          0.8636024459016296,
          0.8636005137584686,
          0.8636081478066959,
          0.8635994419477102,
          0.8636039246480123,
          0.863603735599179,
          0.863605754256213,
          0.8635995140426042,
          0.8636106118499646,
          0.8636077825258994,
          0.8636062701352326,
          0.8636024330847597,
          0.8636048907195929,
          0.8636075117695196,
          0.86360708560859,
          0.8635993346064235,
          0.8636108217262116,
          0.8636092772933699,
          0.8636088655514191,
          0.8636112671124461,
          0.8636052495919545,
          0.863605813534237,
          0.8636020662018543,
          0.8636123325147697,
          0.8636126240985633,
          0.8636131624071057,
          0.8636086108161268,
          0.8636077504837243,
          0.8636053312995011,
          0.8636125263699291,
          0.8636061147306834,
          0.8636142886895618,
          0.8636120825858036,
          0.8636127795031128,
          0.8636064223355648,
          0.863610310653518,
          0.8636084137567497,
          0.8636139794825719,
          0.8636088174881565,
          0.8636113824642765,
          0.863607502156867,
          0.8636118470758161,
          0.8636122924620506,
          0.8636126689576085,
          0.8636112991546212,
          0.8636094535253331,
          0.863609876482045,
          0.8636130919143203,
          0.8636091347056905,
          0.8636136830924517,
          0.8636122331840266
         ]
        }
       ],
       "layout": {
        "template": {
         "data": {
          "bar": [
           {
            "error_x": {
             "color": "#2a3f5f"
            },
            "error_y": {
             "color": "#2a3f5f"
            },
            "marker": {
             "line": {
              "color": "#E5ECF6",
              "width": 0.5
             }
            },
            "type": "bar"
           }
          ],
          "barpolar": [
           {
            "marker": {
             "line": {
              "color": "#E5ECF6",
              "width": 0.5
             }
            },
            "type": "barpolar"
           }
          ],
          "carpet": [
           {
            "aaxis": {
             "endlinecolor": "#2a3f5f",
             "gridcolor": "white",
             "linecolor": "white",
             "minorgridcolor": "white",
             "startlinecolor": "#2a3f5f"
            },
            "baxis": {
             "endlinecolor": "#2a3f5f",
             "gridcolor": "white",
             "linecolor": "white",
             "minorgridcolor": "white",
             "startlinecolor": "#2a3f5f"
            },
            "type": "carpet"
           }
          ],
          "choropleth": [
           {
            "colorbar": {
             "outlinewidth": 0,
             "ticks": ""
            },
            "type": "choropleth"
           }
          ],
          "contour": [
           {
            "colorbar": {
             "outlinewidth": 0,
             "ticks": ""
            },
            "colorscale": [
             [
              0,
              "#0d0887"
             ],
             [
              0.1111111111111111,
              "#46039f"
             ],
             [
              0.2222222222222222,
              "#7201a8"
             ],
             [
              0.3333333333333333,
              "#9c179e"
             ],
             [
              0.4444444444444444,
              "#bd3786"
             ],
             [
              0.5555555555555556,
              "#d8576b"
             ],
             [
              0.6666666666666666,
              "#ed7953"
             ],
             [
              0.7777777777777778,
              "#fb9f3a"
             ],
             [
              0.8888888888888888,
              "#fdca26"
             ],
             [
              1,
              "#f0f921"
             ]
            ],
            "type": "contour"
           }
          ],
          "contourcarpet": [
           {
            "colorbar": {
             "outlinewidth": 0,
             "ticks": ""
            },
            "type": "contourcarpet"
           }
          ],
          "heatmap": [
           {
            "colorbar": {
             "outlinewidth": 0,
             "ticks": ""
            },
            "colorscale": [
             [
              0,
              "#0d0887"
             ],
             [
              0.1111111111111111,
              "#46039f"
             ],
             [
              0.2222222222222222,
              "#7201a8"
             ],
             [
              0.3333333333333333,
              "#9c179e"
             ],
             [
              0.4444444444444444,
              "#bd3786"
             ],
             [
              0.5555555555555556,
              "#d8576b"
             ],
             [
              0.6666666666666666,
              "#ed7953"
             ],
             [
              0.7777777777777778,
              "#fb9f3a"
             ],
             [
              0.8888888888888888,
              "#fdca26"
             ],
             [
              1,
              "#f0f921"
             ]
            ],
            "type": "heatmap"
           }
          ],
          "heatmapgl": [
           {
            "colorbar": {
             "outlinewidth": 0,
             "ticks": ""
            },
            "colorscale": [
             [
              0,
              "#0d0887"
             ],
             [
              0.1111111111111111,
              "#46039f"
             ],
             [
              0.2222222222222222,
              "#7201a8"
             ],
             [
              0.3333333333333333,
              "#9c179e"
             ],
             [
              0.4444444444444444,
              "#bd3786"
             ],
             [
              0.5555555555555556,
              "#d8576b"
             ],
             [
              0.6666666666666666,
              "#ed7953"
             ],
             [
              0.7777777777777778,
              "#fb9f3a"
             ],
             [
              0.8888888888888888,
              "#fdca26"
             ],
             [
              1,
              "#f0f921"
             ]
            ],
            "type": "heatmapgl"
           }
          ],
          "histogram": [
           {
            "marker": {
             "colorbar": {
              "outlinewidth": 0,
              "ticks": ""
             }
            },
            "type": "histogram"
           }
          ],
          "histogram2d": [
           {
            "colorbar": {
             "outlinewidth": 0,
             "ticks": ""
            },
            "colorscale": [
             [
              0,
              "#0d0887"
             ],
             [
              0.1111111111111111,
              "#46039f"
             ],
             [
              0.2222222222222222,
              "#7201a8"
             ],
             [
              0.3333333333333333,
              "#9c179e"
             ],
             [
              0.4444444444444444,
              "#bd3786"
             ],
             [
              0.5555555555555556,
              "#d8576b"
             ],
             [
              0.6666666666666666,
              "#ed7953"
             ],
             [
              0.7777777777777778,
              "#fb9f3a"
             ],
             [
              0.8888888888888888,
              "#fdca26"
             ],
             [
              1,
              "#f0f921"
             ]
            ],
            "type": "histogram2d"
           }
          ],
          "histogram2dcontour": [
           {
            "colorbar": {
             "outlinewidth": 0,
             "ticks": ""
            },
            "colorscale": [
             [
              0,
              "#0d0887"
             ],
             [
              0.1111111111111111,
              "#46039f"
             ],
             [
              0.2222222222222222,
              "#7201a8"
             ],
             [
              0.3333333333333333,
              "#9c179e"
             ],
             [
              0.4444444444444444,
              "#bd3786"
             ],
             [
              0.5555555555555556,
              "#d8576b"
             ],
             [
              0.6666666666666666,
              "#ed7953"
             ],
             [
              0.7777777777777778,
              "#fb9f3a"
             ],
             [
              0.8888888888888888,
              "#fdca26"
             ],
             [
              1,
              "#f0f921"
             ]
            ],
            "type": "histogram2dcontour"
           }
          ],
          "mesh3d": [
           {
            "colorbar": {
             "outlinewidth": 0,
             "ticks": ""
            },
            "type": "mesh3d"
           }
          ],
          "parcoords": [
           {
            "line": {
             "colorbar": {
              "outlinewidth": 0,
              "ticks": ""
             }
            },
            "type": "parcoords"
           }
          ],
          "scatter": [
           {
            "marker": {
             "colorbar": {
              "outlinewidth": 0,
              "ticks": ""
             }
            },
            "type": "scatter"
           }
          ],
          "scatter3d": [
           {
            "line": {
             "colorbar": {
              "outlinewidth": 0,
              "ticks": ""
             }
            },
            "marker": {
             "colorbar": {
              "outlinewidth": 0,
              "ticks": ""
             }
            },
            "type": "scatter3d"
           }
          ],
          "scattercarpet": [
           {
            "marker": {
             "colorbar": {
              "outlinewidth": 0,
              "ticks": ""
             }
            },
            "type": "scattercarpet"
           }
          ],
          "scattergeo": [
           {
            "marker": {
             "colorbar": {
              "outlinewidth": 0,
              "ticks": ""
             }
            },
            "type": "scattergeo"
           }
          ],
          "scattergl": [
           {
            "marker": {
             "colorbar": {
              "outlinewidth": 0,
              "ticks": ""
             }
            },
            "type": "scattergl"
           }
          ],
          "scattermapbox": [
           {
            "marker": {
             "colorbar": {
              "outlinewidth": 0,
              "ticks": ""
             }
            },
            "type": "scattermapbox"
           }
          ],
          "scatterpolar": [
           {
            "marker": {
             "colorbar": {
              "outlinewidth": 0,
              "ticks": ""
             }
            },
            "type": "scatterpolar"
           }
          ],
          "scatterpolargl": [
           {
            "marker": {
             "colorbar": {
              "outlinewidth": 0,
              "ticks": ""
             }
            },
            "type": "scatterpolargl"
           }
          ],
          "scatterternary": [
           {
            "marker": {
             "colorbar": {
              "outlinewidth": 0,
              "ticks": ""
             }
            },
            "type": "scatterternary"
           }
          ],
          "surface": [
           {
            "colorbar": {
             "outlinewidth": 0,
             "ticks": ""
            },
            "colorscale": [
             [
              0,
              "#0d0887"
             ],
             [
              0.1111111111111111,
              "#46039f"
             ],
             [
              0.2222222222222222,
              "#7201a8"
             ],
             [
              0.3333333333333333,
              "#9c179e"
             ],
             [
              0.4444444444444444,
              "#bd3786"
             ],
             [
              0.5555555555555556,
              "#d8576b"
             ],
             [
              0.6666666666666666,
              "#ed7953"
             ],
             [
              0.7777777777777778,
              "#fb9f3a"
             ],
             [
              0.8888888888888888,
              "#fdca26"
             ],
             [
              1,
              "#f0f921"
             ]
            ],
            "type": "surface"
           }
          ],
          "table": [
           {
            "cells": {
             "fill": {
              "color": "#EBF0F8"
             },
             "line": {
              "color": "white"
             }
            },
            "header": {
             "fill": {
              "color": "#C8D4E3"
             },
             "line": {
              "color": "white"
             }
            },
            "type": "table"
           }
          ]
         },
         "layout": {
          "annotationdefaults": {
           "arrowcolor": "#2a3f5f",
           "arrowhead": 0,
           "arrowwidth": 1
          },
          "colorscale": {
           "diverging": [
            [
             0,
             "#8e0152"
            ],
            [
             0.1,
             "#c51b7d"
            ],
            [
             0.2,
             "#de77ae"
            ],
            [
             0.3,
             "#f1b6da"
            ],
            [
             0.4,
             "#fde0ef"
            ],
            [
             0.5,
             "#f7f7f7"
            ],
            [
             0.6,
             "#e6f5d0"
            ],
            [
             0.7,
             "#b8e186"
            ],
            [
             0.8,
             "#7fbc41"
            ],
            [
             0.9,
             "#4d9221"
            ],
            [
             1,
             "#276419"
            ]
           ],
           "sequential": [
            [
             0,
             "#0d0887"
            ],
            [
             0.1111111111111111,
             "#46039f"
            ],
            [
             0.2222222222222222,
             "#7201a8"
            ],
            [
             0.3333333333333333,
             "#9c179e"
            ],
            [
             0.4444444444444444,
             "#bd3786"
            ],
            [
             0.5555555555555556,
             "#d8576b"
            ],
            [
             0.6666666666666666,
             "#ed7953"
            ],
            [
             0.7777777777777778,
             "#fb9f3a"
            ],
            [
             0.8888888888888888,
             "#fdca26"
            ],
            [
             1,
             "#f0f921"
            ]
           ],
           "sequentialminus": [
            [
             0,
             "#0d0887"
            ],
            [
             0.1111111111111111,
             "#46039f"
            ],
            [
             0.2222222222222222,
             "#7201a8"
            ],
            [
             0.3333333333333333,
             "#9c179e"
            ],
            [
             0.4444444444444444,
             "#bd3786"
            ],
            [
             0.5555555555555556,
             "#d8576b"
            ],
            [
             0.6666666666666666,
             "#ed7953"
            ],
            [
             0.7777777777777778,
             "#fb9f3a"
            ],
            [
             0.8888888888888888,
             "#fdca26"
            ],
            [
             1,
             "#f0f921"
            ]
           ]
          },
          "colorway": [
           "#636efa",
           "#EF553B",
           "#00cc96",
           "#ab63fa",
           "#FFA15A",
           "#19d3f3",
           "#FF6692",
           "#B6E880",
           "#FF97FF",
           "#FECB52"
          ],
          "font": {
           "color": "#2a3f5f"
          },
          "geo": {
           "bgcolor": "white",
           "lakecolor": "white",
           "landcolor": "#E5ECF6",
           "showlakes": true,
           "showland": true,
           "subunitcolor": "white"
          },
          "hoverlabel": {
           "align": "left"
          },
          "hovermode": "closest",
          "mapbox": {
           "style": "light"
          },
          "paper_bgcolor": "white",
          "plot_bgcolor": "#E5ECF6",
          "polar": {
           "angularaxis": {
            "gridcolor": "white",
            "linecolor": "white",
            "ticks": ""
           },
           "bgcolor": "#E5ECF6",
           "radialaxis": {
            "gridcolor": "white",
            "linecolor": "white",
            "ticks": ""
           }
          },
          "scene": {
           "xaxis": {
            "backgroundcolor": "#E5ECF6",
            "gridcolor": "white",
            "gridwidth": 2,
            "linecolor": "white",
            "showbackground": true,
            "ticks": "",
            "zerolinecolor": "white"
           },
           "yaxis": {
            "backgroundcolor": "#E5ECF6",
            "gridcolor": "white",
            "gridwidth": 2,
            "linecolor": "white",
            "showbackground": true,
            "ticks": "",
            "zerolinecolor": "white"
           },
           "zaxis": {
            "backgroundcolor": "#E5ECF6",
            "gridcolor": "white",
            "gridwidth": 2,
            "linecolor": "white",
            "showbackground": true,
            "ticks": "",
            "zerolinecolor": "white"
           }
          },
          "shapedefaults": {
           "line": {
            "color": "#2a3f5f"
           }
          },
          "ternary": {
           "aaxis": {
            "gridcolor": "white",
            "linecolor": "white",
            "ticks": ""
           },
           "baxis": {
            "gridcolor": "white",
            "linecolor": "white",
            "ticks": ""
           },
           "bgcolor": "#E5ECF6",
           "caxis": {
            "gridcolor": "white",
            "linecolor": "white",
            "ticks": ""
           }
          },
          "title": {
           "x": 0.05
          },
          "xaxis": {
           "automargin": true,
           "gridcolor": "white",
           "linecolor": "white",
           "ticks": "",
           "zerolinecolor": "white",
           "zerolinewidth": 2
          },
          "yaxis": {
           "automargin": true,
           "gridcolor": "white",
           "linecolor": "white",
           "ticks": "",
           "zerolinecolor": "white",
           "zerolinewidth": 2
          }
         }
        }
       }
      },
      "text/html": [
       "<div>\n",
       "        \n",
       "        \n",
       "            <div id=\"23358d85-0517-4d2e-9889-1251e6b275f3\" class=\"plotly-graph-div\" style=\"height:525px; width:100%;\"></div>\n",
       "            <script type=\"text/javascript\">\n",
       "                require([\"plotly\"], function(Plotly) {\n",
       "                    window.PLOTLYENV=window.PLOTLYENV || {};\n",
       "                    \n",
       "                if (document.getElementById(\"23358d85-0517-4d2e-9889-1251e6b275f3\")) {\n",
       "                    Plotly.newPlot(\n",
       "                        '23358d85-0517-4d2e-9889-1251e6b275f3',\n",
       "                        [{\"type\": \"scatter\", \"y\": [0.856828263863102, 0.860337117551066, 0.8614952098766557, 0.8622965878811581, 0.8626651594091563, 0.8627816743706229, 0.8629993576937718, 0.8631444174269629, 0.8631542015051424, 0.8633013103354339, 0.8632714502324196, 0.8633566295487065, 0.8634172581504003, 0.8634029433086559, 0.8634579260790898, 0.8634700684613594, 0.8635195768261703, 0.8634718211683396, 0.863458510848786, 0.8634905482176011, 0.8635389094725417, 0.8635103278523159, 0.8635284220686181, 0.863531970739515, 0.8635411364037142, 0.8635420800457722, 0.8635588220822835, 0.8635508563975433, 0.8635579088802918, 0.8635826598584798, 0.8635761280610772, 0.8635774433923669, 0.8635931072096846, 0.863587605568213, 0.8635733612192538, 0.863576169715905, 0.8635789381598372, 0.8635959525548373, 0.8635852136198385, 0.8635827415660264, 0.8635959060936833, 0.863590862655316, 0.8635855548690039, 0.8635981506480519, 0.8635945715370887, 0.8635988860159713, 0.8635984358234108, 0.8635997783905491, 0.8636089600758359, 0.8636024459016296, 0.8636005137584686, 0.8636081478066959, 0.8635994419477102, 0.8636039246480123, 0.863603735599179, 0.863605754256213, 0.8635995140426042, 0.8636106118499646, 0.8636077825258994, 0.8636062701352326, 0.8636024330847597, 0.8636048907195929, 0.8636075117695196, 0.86360708560859, 0.8635993346064235, 0.8636108217262116, 0.8636092772933699, 0.8636088655514191, 0.8636112671124461, 0.8636052495919545, 0.863605813534237, 0.8636020662018543, 0.8636123325147697, 0.8636126240985633, 0.8636131624071057, 0.8636086108161268, 0.8636077504837243, 0.8636053312995011, 0.8636125263699291, 0.8636061147306834, 0.8636142886895618, 0.8636120825858036, 0.8636127795031128, 0.8636064223355648, 0.863610310653518, 0.8636084137567497, 0.8636139794825719, 0.8636088174881565, 0.8636113824642765, 0.863607502156867, 0.8636118470758161, 0.8636122924620506, 0.8636126689576085, 0.8636112991546212, 0.8636094535253331, 0.863609876482045, 0.8636130919143203, 0.8636091347056905, 0.8636136830924517, 0.8636122331840266]}],\n",
       "                        {\"template\": {\"data\": {\"bar\": [{\"error_x\": {\"color\": \"#2a3f5f\"}, \"error_y\": {\"color\": \"#2a3f5f\"}, \"marker\": {\"line\": {\"color\": \"#E5ECF6\", \"width\": 0.5}}, \"type\": \"bar\"}], \"barpolar\": [{\"marker\": {\"line\": {\"color\": \"#E5ECF6\", \"width\": 0.5}}, \"type\": \"barpolar\"}], \"carpet\": [{\"aaxis\": {\"endlinecolor\": \"#2a3f5f\", \"gridcolor\": \"white\", \"linecolor\": \"white\", \"minorgridcolor\": \"white\", \"startlinecolor\": \"#2a3f5f\"}, \"baxis\": {\"endlinecolor\": \"#2a3f5f\", \"gridcolor\": \"white\", \"linecolor\": \"white\", \"minorgridcolor\": \"white\", \"startlinecolor\": \"#2a3f5f\"}, \"type\": \"carpet\"}], \"choropleth\": [{\"colorbar\": {\"outlinewidth\": 0, \"ticks\": \"\"}, \"type\": \"choropleth\"}], \"contour\": [{\"colorbar\": {\"outlinewidth\": 0, \"ticks\": \"\"}, \"colorscale\": [[0.0, \"#0d0887\"], [0.1111111111111111, \"#46039f\"], [0.2222222222222222, \"#7201a8\"], [0.3333333333333333, \"#9c179e\"], [0.4444444444444444, \"#bd3786\"], [0.5555555555555556, \"#d8576b\"], [0.6666666666666666, \"#ed7953\"], [0.7777777777777778, \"#fb9f3a\"], [0.8888888888888888, \"#fdca26\"], [1.0, \"#f0f921\"]], \"type\": \"contour\"}], \"contourcarpet\": [{\"colorbar\": {\"outlinewidth\": 0, \"ticks\": \"\"}, \"type\": \"contourcarpet\"}], \"heatmap\": [{\"colorbar\": {\"outlinewidth\": 0, \"ticks\": \"\"}, \"colorscale\": [[0.0, \"#0d0887\"], [0.1111111111111111, \"#46039f\"], [0.2222222222222222, \"#7201a8\"], [0.3333333333333333, \"#9c179e\"], [0.4444444444444444, \"#bd3786\"], [0.5555555555555556, \"#d8576b\"], [0.6666666666666666, \"#ed7953\"], [0.7777777777777778, \"#fb9f3a\"], [0.8888888888888888, \"#fdca26\"], [1.0, \"#f0f921\"]], \"type\": \"heatmap\"}], \"heatmapgl\": [{\"colorbar\": {\"outlinewidth\": 0, \"ticks\": \"\"}, \"colorscale\": [[0.0, \"#0d0887\"], [0.1111111111111111, \"#46039f\"], [0.2222222222222222, \"#7201a8\"], [0.3333333333333333, \"#9c179e\"], [0.4444444444444444, \"#bd3786\"], [0.5555555555555556, \"#d8576b\"], [0.6666666666666666, \"#ed7953\"], [0.7777777777777778, \"#fb9f3a\"], [0.8888888888888888, \"#fdca26\"], [1.0, \"#f0f921\"]], \"type\": \"heatmapgl\"}], \"histogram\": [{\"marker\": {\"colorbar\": {\"outlinewidth\": 0, \"ticks\": \"\"}}, \"type\": \"histogram\"}], \"histogram2d\": [{\"colorbar\": {\"outlinewidth\": 0, \"ticks\": \"\"}, \"colorscale\": [[0.0, \"#0d0887\"], [0.1111111111111111, \"#46039f\"], [0.2222222222222222, \"#7201a8\"], [0.3333333333333333, \"#9c179e\"], [0.4444444444444444, \"#bd3786\"], [0.5555555555555556, \"#d8576b\"], [0.6666666666666666, \"#ed7953\"], [0.7777777777777778, \"#fb9f3a\"], [0.8888888888888888, \"#fdca26\"], [1.0, \"#f0f921\"]], \"type\": \"histogram2d\"}], \"histogram2dcontour\": [{\"colorbar\": {\"outlinewidth\": 0, \"ticks\": \"\"}, \"colorscale\": [[0.0, \"#0d0887\"], [0.1111111111111111, \"#46039f\"], [0.2222222222222222, \"#7201a8\"], [0.3333333333333333, \"#9c179e\"], [0.4444444444444444, \"#bd3786\"], [0.5555555555555556, \"#d8576b\"], [0.6666666666666666, \"#ed7953\"], [0.7777777777777778, \"#fb9f3a\"], [0.8888888888888888, \"#fdca26\"], [1.0, \"#f0f921\"]], \"type\": \"histogram2dcontour\"}], \"mesh3d\": [{\"colorbar\": {\"outlinewidth\": 0, \"ticks\": \"\"}, \"type\": \"mesh3d\"}], \"parcoords\": [{\"line\": {\"colorbar\": {\"outlinewidth\": 0, \"ticks\": \"\"}}, \"type\": \"parcoords\"}], \"scatter\": [{\"marker\": {\"colorbar\": {\"outlinewidth\": 0, \"ticks\": \"\"}}, \"type\": \"scatter\"}], \"scatter3d\": [{\"line\": {\"colorbar\": {\"outlinewidth\": 0, \"ticks\": \"\"}}, \"marker\": {\"colorbar\": {\"outlinewidth\": 0, \"ticks\": \"\"}}, \"type\": \"scatter3d\"}], \"scattercarpet\": [{\"marker\": {\"colorbar\": {\"outlinewidth\": 0, \"ticks\": \"\"}}, \"type\": \"scattercarpet\"}], \"scattergeo\": [{\"marker\": {\"colorbar\": {\"outlinewidth\": 0, \"ticks\": \"\"}}, \"type\": \"scattergeo\"}], \"scattergl\": [{\"marker\": {\"colorbar\": {\"outlinewidth\": 0, \"ticks\": \"\"}}, \"type\": \"scattergl\"}], \"scattermapbox\": [{\"marker\": {\"colorbar\": {\"outlinewidth\": 0, \"ticks\": \"\"}}, \"type\": \"scattermapbox\"}], \"scatterpolar\": [{\"marker\": {\"colorbar\": {\"outlinewidth\": 0, \"ticks\": \"\"}}, \"type\": \"scatterpolar\"}], \"scatterpolargl\": [{\"marker\": {\"colorbar\": {\"outlinewidth\": 0, \"ticks\": \"\"}}, \"type\": \"scatterpolargl\"}], \"scatterternary\": [{\"marker\": {\"colorbar\": {\"outlinewidth\": 0, \"ticks\": \"\"}}, \"type\": \"scatterternary\"}], \"surface\": [{\"colorbar\": {\"outlinewidth\": 0, \"ticks\": \"\"}, \"colorscale\": [[0.0, \"#0d0887\"], [0.1111111111111111, \"#46039f\"], [0.2222222222222222, \"#7201a8\"], [0.3333333333333333, \"#9c179e\"], [0.4444444444444444, \"#bd3786\"], [0.5555555555555556, \"#d8576b\"], [0.6666666666666666, \"#ed7953\"], [0.7777777777777778, \"#fb9f3a\"], [0.8888888888888888, \"#fdca26\"], [1.0, \"#f0f921\"]], \"type\": \"surface\"}], \"table\": [{\"cells\": {\"fill\": {\"color\": \"#EBF0F8\"}, \"line\": {\"color\": \"white\"}}, \"header\": {\"fill\": {\"color\": \"#C8D4E3\"}, \"line\": {\"color\": \"white\"}}, \"type\": \"table\"}]}, \"layout\": {\"annotationdefaults\": {\"arrowcolor\": \"#2a3f5f\", \"arrowhead\": 0, \"arrowwidth\": 1}, \"colorscale\": {\"diverging\": [[0, \"#8e0152\"], [0.1, \"#c51b7d\"], [0.2, \"#de77ae\"], [0.3, \"#f1b6da\"], [0.4, \"#fde0ef\"], [0.5, \"#f7f7f7\"], [0.6, \"#e6f5d0\"], [0.7, \"#b8e186\"], [0.8, \"#7fbc41\"], [0.9, \"#4d9221\"], [1, \"#276419\"]], \"sequential\": [[0.0, \"#0d0887\"], [0.1111111111111111, \"#46039f\"], [0.2222222222222222, \"#7201a8\"], [0.3333333333333333, \"#9c179e\"], [0.4444444444444444, \"#bd3786\"], [0.5555555555555556, \"#d8576b\"], [0.6666666666666666, \"#ed7953\"], [0.7777777777777778, \"#fb9f3a\"], [0.8888888888888888, \"#fdca26\"], [1.0, \"#f0f921\"]], \"sequentialminus\": [[0.0, \"#0d0887\"], [0.1111111111111111, \"#46039f\"], [0.2222222222222222, \"#7201a8\"], [0.3333333333333333, \"#9c179e\"], [0.4444444444444444, \"#bd3786\"], [0.5555555555555556, \"#d8576b\"], [0.6666666666666666, \"#ed7953\"], [0.7777777777777778, \"#fb9f3a\"], [0.8888888888888888, \"#fdca26\"], [1.0, \"#f0f921\"]]}, \"colorway\": [\"#636efa\", \"#EF553B\", \"#00cc96\", \"#ab63fa\", \"#FFA15A\", \"#19d3f3\", \"#FF6692\", \"#B6E880\", \"#FF97FF\", \"#FECB52\"], \"font\": {\"color\": \"#2a3f5f\"}, \"geo\": {\"bgcolor\": \"white\", \"lakecolor\": \"white\", \"landcolor\": \"#E5ECF6\", \"showlakes\": true, \"showland\": true, \"subunitcolor\": \"white\"}, \"hoverlabel\": {\"align\": \"left\"}, \"hovermode\": \"closest\", \"mapbox\": {\"style\": \"light\"}, \"paper_bgcolor\": \"white\", \"plot_bgcolor\": \"#E5ECF6\", \"polar\": {\"angularaxis\": {\"gridcolor\": \"white\", \"linecolor\": \"white\", \"ticks\": \"\"}, \"bgcolor\": \"#E5ECF6\", \"radialaxis\": {\"gridcolor\": \"white\", \"linecolor\": \"white\", \"ticks\": \"\"}}, \"scene\": {\"xaxis\": {\"backgroundcolor\": \"#E5ECF6\", \"gridcolor\": \"white\", \"gridwidth\": 2, \"linecolor\": \"white\", \"showbackground\": true, \"ticks\": \"\", \"zerolinecolor\": \"white\"}, \"yaxis\": {\"backgroundcolor\": \"#E5ECF6\", \"gridcolor\": \"white\", \"gridwidth\": 2, \"linecolor\": \"white\", \"showbackground\": true, \"ticks\": \"\", \"zerolinecolor\": \"white\"}, \"zaxis\": {\"backgroundcolor\": \"#E5ECF6\", \"gridcolor\": \"white\", \"gridwidth\": 2, \"linecolor\": \"white\", \"showbackground\": true, \"ticks\": \"\", \"zerolinecolor\": \"white\"}}, \"shapedefaults\": {\"line\": {\"color\": \"#2a3f5f\"}}, \"ternary\": {\"aaxis\": {\"gridcolor\": \"white\", \"linecolor\": \"white\", \"ticks\": \"\"}, \"baxis\": {\"gridcolor\": \"white\", \"linecolor\": \"white\", \"ticks\": \"\"}, \"bgcolor\": \"#E5ECF6\", \"caxis\": {\"gridcolor\": \"white\", \"linecolor\": \"white\", \"ticks\": \"\"}}, \"title\": {\"x\": 0.05}, \"xaxis\": {\"automargin\": true, \"gridcolor\": \"white\", \"linecolor\": \"white\", \"ticks\": \"\", \"zerolinecolor\": \"white\", \"zerolinewidth\": 2}, \"yaxis\": {\"automargin\": true, \"gridcolor\": \"white\", \"linecolor\": \"white\", \"ticks\": \"\", \"zerolinecolor\": \"white\", \"zerolinewidth\": 2}}}},\n",
       "                        {\"responsive\": true}\n",
       "                    ).then(function(){\n",
       "                            \n",
       "var gd = document.getElementById('23358d85-0517-4d2e-9889-1251e6b275f3');\n",
       "var x = new MutationObserver(function (mutations, observer) {{\n",
       "        var display = window.getComputedStyle(gd).display;\n",
       "        if (!display || display === 'none') {{\n",
       "            console.log([gd, 'removed!']);\n",
       "            Plotly.purge(gd);\n",
       "            observer.disconnect();\n",
       "        }}\n",
       "}});\n",
       "\n",
       "// Listen for the removal of the full notebook cells\n",
       "var notebookContainer = gd.closest('#notebook-container');\n",
       "if (notebookContainer) {{\n",
       "    x.observe(notebookContainer, {childList: true});\n",
       "}}\n",
       "\n",
       "// Listen for the clearing of the current output cell\n",
       "var outputEl = gd.closest('.output');\n",
       "if (outputEl) {{\n",
       "    x.observe(outputEl, {childList: true});\n",
       "}}\n",
       "\n",
       "                        })\n",
       "                };\n",
       "                });\n",
       "            </script>\n",
       "        </div>"
      ]
     },
     "metadata": {},
     "output_type": "display_data"
    }
   ],
   "source": [
    "# Chunk size 10, capped at 40\n",
    "fig = go.Figure()\n",
    "fig.add_trace(go.Scatter(y=aucs))\n",
    "# fig.add_trace(go.Histogram/(x=pred_means[labels==False]))"
   ]
  },
  {
   "cell_type": "code",
   "execution_count": 23,
   "metadata": {},
   "outputs": [
    {
     "data": {
      "application/vnd.plotly.v1+json": {
       "config": {
        "plotlyServerURL": "https://plot.ly"
       },
       "data": [
        {
         "type": "scatter",
         "y": [
          0.8936001758175733,
          0.8999246129618164,
          0.9022863083274112,
          0.9033420136010919,
          0.904233103824023,
          0.9046806791969302,
          0.9048315038078365,
          0.9050732720224085,
          0.9050757196377925,
          0.9052576391355642,
          0.9054080609232265,
          0.9054888128566339,
          0.9055421986417835,
          0.9055371677911659,
          0.9055226144896678,
          0.9055747151152888,
          0.9055915368202265,
          0.9056196278888717,
          0.9056427446151698,
          0.9056510432583583,
          0.9056851968571928,
          0.9056316157148784,
          0.9056744150791358,
          0.9056693632397317,
          0.9057035959501452,
          0.9057139514943886,
          0.905665020175495,
          0.9056634460165243,
          0.905667240143274,
          0.9056967051701591,
          0.9057265270064111,
          0.9056912965213886,
          0.9057023834441075,
          0.905728517712063,
          0.9056896319491847,
          0.9057249706071825,
          0.9057039075528953,
          0.9057346884152275,
          0.9057073464848003,
          0.9057286404157365,
          0.9057176067722444,
          0.9057111825891224,
          0.9057159761050031,
          0.905703043783614,
          0.9057306860151373,
          0.9057051797962479,
          0.9057290375881537,
          0.9057300724967693,
          0.9057167962821898,
          0.9057132653225297,
          0.9057246590044324,
          0.9057316741026142,
          0.9057352034477524,
          0.9057227619410578,
          0.9057209908104005,
          0.9057312591704548,
          0.9057199785050933,
          0.9057385777987765,
          0.9057192325959198,
          0.9057147603699212,
          0.9057142324212204,
          0.9057237419559244,
          0.9057259732253576,
          0.9057414968545905,
          0.905721636619209,
          0.9057281108525137,
          0.9057047600205225,
          0.9057161004231987,
          0.9057263138895042,
          0.9057400647735578,
          0.9057253322601153,
          0.9057361091946062,
          0.9057317645158475,
          0.9057220596239786,
          0.9057218368199397,
          0.9057195603438899,
          0.9057241875640024,
          0.9057298948993469,
          0.9057283385001186,
          0.905726307431416,
          0.9057286581754789,
          0.9057131619931202,
          0.9057308668416036,
          0.9057214348039564,
          0.9057252870534988,
          0.9057301887423549,
          0.9057295962127729,
          0.9057272357815783,
          0.9057330851948606,
          0.9057254904832734,
          0.905727976847186,
          0.9057307134620116,
          0.9057343009299426,
          0.9057189936466604,
          0.9057290908673805,
          0.9057252144000079,
          0.9057252483049703,
          0.9057218448925498,
          0.9057239809051837,
          0.9057318743033449
         ]
        }
       ],
       "layout": {
        "template": {
         "data": {
          "bar": [
           {
            "error_x": {
             "color": "#2a3f5f"
            },
            "error_y": {
             "color": "#2a3f5f"
            },
            "marker": {
             "line": {
              "color": "#E5ECF6",
              "width": 0.5
             }
            },
            "type": "bar"
           }
          ],
          "barpolar": [
           {
            "marker": {
             "line": {
              "color": "#E5ECF6",
              "width": 0.5
             }
            },
            "type": "barpolar"
           }
          ],
          "carpet": [
           {
            "aaxis": {
             "endlinecolor": "#2a3f5f",
             "gridcolor": "white",
             "linecolor": "white",
             "minorgridcolor": "white",
             "startlinecolor": "#2a3f5f"
            },
            "baxis": {
             "endlinecolor": "#2a3f5f",
             "gridcolor": "white",
             "linecolor": "white",
             "minorgridcolor": "white",
             "startlinecolor": "#2a3f5f"
            },
            "type": "carpet"
           }
          ],
          "choropleth": [
           {
            "colorbar": {
             "outlinewidth": 0,
             "ticks": ""
            },
            "type": "choropleth"
           }
          ],
          "contour": [
           {
            "colorbar": {
             "outlinewidth": 0,
             "ticks": ""
            },
            "colorscale": [
             [
              0,
              "#0d0887"
             ],
             [
              0.1111111111111111,
              "#46039f"
             ],
             [
              0.2222222222222222,
              "#7201a8"
             ],
             [
              0.3333333333333333,
              "#9c179e"
             ],
             [
              0.4444444444444444,
              "#bd3786"
             ],
             [
              0.5555555555555556,
              "#d8576b"
             ],
             [
              0.6666666666666666,
              "#ed7953"
             ],
             [
              0.7777777777777778,
              "#fb9f3a"
             ],
             [
              0.8888888888888888,
              "#fdca26"
             ],
             [
              1,
              "#f0f921"
             ]
            ],
            "type": "contour"
           }
          ],
          "contourcarpet": [
           {
            "colorbar": {
             "outlinewidth": 0,
             "ticks": ""
            },
            "type": "contourcarpet"
           }
          ],
          "heatmap": [
           {
            "colorbar": {
             "outlinewidth": 0,
             "ticks": ""
            },
            "colorscale": [
             [
              0,
              "#0d0887"
             ],
             [
              0.1111111111111111,
              "#46039f"
             ],
             [
              0.2222222222222222,
              "#7201a8"
             ],
             [
              0.3333333333333333,
              "#9c179e"
             ],
             [
              0.4444444444444444,
              "#bd3786"
             ],
             [
              0.5555555555555556,
              "#d8576b"
             ],
             [
              0.6666666666666666,
              "#ed7953"
             ],
             [
              0.7777777777777778,
              "#fb9f3a"
             ],
             [
              0.8888888888888888,
              "#fdca26"
             ],
             [
              1,
              "#f0f921"
             ]
            ],
            "type": "heatmap"
           }
          ],
          "heatmapgl": [
           {
            "colorbar": {
             "outlinewidth": 0,
             "ticks": ""
            },
            "colorscale": [
             [
              0,
              "#0d0887"
             ],
             [
              0.1111111111111111,
              "#46039f"
             ],
             [
              0.2222222222222222,
              "#7201a8"
             ],
             [
              0.3333333333333333,
              "#9c179e"
             ],
             [
              0.4444444444444444,
              "#bd3786"
             ],
             [
              0.5555555555555556,
              "#d8576b"
             ],
             [
              0.6666666666666666,
              "#ed7953"
             ],
             [
              0.7777777777777778,
              "#fb9f3a"
             ],
             [
              0.8888888888888888,
              "#fdca26"
             ],
             [
              1,
              "#f0f921"
             ]
            ],
            "type": "heatmapgl"
           }
          ],
          "histogram": [
           {
            "marker": {
             "colorbar": {
              "outlinewidth": 0,
              "ticks": ""
             }
            },
            "type": "histogram"
           }
          ],
          "histogram2d": [
           {
            "colorbar": {
             "outlinewidth": 0,
             "ticks": ""
            },
            "colorscale": [
             [
              0,
              "#0d0887"
             ],
             [
              0.1111111111111111,
              "#46039f"
             ],
             [
              0.2222222222222222,
              "#7201a8"
             ],
             [
              0.3333333333333333,
              "#9c179e"
             ],
             [
              0.4444444444444444,
              "#bd3786"
             ],
             [
              0.5555555555555556,
              "#d8576b"
             ],
             [
              0.6666666666666666,
              "#ed7953"
             ],
             [
              0.7777777777777778,
              "#fb9f3a"
             ],
             [
              0.8888888888888888,
              "#fdca26"
             ],
             [
              1,
              "#f0f921"
             ]
            ],
            "type": "histogram2d"
           }
          ],
          "histogram2dcontour": [
           {
            "colorbar": {
             "outlinewidth": 0,
             "ticks": ""
            },
            "colorscale": [
             [
              0,
              "#0d0887"
             ],
             [
              0.1111111111111111,
              "#46039f"
             ],
             [
              0.2222222222222222,
              "#7201a8"
             ],
             [
              0.3333333333333333,
              "#9c179e"
             ],
             [
              0.4444444444444444,
              "#bd3786"
             ],
             [
              0.5555555555555556,
              "#d8576b"
             ],
             [
              0.6666666666666666,
              "#ed7953"
             ],
             [
              0.7777777777777778,
              "#fb9f3a"
             ],
             [
              0.8888888888888888,
              "#fdca26"
             ],
             [
              1,
              "#f0f921"
             ]
            ],
            "type": "histogram2dcontour"
           }
          ],
          "mesh3d": [
           {
            "colorbar": {
             "outlinewidth": 0,
             "ticks": ""
            },
            "type": "mesh3d"
           }
          ],
          "parcoords": [
           {
            "line": {
             "colorbar": {
              "outlinewidth": 0,
              "ticks": ""
             }
            },
            "type": "parcoords"
           }
          ],
          "scatter": [
           {
            "marker": {
             "colorbar": {
              "outlinewidth": 0,
              "ticks": ""
             }
            },
            "type": "scatter"
           }
          ],
          "scatter3d": [
           {
            "line": {
             "colorbar": {
              "outlinewidth": 0,
              "ticks": ""
             }
            },
            "marker": {
             "colorbar": {
              "outlinewidth": 0,
              "ticks": ""
             }
            },
            "type": "scatter3d"
           }
          ],
          "scattercarpet": [
           {
            "marker": {
             "colorbar": {
              "outlinewidth": 0,
              "ticks": ""
             }
            },
            "type": "scattercarpet"
           }
          ],
          "scattergeo": [
           {
            "marker": {
             "colorbar": {
              "outlinewidth": 0,
              "ticks": ""
             }
            },
            "type": "scattergeo"
           }
          ],
          "scattergl": [
           {
            "marker": {
             "colorbar": {
              "outlinewidth": 0,
              "ticks": ""
             }
            },
            "type": "scattergl"
           }
          ],
          "scattermapbox": [
           {
            "marker": {
             "colorbar": {
              "outlinewidth": 0,
              "ticks": ""
             }
            },
            "type": "scattermapbox"
           }
          ],
          "scatterpolar": [
           {
            "marker": {
             "colorbar": {
              "outlinewidth": 0,
              "ticks": ""
             }
            },
            "type": "scatterpolar"
           }
          ],
          "scatterpolargl": [
           {
            "marker": {
             "colorbar": {
              "outlinewidth": 0,
              "ticks": ""
             }
            },
            "type": "scatterpolargl"
           }
          ],
          "scatterternary": [
           {
            "marker": {
             "colorbar": {
              "outlinewidth": 0,
              "ticks": ""
             }
            },
            "type": "scatterternary"
           }
          ],
          "surface": [
           {
            "colorbar": {
             "outlinewidth": 0,
             "ticks": ""
            },
            "colorscale": [
             [
              0,
              "#0d0887"
             ],
             [
              0.1111111111111111,
              "#46039f"
             ],
             [
              0.2222222222222222,
              "#7201a8"
             ],
             [
              0.3333333333333333,
              "#9c179e"
             ],
             [
              0.4444444444444444,
              "#bd3786"
             ],
             [
              0.5555555555555556,
              "#d8576b"
             ],
             [
              0.6666666666666666,
              "#ed7953"
             ],
             [
              0.7777777777777778,
              "#fb9f3a"
             ],
             [
              0.8888888888888888,
              "#fdca26"
             ],
             [
              1,
              "#f0f921"
             ]
            ],
            "type": "surface"
           }
          ],
          "table": [
           {
            "cells": {
             "fill": {
              "color": "#EBF0F8"
             },
             "line": {
              "color": "white"
             }
            },
            "header": {
             "fill": {
              "color": "#C8D4E3"
             },
             "line": {
              "color": "white"
             }
            },
            "type": "table"
           }
          ]
         },
         "layout": {
          "annotationdefaults": {
           "arrowcolor": "#2a3f5f",
           "arrowhead": 0,
           "arrowwidth": 1
          },
          "colorscale": {
           "diverging": [
            [
             0,
             "#8e0152"
            ],
            [
             0.1,
             "#c51b7d"
            ],
            [
             0.2,
             "#de77ae"
            ],
            [
             0.3,
             "#f1b6da"
            ],
            [
             0.4,
             "#fde0ef"
            ],
            [
             0.5,
             "#f7f7f7"
            ],
            [
             0.6,
             "#e6f5d0"
            ],
            [
             0.7,
             "#b8e186"
            ],
            [
             0.8,
             "#7fbc41"
            ],
            [
             0.9,
             "#4d9221"
            ],
            [
             1,
             "#276419"
            ]
           ],
           "sequential": [
            [
             0,
             "#0d0887"
            ],
            [
             0.1111111111111111,
             "#46039f"
            ],
            [
             0.2222222222222222,
             "#7201a8"
            ],
            [
             0.3333333333333333,
             "#9c179e"
            ],
            [
             0.4444444444444444,
             "#bd3786"
            ],
            [
             0.5555555555555556,
             "#d8576b"
            ],
            [
             0.6666666666666666,
             "#ed7953"
            ],
            [
             0.7777777777777778,
             "#fb9f3a"
            ],
            [
             0.8888888888888888,
             "#fdca26"
            ],
            [
             1,
             "#f0f921"
            ]
           ],
           "sequentialminus": [
            [
             0,
             "#0d0887"
            ],
            [
             0.1111111111111111,
             "#46039f"
            ],
            [
             0.2222222222222222,
             "#7201a8"
            ],
            [
             0.3333333333333333,
             "#9c179e"
            ],
            [
             0.4444444444444444,
             "#bd3786"
            ],
            [
             0.5555555555555556,
             "#d8576b"
            ],
            [
             0.6666666666666666,
             "#ed7953"
            ],
            [
             0.7777777777777778,
             "#fb9f3a"
            ],
            [
             0.8888888888888888,
             "#fdca26"
            ],
            [
             1,
             "#f0f921"
            ]
           ]
          },
          "colorway": [
           "#636efa",
           "#EF553B",
           "#00cc96",
           "#ab63fa",
           "#FFA15A",
           "#19d3f3",
           "#FF6692",
           "#B6E880",
           "#FF97FF",
           "#FECB52"
          ],
          "font": {
           "color": "#2a3f5f"
          },
          "geo": {
           "bgcolor": "white",
           "lakecolor": "white",
           "landcolor": "#E5ECF6",
           "showlakes": true,
           "showland": true,
           "subunitcolor": "white"
          },
          "hoverlabel": {
           "align": "left"
          },
          "hovermode": "closest",
          "mapbox": {
           "style": "light"
          },
          "paper_bgcolor": "white",
          "plot_bgcolor": "#E5ECF6",
          "polar": {
           "angularaxis": {
            "gridcolor": "white",
            "linecolor": "white",
            "ticks": ""
           },
           "bgcolor": "#E5ECF6",
           "radialaxis": {
            "gridcolor": "white",
            "linecolor": "white",
            "ticks": ""
           }
          },
          "scene": {
           "xaxis": {
            "backgroundcolor": "#E5ECF6",
            "gridcolor": "white",
            "gridwidth": 2,
            "linecolor": "white",
            "showbackground": true,
            "ticks": "",
            "zerolinecolor": "white"
           },
           "yaxis": {
            "backgroundcolor": "#E5ECF6",
            "gridcolor": "white",
            "gridwidth": 2,
            "linecolor": "white",
            "showbackground": true,
            "ticks": "",
            "zerolinecolor": "white"
           },
           "zaxis": {
            "backgroundcolor": "#E5ECF6",
            "gridcolor": "white",
            "gridwidth": 2,
            "linecolor": "white",
            "showbackground": true,
            "ticks": "",
            "zerolinecolor": "white"
           }
          },
          "shapedefaults": {
           "line": {
            "color": "#2a3f5f"
           }
          },
          "ternary": {
           "aaxis": {
            "gridcolor": "white",
            "linecolor": "white",
            "ticks": ""
           },
           "baxis": {
            "gridcolor": "white",
            "linecolor": "white",
            "ticks": ""
           },
           "bgcolor": "#E5ECF6",
           "caxis": {
            "gridcolor": "white",
            "linecolor": "white",
            "ticks": ""
           }
          },
          "title": {
           "x": 0.05
          },
          "xaxis": {
           "automargin": true,
           "gridcolor": "white",
           "linecolor": "white",
           "ticks": "",
           "zerolinecolor": "white",
           "zerolinewidth": 2
          },
          "yaxis": {
           "automargin": true,
           "gridcolor": "white",
           "linecolor": "white",
           "ticks": "",
           "zerolinecolor": "white",
           "zerolinewidth": 2
          }
         }
        }
       }
      },
      "text/html": [
       "<div>\n",
       "        \n",
       "        \n",
       "            <div id=\"014b8f33-6db5-480c-add1-a6b67935d236\" class=\"plotly-graph-div\" style=\"height:525px; width:100%;\"></div>\n",
       "            <script type=\"text/javascript\">\n",
       "                require([\"plotly\"], function(Plotly) {\n",
       "                    window.PLOTLYENV=window.PLOTLYENV || {};\n",
       "                    \n",
       "                if (document.getElementById(\"014b8f33-6db5-480c-add1-a6b67935d236\")) {\n",
       "                    Plotly.newPlot(\n",
       "                        '014b8f33-6db5-480c-add1-a6b67935d236',\n",
       "                        [{\"type\": \"scatter\", \"y\": [0.8936001758175733, 0.8999246129618164, 0.9022863083274112, 0.9033420136010919, 0.904233103824023, 0.9046806791969302, 0.9048315038078365, 0.9050732720224085, 0.9050757196377925, 0.9052576391355642, 0.9054080609232265, 0.9054888128566339, 0.9055421986417835, 0.9055371677911659, 0.9055226144896678, 0.9055747151152888, 0.9055915368202265, 0.9056196278888717, 0.9056427446151698, 0.9056510432583583, 0.9056851968571928, 0.9056316157148784, 0.9056744150791358, 0.9056693632397317, 0.9057035959501452, 0.9057139514943886, 0.905665020175495, 0.9056634460165243, 0.905667240143274, 0.9056967051701591, 0.9057265270064111, 0.9056912965213886, 0.9057023834441075, 0.905728517712063, 0.9056896319491847, 0.9057249706071825, 0.9057039075528953, 0.9057346884152275, 0.9057073464848003, 0.9057286404157365, 0.9057176067722444, 0.9057111825891224, 0.9057159761050031, 0.905703043783614, 0.9057306860151373, 0.9057051797962479, 0.9057290375881537, 0.9057300724967693, 0.9057167962821898, 0.9057132653225297, 0.9057246590044324, 0.9057316741026142, 0.9057352034477524, 0.9057227619410578, 0.9057209908104005, 0.9057312591704548, 0.9057199785050933, 0.9057385777987765, 0.9057192325959198, 0.9057147603699212, 0.9057142324212204, 0.9057237419559244, 0.9057259732253576, 0.9057414968545905, 0.905721636619209, 0.9057281108525137, 0.9057047600205225, 0.9057161004231987, 0.9057263138895042, 0.9057400647735578, 0.9057253322601153, 0.9057361091946062, 0.9057317645158475, 0.9057220596239786, 0.9057218368199397, 0.9057195603438899, 0.9057241875640024, 0.9057298948993469, 0.9057283385001186, 0.905726307431416, 0.9057286581754789, 0.9057131619931202, 0.9057308668416036, 0.9057214348039564, 0.9057252870534988, 0.9057301887423549, 0.9057295962127729, 0.9057272357815783, 0.9057330851948606, 0.9057254904832734, 0.905727976847186, 0.9057307134620116, 0.9057343009299426, 0.9057189936466604, 0.9057290908673805, 0.9057252144000079, 0.9057252483049703, 0.9057218448925498, 0.9057239809051837, 0.9057318743033449]}],\n",
       "                        {\"template\": {\"data\": {\"bar\": [{\"error_x\": {\"color\": \"#2a3f5f\"}, \"error_y\": {\"color\": \"#2a3f5f\"}, \"marker\": {\"line\": {\"color\": \"#E5ECF6\", \"width\": 0.5}}, \"type\": \"bar\"}], \"barpolar\": [{\"marker\": {\"line\": {\"color\": \"#E5ECF6\", \"width\": 0.5}}, \"type\": \"barpolar\"}], \"carpet\": [{\"aaxis\": {\"endlinecolor\": \"#2a3f5f\", \"gridcolor\": \"white\", \"linecolor\": \"white\", \"minorgridcolor\": \"white\", \"startlinecolor\": \"#2a3f5f\"}, \"baxis\": {\"endlinecolor\": \"#2a3f5f\", \"gridcolor\": \"white\", \"linecolor\": \"white\", \"minorgridcolor\": \"white\", \"startlinecolor\": \"#2a3f5f\"}, \"type\": \"carpet\"}], \"choropleth\": [{\"colorbar\": {\"outlinewidth\": 0, \"ticks\": \"\"}, \"type\": \"choropleth\"}], \"contour\": [{\"colorbar\": {\"outlinewidth\": 0, \"ticks\": \"\"}, \"colorscale\": [[0.0, \"#0d0887\"], [0.1111111111111111, \"#46039f\"], [0.2222222222222222, \"#7201a8\"], [0.3333333333333333, \"#9c179e\"], [0.4444444444444444, \"#bd3786\"], [0.5555555555555556, \"#d8576b\"], [0.6666666666666666, \"#ed7953\"], [0.7777777777777778, \"#fb9f3a\"], [0.8888888888888888, \"#fdca26\"], [1.0, \"#f0f921\"]], \"type\": \"contour\"}], \"contourcarpet\": [{\"colorbar\": {\"outlinewidth\": 0, \"ticks\": \"\"}, \"type\": \"contourcarpet\"}], \"heatmap\": [{\"colorbar\": {\"outlinewidth\": 0, \"ticks\": \"\"}, \"colorscale\": [[0.0, \"#0d0887\"], [0.1111111111111111, \"#46039f\"], [0.2222222222222222, \"#7201a8\"], [0.3333333333333333, \"#9c179e\"], [0.4444444444444444, \"#bd3786\"], [0.5555555555555556, \"#d8576b\"], [0.6666666666666666, \"#ed7953\"], [0.7777777777777778, \"#fb9f3a\"], [0.8888888888888888, \"#fdca26\"], [1.0, \"#f0f921\"]], \"type\": \"heatmap\"}], \"heatmapgl\": [{\"colorbar\": {\"outlinewidth\": 0, \"ticks\": \"\"}, \"colorscale\": [[0.0, \"#0d0887\"], [0.1111111111111111, \"#46039f\"], [0.2222222222222222, \"#7201a8\"], [0.3333333333333333, \"#9c179e\"], [0.4444444444444444, \"#bd3786\"], [0.5555555555555556, \"#d8576b\"], [0.6666666666666666, \"#ed7953\"], [0.7777777777777778, \"#fb9f3a\"], [0.8888888888888888, \"#fdca26\"], [1.0, \"#f0f921\"]], \"type\": \"heatmapgl\"}], \"histogram\": [{\"marker\": {\"colorbar\": {\"outlinewidth\": 0, \"ticks\": \"\"}}, \"type\": \"histogram\"}], \"histogram2d\": [{\"colorbar\": {\"outlinewidth\": 0, \"ticks\": \"\"}, \"colorscale\": [[0.0, \"#0d0887\"], [0.1111111111111111, \"#46039f\"], [0.2222222222222222, \"#7201a8\"], [0.3333333333333333, \"#9c179e\"], [0.4444444444444444, \"#bd3786\"], [0.5555555555555556, \"#d8576b\"], [0.6666666666666666, \"#ed7953\"], [0.7777777777777778, \"#fb9f3a\"], [0.8888888888888888, \"#fdca26\"], [1.0, \"#f0f921\"]], \"type\": \"histogram2d\"}], \"histogram2dcontour\": [{\"colorbar\": {\"outlinewidth\": 0, \"ticks\": \"\"}, \"colorscale\": [[0.0, \"#0d0887\"], [0.1111111111111111, \"#46039f\"], [0.2222222222222222, \"#7201a8\"], [0.3333333333333333, \"#9c179e\"], [0.4444444444444444, \"#bd3786\"], [0.5555555555555556, \"#d8576b\"], [0.6666666666666666, \"#ed7953\"], [0.7777777777777778, \"#fb9f3a\"], [0.8888888888888888, \"#fdca26\"], [1.0, \"#f0f921\"]], \"type\": \"histogram2dcontour\"}], \"mesh3d\": [{\"colorbar\": {\"outlinewidth\": 0, \"ticks\": \"\"}, \"type\": \"mesh3d\"}], \"parcoords\": [{\"line\": {\"colorbar\": {\"outlinewidth\": 0, \"ticks\": \"\"}}, \"type\": \"parcoords\"}], \"scatter\": [{\"marker\": {\"colorbar\": {\"outlinewidth\": 0, \"ticks\": \"\"}}, \"type\": \"scatter\"}], \"scatter3d\": [{\"line\": {\"colorbar\": {\"outlinewidth\": 0, \"ticks\": \"\"}}, \"marker\": {\"colorbar\": {\"outlinewidth\": 0, \"ticks\": \"\"}}, \"type\": \"scatter3d\"}], \"scattercarpet\": [{\"marker\": {\"colorbar\": {\"outlinewidth\": 0, \"ticks\": \"\"}}, \"type\": \"scattercarpet\"}], \"scattergeo\": [{\"marker\": {\"colorbar\": {\"outlinewidth\": 0, \"ticks\": \"\"}}, \"type\": \"scattergeo\"}], \"scattergl\": [{\"marker\": {\"colorbar\": {\"outlinewidth\": 0, \"ticks\": \"\"}}, \"type\": \"scattergl\"}], \"scattermapbox\": [{\"marker\": {\"colorbar\": {\"outlinewidth\": 0, \"ticks\": \"\"}}, \"type\": \"scattermapbox\"}], \"scatterpolar\": [{\"marker\": {\"colorbar\": {\"outlinewidth\": 0, \"ticks\": \"\"}}, \"type\": \"scatterpolar\"}], \"scatterpolargl\": [{\"marker\": {\"colorbar\": {\"outlinewidth\": 0, \"ticks\": \"\"}}, \"type\": \"scatterpolargl\"}], \"scatterternary\": [{\"marker\": {\"colorbar\": {\"outlinewidth\": 0, \"ticks\": \"\"}}, \"type\": \"scatterternary\"}], \"surface\": [{\"colorbar\": {\"outlinewidth\": 0, \"ticks\": \"\"}, \"colorscale\": [[0.0, \"#0d0887\"], [0.1111111111111111, \"#46039f\"], [0.2222222222222222, \"#7201a8\"], [0.3333333333333333, \"#9c179e\"], [0.4444444444444444, \"#bd3786\"], [0.5555555555555556, \"#d8576b\"], [0.6666666666666666, \"#ed7953\"], [0.7777777777777778, \"#fb9f3a\"], [0.8888888888888888, \"#fdca26\"], [1.0, \"#f0f921\"]], \"type\": \"surface\"}], \"table\": [{\"cells\": {\"fill\": {\"color\": \"#EBF0F8\"}, \"line\": {\"color\": \"white\"}}, \"header\": {\"fill\": {\"color\": \"#C8D4E3\"}, \"line\": {\"color\": \"white\"}}, \"type\": \"table\"}]}, \"layout\": {\"annotationdefaults\": {\"arrowcolor\": \"#2a3f5f\", \"arrowhead\": 0, \"arrowwidth\": 1}, \"colorscale\": {\"diverging\": [[0, \"#8e0152\"], [0.1, \"#c51b7d\"], [0.2, \"#de77ae\"], [0.3, \"#f1b6da\"], [0.4, \"#fde0ef\"], [0.5, \"#f7f7f7\"], [0.6, \"#e6f5d0\"], [0.7, \"#b8e186\"], [0.8, \"#7fbc41\"], [0.9, \"#4d9221\"], [1, \"#276419\"]], \"sequential\": [[0.0, \"#0d0887\"], [0.1111111111111111, \"#46039f\"], [0.2222222222222222, \"#7201a8\"], [0.3333333333333333, \"#9c179e\"], [0.4444444444444444, \"#bd3786\"], [0.5555555555555556, \"#d8576b\"], [0.6666666666666666, \"#ed7953\"], [0.7777777777777778, \"#fb9f3a\"], [0.8888888888888888, \"#fdca26\"], [1.0, \"#f0f921\"]], \"sequentialminus\": [[0.0, \"#0d0887\"], [0.1111111111111111, \"#46039f\"], [0.2222222222222222, \"#7201a8\"], [0.3333333333333333, \"#9c179e\"], [0.4444444444444444, \"#bd3786\"], [0.5555555555555556, \"#d8576b\"], [0.6666666666666666, \"#ed7953\"], [0.7777777777777778, \"#fb9f3a\"], [0.8888888888888888, \"#fdca26\"], [1.0, \"#f0f921\"]]}, \"colorway\": [\"#636efa\", \"#EF553B\", \"#00cc96\", \"#ab63fa\", \"#FFA15A\", \"#19d3f3\", \"#FF6692\", \"#B6E880\", \"#FF97FF\", \"#FECB52\"], \"font\": {\"color\": \"#2a3f5f\"}, \"geo\": {\"bgcolor\": \"white\", \"lakecolor\": \"white\", \"landcolor\": \"#E5ECF6\", \"showlakes\": true, \"showland\": true, \"subunitcolor\": \"white\"}, \"hoverlabel\": {\"align\": \"left\"}, \"hovermode\": \"closest\", \"mapbox\": {\"style\": \"light\"}, \"paper_bgcolor\": \"white\", \"plot_bgcolor\": \"#E5ECF6\", \"polar\": {\"angularaxis\": {\"gridcolor\": \"white\", \"linecolor\": \"white\", \"ticks\": \"\"}, \"bgcolor\": \"#E5ECF6\", \"radialaxis\": {\"gridcolor\": \"white\", \"linecolor\": \"white\", \"ticks\": \"\"}}, \"scene\": {\"xaxis\": {\"backgroundcolor\": \"#E5ECF6\", \"gridcolor\": \"white\", \"gridwidth\": 2, \"linecolor\": \"white\", \"showbackground\": true, \"ticks\": \"\", \"zerolinecolor\": \"white\"}, \"yaxis\": {\"backgroundcolor\": \"#E5ECF6\", \"gridcolor\": \"white\", \"gridwidth\": 2, \"linecolor\": \"white\", \"showbackground\": true, \"ticks\": \"\", \"zerolinecolor\": \"white\"}, \"zaxis\": {\"backgroundcolor\": \"#E5ECF6\", \"gridcolor\": \"white\", \"gridwidth\": 2, \"linecolor\": \"white\", \"showbackground\": true, \"ticks\": \"\", \"zerolinecolor\": \"white\"}}, \"shapedefaults\": {\"line\": {\"color\": \"#2a3f5f\"}}, \"ternary\": {\"aaxis\": {\"gridcolor\": \"white\", \"linecolor\": \"white\", \"ticks\": \"\"}, \"baxis\": {\"gridcolor\": \"white\", \"linecolor\": \"white\", \"ticks\": \"\"}, \"bgcolor\": \"#E5ECF6\", \"caxis\": {\"gridcolor\": \"white\", \"linecolor\": \"white\", \"ticks\": \"\"}}, \"title\": {\"x\": 0.05}, \"xaxis\": {\"automargin\": true, \"gridcolor\": \"white\", \"linecolor\": \"white\", \"ticks\": \"\", \"zerolinecolor\": \"white\", \"zerolinewidth\": 2}, \"yaxis\": {\"automargin\": true, \"gridcolor\": \"white\", \"linecolor\": \"white\", \"ticks\": \"\", \"zerolinecolor\": \"white\", \"zerolinewidth\": 2}}}},\n",
       "                        {\"responsive\": true}\n",
       "                    ).then(function(){\n",
       "                            \n",
       "var gd = document.getElementById('014b8f33-6db5-480c-add1-a6b67935d236');\n",
       "var x = new MutationObserver(function (mutations, observer) {{\n",
       "        var display = window.getComputedStyle(gd).display;\n",
       "        if (!display || display === 'none') {{\n",
       "            console.log([gd, 'removed!']);\n",
       "            Plotly.purge(gd);\n",
       "            observer.disconnect();\n",
       "        }}\n",
       "}});\n",
       "\n",
       "// Listen for the removal of the full notebook cells\n",
       "var notebookContainer = gd.closest('#notebook-container');\n",
       "if (notebookContainer) {{\n",
       "    x.observe(notebookContainer, {childList: true});\n",
       "}}\n",
       "\n",
       "// Listen for the clearing of the current output cell\n",
       "var outputEl = gd.closest('.output');\n",
       "if (outputEl) {{\n",
       "    x.observe(outputEl, {childList: true});\n",
       "}}\n",
       "\n",
       "                        })\n",
       "                };\n",
       "                });\n",
       "            </script>\n",
       "        </div>"
      ]
     },
     "metadata": {},
     "output_type": "display_data"
    }
   ],
   "source": [
    "# Chunk size 20, capped at 80\n",
    "fig = go.Figure()\n",
    "fig.add_trace(go.Scatter(y=aucs))\n",
    "# fig.add_trace(go.Histogram/(x=pred_means[labels==False]))"
   ]
  },
  {
   "cell_type": "code",
   "execution_count": 17,
   "metadata": {},
   "outputs": [
    {
     "data": {
      "application/vnd.plotly.v1+json": {
       "config": {
        "plotlyServerURL": "https://plot.ly"
       },
       "data": [
        {
         "type": "scatter",
         "y": [
          0.8947875829345724,
          0.9116870346623266,
          0.9163242399233735,
          0.9188918142403821,
          0.9195006672860315,
          0.9198634937489262,
          0.9210964266874282,
          0.9207413426072474,
          0.9210482685188702,
          0.9212156784026939,
          0.9215996009643975,
          0.9212187105538255,
          0.9217034162739024,
          0.9218828096832509,
          0.9216938926434474,
          0.9218930079310628,
          0.9216500787849906,
          0.9219900939928807,
          0.9218537406873144,
          0.921687475315614,
          0.9218885757675666,
          0.92197754465925,
          0.9218816280953829,
          0.9216647736758551,
          0.9218011914609776,
          0.9216779661930591,
          0.9220008894825822,
          0.9220147267953488,
          0.9220001656995636,
          0.9219455047677603,
          0.9218945143346952,
          0.9219814295525127,
          0.9220560791467467,
          0.92204116663738,
          0.9219469071981081,
          0.9218958055378086,
          0.9219922911337592,
          0.9220006960439135,
          0.9219429868410896,
          0.9218334441350027,
          0.9218391876514738,
          0.9218677246910714,
          0.9218743515774627,
          0.9220346654861235,
          0.921998621414192,
          0.9218588361842455,
          0.9219994532004673,
          0.9219222163640397,
          0.9219308147128626,
          0.9217899865260941,
          0.922001508486322,
          0.9217936924885883,
          0.9219721025847043,
          0.9218216153604127,
          0.9219703874285087,
          0.9219925280961285,
          0.9219527587178358,
          0.9218497348948838,
          0.9219922492220477,
          0.9218510180380528,
          0.9219826417681697,
          0.9219152316161113,
          0.921933250428099,
          0.9218179658175303,
          0.921900567353036,
          0.921883970315263,
          0.921776568330443,
          0.9219896652038319,
          0.9219056096543332,
          0.9219224726702756,
          0.9218634496964935,
          0.9219373900156089,
          0.9219732954564945,
          0.9219444037793377,
          0.9219040057253718,
          0.9218968742864531,
          0.921867764990794,
          0.9219330279736302,
          0.9218902748038731,
          0.9219046843727012,
          0.9218851728589866,
          0.9219462124308899,
          0.9218248748019799,
          0.921969131689151,
          0.921883678545271,
          0.9219495315160466,
          0.9219205415075665,
          0.9219161343298984,
          0.9218897928191904,
          0.9218391199479398,
          0.9219238073970896,
          0.9218372742206427,
          0.9218586798213216,
          0.921941818149133,
          0.9219617455559851,
          0.9218890077805934,
          0.9219035172927335,
          0.9218990859352316,
          0.9218332716521899,
          0.9219447181171742
         ]
        }
       ],
       "layout": {
        "template": {
         "data": {
          "bar": [
           {
            "error_x": {
             "color": "#2a3f5f"
            },
            "error_y": {
             "color": "#2a3f5f"
            },
            "marker": {
             "line": {
              "color": "#E5ECF6",
              "width": 0.5
             }
            },
            "type": "bar"
           }
          ],
          "barpolar": [
           {
            "marker": {
             "line": {
              "color": "#E5ECF6",
              "width": 0.5
             }
            },
            "type": "barpolar"
           }
          ],
          "carpet": [
           {
            "aaxis": {
             "endlinecolor": "#2a3f5f",
             "gridcolor": "white",
             "linecolor": "white",
             "minorgridcolor": "white",
             "startlinecolor": "#2a3f5f"
            },
            "baxis": {
             "endlinecolor": "#2a3f5f",
             "gridcolor": "white",
             "linecolor": "white",
             "minorgridcolor": "white",
             "startlinecolor": "#2a3f5f"
            },
            "type": "carpet"
           }
          ],
          "choropleth": [
           {
            "colorbar": {
             "outlinewidth": 0,
             "ticks": ""
            },
            "type": "choropleth"
           }
          ],
          "contour": [
           {
            "colorbar": {
             "outlinewidth": 0,
             "ticks": ""
            },
            "colorscale": [
             [
              0,
              "#0d0887"
             ],
             [
              0.1111111111111111,
              "#46039f"
             ],
             [
              0.2222222222222222,
              "#7201a8"
             ],
             [
              0.3333333333333333,
              "#9c179e"
             ],
             [
              0.4444444444444444,
              "#bd3786"
             ],
             [
              0.5555555555555556,
              "#d8576b"
             ],
             [
              0.6666666666666666,
              "#ed7953"
             ],
             [
              0.7777777777777778,
              "#fb9f3a"
             ],
             [
              0.8888888888888888,
              "#fdca26"
             ],
             [
              1,
              "#f0f921"
             ]
            ],
            "type": "contour"
           }
          ],
          "contourcarpet": [
           {
            "colorbar": {
             "outlinewidth": 0,
             "ticks": ""
            },
            "type": "contourcarpet"
           }
          ],
          "heatmap": [
           {
            "colorbar": {
             "outlinewidth": 0,
             "ticks": ""
            },
            "colorscale": [
             [
              0,
              "#0d0887"
             ],
             [
              0.1111111111111111,
              "#46039f"
             ],
             [
              0.2222222222222222,
              "#7201a8"
             ],
             [
              0.3333333333333333,
              "#9c179e"
             ],
             [
              0.4444444444444444,
              "#bd3786"
             ],
             [
              0.5555555555555556,
              "#d8576b"
             ],
             [
              0.6666666666666666,
              "#ed7953"
             ],
             [
              0.7777777777777778,
              "#fb9f3a"
             ],
             [
              0.8888888888888888,
              "#fdca26"
             ],
             [
              1,
              "#f0f921"
             ]
            ],
            "type": "heatmap"
           }
          ],
          "heatmapgl": [
           {
            "colorbar": {
             "outlinewidth": 0,
             "ticks": ""
            },
            "colorscale": [
             [
              0,
              "#0d0887"
             ],
             [
              0.1111111111111111,
              "#46039f"
             ],
             [
              0.2222222222222222,
              "#7201a8"
             ],
             [
              0.3333333333333333,
              "#9c179e"
             ],
             [
              0.4444444444444444,
              "#bd3786"
             ],
             [
              0.5555555555555556,
              "#d8576b"
             ],
             [
              0.6666666666666666,
              "#ed7953"
             ],
             [
              0.7777777777777778,
              "#fb9f3a"
             ],
             [
              0.8888888888888888,
              "#fdca26"
             ],
             [
              1,
              "#f0f921"
             ]
            ],
            "type": "heatmapgl"
           }
          ],
          "histogram": [
           {
            "marker": {
             "colorbar": {
              "outlinewidth": 0,
              "ticks": ""
             }
            },
            "type": "histogram"
           }
          ],
          "histogram2d": [
           {
            "colorbar": {
             "outlinewidth": 0,
             "ticks": ""
            },
            "colorscale": [
             [
              0,
              "#0d0887"
             ],
             [
              0.1111111111111111,
              "#46039f"
             ],
             [
              0.2222222222222222,
              "#7201a8"
             ],
             [
              0.3333333333333333,
              "#9c179e"
             ],
             [
              0.4444444444444444,
              "#bd3786"
             ],
             [
              0.5555555555555556,
              "#d8576b"
             ],
             [
              0.6666666666666666,
              "#ed7953"
             ],
             [
              0.7777777777777778,
              "#fb9f3a"
             ],
             [
              0.8888888888888888,
              "#fdca26"
             ],
             [
              1,
              "#f0f921"
             ]
            ],
            "type": "histogram2d"
           }
          ],
          "histogram2dcontour": [
           {
            "colorbar": {
             "outlinewidth": 0,
             "ticks": ""
            },
            "colorscale": [
             [
              0,
              "#0d0887"
             ],
             [
              0.1111111111111111,
              "#46039f"
             ],
             [
              0.2222222222222222,
              "#7201a8"
             ],
             [
              0.3333333333333333,
              "#9c179e"
             ],
             [
              0.4444444444444444,
              "#bd3786"
             ],
             [
              0.5555555555555556,
              "#d8576b"
             ],
             [
              0.6666666666666666,
              "#ed7953"
             ],
             [
              0.7777777777777778,
              "#fb9f3a"
             ],
             [
              0.8888888888888888,
              "#fdca26"
             ],
             [
              1,
              "#f0f921"
             ]
            ],
            "type": "histogram2dcontour"
           }
          ],
          "mesh3d": [
           {
            "colorbar": {
             "outlinewidth": 0,
             "ticks": ""
            },
            "type": "mesh3d"
           }
          ],
          "parcoords": [
           {
            "line": {
             "colorbar": {
              "outlinewidth": 0,
              "ticks": ""
             }
            },
            "type": "parcoords"
           }
          ],
          "scatter": [
           {
            "marker": {
             "colorbar": {
              "outlinewidth": 0,
              "ticks": ""
             }
            },
            "type": "scatter"
           }
          ],
          "scatter3d": [
           {
            "line": {
             "colorbar": {
              "outlinewidth": 0,
              "ticks": ""
             }
            },
            "marker": {
             "colorbar": {
              "outlinewidth": 0,
              "ticks": ""
             }
            },
            "type": "scatter3d"
           }
          ],
          "scattercarpet": [
           {
            "marker": {
             "colorbar": {
              "outlinewidth": 0,
              "ticks": ""
             }
            },
            "type": "scattercarpet"
           }
          ],
          "scattergeo": [
           {
            "marker": {
             "colorbar": {
              "outlinewidth": 0,
              "ticks": ""
             }
            },
            "type": "scattergeo"
           }
          ],
          "scattergl": [
           {
            "marker": {
             "colorbar": {
              "outlinewidth": 0,
              "ticks": ""
             }
            },
            "type": "scattergl"
           }
          ],
          "scattermapbox": [
           {
            "marker": {
             "colorbar": {
              "outlinewidth": 0,
              "ticks": ""
             }
            },
            "type": "scattermapbox"
           }
          ],
          "scatterpolar": [
           {
            "marker": {
             "colorbar": {
              "outlinewidth": 0,
              "ticks": ""
             }
            },
            "type": "scatterpolar"
           }
          ],
          "scatterpolargl": [
           {
            "marker": {
             "colorbar": {
              "outlinewidth": 0,
              "ticks": ""
             }
            },
            "type": "scatterpolargl"
           }
          ],
          "scatterternary": [
           {
            "marker": {
             "colorbar": {
              "outlinewidth": 0,
              "ticks": ""
             }
            },
            "type": "scatterternary"
           }
          ],
          "surface": [
           {
            "colorbar": {
             "outlinewidth": 0,
             "ticks": ""
            },
            "colorscale": [
             [
              0,
              "#0d0887"
             ],
             [
              0.1111111111111111,
              "#46039f"
             ],
             [
              0.2222222222222222,
              "#7201a8"
             ],
             [
              0.3333333333333333,
              "#9c179e"
             ],
             [
              0.4444444444444444,
              "#bd3786"
             ],
             [
              0.5555555555555556,
              "#d8576b"
             ],
             [
              0.6666666666666666,
              "#ed7953"
             ],
             [
              0.7777777777777778,
              "#fb9f3a"
             ],
             [
              0.8888888888888888,
              "#fdca26"
             ],
             [
              1,
              "#f0f921"
             ]
            ],
            "type": "surface"
           }
          ],
          "table": [
           {
            "cells": {
             "fill": {
              "color": "#EBF0F8"
             },
             "line": {
              "color": "white"
             }
            },
            "header": {
             "fill": {
              "color": "#C8D4E3"
             },
             "line": {
              "color": "white"
             }
            },
            "type": "table"
           }
          ]
         },
         "layout": {
          "annotationdefaults": {
           "arrowcolor": "#2a3f5f",
           "arrowhead": 0,
           "arrowwidth": 1
          },
          "colorscale": {
           "diverging": [
            [
             0,
             "#8e0152"
            ],
            [
             0.1,
             "#c51b7d"
            ],
            [
             0.2,
             "#de77ae"
            ],
            [
             0.3,
             "#f1b6da"
            ],
            [
             0.4,
             "#fde0ef"
            ],
            [
             0.5,
             "#f7f7f7"
            ],
            [
             0.6,
             "#e6f5d0"
            ],
            [
             0.7,
             "#b8e186"
            ],
            [
             0.8,
             "#7fbc41"
            ],
            [
             0.9,
             "#4d9221"
            ],
            [
             1,
             "#276419"
            ]
           ],
           "sequential": [
            [
             0,
             "#0d0887"
            ],
            [
             0.1111111111111111,
             "#46039f"
            ],
            [
             0.2222222222222222,
             "#7201a8"
            ],
            [
             0.3333333333333333,
             "#9c179e"
            ],
            [
             0.4444444444444444,
             "#bd3786"
            ],
            [
             0.5555555555555556,
             "#d8576b"
            ],
            [
             0.6666666666666666,
             "#ed7953"
            ],
            [
             0.7777777777777778,
             "#fb9f3a"
            ],
            [
             0.8888888888888888,
             "#fdca26"
            ],
            [
             1,
             "#f0f921"
            ]
           ],
           "sequentialminus": [
            [
             0,
             "#0d0887"
            ],
            [
             0.1111111111111111,
             "#46039f"
            ],
            [
             0.2222222222222222,
             "#7201a8"
            ],
            [
             0.3333333333333333,
             "#9c179e"
            ],
            [
             0.4444444444444444,
             "#bd3786"
            ],
            [
             0.5555555555555556,
             "#d8576b"
            ],
            [
             0.6666666666666666,
             "#ed7953"
            ],
            [
             0.7777777777777778,
             "#fb9f3a"
            ],
            [
             0.8888888888888888,
             "#fdca26"
            ],
            [
             1,
             "#f0f921"
            ]
           ]
          },
          "colorway": [
           "#636efa",
           "#EF553B",
           "#00cc96",
           "#ab63fa",
           "#FFA15A",
           "#19d3f3",
           "#FF6692",
           "#B6E880",
           "#FF97FF",
           "#FECB52"
          ],
          "font": {
           "color": "#2a3f5f"
          },
          "geo": {
           "bgcolor": "white",
           "lakecolor": "white",
           "landcolor": "#E5ECF6",
           "showlakes": true,
           "showland": true,
           "subunitcolor": "white"
          },
          "hoverlabel": {
           "align": "left"
          },
          "hovermode": "closest",
          "mapbox": {
           "style": "light"
          },
          "paper_bgcolor": "white",
          "plot_bgcolor": "#E5ECF6",
          "polar": {
           "angularaxis": {
            "gridcolor": "white",
            "linecolor": "white",
            "ticks": ""
           },
           "bgcolor": "#E5ECF6",
           "radialaxis": {
            "gridcolor": "white",
            "linecolor": "white",
            "ticks": ""
           }
          },
          "scene": {
           "xaxis": {
            "backgroundcolor": "#E5ECF6",
            "gridcolor": "white",
            "gridwidth": 2,
            "linecolor": "white",
            "showbackground": true,
            "ticks": "",
            "zerolinecolor": "white"
           },
           "yaxis": {
            "backgroundcolor": "#E5ECF6",
            "gridcolor": "white",
            "gridwidth": 2,
            "linecolor": "white",
            "showbackground": true,
            "ticks": "",
            "zerolinecolor": "white"
           },
           "zaxis": {
            "backgroundcolor": "#E5ECF6",
            "gridcolor": "white",
            "gridwidth": 2,
            "linecolor": "white",
            "showbackground": true,
            "ticks": "",
            "zerolinecolor": "white"
           }
          },
          "shapedefaults": {
           "line": {
            "color": "#2a3f5f"
           }
          },
          "ternary": {
           "aaxis": {
            "gridcolor": "white",
            "linecolor": "white",
            "ticks": ""
           },
           "baxis": {
            "gridcolor": "white",
            "linecolor": "white",
            "ticks": ""
           },
           "bgcolor": "#E5ECF6",
           "caxis": {
            "gridcolor": "white",
            "linecolor": "white",
            "ticks": ""
           }
          },
          "title": {
           "x": 0.05
          },
          "xaxis": {
           "automargin": true,
           "gridcolor": "white",
           "linecolor": "white",
           "ticks": "",
           "zerolinecolor": "white",
           "zerolinewidth": 2
          },
          "yaxis": {
           "automargin": true,
           "gridcolor": "white",
           "linecolor": "white",
           "ticks": "",
           "zerolinecolor": "white",
           "zerolinewidth": 2
          }
         }
        }
       }
      },
      "text/html": [
       "<div>\n",
       "        \n",
       "        \n",
       "            <div id=\"8e94e3d9-d4db-490d-8e6f-09af8dfc1375\" class=\"plotly-graph-div\" style=\"height:525px; width:100%;\"></div>\n",
       "            <script type=\"text/javascript\">\n",
       "                require([\"plotly\"], function(Plotly) {\n",
       "                    window.PLOTLYENV=window.PLOTLYENV || {};\n",
       "                    \n",
       "                if (document.getElementById(\"8e94e3d9-d4db-490d-8e6f-09af8dfc1375\")) {\n",
       "                    Plotly.newPlot(\n",
       "                        '8e94e3d9-d4db-490d-8e6f-09af8dfc1375',\n",
       "                        [{\"type\": \"scatter\", \"y\": [0.8947875829345724, 0.9116870346623266, 0.9163242399233735, 0.9188918142403821, 0.9195006672860315, 0.9198634937489262, 0.9210964266874282, 0.9207413426072474, 0.9210482685188702, 0.9212156784026939, 0.9215996009643975, 0.9212187105538255, 0.9217034162739024, 0.9218828096832509, 0.9216938926434474, 0.9218930079310628, 0.9216500787849906, 0.9219900939928807, 0.9218537406873144, 0.921687475315614, 0.9218885757675666, 0.92197754465925, 0.9218816280953829, 0.9216647736758551, 0.9218011914609776, 0.9216779661930591, 0.9220008894825822, 0.9220147267953488, 0.9220001656995636, 0.9219455047677603, 0.9218945143346952, 0.9219814295525127, 0.9220560791467467, 0.92204116663738, 0.9219469071981081, 0.9218958055378086, 0.9219922911337592, 0.9220006960439135, 0.9219429868410896, 0.9218334441350027, 0.9218391876514738, 0.9218677246910714, 0.9218743515774627, 0.9220346654861235, 0.921998621414192, 0.9218588361842455, 0.9219994532004673, 0.9219222163640397, 0.9219308147128626, 0.9217899865260941, 0.922001508486322, 0.9217936924885883, 0.9219721025847043, 0.9218216153604127, 0.9219703874285087, 0.9219925280961285, 0.9219527587178358, 0.9218497348948838, 0.9219922492220477, 0.9218510180380528, 0.9219826417681697, 0.9219152316161113, 0.921933250428099, 0.9218179658175303, 0.921900567353036, 0.921883970315263, 0.921776568330443, 0.9219896652038319, 0.9219056096543332, 0.9219224726702756, 0.9218634496964935, 0.9219373900156089, 0.9219732954564945, 0.9219444037793377, 0.9219040057253718, 0.9218968742864531, 0.921867764990794, 0.9219330279736302, 0.9218902748038731, 0.9219046843727012, 0.9218851728589866, 0.9219462124308899, 0.9218248748019799, 0.921969131689151, 0.921883678545271, 0.9219495315160466, 0.9219205415075665, 0.9219161343298984, 0.9218897928191904, 0.9218391199479398, 0.9219238073970896, 0.9218372742206427, 0.9218586798213216, 0.921941818149133, 0.9219617455559851, 0.9218890077805934, 0.9219035172927335, 0.9218990859352316, 0.9218332716521899, 0.9219447181171742]}],\n",
       "                        {\"template\": {\"data\": {\"bar\": [{\"error_x\": {\"color\": \"#2a3f5f\"}, \"error_y\": {\"color\": \"#2a3f5f\"}, \"marker\": {\"line\": {\"color\": \"#E5ECF6\", \"width\": 0.5}}, \"type\": \"bar\"}], \"barpolar\": [{\"marker\": {\"line\": {\"color\": \"#E5ECF6\", \"width\": 0.5}}, \"type\": \"barpolar\"}], \"carpet\": [{\"aaxis\": {\"endlinecolor\": \"#2a3f5f\", \"gridcolor\": \"white\", \"linecolor\": \"white\", \"minorgridcolor\": \"white\", \"startlinecolor\": \"#2a3f5f\"}, \"baxis\": {\"endlinecolor\": \"#2a3f5f\", \"gridcolor\": \"white\", \"linecolor\": \"white\", \"minorgridcolor\": \"white\", \"startlinecolor\": \"#2a3f5f\"}, \"type\": \"carpet\"}], \"choropleth\": [{\"colorbar\": {\"outlinewidth\": 0, \"ticks\": \"\"}, \"type\": \"choropleth\"}], \"contour\": [{\"colorbar\": {\"outlinewidth\": 0, \"ticks\": \"\"}, \"colorscale\": [[0.0, \"#0d0887\"], [0.1111111111111111, \"#46039f\"], [0.2222222222222222, \"#7201a8\"], [0.3333333333333333, \"#9c179e\"], [0.4444444444444444, \"#bd3786\"], [0.5555555555555556, \"#d8576b\"], [0.6666666666666666, \"#ed7953\"], [0.7777777777777778, \"#fb9f3a\"], [0.8888888888888888, \"#fdca26\"], [1.0, \"#f0f921\"]], \"type\": \"contour\"}], \"contourcarpet\": [{\"colorbar\": {\"outlinewidth\": 0, \"ticks\": \"\"}, \"type\": \"contourcarpet\"}], \"heatmap\": [{\"colorbar\": {\"outlinewidth\": 0, \"ticks\": \"\"}, \"colorscale\": [[0.0, \"#0d0887\"], [0.1111111111111111, \"#46039f\"], [0.2222222222222222, \"#7201a8\"], [0.3333333333333333, \"#9c179e\"], [0.4444444444444444, \"#bd3786\"], [0.5555555555555556, \"#d8576b\"], [0.6666666666666666, \"#ed7953\"], [0.7777777777777778, \"#fb9f3a\"], [0.8888888888888888, \"#fdca26\"], [1.0, \"#f0f921\"]], \"type\": \"heatmap\"}], \"heatmapgl\": [{\"colorbar\": {\"outlinewidth\": 0, \"ticks\": \"\"}, \"colorscale\": [[0.0, \"#0d0887\"], [0.1111111111111111, \"#46039f\"], [0.2222222222222222, \"#7201a8\"], [0.3333333333333333, \"#9c179e\"], [0.4444444444444444, \"#bd3786\"], [0.5555555555555556, \"#d8576b\"], [0.6666666666666666, \"#ed7953\"], [0.7777777777777778, \"#fb9f3a\"], [0.8888888888888888, \"#fdca26\"], [1.0, \"#f0f921\"]], \"type\": \"heatmapgl\"}], \"histogram\": [{\"marker\": {\"colorbar\": {\"outlinewidth\": 0, \"ticks\": \"\"}}, \"type\": \"histogram\"}], \"histogram2d\": [{\"colorbar\": {\"outlinewidth\": 0, \"ticks\": \"\"}, \"colorscale\": [[0.0, \"#0d0887\"], [0.1111111111111111, \"#46039f\"], [0.2222222222222222, \"#7201a8\"], [0.3333333333333333, \"#9c179e\"], [0.4444444444444444, \"#bd3786\"], [0.5555555555555556, \"#d8576b\"], [0.6666666666666666, \"#ed7953\"], [0.7777777777777778, \"#fb9f3a\"], [0.8888888888888888, \"#fdca26\"], [1.0, \"#f0f921\"]], \"type\": \"histogram2d\"}], \"histogram2dcontour\": [{\"colorbar\": {\"outlinewidth\": 0, \"ticks\": \"\"}, \"colorscale\": [[0.0, \"#0d0887\"], [0.1111111111111111, \"#46039f\"], [0.2222222222222222, \"#7201a8\"], [0.3333333333333333, \"#9c179e\"], [0.4444444444444444, \"#bd3786\"], [0.5555555555555556, \"#d8576b\"], [0.6666666666666666, \"#ed7953\"], [0.7777777777777778, \"#fb9f3a\"], [0.8888888888888888, \"#fdca26\"], [1.0, \"#f0f921\"]], \"type\": \"histogram2dcontour\"}], \"mesh3d\": [{\"colorbar\": {\"outlinewidth\": 0, \"ticks\": \"\"}, \"type\": \"mesh3d\"}], \"parcoords\": [{\"line\": {\"colorbar\": {\"outlinewidth\": 0, \"ticks\": \"\"}}, \"type\": \"parcoords\"}], \"scatter\": [{\"marker\": {\"colorbar\": {\"outlinewidth\": 0, \"ticks\": \"\"}}, \"type\": \"scatter\"}], \"scatter3d\": [{\"line\": {\"colorbar\": {\"outlinewidth\": 0, \"ticks\": \"\"}}, \"marker\": {\"colorbar\": {\"outlinewidth\": 0, \"ticks\": \"\"}}, \"type\": \"scatter3d\"}], \"scattercarpet\": [{\"marker\": {\"colorbar\": {\"outlinewidth\": 0, \"ticks\": \"\"}}, \"type\": \"scattercarpet\"}], \"scattergeo\": [{\"marker\": {\"colorbar\": {\"outlinewidth\": 0, \"ticks\": \"\"}}, \"type\": \"scattergeo\"}], \"scattergl\": [{\"marker\": {\"colorbar\": {\"outlinewidth\": 0, \"ticks\": \"\"}}, \"type\": \"scattergl\"}], \"scattermapbox\": [{\"marker\": {\"colorbar\": {\"outlinewidth\": 0, \"ticks\": \"\"}}, \"type\": \"scattermapbox\"}], \"scatterpolar\": [{\"marker\": {\"colorbar\": {\"outlinewidth\": 0, \"ticks\": \"\"}}, \"type\": \"scatterpolar\"}], \"scatterpolargl\": [{\"marker\": {\"colorbar\": {\"outlinewidth\": 0, \"ticks\": \"\"}}, \"type\": \"scatterpolargl\"}], \"scatterternary\": [{\"marker\": {\"colorbar\": {\"outlinewidth\": 0, \"ticks\": \"\"}}, \"type\": \"scatterternary\"}], \"surface\": [{\"colorbar\": {\"outlinewidth\": 0, \"ticks\": \"\"}, \"colorscale\": [[0.0, \"#0d0887\"], [0.1111111111111111, \"#46039f\"], [0.2222222222222222, \"#7201a8\"], [0.3333333333333333, \"#9c179e\"], [0.4444444444444444, \"#bd3786\"], [0.5555555555555556, \"#d8576b\"], [0.6666666666666666, \"#ed7953\"], [0.7777777777777778, \"#fb9f3a\"], [0.8888888888888888, \"#fdca26\"], [1.0, \"#f0f921\"]], \"type\": \"surface\"}], \"table\": [{\"cells\": {\"fill\": {\"color\": \"#EBF0F8\"}, \"line\": {\"color\": \"white\"}}, \"header\": {\"fill\": {\"color\": \"#C8D4E3\"}, \"line\": {\"color\": \"white\"}}, \"type\": \"table\"}]}, \"layout\": {\"annotationdefaults\": {\"arrowcolor\": \"#2a3f5f\", \"arrowhead\": 0, \"arrowwidth\": 1}, \"colorscale\": {\"diverging\": [[0, \"#8e0152\"], [0.1, \"#c51b7d\"], [0.2, \"#de77ae\"], [0.3, \"#f1b6da\"], [0.4, \"#fde0ef\"], [0.5, \"#f7f7f7\"], [0.6, \"#e6f5d0\"], [0.7, \"#b8e186\"], [0.8, \"#7fbc41\"], [0.9, \"#4d9221\"], [1, \"#276419\"]], \"sequential\": [[0.0, \"#0d0887\"], [0.1111111111111111, \"#46039f\"], [0.2222222222222222, \"#7201a8\"], [0.3333333333333333, \"#9c179e\"], [0.4444444444444444, \"#bd3786\"], [0.5555555555555556, \"#d8576b\"], [0.6666666666666666, \"#ed7953\"], [0.7777777777777778, \"#fb9f3a\"], [0.8888888888888888, \"#fdca26\"], [1.0, \"#f0f921\"]], \"sequentialminus\": [[0.0, \"#0d0887\"], [0.1111111111111111, \"#46039f\"], [0.2222222222222222, \"#7201a8\"], [0.3333333333333333, \"#9c179e\"], [0.4444444444444444, \"#bd3786\"], [0.5555555555555556, \"#d8576b\"], [0.6666666666666666, \"#ed7953\"], [0.7777777777777778, \"#fb9f3a\"], [0.8888888888888888, \"#fdca26\"], [1.0, \"#f0f921\"]]}, \"colorway\": [\"#636efa\", \"#EF553B\", \"#00cc96\", \"#ab63fa\", \"#FFA15A\", \"#19d3f3\", \"#FF6692\", \"#B6E880\", \"#FF97FF\", \"#FECB52\"], \"font\": {\"color\": \"#2a3f5f\"}, \"geo\": {\"bgcolor\": \"white\", \"lakecolor\": \"white\", \"landcolor\": \"#E5ECF6\", \"showlakes\": true, \"showland\": true, \"subunitcolor\": \"white\"}, \"hoverlabel\": {\"align\": \"left\"}, \"hovermode\": \"closest\", \"mapbox\": {\"style\": \"light\"}, \"paper_bgcolor\": \"white\", \"plot_bgcolor\": \"#E5ECF6\", \"polar\": {\"angularaxis\": {\"gridcolor\": \"white\", \"linecolor\": \"white\", \"ticks\": \"\"}, \"bgcolor\": \"#E5ECF6\", \"radialaxis\": {\"gridcolor\": \"white\", \"linecolor\": \"white\", \"ticks\": \"\"}}, \"scene\": {\"xaxis\": {\"backgroundcolor\": \"#E5ECF6\", \"gridcolor\": \"white\", \"gridwidth\": 2, \"linecolor\": \"white\", \"showbackground\": true, \"ticks\": \"\", \"zerolinecolor\": \"white\"}, \"yaxis\": {\"backgroundcolor\": \"#E5ECF6\", \"gridcolor\": \"white\", \"gridwidth\": 2, \"linecolor\": \"white\", \"showbackground\": true, \"ticks\": \"\", \"zerolinecolor\": \"white\"}, \"zaxis\": {\"backgroundcolor\": \"#E5ECF6\", \"gridcolor\": \"white\", \"gridwidth\": 2, \"linecolor\": \"white\", \"showbackground\": true, \"ticks\": \"\", \"zerolinecolor\": \"white\"}}, \"shapedefaults\": {\"line\": {\"color\": \"#2a3f5f\"}}, \"ternary\": {\"aaxis\": {\"gridcolor\": \"white\", \"linecolor\": \"white\", \"ticks\": \"\"}, \"baxis\": {\"gridcolor\": \"white\", \"linecolor\": \"white\", \"ticks\": \"\"}, \"bgcolor\": \"#E5ECF6\", \"caxis\": {\"gridcolor\": \"white\", \"linecolor\": \"white\", \"ticks\": \"\"}}, \"title\": {\"x\": 0.05}, \"xaxis\": {\"automargin\": true, \"gridcolor\": \"white\", \"linecolor\": \"white\", \"ticks\": \"\", \"zerolinecolor\": \"white\", \"zerolinewidth\": 2}, \"yaxis\": {\"automargin\": true, \"gridcolor\": \"white\", \"linecolor\": \"white\", \"ticks\": \"\", \"zerolinecolor\": \"white\", \"zerolinewidth\": 2}}}},\n",
       "                        {\"responsive\": true}\n",
       "                    ).then(function(){\n",
       "                            \n",
       "var gd = document.getElementById('8e94e3d9-d4db-490d-8e6f-09af8dfc1375');\n",
       "var x = new MutationObserver(function (mutations, observer) {{\n",
       "        var display = window.getComputedStyle(gd).display;\n",
       "        if (!display || display === 'none') {{\n",
       "            console.log([gd, 'removed!']);\n",
       "            Plotly.purge(gd);\n",
       "            observer.disconnect();\n",
       "        }}\n",
       "}});\n",
       "\n",
       "// Listen for the removal of the full notebook cells\n",
       "var notebookContainer = gd.closest('#notebook-container');\n",
       "if (notebookContainer) {{\n",
       "    x.observe(notebookContainer, {childList: true});\n",
       "}}\n",
       "\n",
       "// Listen for the clearing of the current output cell\n",
       "var outputEl = gd.closest('.output');\n",
       "if (outputEl) {{\n",
       "    x.observe(outputEl, {childList: true});\n",
       "}}\n",
       "\n",
       "                        })\n",
       "                };\n",
       "                });\n",
       "            </script>\n",
       "        </div>"
      ]
     },
     "metadata": {},
     "output_type": "display_data"
    }
   ],
   "source": [
    "# Chunk size 20, capped at 40\n",
    "fig = go.Figure()\n",
    "fig.add_trace(go.Scatter(y=aucs))\n",
    "# fig.add_trace(go.Histogram/(x=pred_means[labels==False]))"
   ]
  },
  {
   "cell_type": "code",
   "execution_count": 19,
   "metadata": {
    "collapsed": true
   },
   "outputs": [],
   "source": [
    "with open(TEMP_DATA + 'model_' + str(chunk_sz) + '.p', 'wb') as f:\n",
    "    pickle.dump((clf, transformer, scaler, secondary_scaler, aucs ), f)"
   ]
  }
 ],
 "metadata": {
  "kernelspec": {
   "display_name": "Python 3",
   "language": "python",
   "name": "python3"
  },
  "language_info": {
   "codemirror_mode": {
    "name": "ipython",
    "version": 3
   },
   "file_extension": ".py",
   "mimetype": "text/x-python",
   "name": "python",
   "nbconvert_exporter": "python",
   "pygments_lexer": "ipython3",
   "version": "3.6.9"
  }
 },
 "nbformat": 4,
 "nbformat_minor": 2
}
