{
 "cells": [
  {
   "cell_type": "code",
   "execution_count": 1,
   "metadata": {
    "collapsed": true
   },
   "outputs": [],
   "source": [
    "%load_ext autoreload\n",
    "%autoreload 2\n",
    "import sys\n",
    "sys.path.append(\"../\")\n",
    "import warnings\n",
    "warnings.filterwarnings(\"ignore\")"
   ]
  },
  {
   "cell_type": "code",
   "execution_count": 2,
   "metadata": {
    "collapsed": true
   },
   "outputs": [],
   "source": [
    "import pickle\n",
    "import glob\n",
    "from tqdm.notebook import trange, tqdm\n",
    "import json\n",
    "import re\n",
    "import pandas as pd\n",
    "import numpy as np\n",
    "from collections import defaultdict\n",
    "\n",
    "from utills import chunker, cartesian_product, get_num_chunks\n",
    "from train_utils import generate_unique_pairs, get_random_author_excluding, generate_doc_pairs, fit_transformers, vectorize\n",
    "\n",
    "\n",
    "from sklearn.linear_model import SGDClassifier\n",
    "from sklearn.metrics import precision_recall_curve\n",
    "from sklearn.metrics import roc_curve, auc\n",
    "\n",
    "from sklearn.utils.fixes import loguniform\n",
    "from sklearn.model_selection import RandomizedSearchCV"
   ]
  },
  {
   "cell_type": "code",
   "execution_count": 3,
   "metadata": {},
   "outputs": [
    {
     "data": {
      "text/html": [
       "        <script type=\"text/javascript\">\n",
       "        window.PlotlyConfig = {MathJaxConfig: 'local'};\n",
       "        if (window.MathJax) {MathJax.Hub.Config({SVG: {font: \"STIX-Web\"}});}\n",
       "        if (typeof require !== 'undefined') {\n",
       "        require.undef(\"plotly\");\n",
       "        requirejs.config({\n",
       "            paths: {\n",
       "                'plotly': ['https://cdn.plot.ly/plotly-latest.min']\n",
       "            }\n",
       "        });\n",
       "        require(['plotly'], function(Plotly) {\n",
       "            window._Plotly = Plotly;\n",
       "        });\n",
       "        }\n",
       "        </script>\n",
       "        "
      ]
     },
     "metadata": {},
     "output_type": "display_data"
    }
   ],
   "source": [
    "\n",
    "from plotly.offline import init_notebook_mode\n",
    "import plotly.offline as py\n",
    "import plotly.graph_objs as go\n",
    "init_notebook_mode(connected=True)"
   ]
  },
  {
   "cell_type": "code",
   "execution_count": 4,
   "metadata": {
    "collapsed": true
   },
   "outputs": [],
   "source": [
    "# BASE_PATH = '../data/reddit_2/'\n",
    "COMPUTED_DATA_PATH = '../temp_data/reddit/preprocessed/'\n",
    "chunk_sz=20\n",
    "TEMP_DATA = '../temp_data/reddit/multidoc_' + str(chunk_sz) + '_limitted_data_40_capped/'\n",
    "MAX_COMMENTS = 40"
   ]
  },
  {
   "cell_type": "code",
   "execution_count": 5,
   "metadata": {
    "collapsed": true
   },
   "outputs": [],
   "source": [
    "with open(COMPUTED_DATA_PATH + 'metadata.p', 'rb') as f:\n",
    "    (train_files, test_files, min_count, author_mapping_all) = pickle.load(f)"
   ]
  },
  {
   "cell_type": "markdown",
   "metadata": {},
   "source": [
    "Vectorize Data\n",
    "==="
   ]
  },
  {
   "cell_type": "code",
   "execution_count": 6,
   "metadata": {
    "collapsed": true
   },
   "outputs": [],
   "source": [
    "exclude_users_root = np.random.choice(train_files, size=int(len(train_files)*0.5), replace=False)\n",
    "exclude_users_root = [u.replace('../data/reddit_2/', '/scratch/jnw301/av/data/reddit_2/reddit_2/').replace('.jsonl', '') for u in exclude_users_root]\n",
    "\n",
    "exclude_users = []\n",
    "for u in exclude_users_root:\n",
    "    exclude_users.extend(author_mapping_all[u])\n",
    "    \n",
    "    \n",
    "exclude_users_test_root = np.random.choice(test_files, size=int(len(test_files)*0.5), replace=False)\n",
    "exclude_users_test_root = [u.replace('../data/reddit_2/', '/scratch/jnw301/av/data/reddit_2/reddit_2/').replace('.jsonl', '') for u in exclude_users_test_root]\n",
    "\n",
    "exclude_users_test = []\n",
    "for u in exclude_users_test_root:\n",
    "    exclude_users_test.extend(author_mapping_all[u])"
   ]
  },
  {
   "cell_type": "code",
   "execution_count": 8,
   "metadata": {},
   "outputs": [
    {
     "name": "stdout",
     "output_type": "stream",
     "text": [
      "Sampled: 7271\n",
      "Reading preprocessed data...\n"
     ]
    },
    {
     "data": {
      "application/vnd.jupyter.widget-view+json": {
       "model_id": "c0c6f9c980e64fc6bf859bb852237d0f"
      }
     },
     "metadata": {},
     "output_type": "display_data"
    },
    {
     "name": "stdout",
     "output_type": "stream",
     "text": [
      "\n",
      "Fitting transformer\n",
      "Generating pairs\n"
     ]
    },
    {
     "data": {
      "application/vnd.jupyter.widget-view+json": {
       "model_id": "a5904ecb66ca4b9a893c2d861b14b983"
      }
     },
     "metadata": {},
     "output_type": "display_data"
    },
    {
     "name": "stdout",
     "output_type": "stream",
     "text": [
      "\n"
     ]
    },
    {
     "data": {
      "application/vnd.jupyter.widget-view+json": {
       "model_id": "a1fead57e0d347bebb9779f4bd3b51e4"
      }
     },
     "metadata": {},
     "output_type": "display_data"
    },
    {
     "name": "stdout",
     "output_type": "stream",
     "text": [
      "\n"
     ]
    },
    {
     "data": {
      "application/vnd.jupyter.widget-view+json": {
       "model_id": "2a2c7d98de2b462884506913c27d09ea"
      }
     },
     "metadata": {},
     "output_type": "display_data"
    },
    {
     "name": "stdout",
     "output_type": "stream",
     "text": [
      "\n"
     ]
    }
   ],
   "source": [
    "transformer, scaler, secondary_scaler = fit_transformers(\n",
    "    COMPUTED_DATA_PATH + 'train.jsonl', \n",
    "    author_mapping_all, \n",
    "    chunk_sz, \n",
    "    sample_fraction=0.1,\n",
    "    exclude_users=exclude_users,\n",
    "    max_comments=MAX_COMMENTS\n",
    ")"
   ]
  },
  {
   "cell_type": "code",
   "execution_count": 9,
   "metadata": {
    "collapsed": true
   },
   "outputs": [],
   "source": [
    "with open(TEMP_DATA + 'model_' + str(chunk_sz) + '.p', 'wb') as f:\n",
    "    pickle.dump((transformer, scaler, secondary_scaler ), f)"
   ]
  },
  {
   "cell_type": "code",
   "execution_count": 10,
   "metadata": {},
   "outputs": [
    {
     "name": "stdout",
     "output_type": "stream",
     "text": [
      "Precomputing record size...\n"
     ]
    },
    {
     "data": {
      "application/vnd.jupyter.widget-view+json": {
       "model_id": "d8b8272e95a34427a1be8d68e926ebe7"
      }
     },
     "metadata": {},
     "output_type": "display_data"
    },
    {
     "name": "stdout",
     "output_type": "stream",
     "text": [
      "\n"
     ]
    },
    {
     "data": {
      "application/vnd.jupyter.widget-view+json": {
       "model_id": "5f9e4f14cc4a497f92ebe58b8cedcf4e"
      }
     },
     "metadata": {},
     "output_type": "display_data"
    },
    {
     "name": "stdout",
     "output_type": "stream",
     "text": [
      "\n"
     ]
    }
   ],
   "source": [
    "XX_train, author_bounds, author_subreddit, x_shape = vectorize(\n",
    "    preprocessed_path = COMPUTED_DATA_PATH + 'train.jsonl', \n",
    "    vectorized_x_path = TEMP_DATA + 'XX_train_' + str(chunk_sz) + '.npy', \n",
    "    transformer=transformer,\n",
    "    scaler=scaler,\n",
    "    chunk_sz=chunk_sz,\n",
    "    max_comments=MAX_COMMENTS,\n",
    "    exclude_users=exclude_users\n",
    ")"
   ]
  },
  {
   "cell_type": "code",
   "execution_count": 11,
   "metadata": {},
   "outputs": [
    {
     "name": "stdout",
     "output_type": "stream",
     "text": [
      "Precomputing record size...\n"
     ]
    },
    {
     "data": {
      "application/vnd.jupyter.widget-view+json": {
       "model_id": "bb0a5fa923f04a74acb6610c6eefd3f6"
      }
     },
     "metadata": {},
     "output_type": "display_data"
    },
    {
     "name": "stdout",
     "output_type": "stream",
     "text": [
      "\n"
     ]
    },
    {
     "data": {
      "application/vnd.jupyter.widget-view+json": {
       "model_id": "2e41015110ad4034a96ff3408b82a29a"
      }
     },
     "metadata": {},
     "output_type": "display_data"
    },
    {
     "name": "stdout",
     "output_type": "stream",
     "text": [
      "\n"
     ]
    }
   ],
   "source": [
    "XX_test, author_bounds_test, author_subreddit_test, x_shape_test = vectorize(\n",
    "    preprocessed_path = COMPUTED_DATA_PATH + 'test.jsonl', \n",
    "    vectorized_x_path = TEMP_DATA + 'XX_test_' + str(chunk_sz) + '.npy', \n",
    "    transformer=transformer,\n",
    "    scaler=scaler,\n",
    "    chunk_sz=chunk_sz,\n",
    "    max_comments=MAX_COMMENTS,\n",
    "    exclude_users=exclude_users_test\n",
    ")"
   ]
  },
  {
   "cell_type": "code",
   "execution_count": 12,
   "metadata": {
    "collapsed": true
   },
   "outputs": [],
   "source": [
    "with open(TEMP_DATA + 'experiment_data' + str(chunk_sz) + '.p', 'wb') as f:\n",
    "    pickle.dump((\n",
    "        author_bounds, \n",
    "        author_bounds_test, \n",
    "        author_subreddit, \n",
    "        author_subreddit_test, \n",
    "        x_shape, \n",
    "        x_shape_test,\n",
    "        exclude_users,\n",
    "        exclude_users_test\n",
    "    ), f)"
   ]
  },
  {
   "cell_type": "markdown",
   "metadata": {
    "collapsed": true
   },
   "source": [
    "Train the classifier\n",
    "==="
   ]
  },
  {
   "cell_type": "code",
   "execution_count": 13,
   "metadata": {},
   "outputs": [
    {
     "data": {
      "application/vnd.jupyter.widget-view+json": {
       "model_id": "cb61a07816254170a1e3822a22be888c"
      }
     },
     "metadata": {},
     "output_type": "display_data"
    },
    {
     "name": "stdout",
     "output_type": "stream",
     "text": [
      "\n"
     ]
    },
    {
     "data": {
      "application/vnd.jupyter.widget-view+json": {
       "model_id": "681c3ef2a6bc43eeae328375bea868d1"
      }
     },
     "metadata": {},
     "output_type": "display_data"
    },
    {
     "name": "stdout",
     "output_type": "stream",
     "text": [
      "\n"
     ]
    },
    {
     "data": {
      "application/vnd.jupyter.widget-view+json": {
       "model_id": "241e62826faa464593b22f41cbd19747"
      }
     },
     "metadata": {},
     "output_type": "display_data"
    },
    {
     "name": "stdout",
     "output_type": "stream",
     "text": [
      "\n"
     ]
    },
    {
     "data": {
      "application/vnd.jupyter.widget-view+json": {
       "model_id": "ad081e7b113d49a781ad3c97db16e3c3"
      }
     },
     "metadata": {},
     "output_type": "display_data"
    },
    {
     "name": "stdout",
     "output_type": "stream",
     "text": [
      "\n"
     ]
    },
    {
     "data": {
      "application/vnd.jupyter.widget-view+json": {
       "model_id": "b01677f0e63e46e98c078c6c6dc72736"
      }
     },
     "metadata": {},
     "output_type": "display_data"
    },
    {
     "name": "stdout",
     "output_type": "stream",
     "text": [
      "\n"
     ]
    },
    {
     "data": {
      "application/vnd.jupyter.widget-view+json": {
       "model_id": "c4bd03233b3940ddb092280257ca1700"
      }
     },
     "metadata": {},
     "output_type": "display_data"
    },
    {
     "name": "stdout",
     "output_type": "stream",
     "text": [
      "\n"
     ]
    }
   ],
   "source": [
    "author_mapping = defaultdict(set)\n",
    "author_to_root = {}\n",
    "for y in author_bounds.keys():\n",
    "    u = re.search(r'(.*)_[A-Z]+$', y).group(1)\n",
    "    author_mapping[u].add(y)\n",
    "    author_to_root[y] = u\n",
    "\n",
    "subreddit_to_author = defaultdict(list)\n",
    "for k, v in author_subreddit.items():\n",
    "    subreddit_to_author[v].append(k)\n",
    "    \n",
    "author_mapping_test = defaultdict(set)\n",
    "author_to_root_test = {}\n",
    "for y in author_bounds_test.keys():\n",
    "    u = re.search(r'(.*)_[A-Z]+$', y).group(1)\n",
    "    author_mapping_test[u].add(y)\n",
    "    author_to_root_test[y] = u\n",
    "\n",
    "subreddit_to_author_test = defaultdict(list)\n",
    "for k, v in author_subreddit_test.items():\n",
    "    subreddit_to_author_test[v].append(k)\n",
    "    \n",
    "X_idxs_train, Y_train = generate_doc_pairs(author_mapping, subreddit_to_author, author_to_root, author_bounds, author_subreddit)\n",
    "X_idxs_test, Y_test = generate_doc_pairs(author_mapping_test, subreddit_to_author_test, author_to_root_test, author_bounds_test, author_subreddit_test)"
   ]
  },
  {
   "cell_type": "code",
   "execution_count": 14,
   "metadata": {
    "collapsed": true
   },
   "outputs": [],
   "source": [
    "with open(TEMP_DATA + 'experiment_data' + str(chunk_sz) + '.p', 'wb') as f:\n",
    "    pickle.dump((\n",
    "        author_bounds, \n",
    "        author_bounds_test, \n",
    "        author_subreddit, \n",
    "        author_subreddit_test, \n",
    "        x_shape, \n",
    "        x_shape_test,\n",
    "        exclude_users,\n",
    "        exclude_users_test,\n",
    "        X_idxs_train,\n",
    "        Y_train,\n",
    "        X_idxs_test,\n",
    "        Y_test\n",
    "    ), f)"
   ]
  },
  {
   "cell_type": "code",
   "execution_count": 15,
   "metadata": {
    "collapsed": true
   },
   "outputs": [],
   "source": [
    "batch_sz = 50000\n",
    "x_test_diff_sample = secondary_scaler.transform(np.abs(XX_test[X_idxs_test[:batch_sz, 0]] - XX_test[X_idxs_test[:batch_sz, 1]]))\n",
    "y_test_sample = Y_test[:batch_sz]"
   ]
  },
  {
   "cell_type": "code",
   "execution_count": 16,
   "metadata": {
    "scrolled": true
   },
   "outputs": [
    {
     "name": "stdout",
     "output_type": "stream",
     "text": [
      "AUC: 0.8487539443493554\n",
      "AUC: 0.860052592793639\n",
      "AUC: 0.8672536600168858\n",
      "AUC: 0.8824803133566155\n",
      "AUC: 0.8891808136175121\n",
      "AUC: 0.8940109426437612\n",
      "AUC: 0.8962740087673351\n",
      "AUC: 0.8997897065436529\n",
      "AUC: 0.9021092201238082\n",
      "AUC: 0.902216088270259\n",
      "~~~~~~~~~~~~~~~~~~~~ Epoch:  0\n",
      "AUC: 0.9032108781456596\n",
      "AUC: 0.9072354266839864\n",
      "AUC: 0.9070859913929087\n",
      "AUC: 0.9095282019952348\n",
      "AUC: 0.9108602552482326\n",
      "AUC: 0.9103180273195531\n",
      "AUC: 0.9111943217634021\n",
      "AUC: 0.9136212771625642\n",
      "AUC: 0.9123892047804711\n",
      "AUC: 0.9119611376904271\n",
      "~~~~~~~~~~~~~~~~~~~~ Epoch:  1\n",
      "AUC: 0.9134338705170565\n",
      "AUC: 0.9133827143084632\n",
      "AUC: 0.9149042814120277\n",
      "AUC: 0.9158014972773588\n",
      "AUC: 0.9157209395490541\n",
      "AUC: 0.9158822569127644\n",
      "AUC: 0.9165856051053654\n",
      "AUC: 0.9170155069861259\n",
      "AUC: 0.9164827094009989\n",
      "AUC: 0.9161217491805036\n",
      "~~~~~~~~~~~~~~~~~~~~ Epoch:  2\n",
      "AUC: 0.9169226681782991\n",
      "AUC: 0.9173288764210363\n",
      "AUC: 0.9168273183512121\n",
      "AUC: 0.9184816986636676\n",
      "AUC: 0.9179203985261583\n",
      "AUC: 0.9185704111954283\n",
      "AUC: 0.9182044097071647\n",
      "AUC: 0.9187468443502569\n",
      "AUC: 0.9177169354588328\n",
      "AUC: 0.9174892162979892\n",
      "~~~~~~~~~~~~~~~~~~~~ Epoch:  3\n",
      "AUC: 0.9186741321550078\n",
      "AUC: 0.9184183270754818\n",
      "AUC: 0.9182670521863755\n",
      "AUC: 0.9191695801313798\n",
      "AUC: 0.9175801898687905\n",
      "AUC: 0.9183541558710799\n",
      "AUC: 0.9192292308601382\n",
      "AUC: 0.9201431072661519\n",
      "AUC: 0.9187256473095579\n",
      "AUC: 0.9188753213637944\n",
      "~~~~~~~~~~~~~~~~~~~~ Epoch:  4\n",
      "AUC: 0.9187318070785666\n",
      "AUC: 0.9194029975592878\n",
      "AUC: 0.9196274285187771\n",
      "AUC: 0.9191923203192055\n",
      "AUC: 0.9185304576260493\n",
      "AUC: 0.9203376399503644\n",
      "AUC: 0.9196804788082673\n",
      "AUC: 0.9201534910599022\n",
      "AUC: 0.9190905030551468\n",
      "AUC: 0.9191276731909235\n",
      "~~~~~~~~~~~~~~~~~~~~ Epoch:  5\n",
      "AUC: 0.9194563058411844\n",
      "AUC: 0.919990963856025\n",
      "AUC: 0.9200572566874214\n",
      "AUC: 0.9205399829140123\n",
      "AUC: 0.9200727570634936\n",
      "AUC: 0.9204069085078403\n",
      "AUC: 0.9191919790000591\n",
      "AUC: 0.9198864400753546\n",
      "AUC: 0.919746500827759\n",
      "AUC: 0.9196088178118919\n",
      "~~~~~~~~~~~~~~~~~~~~ Epoch:  6\n",
      "AUC: 0.9201839806345451\n",
      "AUC: 0.9200623796794924\n",
      "AUC: 0.9201042882223862\n",
      "AUC: 0.9208430582916617\n",
      "AUC: 0.9207015246189454\n",
      "AUC: 0.9208186916299692\n",
      "AUC: 0.9205759223779368\n",
      "AUC: 0.9205796977202325\n",
      "AUC: 0.9202317733272307\n",
      "AUC: 0.9199279624308573\n",
      "~~~~~~~~~~~~~~~~~~~~ Epoch:  7\n",
      "AUC: 0.9205722543989407\n",
      "AUC: 0.9203972842693737\n",
      "AUC: 0.920130863042688\n",
      "AUC: 0.9210256095521288\n",
      "AUC: 0.9206656604695742\n",
      "AUC: 0.9204299419416934\n",
      "AUC: 0.9212087152559043\n",
      "AUC: 0.9212824690354029\n",
      "AUC: 0.9206367476932414\n",
      "AUC: 0.9203338101252004\n",
      "~~~~~~~~~~~~~~~~~~~~ Epoch:  8\n",
      "AUC: 0.920868729337322\n",
      "AUC: 0.9203734960875491\n",
      "AUC: 0.9208761598391153\n",
      "AUC: 0.9212673452320981\n",
      "AUC: 0.9207377445093989\n",
      "AUC: 0.9211516492585222\n",
      "AUC: 0.9210571663500184\n",
      "AUC: 0.9212728928700553\n",
      "AUC: 0.9208444524121189\n",
      "AUC: 0.9203634391910094\n",
      "~~~~~~~~~~~~~~~~~~~~ Epoch:  9\n",
      "AUC: 0.9208620599932498\n",
      "AUC: 0.9205896424461605\n",
      "AUC: 0.9208547512766919\n",
      "AUC: 0.9212099283009458\n",
      "AUC: 0.920817480187365\n",
      "AUC: 0.921525962589098\n",
      "AUC: 0.9211399290320578\n",
      "AUC: 0.9213505421746476\n",
      "AUC: 0.9205432807299903\n",
      "AUC: 0.9202566752029836\n",
      "~~~~~~~~~~~~~~~~~~~~ Epoch:  10\n",
      "AUC: 0.921075831539772\n",
      "AUC: 0.9204228495541719\n",
      "AUC: 0.920497878873767\n",
      "AUC: 0.9214536045324939\n",
      "AUC: 0.9211694170833837\n",
      "AUC: 0.9213837446756517\n",
      "AUC: 0.9212939136426505\n",
      "AUC: 0.921601695378671\n",
      "AUC: 0.921002055326151\n",
      "AUC: 0.9208194271486931\n",
      "~~~~~~~~~~~~~~~~~~~~ Epoch:  11\n",
      "AUC: 0.9208189960930575\n",
      "AUC: 0.9210496493166105\n",
      "AUC: 0.9210531217982552\n",
      "AUC: 0.9214905679538578\n",
      "AUC: 0.9204579076775776\n",
      "AUC: 0.9215550243921005\n",
      "AUC: 0.921522597470753\n",
      "AUC: 0.9208945926754594\n",
      "AUC: 0.921039816761294\n",
      "AUC: 0.9210360606482461\n",
      "~~~~~~~~~~~~~~~~~~~~ Epoch:  12\n",
      "AUC: 0.9213421886689654\n",
      "AUC: 0.9209761375051453\n",
      "AUC: 0.9211338237459176\n",
      "AUC: 0.9215876339913006\n",
      "AUC: 0.9210208439035774\n",
      "AUC: 0.9216653762372569\n",
      "AUC: 0.921557573869856\n",
      "AUC: 0.9217979282488664\n",
      "AUC: 0.9213322247137897\n",
      "AUC: 0.9211131058339735\n",
      "~~~~~~~~~~~~~~~~~~~~ Epoch:  13\n",
      "AUC: 0.9214037831541775\n",
      "AUC: 0.9211000844284155\n",
      "AUC: 0.9212899203688811\n",
      "AUC: 0.92146718038136\n",
      "AUC: 0.9213534666227332\n",
      "AUC: 0.9215498581342222\n",
      "AUC: 0.9215232512651743\n",
      "AUC: 0.9216575723675711\n",
      "AUC: 0.921369686493156\n",
      "AUC: 0.9207243385188872\n",
      "~~~~~~~~~~~~~~~~~~~~ Epoch:  14\n",
      "AUC: 0.921409362840881\n",
      "AUC: 0.9211978282968395\n",
      "AUC: 0.9212684925772099\n",
      "AUC: 0.9216570387559478\n",
      "AUC: 0.921427862979592\n",
      "AUC: 0.9216897300794509\n",
      "AUC: 0.9215113211194227\n",
      "AUC: 0.9218167921408462\n",
      "AUC: 0.9210698143876836\n",
      "AUC: 0.9211342115357459\n",
      "~~~~~~~~~~~~~~~~~~~~ Epoch:  15\n",
      "AUC: 0.9215123562939231\n",
      "AUC: 0.9211238581883043\n",
      "AUC: 0.9213534746349198\n",
      "AUC: 0.9216731576728203\n",
      "AUC: 0.9213566602802863\n",
      "AUC: 0.9216299976263898\n",
      "AUC: 0.9215711545260341\n",
      "AUC: 0.9218203287199831\n",
      "AUC: 0.9215095183774522\n",
      "AUC: 0.9209553442786478\n",
      "~~~~~~~~~~~~~~~~~~~~ Epoch:  16\n",
      "AUC: 0.9215503452751636\n",
      "AUC: 0.9212638246773341\n",
      "AUC: 0.921490600002604\n",
      "AUC: 0.9215754939262618\n",
      "AUC: 0.9214646789767236\n",
      "AUC: 0.9216738691549848\n",
      "AUC: 0.9215788574421696\n",
      "AUC: 0.9219011043797616\n",
      "AUC: 0.9214249769900018\n",
      "AUC: 0.9211901958879456\n",
      "~~~~~~~~~~~~~~~~~~~~ Epoch:  17\n",
      "AUC: 0.9215183462045771\n",
      "AUC: 0.9211988298201564\n",
      "AUC: 0.9215223603100315\n",
      "AUC: 0.9217845735363488\n",
      "AUC: 0.9214561732394974\n",
      "AUC: 0.921720903894824\n",
      "AUC: 0.9216078791842393\n",
      "AUC: 0.9217517315837389\n",
      "AUC: 0.9214621984037722\n",
      "AUC: 0.9213553254500094\n",
      "~~~~~~~~~~~~~~~~~~~~ Epoch:  18\n",
      "AUC: 0.9214551284503731\n",
      "AUC: 0.9212129745342665\n",
      "AUC: 0.9214653359760197\n",
      "AUC: 0.9218065076982089\n",
      "AUC: 0.9216861133784485\n",
      "AUC: 0.9217280988383331\n",
      "AUC: 0.9216911530437796\n",
      "AUC: 0.9218497238299453\n",
      "AUC: 0.9214117584846552\n",
      "AUC: 0.9213418585668803\n",
      "~~~~~~~~~~~~~~~~~~~~ Epoch:  19\n",
      "AUC: 0.9214443712887301\n",
      "AUC: 0.9211197463341743\n",
      "AUC: 0.9215184663873752\n",
      "AUC: 0.9217826121530849\n",
      "AUC: 0.9213284029008122\n",
      "AUC: 0.9217447465595169\n",
      "AUC: 0.9215417353795123\n",
      "AUC: 0.9218762441673786\n",
      "AUC: 0.921551188157187\n",
      "AUC: 0.9212850265253449\n",
      "~~~~~~~~~~~~~~~~~~~~ Epoch:  20\n",
      "AUC: 0.9215310935933555\n",
      "AUC: 0.9213782146645048\n",
      "AUC: 0.9215806441597671\n",
      "AUC: 0.9217136961318164\n",
      "AUC: 0.9214652782882764\n",
      "AUC: 0.9218168482261522\n",
      "AUC: 0.9217167647992597\n",
      "AUC: 0.921637256667391\n",
      "AUC: 0.9216812035105396\n",
      "AUC: 0.9214435636603273\n",
      "~~~~~~~~~~~~~~~~~~~~ Epoch:  21\n",
      "AUC: 0.9216605400814639\n",
      "AUC: 0.9212969871174056\n",
      "AUC: 0.9215747584075379\n",
      "AUC: 0.9217999713564331\n",
      "AUC: 0.9215491130008744\n",
      "AUC: 0.9217012211573803\n",
      "AUC: 0.9217313405690055\n",
      "AUC: 0.9218812838327095\n",
      "AUC: 0.9213547149213955\n",
      "AUC: 0.9214467893666267\n",
      "~~~~~~~~~~~~~~~~~~~~ Epoch:  22\n",
      "AUC: 0.9216543146125257\n",
      "AUC: 0.9213682571190781\n",
      "AUC: 0.9215018282808151\n",
      "AUC: 0.9218432724173466\n",
      "AUC: 0.9213957757749537\n",
      "AUC: 0.921814609621234\n",
      "AUC: 0.9218004040145059\n",
      "AUC: 0.9218592006441798\n",
      "AUC: 0.9215790881931416\n",
      "AUC: 0.9214097169795259\n",
      "~~~~~~~~~~~~~~~~~~~~ Epoch:  23\n",
      "AUC: 0.9216335614469608\n",
      "AUC: 0.9211709746524464\n",
      "AUC: 0.9216259514721893\n",
      "AUC: 0.9218633044861234\n",
      "AUC: 0.9214481546432123\n",
      "AUC: 0.9216782678453928\n",
      "AUC: 0.9217104159426488\n",
      "AUC: 0.9219160935783326\n",
      "AUC: 0.9216713981966571\n",
      "AUC: 0.9214285520276341\n",
      "~~~~~~~~~~~~~~~~~~~~ Epoch:  24\n",
      "AUC: 0.9216835703104421\n",
      "AUC: 0.9215981315580999\n",
      "AUC: 0.921614133497049\n",
      "AUC: 0.9218987359774216\n",
      "AUC: 0.9213299075894434\n",
      "AUC: 0.9217713454163783\n",
      "AUC: 0.9217191764674069\n",
      "AUC: 0.9218450703520055\n",
      "AUC: 0.9216909847878623\n",
      "AUC: 0.9214884655561109\n",
      "~~~~~~~~~~~~~~~~~~~~ Epoch:  25\n",
      "AUC: 0.9216916145457241\n",
      "AUC: 0.9213661707457041\n",
      "AUC: 0.9216530198431814\n",
      "AUC: 0.921845501407641\n",
      "AUC: 0.9216672751254659\n",
      "AUC: 0.9217387406244898\n",
      "AUC: 0.9217678360786757\n",
      "AUC: 0.9219078714725097\n",
      "AUC: 0.9216844500485238\n",
      "AUC: 0.9215152214518282\n",
      "~~~~~~~~~~~~~~~~~~~~ Epoch:  26\n",
      "AUC: 0.921697509912577\n",
      "AUC: 0.9215255058944654\n",
      "AUC: 0.9215786475228823\n",
      "AUC: 0.9218574043119585\n",
      "AUC: 0.9216617162704472\n",
      "AUC: 0.9218563883667058\n",
      "AUC: 0.9217525712608877\n",
      "AUC: 0.9218834343035757\n",
      "AUC: 0.9216822579142876\n",
      "AUC: 0.9215993734470129\n",
      "~~~~~~~~~~~~~~~~~~~~ Epoch:  27\n",
      "AUC: 0.9217188030995144\n",
      "AUC: 0.9213590334899382\n",
      "AUC: 0.9213482987624175\n",
      "AUC: 0.9218668747164437\n",
      "AUC: 0.9216274144974506\n",
      "AUC: 0.9217478616976422\n",
      "AUC: 0.9218132956226421\n",
      "AUC: 0.9219145696604536\n",
      "AUC: 0.9216354138644878\n",
      "AUC: 0.921533787290469\n",
      "~~~~~~~~~~~~~~~~~~~~ Epoch:  28\n",
      "AUC: 0.9216758145138756\n",
      "AUC: 0.9215240540862653\n",
      "AUC: 0.921615208732482\n",
      "AUC: 0.9218273858538837\n",
      "AUC: 0.9214950724051282\n",
      "AUC: 0.9218226041809593\n",
      "AUC: 0.9218073730143548\n",
      "AUC: 0.9219682080444356\n",
      "AUC: 0.9217334141228809\n",
      "AUC: 0.9216229020339938\n",
      "~~~~~~~~~~~~~~~~~~~~ Epoch:  29\n",
      "AUC: 0.9217164362996118\n",
      "AUC: 0.9215023971460592\n",
      "AUC: 0.9216736400064498\n",
      "AUC: 0.9218670141284895\n"
     ]
    },
    {
     "name": "stdout",
     "output_type": "stream",
     "text": [
      "AUC: 0.9217253298266663\n",
      "AUC: 0.9216367887556975\n",
      "AUC: 0.9218253459511917\n",
      "AUC: 0.9218189137678409\n",
      "AUC: 0.9217224518492627\n",
      "AUC: 0.9216331944888174\n",
      "~~~~~~~~~~~~~~~~~~~~ Epoch:  30\n",
      "AUC: 0.9217687462630662\n",
      "AUC: 0.9214833874322845\n",
      "AUC: 0.921675399482613\n",
      "AUC: 0.9215866276606719\n",
      "AUC: 0.9216507475870799\n",
      "AUC: 0.9218019343421344\n",
      "AUC: 0.9217966206600239\n",
      "AUC: 0.9218342619123687\n",
      "AUC: 0.9216743146325561\n",
      "AUC: 0.9216231808580851\n",
      "~~~~~~~~~~~~~~~~~~~~ Epoch:  31\n",
      "AUC: 0.9217481837875409\n",
      "AUC: 0.9214799790481322\n",
      "AUC: 0.9217566398492106\n",
      "AUC: 0.9217556110844595\n",
      "AUC: 0.9216779553701179\n",
      "AUC: 0.9218113422515646\n",
      "AUC: 0.921827142283413\n",
      "AUC: 0.9219568083054326\n",
      "AUC: 0.9217714399601795\n",
      "AUC: 0.9216474946393465\n",
      "~~~~~~~~~~~~~~~~~~~~ Epoch:  32\n",
      "AUC: 0.9217567424051982\n",
      "AUC: 0.9216154170493319\n",
      "AUC: 0.9215520711001434\n",
      "AUC: 0.9218777296267624\n",
      "AUC: 0.9216925615861726\n",
      "AUC: 0.921861778965807\n",
      "AUC: 0.921839168575403\n",
      "AUC: 0.9218965806992436\n",
      "AUC: 0.9217320296170475\n",
      "AUC: 0.9216573287971004\n",
      "~~~~~~~~~~~~~~~~~~~~ Epoch:  33\n",
      "AUC: 0.9217782102578022\n",
      "AUC: 0.9214004324577681\n",
      "AUC: 0.9216951351004878\n",
      "AUC: 0.921882131522045\n",
      "AUC: 0.9216745005152837\n",
      "AUC: 0.9216096755164604\n",
      "AUC: 0.9218613382955475\n",
      "AUC: 0.9219476872322803\n",
      "AUC: 0.9215431663560274\n",
      "AUC: 0.9216253377387005\n",
      "~~~~~~~~~~~~~~~~~~~~ Epoch:  34\n",
      "AUC: 0.921746645447726\n",
      "AUC: 0.9214529026649534\n",
      "AUC: 0.9216724093345979\n",
      "AUC: 0.9218845447926296\n",
      "AUC: 0.9216416297188024\n",
      "AUC: 0.9218338372664823\n",
      "AUC: 0.9218291261007993\n",
      "AUC: 0.9217505201411347\n",
      "AUC: 0.9217403142179255\n",
      "AUC: 0.9216582582107387\n",
      "~~~~~~~~~~~~~~~~~~~~ Epoch:  35\n",
      "AUC: 0.9217863522417598\n",
      "AUC: 0.921574404268893\n",
      "AUC: 0.9217226361295532\n",
      "AUC: 0.9219211717021589\n",
      "AUC: 0.9216955597463742\n",
      "AUC: 0.9218429327006377\n",
      "AUC: 0.9218187903801683\n",
      "AUC: 0.9219332572843294\n",
      "AUC: 0.9216812916445914\n",
      "AUC: 0.9216468744961086\n",
      "~~~~~~~~~~~~~~~~~~~~ Epoch:  36\n",
      "AUC: 0.9217517972836684\n",
      "AUC: 0.9216327634331818\n",
      "AUC: 0.9216794344197524\n",
      "AUC: 0.9218743548937935\n",
      "AUC: 0.921719428050064\n",
      "AUC: 0.9218364508417303\n",
      "AUC: 0.9218175356717567\n",
      "AUC: 0.9218053347141002\n",
      "AUC: 0.9217230735949378\n",
      "AUC: 0.9215708019898264\n",
      "~~~~~~~~~~~~~~~~~~~~ Epoch:  37\n",
      "AUC: 0.9217714191284945\n",
      "AUC: 0.9213396968789529\n",
      "AUC: 0.9216168031576027\n",
      "AUC: 0.9218810739134222\n",
      "AUC: 0.9217667768676157\n",
      "AUC: 0.9218545343467413\n",
      "AUC: 0.9218570069075065\n",
      "AUC: 0.9219439647704157\n",
      "AUC: 0.9217978337050654\n",
      "AUC: 0.9216296178487479\n",
      "~~~~~~~~~~~~~~~~~~~~ Epoch:  38\n",
      "AUC: 0.9218302766507858\n",
      "AUC: 0.9217059884083691\n",
      "AUC: 0.9217183640316922\n",
      "AUC: 0.9219072865828927\n",
      "AUC: 0.9216913613606296\n",
      "AUC: 0.9218901453110181\n",
      "AUC: 0.9218739879356501\n",
      "AUC: 0.9219629937134382\n",
      "AUC: 0.9217978064636312\n",
      "AUC: 0.921716417070364\n",
      "~~~~~~~~~~~~~~~~~~~~ Epoch:  39\n",
      "AUC: 0.9218280460580544\n",
      "AUC: 0.9216925439593622\n",
      "AUC: 0.9217028892946171\n",
      "AUC: 0.9219144847312762\n",
      "AUC: 0.9217404119666013\n",
      "AUC: 0.9218592358978005\n",
      "AUC: 0.9218275396878652\n",
      "AUC: 0.9219475013495526\n",
      "AUC: 0.9217459852435554\n",
      "AUC: 0.9216442609208608\n",
      "~~~~~~~~~~~~~~~~~~~~ Epoch:  40\n",
      "AUC: 0.9218169219382681\n",
      "AUC: 0.9215938546529271\n",
      "AUC: 0.9217016922739487\n",
      "AUC: 0.9218907061640756\n",
      "AUC: 0.9217730327828627\n",
      "AUC: 0.9218672144331528\n",
      "AUC: 0.9218285844769896\n",
      "AUC: 0.921905139316901\n",
      "AUC: 0.921776665508238\n",
      "AUC: 0.9217106146448748\n",
      "~~~~~~~~~~~~~~~~~~~~ Epoch:  41\n",
      "AUC: 0.9218299353316395\n",
      "AUC: 0.921667323198585\n",
      "AUC: 0.9217298278681876\n",
      "AUC: 0.9218935761292926\n",
      "AUC: 0.9218264484280589\n",
      "AUC: 0.9218020529224951\n",
      "AUC: 0.921876460496415\n",
      "AUC: 0.9219418062873631\n",
      "AUC: 0.9218300571168747\n",
      "AUC: 0.9217175387764791\n",
      "~~~~~~~~~~~~~~~~~~~~ Epoch:  42\n",
      "AUC: 0.9218220465327763\n",
      "AUC: 0.921622762621948\n",
      "AUC: 0.9217502092682972\n",
      "AUC: 0.9219177569082574\n",
      "AUC: 0.9218145807773623\n",
      "AUC: 0.9218245303106023\n",
      "AUC: 0.9218819776880636\n",
      "AUC: 0.9219455239419156\n",
      "AUC: 0.9218324832069579\n",
      "AUC: 0.9217215512794961\n",
      "~~~~~~~~~~~~~~~~~~~~ Epoch:  43\n",
      "AUC: 0.9218275460976144\n",
      "AUC: 0.9216423540204651\n",
      "AUC: 0.9217132971249271\n",
      "AUC: 0.9219157554640608\n",
      "AUC: 0.9216129140422584\n",
      "AUC: 0.9218753452000492\n",
      "AUC: 0.9218516755985855\n",
      "AUC: 0.921932305436569\n",
      "AUC: 0.9218046568831193\n",
      "AUC: 0.9217180435442307\n",
      "~~~~~~~~~~~~~~~~~~~~ Epoch:  44\n",
      "AUC: 0.9218386445784038\n",
      "AUC: 0.9215938466407405\n",
      "AUC: 0.9217981381681537\n",
      "AUC: 0.9218740808770141\n",
      "AUC: 0.9217388511926641\n",
      "AUC: 0.9218964813481304\n",
      "AUC: 0.9218906372592713\n",
      "AUC: 0.9219129511987734\n",
      "AUC: 0.9218698856961437\n",
      "AUC: 0.9217577359163287\n",
      "~~~~~~~~~~~~~~~~~~~~ Epoch:  45\n",
      "AUC: 0.921781182779007\n",
      "AUC: 0.9216483855944893\n",
      "AUC: 0.9217246728273704\n",
      "AUC: 0.9219132380350513\n",
      "AUC: 0.9217991957767766\n",
      "AUC: 0.9219036474477681\n",
      "AUC: 0.9218548003513345\n",
      "AUC: 0.9218465670284501\n",
      "AUC: 0.921783870066371\n",
      "AUC: 0.9217281292846419\n",
      "~~~~~~~~~~~~~~~~~~~~ Epoch:  46\n",
      "AUC: 0.9218184891219545\n",
      "AUC: 0.9215876644376095\n",
      "AUC: 0.921728954539855\n",
      "AUC: 0.9219294691225354\n",
      "AUC: 0.921820088354387\n",
      "AUC: 0.92189104267591\n",
      "AUC: 0.9218689707044414\n",
      "AUC: 0.9218850976335005\n",
      "AUC: 0.9218245287081652\n",
      "AUC: 0.921747709466098\n",
      "~~~~~~~~~~~~~~~~~~~~ Epoch:  47\n",
      "AUC: 0.9218460029705182\n",
      "AUC: 0.9216975756125068\n",
      "AUC: 0.921754168890883\n",
      "AUC: 0.9219282833189281\n",
      "AUC: 0.9217982631582639\n",
      "AUC: 0.921903975947416\n",
      "AUC: 0.9218793801371887\n",
      "AUC: 0.9219692896896179\n",
      "AUC: 0.9218024246879504\n",
      "AUC: 0.921751560122947\n",
      "~~~~~~~~~~~~~~~~~~~~ Epoch:  48\n",
      "AUC: 0.9218051488313725\n",
      "AUC: 0.9216099992087967\n",
      "AUC: 0.9216356974958912\n",
      "AUC: 0.9218123646065666\n",
      "AUC: 0.9217480043145624\n",
      "AUC: 0.9218682752466502\n",
      "AUC: 0.9218595435657635\n",
      "AUC: 0.9219143036558606\n",
      "AUC: 0.9218340728247665\n",
      "AUC: 0.9217671502355083\n",
      "~~~~~~~~~~~~~~~~~~~~ Epoch:  49\n",
      "AUC: 0.9218549830291873\n",
      "AUC: 0.9216962904577862\n",
      "AUC: 0.9216796763877858\n",
      "AUC: 0.921927615102571\n",
      "AUC: 0.9218324351338385\n",
      "AUC: 0.9218864260540282\n",
      "AUC: 0.9218715570382551\n",
      "AUC: 0.9219371079411786\n",
      "AUC: 0.9218280716970513\n",
      "AUC: 0.9217671326086978\n",
      "~~~~~~~~~~~~~~~~~~~~ Epoch:  50\n",
      "AUC: 0.9218443620747157\n",
      "AUC: 0.9216615992925239\n",
      "AUC: 0.9217520841199465\n",
      "AUC: 0.9219153772888563\n",
      "AUC: 0.9217885539906197\n",
      "AUC: 0.9218901949865745\n",
      "AUC: 0.9218433909977075\n",
      "AUC: 0.9219539527621511\n",
      "AUC: 0.9218599922482096\n",
      "AUC: 0.9217438107361295\n",
      "~~~~~~~~~~~~~~~~~~~~ Epoch:  51\n",
      "AUC: 0.9218618126169904\n",
      "AUC: 0.921672462215029\n",
      "AUC: 0.9217634742443257\n",
      "AUC: 0.9219106581109868\n",
      "AUC: 0.9217759363992633\n",
      "AUC: 0.9218850607774425\n",
      "AUC: 0.9218903744595529\n",
      "AUC: 0.921871790994102\n",
      "AUC: 0.9217513069378525\n",
      "AUC: 0.921750255738979\n",
      "~~~~~~~~~~~~~~~~~~~~ Epoch:  52\n",
      "AUC: 0.9218392182509596\n",
      "AUC: 0.9216900056986678\n",
      "AUC: 0.9217526561900651\n",
      "AUC: 0.9219248332714058\n",
      "AUC: 0.9217832034524511\n",
      "AUC: 0.9218592663441095\n",
      "AUC: 0.9218898232211193\n",
      "AUC: 0.921960003565423\n",
      "AUC: 0.9217974282884267\n",
      "AUC: 0.9217650862962565\n",
      "~~~~~~~~~~~~~~~~~~~~ Epoch:  53\n",
      "AUC: 0.9218214888845935\n",
      "AUC: 0.9216867719801819\n",
      "AUC: 0.9217613045442117\n",
      "AUC: 0.9219018831642929\n",
      "AUC: 0.921777139829681\n",
      "AUC: 0.9218995772570078\n",
      "AUC: 0.9218804056970653\n",
      "AUC: 0.9219502094686016\n",
      "AUC: 0.9218584923668901\n",
      "AUC: 0.9218017981349633\n",
      "~~~~~~~~~~~~~~~~~~~~ Epoch:  54\n",
      "AUC: 0.9218641008974651\n",
      "AUC: 0.9217544749564087\n",
      "AUC: 0.921786656704848\n",
      "AUC: 0.9219253075928489\n",
      "AUC: 0.9218123469797561\n",
      "AUC: 0.9218970870694325\n",
      "AUC: 0.921892774910639\n",
      "AUC: 0.9219227132468484\n",
      "AUC: 0.9218404216813774\n",
      "AUC: 0.9217701948663918\n",
      "~~~~~~~~~~~~~~~~~~~~ Epoch:  55\n",
      "AUC: 0.9218634839591018\n",
      "AUC: 0.9216699447860195\n",
      "AUC: 0.9217459419777482\n",
      "AUC: 0.9218993368914119\n",
      "AUC: 0.9217933805317888\n",
      "AUC: 0.9218974796665729\n",
      "AUC: 0.9218842515466024\n",
      "AUC: 0.9219411685173149\n",
      "AUC: 0.9218402069547782\n",
      "AUC: 0.9217855878791642\n",
      "~~~~~~~~~~~~~~~~~~~~ Epoch:  56\n",
      "AUC: 0.9218476871321281\n",
      "AUC: 0.9217149316109803\n",
      "AUC: 0.9217746608591668\n",
      "AUC: 0.921913372639785\n",
      "AUC: 0.9217321097389128\n",
      "AUC: 0.9218852851186655\n",
      "AUC: 0.9218721355181231\n",
      "AUC: 0.9219275141490207\n",
      "AUC: 0.9218269499909363\n",
      "AUC: 0.9217954925441596\n",
      "~~~~~~~~~~~~~~~~~~~~ Epoch:  57\n",
      "AUC: 0.9218318903051541\n",
      "AUC: 0.9217461679214085\n",
      "AUC: 0.9217451567834678\n",
      "AUC: 0.9218801428973468\n",
      "AUC: 0.9217734462116879\n",
      "AUC: 0.9218844470439538\n",
      "AUC: 0.9218618526779232\n",
      "AUC: 0.9219012726356789\n",
      "AUC: 0.9218157826053427\n",
      "AUC: 0.9217954284466673\n",
      "~~~~~~~~~~~~~~~~~~~~ Epoch:  58\n",
      "AUC: 0.9218342715269926\n",
      "AUC: 0.921729428861298\n",
      "AUC: 0.9217043218735698\n",
      "AUC: 0.921910581193996\n",
      "AUC: 0.9217993688400056\n",
      "AUC: 0.9218877176184976\n",
      "AUC: 0.9218723614617833\n",
      "AUC: 0.9218985773361283\n",
      "AUC: 0.9218452770664181\n",
      "AUC: 0.9217920360868882\n",
      "~~~~~~~~~~~~~~~~~~~~ Epoch:  59\n",
      "AUC: 0.9218531322140977\n",
      "AUC: 0.9216491066912775\n",
      "AUC: 0.9217477351050949\n",
      "AUC: 0.9219035480966551\n",
      "AUC: 0.9217597549873358\n",
      "AUC: 0.921889190258383\n",
      "AUC: 0.9218775197074751\n"
     ]
    },
    {
     "name": "stdout",
     "output_type": "stream",
     "text": [
      "AUC: 0.921931068354968\n",
      "AUC: 0.9218339574492802\n",
      "AUC: 0.9217737362528406\n",
      "~~~~~~~~~~~~~~~~~~~~ Epoch:  60\n",
      "AUC: 0.9218386894466484\n",
      "AUC: 0.9217344092364487\n",
      "AUC: 0.9217587999347008\n",
      "AUC: 0.9219112462054785\n",
      "AUC: 0.9217964427894827\n",
      "AUC: 0.9219077528921489\n",
      "AUC: 0.9218823286218338\n",
      "AUC: 0.9219485878020469\n",
      "AUC: 0.9218344493975336\n",
      "AUC: 0.9218085171545921\n",
      "~~~~~~~~~~~~~~~~~~~~ Epoch:  61\n",
      "AUC: 0.9218735793141368\n",
      "AUC: 0.9217599568944366\n",
      "AUC: 0.9217414631654748\n",
      "AUC: 0.9219361480812315\n",
      "AUC: 0.9218279723459382\n",
      "AUC: 0.9219046842247058\n",
      "AUC: 0.9218966335796746\n",
      "AUC: 0.9219477625468337\n",
      "AUC: 0.9218669275968748\n",
      "AUC: 0.9217811507302607\n",
      "~~~~~~~~~~~~~~~~~~~~ Epoch:  62\n",
      "AUC: 0.921874816395738\n",
      "AUC: 0.9217581221037199\n",
      "AUC: 0.9217917748896072\n",
      "AUC: 0.9219090508663679\n",
      "AUC: 0.9218296324709884\n",
      "AUC: 0.9218857562352338\n",
      "AUC: 0.9218775773952181\n",
      "AUC: 0.9219442019311372\n",
      "AUC: 0.9218160950806176\n",
      "AUC: 0.921803789964536\n",
      "~~~~~~~~~~~~~~~~~~~~ Epoch:  63\n",
      "AUC: 0.9218744318107843\n",
      "AUC: 0.9217416570603889\n",
      "AUC: 0.9217936224998222\n",
      "AUC: 0.9219189427118647\n",
      "AUC: 0.9218014279719453\n",
      "AUC: 0.9218897078456332\n",
      "AUC: 0.9218786750647735\n",
      "AUC: 0.9219358404132685\n",
      "AUC: 0.9218497366494439\n",
      "AUC: 0.9218093680488022\n",
      "~~~~~~~~~~~~~~~~~~~~ Epoch:  64\n",
      "AUC: 0.9218313711154666\n",
      "AUC: 0.9217450446128563\n",
      "AUC: 0.921785414815935\n",
      "AUC: 0.9219099786775686\n",
      "AUC: 0.9218097510313186\n",
      "AUC: 0.9218877688964916\n",
      "AUC: 0.921878035692288\n",
      "AUC: 0.9219284563821573\n",
      "AUC: 0.9218060061353319\n",
      "AUC: 0.9217974170713656\n",
      "~~~~~~~~~~~~~~~~~~~~ Epoch:  65\n",
      "AUC: 0.92185506475349\n",
      "AUC: 0.9217734478141253\n",
      "AUC: 0.9218000707075462\n",
      "AUC: 0.9219106965694822\n",
      "AUC: 0.9217708951314949\n",
      "AUC: 0.9218782424067006\n",
      "AUC: 0.9218803864678176\n",
      "AUC: 0.9219170326065946\n",
      "AUC: 0.9218056487918124\n",
      "AUC: 0.9218006043191693\n",
      "~~~~~~~~~~~~~~~~~~~~ Epoch:  66\n",
      "AUC: 0.9218707029391704\n",
      "AUC: 0.9217636489099921\n",
      "AUC: 0.9217973738055582\n",
      "AUC: 0.9219265831329452\n",
      "AUC: 0.9218062448984905\n",
      "AUC: 0.9219045672467824\n",
      "AUC: 0.9218907574420695\n",
      "AUC: 0.9219459389731781\n",
      "AUC: 0.9218498936883\n",
      "AUC: 0.9218053218946016\n",
      "~~~~~~~~~~~~~~~~~~~~ Epoch:  67\n",
      "AUC: 0.9218711852727999\n",
      "AUC: 0.9217658186101059\n",
      "AUC: 0.9218047786683544\n",
      "AUC: 0.9219063299278202\n",
      "AUC: 0.9218093760609889\n",
      "AUC: 0.9219004361634047\n",
      "AUC: 0.9218865238027039\n",
      "AUC: 0.9219417678288677\n",
      "AUC: 0.921851861481313\n",
      "AUC: 0.9218143772678243\n",
      "~~~~~~~~~~~~~~~~~~~~ Epoch:  68\n",
      "AUC: 0.9218747907567411\n",
      "AUC: 0.9216953177783408\n",
      "AUC: 0.9218059276159039\n",
      "AUC: 0.92189920709399\n",
      "AUC: 0.9218230224170963\n",
      "AUC: 0.9218828846675794\n",
      "AUC: 0.9218676823448465\n",
      "AUC: 0.9219525554368193\n",
      "AUC: 0.9218427019496654\n",
      "AUC: 0.9218238060089397\n",
      "~~~~~~~~~~~~~~~~~~~~ Epoch:  69\n",
      "AUC: 0.9218765838840877\n",
      "AUC: 0.9217302941774438\n",
      "AUC: 0.9218211748068812\n",
      "AUC: 0.9219217069162196\n",
      "AUC: 0.9218261006991634\n",
      "AUC: 0.9219140424585796\n",
      "AUC: 0.9218871327288807\n",
      "AUC: 0.9219501309491738\n",
      "AUC: 0.9218625994137083\n",
      "AUC: 0.9218161095025534\n",
      "~~~~~~~~~~~~~~~~~~~~ Epoch:  70\n",
      "AUC: 0.9218622661067484\n",
      "AUC: 0.9217837995591295\n",
      "AUC: 0.9217972968885675\n",
      "AUC: 0.9219144606947167\n",
      "AUC: 0.9217646183845628\n",
      "AUC: 0.9218929111178102\n",
      "AUC: 0.9218794105834975\n",
      "AUC: 0.9219201990227136\n",
      "AUC: 0.9218488120431176\n",
      "AUC: 0.9218282095066597\n",
      "~~~~~~~~~~~~~~~~~~~~ Epoch:  71\n",
      "AUC: 0.9218676454887884\n",
      "AUC: 0.9216944220158861\n",
      "AUC: 0.9218098583946182\n",
      "AUC: 0.9219307414577573\n",
      "AUC: 0.92180253205125\n",
      "AUC: 0.921892065030912\n",
      "AUC: 0.9218928934909998\n",
      "AUC: 0.9219452082617661\n",
      "AUC: 0.9218517909740715\n",
      "AUC: 0.9218177119398605\n",
      "~~~~~~~~~~~~~~~~~~~~ Epoch:  72\n",
      "AUC: 0.9218752266196885\n",
      "AUC: 0.9217884930980019\n",
      "AUC: 0.9217937795386784\n",
      "AUC: 0.9219241169819296\n",
      "AUC: 0.9218257705970782\n",
      "AUC: 0.9219008704239147\n",
      "AUC: 0.9218846489510546\n",
      "AUC: 0.921928135894696\n",
      "AUC: 0.9218234566776067\n",
      "AUC: 0.9218166094629933\n",
      "~~~~~~~~~~~~~~~~~~~~ Epoch:  73\n",
      "AUC: 0.9218686389999189\n",
      "AUC: 0.9217467079427809\n",
      "AUC: 0.9218139333926902\n",
      "AUC: 0.9219223126375216\n",
      "AUC: 0.9218343003708641\n",
      "AUC: 0.9218896453505783\n",
      "AUC: 0.9218966800503567\n",
      "AUC: 0.9219612839128313\n",
      "AUC: 0.9218756897240703\n",
      "AUC: 0.9218205466514569\n",
      "~~~~~~~~~~~~~~~~~~~~ Epoch:  74\n",
      "AUC: 0.9218746769836921\n",
      "AUC: 0.9217611523126675\n",
      "AUC: 0.9218236345481476\n",
      "AUC: 0.9219215002018069\n",
      "AUC: 0.9218190515774493\n",
      "AUC: 0.9219158836590455\n",
      "AUC: 0.9218980405196303\n",
      "AUC: 0.921959575714662\n",
      "AUC: 0.9218465317748294\n",
      "AUC: 0.9218332587866145\n",
      "~~~~~~~~~~~~~~~~~~~~ Epoch:  75\n",
      "AUC: 0.9218667337019607\n",
      "AUC: 0.9216532217502822\n",
      "AUC: 0.9217926145667561\n",
      "AUC: 0.9219115362466311\n",
      "AUC: 0.9218217612989357\n",
      "AUC: 0.921896896379393\n",
      "AUC: 0.9218882720618061\n",
      "AUC: 0.9219439807947889\n",
      "AUC: 0.9218323566144105\n",
      "AUC: 0.9218285075599988\n",
      "~~~~~~~~~~~~~~~~~~~~ Epoch:  76\n",
      "AUC: 0.921880697340655\n",
      "AUC: 0.9217607565106527\n",
      "AUC: 0.921803075277497\n",
      "AUC: 0.9219165695022129\n",
      "AUC: 0.9218168626480877\n",
      "AUC: 0.921892696391211\n",
      "AUC: 0.9218840961101836\n",
      "AUC: 0.9219439006729234\n",
      "AUC: 0.9218566191176779\n",
      "AUC: 0.9218284017991366\n",
      "~~~~~~~~~~~~~~~~~~~~ Epoch:  77\n",
      "AUC: 0.9218770870494022\n",
      "AUC: 0.921766940316221\n",
      "AUC: 0.9218127700232053\n",
      "AUC: 0.9219177665228813\n",
      "AUC: 0.9218075556922077\n",
      "AUC: 0.9219012854551774\n",
      "AUC: 0.9218907253933232\n",
      "AUC: 0.9219275381855803\n",
      "AUC: 0.9218330376502659\n",
      "AUC: 0.9218261583869065\n",
      "~~~~~~~~~~~~~~~~~~~~ Epoch:  78\n",
      "AUC: 0.9218747763348054\n",
      "AUC: 0.921800397604757\n",
      "AUC: 0.9218026458242988\n",
      "AUC: 0.9219145712628909\n",
      "AUC: 0.9217761399088013\n",
      "AUC: 0.9218914304657384\n",
      "AUC: 0.9218832964939674\n",
      "AUC: 0.9219298248636176\n",
      "AUC: 0.9218195964061339\n",
      "AUC: 0.9218293119835268\n",
      "~~~~~~~~~~~~~~~~~~~~ Epoch:  79\n",
      "AUC: 0.9218700731813088\n",
      "AUC: 0.9217353370476495\n",
      "AUC: 0.9218164027485806\n",
      "AUC: 0.9219196461818426\n",
      "AUC: 0.9218677079838435\n",
      "AUC: 0.9219086518594783\n",
      "AUC: 0.9218962393800972\n",
      "AUC: 0.9219384860372627\n",
      "AUC: 0.9218764685086016\n",
      "AUC: 0.9218400579281086\n",
      "~~~~~~~~~~~~~~~~~~~~ Epoch:  80\n",
      "AUC: 0.9218848412435314\n",
      "AUC: 0.9218039598228907\n",
      "AUC: 0.9217950134154048\n",
      "AUC: 0.9219083554085765\n",
      "AUC: 0.9218127700232053\n",
      "AUC: 0.9219001012540071\n",
      "AUC: 0.9218879563816564\n",
      "AUC: 0.921939264821794\n",
      "AUC: 0.9218339013639746\n",
      "AUC: 0.9218352153625664\n",
      "~~~~~~~~~~~~~~~~~~~~ Epoch:  81\n",
      "AUC: 0.921882173185415\n",
      "AUC: 0.9217720072229862\n",
      "AUC: 0.9218162457097245\n",
      "AUC: 0.9219177120400128\n",
      "AUC: 0.9218453475736594\n",
      "AUC: 0.9218834855815696\n",
      "AUC: 0.9218880493230202\n",
      "AUC: 0.9219329143627457\n",
      "AUC: 0.9218428862299557\n",
      "AUC: 0.9218376029941542\n",
      "~~~~~~~~~~~~~~~~~~~~ Epoch:  82\n",
      "AUC: 0.9218764220379196\n",
      "AUC: 0.921793146575942\n",
      "AUC: 0.9217909015612746\n",
      "AUC: 0.9219102815382196\n",
      "AUC: 0.9218384058152449\n",
      "AUC: 0.9218892383315022\n",
      "AUC: 0.9218829567772582\n",
      "AUC: 0.9219321131440922\n",
      "AUC: 0.9218710586802528\n",
      "AUC: 0.9218293680688329\n",
      "~~~~~~~~~~~~~~~~~~~~ Epoch:  83\n",
      "AUC: 0.9218562153034766\n",
      "AUC: 0.9217915265118245\n",
      "AUC: 0.9218025961487422\n",
      "AUC: 0.9219122525361074\n",
      "AUC: 0.9218398704429437\n",
      "AUC: 0.9219057081821451\n",
      "AUC: 0.921879934580497\n",
      "AUC: 0.9219222180937205\n",
      "AUC: 0.9218403014985793\n",
      "AUC: 0.9218291645592948\n",
      "~~~~~~~~~~~~~~~~~~~~ Epoch:  84\n",
      "AUC: 0.9218785484722263\n",
      "AUC: 0.9217898551697132\n",
      "AUC: 0.9218186701973702\n",
      "AUC: 0.9219100411726234\n",
      "AUC: 0.9218178305202213\n",
      "AUC: 0.9219017309327486\n",
      "AUC: 0.9218924784597373\n",
      "AUC: 0.9219380133182571\n",
      "AUC: 0.9218593432611002\n",
      "AUC: 0.9218383401153154\n",
      "~~~~~~~~~~~~~~~~~~~~ Epoch:  85\n",
      "AUC: 0.9218881230351365\n",
      "AUC: 0.9218011667746644\n",
      "AUC: 0.9217993047425134\n",
      "AUC: 0.9219143725606647\n",
      "AUC: 0.921821601055205\n",
      "AUC: 0.9218948885254472\n",
      "AUC: 0.9218879131158492\n",
      "AUC: 0.9219432885418721\n",
      "AUC: 0.9218482239486258\n",
      "AUC: 0.9218412293097802\n",
      "~~~~~~~~~~~~~~~~~~~~ Epoch:  86\n",
      "AUC: 0.921877628673212\n",
      "AUC: 0.9217946897230688\n",
      "AUC: 0.9218159156076391\n",
      "AUC: 0.921916074349085\n",
      "AUC: 0.9218205130002735\n",
      "AUC: 0.9219079868479958\n",
      "AUC: 0.9218899450063547\n",
      "AUC: 0.9219380165231317\n",
      "AUC: 0.9218639903292909\n",
      "AUC: 0.9218395259189226\n",
      "~~~~~~~~~~~~~~~~~~~~ Epoch:  87\n",
      "AUC: 0.9218847082412349\n",
      "AUC: 0.9217750069856251\n",
      "AUC: 0.9218252193586447\n",
      "AUC: 0.9219075141289903\n",
      "AUC: 0.9218283713528277\n",
      "AUC: 0.9218993881694056\n",
      "AUC: 0.9218936642633446\n",
      "AUC: 0.9219441843043268\n",
      "AUC: 0.9218641169218381\n",
      "AUC: 0.9218402534254602\n",
      "~~~~~~~~~~~~~~~~~~~~ Epoch:  88\n",
      "AUC: 0.9218773802954294\n",
      "AUC: 0.9218190932408192\n",
      "AUC: 0.9218083104401794\n",
      "AUC: 0.9219191702579623\n",
      "AUC: 0.9218326402458139\n",
      "AUC: 0.9218946209184169\n",
      "AUC: 0.9218863395224135\n",
      "AUC: 0.9219247803909747\n",
      "AUC: 0.9218622789262468\n",
      "AUC: 0.9218465029309579\n",
      "~~~~~~~~~~~~~~~~~~~~ Epoch:  89\n",
      "AUC: 0.9218862465810498\n",
      "AUC: 0.9217920825575701\n",
      "AUC: 0.9217901788620491\n",
      "AUC: 0.9219133373861643\n",
      "AUC: 0.9218471439058809\n",
      "AUC: 0.9219073522828223\n",
      "AUC: 0.9218957041660365\n",
      "AUC: 0.921912145172808\n",
      "AUC: 0.9218539911204942\n",
      "AUC: 0.921836830619372\n",
      "~~~~~~~~~~~~~~~~~~~~ Epoch:  90\n"
     ]
    },
    {
     "name": "stdout",
     "output_type": "stream",
     "text": [
      "AUC: 0.9218782664432602\n",
      "AUC: 0.9217465220600534\n",
      "AUC: 0.9218316627590566\n",
      "AUC: 0.9219214777676846\n",
      "AUC: 0.9218412277073429\n",
      "AUC: 0.9219060046330468\n",
      "AUC: 0.9218838156836549\n",
      "AUC: 0.9219274981246475\n",
      "AUC: 0.92185066125577\n",
      "AUC: 0.9218361928493238\n",
      "~~~~~~~~~~~~~~~~~~~~ Epoch:  91\n",
      "AUC: 0.9218770566030933\n",
      "AUC: 0.9217993928765653\n",
      "AUC: 0.921827371431948\n",
      "AUC: 0.9219208335878871\n",
      "AUC: 0.9218432932490317\n",
      "AUC: 0.9219024504270996\n",
      "AUC: 0.9219015466524584\n",
      "AUC: 0.9219449550766715\n",
      "AUC: 0.9218620513801491\n",
      "AUC: 0.9218524127197468\n",
      "~~~~~~~~~~~~~~~~~~~~ Epoch:  92\n",
      "AUC: 0.921892670752214\n",
      "AUC: 0.9218068490173555\n",
      "AUC: 0.9218025176293143\n",
      "AUC: 0.9219056985675211\n",
      "AUC: 0.9218338388689196\n",
      "AUC: 0.9219027308536283\n",
      "AUC: 0.9218947186670927\n",
      "AUC: 0.9219243477329017\n",
      "AUC: 0.9218364941075377\n",
      "AUC: 0.9218436666169243\n",
      "~~~~~~~~~~~~~~~~~~~~ Epoch:  93\n",
      "AUC: 0.921884844448406\n",
      "AUC: 0.921805307472666\n",
      "AUC: 0.9218245815885963\n",
      "AUC: 0.9219102142358526\n",
      "AUC: 0.9218223878519227\n",
      "AUC: 0.9218966576162343\n",
      "AUC: 0.9218813158814556\n",
      "AUC: 0.92192955565415\n",
      "AUC: 0.9218524175270586\n",
      "AUC: 0.9218469019378475\n",
      "~~~~~~~~~~~~~~~~~~~~ Epoch:  94\n",
      "AUC: 0.9218880252864607\n",
      "AUC: 0.9217722443837076\n",
      "AUC: 0.92182666796197\n",
      "AUC: 0.9219110122496317\n",
      "AUC: 0.9218229743439772\n",
      "AUC: 0.9218989923673907\n",
      "AUC: 0.9218891966681322\n",
      "AUC: 0.9219339479348088\n",
      "AUC: 0.9218566062981794\n",
      "AUC: 0.9218427211789131\n",
      "~~~~~~~~~~~~~~~~~~~~ Epoch:  95\n",
      "AUC: 0.921883528847377\n",
      "AUC: 0.9217561527082694\n",
      "AUC: 0.9218171863404239\n",
      "AUC: 0.92190674656152\n",
      "AUC: 0.9218192935454828\n",
      "AUC: 0.9218873122018589\n",
      "AUC: 0.9218846345291188\n",
      "AUC: 0.9219016075450761\n",
      "AUC: 0.9218369572119194\n",
      "AUC: 0.9218430897394938\n",
      "~~~~~~~~~~~~~~~~~~~~ Epoch:  96\n",
      "AUC: 0.9218862145323037\n",
      "AUC: 0.9218298167512786\n",
      "AUC: 0.9218235880774658\n",
      "AUC: 0.9219086053887964\n",
      "AUC: 0.921873919030846\n",
      "AUC: 0.9219100043165656\n",
      "AUC: 0.9218934351148096\n",
      "AUC: 0.9219432228419426\n",
      "AUC: 0.9218617677487458\n",
      "AUC: 0.92185298799474\n",
      "~~~~~~~~~~~~~~~~~~~~ Epoch:  97\n",
      "AUC: 0.9218915185997902\n",
      "AUC: 0.9218204681320288\n",
      "AUC: 0.9218253651804394\n",
      "AUC: 0.9219175053256004\n",
      "AUC: 0.9218342667196805\n",
      "AUC: 0.921901200526\n",
      "AUC: 0.921888616585827\n",
      "AUC: 0.921929065308334\n",
      "AUC: 0.9218531274067856\n",
      "AUC: 0.9218476182273238\n",
      "~~~~~~~~~~~~~~~~~~~~ Epoch:  98\n",
      "AUC: 0.921882841401772\n",
      "AUC: 0.9218232627826924\n",
      "AUC: 0.9218207181122486\n",
      "AUC: 0.9219093761611411\n",
      "AUC: 0.9218295619637469\n",
      "AUC: 0.9219041906740151\n",
      "AUC: 0.921893045722544\n",
      "AUC: 0.92194174859962\n",
      "AUC: 0.9218711612362402\n",
      "AUC: 0.9218492174597563\n",
      "~~~~~~~~~~~~~~~~~~~~ Epoch:  99\n"
     ]
    }
   ],
   "source": [
    "\n",
    "clf = SGDClassifier(loss='log', alpha=0.01)\n",
    "\n",
    "aucs = []\n",
    "for i in range(100):\n",
    "    for idxs in chunker(np.arange(len(X_idxs_train)), batch_sz):\n",
    "        x_diff = secondary_scaler.transform(np.abs(XX_train[X_idxs_train[idxs, 0]] - XX_train[X_idxs_train[idxs, 1]]))\n",
    "        x_diff[np.isnan(x_diff)]=0\n",
    "        y = Y_train[idxs]\n",
    "        clf.partial_fit(x_diff, y, classes=[0, 1])\n",
    "\n",
    "        probs = clf.predict_proba(x_test_diff_sample)[:, 1]\n",
    "\n",
    "        fpr, tpr, thresh = roc_curve(y_test_sample, probs)\n",
    "        roc_auc = auc(fpr, tpr)\n",
    "        print('AUC:', roc_auc)\n",
    "    print('~'*20, 'Epoch: ', i)\n",
    "    aucs.append(roc_auc)"
   ]
  },
  {
   "cell_type": "code",
   "execution_count": 17,
   "metadata": {},
   "outputs": [
    {
     "data": {
      "application/vnd.plotly.v1+json": {
       "config": {
        "plotlyServerURL": "https://plot.ly"
       },
       "data": [
        {
         "type": "scatter",
         "y": [
          0.902216088270259,
          0.9119611376904271,
          0.9161217491805036,
          0.9174892162979892,
          0.9188753213637944,
          0.9191276731909235,
          0.9196088178118919,
          0.9199279624308573,
          0.9203338101252004,
          0.9203634391910094,
          0.9202566752029836,
          0.9208194271486931,
          0.9210360606482461,
          0.9211131058339735,
          0.9207243385188872,
          0.9211342115357459,
          0.9209553442786478,
          0.9211901958879456,
          0.9213553254500094,
          0.9213418585668803,
          0.9212850265253449,
          0.9214435636603273,
          0.9214467893666267,
          0.9214097169795259,
          0.9214285520276341,
          0.9214884655561109,
          0.9215152214518282,
          0.9215993734470129,
          0.921533787290469,
          0.9216229020339938,
          0.9216331944888174,
          0.9216231808580851,
          0.9216474946393465,
          0.9216573287971004,
          0.9216253377387005,
          0.9216582582107387,
          0.9216468744961086,
          0.9215708019898264,
          0.9216296178487479,
          0.921716417070364,
          0.9216442609208608,
          0.9217106146448748,
          0.9217175387764791,
          0.9217215512794961,
          0.9217180435442307,
          0.9217577359163287,
          0.9217281292846419,
          0.921747709466098,
          0.921751560122947,
          0.9217671502355083,
          0.9217671326086978,
          0.9217438107361295,
          0.921750255738979,
          0.9217650862962565,
          0.9218017981349633,
          0.9217701948663918,
          0.9217855878791642,
          0.9217954925441596,
          0.9217954284466673,
          0.9217920360868882,
          0.9217737362528406,
          0.9218085171545921,
          0.9217811507302607,
          0.921803789964536,
          0.9218093680488022,
          0.9217974170713656,
          0.9218006043191693,
          0.9218053218946016,
          0.9218143772678243,
          0.9218238060089397,
          0.9218161095025534,
          0.9218282095066597,
          0.9218177119398605,
          0.9218166094629933,
          0.9218205466514569,
          0.9218332587866145,
          0.9218285075599988,
          0.9218284017991366,
          0.9218261583869065,
          0.9218293119835268,
          0.9218400579281086,
          0.9218352153625664,
          0.9218376029941542,
          0.9218293680688329,
          0.9218291645592948,
          0.9218383401153154,
          0.9218412293097802,
          0.9218395259189226,
          0.9218402534254602,
          0.9218465029309579,
          0.921836830619372,
          0.9218361928493238,
          0.9218524127197468,
          0.9218436666169243,
          0.9218469019378475,
          0.9218427211789131,
          0.9218430897394938,
          0.92185298799474,
          0.9218476182273238,
          0.9218492174597563
         ]
        }
       ],
       "layout": {
        "template": {
         "data": {
          "bar": [
           {
            "error_x": {
             "color": "#2a3f5f"
            },
            "error_y": {
             "color": "#2a3f5f"
            },
            "marker": {
             "line": {
              "color": "#E5ECF6",
              "width": 0.5
             }
            },
            "type": "bar"
           }
          ],
          "barpolar": [
           {
            "marker": {
             "line": {
              "color": "#E5ECF6",
              "width": 0.5
             }
            },
            "type": "barpolar"
           }
          ],
          "carpet": [
           {
            "aaxis": {
             "endlinecolor": "#2a3f5f",
             "gridcolor": "white",
             "linecolor": "white",
             "minorgridcolor": "white",
             "startlinecolor": "#2a3f5f"
            },
            "baxis": {
             "endlinecolor": "#2a3f5f",
             "gridcolor": "white",
             "linecolor": "white",
             "minorgridcolor": "white",
             "startlinecolor": "#2a3f5f"
            },
            "type": "carpet"
           }
          ],
          "choropleth": [
           {
            "colorbar": {
             "outlinewidth": 0,
             "ticks": ""
            },
            "type": "choropleth"
           }
          ],
          "contour": [
           {
            "colorbar": {
             "outlinewidth": 0,
             "ticks": ""
            },
            "colorscale": [
             [
              0,
              "#0d0887"
             ],
             [
              0.1111111111111111,
              "#46039f"
             ],
             [
              0.2222222222222222,
              "#7201a8"
             ],
             [
              0.3333333333333333,
              "#9c179e"
             ],
             [
              0.4444444444444444,
              "#bd3786"
             ],
             [
              0.5555555555555556,
              "#d8576b"
             ],
             [
              0.6666666666666666,
              "#ed7953"
             ],
             [
              0.7777777777777778,
              "#fb9f3a"
             ],
             [
              0.8888888888888888,
              "#fdca26"
             ],
             [
              1,
              "#f0f921"
             ]
            ],
            "type": "contour"
           }
          ],
          "contourcarpet": [
           {
            "colorbar": {
             "outlinewidth": 0,
             "ticks": ""
            },
            "type": "contourcarpet"
           }
          ],
          "heatmap": [
           {
            "colorbar": {
             "outlinewidth": 0,
             "ticks": ""
            },
            "colorscale": [
             [
              0,
              "#0d0887"
             ],
             [
              0.1111111111111111,
              "#46039f"
             ],
             [
              0.2222222222222222,
              "#7201a8"
             ],
             [
              0.3333333333333333,
              "#9c179e"
             ],
             [
              0.4444444444444444,
              "#bd3786"
             ],
             [
              0.5555555555555556,
              "#d8576b"
             ],
             [
              0.6666666666666666,
              "#ed7953"
             ],
             [
              0.7777777777777778,
              "#fb9f3a"
             ],
             [
              0.8888888888888888,
              "#fdca26"
             ],
             [
              1,
              "#f0f921"
             ]
            ],
            "type": "heatmap"
           }
          ],
          "heatmapgl": [
           {
            "colorbar": {
             "outlinewidth": 0,
             "ticks": ""
            },
            "colorscale": [
             [
              0,
              "#0d0887"
             ],
             [
              0.1111111111111111,
              "#46039f"
             ],
             [
              0.2222222222222222,
              "#7201a8"
             ],
             [
              0.3333333333333333,
              "#9c179e"
             ],
             [
              0.4444444444444444,
              "#bd3786"
             ],
             [
              0.5555555555555556,
              "#d8576b"
             ],
             [
              0.6666666666666666,
              "#ed7953"
             ],
             [
              0.7777777777777778,
              "#fb9f3a"
             ],
             [
              0.8888888888888888,
              "#fdca26"
             ],
             [
              1,
              "#f0f921"
             ]
            ],
            "type": "heatmapgl"
           }
          ],
          "histogram": [
           {
            "marker": {
             "colorbar": {
              "outlinewidth": 0,
              "ticks": ""
             }
            },
            "type": "histogram"
           }
          ],
          "histogram2d": [
           {
            "colorbar": {
             "outlinewidth": 0,
             "ticks": ""
            },
            "colorscale": [
             [
              0,
              "#0d0887"
             ],
             [
              0.1111111111111111,
              "#46039f"
             ],
             [
              0.2222222222222222,
              "#7201a8"
             ],
             [
              0.3333333333333333,
              "#9c179e"
             ],
             [
              0.4444444444444444,
              "#bd3786"
             ],
             [
              0.5555555555555556,
              "#d8576b"
             ],
             [
              0.6666666666666666,
              "#ed7953"
             ],
             [
              0.7777777777777778,
              "#fb9f3a"
             ],
             [
              0.8888888888888888,
              "#fdca26"
             ],
             [
              1,
              "#f0f921"
             ]
            ],
            "type": "histogram2d"
           }
          ],
          "histogram2dcontour": [
           {
            "colorbar": {
             "outlinewidth": 0,
             "ticks": ""
            },
            "colorscale": [
             [
              0,
              "#0d0887"
             ],
             [
              0.1111111111111111,
              "#46039f"
             ],
             [
              0.2222222222222222,
              "#7201a8"
             ],
             [
              0.3333333333333333,
              "#9c179e"
             ],
             [
              0.4444444444444444,
              "#bd3786"
             ],
             [
              0.5555555555555556,
              "#d8576b"
             ],
             [
              0.6666666666666666,
              "#ed7953"
             ],
             [
              0.7777777777777778,
              "#fb9f3a"
             ],
             [
              0.8888888888888888,
              "#fdca26"
             ],
             [
              1,
              "#f0f921"
             ]
            ],
            "type": "histogram2dcontour"
           }
          ],
          "mesh3d": [
           {
            "colorbar": {
             "outlinewidth": 0,
             "ticks": ""
            },
            "type": "mesh3d"
           }
          ],
          "parcoords": [
           {
            "line": {
             "colorbar": {
              "outlinewidth": 0,
              "ticks": ""
             }
            },
            "type": "parcoords"
           }
          ],
          "scatter": [
           {
            "marker": {
             "colorbar": {
              "outlinewidth": 0,
              "ticks": ""
             }
            },
            "type": "scatter"
           }
          ],
          "scatter3d": [
           {
            "line": {
             "colorbar": {
              "outlinewidth": 0,
              "ticks": ""
             }
            },
            "marker": {
             "colorbar": {
              "outlinewidth": 0,
              "ticks": ""
             }
            },
            "type": "scatter3d"
           }
          ],
          "scattercarpet": [
           {
            "marker": {
             "colorbar": {
              "outlinewidth": 0,
              "ticks": ""
             }
            },
            "type": "scattercarpet"
           }
          ],
          "scattergeo": [
           {
            "marker": {
             "colorbar": {
              "outlinewidth": 0,
              "ticks": ""
             }
            },
            "type": "scattergeo"
           }
          ],
          "scattergl": [
           {
            "marker": {
             "colorbar": {
              "outlinewidth": 0,
              "ticks": ""
             }
            },
            "type": "scattergl"
           }
          ],
          "scattermapbox": [
           {
            "marker": {
             "colorbar": {
              "outlinewidth": 0,
              "ticks": ""
             }
            },
            "type": "scattermapbox"
           }
          ],
          "scatterpolar": [
           {
            "marker": {
             "colorbar": {
              "outlinewidth": 0,
              "ticks": ""
             }
            },
            "type": "scatterpolar"
           }
          ],
          "scatterpolargl": [
           {
            "marker": {
             "colorbar": {
              "outlinewidth": 0,
              "ticks": ""
             }
            },
            "type": "scatterpolargl"
           }
          ],
          "scatterternary": [
           {
            "marker": {
             "colorbar": {
              "outlinewidth": 0,
              "ticks": ""
             }
            },
            "type": "scatterternary"
           }
          ],
          "surface": [
           {
            "colorbar": {
             "outlinewidth": 0,
             "ticks": ""
            },
            "colorscale": [
             [
              0,
              "#0d0887"
             ],
             [
              0.1111111111111111,
              "#46039f"
             ],
             [
              0.2222222222222222,
              "#7201a8"
             ],
             [
              0.3333333333333333,
              "#9c179e"
             ],
             [
              0.4444444444444444,
              "#bd3786"
             ],
             [
              0.5555555555555556,
              "#d8576b"
             ],
             [
              0.6666666666666666,
              "#ed7953"
             ],
             [
              0.7777777777777778,
              "#fb9f3a"
             ],
             [
              0.8888888888888888,
              "#fdca26"
             ],
             [
              1,
              "#f0f921"
             ]
            ],
            "type": "surface"
           }
          ],
          "table": [
           {
            "cells": {
             "fill": {
              "color": "#EBF0F8"
             },
             "line": {
              "color": "white"
             }
            },
            "header": {
             "fill": {
              "color": "#C8D4E3"
             },
             "line": {
              "color": "white"
             }
            },
            "type": "table"
           }
          ]
         },
         "layout": {
          "annotationdefaults": {
           "arrowcolor": "#2a3f5f",
           "arrowhead": 0,
           "arrowwidth": 1
          },
          "colorscale": {
           "diverging": [
            [
             0,
             "#8e0152"
            ],
            [
             0.1,
             "#c51b7d"
            ],
            [
             0.2,
             "#de77ae"
            ],
            [
             0.3,
             "#f1b6da"
            ],
            [
             0.4,
             "#fde0ef"
            ],
            [
             0.5,
             "#f7f7f7"
            ],
            [
             0.6,
             "#e6f5d0"
            ],
            [
             0.7,
             "#b8e186"
            ],
            [
             0.8,
             "#7fbc41"
            ],
            [
             0.9,
             "#4d9221"
            ],
            [
             1,
             "#276419"
            ]
           ],
           "sequential": [
            [
             0,
             "#0d0887"
            ],
            [
             0.1111111111111111,
             "#46039f"
            ],
            [
             0.2222222222222222,
             "#7201a8"
            ],
            [
             0.3333333333333333,
             "#9c179e"
            ],
            [
             0.4444444444444444,
             "#bd3786"
            ],
            [
             0.5555555555555556,
             "#d8576b"
            ],
            [
             0.6666666666666666,
             "#ed7953"
            ],
            [
             0.7777777777777778,
             "#fb9f3a"
            ],
            [
             0.8888888888888888,
             "#fdca26"
            ],
            [
             1,
             "#f0f921"
            ]
           ],
           "sequentialminus": [
            [
             0,
             "#0d0887"
            ],
            [
             0.1111111111111111,
             "#46039f"
            ],
            [
             0.2222222222222222,
             "#7201a8"
            ],
            [
             0.3333333333333333,
             "#9c179e"
            ],
            [
             0.4444444444444444,
             "#bd3786"
            ],
            [
             0.5555555555555556,
             "#d8576b"
            ],
            [
             0.6666666666666666,
             "#ed7953"
            ],
            [
             0.7777777777777778,
             "#fb9f3a"
            ],
            [
             0.8888888888888888,
             "#fdca26"
            ],
            [
             1,
             "#f0f921"
            ]
           ]
          },
          "colorway": [
           "#636efa",
           "#EF553B",
           "#00cc96",
           "#ab63fa",
           "#FFA15A",
           "#19d3f3",
           "#FF6692",
           "#B6E880",
           "#FF97FF",
           "#FECB52"
          ],
          "font": {
           "color": "#2a3f5f"
          },
          "geo": {
           "bgcolor": "white",
           "lakecolor": "white",
           "landcolor": "#E5ECF6",
           "showlakes": true,
           "showland": true,
           "subunitcolor": "white"
          },
          "hoverlabel": {
           "align": "left"
          },
          "hovermode": "closest",
          "mapbox": {
           "style": "light"
          },
          "paper_bgcolor": "white",
          "plot_bgcolor": "#E5ECF6",
          "polar": {
           "angularaxis": {
            "gridcolor": "white",
            "linecolor": "white",
            "ticks": ""
           },
           "bgcolor": "#E5ECF6",
           "radialaxis": {
            "gridcolor": "white",
            "linecolor": "white",
            "ticks": ""
           }
          },
          "scene": {
           "xaxis": {
            "backgroundcolor": "#E5ECF6",
            "gridcolor": "white",
            "gridwidth": 2,
            "linecolor": "white",
            "showbackground": true,
            "ticks": "",
            "zerolinecolor": "white"
           },
           "yaxis": {
            "backgroundcolor": "#E5ECF6",
            "gridcolor": "white",
            "gridwidth": 2,
            "linecolor": "white",
            "showbackground": true,
            "ticks": "",
            "zerolinecolor": "white"
           },
           "zaxis": {
            "backgroundcolor": "#E5ECF6",
            "gridcolor": "white",
            "gridwidth": 2,
            "linecolor": "white",
            "showbackground": true,
            "ticks": "",
            "zerolinecolor": "white"
           }
          },
          "shapedefaults": {
           "line": {
            "color": "#2a3f5f"
           }
          },
          "ternary": {
           "aaxis": {
            "gridcolor": "white",
            "linecolor": "white",
            "ticks": ""
           },
           "baxis": {
            "gridcolor": "white",
            "linecolor": "white",
            "ticks": ""
           },
           "bgcolor": "#E5ECF6",
           "caxis": {
            "gridcolor": "white",
            "linecolor": "white",
            "ticks": ""
           }
          },
          "title": {
           "x": 0.05
          },
          "xaxis": {
           "automargin": true,
           "gridcolor": "white",
           "linecolor": "white",
           "ticks": "",
           "zerolinecolor": "white",
           "zerolinewidth": 2
          },
          "yaxis": {
           "automargin": true,
           "gridcolor": "white",
           "linecolor": "white",
           "ticks": "",
           "zerolinecolor": "white",
           "zerolinewidth": 2
          }
         }
        }
       }
      },
      "text/html": [
       "<div>\n",
       "        \n",
       "        \n",
       "            <div id=\"98c9ca3b-0f97-4925-ab83-1e93b62dc0fc\" class=\"plotly-graph-div\" style=\"height:525px; width:100%;\"></div>\n",
       "            <script type=\"text/javascript\">\n",
       "                require([\"plotly\"], function(Plotly) {\n",
       "                    window.PLOTLYENV=window.PLOTLYENV || {};\n",
       "                    \n",
       "                if (document.getElementById(\"98c9ca3b-0f97-4925-ab83-1e93b62dc0fc\")) {\n",
       "                    Plotly.newPlot(\n",
       "                        '98c9ca3b-0f97-4925-ab83-1e93b62dc0fc',\n",
       "                        [{\"type\": \"scatter\", \"y\": [0.902216088270259, 0.9119611376904271, 0.9161217491805036, 0.9174892162979892, 0.9188753213637944, 0.9191276731909235, 0.9196088178118919, 0.9199279624308573, 0.9203338101252004, 0.9203634391910094, 0.9202566752029836, 0.9208194271486931, 0.9210360606482461, 0.9211131058339735, 0.9207243385188872, 0.9211342115357459, 0.9209553442786478, 0.9211901958879456, 0.9213553254500094, 0.9213418585668803, 0.9212850265253449, 0.9214435636603273, 0.9214467893666267, 0.9214097169795259, 0.9214285520276341, 0.9214884655561109, 0.9215152214518282, 0.9215993734470129, 0.921533787290469, 0.9216229020339938, 0.9216331944888174, 0.9216231808580851, 0.9216474946393465, 0.9216573287971004, 0.9216253377387005, 0.9216582582107387, 0.9216468744961086, 0.9215708019898264, 0.9216296178487479, 0.921716417070364, 0.9216442609208608, 0.9217106146448748, 0.9217175387764791, 0.9217215512794961, 0.9217180435442307, 0.9217577359163287, 0.9217281292846419, 0.921747709466098, 0.921751560122947, 0.9217671502355083, 0.9217671326086978, 0.9217438107361295, 0.921750255738979, 0.9217650862962565, 0.9218017981349633, 0.9217701948663918, 0.9217855878791642, 0.9217954925441596, 0.9217954284466673, 0.9217920360868882, 0.9217737362528406, 0.9218085171545921, 0.9217811507302607, 0.921803789964536, 0.9218093680488022, 0.9217974170713656, 0.9218006043191693, 0.9218053218946016, 0.9218143772678243, 0.9218238060089397, 0.9218161095025534, 0.9218282095066597, 0.9218177119398605, 0.9218166094629933, 0.9218205466514569, 0.9218332587866145, 0.9218285075599988, 0.9218284017991366, 0.9218261583869065, 0.9218293119835268, 0.9218400579281086, 0.9218352153625664, 0.9218376029941542, 0.9218293680688329, 0.9218291645592948, 0.9218383401153154, 0.9218412293097802, 0.9218395259189226, 0.9218402534254602, 0.9218465029309579, 0.921836830619372, 0.9218361928493238, 0.9218524127197468, 0.9218436666169243, 0.9218469019378475, 0.9218427211789131, 0.9218430897394938, 0.92185298799474, 0.9218476182273238, 0.9218492174597563]}],\n",
       "                        {\"template\": {\"data\": {\"bar\": [{\"error_x\": {\"color\": \"#2a3f5f\"}, \"error_y\": {\"color\": \"#2a3f5f\"}, \"marker\": {\"line\": {\"color\": \"#E5ECF6\", \"width\": 0.5}}, \"type\": \"bar\"}], \"barpolar\": [{\"marker\": {\"line\": {\"color\": \"#E5ECF6\", \"width\": 0.5}}, \"type\": \"barpolar\"}], \"carpet\": [{\"aaxis\": {\"endlinecolor\": \"#2a3f5f\", \"gridcolor\": \"white\", \"linecolor\": \"white\", \"minorgridcolor\": \"white\", \"startlinecolor\": \"#2a3f5f\"}, \"baxis\": {\"endlinecolor\": \"#2a3f5f\", \"gridcolor\": \"white\", \"linecolor\": \"white\", \"minorgridcolor\": \"white\", \"startlinecolor\": \"#2a3f5f\"}, \"type\": \"carpet\"}], \"choropleth\": [{\"colorbar\": {\"outlinewidth\": 0, \"ticks\": \"\"}, \"type\": \"choropleth\"}], \"contour\": [{\"colorbar\": {\"outlinewidth\": 0, \"ticks\": \"\"}, \"colorscale\": [[0.0, \"#0d0887\"], [0.1111111111111111, \"#46039f\"], [0.2222222222222222, \"#7201a8\"], [0.3333333333333333, \"#9c179e\"], [0.4444444444444444, \"#bd3786\"], [0.5555555555555556, \"#d8576b\"], [0.6666666666666666, \"#ed7953\"], [0.7777777777777778, \"#fb9f3a\"], [0.8888888888888888, \"#fdca26\"], [1.0, \"#f0f921\"]], \"type\": \"contour\"}], \"contourcarpet\": [{\"colorbar\": {\"outlinewidth\": 0, \"ticks\": \"\"}, \"type\": \"contourcarpet\"}], \"heatmap\": [{\"colorbar\": {\"outlinewidth\": 0, \"ticks\": \"\"}, \"colorscale\": [[0.0, \"#0d0887\"], [0.1111111111111111, \"#46039f\"], [0.2222222222222222, \"#7201a8\"], [0.3333333333333333, \"#9c179e\"], [0.4444444444444444, \"#bd3786\"], [0.5555555555555556, \"#d8576b\"], [0.6666666666666666, \"#ed7953\"], [0.7777777777777778, \"#fb9f3a\"], [0.8888888888888888, \"#fdca26\"], [1.0, \"#f0f921\"]], \"type\": \"heatmap\"}], \"heatmapgl\": [{\"colorbar\": {\"outlinewidth\": 0, \"ticks\": \"\"}, \"colorscale\": [[0.0, \"#0d0887\"], [0.1111111111111111, \"#46039f\"], [0.2222222222222222, \"#7201a8\"], [0.3333333333333333, \"#9c179e\"], [0.4444444444444444, \"#bd3786\"], [0.5555555555555556, \"#d8576b\"], [0.6666666666666666, \"#ed7953\"], [0.7777777777777778, \"#fb9f3a\"], [0.8888888888888888, \"#fdca26\"], [1.0, \"#f0f921\"]], \"type\": \"heatmapgl\"}], \"histogram\": [{\"marker\": {\"colorbar\": {\"outlinewidth\": 0, \"ticks\": \"\"}}, \"type\": \"histogram\"}], \"histogram2d\": [{\"colorbar\": {\"outlinewidth\": 0, \"ticks\": \"\"}, \"colorscale\": [[0.0, \"#0d0887\"], [0.1111111111111111, \"#46039f\"], [0.2222222222222222, \"#7201a8\"], [0.3333333333333333, \"#9c179e\"], [0.4444444444444444, \"#bd3786\"], [0.5555555555555556, \"#d8576b\"], [0.6666666666666666, \"#ed7953\"], [0.7777777777777778, \"#fb9f3a\"], [0.8888888888888888, \"#fdca26\"], [1.0, \"#f0f921\"]], \"type\": \"histogram2d\"}], \"histogram2dcontour\": [{\"colorbar\": {\"outlinewidth\": 0, \"ticks\": \"\"}, \"colorscale\": [[0.0, \"#0d0887\"], [0.1111111111111111, \"#46039f\"], [0.2222222222222222, \"#7201a8\"], [0.3333333333333333, \"#9c179e\"], [0.4444444444444444, \"#bd3786\"], [0.5555555555555556, \"#d8576b\"], [0.6666666666666666, \"#ed7953\"], [0.7777777777777778, \"#fb9f3a\"], [0.8888888888888888, \"#fdca26\"], [1.0, \"#f0f921\"]], \"type\": \"histogram2dcontour\"}], \"mesh3d\": [{\"colorbar\": {\"outlinewidth\": 0, \"ticks\": \"\"}, \"type\": \"mesh3d\"}], \"parcoords\": [{\"line\": {\"colorbar\": {\"outlinewidth\": 0, \"ticks\": \"\"}}, \"type\": \"parcoords\"}], \"scatter\": [{\"marker\": {\"colorbar\": {\"outlinewidth\": 0, \"ticks\": \"\"}}, \"type\": \"scatter\"}], \"scatter3d\": [{\"line\": {\"colorbar\": {\"outlinewidth\": 0, \"ticks\": \"\"}}, \"marker\": {\"colorbar\": {\"outlinewidth\": 0, \"ticks\": \"\"}}, \"type\": \"scatter3d\"}], \"scattercarpet\": [{\"marker\": {\"colorbar\": {\"outlinewidth\": 0, \"ticks\": \"\"}}, \"type\": \"scattercarpet\"}], \"scattergeo\": [{\"marker\": {\"colorbar\": {\"outlinewidth\": 0, \"ticks\": \"\"}}, \"type\": \"scattergeo\"}], \"scattergl\": [{\"marker\": {\"colorbar\": {\"outlinewidth\": 0, \"ticks\": \"\"}}, \"type\": \"scattergl\"}], \"scattermapbox\": [{\"marker\": {\"colorbar\": {\"outlinewidth\": 0, \"ticks\": \"\"}}, \"type\": \"scattermapbox\"}], \"scatterpolar\": [{\"marker\": {\"colorbar\": {\"outlinewidth\": 0, \"ticks\": \"\"}}, \"type\": \"scatterpolar\"}], \"scatterpolargl\": [{\"marker\": {\"colorbar\": {\"outlinewidth\": 0, \"ticks\": \"\"}}, \"type\": \"scatterpolargl\"}], \"scatterternary\": [{\"marker\": {\"colorbar\": {\"outlinewidth\": 0, \"ticks\": \"\"}}, \"type\": \"scatterternary\"}], \"surface\": [{\"colorbar\": {\"outlinewidth\": 0, \"ticks\": \"\"}, \"colorscale\": [[0.0, \"#0d0887\"], [0.1111111111111111, \"#46039f\"], [0.2222222222222222, \"#7201a8\"], [0.3333333333333333, \"#9c179e\"], [0.4444444444444444, \"#bd3786\"], [0.5555555555555556, \"#d8576b\"], [0.6666666666666666, \"#ed7953\"], [0.7777777777777778, \"#fb9f3a\"], [0.8888888888888888, \"#fdca26\"], [1.0, \"#f0f921\"]], \"type\": \"surface\"}], \"table\": [{\"cells\": {\"fill\": {\"color\": \"#EBF0F8\"}, \"line\": {\"color\": \"white\"}}, \"header\": {\"fill\": {\"color\": \"#C8D4E3\"}, \"line\": {\"color\": \"white\"}}, \"type\": \"table\"}]}, \"layout\": {\"annotationdefaults\": {\"arrowcolor\": \"#2a3f5f\", \"arrowhead\": 0, \"arrowwidth\": 1}, \"colorscale\": {\"diverging\": [[0, \"#8e0152\"], [0.1, \"#c51b7d\"], [0.2, \"#de77ae\"], [0.3, \"#f1b6da\"], [0.4, \"#fde0ef\"], [0.5, \"#f7f7f7\"], [0.6, \"#e6f5d0\"], [0.7, \"#b8e186\"], [0.8, \"#7fbc41\"], [0.9, \"#4d9221\"], [1, \"#276419\"]], \"sequential\": [[0.0, \"#0d0887\"], [0.1111111111111111, \"#46039f\"], [0.2222222222222222, \"#7201a8\"], [0.3333333333333333, \"#9c179e\"], [0.4444444444444444, \"#bd3786\"], [0.5555555555555556, \"#d8576b\"], [0.6666666666666666, \"#ed7953\"], [0.7777777777777778, \"#fb9f3a\"], [0.8888888888888888, \"#fdca26\"], [1.0, \"#f0f921\"]], \"sequentialminus\": [[0.0, \"#0d0887\"], [0.1111111111111111, \"#46039f\"], [0.2222222222222222, \"#7201a8\"], [0.3333333333333333, \"#9c179e\"], [0.4444444444444444, \"#bd3786\"], [0.5555555555555556, \"#d8576b\"], [0.6666666666666666, \"#ed7953\"], [0.7777777777777778, \"#fb9f3a\"], [0.8888888888888888, \"#fdca26\"], [1.0, \"#f0f921\"]]}, \"colorway\": [\"#636efa\", \"#EF553B\", \"#00cc96\", \"#ab63fa\", \"#FFA15A\", \"#19d3f3\", \"#FF6692\", \"#B6E880\", \"#FF97FF\", \"#FECB52\"], \"font\": {\"color\": \"#2a3f5f\"}, \"geo\": {\"bgcolor\": \"white\", \"lakecolor\": \"white\", \"landcolor\": \"#E5ECF6\", \"showlakes\": true, \"showland\": true, \"subunitcolor\": \"white\"}, \"hoverlabel\": {\"align\": \"left\"}, \"hovermode\": \"closest\", \"mapbox\": {\"style\": \"light\"}, \"paper_bgcolor\": \"white\", \"plot_bgcolor\": \"#E5ECF6\", \"polar\": {\"angularaxis\": {\"gridcolor\": \"white\", \"linecolor\": \"white\", \"ticks\": \"\"}, \"bgcolor\": \"#E5ECF6\", \"radialaxis\": {\"gridcolor\": \"white\", \"linecolor\": \"white\", \"ticks\": \"\"}}, \"scene\": {\"xaxis\": {\"backgroundcolor\": \"#E5ECF6\", \"gridcolor\": \"white\", \"gridwidth\": 2, \"linecolor\": \"white\", \"showbackground\": true, \"ticks\": \"\", \"zerolinecolor\": \"white\"}, \"yaxis\": {\"backgroundcolor\": \"#E5ECF6\", \"gridcolor\": \"white\", \"gridwidth\": 2, \"linecolor\": \"white\", \"showbackground\": true, \"ticks\": \"\", \"zerolinecolor\": \"white\"}, \"zaxis\": {\"backgroundcolor\": \"#E5ECF6\", \"gridcolor\": \"white\", \"gridwidth\": 2, \"linecolor\": \"white\", \"showbackground\": true, \"ticks\": \"\", \"zerolinecolor\": \"white\"}}, \"shapedefaults\": {\"line\": {\"color\": \"#2a3f5f\"}}, \"ternary\": {\"aaxis\": {\"gridcolor\": \"white\", \"linecolor\": \"white\", \"ticks\": \"\"}, \"baxis\": {\"gridcolor\": \"white\", \"linecolor\": \"white\", \"ticks\": \"\"}, \"bgcolor\": \"#E5ECF6\", \"caxis\": {\"gridcolor\": \"white\", \"linecolor\": \"white\", \"ticks\": \"\"}}, \"title\": {\"x\": 0.05}, \"xaxis\": {\"automargin\": true, \"gridcolor\": \"white\", \"linecolor\": \"white\", \"ticks\": \"\", \"zerolinecolor\": \"white\", \"zerolinewidth\": 2}, \"yaxis\": {\"automargin\": true, \"gridcolor\": \"white\", \"linecolor\": \"white\", \"ticks\": \"\", \"zerolinecolor\": \"white\", \"zerolinewidth\": 2}}}},\n",
       "                        {\"responsive\": true}\n",
       "                    ).then(function(){\n",
       "                            \n",
       "var gd = document.getElementById('98c9ca3b-0f97-4925-ab83-1e93b62dc0fc');\n",
       "var x = new MutationObserver(function (mutations, observer) {{\n",
       "        var display = window.getComputedStyle(gd).display;\n",
       "        if (!display || display === 'none') {{\n",
       "            console.log([gd, 'removed!']);\n",
       "            Plotly.purge(gd);\n",
       "            observer.disconnect();\n",
       "        }}\n",
       "}});\n",
       "\n",
       "// Listen for the removal of the full notebook cells\n",
       "var notebookContainer = gd.closest('#notebook-container');\n",
       "if (notebookContainer) {{\n",
       "    x.observe(notebookContainer, {childList: true});\n",
       "}}\n",
       "\n",
       "// Listen for the clearing of the current output cell\n",
       "var outputEl = gd.closest('.output');\n",
       "if (outputEl) {{\n",
       "    x.observe(outputEl, {childList: true});\n",
       "}}\n",
       "\n",
       "                        })\n",
       "                };\n",
       "                });\n",
       "            </script>\n",
       "        </div>"
      ]
     },
     "metadata": {},
     "output_type": "display_data"
    }
   ],
   "source": [
    "# Chunk size 20, capped at 80\n",
    "fig = go.Figure()\n",
    "fig.add_trace(go.Scatter(y=aucs))"
   ]
  },
  {
   "cell_type": "code",
   "execution_count": 16,
   "metadata": {},
   "outputs": [
    {
     "data": {
      "application/vnd.plotly.v1+json": {
       "config": {
        "plotlyServerURL": "https://plot.ly"
       },
       "data": [
        {
         "type": "scatter",
         "y": [
          0.8604490256616077,
          0.8647460286589219,
          0.8661871320011659,
          0.8672817321970452,
          0.8677307182250149,
          0.8679902700227623,
          0.8683255900124203,
          0.8682406251988002,
          0.8682749446938871,
          0.8685537277033994,
          0.8686036191739613,
          0.8686570064931627,
          0.8686691068854913,
          0.8687262424144553,
          0.8686819320071999,
          0.8688039696404716,
          0.8688145348359659,
          0.8687667706402584,
          0.8687777839385168,
          0.8688613429712634,
          0.8688042770033781,
          0.8688279164463057,
          0.8688814234752708,
          0.8688938587313976,
          0.8689041990666602,
          0.8688926486921648,
          0.8688934429826238,
          0.8689205022423137,
          0.8689212884442749,
          0.8689404808312516,
          0.8689392400557282,
          0.8689459535086912,
          0.8689314605387887,
          0.868924227804283,
          0.8689295645949637,
          0.8689224402463255,
          0.8689420580882731,
          0.8689534337512215,
          0.8689638145289719,
          0.8689697886932591,
          0.868975602705295,
          0.86897463046789,
          0.8689874151471108,
          0.8689912183586571,
          0.8689997355465727,
          0.8690088221647156,
          0.8689935429928517,
          0.8690111273865163,
          0.8690041842202229,
          0.8689992437659221,
          0.8690077819839312,
          0.8690151861945848,
          0.8690171322870943,
          0.8690280679357762,
          0.86901885999017,
          0.8690223865751001,
          0.8690253599067977,
          0.869024324579112,
          0.869037277499082,
          0.8690332850166932,
          0.8690332769281957,
          0.8690457445383127,
          0.8690363942351498,
          0.8690450602514205,
          0.8690429604774575,
          0.8690497677569922,
          0.8690545059988544,
          0.8690499408508396,
          0.8690512867768312,
          0.869057163879148,
          0.8690527653541826,
          0.8690581652351442,
          0.8690572852066112,
          0.8690552663176238,
          0.8690608538517284,
          0.8690611304783445,
          0.8690680736446378,
          0.8690614426943497,
          0.8690608894411177,
          0.8690598379364367,
          0.8690586262795043,
          0.8690621528644342,
          0.8690703643071428,
          0.8690717312632279,
          0.8690779723479345,
          0.8690718461198932,
          0.869075435795104,
          0.8690726954121355,
          0.8690819486533279,
          0.8690769515795442,
          0.8690770923194014,
          0.8690770729070072,
          0.8690823886675945,
          0.8690822074852493,
          0.8690834919386596,
          0.8690823660198012,
          0.8690914510202447,
          0.869087178675841,
          0.8690880829698666,
          0.8690854008240803
         ]
        }
       ],
       "layout": {
        "template": {
         "data": {
          "bar": [
           {
            "error_x": {
             "color": "#2a3f5f"
            },
            "error_y": {
             "color": "#2a3f5f"
            },
            "marker": {
             "line": {
              "color": "#E5ECF6",
              "width": 0.5
             }
            },
            "type": "bar"
           }
          ],
          "barpolar": [
           {
            "marker": {
             "line": {
              "color": "#E5ECF6",
              "width": 0.5
             }
            },
            "type": "barpolar"
           }
          ],
          "carpet": [
           {
            "aaxis": {
             "endlinecolor": "#2a3f5f",
             "gridcolor": "white",
             "linecolor": "white",
             "minorgridcolor": "white",
             "startlinecolor": "#2a3f5f"
            },
            "baxis": {
             "endlinecolor": "#2a3f5f",
             "gridcolor": "white",
             "linecolor": "white",
             "minorgridcolor": "white",
             "startlinecolor": "#2a3f5f"
            },
            "type": "carpet"
           }
          ],
          "choropleth": [
           {
            "colorbar": {
             "outlinewidth": 0,
             "ticks": ""
            },
            "type": "choropleth"
           }
          ],
          "contour": [
           {
            "colorbar": {
             "outlinewidth": 0,
             "ticks": ""
            },
            "colorscale": [
             [
              0,
              "#0d0887"
             ],
             [
              0.1111111111111111,
              "#46039f"
             ],
             [
              0.2222222222222222,
              "#7201a8"
             ],
             [
              0.3333333333333333,
              "#9c179e"
             ],
             [
              0.4444444444444444,
              "#bd3786"
             ],
             [
              0.5555555555555556,
              "#d8576b"
             ],
             [
              0.6666666666666666,
              "#ed7953"
             ],
             [
              0.7777777777777778,
              "#fb9f3a"
             ],
             [
              0.8888888888888888,
              "#fdca26"
             ],
             [
              1,
              "#f0f921"
             ]
            ],
            "type": "contour"
           }
          ],
          "contourcarpet": [
           {
            "colorbar": {
             "outlinewidth": 0,
             "ticks": ""
            },
            "type": "contourcarpet"
           }
          ],
          "heatmap": [
           {
            "colorbar": {
             "outlinewidth": 0,
             "ticks": ""
            },
            "colorscale": [
             [
              0,
              "#0d0887"
             ],
             [
              0.1111111111111111,
              "#46039f"
             ],
             [
              0.2222222222222222,
              "#7201a8"
             ],
             [
              0.3333333333333333,
              "#9c179e"
             ],
             [
              0.4444444444444444,
              "#bd3786"
             ],
             [
              0.5555555555555556,
              "#d8576b"
             ],
             [
              0.6666666666666666,
              "#ed7953"
             ],
             [
              0.7777777777777778,
              "#fb9f3a"
             ],
             [
              0.8888888888888888,
              "#fdca26"
             ],
             [
              1,
              "#f0f921"
             ]
            ],
            "type": "heatmap"
           }
          ],
          "heatmapgl": [
           {
            "colorbar": {
             "outlinewidth": 0,
             "ticks": ""
            },
            "colorscale": [
             [
              0,
              "#0d0887"
             ],
             [
              0.1111111111111111,
              "#46039f"
             ],
             [
              0.2222222222222222,
              "#7201a8"
             ],
             [
              0.3333333333333333,
              "#9c179e"
             ],
             [
              0.4444444444444444,
              "#bd3786"
             ],
             [
              0.5555555555555556,
              "#d8576b"
             ],
             [
              0.6666666666666666,
              "#ed7953"
             ],
             [
              0.7777777777777778,
              "#fb9f3a"
             ],
             [
              0.8888888888888888,
              "#fdca26"
             ],
             [
              1,
              "#f0f921"
             ]
            ],
            "type": "heatmapgl"
           }
          ],
          "histogram": [
           {
            "marker": {
             "colorbar": {
              "outlinewidth": 0,
              "ticks": ""
             }
            },
            "type": "histogram"
           }
          ],
          "histogram2d": [
           {
            "colorbar": {
             "outlinewidth": 0,
             "ticks": ""
            },
            "colorscale": [
             [
              0,
              "#0d0887"
             ],
             [
              0.1111111111111111,
              "#46039f"
             ],
             [
              0.2222222222222222,
              "#7201a8"
             ],
             [
              0.3333333333333333,
              "#9c179e"
             ],
             [
              0.4444444444444444,
              "#bd3786"
             ],
             [
              0.5555555555555556,
              "#d8576b"
             ],
             [
              0.6666666666666666,
              "#ed7953"
             ],
             [
              0.7777777777777778,
              "#fb9f3a"
             ],
             [
              0.8888888888888888,
              "#fdca26"
             ],
             [
              1,
              "#f0f921"
             ]
            ],
            "type": "histogram2d"
           }
          ],
          "histogram2dcontour": [
           {
            "colorbar": {
             "outlinewidth": 0,
             "ticks": ""
            },
            "colorscale": [
             [
              0,
              "#0d0887"
             ],
             [
              0.1111111111111111,
              "#46039f"
             ],
             [
              0.2222222222222222,
              "#7201a8"
             ],
             [
              0.3333333333333333,
              "#9c179e"
             ],
             [
              0.4444444444444444,
              "#bd3786"
             ],
             [
              0.5555555555555556,
              "#d8576b"
             ],
             [
              0.6666666666666666,
              "#ed7953"
             ],
             [
              0.7777777777777778,
              "#fb9f3a"
             ],
             [
              0.8888888888888888,
              "#fdca26"
             ],
             [
              1,
              "#f0f921"
             ]
            ],
            "type": "histogram2dcontour"
           }
          ],
          "mesh3d": [
           {
            "colorbar": {
             "outlinewidth": 0,
             "ticks": ""
            },
            "type": "mesh3d"
           }
          ],
          "parcoords": [
           {
            "line": {
             "colorbar": {
              "outlinewidth": 0,
              "ticks": ""
             }
            },
            "type": "parcoords"
           }
          ],
          "scatter": [
           {
            "marker": {
             "colorbar": {
              "outlinewidth": 0,
              "ticks": ""
             }
            },
            "type": "scatter"
           }
          ],
          "scatter3d": [
           {
            "line": {
             "colorbar": {
              "outlinewidth": 0,
              "ticks": ""
             }
            },
            "marker": {
             "colorbar": {
              "outlinewidth": 0,
              "ticks": ""
             }
            },
            "type": "scatter3d"
           }
          ],
          "scattercarpet": [
           {
            "marker": {
             "colorbar": {
              "outlinewidth": 0,
              "ticks": ""
             }
            },
            "type": "scattercarpet"
           }
          ],
          "scattergeo": [
           {
            "marker": {
             "colorbar": {
              "outlinewidth": 0,
              "ticks": ""
             }
            },
            "type": "scattergeo"
           }
          ],
          "scattergl": [
           {
            "marker": {
             "colorbar": {
              "outlinewidth": 0,
              "ticks": ""
             }
            },
            "type": "scattergl"
           }
          ],
          "scattermapbox": [
           {
            "marker": {
             "colorbar": {
              "outlinewidth": 0,
              "ticks": ""
             }
            },
            "type": "scattermapbox"
           }
          ],
          "scatterpolar": [
           {
            "marker": {
             "colorbar": {
              "outlinewidth": 0,
              "ticks": ""
             }
            },
            "type": "scatterpolar"
           }
          ],
          "scatterpolargl": [
           {
            "marker": {
             "colorbar": {
              "outlinewidth": 0,
              "ticks": ""
             }
            },
            "type": "scatterpolargl"
           }
          ],
          "scatterternary": [
           {
            "marker": {
             "colorbar": {
              "outlinewidth": 0,
              "ticks": ""
             }
            },
            "type": "scatterternary"
           }
          ],
          "surface": [
           {
            "colorbar": {
             "outlinewidth": 0,
             "ticks": ""
            },
            "colorscale": [
             [
              0,
              "#0d0887"
             ],
             [
              0.1111111111111111,
              "#46039f"
             ],
             [
              0.2222222222222222,
              "#7201a8"
             ],
             [
              0.3333333333333333,
              "#9c179e"
             ],
             [
              0.4444444444444444,
              "#bd3786"
             ],
             [
              0.5555555555555556,
              "#d8576b"
             ],
             [
              0.6666666666666666,
              "#ed7953"
             ],
             [
              0.7777777777777778,
              "#fb9f3a"
             ],
             [
              0.8888888888888888,
              "#fdca26"
             ],
             [
              1,
              "#f0f921"
             ]
            ],
            "type": "surface"
           }
          ],
          "table": [
           {
            "cells": {
             "fill": {
              "color": "#EBF0F8"
             },
             "line": {
              "color": "white"
             }
            },
            "header": {
             "fill": {
              "color": "#C8D4E3"
             },
             "line": {
              "color": "white"
             }
            },
            "type": "table"
           }
          ]
         },
         "layout": {
          "annotationdefaults": {
           "arrowcolor": "#2a3f5f",
           "arrowhead": 0,
           "arrowwidth": 1
          },
          "colorscale": {
           "diverging": [
            [
             0,
             "#8e0152"
            ],
            [
             0.1,
             "#c51b7d"
            ],
            [
             0.2,
             "#de77ae"
            ],
            [
             0.3,
             "#f1b6da"
            ],
            [
             0.4,
             "#fde0ef"
            ],
            [
             0.5,
             "#f7f7f7"
            ],
            [
             0.6,
             "#e6f5d0"
            ],
            [
             0.7,
             "#b8e186"
            ],
            [
             0.8,
             "#7fbc41"
            ],
            [
             0.9,
             "#4d9221"
            ],
            [
             1,
             "#276419"
            ]
           ],
           "sequential": [
            [
             0,
             "#0d0887"
            ],
            [
             0.1111111111111111,
             "#46039f"
            ],
            [
             0.2222222222222222,
             "#7201a8"
            ],
            [
             0.3333333333333333,
             "#9c179e"
            ],
            [
             0.4444444444444444,
             "#bd3786"
            ],
            [
             0.5555555555555556,
             "#d8576b"
            ],
            [
             0.6666666666666666,
             "#ed7953"
            ],
            [
             0.7777777777777778,
             "#fb9f3a"
            ],
            [
             0.8888888888888888,
             "#fdca26"
            ],
            [
             1,
             "#f0f921"
            ]
           ],
           "sequentialminus": [
            [
             0,
             "#0d0887"
            ],
            [
             0.1111111111111111,
             "#46039f"
            ],
            [
             0.2222222222222222,
             "#7201a8"
            ],
            [
             0.3333333333333333,
             "#9c179e"
            ],
            [
             0.4444444444444444,
             "#bd3786"
            ],
            [
             0.5555555555555556,
             "#d8576b"
            ],
            [
             0.6666666666666666,
             "#ed7953"
            ],
            [
             0.7777777777777778,
             "#fb9f3a"
            ],
            [
             0.8888888888888888,
             "#fdca26"
            ],
            [
             1,
             "#f0f921"
            ]
           ]
          },
          "colorway": [
           "#636efa",
           "#EF553B",
           "#00cc96",
           "#ab63fa",
           "#FFA15A",
           "#19d3f3",
           "#FF6692",
           "#B6E880",
           "#FF97FF",
           "#FECB52"
          ],
          "font": {
           "color": "#2a3f5f"
          },
          "geo": {
           "bgcolor": "white",
           "lakecolor": "white",
           "landcolor": "#E5ECF6",
           "showlakes": true,
           "showland": true,
           "subunitcolor": "white"
          },
          "hoverlabel": {
           "align": "left"
          },
          "hovermode": "closest",
          "mapbox": {
           "style": "light"
          },
          "paper_bgcolor": "white",
          "plot_bgcolor": "#E5ECF6",
          "polar": {
           "angularaxis": {
            "gridcolor": "white",
            "linecolor": "white",
            "ticks": ""
           },
           "bgcolor": "#E5ECF6",
           "radialaxis": {
            "gridcolor": "white",
            "linecolor": "white",
            "ticks": ""
           }
          },
          "scene": {
           "xaxis": {
            "backgroundcolor": "#E5ECF6",
            "gridcolor": "white",
            "gridwidth": 2,
            "linecolor": "white",
            "showbackground": true,
            "ticks": "",
            "zerolinecolor": "white"
           },
           "yaxis": {
            "backgroundcolor": "#E5ECF6",
            "gridcolor": "white",
            "gridwidth": 2,
            "linecolor": "white",
            "showbackground": true,
            "ticks": "",
            "zerolinecolor": "white"
           },
           "zaxis": {
            "backgroundcolor": "#E5ECF6",
            "gridcolor": "white",
            "gridwidth": 2,
            "linecolor": "white",
            "showbackground": true,
            "ticks": "",
            "zerolinecolor": "white"
           }
          },
          "shapedefaults": {
           "line": {
            "color": "#2a3f5f"
           }
          },
          "ternary": {
           "aaxis": {
            "gridcolor": "white",
            "linecolor": "white",
            "ticks": ""
           },
           "baxis": {
            "gridcolor": "white",
            "linecolor": "white",
            "ticks": ""
           },
           "bgcolor": "#E5ECF6",
           "caxis": {
            "gridcolor": "white",
            "linecolor": "white",
            "ticks": ""
           }
          },
          "title": {
           "x": 0.05
          },
          "xaxis": {
           "automargin": true,
           "gridcolor": "white",
           "linecolor": "white",
           "ticks": "",
           "zerolinecolor": "white",
           "zerolinewidth": 2
          },
          "yaxis": {
           "automargin": true,
           "gridcolor": "white",
           "linecolor": "white",
           "ticks": "",
           "zerolinecolor": "white",
           "zerolinewidth": 2
          }
         }
        }
       }
      },
      "text/html": [
       "<div>\n",
       "        \n",
       "        \n",
       "            <div id=\"628545a5-066d-47c0-adea-55e7f7ebe53d\" class=\"plotly-graph-div\" style=\"height:525px; width:100%;\"></div>\n",
       "            <script type=\"text/javascript\">\n",
       "                require([\"plotly\"], function(Plotly) {\n",
       "                    window.PLOTLYENV=window.PLOTLYENV || {};\n",
       "                    \n",
       "                if (document.getElementById(\"628545a5-066d-47c0-adea-55e7f7ebe53d\")) {\n",
       "                    Plotly.newPlot(\n",
       "                        '628545a5-066d-47c0-adea-55e7f7ebe53d',\n",
       "                        [{\"type\": \"scatter\", \"y\": [0.8604490256616077, 0.8647460286589219, 0.8661871320011659, 0.8672817321970452, 0.8677307182250149, 0.8679902700227623, 0.8683255900124203, 0.8682406251988002, 0.8682749446938871, 0.8685537277033994, 0.8686036191739613, 0.8686570064931627, 0.8686691068854913, 0.8687262424144553, 0.8686819320071999, 0.8688039696404716, 0.8688145348359659, 0.8687667706402584, 0.8687777839385168, 0.8688613429712634, 0.8688042770033781, 0.8688279164463057, 0.8688814234752708, 0.8688938587313976, 0.8689041990666602, 0.8688926486921648, 0.8688934429826238, 0.8689205022423137, 0.8689212884442749, 0.8689404808312516, 0.8689392400557282, 0.8689459535086912, 0.8689314605387887, 0.868924227804283, 0.8689295645949637, 0.8689224402463255, 0.8689420580882731, 0.8689534337512215, 0.8689638145289719, 0.8689697886932591, 0.868975602705295, 0.86897463046789, 0.8689874151471108, 0.8689912183586571, 0.8689997355465727, 0.8690088221647156, 0.8689935429928517, 0.8690111273865163, 0.8690041842202229, 0.8689992437659221, 0.8690077819839312, 0.8690151861945848, 0.8690171322870943, 0.8690280679357762, 0.86901885999017, 0.8690223865751001, 0.8690253599067977, 0.869024324579112, 0.869037277499082, 0.8690332850166932, 0.8690332769281957, 0.8690457445383127, 0.8690363942351498, 0.8690450602514205, 0.8690429604774575, 0.8690497677569922, 0.8690545059988544, 0.8690499408508396, 0.8690512867768312, 0.869057163879148, 0.8690527653541826, 0.8690581652351442, 0.8690572852066112, 0.8690552663176238, 0.8690608538517284, 0.8690611304783445, 0.8690680736446378, 0.8690614426943497, 0.8690608894411177, 0.8690598379364367, 0.8690586262795043, 0.8690621528644342, 0.8690703643071428, 0.8690717312632279, 0.8690779723479345, 0.8690718461198932, 0.869075435795104, 0.8690726954121355, 0.8690819486533279, 0.8690769515795442, 0.8690770923194014, 0.8690770729070072, 0.8690823886675945, 0.8690822074852493, 0.8690834919386596, 0.8690823660198012, 0.8690914510202447, 0.869087178675841, 0.8690880829698666, 0.8690854008240803]}],\n",
       "                        {\"template\": {\"data\": {\"bar\": [{\"error_x\": {\"color\": \"#2a3f5f\"}, \"error_y\": {\"color\": \"#2a3f5f\"}, \"marker\": {\"line\": {\"color\": \"#E5ECF6\", \"width\": 0.5}}, \"type\": \"bar\"}], \"barpolar\": [{\"marker\": {\"line\": {\"color\": \"#E5ECF6\", \"width\": 0.5}}, \"type\": \"barpolar\"}], \"carpet\": [{\"aaxis\": {\"endlinecolor\": \"#2a3f5f\", \"gridcolor\": \"white\", \"linecolor\": \"white\", \"minorgridcolor\": \"white\", \"startlinecolor\": \"#2a3f5f\"}, \"baxis\": {\"endlinecolor\": \"#2a3f5f\", \"gridcolor\": \"white\", \"linecolor\": \"white\", \"minorgridcolor\": \"white\", \"startlinecolor\": \"#2a3f5f\"}, \"type\": \"carpet\"}], \"choropleth\": [{\"colorbar\": {\"outlinewidth\": 0, \"ticks\": \"\"}, \"type\": \"choropleth\"}], \"contour\": [{\"colorbar\": {\"outlinewidth\": 0, \"ticks\": \"\"}, \"colorscale\": [[0.0, \"#0d0887\"], [0.1111111111111111, \"#46039f\"], [0.2222222222222222, \"#7201a8\"], [0.3333333333333333, \"#9c179e\"], [0.4444444444444444, \"#bd3786\"], [0.5555555555555556, \"#d8576b\"], [0.6666666666666666, \"#ed7953\"], [0.7777777777777778, \"#fb9f3a\"], [0.8888888888888888, \"#fdca26\"], [1.0, \"#f0f921\"]], \"type\": \"contour\"}], \"contourcarpet\": [{\"colorbar\": {\"outlinewidth\": 0, \"ticks\": \"\"}, \"type\": \"contourcarpet\"}], \"heatmap\": [{\"colorbar\": {\"outlinewidth\": 0, \"ticks\": \"\"}, \"colorscale\": [[0.0, \"#0d0887\"], [0.1111111111111111, \"#46039f\"], [0.2222222222222222, \"#7201a8\"], [0.3333333333333333, \"#9c179e\"], [0.4444444444444444, \"#bd3786\"], [0.5555555555555556, \"#d8576b\"], [0.6666666666666666, \"#ed7953\"], [0.7777777777777778, \"#fb9f3a\"], [0.8888888888888888, \"#fdca26\"], [1.0, \"#f0f921\"]], \"type\": \"heatmap\"}], \"heatmapgl\": [{\"colorbar\": {\"outlinewidth\": 0, \"ticks\": \"\"}, \"colorscale\": [[0.0, \"#0d0887\"], [0.1111111111111111, \"#46039f\"], [0.2222222222222222, \"#7201a8\"], [0.3333333333333333, \"#9c179e\"], [0.4444444444444444, \"#bd3786\"], [0.5555555555555556, \"#d8576b\"], [0.6666666666666666, \"#ed7953\"], [0.7777777777777778, \"#fb9f3a\"], [0.8888888888888888, \"#fdca26\"], [1.0, \"#f0f921\"]], \"type\": \"heatmapgl\"}], \"histogram\": [{\"marker\": {\"colorbar\": {\"outlinewidth\": 0, \"ticks\": \"\"}}, \"type\": \"histogram\"}], \"histogram2d\": [{\"colorbar\": {\"outlinewidth\": 0, \"ticks\": \"\"}, \"colorscale\": [[0.0, \"#0d0887\"], [0.1111111111111111, \"#46039f\"], [0.2222222222222222, \"#7201a8\"], [0.3333333333333333, \"#9c179e\"], [0.4444444444444444, \"#bd3786\"], [0.5555555555555556, \"#d8576b\"], [0.6666666666666666, \"#ed7953\"], [0.7777777777777778, \"#fb9f3a\"], [0.8888888888888888, \"#fdca26\"], [1.0, \"#f0f921\"]], \"type\": \"histogram2d\"}], \"histogram2dcontour\": [{\"colorbar\": {\"outlinewidth\": 0, \"ticks\": \"\"}, \"colorscale\": [[0.0, \"#0d0887\"], [0.1111111111111111, \"#46039f\"], [0.2222222222222222, \"#7201a8\"], [0.3333333333333333, \"#9c179e\"], [0.4444444444444444, \"#bd3786\"], [0.5555555555555556, \"#d8576b\"], [0.6666666666666666, \"#ed7953\"], [0.7777777777777778, \"#fb9f3a\"], [0.8888888888888888, \"#fdca26\"], [1.0, \"#f0f921\"]], \"type\": \"histogram2dcontour\"}], \"mesh3d\": [{\"colorbar\": {\"outlinewidth\": 0, \"ticks\": \"\"}, \"type\": \"mesh3d\"}], \"parcoords\": [{\"line\": {\"colorbar\": {\"outlinewidth\": 0, \"ticks\": \"\"}}, \"type\": \"parcoords\"}], \"scatter\": [{\"marker\": {\"colorbar\": {\"outlinewidth\": 0, \"ticks\": \"\"}}, \"type\": \"scatter\"}], \"scatter3d\": [{\"line\": {\"colorbar\": {\"outlinewidth\": 0, \"ticks\": \"\"}}, \"marker\": {\"colorbar\": {\"outlinewidth\": 0, \"ticks\": \"\"}}, \"type\": \"scatter3d\"}], \"scattercarpet\": [{\"marker\": {\"colorbar\": {\"outlinewidth\": 0, \"ticks\": \"\"}}, \"type\": \"scattercarpet\"}], \"scattergeo\": [{\"marker\": {\"colorbar\": {\"outlinewidth\": 0, \"ticks\": \"\"}}, \"type\": \"scattergeo\"}], \"scattergl\": [{\"marker\": {\"colorbar\": {\"outlinewidth\": 0, \"ticks\": \"\"}}, \"type\": \"scattergl\"}], \"scattermapbox\": [{\"marker\": {\"colorbar\": {\"outlinewidth\": 0, \"ticks\": \"\"}}, \"type\": \"scattermapbox\"}], \"scatterpolar\": [{\"marker\": {\"colorbar\": {\"outlinewidth\": 0, \"ticks\": \"\"}}, \"type\": \"scatterpolar\"}], \"scatterpolargl\": [{\"marker\": {\"colorbar\": {\"outlinewidth\": 0, \"ticks\": \"\"}}, \"type\": \"scatterpolargl\"}], \"scatterternary\": [{\"marker\": {\"colorbar\": {\"outlinewidth\": 0, \"ticks\": \"\"}}, \"type\": \"scatterternary\"}], \"surface\": [{\"colorbar\": {\"outlinewidth\": 0, \"ticks\": \"\"}, \"colorscale\": [[0.0, \"#0d0887\"], [0.1111111111111111, \"#46039f\"], [0.2222222222222222, \"#7201a8\"], [0.3333333333333333, \"#9c179e\"], [0.4444444444444444, \"#bd3786\"], [0.5555555555555556, \"#d8576b\"], [0.6666666666666666, \"#ed7953\"], [0.7777777777777778, \"#fb9f3a\"], [0.8888888888888888, \"#fdca26\"], [1.0, \"#f0f921\"]], \"type\": \"surface\"}], \"table\": [{\"cells\": {\"fill\": {\"color\": \"#EBF0F8\"}, \"line\": {\"color\": \"white\"}}, \"header\": {\"fill\": {\"color\": \"#C8D4E3\"}, \"line\": {\"color\": \"white\"}}, \"type\": \"table\"}]}, \"layout\": {\"annotationdefaults\": {\"arrowcolor\": \"#2a3f5f\", \"arrowhead\": 0, \"arrowwidth\": 1}, \"colorscale\": {\"diverging\": [[0, \"#8e0152\"], [0.1, \"#c51b7d\"], [0.2, \"#de77ae\"], [0.3, \"#f1b6da\"], [0.4, \"#fde0ef\"], [0.5, \"#f7f7f7\"], [0.6, \"#e6f5d0\"], [0.7, \"#b8e186\"], [0.8, \"#7fbc41\"], [0.9, \"#4d9221\"], [1, \"#276419\"]], \"sequential\": [[0.0, \"#0d0887\"], [0.1111111111111111, \"#46039f\"], [0.2222222222222222, \"#7201a8\"], [0.3333333333333333, \"#9c179e\"], [0.4444444444444444, \"#bd3786\"], [0.5555555555555556, \"#d8576b\"], [0.6666666666666666, \"#ed7953\"], [0.7777777777777778, \"#fb9f3a\"], [0.8888888888888888, \"#fdca26\"], [1.0, \"#f0f921\"]], \"sequentialminus\": [[0.0, \"#0d0887\"], [0.1111111111111111, \"#46039f\"], [0.2222222222222222, \"#7201a8\"], [0.3333333333333333, \"#9c179e\"], [0.4444444444444444, \"#bd3786\"], [0.5555555555555556, \"#d8576b\"], [0.6666666666666666, \"#ed7953\"], [0.7777777777777778, \"#fb9f3a\"], [0.8888888888888888, \"#fdca26\"], [1.0, \"#f0f921\"]]}, \"colorway\": [\"#636efa\", \"#EF553B\", \"#00cc96\", \"#ab63fa\", \"#FFA15A\", \"#19d3f3\", \"#FF6692\", \"#B6E880\", \"#FF97FF\", \"#FECB52\"], \"font\": {\"color\": \"#2a3f5f\"}, \"geo\": {\"bgcolor\": \"white\", \"lakecolor\": \"white\", \"landcolor\": \"#E5ECF6\", \"showlakes\": true, \"showland\": true, \"subunitcolor\": \"white\"}, \"hoverlabel\": {\"align\": \"left\"}, \"hovermode\": \"closest\", \"mapbox\": {\"style\": \"light\"}, \"paper_bgcolor\": \"white\", \"plot_bgcolor\": \"#E5ECF6\", \"polar\": {\"angularaxis\": {\"gridcolor\": \"white\", \"linecolor\": \"white\", \"ticks\": \"\"}, \"bgcolor\": \"#E5ECF6\", \"radialaxis\": {\"gridcolor\": \"white\", \"linecolor\": \"white\", \"ticks\": \"\"}}, \"scene\": {\"xaxis\": {\"backgroundcolor\": \"#E5ECF6\", \"gridcolor\": \"white\", \"gridwidth\": 2, \"linecolor\": \"white\", \"showbackground\": true, \"ticks\": \"\", \"zerolinecolor\": \"white\"}, \"yaxis\": {\"backgroundcolor\": \"#E5ECF6\", \"gridcolor\": \"white\", \"gridwidth\": 2, \"linecolor\": \"white\", \"showbackground\": true, \"ticks\": \"\", \"zerolinecolor\": \"white\"}, \"zaxis\": {\"backgroundcolor\": \"#E5ECF6\", \"gridcolor\": \"white\", \"gridwidth\": 2, \"linecolor\": \"white\", \"showbackground\": true, \"ticks\": \"\", \"zerolinecolor\": \"white\"}}, \"shapedefaults\": {\"line\": {\"color\": \"#2a3f5f\"}}, \"ternary\": {\"aaxis\": {\"gridcolor\": \"white\", \"linecolor\": \"white\", \"ticks\": \"\"}, \"baxis\": {\"gridcolor\": \"white\", \"linecolor\": \"white\", \"ticks\": \"\"}, \"bgcolor\": \"#E5ECF6\", \"caxis\": {\"gridcolor\": \"white\", \"linecolor\": \"white\", \"ticks\": \"\"}}, \"title\": {\"x\": 0.05}, \"xaxis\": {\"automargin\": true, \"gridcolor\": \"white\", \"linecolor\": \"white\", \"ticks\": \"\", \"zerolinecolor\": \"white\", \"zerolinewidth\": 2}, \"yaxis\": {\"automargin\": true, \"gridcolor\": \"white\", \"linecolor\": \"white\", \"ticks\": \"\", \"zerolinecolor\": \"white\", \"zerolinewidth\": 2}}}},\n",
       "                        {\"responsive\": true}\n",
       "                    ).then(function(){\n",
       "                            \n",
       "var gd = document.getElementById('628545a5-066d-47c0-adea-55e7f7ebe53d');\n",
       "var x = new MutationObserver(function (mutations, observer) {{\n",
       "        var display = window.getComputedStyle(gd).display;\n",
       "        if (!display || display === 'none') {{\n",
       "            console.log([gd, 'removed!']);\n",
       "            Plotly.purge(gd);\n",
       "            observer.disconnect();\n",
       "        }}\n",
       "}});\n",
       "\n",
       "// Listen for the removal of the full notebook cells\n",
       "var notebookContainer = gd.closest('#notebook-container');\n",
       "if (notebookContainer) {{\n",
       "    x.observe(notebookContainer, {childList: true});\n",
       "}}\n",
       "\n",
       "// Listen for the clearing of the current output cell\n",
       "var outputEl = gd.closest('.output');\n",
       "if (outputEl) {{\n",
       "    x.observe(outputEl, {childList: true});\n",
       "}}\n",
       "\n",
       "                        })\n",
       "                };\n",
       "                });\n",
       "            </script>\n",
       "        </div>"
      ]
     },
     "metadata": {},
     "output_type": "display_data"
    }
   ],
   "source": [
    "# Chunk size 10, capped at 40\n",
    "fig = go.Figure()\n",
    "fig.add_trace(go.Scatter(y=aucs))\n",
    "# fig.add_trace(go.Histogram/(x=pred_means[labels==False]))"
   ]
  },
  {
   "cell_type": "code",
   "execution_count": 18,
   "metadata": {},
   "outputs": [
    {
     "data": {
      "text/plain": [
       "'../temp_data/reddit/multidoc_20_limitted_data_40_capped/model_20.p'"
      ]
     },
     "execution_count": 18,
     "metadata": {},
     "output_type": "execute_result"
    }
   ],
   "source": [
    "TEMP_DATA + 'model_' + str(chunk_sz) + '.p'"
   ]
  },
  {
   "cell_type": "code",
   "execution_count": 19,
   "metadata": {
    "collapsed": true
   },
   "outputs": [],
   "source": [
    "with open(TEMP_DATA + 'model_' + str(chunk_sz) + '.p', 'wb') as f:\n",
    "    pickle.dump((clf, transformer, scaler, secondary_scaler, aucs ), f)"
   ]
  }
 ],
 "metadata": {
  "kernelspec": {
   "display_name": "Python 3",
   "language": "python",
   "name": "python3"
  },
  "language_info": {
   "codemirror_mode": {
    "name": "ipython",
    "version": 3
   },
   "file_extension": ".py",
   "mimetype": "text/x-python",
   "name": "python",
   "nbconvert_exporter": "python",
   "pygments_lexer": "ipython3",
   "version": "3.6.9"
  }
 },
 "nbformat": 4,
 "nbformat_minor": 2
}
