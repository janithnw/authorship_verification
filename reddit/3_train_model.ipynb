{
 "cells": [
  {
   "cell_type": "code",
   "execution_count": 1,
   "metadata": {
    "collapsed": true
   },
   "outputs": [],
   "source": [
    "%load_ext autoreload\n",
    "%autoreload 2\n",
    "import sys\n",
    "sys.path.append(\"../\")\n",
    "import warnings\n",
    "warnings.filterwarnings(\"ignore\")"
   ]
  },
  {
   "cell_type": "code",
   "execution_count": 2,
   "metadata": {
    "collapsed": true
   },
   "outputs": [],
   "source": [
    "import pickle\n",
    "import glob\n",
    "from tqdm.notebook import trange, tqdm\n",
    "import json\n",
    "import re\n",
    "import pandas as pd\n",
    "import numpy as np\n",
    "from collections import defaultdict\n",
    "from features import merge_entries\n",
    "from sklearn.preprocessing import StandardScaler\n",
    "from features import merge_entries, get_transformer\n",
    "\n",
    "\n",
    "from utills import cartesian_product, chunker\n",
    "from train_utils import generate_unique_pairs, get_random_author_excluding, generate_doc_pairs_no_chunking, fit_transformers_no_chunking, vectorize_no_chunking\n",
    "\n",
    "\n",
    "from sklearn.linear_model import SGDClassifier\n",
    "from sklearn.metrics import precision_recall_curve\n",
    "from sklearn.metrics import roc_curve, auc"
   ]
  },
  {
   "cell_type": "code",
   "execution_count": 3,
   "metadata": {
    "collapsed": true
   },
   "outputs": [],
   "source": [
    "import matplotlib.pyplot as plt\n",
    "import matplotlib.style as style\n",
    "import tikzplotlib\n",
    "%matplotlib inline"
   ]
  },
  {
   "cell_type": "code",
   "execution_count": 4,
   "metadata": {},
   "outputs": [
    {
     "data": {
      "text/html": [
       "        <script type=\"text/javascript\">\n",
       "        window.PlotlyConfig = {MathJaxConfig: 'local'};\n",
       "        if (window.MathJax) {MathJax.Hub.Config({SVG: {font: \"STIX-Web\"}});}\n",
       "        if (typeof require !== 'undefined') {\n",
       "        require.undef(\"plotly\");\n",
       "        requirejs.config({\n",
       "            paths: {\n",
       "                'plotly': ['https://cdn.plot.ly/plotly-latest.min']\n",
       "            }\n",
       "        });\n",
       "        require(['plotly'], function(Plotly) {\n",
       "            window._Plotly = Plotly;\n",
       "        });\n",
       "        }\n",
       "        </script>\n",
       "        "
      ]
     },
     "metadata": {},
     "output_type": "display_data"
    }
   ],
   "source": [
    "\n",
    "from plotly.offline import init_notebook_mode\n",
    "import plotly.offline as py\n",
    "import plotly.graph_objs as go\n",
    "init_notebook_mode(connected=True)"
   ]
  },
  {
   "cell_type": "code",
   "execution_count": 5,
   "metadata": {
    "collapsed": true
   },
   "outputs": [],
   "source": [
    "BASE_PATH = '../data/reddit/'\n",
    "COMPUTED_DATA_PATH = '../temp_data/reddit/preprocessed/'\n",
    "TEMP_DATA = '../temp_data/reddit/unchunked/'\n",
    "FIGURES_PATH = '../figures/'"
   ]
  },
  {
   "cell_type": "code",
   "execution_count": 6,
   "metadata": {
    "collapsed": true
   },
   "outputs": [],
   "source": [
    "with open(COMPUTED_DATA_PATH + 'metadata.p', 'rb') as f:\n",
    "    (train_files, test_files, min_count, author_mapping) = pickle.load(f)"
   ]
  },
  {
   "cell_type": "code",
   "execution_count": 7,
   "metadata": {},
   "outputs": [
    {
     "data": {
      "text/plain": [
       "21383"
      ]
     },
     "execution_count": 7,
     "metadata": {},
     "output_type": "execute_result"
    }
   ],
   "source": [
    "len(train_files)"
   ]
  },
  {
   "cell_type": "markdown",
   "metadata": {},
   "source": [
    "Dataset Stats\n",
    "==="
   ]
  },
  {
   "cell_type": "code",
   "execution_count": 8,
   "metadata": {
    "collapsed": true
   },
   "outputs": [],
   "source": [
    "with open(COMPUTED_DATA_PATH + 'training_meta_data_no_chunking.p', 'rb') as f:\n",
    "    (author_to_doc_idx, author_to_doc_idx_test, author_subreddit, author_subreddit_test, x_shape, x_shape_test) = pickle.load(f)"
   ]
  },
  {
   "cell_type": "code",
   "execution_count": 14,
   "metadata": {},
   "outputs": [
    {
     "name": "stdout",
     "output_type": "stream",
     "text": [
      "Subreddits Per Author (Mean) 2.6936435244550285\n",
      "Subreddits Per Author (Std) 1.1728011061414088\n"
     ]
    }
   ],
   "source": [
    "subreddits_per_author = [len(v) for v in author_mapping.values()]\n",
    "print('Subreddits Per Author (Mean)', np.mean(subreddits_per_author))\n",
    "print('Subreddits Per Author (Std)', np.std(subreddits_per_author))"
   ]
  },
  {
   "cell_type": "code",
   "execution_count": null,
   "metadata": {
    "collapsed": true
   },
   "outputs": [],
   "source": [
    "train_authors = np.unique(list(author_to_root.values()))\n",
    "test_authors = np.unique(list(author_to_root_test.values()))"
   ]
  },
  {
   "cell_type": "code",
   "execution_count": 19,
   "metadata": {},
   "outputs": [
    {
     "data": {
      "application/vnd.jupyter.widget-view+json": {
       "model_id": "60ea1554ab944d6b8bc171cb25a27a1c"
      }
     },
     "metadata": {},
     "output_type": "display_data"
    },
    {
     "name": "stdout",
     "output_type": "stream",
     "text": [
      "\n"
     ]
    }
   ],
   "source": [
    "preprocessed_path = COMPUTED_DATA_PATH + 'train.jsonl'\n",
    "comments_per_sr = []\n",
    "tokens_per_comment = []\n",
    "chars_per_comment = []\n",
    "with open(preprocessed_path, 'r') as f:\n",
    "    for l in tqdm(f):\n",
    "        d = json.loads(l)\n",
    "        comments_per_sr.append(len(d['data']))\n",
    "        tokens_per_comment.extend([len(c['tokens']) for c in d['data']])\n",
    "        chars_per_comment.extend([len(c['preprocessed']) for c in d['data']])\n",
    "        \n",
    "#         if d['username'] in sampled_authors:\n",
    "#             doc = merge_entries(d['data']) \n",
    "#             author_to_doc_idx[d['username']] = len(X)\n",
    "#             author_subreddit[d['username']] = d['subreddit']\n",
    "#             X.append(doc)\n",
    "#             Y.append(d['username'])"
   ]
  },
  {
   "cell_type": "code",
   "execution_count": 26,
   "metadata": {},
   "outputs": [
    {
     "name": "stdout",
     "output_type": "stream",
     "text": [
      "Comments Per Subreddit (Mean) 111.55188491366182\n",
      "Comments Per Subreddit (Std) 138.6526317508537\n",
      "Tokens Per Comment (Mean) 32.419168200261026\n",
      "Tokens Per Comment (Std) 62.13282517887417\n",
      "Chars Per Comment(Mean) 156.98829756533405\n",
      "Chars Per Comment (Std) 304.2594967448133\n"
     ]
    }
   ],
   "source": [
    "print('Comments Per Subreddit (Mean)', np.mean(comments_per_sr))\n",
    "print('Comments Per Subreddit (Std)', np.std(comments_per_sr))\n",
    "\n",
    "print('Tokens Per Comment (Mean)', np.mean(tokens_per_comment))\n",
    "print('Tokens Per Comment (Std)', np.std(tokens_per_comment))\n",
    "\n",
    "print('Chars Per Comment(Mean)', np.mean(chars_per_comment))\n",
    "print('Chars Per Comment (Std)', np.std(chars_per_comment))"
   ]
  },
  {
   "cell_type": "markdown",
   "metadata": {},
   "source": [
    "Vectorize Data\n",
    "==="
   ]
  },
  {
   "cell_type": "code",
   "execution_count": 8,
   "metadata": {},
   "outputs": [
    {
     "name": "stdout",
     "output_type": "stream",
     "text": [
      "Sampled: 5125\n",
      "Reading preprocessed data...\n"
     ]
    },
    {
     "data": {
      "application/vnd.jupyter.widget-view+json": {
       "model_id": "da4cea178f1246098c8c4a87a450bb43"
      }
     },
     "metadata": {},
     "output_type": "display_data"
    },
    {
     "name": "stdout",
     "output_type": "stream",
     "text": [
      "\n",
      "Fitting transformer\n",
      "Generating pairs\n",
      "new2\n"
     ]
    },
    {
     "data": {
      "application/vnd.jupyter.widget-view+json": {
       "model_id": "47ea118c72f141adb1de566d5c07a040"
      }
     },
     "metadata": {},
     "output_type": "display_data"
    },
    {
     "name": "stdout",
     "output_type": "stream",
     "text": [
      "\n"
     ]
    },
    {
     "data": {
      "application/vnd.jupyter.widget-view+json": {
       "model_id": "f90dad17f1674aa588df082043623145"
      }
     },
     "metadata": {},
     "output_type": "display_data"
    },
    {
     "name": "stdout",
     "output_type": "stream",
     "text": [
      "\n"
     ]
    },
    {
     "data": {
      "application/vnd.jupyter.widget-view+json": {
       "model_id": "f5c78c3bf65049d6bf865cf0cb26923c"
      }
     },
     "metadata": {},
     "output_type": "display_data"
    },
    {
     "name": "stdout",
     "output_type": "stream",
     "text": [
      "\n",
      "4565 4241 2319\n",
      "4565 1369 2319\n"
     ]
    }
   ],
   "source": [
    "transformer, scaler, secondary_scaler = fit_transformers_no_chunking(COMPUTED_DATA_PATH + 'train.jsonl', author_mapping, sample_fraction=0.05)"
   ]
  },
  {
   "cell_type": "code",
   "execution_count": 9,
   "metadata": {},
   "outputs": [
    {
     "data": {
      "text/plain": [
       "1.2377982646420824"
      ]
     },
     "execution_count": 9,
     "metadata": {},
     "output_type": "execute_result"
    }
   ],
   "source": [
    "4565/(1369+2319)"
   ]
  },
  {
   "cell_type": "code",
   "execution_count": 10,
   "metadata": {},
   "outputs": [
    {
     "name": "stdout",
     "output_type": "stream",
     "text": [
      "Precomputing record size...\n"
     ]
    },
    {
     "data": {
      "application/vnd.jupyter.widget-view+json": {
       "model_id": "138b988906274fa2be4f1b58df5c2e2e"
      }
     },
     "metadata": {},
     "output_type": "display_data"
    },
    {
     "name": "stdout",
     "output_type": "stream",
     "text": [
      "\n"
     ]
    },
    {
     "data": {
      "application/vnd.jupyter.widget-view+json": {
       "model_id": "56248c893b2741d9aa515e60f492fb2c"
      }
     },
     "metadata": {},
     "output_type": "display_data"
    },
    {
     "name": "stdout",
     "output_type": "stream",
     "text": [
      "\n"
     ]
    }
   ],
   "source": [
    "XX_train, author_to_doc_idx, author_subreddit, x_shape = vectorize_no_chunking(\n",
    "    preprocessed_path = COMPUTED_DATA_PATH + 'train.jsonl', \n",
    "    vectorized_x_path = TEMP_DATA + 'XX_train.npy', \n",
    "    transformer=transformer,\n",
    "    scaler=scaler\n",
    ")"
   ]
  },
  {
   "cell_type": "code",
   "execution_count": 12,
   "metadata": {},
   "outputs": [
    {
     "name": "stdout",
     "output_type": "stream",
     "text": [
      "Precomputing record size...\n"
     ]
    },
    {
     "data": {
      "application/vnd.jupyter.widget-view+json": {
       "model_id": "3eb2d5adf9af4f90ad42bc926ccd3031"
      }
     },
     "metadata": {},
     "output_type": "display_data"
    },
    {
     "name": "stdout",
     "output_type": "stream",
     "text": [
      "\n"
     ]
    },
    {
     "data": {
      "application/vnd.jupyter.widget-view+json": {
       "model_id": "ac3a2e15a1b64b2890543626f0f74479"
      }
     },
     "metadata": {},
     "output_type": "display_data"
    },
    {
     "name": "stdout",
     "output_type": "stream",
     "text": [
      "\n"
     ]
    }
   ],
   "source": [
    "XX_test, author_to_doc_idx_test, author_subreddit_test, x_shape_test = vectorize_no_chunking(\n",
    "    preprocessed_path = COMPUTED_DATA_PATH + 'test.jsonl', \n",
    "    vectorized_x_path = TEMP_DATA + 'XX_test.npy', \n",
    "    transformer=transformer,\n",
    "    scaler=scaler\n",
    ")"
   ]
  },
  {
   "cell_type": "code",
   "execution_count": 26,
   "metadata": {},
   "outputs": [
    {
     "name": "stdout",
     "output_type": "stream",
     "text": [
      "Total number of authors: 46465\n",
      "Train authors: 30477\n",
      "Test authors: 15988\n"
     ]
    }
   ],
   "source": [
    "train_authors = np.unique(list(author_to_root.values()))\n",
    "test_authors = np.unique(list(author_to_root_test.values()))\n",
    "\n",
    "print('Total number of authors:', len(train_authors) + len(test_authors))\n",
    "print('Train authors:', len(train_authors))\n",
    "print('Test authors:', len(test_authors))"
   ]
  },
  {
   "cell_type": "code",
   "execution_count": 38,
   "metadata": {},
   "outputs": [
    {
     "name": "stdout",
     "output_type": "stream",
     "text": [
      "Total number of authors: 47184\n",
      "Train authors: 30944\n",
      "Test authors: 16240\n"
     ]
    }
   ],
   "source": [
    "# Uncapped, bots removed\n",
    "print('Total number of authors:', len(train_authors) + len(test_authors))\n",
    "print('Train authors:', len(train_authors))\n",
    "print('Test authors:', len(test_authors))"
   ]
  },
  {
   "cell_type": "code",
   "execution_count": null,
   "metadata": {
    "collapsed": true
   },
   "outputs": [],
   "source": [
    "# Capped at 100\n",
    "print('Total number of authors:', len(train_authors) + len(test_authors))\n",
    "print('Train authors:', len(train_authors))\n",
    "print('Test authors:', len(test_authors))"
   ]
  },
  {
   "cell_type": "code",
   "execution_count": 22,
   "metadata": {},
   "outputs": [
    {
     "name": "stdout",
     "output_type": "stream",
     "text": [
      "Total number of authors: 47386\n",
      "Train authors: 31072\n",
      "Test authors: 16314\n"
     ]
    }
   ],
   "source": [
    "# Uncapped\n",
    "print('Total number of authors:', len(train_authors) + len(test_authors))\n",
    "print('Train authors:', len(train_authors))\n",
    "print('Test authors:', len(test_authors))"
   ]
  },
  {
   "cell_type": "code",
   "execution_count": 14,
   "metadata": {
    "collapsed": true
   },
   "outputs": [],
   "source": [
    "author_mapping = defaultdict(set)\n",
    "author_to_root = {}\n",
    "for y in author_to_doc_idx.keys():\n",
    "    u = re.search(r'(.*)_[A-Z]+$', y).group(1)\n",
    "    author_mapping[u].add(y)\n",
    "    author_to_root[y] = u\n",
    "\n",
    "subreddit_to_author = defaultdict(list)\n",
    "for k, v in author_subreddit.items():\n",
    "    subreddit_to_author[v].append(k)"
   ]
  },
  {
   "cell_type": "code",
   "execution_count": 19,
   "metadata": {},
   "outputs": [
    {
     "name": "stdout",
     "output_type": "stream",
     "text": [
      "new2\n"
     ]
    },
    {
     "data": {
      "application/vnd.jupyter.widget-view+json": {
       "model_id": "a6f0877262974f3a92470e3011378055"
      }
     },
     "metadata": {},
     "output_type": "display_data"
    },
    {
     "name": "stdout",
     "output_type": "stream",
     "text": [
      "\n"
     ]
    },
    {
     "data": {
      "application/vnd.jupyter.widget-view+json": {
       "model_id": "f692e743977244c3a9b182547d157d48"
      }
     },
     "metadata": {},
     "output_type": "display_data"
    },
    {
     "name": "stdout",
     "output_type": "stream",
     "text": [
      "\n"
     ]
    },
    {
     "data": {
      "application/vnd.jupyter.widget-view+json": {
       "model_id": "fe76e19754c3410db0dc62854f7824d0"
      }
     },
     "metadata": {},
     "output_type": "display_data"
    },
    {
     "name": "stdout",
     "output_type": "stream",
     "text": [
      "\n",
      "92615 83295 75753\n",
      "92615 27784 64830\n"
     ]
    }
   ],
   "source": [
    "X_idxs_train, Y_train = generate_doc_pairs_no_chunking(author_mapping, subreddit_to_author, author_to_root, author_to_doc_idx, author_subreddit)"
   ]
  },
  {
   "cell_type": "code",
   "execution_count": 20,
   "metadata": {},
   "outputs": [
    {
     "data": {
      "text/plain": [
       "(185229, 0.5000026993613311)"
      ]
     },
     "execution_count": 20,
     "metadata": {},
     "output_type": "execute_result"
    }
   ],
   "source": [
    "len(Y_train), Y_train.mean()"
   ]
  },
  {
   "cell_type": "code",
   "execution_count": 21,
   "metadata": {},
   "outputs": [
    {
     "name": "stdout",
     "output_type": "stream",
     "text": [
      "new2\n"
     ]
    },
    {
     "data": {
      "application/vnd.jupyter.widget-view+json": {
       "model_id": "1a6799c360454ba4a6216344a2232851"
      }
     },
     "metadata": {},
     "output_type": "display_data"
    },
    {
     "name": "stdout",
     "output_type": "stream",
     "text": [
      "\n"
     ]
    },
    {
     "data": {
      "application/vnd.jupyter.widget-view+json": {
       "model_id": "eadaf21856e9493ea2e1d6516008c8c6"
      }
     },
     "metadata": {},
     "output_type": "display_data"
    },
    {
     "name": "stdout",
     "output_type": "stream",
     "text": [
      "\n"
     ]
    },
    {
     "data": {
      "application/vnd.jupyter.widget-view+json": {
       "model_id": "32421a4d4dd8442c83213e44890e511c"
      }
     },
     "metadata": {},
     "output_type": "display_data"
    },
    {
     "name": "stdout",
     "output_type": "stream",
     "text": [
      "\n",
      "45652 42961 36920\n",
      "45652 13695 31956\n"
     ]
    }
   ],
   "source": [
    "author_mapping_test = defaultdict(set)\n",
    "author_to_root_test = {}\n",
    "for y in author_to_doc_idx_test.keys():\n",
    "    u = re.search(r'(.*)_[A-Z]+$', y).group(1)\n",
    "    author_mapping_test[u].add(y)\n",
    "    author_to_root_test[y] = u\n",
    "\n",
    "subreddit_to_author_test = defaultdict(list)\n",
    "for k, v in author_subreddit_test.items():\n",
    "    subreddit_to_author_test[v].append(k)\n",
    "    \n",
    "X_idxs_test, Y_test = generate_doc_pairs_no_chunking(author_mapping_test, subreddit_to_author_test, author_to_root_test, author_to_doc_idx_test, author_subreddit_test)"
   ]
  },
  {
   "cell_type": "code",
   "execution_count": 22,
   "metadata": {},
   "outputs": [
    {
     "data": {
      "text/plain": [
       "(91303, 0.5000054762713164)"
      ]
     },
     "execution_count": 22,
     "metadata": {},
     "output_type": "execute_result"
    }
   ],
   "source": [
    "len(Y_test), Y_test.mean()"
   ]
  },
  {
   "cell_type": "code",
   "execution_count": 23,
   "metadata": {},
   "outputs": [
    {
     "name": "stdout",
     "output_type": "stream",
     "text": [
      "Total number of authors: 46465\n",
      "Train authors: 30477\n",
      "Test authors: 15988\n"
     ]
    }
   ],
   "source": [
    "train_authors = np.unique(list(author_to_root.values()))\n",
    "test_authors = np.unique(list(author_to_root_test.values()))\n",
    "\n",
    "print('Total number of authors:', len(train_authors) + len(test_authors))\n",
    "print('Train authors:', len(train_authors))\n",
    "print('Test authors:', len(test_authors))\n"
   ]
  },
  {
   "cell_type": "code",
   "execution_count": 24,
   "metadata": {
    "collapsed": true
   },
   "outputs": [],
   "source": [
    "with open(TEMP_DATA + 'experiment_data.p', 'wb') as f:\n",
    "    pickle.dump((\n",
    "        author_to_doc_idx, \n",
    "        author_to_doc_idx_test, \n",
    "        author_subreddit, \n",
    "        author_subreddit_test, \n",
    "        x_shape, \n",
    "        x_shape_test,\n",
    "        X_idxs_train,\n",
    "        Y_train,\n",
    "        X_idxs_test,\n",
    "        Y_test\n",
    "    ), f)"
   ]
  },
  {
   "cell_type": "code",
   "execution_count": 25,
   "metadata": {
    "scrolled": true
   },
   "outputs": [
    {
     "name": "stdout",
     "output_type": "stream",
     "text": [
      "AUC: 0.9451773200886843\n",
      "AUC: 0.9555701485372783\n",
      "AUC: 0.9600148311267251\n",
      "AUC: 0.9613477516398303\n",
      "~~~~~~~~~~~~~~~~~~~~ Epoch:  0\n",
      "AUC: 0.9665923614257099\n",
      "AUC: 0.9679627925768362\n",
      "AUC: 0.9682958840983209\n",
      "AUC: 0.9668613378055525\n",
      "~~~~~~~~~~~~~~~~~~~~ Epoch:  1\n",
      "AUC: 0.9709408481015569\n",
      "AUC: 0.9683628817812073\n",
      "AUC: 0.9702237929658554\n",
      "AUC: 0.9715519308446114\n",
      "~~~~~~~~~~~~~~~~~~~~ Epoch:  2\n",
      "AUC: 0.9702181630899913\n",
      "AUC: 0.9738539788449635\n",
      "AUC: 0.9719306318009583\n",
      "AUC: 0.9724641163417007\n",
      "~~~~~~~~~~~~~~~~~~~~ Epoch:  3\n",
      "AUC: 0.9716154763583416\n",
      "AUC: 0.973871656511169\n",
      "AUC: 0.9741426417894475\n",
      "AUC: 0.973616403203757\n",
      "~~~~~~~~~~~~~~~~~~~~ Epoch:  4\n",
      "AUC: 0.9749942723193438\n",
      "AUC: 0.9768103485070767\n",
      "AUC: 0.9753592262020839\n",
      "AUC: 0.9754691547885845\n",
      "~~~~~~~~~~~~~~~~~~~~ Epoch:  5\n",
      "AUC: 0.9746982178126729\n",
      "AUC: 0.9768783006367313\n",
      "AUC: 0.9769160400859641\n",
      "AUC: 0.9761837458035445\n",
      "~~~~~~~~~~~~~~~~~~~~ Epoch:  6\n",
      "AUC: 0.9763674980074023\n",
      "AUC: 0.9773785315480458\n",
      "AUC: 0.9775131253431418\n",
      "AUC: 0.9773171477402391\n",
      "~~~~~~~~~~~~~~~~~~~~ Epoch:  7\n",
      "AUC: 0.9757015661767426\n",
      "AUC: 0.9770263910931635\n",
      "AUC: 0.9783064762173347\n",
      "AUC: 0.977324080079924\n",
      "~~~~~~~~~~~~~~~~~~~~ Epoch:  8\n",
      "AUC: 0.977099557878336\n",
      "AUC: 0.9775245259017692\n",
      "AUC: 0.9772027613353055\n",
      "AUC: 0.9769786895557881\n",
      "~~~~~~~~~~~~~~~~~~~~ Epoch:  9\n",
      "AUC: 0.9763687060665972\n",
      "AUC: 0.9780496492328126\n",
      "AUC: 0.9787361212699421\n",
      "AUC: 0.9777229820261192\n",
      "~~~~~~~~~~~~~~~~~~~~ Epoch:  10\n",
      "AUC: 0.9776478359439613\n",
      "AUC: 0.9778230653302011\n",
      "AUC: 0.9775197288667145\n",
      "AUC: 0.9773747713637968\n",
      "~~~~~~~~~~~~~~~~~~~~ Epoch:  11\n",
      "AUC: 0.9778415382353736\n",
      "AUC: 0.9783745859547117\n",
      "AUC: 0.9778823050329466\n",
      "AUC: 0.9781354390365129\n",
      "~~~~~~~~~~~~~~~~~~~~ Epoch:  12\n",
      "AUC: 0.9790291660291354\n",
      "AUC: 0.9784795278968669\n",
      "AUC: 0.9790332190277323\n",
      "AUC: 0.9783479806510519\n",
      "~~~~~~~~~~~~~~~~~~~~ Epoch:  13\n",
      "AUC: 0.9782599347368023\n",
      "AUC: 0.9785356666476659\n",
      "AUC: 0.9780116489707996\n",
      "AUC: 0.9790100018900926\n",
      "~~~~~~~~~~~~~~~~~~~~ Epoch:  14\n",
      "AUC: 0.9788555207205153\n",
      "AUC: 0.9792398947548431\n",
      "AUC: 0.9790918971029582\n",
      "AUC: 0.9795201500873543\n",
      "~~~~~~~~~~~~~~~~~~~~ Epoch:  15\n",
      "AUC: 0.9776939278024623\n",
      "AUC: 0.97971143306022\n",
      "AUC: 0.9788060174948572\n",
      "AUC: 0.9784916164892079\n",
      "~~~~~~~~~~~~~~~~~~~~ Epoch:  16\n",
      "AUC: 0.9786399597580281\n",
      "AUC: 0.9788989372479252\n",
      "AUC: 0.9785814256898587\n",
      "AUC: 0.9788101256961591\n",
      "~~~~~~~~~~~~~~~~~~~~ Epoch:  17\n",
      "AUC: 0.9786908854533873\n",
      "AUC: 0.9787081102974046\n",
      "AUC: 0.9798852463770725\n",
      "AUC: 0.9795668083736104\n",
      "~~~~~~~~~~~~~~~~~~~~ Epoch:  18\n",
      "AUC: 0.9784456686377632\n",
      "AUC: 0.9786475009275455\n",
      "AUC: 0.9794797385071868\n",
      "AUC: 0.9791139749847744\n",
      "~~~~~~~~~~~~~~~~~~~~ Epoch:  19\n",
      "AUC: 0.9787294697440172\n",
      "AUC: 0.9792909596570231\n",
      "AUC: 0.9794405941891151\n",
      "AUC: 0.9791317606562723\n",
      "~~~~~~~~~~~~~~~~~~~~ Epoch:  20\n",
      "AUC: 0.978879237082617\n",
      "AUC: 0.9793234300480725\n",
      "AUC: 0.9786587654795087\n",
      "AUC: 0.9791695041057012\n",
      "~~~~~~~~~~~~~~~~~~~~ Epoch:  21\n",
      "AUC: 0.9787358412562215\n",
      "AUC: 0.9800044330172178\n",
      "AUC: 0.980167737019114\n",
      "AUC: 0.9794757775130982\n",
      "~~~~~~~~~~~~~~~~~~~~ Epoch:  22\n",
      "AUC: 0.980054024247188\n",
      "AUC: 0.9791004991244572\n",
      "AUC: 0.9794345858947089\n",
      "AUC: 0.9796770745766542\n",
      "~~~~~~~~~~~~~~~~~~~~ Epoch:  23\n",
      "AUC: 0.9795605328661103\n",
      "AUC: 0.9798668374750362\n",
      "AUC: 0.9790540152467471\n",
      "AUC: 0.9800522433599246\n",
      "~~~~~~~~~~~~~~~~~~~~ Epoch:  24\n",
      "AUC: 0.9794442807697578\n",
      "AUC: 0.979392045410225\n",
      "AUC: 0.9796839101115955\n",
      "AUC: 0.979416277797612\n",
      "~~~~~~~~~~~~~~~~~~~~ Epoch:  25\n",
      "AUC: 0.9793039058913887\n",
      "AUC: 0.9795080518945429\n",
      "AUC: 0.9802604903640277\n",
      "AUC: 0.9796311443260719\n",
      "~~~~~~~~~~~~~~~~~~~~ Epoch:  26\n",
      "AUC: 0.9802672314943432\n",
      "AUC: 0.9794247358120549\n",
      "AUC: 0.9788588264824976\n",
      "AUC: 0.9795264423956773\n",
      "~~~~~~~~~~~~~~~~~~~~ Epoch:  27\n",
      "AUC: 0.9800148559279406\n",
      "AUC: 0.9802004826236486\n",
      "AUC: 0.9795867677516198\n",
      "AUC: 0.9796123258039643\n",
      "~~~~~~~~~~~~~~~~~~~~ Epoch:  28\n",
      "AUC: 0.9800473303191856\n",
      "AUC: 0.9797691878902064\n",
      "AUC: 0.9797830469693015\n",
      "AUC: 0.980054649877844\n",
      "~~~~~~~~~~~~~~~~~~~~ Epoch:  29\n",
      "AUC: 0.9793049587429784\n",
      "AUC: 0.9797517182341935\n",
      "AUC: 0.9798649317816573\n",
      "AUC: 0.9792684625546652\n",
      "~~~~~~~~~~~~~~~~~~~~ Epoch:  30\n",
      "AUC: 0.9801470848071556\n",
      "AUC: 0.9802852995796794\n",
      "AUC: 0.9792393075260687\n",
      "AUC: 0.9794831202728934\n",
      "~~~~~~~~~~~~~~~~~~~~ Epoch:  31\n",
      "AUC: 0.9800684313531363\n",
      "AUC: 0.9797071152486472\n",
      "AUC: 0.9797923746263567\n",
      "AUC: 0.9790062449060003\n",
      "~~~~~~~~~~~~~~~~~~~~ Epoch:  32\n",
      "AUC: 0.9803582375536402\n",
      "AUC: 0.9796982692151915\n",
      "AUC: 0.9804735824055378\n",
      "AUC: 0.9803004827236534\n",
      "~~~~~~~~~~~~~~~~~~~~ Epoch:  33\n",
      "AUC: 0.9798114859628121\n",
      "AUC: 0.9799293749393722\n",
      "AUC: 0.9805471012079593\n",
      "AUC: 0.9804092528533899\n",
      "~~~~~~~~~~~~~~~~~~~~ Epoch:  34\n",
      "AUC: 0.9795446520879523\n",
      "AUC: 0.9796552783086372\n",
      "AUC: 0.9799786685547592\n",
      "AUC: 0.9795327667055684\n",
      "~~~~~~~~~~~~~~~~~~~~ Epoch:  35\n",
      "AUC: 0.9793534795204966\n",
      "AUC: 0.9799742507382861\n",
      "AUC: 0.9800475807314558\n",
      "AUC: 0.9800925189334277\n",
      "~~~~~~~~~~~~~~~~~~~~ Epoch:  36\n",
      "AUC: 0.9801647000703035\n",
      "AUC: 0.9793909421561656\n",
      "AUC: 0.9800189889304577\n",
      "AUC: 0.979120852121754\n",
      "~~~~~~~~~~~~~~~~~~~~ Epoch:  37\n",
      "AUC: 0.9806785876507949\n",
      "AUC: 0.9806574330142177\n",
      "AUC: 0.9797483868709568\n",
      "AUC: 0.979988363429808\n",
      "~~~~~~~~~~~~~~~~~~~~ Epoch:  38\n",
      "AUC: 0.9800564899680083\n",
      "AUC: 0.9805496389323077\n",
      "AUC: 0.9797160092844551\n",
      "AUC: 0.9800022713112944\n",
      "~~~~~~~~~~~~~~~~~~~~ Epoch:  39\n",
      "AUC: 0.9793710035791755\n",
      "AUC: 0.9805460451562126\n",
      "AUC: 0.9805769186690148\n",
      "AUC: 0.9805681326384993\n",
      "~~~~~~~~~~~~~~~~~~~~ Epoch:  40\n",
      "AUC: 0.9793520330496194\n",
      "AUC: 0.9807005023246139\n",
      "AUC: 0.980420022981126\n",
      "AUC: 0.9797957547919849\n",
      "~~~~~~~~~~~~~~~~~~~~ Epoch:  41\n",
      "AUC: 0.9806836614994134\n",
      "AUC: 0.9802500002500122\n",
      "AUC: 0.9805341069712418\n",
      "AUC: 0.9800929405540871\n",
      "~~~~~~~~~~~~~~~~~~~~ Epoch:  42\n",
      "AUC: 0.9804497604382614\n",
      "AUC: 0.9807009519466453\n",
      "AUC: 0.9806553529122928\n",
      "AUC: 0.9796260800779238\n",
      "~~~~~~~~~~~~~~~~~~~~ Epoch:  43\n",
      "AUC: 0.9793456103349063\n",
      "AUC: 0.9808342976805863\n",
      "AUC: 0.9806828006572323\n",
      "AUC: 0.979836506388813\n",
      "~~~~~~~~~~~~~~~~~~~~ Epoch:  44\n",
      "AUC: 0.9803224806015495\n",
      "AUC: 0.9800026665306599\n",
      "AUC: 0.9804885079368888\n",
      "AUC: 0.9798695072058532\n",
      "~~~~~~~~~~~~~~~~~~~~ Epoch:  45\n",
      "AUC: 0.9802307145050108\n",
      "AUC: 0.9803485522790616\n",
      "AUC: 0.9795596560231451\n",
      "AUC: 0.9805922986226325\n",
      "~~~~~~~~~~~~~~~~~~~~ Epoch:  46\n",
      "AUC: 0.9804949722536405\n",
      "AUC: 0.9807727250635282\n",
      "AUC: 0.9807023616157192\n",
      "AUC: 0.9802612135994663\n",
      "~~~~~~~~~~~~~~~~~~~~ Epoch:  47\n",
      "AUC: 0.9797547983851208\n",
      "AUC: 0.9800914036787803\n",
      "AUC: 0.9805419649562829\n",
      "AUC: 0.9806282795856996\n",
      "~~~~~~~~~~~~~~~~~~~~ Epoch:  48\n",
      "AUC: 0.98019056693778\n",
      "AUC: 0.9806649341817749\n",
      "AUC: 0.980602507122849\n",
      "AUC: 0.9799706553621127\n",
      "~~~~~~~~~~~~~~~~~~~~ Epoch:  49\n",
      "AUC: 0.9800261780827261\n",
      "AUC: 0.9806782180326836\n",
      "AUC: 0.9796327892066713\n",
      "AUC: 0.9800750572778065\n",
      "~~~~~~~~~~~~~~~~~~~~ Epoch:  50\n",
      "AUC: 0.9805180821860272\n",
      "AUC: 0.9803765088489336\n",
      "AUC: 0.9802622552505073\n",
      "AUC: 0.979628766609564\n",
      "~~~~~~~~~~~~~~~~~~~~ Epoch:  51\n",
      "AUC: 0.9807211113344554\n",
      "AUC: 0.9807227402142705\n",
      "AUC: 0.9797723512452109\n",
      "AUC: 0.9796426568901875\n",
      "~~~~~~~~~~~~~~~~~~~~ Epoch:  52\n",
      "AUC: 0.9804307467065887\n",
      "AUC: 0.980755255407515\n",
      "AUC: 0.9807570730965819\n",
      "AUC: 0.9800011512564116\n",
      "~~~~~~~~~~~~~~~~~~~~ Epoch:  53\n",
      "AUC: 0.980659498715437\n",
      "AUC: 0.9807091715494058\n",
      "AUC: 0.9806314509410962\n",
      "AUC: 0.9800276453546224\n",
      "~~~~~~~~~~~~~~~~~~~~ Epoch:  54\n",
      "AUC: 0.9809076228735207\n",
      "AUC: 0.9807385361882732\n",
      "AUC: 0.9805774338942608\n",
      "AUC: 0.9807871945725339\n",
      "~~~~~~~~~~~~~~~~~~~~ Epoch:  55\n",
      "AUC: 0.9807135045617235\n",
      "AUC: 0.9805873319792671\n",
      "AUC: 0.9801694507030844\n",
      "AUC: 0.9806521415549362\n",
      "~~~~~~~~~~~~~~~~~~~~ Epoch:  56\n",
      "AUC: 0.9808843369325098\n",
      "AUC: 0.9809490329026124\n",
      "AUC: 0.9807057873835817\n",
      "AUC: 0.9807883818307097\n",
      "~~~~~~~~~~~~~~~~~~~~ Epoch:  57\n",
      "AUC: 0.9800885291379278\n",
      "AUC: 0.9797580961467112\n",
      "AUC: 0.9806379552598076\n",
      "AUC: 0.9801723164435059\n",
      "~~~~~~~~~~~~~~~~~~~~ Epoch:  58\n",
      "AUC: 0.9807442852699784\n",
      "AUC: 0.9808302286812054\n",
      "AUC: 0.9807756276057525\n",
      "AUC: 0.9801227684156525\n",
      "~~~~~~~~~~~~~~~~~~~~ Epoch:  59\n",
      "AUC: 0.9808268797171062\n",
      "AUC: 0.98011978346939\n",
      "AUC: 0.9802364331852262\n",
      "AUC: 0.9807457653425019\n",
      "~~~~~~~~~~~~~~~~~~~~ Epoch:  60\n",
      "AUC: 0.9802058500866542\n",
      "AUC: 0.9800726603603577\n",
      "AUC: 0.9799178047724337\n",
      "AUC: 0.9799858761079294\n",
      "~~~~~~~~~~~~~~~~~~~~ Epoch:  61\n",
      "AUC: 0.9802000106005194\n",
      "AUC: 0.9801464311751275\n",
      "AUC: 0.9806831830759707\n",
      "AUC: 0.9796658164250048\n",
      "~~~~~~~~~~~~~~~~~~~~ Epoch:  62\n",
      "AUC: 0.9800970855571924\n",
      "AUC: 0.9803675660107345\n",
      "AUC: 0.9808516937329929\n",
      "AUC: 0.9805219175739611\n",
      "~~~~~~~~~~~~~~~~~~~~ Epoch:  63\n",
      "AUC: 0.9802349139107817\n",
      "AUC: 0.9808111989487485\n"
     ]
    },
    {
     "name": "stdout",
     "output_type": "stream",
     "text": [
      "AUC: 0.9808070771467801\n",
      "AUC: 0.9806140356877489\n",
      "~~~~~~~~~~~~~~~~~~~~ Epoch:  64\n",
      "AUC: 0.9807006239305727\n",
      "AUC: 0.9808374466348851\n",
      "AUC: 0.9807717570160938\n",
      "AUC: 0.9801588869854622\n",
      "~~~~~~~~~~~~~~~~~~~~ Epoch:  65\n",
      "AUC: 0.980219506755831\n",
      "AUC: 0.9809211003339164\n",
      "AUC: 0.9803135249627232\n",
      "AUC: 0.9803678844263368\n",
      "~~~~~~~~~~~~~~~~~~~~ Epoch:  66\n",
      "AUC: 0.9802076653756034\n",
      "AUC: 0.9799264899980099\n",
      "AUC: 0.980763207797182\n",
      "AUC: 0.9801359594620137\n",
      "~~~~~~~~~~~~~~~~~~~~ Epoch:  67\n",
      "AUC: 0.9801783167375202\n",
      "AUC: 0.9808885307380062\n",
      "AUC: 0.9804738864204345\n",
      "AUC: 0.9801570196939648\n",
      "~~~~~~~~~~~~~~~~~~~~ Epoch:  68\n",
      "AUC: 0.9805118290796249\n",
      "AUC: 0.9803570710964837\n",
      "AUC: 0.9808358129548347\n",
      "AUC: 0.980484331732255\n",
      "~~~~~~~~~~~~~~~~~~~~ Epoch:  69\n",
      "AUC: 0.979742845799444\n",
      "AUC: 0.9804428817012034\n",
      "AUC: 0.979819084735152\n",
      "AUC: 0.9800876066927278\n",
      "~~~~~~~~~~~~~~~~~~~~ Epoch:  70\n",
      "AUC: 0.9807712993936705\n",
      "AUC: 0.9809515818275095\n",
      "AUC: 0.9809270590258922\n",
      "AUC: 0.9808146455176304\n",
      "~~~~~~~~~~~~~~~~~~~~ Epoch:  71\n",
      "AUC: 0.9808631470942076\n",
      "AUC: 0.9805534903210258\n",
      "AUC: 0.9803188708246703\n",
      "AUC: 0.9802416318399602\n",
      "~~~~~~~~~~~~~~~~~~~~ Epoch:  72\n",
      "AUC: 0.9805633116022686\n",
      "AUC: 0.9809494745242515\n",
      "AUC: 0.9804471443100711\n",
      "AUC: 0.9803458649473824\n",
      "~~~~~~~~~~~~~~~~~~~~ Epoch:  73\n",
      "AUC: 0.9803548517877375\n",
      "AUC: 0.9800476671356896\n",
      "AUC: 0.9808685873607808\n",
      "AUC: 0.9803016475807316\n",
      "~~~~~~~~~~~~~~~~~~~~ Epoch:  74\n",
      "AUC: 0.9809165001085053\n",
      "AUC: 0.9808312319303646\n",
      "AUC: 0.980889809200651\n",
      "AUC: 0.980793902101203\n",
      "~~~~~~~~~~~~~~~~~~~~ Epoch:  75\n",
      "AUC: 0.9808622190487333\n",
      "AUC: 0.9808531434040269\n",
      "AUC: 0.9803277224584005\n",
      "AUC: 0.9801936046866297\n",
      "~~~~~~~~~~~~~~~~~~~~ Epoch:  76\n",
      "AUC: 0.9809790199719788\n",
      "AUC: 0.980780157427714\n",
      "AUC: 0.9808530858012043\n",
      "AUC: 0.9802390749146708\n",
      "~~~~~~~~~~~~~~~~~~~~ Epoch:  77\n",
      "AUC: 0.980369572509053\n",
      "AUC: 0.9808642367476006\n",
      "AUC: 0.9809161528914918\n",
      "AUC: 0.9802655074098631\n",
      "~~~~~~~~~~~~~~~~~~~~ Epoch:  78\n",
      "AUC: 0.9800925829365638\n",
      "AUC: 0.9808473399196561\n",
      "AUC: 0.9809184074019627\n",
      "AUC: 0.9808256652575977\n",
      "~~~~~~~~~~~~~~~~~~~~ Epoch:  79\n",
      "AUC: 0.9808752308863133\n",
      "AUC: 0.9803457985441288\n",
      "AUC: 0.9809520970527555\n",
      "AUC: 0.9806219432752203\n",
      "~~~~~~~~~~~~~~~~~~~~ Epoch:  80\n",
      "AUC: 0.9808657232204379\n",
      "AUC: 0.9810513531163026\n",
      "AUC: 0.9809320960727077\n",
      "AUC: 0.9808818088086315\n",
      "~~~~~~~~~~~~~~~~~~~~ Epoch:  81\n",
      "AUC: 0.980912845529431\n",
      "AUC: 0.9808991664591564\n",
      "AUC: 0.9804965179293785\n",
      "AUC: 0.9805604970643562\n",
      "~~~~~~~~~~~~~~~~~~~~ Epoch:  82\n",
      "AUC: 0.980558828182581\n",
      "AUC: 0.9807616173192486\n",
      "AUC: 0.9798727897666987\n",
      "AUC: 0.9801422477701408\n",
      "~~~~~~~~~~~~~~~~~~~~ Epoch:  83\n",
      "AUC: 0.9808030129476344\n",
      "AUC: 0.98050808489616\n",
      "AUC: 0.9802834434887309\n",
      "AUC: 0.9808189977308889\n",
      "~~~~~~~~~~~~~~~~~~~~ Epoch:  84\n",
      "AUC: 0.9808076403743783\n",
      "AUC: 0.9807528264884979\n",
      "AUC: 0.9809140103865089\n",
      "AUC: 0.9802254182454939\n",
      "~~~~~~~~~~~~~~~~~~~~ Epoch:  85\n",
      "AUC: 0.9807612172996477\n",
      "AUC: 0.9807861849230612\n",
      "AUC: 0.9810384372834269\n",
      "AUC: 0.9807933772754865\n",
      "~~~~~~~~~~~~~~~~~~~~ Epoch:  86\n",
      "AUC: 0.9799510079993918\n",
      "AUC: 0.9808816167992231\n",
      "AUC: 0.9805194982554145\n",
      "AUC: 0.98076951530625\n",
      "~~~~~~~~~~~~~~~~~~~~ Epoch:  87\n",
      "AUC: 0.979932719103236\n",
      "AUC: 0.9808794326922019\n",
      "AUC: 0.9804453378215532\n",
      "AUC: 0.9802544196665638\n",
      "~~~~~~~~~~~~~~~~~~~~ Epoch:  88\n",
      "AUC: 0.9809736261076794\n",
      "AUC: 0.9809874443847749\n",
      "AUC: 0.9803258631672952\n",
      "AUC: 0.9802293928402492\n",
      "~~~~~~~~~~~~~~~~~~~~ Epoch:  89\n",
      "AUC: 0.9808766021535056\n",
      "AUC: 0.9804228207182152\n",
      "AUC: 0.9809133783555394\n",
      "AUC: 0.980552354265359\n",
      "~~~~~~~~~~~~~~~~~~~~ Epoch:  90\n",
      "AUC: 0.9806876392943253\n",
      "AUC: 0.9808917788971661\n",
      "AUC: 0.9808062435059318\n",
      "AUC: 0.9803379765608515\n",
      "~~~~~~~~~~~~~~~~~~~~ Epoch:  91\n",
      "AUC: 0.9809865627415744\n",
      "AUC: 0.9808494120211891\n",
      "AUC: 0.980952713082941\n",
      "AUC: 0.9806798149109307\n",
      "~~~~~~~~~~~~~~~~~~~~ Epoch:  92\n",
      "AUC: 0.9809569228892215\n",
      "AUC: 0.9808823288341129\n",
      "AUC: 0.9809337985561293\n",
      "AUC: 0.9803578695356072\n",
      "~~~~~~~~~~~~~~~~~~~~ Epoch:  93\n",
      "AUC: 0.9809387251975347\n",
      "AUC: 0.980949728936718\n",
      "AUC: 0.9803110288404133\n",
      "AUC: 0.9808195945601336\n",
      "~~~~~~~~~~~~~~~~~~~~ Epoch:  94\n",
      "AUC: 0.9803952385666898\n",
      "AUC: 0.9809947487426884\n",
      "AUC: 0.9808049218411702\n",
      "AUC: 0.9808623230538296\n",
      "~~~~~~~~~~~~~~~~~~~~ Epoch:  95\n",
      "AUC: 0.9809355026396294\n",
      "AUC: 0.9810042308073097\n",
      "AUC: 0.9805260937785952\n",
      "AUC: 0.9806292700342316\n",
      "~~~~~~~~~~~~~~~~~~~~ Epoch:  96\n",
      "AUC: 0.9803329115126641\n",
      "AUC: 0.9808217594662139\n",
      "AUC: 0.9806282139824851\n",
      "AUC: 0.9803279400690634\n",
      "~~~~~~~~~~~~~~~~~~~~ Epoch:  97\n",
      "AUC: 0.9809042419078534\n",
      "AUC: 0.9806785812504812\n",
      "AUC: 0.9809894956852886\n",
      "AUC: 0.9806248506176802\n",
      "~~~~~~~~~~~~~~~~~~~~ Epoch:  98\n",
      "AUC: 0.9804028925417346\n",
      "AUC: 0.9801083965114291\n",
      "AUC: 0.9810328738108166\n",
      "AUC: 0.9803591367977031\n",
      "~~~~~~~~~~~~~~~~~~~~ Epoch:  99\n"
     ]
    }
   ],
   "source": [
    "batch_sz = 50000\n",
    "clf = SGDClassifier(loss='log', alpha=0.01)\n",
    "x_test_diff_sample = secondary_scaler.transform(np.abs(XX_test[X_idxs_test[:batch_sz, 0]] - XX_test[X_idxs_test[:batch_sz, 1]]))\n",
    "y_test_sample = Y_test[:batch_sz]\n",
    "aucs = []\n",
    "for i in range(100 - len(aucs)):\n",
    "    for idxs in chunker(np.arange(len(X_idxs_train)), batch_sz):\n",
    "        x_diff = secondary_scaler.transform(np.abs(XX_train[X_idxs_train[idxs, 0]] - XX_train[X_idxs_train[idxs, 1]]))\n",
    "        x_diff[np.isnan(x_diff)]=0\n",
    "        y = Y_train[idxs]\n",
    "        clf.partial_fit(x_diff, y, classes=[0, 1])\n",
    "\n",
    "        probs = clf.predict_proba(x_test_diff_sample)[:, 1]\n",
    "\n",
    "        fpr, tpr, thresh = roc_curve(y_test_sample, probs)\n",
    "        roc_auc = auc(fpr, tpr)\n",
    "        print('AUC:', roc_auc)\n",
    "    print('~'*20, 'Epoch: ', i)\n",
    "    aucs.append(roc_auc)"
   ]
  },
  {
   "cell_type": "code",
   "execution_count": 31,
   "metadata": {
    "collapsed": true
   },
   "outputs": [],
   "source": [
    "with open(TEMP_DATA + 'model.p', 'wb') as f:\n",
    "    pickle.dump((clf, transformer, scaler, secondary_scaler, aucs ), f)"
   ]
  },
  {
   "cell_type": "code",
   "execution_count": 28,
   "metadata": {},
   "outputs": [
    {
     "data": {
      "application/vnd.plotly.v1+json": {
       "config": {
        "plotlyServerURL": "https://plot.ly"
       },
       "data": [
        {
         "type": "scatter",
         "y": [
          0.9613477516398303,
          0.9668613378055525,
          0.9715519308446114,
          0.9724641163417007,
          0.973616403203757,
          0.9754691547885845,
          0.9761837458035445,
          0.9773171477402391,
          0.977324080079924,
          0.9769786895557881,
          0.9777229820261192,
          0.9773747713637968,
          0.9781354390365129,
          0.9783479806510519,
          0.9790100018900926,
          0.9795201500873543,
          0.9784916164892079,
          0.9788101256961591,
          0.9795668083736104,
          0.9791139749847744,
          0.9791317606562723,
          0.9791695041057012,
          0.9794757775130982,
          0.9796770745766542,
          0.9800522433599246,
          0.979416277797612,
          0.9796311443260719,
          0.9795264423956773,
          0.9796123258039643,
          0.980054649877844,
          0.9792684625546652,
          0.9794831202728934,
          0.9790062449060003,
          0.9803004827236534,
          0.9804092528533899,
          0.9795327667055684,
          0.9800925189334277,
          0.979120852121754,
          0.979988363429808,
          0.9800022713112944,
          0.9805681326384993,
          0.9797957547919849,
          0.9800929405540871,
          0.9796260800779238,
          0.979836506388813,
          0.9798695072058532,
          0.9805922986226325,
          0.9802612135994663,
          0.9806282795856996,
          0.9799706553621127,
          0.9800750572778065,
          0.979628766609564,
          0.9796426568901875,
          0.9800011512564116,
          0.9800276453546224,
          0.9807871945725339,
          0.9806521415549362,
          0.9807883818307097,
          0.9801723164435059,
          0.9801227684156525,
          0.9807457653425019,
          0.9799858761079294,
          0.9796658164250048,
          0.9805219175739611,
          0.9806140356877489,
          0.9801588869854622,
          0.9803678844263368,
          0.9801359594620137,
          0.9801570196939648,
          0.980484331732255,
          0.9800876066927278,
          0.9808146455176304,
          0.9802416318399602,
          0.9803458649473824,
          0.9803016475807316,
          0.980793902101203,
          0.9801936046866297,
          0.9802390749146708,
          0.9802655074098631,
          0.9808256652575977,
          0.9806219432752203,
          0.9808818088086315,
          0.9805604970643562,
          0.9801422477701408,
          0.9808189977308889,
          0.9802254182454939,
          0.9807933772754865,
          0.98076951530625,
          0.9802544196665638,
          0.9802293928402492,
          0.980552354265359,
          0.9803379765608515,
          0.9806798149109307,
          0.9803578695356072,
          0.9808195945601336,
          0.9808623230538296,
          0.9806292700342316,
          0.9803279400690634,
          0.9806248506176802,
          0.9803591367977031
         ]
        }
       ],
       "layout": {
        "template": {
         "data": {
          "bar": [
           {
            "error_x": {
             "color": "#2a3f5f"
            },
            "error_y": {
             "color": "#2a3f5f"
            },
            "marker": {
             "line": {
              "color": "#E5ECF6",
              "width": 0.5
             }
            },
            "type": "bar"
           }
          ],
          "barpolar": [
           {
            "marker": {
             "line": {
              "color": "#E5ECF6",
              "width": 0.5
             }
            },
            "type": "barpolar"
           }
          ],
          "carpet": [
           {
            "aaxis": {
             "endlinecolor": "#2a3f5f",
             "gridcolor": "white",
             "linecolor": "white",
             "minorgridcolor": "white",
             "startlinecolor": "#2a3f5f"
            },
            "baxis": {
             "endlinecolor": "#2a3f5f",
             "gridcolor": "white",
             "linecolor": "white",
             "minorgridcolor": "white",
             "startlinecolor": "#2a3f5f"
            },
            "type": "carpet"
           }
          ],
          "choropleth": [
           {
            "colorbar": {
             "outlinewidth": 0,
             "ticks": ""
            },
            "type": "choropleth"
           }
          ],
          "contour": [
           {
            "colorbar": {
             "outlinewidth": 0,
             "ticks": ""
            },
            "colorscale": [
             [
              0,
              "#0d0887"
             ],
             [
              0.1111111111111111,
              "#46039f"
             ],
             [
              0.2222222222222222,
              "#7201a8"
             ],
             [
              0.3333333333333333,
              "#9c179e"
             ],
             [
              0.4444444444444444,
              "#bd3786"
             ],
             [
              0.5555555555555556,
              "#d8576b"
             ],
             [
              0.6666666666666666,
              "#ed7953"
             ],
             [
              0.7777777777777778,
              "#fb9f3a"
             ],
             [
              0.8888888888888888,
              "#fdca26"
             ],
             [
              1,
              "#f0f921"
             ]
            ],
            "type": "contour"
           }
          ],
          "contourcarpet": [
           {
            "colorbar": {
             "outlinewidth": 0,
             "ticks": ""
            },
            "type": "contourcarpet"
           }
          ],
          "heatmap": [
           {
            "colorbar": {
             "outlinewidth": 0,
             "ticks": ""
            },
            "colorscale": [
             [
              0,
              "#0d0887"
             ],
             [
              0.1111111111111111,
              "#46039f"
             ],
             [
              0.2222222222222222,
              "#7201a8"
             ],
             [
              0.3333333333333333,
              "#9c179e"
             ],
             [
              0.4444444444444444,
              "#bd3786"
             ],
             [
              0.5555555555555556,
              "#d8576b"
             ],
             [
              0.6666666666666666,
              "#ed7953"
             ],
             [
              0.7777777777777778,
              "#fb9f3a"
             ],
             [
              0.8888888888888888,
              "#fdca26"
             ],
             [
              1,
              "#f0f921"
             ]
            ],
            "type": "heatmap"
           }
          ],
          "heatmapgl": [
           {
            "colorbar": {
             "outlinewidth": 0,
             "ticks": ""
            },
            "colorscale": [
             [
              0,
              "#0d0887"
             ],
             [
              0.1111111111111111,
              "#46039f"
             ],
             [
              0.2222222222222222,
              "#7201a8"
             ],
             [
              0.3333333333333333,
              "#9c179e"
             ],
             [
              0.4444444444444444,
              "#bd3786"
             ],
             [
              0.5555555555555556,
              "#d8576b"
             ],
             [
              0.6666666666666666,
              "#ed7953"
             ],
             [
              0.7777777777777778,
              "#fb9f3a"
             ],
             [
              0.8888888888888888,
              "#fdca26"
             ],
             [
              1,
              "#f0f921"
             ]
            ],
            "type": "heatmapgl"
           }
          ],
          "histogram": [
           {
            "marker": {
             "colorbar": {
              "outlinewidth": 0,
              "ticks": ""
             }
            },
            "type": "histogram"
           }
          ],
          "histogram2d": [
           {
            "colorbar": {
             "outlinewidth": 0,
             "ticks": ""
            },
            "colorscale": [
             [
              0,
              "#0d0887"
             ],
             [
              0.1111111111111111,
              "#46039f"
             ],
             [
              0.2222222222222222,
              "#7201a8"
             ],
             [
              0.3333333333333333,
              "#9c179e"
             ],
             [
              0.4444444444444444,
              "#bd3786"
             ],
             [
              0.5555555555555556,
              "#d8576b"
             ],
             [
              0.6666666666666666,
              "#ed7953"
             ],
             [
              0.7777777777777778,
              "#fb9f3a"
             ],
             [
              0.8888888888888888,
              "#fdca26"
             ],
             [
              1,
              "#f0f921"
             ]
            ],
            "type": "histogram2d"
           }
          ],
          "histogram2dcontour": [
           {
            "colorbar": {
             "outlinewidth": 0,
             "ticks": ""
            },
            "colorscale": [
             [
              0,
              "#0d0887"
             ],
             [
              0.1111111111111111,
              "#46039f"
             ],
             [
              0.2222222222222222,
              "#7201a8"
             ],
             [
              0.3333333333333333,
              "#9c179e"
             ],
             [
              0.4444444444444444,
              "#bd3786"
             ],
             [
              0.5555555555555556,
              "#d8576b"
             ],
             [
              0.6666666666666666,
              "#ed7953"
             ],
             [
              0.7777777777777778,
              "#fb9f3a"
             ],
             [
              0.8888888888888888,
              "#fdca26"
             ],
             [
              1,
              "#f0f921"
             ]
            ],
            "type": "histogram2dcontour"
           }
          ],
          "mesh3d": [
           {
            "colorbar": {
             "outlinewidth": 0,
             "ticks": ""
            },
            "type": "mesh3d"
           }
          ],
          "parcoords": [
           {
            "line": {
             "colorbar": {
              "outlinewidth": 0,
              "ticks": ""
             }
            },
            "type": "parcoords"
           }
          ],
          "scatter": [
           {
            "marker": {
             "colorbar": {
              "outlinewidth": 0,
              "ticks": ""
             }
            },
            "type": "scatter"
           }
          ],
          "scatter3d": [
           {
            "line": {
             "colorbar": {
              "outlinewidth": 0,
              "ticks": ""
             }
            },
            "marker": {
             "colorbar": {
              "outlinewidth": 0,
              "ticks": ""
             }
            },
            "type": "scatter3d"
           }
          ],
          "scattercarpet": [
           {
            "marker": {
             "colorbar": {
              "outlinewidth": 0,
              "ticks": ""
             }
            },
            "type": "scattercarpet"
           }
          ],
          "scattergeo": [
           {
            "marker": {
             "colorbar": {
              "outlinewidth": 0,
              "ticks": ""
             }
            },
            "type": "scattergeo"
           }
          ],
          "scattergl": [
           {
            "marker": {
             "colorbar": {
              "outlinewidth": 0,
              "ticks": ""
             }
            },
            "type": "scattergl"
           }
          ],
          "scattermapbox": [
           {
            "marker": {
             "colorbar": {
              "outlinewidth": 0,
              "ticks": ""
             }
            },
            "type": "scattermapbox"
           }
          ],
          "scatterpolar": [
           {
            "marker": {
             "colorbar": {
              "outlinewidth": 0,
              "ticks": ""
             }
            },
            "type": "scatterpolar"
           }
          ],
          "scatterpolargl": [
           {
            "marker": {
             "colorbar": {
              "outlinewidth": 0,
              "ticks": ""
             }
            },
            "type": "scatterpolargl"
           }
          ],
          "scatterternary": [
           {
            "marker": {
             "colorbar": {
              "outlinewidth": 0,
              "ticks": ""
             }
            },
            "type": "scatterternary"
           }
          ],
          "surface": [
           {
            "colorbar": {
             "outlinewidth": 0,
             "ticks": ""
            },
            "colorscale": [
             [
              0,
              "#0d0887"
             ],
             [
              0.1111111111111111,
              "#46039f"
             ],
             [
              0.2222222222222222,
              "#7201a8"
             ],
             [
              0.3333333333333333,
              "#9c179e"
             ],
             [
              0.4444444444444444,
              "#bd3786"
             ],
             [
              0.5555555555555556,
              "#d8576b"
             ],
             [
              0.6666666666666666,
              "#ed7953"
             ],
             [
              0.7777777777777778,
              "#fb9f3a"
             ],
             [
              0.8888888888888888,
              "#fdca26"
             ],
             [
              1,
              "#f0f921"
             ]
            ],
            "type": "surface"
           }
          ],
          "table": [
           {
            "cells": {
             "fill": {
              "color": "#EBF0F8"
             },
             "line": {
              "color": "white"
             }
            },
            "header": {
             "fill": {
              "color": "#C8D4E3"
             },
             "line": {
              "color": "white"
             }
            },
            "type": "table"
           }
          ]
         },
         "layout": {
          "annotationdefaults": {
           "arrowcolor": "#2a3f5f",
           "arrowhead": 0,
           "arrowwidth": 1
          },
          "colorscale": {
           "diverging": [
            [
             0,
             "#8e0152"
            ],
            [
             0.1,
             "#c51b7d"
            ],
            [
             0.2,
             "#de77ae"
            ],
            [
             0.3,
             "#f1b6da"
            ],
            [
             0.4,
             "#fde0ef"
            ],
            [
             0.5,
             "#f7f7f7"
            ],
            [
             0.6,
             "#e6f5d0"
            ],
            [
             0.7,
             "#b8e186"
            ],
            [
             0.8,
             "#7fbc41"
            ],
            [
             0.9,
             "#4d9221"
            ],
            [
             1,
             "#276419"
            ]
           ],
           "sequential": [
            [
             0,
             "#0d0887"
            ],
            [
             0.1111111111111111,
             "#46039f"
            ],
            [
             0.2222222222222222,
             "#7201a8"
            ],
            [
             0.3333333333333333,
             "#9c179e"
            ],
            [
             0.4444444444444444,
             "#bd3786"
            ],
            [
             0.5555555555555556,
             "#d8576b"
            ],
            [
             0.6666666666666666,
             "#ed7953"
            ],
            [
             0.7777777777777778,
             "#fb9f3a"
            ],
            [
             0.8888888888888888,
             "#fdca26"
            ],
            [
             1,
             "#f0f921"
            ]
           ],
           "sequentialminus": [
            [
             0,
             "#0d0887"
            ],
            [
             0.1111111111111111,
             "#46039f"
            ],
            [
             0.2222222222222222,
             "#7201a8"
            ],
            [
             0.3333333333333333,
             "#9c179e"
            ],
            [
             0.4444444444444444,
             "#bd3786"
            ],
            [
             0.5555555555555556,
             "#d8576b"
            ],
            [
             0.6666666666666666,
             "#ed7953"
            ],
            [
             0.7777777777777778,
             "#fb9f3a"
            ],
            [
             0.8888888888888888,
             "#fdca26"
            ],
            [
             1,
             "#f0f921"
            ]
           ]
          },
          "colorway": [
           "#636efa",
           "#EF553B",
           "#00cc96",
           "#ab63fa",
           "#FFA15A",
           "#19d3f3",
           "#FF6692",
           "#B6E880",
           "#FF97FF",
           "#FECB52"
          ],
          "font": {
           "color": "#2a3f5f"
          },
          "geo": {
           "bgcolor": "white",
           "lakecolor": "white",
           "landcolor": "#E5ECF6",
           "showlakes": true,
           "showland": true,
           "subunitcolor": "white"
          },
          "hoverlabel": {
           "align": "left"
          },
          "hovermode": "closest",
          "mapbox": {
           "style": "light"
          },
          "paper_bgcolor": "white",
          "plot_bgcolor": "#E5ECF6",
          "polar": {
           "angularaxis": {
            "gridcolor": "white",
            "linecolor": "white",
            "ticks": ""
           },
           "bgcolor": "#E5ECF6",
           "radialaxis": {
            "gridcolor": "white",
            "linecolor": "white",
            "ticks": ""
           }
          },
          "scene": {
           "xaxis": {
            "backgroundcolor": "#E5ECF6",
            "gridcolor": "white",
            "gridwidth": 2,
            "linecolor": "white",
            "showbackground": true,
            "ticks": "",
            "zerolinecolor": "white"
           },
           "yaxis": {
            "backgroundcolor": "#E5ECF6",
            "gridcolor": "white",
            "gridwidth": 2,
            "linecolor": "white",
            "showbackground": true,
            "ticks": "",
            "zerolinecolor": "white"
           },
           "zaxis": {
            "backgroundcolor": "#E5ECF6",
            "gridcolor": "white",
            "gridwidth": 2,
            "linecolor": "white",
            "showbackground": true,
            "ticks": "",
            "zerolinecolor": "white"
           }
          },
          "shapedefaults": {
           "line": {
            "color": "#2a3f5f"
           }
          },
          "ternary": {
           "aaxis": {
            "gridcolor": "white",
            "linecolor": "white",
            "ticks": ""
           },
           "baxis": {
            "gridcolor": "white",
            "linecolor": "white",
            "ticks": ""
           },
           "bgcolor": "#E5ECF6",
           "caxis": {
            "gridcolor": "white",
            "linecolor": "white",
            "ticks": ""
           }
          },
          "title": {
           "x": 0.05
          },
          "xaxis": {
           "automargin": true,
           "gridcolor": "white",
           "linecolor": "white",
           "ticks": "",
           "zerolinecolor": "white",
           "zerolinewidth": 2
          },
          "yaxis": {
           "automargin": true,
           "gridcolor": "white",
           "linecolor": "white",
           "ticks": "",
           "zerolinecolor": "white",
           "zerolinewidth": 2
          }
         }
        }
       }
      },
      "text/html": [
       "<div>\n",
       "        \n",
       "        \n",
       "            <div id=\"14d04ce5-6bf4-44c8-9f81-a3e41afa0cfc\" class=\"plotly-graph-div\" style=\"height:525px; width:100%;\"></div>\n",
       "            <script type=\"text/javascript\">\n",
       "                require([\"plotly\"], function(Plotly) {\n",
       "                    window.PLOTLYENV=window.PLOTLYENV || {};\n",
       "                    \n",
       "                if (document.getElementById(\"14d04ce5-6bf4-44c8-9f81-a3e41afa0cfc\")) {\n",
       "                    Plotly.newPlot(\n",
       "                        '14d04ce5-6bf4-44c8-9f81-a3e41afa0cfc',\n",
       "                        [{\"type\": \"scatter\", \"y\": [0.9613477516398303, 0.9668613378055525, 0.9715519308446114, 0.9724641163417007, 0.973616403203757, 0.9754691547885845, 0.9761837458035445, 0.9773171477402391, 0.977324080079924, 0.9769786895557881, 0.9777229820261192, 0.9773747713637968, 0.9781354390365129, 0.9783479806510519, 0.9790100018900926, 0.9795201500873543, 0.9784916164892079, 0.9788101256961591, 0.9795668083736104, 0.9791139749847744, 0.9791317606562723, 0.9791695041057012, 0.9794757775130982, 0.9796770745766542, 0.9800522433599246, 0.979416277797612, 0.9796311443260719, 0.9795264423956773, 0.9796123258039643, 0.980054649877844, 0.9792684625546652, 0.9794831202728934, 0.9790062449060003, 0.9803004827236534, 0.9804092528533899, 0.9795327667055684, 0.9800925189334277, 0.979120852121754, 0.979988363429808, 0.9800022713112944, 0.9805681326384993, 0.9797957547919849, 0.9800929405540871, 0.9796260800779238, 0.979836506388813, 0.9798695072058532, 0.9805922986226325, 0.9802612135994663, 0.9806282795856996, 0.9799706553621127, 0.9800750572778065, 0.979628766609564, 0.9796426568901875, 0.9800011512564116, 0.9800276453546224, 0.9807871945725339, 0.9806521415549362, 0.9807883818307097, 0.9801723164435059, 0.9801227684156525, 0.9807457653425019, 0.9799858761079294, 0.9796658164250048, 0.9805219175739611, 0.9806140356877489, 0.9801588869854622, 0.9803678844263368, 0.9801359594620137, 0.9801570196939648, 0.980484331732255, 0.9800876066927278, 0.9808146455176304, 0.9802416318399602, 0.9803458649473824, 0.9803016475807316, 0.980793902101203, 0.9801936046866297, 0.9802390749146708, 0.9802655074098631, 0.9808256652575977, 0.9806219432752203, 0.9808818088086315, 0.9805604970643562, 0.9801422477701408, 0.9808189977308889, 0.9802254182454939, 0.9807933772754865, 0.98076951530625, 0.9802544196665638, 0.9802293928402492, 0.980552354265359, 0.9803379765608515, 0.9806798149109307, 0.9803578695356072, 0.9808195945601336, 0.9808623230538296, 0.9806292700342316, 0.9803279400690634, 0.9806248506176802, 0.9803591367977031]}],\n",
       "                        {\"template\": {\"data\": {\"bar\": [{\"error_x\": {\"color\": \"#2a3f5f\"}, \"error_y\": {\"color\": \"#2a3f5f\"}, \"marker\": {\"line\": {\"color\": \"#E5ECF6\", \"width\": 0.5}}, \"type\": \"bar\"}], \"barpolar\": [{\"marker\": {\"line\": {\"color\": \"#E5ECF6\", \"width\": 0.5}}, \"type\": \"barpolar\"}], \"carpet\": [{\"aaxis\": {\"endlinecolor\": \"#2a3f5f\", \"gridcolor\": \"white\", \"linecolor\": \"white\", \"minorgridcolor\": \"white\", \"startlinecolor\": \"#2a3f5f\"}, \"baxis\": {\"endlinecolor\": \"#2a3f5f\", \"gridcolor\": \"white\", \"linecolor\": \"white\", \"minorgridcolor\": \"white\", \"startlinecolor\": \"#2a3f5f\"}, \"type\": \"carpet\"}], \"choropleth\": [{\"colorbar\": {\"outlinewidth\": 0, \"ticks\": \"\"}, \"type\": \"choropleth\"}], \"contour\": [{\"colorbar\": {\"outlinewidth\": 0, \"ticks\": \"\"}, \"colorscale\": [[0.0, \"#0d0887\"], [0.1111111111111111, \"#46039f\"], [0.2222222222222222, \"#7201a8\"], [0.3333333333333333, \"#9c179e\"], [0.4444444444444444, \"#bd3786\"], [0.5555555555555556, \"#d8576b\"], [0.6666666666666666, \"#ed7953\"], [0.7777777777777778, \"#fb9f3a\"], [0.8888888888888888, \"#fdca26\"], [1.0, \"#f0f921\"]], \"type\": \"contour\"}], \"contourcarpet\": [{\"colorbar\": {\"outlinewidth\": 0, \"ticks\": \"\"}, \"type\": \"contourcarpet\"}], \"heatmap\": [{\"colorbar\": {\"outlinewidth\": 0, \"ticks\": \"\"}, \"colorscale\": [[0.0, \"#0d0887\"], [0.1111111111111111, \"#46039f\"], [0.2222222222222222, \"#7201a8\"], [0.3333333333333333, \"#9c179e\"], [0.4444444444444444, \"#bd3786\"], [0.5555555555555556, \"#d8576b\"], [0.6666666666666666, \"#ed7953\"], [0.7777777777777778, \"#fb9f3a\"], [0.8888888888888888, \"#fdca26\"], [1.0, \"#f0f921\"]], \"type\": \"heatmap\"}], \"heatmapgl\": [{\"colorbar\": {\"outlinewidth\": 0, \"ticks\": \"\"}, \"colorscale\": [[0.0, \"#0d0887\"], [0.1111111111111111, \"#46039f\"], [0.2222222222222222, \"#7201a8\"], [0.3333333333333333, \"#9c179e\"], [0.4444444444444444, \"#bd3786\"], [0.5555555555555556, \"#d8576b\"], [0.6666666666666666, \"#ed7953\"], [0.7777777777777778, \"#fb9f3a\"], [0.8888888888888888, \"#fdca26\"], [1.0, \"#f0f921\"]], \"type\": \"heatmapgl\"}], \"histogram\": [{\"marker\": {\"colorbar\": {\"outlinewidth\": 0, \"ticks\": \"\"}}, \"type\": \"histogram\"}], \"histogram2d\": [{\"colorbar\": {\"outlinewidth\": 0, \"ticks\": \"\"}, \"colorscale\": [[0.0, \"#0d0887\"], [0.1111111111111111, \"#46039f\"], [0.2222222222222222, \"#7201a8\"], [0.3333333333333333, \"#9c179e\"], [0.4444444444444444, \"#bd3786\"], [0.5555555555555556, \"#d8576b\"], [0.6666666666666666, \"#ed7953\"], [0.7777777777777778, \"#fb9f3a\"], [0.8888888888888888, \"#fdca26\"], [1.0, \"#f0f921\"]], \"type\": \"histogram2d\"}], \"histogram2dcontour\": [{\"colorbar\": {\"outlinewidth\": 0, \"ticks\": \"\"}, \"colorscale\": [[0.0, \"#0d0887\"], [0.1111111111111111, \"#46039f\"], [0.2222222222222222, \"#7201a8\"], [0.3333333333333333, \"#9c179e\"], [0.4444444444444444, \"#bd3786\"], [0.5555555555555556, \"#d8576b\"], [0.6666666666666666, \"#ed7953\"], [0.7777777777777778, \"#fb9f3a\"], [0.8888888888888888, \"#fdca26\"], [1.0, \"#f0f921\"]], \"type\": \"histogram2dcontour\"}], \"mesh3d\": [{\"colorbar\": {\"outlinewidth\": 0, \"ticks\": \"\"}, \"type\": \"mesh3d\"}], \"parcoords\": [{\"line\": {\"colorbar\": {\"outlinewidth\": 0, \"ticks\": \"\"}}, \"type\": \"parcoords\"}], \"scatter\": [{\"marker\": {\"colorbar\": {\"outlinewidth\": 0, \"ticks\": \"\"}}, \"type\": \"scatter\"}], \"scatter3d\": [{\"line\": {\"colorbar\": {\"outlinewidth\": 0, \"ticks\": \"\"}}, \"marker\": {\"colorbar\": {\"outlinewidth\": 0, \"ticks\": \"\"}}, \"type\": \"scatter3d\"}], \"scattercarpet\": [{\"marker\": {\"colorbar\": {\"outlinewidth\": 0, \"ticks\": \"\"}}, \"type\": \"scattercarpet\"}], \"scattergeo\": [{\"marker\": {\"colorbar\": {\"outlinewidth\": 0, \"ticks\": \"\"}}, \"type\": \"scattergeo\"}], \"scattergl\": [{\"marker\": {\"colorbar\": {\"outlinewidth\": 0, \"ticks\": \"\"}}, \"type\": \"scattergl\"}], \"scattermapbox\": [{\"marker\": {\"colorbar\": {\"outlinewidth\": 0, \"ticks\": \"\"}}, \"type\": \"scattermapbox\"}], \"scatterpolar\": [{\"marker\": {\"colorbar\": {\"outlinewidth\": 0, \"ticks\": \"\"}}, \"type\": \"scatterpolar\"}], \"scatterpolargl\": [{\"marker\": {\"colorbar\": {\"outlinewidth\": 0, \"ticks\": \"\"}}, \"type\": \"scatterpolargl\"}], \"scatterternary\": [{\"marker\": {\"colorbar\": {\"outlinewidth\": 0, \"ticks\": \"\"}}, \"type\": \"scatterternary\"}], \"surface\": [{\"colorbar\": {\"outlinewidth\": 0, \"ticks\": \"\"}, \"colorscale\": [[0.0, \"#0d0887\"], [0.1111111111111111, \"#46039f\"], [0.2222222222222222, \"#7201a8\"], [0.3333333333333333, \"#9c179e\"], [0.4444444444444444, \"#bd3786\"], [0.5555555555555556, \"#d8576b\"], [0.6666666666666666, \"#ed7953\"], [0.7777777777777778, \"#fb9f3a\"], [0.8888888888888888, \"#fdca26\"], [1.0, \"#f0f921\"]], \"type\": \"surface\"}], \"table\": [{\"cells\": {\"fill\": {\"color\": \"#EBF0F8\"}, \"line\": {\"color\": \"white\"}}, \"header\": {\"fill\": {\"color\": \"#C8D4E3\"}, \"line\": {\"color\": \"white\"}}, \"type\": \"table\"}]}, \"layout\": {\"annotationdefaults\": {\"arrowcolor\": \"#2a3f5f\", \"arrowhead\": 0, \"arrowwidth\": 1}, \"colorscale\": {\"diverging\": [[0, \"#8e0152\"], [0.1, \"#c51b7d\"], [0.2, \"#de77ae\"], [0.3, \"#f1b6da\"], [0.4, \"#fde0ef\"], [0.5, \"#f7f7f7\"], [0.6, \"#e6f5d0\"], [0.7, \"#b8e186\"], [0.8, \"#7fbc41\"], [0.9, \"#4d9221\"], [1, \"#276419\"]], \"sequential\": [[0.0, \"#0d0887\"], [0.1111111111111111, \"#46039f\"], [0.2222222222222222, \"#7201a8\"], [0.3333333333333333, \"#9c179e\"], [0.4444444444444444, \"#bd3786\"], [0.5555555555555556, \"#d8576b\"], [0.6666666666666666, \"#ed7953\"], [0.7777777777777778, \"#fb9f3a\"], [0.8888888888888888, \"#fdca26\"], [1.0, \"#f0f921\"]], \"sequentialminus\": [[0.0, \"#0d0887\"], [0.1111111111111111, \"#46039f\"], [0.2222222222222222, \"#7201a8\"], [0.3333333333333333, \"#9c179e\"], [0.4444444444444444, \"#bd3786\"], [0.5555555555555556, \"#d8576b\"], [0.6666666666666666, \"#ed7953\"], [0.7777777777777778, \"#fb9f3a\"], [0.8888888888888888, \"#fdca26\"], [1.0, \"#f0f921\"]]}, \"colorway\": [\"#636efa\", \"#EF553B\", \"#00cc96\", \"#ab63fa\", \"#FFA15A\", \"#19d3f3\", \"#FF6692\", \"#B6E880\", \"#FF97FF\", \"#FECB52\"], \"font\": {\"color\": \"#2a3f5f\"}, \"geo\": {\"bgcolor\": \"white\", \"lakecolor\": \"white\", \"landcolor\": \"#E5ECF6\", \"showlakes\": true, \"showland\": true, \"subunitcolor\": \"white\"}, \"hoverlabel\": {\"align\": \"left\"}, \"hovermode\": \"closest\", \"mapbox\": {\"style\": \"light\"}, \"paper_bgcolor\": \"white\", \"plot_bgcolor\": \"#E5ECF6\", \"polar\": {\"angularaxis\": {\"gridcolor\": \"white\", \"linecolor\": \"white\", \"ticks\": \"\"}, \"bgcolor\": \"#E5ECF6\", \"radialaxis\": {\"gridcolor\": \"white\", \"linecolor\": \"white\", \"ticks\": \"\"}}, \"scene\": {\"xaxis\": {\"backgroundcolor\": \"#E5ECF6\", \"gridcolor\": \"white\", \"gridwidth\": 2, \"linecolor\": \"white\", \"showbackground\": true, \"ticks\": \"\", \"zerolinecolor\": \"white\"}, \"yaxis\": {\"backgroundcolor\": \"#E5ECF6\", \"gridcolor\": \"white\", \"gridwidth\": 2, \"linecolor\": \"white\", \"showbackground\": true, \"ticks\": \"\", \"zerolinecolor\": \"white\"}, \"zaxis\": {\"backgroundcolor\": \"#E5ECF6\", \"gridcolor\": \"white\", \"gridwidth\": 2, \"linecolor\": \"white\", \"showbackground\": true, \"ticks\": \"\", \"zerolinecolor\": \"white\"}}, \"shapedefaults\": {\"line\": {\"color\": \"#2a3f5f\"}}, \"ternary\": {\"aaxis\": {\"gridcolor\": \"white\", \"linecolor\": \"white\", \"ticks\": \"\"}, \"baxis\": {\"gridcolor\": \"white\", \"linecolor\": \"white\", \"ticks\": \"\"}, \"bgcolor\": \"#E5ECF6\", \"caxis\": {\"gridcolor\": \"white\", \"linecolor\": \"white\", \"ticks\": \"\"}}, \"title\": {\"x\": 0.05}, \"xaxis\": {\"automargin\": true, \"gridcolor\": \"white\", \"linecolor\": \"white\", \"ticks\": \"\", \"zerolinecolor\": \"white\", \"zerolinewidth\": 2}, \"yaxis\": {\"automargin\": true, \"gridcolor\": \"white\", \"linecolor\": \"white\", \"ticks\": \"\", \"zerolinecolor\": \"white\", \"zerolinewidth\": 2}}}},\n",
       "                        {\"responsive\": true}\n",
       "                    ).then(function(){\n",
       "                            \n",
       "var gd = document.getElementById('14d04ce5-6bf4-44c8-9f81-a3e41afa0cfc');\n",
       "var x = new MutationObserver(function (mutations, observer) {{\n",
       "        var display = window.getComputedStyle(gd).display;\n",
       "        if (!display || display === 'none') {{\n",
       "            console.log([gd, 'removed!']);\n",
       "            Plotly.purge(gd);\n",
       "            observer.disconnect();\n",
       "        }}\n",
       "}});\n",
       "\n",
       "// Listen for the removal of the full notebook cells\n",
       "var notebookContainer = gd.closest('#notebook-container');\n",
       "if (notebookContainer) {{\n",
       "    x.observe(notebookContainer, {childList: true});\n",
       "}}\n",
       "\n",
       "// Listen for the clearing of the current output cell\n",
       "var outputEl = gd.closest('.output');\n",
       "if (outputEl) {{\n",
       "    x.observe(outputEl, {childList: true});\n",
       "}}\n",
       "\n",
       "                        })\n",
       "                };\n",
       "                });\n",
       "            </script>\n",
       "        </div>"
      ]
     },
     "metadata": {},
     "output_type": "display_data"
    }
   ],
   "source": [
    "\n",
    "fig = go.Figure()\n",
    "fig.add_trace(go.Scatter(y=aucs))\n",
    "# fig.add_trace(go.Histogram/(x=pred_means[labels==False]))"
   ]
  },
  {
   "cell_type": "code",
   "execution_count": 29,
   "metadata": {},
   "outputs": [
    {
     "name": "stdout",
     "output_type": "stream",
     "text": [
      "AUC: 0.9805929178454167\n"
     ]
    }
   ],
   "source": [
    "x_diff = secondary_scaler.transform(np.abs(XX_test[X_idxs_test[:, 0]] - XX_test[X_idxs_test[:, 1]]))\n",
    "x_diff[np.isnan(x_diff)]=0\n",
    "\n",
    "probs = clf.predict_proba(x_diff)[:, 1]\n",
    "fpr, tpr, thresh = roc_curve(Y_test, probs)\n",
    "roc_auc = auc(fpr, tpr)\n",
    "print('AUC:', roc_auc)"
   ]
  },
  {
   "cell_type": "code",
   "execution_count": 30,
   "metadata": {},
   "outputs": [
    {
     "data": {
      "text/plain": [
       "0.9803591367977031"
      ]
     },
     "execution_count": 30,
     "metadata": {},
     "output_type": "execute_result"
    }
   ],
   "source": [
    "aucs[-1]"
   ]
  },
  {
   "cell_type": "code",
   "execution_count": 32,
   "metadata": {},
   "outputs": [
    {
     "data": {
      "text/plain": [
       "[<matplotlib.lines.Line2D at 0x7fb0ade6c8d0>]"
      ]
     },
     "execution_count": 32,
     "metadata": {},
     "output_type": "execute_result"
    },
    {
     "data": {
      "image/png": "[encoded data removed]",
      "text/plain": [
       "<Figure size 432x288 with 1 Axes>"
      ]
     },
     "metadata": {},
     "output_type": "display_data"
    }
   ],
   "source": [
    "precision, recall, thresholds = precision_recall_curve(Y_test, probs)\n",
    "plt.plot(precision, recall)"
   ]
  },
  {
   "cell_type": "code",
   "execution_count": 33,
   "metadata": {
    "collapsed": true
   },
   "outputs": [],
   "source": [
    "fnames = np.array(transformer.get_feature_names())"
   ]
  },
  {
   "cell_type": "code",
   "execution_count": 34,
   "metadata": {
    "scrolled": true
   },
   "outputs": [
    {
     "data": {
      "text/plain": [
       "array(['special_char_distr__*', \"special_char_distr__'\", 'char_distr__. ',\n",
       "       'char_distr__.. ', 'char_distr__, ',\n",
       "       'pos_tag_chunks_distr__, NP VP', 'masked_stop_words_distr__, but',\n",
       "       'char_distr__,', 'special_char_distr__,', 'char_distr__’',\n",
       "       'masked_stop_words_distr__. but', 'masked_stop_words_distr__, and',\n",
       "       'pos_tag_chunks_distr__PP NP .', 'pos_tag_chunks_distr__NP CC',\n",
       "       'special_char_distr__\"', 'freq_func_words__its', \"char_distr__'\",\n",
       "       'special_char_distr__!', 'masked_stop_words_distr__its',\n",
       "       'special_char_distr__.', 'char_distr__ ht',\n",
       "       'pos_tag_chunks_distr__. CC', 'special_char_distr__?',\n",
       "       'pos_tag_distr__NN NN', 'pos_tag_distr__IN', 'char_distr__snt',\n",
       "       'pos_tag_chunks_distr__. NP VP', 'pos_tag_chunks_distr__, CC',\n",
       "       'masked_stop_words_distr__NN but',\n",
       "       'pos_tag_chunks_distr__NP NP NP', 'char_distr__lol',\n",
       "       'pos_tag_distr__NN NN NN', 'char_distr__ - ',\n",
       "       'masked_stop_words_distr__CD NNS',\n",
       "       'masked_stop_words_distr__you are', 'pos_tag_distr__, PRP',\n",
       "       'pos_tag_chunks_distr__.', 'special_char_distr__/',\n",
       "       'masked_stop_words_distr__:', 'pos_tag_chunks_distr__NP .',\n",
       "       'masked_stop_words_distr__they are', 'pos_tag_chunks_distr__,',\n",
       "       'char_distr__ (', 'char_distr__; ', 'char_distr__ &g',\n",
       "       'char_distr__ly ', 'masked_stop_words_distr__. and',\n",
       "       \"char_distr__'re\", \"char_distr__'r\", 'char_distr__- ',\n",
       "       'pos_tag_distr__JJ VBP', 'pos_tag_chunks_distr__NP CC NP',\n",
       "       'pos_tag_distr__CC', 'char_distr__.', 'special_char_distr__:',\n",
       "       'pos_tag_chunks_distr__CC', 'pos_tag_chunks_distr__PP NP NP',\n",
       "       'pos_tag_distr__. CC', 'masked_stop_words_distr__NNP',\n",
       "       'masked_stop_words_distr__ok', 'pos_tag_distr__. NN',\n",
       "       \"char_distr__ '\", 'char_distr__nt ',\n",
       "       'masked_stop_words_distr__it is', 'pos_tag_chunks_distr__PP NP :',\n",
       "       'char_distr__ it', 'pos_tag_chunks_distr__. NP',\n",
       "       'pos_tag_chunks_distr__, CC NP', 'char_distr__nna',\n",
       "       'char_distr__eah', 'masked_stop_words_distr__going to',\n",
       "       'pos_tag_chunks_distr__. NP .', 'char_distr__re ',\n",
       "       'special_char_distr__-', 'masked_stop_words_distr__that is',\n",
       "       'pos_tag_distr__, RB .', 'char_distr__ah ',\n",
       "       'masked_stop_words_distr__that',\n",
       "       'pos_tag_stats__tag_word_length_PRP', 'char_distr__t’',\n",
       "       'special_char_distr__\\\\', 'pos_tag_stats__tag_fraction_VBD',\n",
       "       'masked_stop_words_distr__this', 'pos_tag_chunks_distr__PP NP PP',\n",
       "       'char_distr__’s', 'masked_stop_words_distr__, so',\n",
       "       'pos_tag_distr__. PRP', 'char_distr__dnt',\n",
       "       'freq_func_words__though', 'char_distr__’s ',\n",
       "       'pos_tag_chunks_distr__: NP VP', 'pos_tag_chunks_distr__NP NP ,',\n",
       "       'special_char_distr__;', 'pos_tag_chunks_distr__VP',\n",
       "       'masked_stop_words_distr__though', 'char_distr__t; ',\n",
       "       'char_distr__t’s', 'special_char_distr__#', 'pos_tag_distr__PRP',\n",
       "       'pos_tag_chunks_distr__: NP :'], dtype='<U53')"
      ]
     },
     "execution_count": 34,
     "metadata": {},
     "output_type": "execute_result"
    }
   ],
   "source": [
    "fnames[np.argsort(-np.abs(clf.coef_[0]))][:100]"
   ]
  }
 ],
 "metadata": {
  "kernelspec": {
   "display_name": "Python 3",
   "language": "python",
   "name": "python3"
  },
  "language_info": {
   "codemirror_mode": {
    "name": "ipython",
    "version": 3
   },
   "file_extension": ".py",
   "mimetype": "text/x-python",
   "name": "python",
   "nbconvert_exporter": "python",
   "pygments_lexer": "ipython3",
   "version": "3.6.9"
  }
 },
 "nbformat": 4,
 "nbformat_minor": 2
}
