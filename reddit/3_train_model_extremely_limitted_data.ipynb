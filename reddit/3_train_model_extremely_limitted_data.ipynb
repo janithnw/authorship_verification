{
 "cells": [
  {
   "cell_type": "code",
   "execution_count": 1,
   "metadata": {},
   "outputs": [],
   "source": [
    "%load_ext autoreload\n",
    "%autoreload 2\n",
    "import sys\n",
    "sys.path.append(\"../\")\n",
    "import warnings\n",
    "warnings.filterwarnings(\"ignore\")"
   ]
  },
  {
   "cell_type": "code",
   "execution_count": 2,
   "metadata": {
    "collapsed": true
   },
   "outputs": [],
   "source": [
    "import pickle\n",
    "import glob\n",
    "from tqdm.notebook import trange, tqdm\n",
    "import json\n",
    "import re\n",
    "import pandas as pd\n",
    "import numpy as np\n",
    "from collections import defaultdict\n",
    "from features import merge_entries\n",
    "from sklearn.preprocessing import StandardScaler\n",
    "from features import merge_entries, get_transformer\n",
    "\n",
    "\n",
    "from utills import cartesian_product, chunker\n",
    "from train_utils import  generate_doc_pairs_no_chunking, fit_transformers_no_chunking, vectorize_no_chunking\n",
    "\n",
    "\n",
    "from sklearn.linear_model import SGDClassifier\n",
    "from sklearn.metrics import precision_recall_curve\n",
    "from sklearn.metrics import roc_curve, auc"
   ]
  },
  {
   "cell_type": "code",
   "execution_count": 3,
   "metadata": {
    "collapsed": true
   },
   "outputs": [],
   "source": [
    "import matplotlib.pyplot as plt\n",
    "import matplotlib.style as style\n",
    "import tikzplotlib\n",
    "%matplotlib inline"
   ]
  },
  {
   "cell_type": "code",
   "execution_count": 4,
   "metadata": {},
   "outputs": [
    {
     "data": {
      "text/html": [
       "        <script type=\"text/javascript\">\n",
       "        window.PlotlyConfig = {MathJaxConfig: 'local'};\n",
       "        if (window.MathJax) {MathJax.Hub.Config({SVG: {font: \"STIX-Web\"}});}\n",
       "        if (typeof require !== 'undefined') {\n",
       "        require.undef(\"plotly\");\n",
       "        requirejs.config({\n",
       "            paths: {\n",
       "                'plotly': ['https://cdn.plot.ly/plotly-latest.min']\n",
       "            }\n",
       "        });\n",
       "        require(['plotly'], function(Plotly) {\n",
       "            window._Plotly = Plotly;\n",
       "        });\n",
       "        }\n",
       "        </script>\n",
       "        "
      ]
     },
     "metadata": {},
     "output_type": "display_data"
    }
   ],
   "source": [
    "\n",
    "from plotly.offline import init_notebook_mode\n",
    "import plotly.offline as py\n",
    "import plotly.graph_objs as go\n",
    "init_notebook_mode(connected=True)"
   ]
  },
  {
   "cell_type": "code",
   "execution_count": 5,
   "metadata": {
    "collapsed": true
   },
   "outputs": [],
   "source": [
    "BASE_PATH = '../data/reddit/'\n",
    "COMPUTED_DATA_PATH = '../temp_data/reddit/preprocessed/'\n",
    "TEMP_DATA = '../temp_data/reddit/unchunked_extrmely_limitted_data_40_capped/'\n",
    "FIGURES_PATH = '../figures/'"
   ]
  },
  {
   "cell_type": "code",
   "execution_count": 6,
   "metadata": {
    "collapsed": true
   },
   "outputs": [],
   "source": [
    "MAX_COMMENTS = 40"
   ]
  },
  {
   "cell_type": "code",
   "execution_count": 7,
   "metadata": {
    "collapsed": true
   },
   "outputs": [],
   "source": [
    "with open(COMPUTED_DATA_PATH + 'metadata.p', 'rb') as f:\n",
    "    (train_files, test_files, min_count, author_mapping_all) = pickle.load(f)"
   ]
  },
  {
   "cell_type": "code",
   "execution_count": 9,
   "metadata": {},
   "outputs": [
    {
     "data": {
      "text/plain": [
       "0.012005522540368569"
      ]
     },
     "execution_count": 9,
     "metadata": {},
     "output_type": "execute_result"
    }
   ],
   "source": [
    "1000 / len(train_users)"
   ]
  },
  {
   "cell_type": "markdown",
   "metadata": {},
   "source": [
    "Vectorized Data\n",
    "==="
   ]
  },
  {
   "cell_type": "code",
   "execution_count": 8,
   "metadata": {},
   "outputs": [
    {
     "data": {
      "application/vnd.jupyter.widget-view+json": {
       "model_id": "acc2c2a0f10d405094c1a4fabc6d58b3"
      }
     },
     "metadata": {},
     "output_type": "display_data"
    },
    {
     "name": "stdout",
     "output_type": "stream",
     "text": [
      "\n"
     ]
    }
   ],
   "source": [
    "train_users = []\n",
    "with open(COMPUTED_DATA_PATH + 'train.jsonl', 'r') as f:\n",
    "    for l in tqdm(f):\n",
    "        d = json.loads(l)\n",
    "        train_users.append(d['username'])"
   ]
  },
  {
   "cell_type": "code",
   "execution_count": 10,
   "metadata": {},
   "outputs": [
    {
     "data": {
      "application/vnd.jupyter.widget-view+json": {
       "model_id": "527cf30e60b04ad2ad40d54419d46321"
      }
     },
     "metadata": {},
     "output_type": "display_data"
    },
    {
     "name": "stdout",
     "output_type": "stream",
     "text": [
      "\n"
     ]
    }
   ],
   "source": [
    "test_users = []\n",
    "with open(COMPUTED_DATA_PATH + 'test.jsonl', 'r') as f:\n",
    "    for l in tqdm(f):\n",
    "        d = json.loads(l)\n",
    "        test_users.append(d['username'])"
   ]
  },
  {
   "cell_type": "code",
   "execution_count": 11,
   "metadata": {},
   "outputs": [],
   "source": [
    "train_user_roots = set()\n",
    "for y in train_users:\n",
    "    u = re.search(r'(.*)_[A-Z]+$', y).group(1)\n",
    "    train_user_roots.add(u)\n",
    "    \n",
    "test_user_roots = set()\n",
    "for y in test_users:\n",
    "    u = re.search(r'(.*)_[A-Z]+$', y).group(1)\n",
    "    test_user_roots.add(u)"
   ]
  },
  {
   "cell_type": "code",
   "execution_count": 17,
   "metadata": {},
   "outputs": [],
   "source": [
    "exclude_users_root = np.random.choice(list(train_user_roots), size=int(len(train_user_roots)*0.96), replace=False)\n",
    "\n",
    "exclude_users = []\n",
    "for u in exclude_users_root:\n",
    "    exclude_users.extend(author_mapping_all[u])"
   ]
  },
  {
   "cell_type": "code",
   "execution_count": 19,
   "metadata": {
    "collapsed": true
   },
   "outputs": [],
   "source": [
    "exclude_users_root_test = np.random.choice(list(test_user_roots), size=int(len(test_user_roots)*0.96), replace=False)\n",
    "\n",
    "exclude_users_test = []\n",
    "for u in exclude_users_root_test:\n",
    "    exclude_users_test.extend(author_mapping_all[u])"
   ]
  },
  {
   "cell_type": "code",
   "execution_count": 20,
   "metadata": {},
   "outputs": [
    {
     "name": "stdout",
     "output_type": "stream",
     "text": [
      "Sampled: 1087\n",
      "Reading preprocessed data...\n"
     ]
    },
    {
     "data": {
      "application/vnd.jupyter.widget-view+json": {
       "model_id": "656f2a78f5cf4351af49d2273054b972"
      }
     },
     "metadata": {},
     "output_type": "display_data"
    },
    {
     "name": "stdout",
     "output_type": "stream",
     "text": [
      "\n",
      "Fitting transformer\n",
      "Generating pairs\n",
      "new2\n"
     ]
    },
    {
     "data": {
      "application/vnd.jupyter.widget-view+json": {
       "model_id": "b7725a016b61476cb249f3022454e364"
      }
     },
     "metadata": {},
     "output_type": "display_data"
    },
    {
     "name": "stdout",
     "output_type": "stream",
     "text": [
      "\n"
     ]
    },
    {
     "data": {
      "application/vnd.jupyter.widget-view+json": {
       "model_id": "49ae313a553c49469b958f7c800cfbbe"
      }
     },
     "metadata": {},
     "output_type": "display_data"
    },
    {
     "name": "stdout",
     "output_type": "stream",
     "text": [
      "\n"
     ]
    },
    {
     "data": {
      "application/vnd.jupyter.widget-view+json": {
       "model_id": "6f59c126e110489aa6f444d0374018bc"
      }
     },
     "metadata": {},
     "output_type": "display_data"
    },
    {
     "name": "stdout",
     "output_type": "stream",
     "text": [
      "\n",
      "143 147 17\n",
      "143 42 17\n"
     ]
    }
   ],
   "source": [
    "transformer, scaler, secondary_scaler = fit_transformers_no_chunking(COMPUTED_DATA_PATH + 'train.jsonl', author_mapping_all, max_comments=MAX_COMMENTS, exclude_users=exclude_users)"
   ]
  },
  {
   "cell_type": "code",
   "execution_count": 21,
   "metadata": {},
   "outputs": [
    {
     "name": "stdout",
     "output_type": "stream",
     "text": [
      "Precomputing record size...\n"
     ]
    },
    {
     "data": {
      "application/vnd.jupyter.widget-view+json": {
       "model_id": "88d61f7e15bb40fe9025fa5f62a86b60"
      }
     },
     "metadata": {},
     "output_type": "display_data"
    },
    {
     "name": "stdout",
     "output_type": "stream",
     "text": [
      "\n"
     ]
    },
    {
     "data": {
      "application/vnd.jupyter.widget-view+json": {
       "model_id": "cf3d89aa29ae4840b0c1fe666bdad843"
      }
     },
     "metadata": {},
     "output_type": "display_data"
    },
    {
     "name": "stdout",
     "output_type": "stream",
     "text": [
      "\n"
     ]
    }
   ],
   "source": [
    "XX_train, author_to_doc_idx, author_subreddit, x_shape, e, t = vectorize_no_chunking(\n",
    "    preprocessed_path = COMPUTED_DATA_PATH + 'train.jsonl', \n",
    "    vectorized_x_path = TEMP_DATA + 'XX_train.npy', \n",
    "    transformer=transformer,\n",
    "    scaler=scaler,\n",
    "    max_comments=MAX_COMMENTS,\n",
    "    exclude_users=exclude_users\n",
    ")"
   ]
  },
  {
   "cell_type": "code",
   "execution_count": 22,
   "metadata": {},
   "outputs": [
    {
     "name": "stdout",
     "output_type": "stream",
     "text": [
      "Excluded:  79967 Total: 83295\n"
     ]
    }
   ],
   "source": [
    "print('Excluded: ', len(e), 'Total:', t)"
   ]
  },
  {
   "cell_type": "code",
   "execution_count": 23,
   "metadata": {},
   "outputs": [
    {
     "data": {
      "text/plain": [
       "(3328, 80067)"
      ]
     },
     "execution_count": 23,
     "metadata": {},
     "output_type": "execute_result"
    }
   ],
   "source": [
    "len(author_subreddit), len(exclude_users)"
   ]
  },
  {
   "cell_type": "code",
   "execution_count": 24,
   "metadata": {},
   "outputs": [
    {
     "name": "stdout",
     "output_type": "stream",
     "text": [
      "Precomputing record size...\n"
     ]
    },
    {
     "data": {
      "application/vnd.jupyter.widget-view+json": {
       "model_id": "dd5a5616a8584b299d7f3563cee26259"
      }
     },
     "metadata": {},
     "output_type": "display_data"
    },
    {
     "name": "stdout",
     "output_type": "stream",
     "text": [
      "\n"
     ]
    },
    {
     "data": {
      "application/vnd.jupyter.widget-view+json": {
       "model_id": "b092de4c2d17443cb3c9b75c9f09f319"
      }
     },
     "metadata": {},
     "output_type": "display_data"
    },
    {
     "name": "stdout",
     "output_type": "stream",
     "text": [
      "\n"
     ]
    }
   ],
   "source": [
    "XX_test, author_to_doc_idx_test, author_subreddit_test, x_shape_test, e, t = vectorize_no_chunking(\n",
    "    preprocessed_path = COMPUTED_DATA_PATH + 'test.jsonl', \n",
    "    vectorized_x_path = TEMP_DATA + 'XX_test.npy', \n",
    "    transformer=transformer,\n",
    "    scaler=scaler,\n",
    "    max_comments=MAX_COMMENTS,\n",
    "    exclude_users=exclude_users_test\n",
    ")"
   ]
  },
  {
   "cell_type": "code",
   "execution_count": 25,
   "metadata": {},
   "outputs": [
    {
     "name": "stdout",
     "output_type": "stream",
     "text": [
      "Excluded:  41238 Total: 42961\n"
     ]
    }
   ],
   "source": [
    "print('Excluded: ', len(e), 'Total:', t)"
   ]
  },
  {
   "cell_type": "code",
   "execution_count": 26,
   "metadata": {},
   "outputs": [
    {
     "data": {
      "text/plain": [
       "1723"
      ]
     },
     "execution_count": 26,
     "metadata": {},
     "output_type": "execute_result"
    }
   ],
   "source": [
    "len(author_subreddit_test)"
   ]
  },
  {
   "cell_type": "code",
   "execution_count": 27,
   "metadata": {
    "collapsed": true
   },
   "outputs": [],
   "source": [
    "author_mapping = defaultdict(set)\n",
    "author_to_root = {}\n",
    "for y in author_to_doc_idx.keys():\n",
    "    u = re.search(r'(.*)_[A-Z]+$', y).group(1)\n",
    "    author_mapping[u].add(y)\n",
    "    author_to_root[y] = u\n",
    "\n",
    "subreddit_to_author = defaultdict(list)\n",
    "for k, v in author_subreddit.items():\n",
    "    subreddit_to_author[v].append(k)\n",
    "    \n",
    "author_mapping_test = defaultdict(set)\n",
    "author_to_root_test = {}\n",
    "for y in author_to_doc_idx_test.keys():\n",
    "    u = re.search(r'(.*)_[A-Z]+$', y).group(1)\n",
    "    author_mapping_test[u].add(y)\n",
    "    author_to_root_test[y] = u\n",
    "\n",
    "subreddit_to_author_test = defaultdict(list)\n",
    "for k, v in author_subreddit_test.items():\n",
    "    subreddit_to_author_test[v].append(k)"
   ]
  },
  {
   "cell_type": "code",
   "execution_count": 28,
   "metadata": {},
   "outputs": [
    {
     "name": "stdout",
     "output_type": "stream",
     "text": [
      "Total number of authors: 1860\n",
      "Train authors: 1220\n",
      "Test authors: 640\n"
     ]
    }
   ],
   "source": [
    "train_authors = np.unique(list(author_to_root.values()))\n",
    "test_authors = np.unique(list(author_to_root_test.values()))\n",
    "\n",
    "print('Total number of authors:', len(train_authors) + len(test_authors))\n",
    "print('Train authors:', len(train_authors))\n",
    "print('Test authors:', len(test_authors))"
   ]
  },
  {
   "cell_type": "code",
   "execution_count": 29,
   "metadata": {},
   "outputs": [
    {
     "name": "stdout",
     "output_type": "stream",
     "text": [
      "new2\n"
     ]
    },
    {
     "data": {
      "application/vnd.jupyter.widget-view+json": {
       "model_id": "6bebaf8c24de4c8f931965d9c5433e3b"
      }
     },
     "metadata": {},
     "output_type": "display_data"
    },
    {
     "name": "stdout",
     "output_type": "stream",
     "text": [
      "\n"
     ]
    },
    {
     "data": {
      "application/vnd.jupyter.widget-view+json": {
       "model_id": "6edcbcffd1a74fd19686396e49fcbe3b"
      }
     },
     "metadata": {},
     "output_type": "display_data"
    },
    {
     "name": "stdout",
     "output_type": "stream",
     "text": [
      "\n"
     ]
    },
    {
     "data": {
      "application/vnd.jupyter.widget-view+json": {
       "model_id": "974b3962733741f9b2996a339c69b917"
      }
     },
     "metadata": {},
     "output_type": "display_data"
    },
    {
     "name": "stdout",
     "output_type": "stream",
     "text": [
      "\n",
      "3556 3328 1663\n",
      "3556 1066 1663\n",
      "new2\n"
     ]
    },
    {
     "data": {
      "application/vnd.jupyter.widget-view+json": {
       "model_id": "2a71e7f1333d4f1a8a33e26fa2d236e7"
      }
     },
     "metadata": {},
     "output_type": "display_data"
    },
    {
     "name": "stdout",
     "output_type": "stream",
     "text": [
      "\n"
     ]
    },
    {
     "data": {
      "application/vnd.jupyter.widget-view+json": {
       "model_id": "235f9d6d9ba74ea694b68522411697b6"
      }
     },
     "metadata": {},
     "output_type": "display_data"
    },
    {
     "name": "stdout",
     "output_type": "stream",
     "text": [
      "\n"
     ]
    },
    {
     "data": {
      "application/vnd.jupyter.widget-view+json": {
       "model_id": "e73da31addf74970ba4504690bfdd111"
      }
     },
     "metadata": {},
     "output_type": "display_data"
    },
    {
     "name": "stdout",
     "output_type": "stream",
     "text": [
      "\n",
      "1864 1723 697\n",
      "1864 559 697\n"
     ]
    }
   ],
   "source": [
    "X_idxs_train, Y_train = generate_doc_pairs_no_chunking(author_mapping, subreddit_to_author, author_to_root, author_to_doc_idx, author_subreddit)    \n",
    "X_idxs_test, Y_test = generate_doc_pairs_no_chunking(author_mapping_test, subreddit_to_author_test, author_to_root_test, author_to_doc_idx_test, author_subreddit_test)"
   ]
  },
  {
   "cell_type": "markdown",
   "metadata": {},
   "source": [
    "Train the classifier\n",
    "==="
   ]
  },
  {
   "cell_type": "code",
   "execution_count": 30,
   "metadata": {
    "collapsed": true
   },
   "outputs": [],
   "source": [
    "batch_sz = 10000\n",
    "x_test_diff_sample = secondary_scaler.transform(np.abs(XX_test[X_idxs_test[:batch_sz, 0]] - XX_test[X_idxs_test[:batch_sz, 1]]))\n",
    "y_test_sample = Y_test[:batch_sz]"
   ]
  },
  {
   "cell_type": "code",
   "execution_count": 31,
   "metadata": {},
   "outputs": [
    {
     "data": {
      "text/plain": [
       "6285"
      ]
     },
     "execution_count": 31,
     "metadata": {},
     "output_type": "execute_result"
    }
   ],
   "source": [
    "len(X_idxs_train)"
   ]
  },
  {
   "cell_type": "code",
   "execution_count": 65,
   "metadata": {
    "scrolled": true
   },
   "outputs": [
    {
     "name": "stdout",
     "output_type": "stream",
     "text": [
      "AUC: 0.8739320645144875\n",
      "~~~~~~~~~~~~~~~~~~~~ Epoch:  0\n",
      "AUC: 0.8963148473643368\n",
      "~~~~~~~~~~~~~~~~~~~~ Epoch:  1\n",
      "AUC: 0.9004108748934583\n",
      "~~~~~~~~~~~~~~~~~~~~ Epoch:  2\n",
      "AUC: 0.9036706025281673\n",
      "~~~~~~~~~~~~~~~~~~~~ Epoch:  3\n",
      "AUC: 0.90237434431756\n",
      "~~~~~~~~~~~~~~~~~~~~ Epoch:  4\n",
      "AUC: 0.9058046182942292\n",
      "~~~~~~~~~~~~~~~~~~~~ Epoch:  5\n",
      "AUC: 0.8942599428384845\n",
      "~~~~~~~~~~~~~~~~~~~~ Epoch:  6\n",
      "AUC: 0.9027676477697255\n",
      "~~~~~~~~~~~~~~~~~~~~ Epoch:  7\n",
      "AUC: 0.9035478939713258\n",
      "~~~~~~~~~~~~~~~~~~~~ Epoch:  8\n",
      "AUC: 0.898118239103056\n",
      "~~~~~~~~~~~~~~~~~~~~ Epoch:  9\n",
      "AUC: 0.9082430201888704\n",
      "~~~~~~~~~~~~~~~~~~~~ Epoch:  10\n",
      "AUC: 0.9088195913884568\n",
      "~~~~~~~~~~~~~~~~~~~~ Epoch:  11\n",
      "AUC: 0.9051180599432624\n",
      "~~~~~~~~~~~~~~~~~~~~ Epoch:  12\n",
      "AUC: 0.9046835444379895\n",
      "~~~~~~~~~~~~~~~~~~~~ Epoch:  13\n",
      "AUC: 0.9008850122761562\n",
      "~~~~~~~~~~~~~~~~~~~~ Epoch:  14\n",
      "AUC: 0.9063854299623022\n",
      "~~~~~~~~~~~~~~~~~~~~ Epoch:  15\n",
      "AUC: 0.905839867188527\n",
      "~~~~~~~~~~~~~~~~~~~~ Epoch:  16\n",
      "AUC: 0.9036087181911857\n",
      "~~~~~~~~~~~~~~~~~~~~ Epoch:  17\n",
      "AUC: 0.9062953200069542\n",
      "~~~~~~~~~~~~~~~~~~~~ Epoch:  18\n",
      "AUC: 0.9037287764552226\n",
      "~~~~~~~~~~~~~~~~~~~~ Epoch:  19\n",
      "AUC: 0.9053336612628964\n",
      "~~~~~~~~~~~~~~~~~~~~ Epoch:  20\n",
      "AUC: 0.9073547745554928\n",
      "~~~~~~~~~~~~~~~~~~~~ Epoch:  21\n",
      "AUC: 0.9048857617789613\n",
      "~~~~~~~~~~~~~~~~~~~~ Epoch:  22\n",
      "AUC: 0.9060603715498489\n",
      "~~~~~~~~~~~~~~~~~~~~ Epoch:  23\n",
      "AUC: 0.9036227647430488\n",
      "~~~~~~~~~~~~~~~~~~~~ Epoch:  24\n",
      "AUC: 0.9050347082345658\n",
      "~~~~~~~~~~~~~~~~~~~~ Epoch:  25\n",
      "AUC: 0.902024373152746\n",
      "~~~~~~~~~~~~~~~~~~~~ Epoch:  26\n",
      "AUC: 0.9054492140291659\n",
      "~~~~~~~~~~~~~~~~~~~~ Epoch:  27\n",
      "AUC: 0.9029192445181345\n",
      "~~~~~~~~~~~~~~~~~~~~ Epoch:  28\n",
      "AUC: 0.9046093362394677\n",
      "~~~~~~~~~~~~~~~~~~~~ Epoch:  29\n",
      "AUC: 0.9067149938725232\n",
      "~~~~~~~~~~~~~~~~~~~~ Epoch:  30\n",
      "AUC: 0.9047543072558656\n",
      "~~~~~~~~~~~~~~~~~~~~ Epoch:  31\n",
      "AUC: 0.9055483349800486\n",
      "~~~~~~~~~~~~~~~~~~~~ Epoch:  32\n",
      "AUC: 0.9060550709642402\n",
      "~~~~~~~~~~~~~~~~~~~~ Epoch:  33\n",
      "AUC: 0.9031991154382737\n",
      "~~~~~~~~~~~~~~~~~~~~ Epoch:  34\n",
      "AUC: 0.9057783803954661\n",
      "~~~~~~~~~~~~~~~~~~~~ Epoch:  35\n",
      "AUC: 0.9037707835961717\n",
      "~~~~~~~~~~~~~~~~~~~~ Epoch:  36\n",
      "AUC: 0.9058883675468465\n",
      "~~~~~~~~~~~~~~~~~~~~ Epoch:  37\n",
      "AUC: 0.905608231597427\n",
      "~~~~~~~~~~~~~~~~~~~~ Epoch:  38\n",
      "AUC: 0.9068949487539383\n",
      "~~~~~~~~~~~~~~~~~~~~ Epoch:  39\n",
      "AUC: 0.9068090792670774\n",
      "~~~~~~~~~~~~~~~~~~~~ Epoch:  40\n",
      "AUC: 0.9076614134329561\n",
      "~~~~~~~~~~~~~~~~~~~~ Epoch:  41\n",
      "AUC: 0.9083666563481932\n",
      "~~~~~~~~~~~~~~~~~~~~ Epoch:  42\n",
      "AUC: 0.9059252066168272\n",
      "~~~~~~~~~~~~~~~~~~~~ Epoch:  43\n",
      "AUC: 0.9070608570834906\n",
      "~~~~~~~~~~~~~~~~~~~~ Epoch:  44\n",
      "AUC: 0.9078572700711974\n",
      "~~~~~~~~~~~~~~~~~~~~ Epoch:  45\n",
      "AUC: 0.9071562676244472\n",
      "~~~~~~~~~~~~~~~~~~~~ Epoch:  46\n",
      "AUC: 0.9073656407559908\n",
      "~~~~~~~~~~~~~~~~~~~~ Epoch:  47\n",
      "AUC: 0.9080080717317649\n",
      "~~~~~~~~~~~~~~~~~~~~ Epoch:  48\n",
      "AUC: 0.9074499200671691\n",
      "~~~~~~~~~~~~~~~~~~~~ Epoch:  49\n",
      "AUC: 0.9064348579231034\n",
      "~~~~~~~~~~~~~~~~~~~~ Epoch:  50\n",
      "AUC: 0.9078456087828582\n",
      "~~~~~~~~~~~~~~~~~~~~ Epoch:  51\n",
      "AUC: 0.907771135555056\n",
      "~~~~~~~~~~~~~~~~~~~~ Epoch:  52\n",
      "AUC: 0.9077107088791169\n",
      "~~~~~~~~~~~~~~~~~~~~ Epoch:  53\n",
      "AUC: 0.9081832560861325\n",
      "~~~~~~~~~~~~~~~~~~~~ Epoch:  54\n",
      "AUC: 0.9077478129783779\n",
      "~~~~~~~~~~~~~~~~~~~~ Epoch:  55\n",
      "AUC: 0.9080372249526129\n",
      "~~~~~~~~~~~~~~~~~~~~ Epoch:  56\n",
      "AUC: 0.9079076256344801\n",
      "~~~~~~~~~~~~~~~~~~~~ Epoch:  57\n",
      "AUC: 0.9088580206341197\n",
      "~~~~~~~~~~~~~~~~~~~~ Epoch:  58\n",
      "AUC: 0.9080682333784236\n",
      "~~~~~~~~~~~~~~~~~~~~ Epoch:  59\n",
      "AUC: 0.9088272772375893\n",
      "~~~~~~~~~~~~~~~~~~~~ Epoch:  60\n",
      "AUC: 0.9085320346191847\n",
      "~~~~~~~~~~~~~~~~~~~~ Epoch:  61\n",
      "AUC: 0.9094792492674592\n",
      "~~~~~~~~~~~~~~~~~~~~ Epoch:  62\n",
      "AUC: 0.9093308328704155\n",
      "~~~~~~~~~~~~~~~~~~~~ Epoch:  63\n",
      "AUC: 0.9092977042103612\n",
      "~~~~~~~~~~~~~~~~~~~~ Epoch:  64\n",
      "AUC: 0.9102359078631006\n",
      "~~~~~~~~~~~~~~~~~~~~ Epoch:  65\n",
      "AUC: 0.9090798501418436\n",
      "~~~~~~~~~~~~~~~~~~~~ Epoch:  66\n",
      "AUC: 0.9102679764060332\n",
      "~~~~~~~~~~~~~~~~~~~~ Epoch:  67\n",
      "AUC: 0.9101942982660723\n",
      "~~~~~~~~~~~~~~~~~~~~ Epoch:  68\n",
      "AUC: 0.9105059726998639\n",
      "~~~~~~~~~~~~~~~~~~~~ Epoch:  69\n",
      "AUC: 0.9105868066303966\n",
      "~~~~~~~~~~~~~~~~~~~~ Epoch:  70\n",
      "AUC: 0.9107890239713683\n",
      "~~~~~~~~~~~~~~~~~~~~ Epoch:  71\n",
      "AUC: 0.9110975180537946\n",
      "~~~~~~~~~~~~~~~~~~~~ Epoch:  72\n",
      "AUC: 0.9111415129143469\n",
      "~~~~~~~~~~~~~~~~~~~~ Epoch:  73\n",
      "AUC: 0.9116673310067297\n",
      "~~~~~~~~~~~~~~~~~~~~ Epoch:  74\n",
      "AUC: 0.9120251205353167\n",
      "~~~~~~~~~~~~~~~~~~~~ Epoch:  75\n",
      "AUC: 0.9111841826284969\n",
      "~~~~~~~~~~~~~~~~~~~~ Epoch:  76\n",
      "AUC: 0.9117115908965621\n",
      "~~~~~~~~~~~~~~~~~~~~ Epoch:  77\n",
      "AUC: 0.9116887983784449\n",
      "~~~~~~~~~~~~~~~~~~~~ Epoch:  78\n",
      "AUC: 0.9119148683546558\n",
      "~~~~~~~~~~~~~~~~~~~~ Epoch:  79\n",
      "AUC: 0.9113246481471274\n",
      "~~~~~~~~~~~~~~~~~~~~ Epoch:  80\n",
      "AUC: 0.9118006407347884\n",
      "~~~~~~~~~~~~~~~~~~~~ Epoch:  81\n",
      "AUC: 0.9127078359617171\n",
      "~~~~~~~~~~~~~~~~~~~~ Epoch:  82\n",
      "AUC: 0.9122798136738147\n",
      "~~~~~~~~~~~~~~~~~~~~ Epoch:  83\n",
      "AUC: 0.9122249526127647\n",
      "~~~~~~~~~~~~~~~~~~~~ Epoch:  84\n",
      "AUC: 0.9124483722961715\n",
      "~~~~~~~~~~~~~~~~~~~~ Epoch:  85\n",
      "AUC: 0.912233698579019\n",
      "~~~~~~~~~~~~~~~~~~~~ Epoch:  86\n",
      "AUC: 0.9127229426307019\n",
      "~~~~~~~~~~~~~~~~~~~~ Epoch:  87\n",
      "AUC: 0.9123386501740712\n",
      "~~~~~~~~~~~~~~~~~~~~ Epoch:  88\n",
      "AUC: 0.9127433498852953\n",
      "~~~~~~~~~~~~~~~~~~~~ Epoch:  89\n",
      "AUC: 0.9122268078177277\n",
      "~~~~~~~~~~~~~~~~~~~~ Epoch:  90\n",
      "AUC: 0.9118676931427383\n",
      "~~~~~~~~~~~~~~~~~~~~ Epoch:  91\n",
      "AUC: 0.9126052696301888\n",
      "~~~~~~~~~~~~~~~~~~~~ Epoch:  92\n",
      "AUC: 0.9129405316699388\n",
      "~~~~~~~~~~~~~~~~~~~~ Epoch:  93\n",
      "AUC: 0.9131557354456521\n",
      "~~~~~~~~~~~~~~~~~~~~ Epoch:  94\n",
      "AUC: 0.9125975837810562\n",
      "~~~~~~~~~~~~~~~~~~~~ Epoch:  95\n",
      "AUC: 0.9124751402534952\n",
      "~~~~~~~~~~~~~~~~~~~~ Epoch:  96\n",
      "AUC: 0.9132506159280478\n",
      "~~~~~~~~~~~~~~~~~~~~ Epoch:  97\n",
      "AUC: 0.9124343257443083\n",
      "~~~~~~~~~~~~~~~~~~~~ Epoch:  98\n",
      "AUC: 0.9128400855726541\n",
      "~~~~~~~~~~~~~~~~~~~~ Epoch:  99\n"
     ]
    }
   ],
   "source": [
    "batch_sz = 10000\n",
    "clf = SGDClassifier(loss='log', alpha=0.01)\n",
    "aucs = []\n",
    "for i in range(100):\n",
    "    for idxs in chunker(np.arange(len(X_idxs_train)), batch_sz):\n",
    "        x_diff = secondary_scaler.transform(np.abs(XX_train[X_idxs_train[idxs, 0]] - XX_train[X_idxs_train[idxs, 1]]))\n",
    "        x_diff[np.isnan(x_diff)]=0\n",
    "        y = Y_train[idxs]\n",
    "        clf.partial_fit(x_diff, y, classes=[0, 1])\n",
    "\n",
    "        probs = clf.predict_proba(x_test_diff_sample)[:, 1]\n",
    "\n",
    "        fpr, tpr, thresh = roc_curve(y_test_sample, probs)\n",
    "        roc_auc = auc(fpr, tpr)\n",
    "        print('AUC:', roc_auc)\n",
    "    print('~'*20, 'Epoch: ', i)\n",
    "    aucs.append(roc_auc)"
   ]
  },
  {
   "cell_type": "code",
   "execution_count": 66,
   "metadata": {},
   "outputs": [
    {
     "data": {
      "application/vnd.plotly.v1+json": {
       "config": {
        "plotlyServerURL": "https://plot.ly"
       },
       "data": [
        {
         "type": "scatter",
         "y": [
          0.8739320645144875,
          0.8963148473643368,
          0.9004108748934583,
          0.9036706025281673,
          0.90237434431756,
          0.9058046182942292,
          0.8942599428384845,
          0.9027676477697255,
          0.9035478939713258,
          0.898118239103056,
          0.9082430201888704,
          0.9088195913884568,
          0.9051180599432624,
          0.9046835444379895,
          0.9008850122761562,
          0.9063854299623022,
          0.905839867188527,
          0.9036087181911857,
          0.9062953200069542,
          0.9037287764552226,
          0.9053336612628964,
          0.9073547745554928,
          0.9048857617789613,
          0.9060603715498489,
          0.9036227647430488,
          0.9050347082345658,
          0.902024373152746,
          0.9054492140291659,
          0.9029192445181345,
          0.9046093362394677,
          0.9067149938725232,
          0.9047543072558656,
          0.9055483349800486,
          0.9060550709642402,
          0.9031991154382737,
          0.9057783803954661,
          0.9037707835961717,
          0.9058883675468465,
          0.905608231597427,
          0.9068949487539383,
          0.9068090792670774,
          0.9076614134329561,
          0.9083666563481932,
          0.9059252066168272,
          0.9070608570834906,
          0.9078572700711974,
          0.9071562676244472,
          0.9073656407559908,
          0.9080080717317649,
          0.9074499200671691,
          0.9064348579231034,
          0.9078456087828582,
          0.907771135555056,
          0.9077107088791169,
          0.9081832560861325,
          0.9077478129783779,
          0.9080372249526129,
          0.9079076256344801,
          0.9088580206341197,
          0.9080682333784236,
          0.9088272772375893,
          0.9085320346191847,
          0.9094792492674592,
          0.9093308328704155,
          0.9092977042103612,
          0.9102359078631006,
          0.9090798501418436,
          0.9102679764060332,
          0.9101942982660723,
          0.9105059726998639,
          0.9105868066303966,
          0.9107890239713683,
          0.9110975180537946,
          0.9111415129143469,
          0.9116673310067297,
          0.9120251205353167,
          0.9111841826284969,
          0.9117115908965621,
          0.9116887983784449,
          0.9119148683546558,
          0.9113246481471274,
          0.9118006407347884,
          0.9127078359617171,
          0.9122798136738147,
          0.9122249526127647,
          0.9124483722961715,
          0.912233698579019,
          0.9127229426307019,
          0.9123386501740712,
          0.9127433498852953,
          0.9122268078177277,
          0.9118676931427383,
          0.9126052696301888,
          0.9129405316699388,
          0.9131557354456521,
          0.9125975837810562,
          0.9124751402534952,
          0.9132506159280478,
          0.9124343257443083,
          0.9128400855726541
         ]
        }
       ],
       "layout": {
        "template": {
         "data": {
          "bar": [
           {
            "error_x": {
             "color": "#2a3f5f"
            },
            "error_y": {
             "color": "#2a3f5f"
            },
            "marker": {
             "line": {
              "color": "#E5ECF6",
              "width": 0.5
             }
            },
            "type": "bar"
           }
          ],
          "barpolar": [
           {
            "marker": {
             "line": {
              "color": "#E5ECF6",
              "width": 0.5
             }
            },
            "type": "barpolar"
           }
          ],
          "carpet": [
           {
            "aaxis": {
             "endlinecolor": "#2a3f5f",
             "gridcolor": "white",
             "linecolor": "white",
             "minorgridcolor": "white",
             "startlinecolor": "#2a3f5f"
            },
            "baxis": {
             "endlinecolor": "#2a3f5f",
             "gridcolor": "white",
             "linecolor": "white",
             "minorgridcolor": "white",
             "startlinecolor": "#2a3f5f"
            },
            "type": "carpet"
           }
          ],
          "choropleth": [
           {
            "colorbar": {
             "outlinewidth": 0,
             "ticks": ""
            },
            "type": "choropleth"
           }
          ],
          "contour": [
           {
            "colorbar": {
             "outlinewidth": 0,
             "ticks": ""
            },
            "colorscale": [
             [
              0,
              "#0d0887"
             ],
             [
              0.1111111111111111,
              "#46039f"
             ],
             [
              0.2222222222222222,
              "#7201a8"
             ],
             [
              0.3333333333333333,
              "#9c179e"
             ],
             [
              0.4444444444444444,
              "#bd3786"
             ],
             [
              0.5555555555555556,
              "#d8576b"
             ],
             [
              0.6666666666666666,
              "#ed7953"
             ],
             [
              0.7777777777777778,
              "#fb9f3a"
             ],
             [
              0.8888888888888888,
              "#fdca26"
             ],
             [
              1,
              "#f0f921"
             ]
            ],
            "type": "contour"
           }
          ],
          "contourcarpet": [
           {
            "colorbar": {
             "outlinewidth": 0,
             "ticks": ""
            },
            "type": "contourcarpet"
           }
          ],
          "heatmap": [
           {
            "colorbar": {
             "outlinewidth": 0,
             "ticks": ""
            },
            "colorscale": [
             [
              0,
              "#0d0887"
             ],
             [
              0.1111111111111111,
              "#46039f"
             ],
             [
              0.2222222222222222,
              "#7201a8"
             ],
             [
              0.3333333333333333,
              "#9c179e"
             ],
             [
              0.4444444444444444,
              "#bd3786"
             ],
             [
              0.5555555555555556,
              "#d8576b"
             ],
             [
              0.6666666666666666,
              "#ed7953"
             ],
             [
              0.7777777777777778,
              "#fb9f3a"
             ],
             [
              0.8888888888888888,
              "#fdca26"
             ],
             [
              1,
              "#f0f921"
             ]
            ],
            "type": "heatmap"
           }
          ],
          "heatmapgl": [
           {
            "colorbar": {
             "outlinewidth": 0,
             "ticks": ""
            },
            "colorscale": [
             [
              0,
              "#0d0887"
             ],
             [
              0.1111111111111111,
              "#46039f"
             ],
             [
              0.2222222222222222,
              "#7201a8"
             ],
             [
              0.3333333333333333,
              "#9c179e"
             ],
             [
              0.4444444444444444,
              "#bd3786"
             ],
             [
              0.5555555555555556,
              "#d8576b"
             ],
             [
              0.6666666666666666,
              "#ed7953"
             ],
             [
              0.7777777777777778,
              "#fb9f3a"
             ],
             [
              0.8888888888888888,
              "#fdca26"
             ],
             [
              1,
              "#f0f921"
             ]
            ],
            "type": "heatmapgl"
           }
          ],
          "histogram": [
           {
            "marker": {
             "colorbar": {
              "outlinewidth": 0,
              "ticks": ""
             }
            },
            "type": "histogram"
           }
          ],
          "histogram2d": [
           {
            "colorbar": {
             "outlinewidth": 0,
             "ticks": ""
            },
            "colorscale": [
             [
              0,
              "#0d0887"
             ],
             [
              0.1111111111111111,
              "#46039f"
             ],
             [
              0.2222222222222222,
              "#7201a8"
             ],
             [
              0.3333333333333333,
              "#9c179e"
             ],
             [
              0.4444444444444444,
              "#bd3786"
             ],
             [
              0.5555555555555556,
              "#d8576b"
             ],
             [
              0.6666666666666666,
              "#ed7953"
             ],
             [
              0.7777777777777778,
              "#fb9f3a"
             ],
             [
              0.8888888888888888,
              "#fdca26"
             ],
             [
              1,
              "#f0f921"
             ]
            ],
            "type": "histogram2d"
           }
          ],
          "histogram2dcontour": [
           {
            "colorbar": {
             "outlinewidth": 0,
             "ticks": ""
            },
            "colorscale": [
             [
              0,
              "#0d0887"
             ],
             [
              0.1111111111111111,
              "#46039f"
             ],
             [
              0.2222222222222222,
              "#7201a8"
             ],
             [
              0.3333333333333333,
              "#9c179e"
             ],
             [
              0.4444444444444444,
              "#bd3786"
             ],
             [
              0.5555555555555556,
              "#d8576b"
             ],
             [
              0.6666666666666666,
              "#ed7953"
             ],
             [
              0.7777777777777778,
              "#fb9f3a"
             ],
             [
              0.8888888888888888,
              "#fdca26"
             ],
             [
              1,
              "#f0f921"
             ]
            ],
            "type": "histogram2dcontour"
           }
          ],
          "mesh3d": [
           {
            "colorbar": {
             "outlinewidth": 0,
             "ticks": ""
            },
            "type": "mesh3d"
           }
          ],
          "parcoords": [
           {
            "line": {
             "colorbar": {
              "outlinewidth": 0,
              "ticks": ""
             }
            },
            "type": "parcoords"
           }
          ],
          "scatter": [
           {
            "marker": {
             "colorbar": {
              "outlinewidth": 0,
              "ticks": ""
             }
            },
            "type": "scatter"
           }
          ],
          "scatter3d": [
           {
            "line": {
             "colorbar": {
              "outlinewidth": 0,
              "ticks": ""
             }
            },
            "marker": {
             "colorbar": {
              "outlinewidth": 0,
              "ticks": ""
             }
            },
            "type": "scatter3d"
           }
          ],
          "scattercarpet": [
           {
            "marker": {
             "colorbar": {
              "outlinewidth": 0,
              "ticks": ""
             }
            },
            "type": "scattercarpet"
           }
          ],
          "scattergeo": [
           {
            "marker": {
             "colorbar": {
              "outlinewidth": 0,
              "ticks": ""
             }
            },
            "type": "scattergeo"
           }
          ],
          "scattergl": [
           {
            "marker": {
             "colorbar": {
              "outlinewidth": 0,
              "ticks": ""
             }
            },
            "type": "scattergl"
           }
          ],
          "scattermapbox": [
           {
            "marker": {
             "colorbar": {
              "outlinewidth": 0,
              "ticks": ""
             }
            },
            "type": "scattermapbox"
           }
          ],
          "scatterpolar": [
           {
            "marker": {
             "colorbar": {
              "outlinewidth": 0,
              "ticks": ""
             }
            },
            "type": "scatterpolar"
           }
          ],
          "scatterpolargl": [
           {
            "marker": {
             "colorbar": {
              "outlinewidth": 0,
              "ticks": ""
             }
            },
            "type": "scatterpolargl"
           }
          ],
          "scatterternary": [
           {
            "marker": {
             "colorbar": {
              "outlinewidth": 0,
              "ticks": ""
             }
            },
            "type": "scatterternary"
           }
          ],
          "surface": [
           {
            "colorbar": {
             "outlinewidth": 0,
             "ticks": ""
            },
            "colorscale": [
             [
              0,
              "#0d0887"
             ],
             [
              0.1111111111111111,
              "#46039f"
             ],
             [
              0.2222222222222222,
              "#7201a8"
             ],
             [
              0.3333333333333333,
              "#9c179e"
             ],
             [
              0.4444444444444444,
              "#bd3786"
             ],
             [
              0.5555555555555556,
              "#d8576b"
             ],
             [
              0.6666666666666666,
              "#ed7953"
             ],
             [
              0.7777777777777778,
              "#fb9f3a"
             ],
             [
              0.8888888888888888,
              "#fdca26"
             ],
             [
              1,
              "#f0f921"
             ]
            ],
            "type": "surface"
           }
          ],
          "table": [
           {
            "cells": {
             "fill": {
              "color": "#EBF0F8"
             },
             "line": {
              "color": "white"
             }
            },
            "header": {
             "fill": {
              "color": "#C8D4E3"
             },
             "line": {
              "color": "white"
             }
            },
            "type": "table"
           }
          ]
         },
         "layout": {
          "annotationdefaults": {
           "arrowcolor": "#2a3f5f",
           "arrowhead": 0,
           "arrowwidth": 1
          },
          "colorscale": {
           "diverging": [
            [
             0,
             "#8e0152"
            ],
            [
             0.1,
             "#c51b7d"
            ],
            [
             0.2,
             "#de77ae"
            ],
            [
             0.3,
             "#f1b6da"
            ],
            [
             0.4,
             "#fde0ef"
            ],
            [
             0.5,
             "#f7f7f7"
            ],
            [
             0.6,
             "#e6f5d0"
            ],
            [
             0.7,
             "#b8e186"
            ],
            [
             0.8,
             "#7fbc41"
            ],
            [
             0.9,
             "#4d9221"
            ],
            [
             1,
             "#276419"
            ]
           ],
           "sequential": [
            [
             0,
             "#0d0887"
            ],
            [
             0.1111111111111111,
             "#46039f"
            ],
            [
             0.2222222222222222,
             "#7201a8"
            ],
            [
             0.3333333333333333,
             "#9c179e"
            ],
            [
             0.4444444444444444,
             "#bd3786"
            ],
            [
             0.5555555555555556,
             "#d8576b"
            ],
            [
             0.6666666666666666,
             "#ed7953"
            ],
            [
             0.7777777777777778,
             "#fb9f3a"
            ],
            [
             0.8888888888888888,
             "#fdca26"
            ],
            [
             1,
             "#f0f921"
            ]
           ],
           "sequentialminus": [
            [
             0,
             "#0d0887"
            ],
            [
             0.1111111111111111,
             "#46039f"
            ],
            [
             0.2222222222222222,
             "#7201a8"
            ],
            [
             0.3333333333333333,
             "#9c179e"
            ],
            [
             0.4444444444444444,
             "#bd3786"
            ],
            [
             0.5555555555555556,
             "#d8576b"
            ],
            [
             0.6666666666666666,
             "#ed7953"
            ],
            [
             0.7777777777777778,
             "#fb9f3a"
            ],
            [
             0.8888888888888888,
             "#fdca26"
            ],
            [
             1,
             "#f0f921"
            ]
           ]
          },
          "colorway": [
           "#636efa",
           "#EF553B",
           "#00cc96",
           "#ab63fa",
           "#FFA15A",
           "#19d3f3",
           "#FF6692",
           "#B6E880",
           "#FF97FF",
           "#FECB52"
          ],
          "font": {
           "color": "#2a3f5f"
          },
          "geo": {
           "bgcolor": "white",
           "lakecolor": "white",
           "landcolor": "#E5ECF6",
           "showlakes": true,
           "showland": true,
           "subunitcolor": "white"
          },
          "hoverlabel": {
           "align": "left"
          },
          "hovermode": "closest",
          "mapbox": {
           "style": "light"
          },
          "paper_bgcolor": "white",
          "plot_bgcolor": "#E5ECF6",
          "polar": {
           "angularaxis": {
            "gridcolor": "white",
            "linecolor": "white",
            "ticks": ""
           },
           "bgcolor": "#E5ECF6",
           "radialaxis": {
            "gridcolor": "white",
            "linecolor": "white",
            "ticks": ""
           }
          },
          "scene": {
           "xaxis": {
            "backgroundcolor": "#E5ECF6",
            "gridcolor": "white",
            "gridwidth": 2,
            "linecolor": "white",
            "showbackground": true,
            "ticks": "",
            "zerolinecolor": "white"
           },
           "yaxis": {
            "backgroundcolor": "#E5ECF6",
            "gridcolor": "white",
            "gridwidth": 2,
            "linecolor": "white",
            "showbackground": true,
            "ticks": "",
            "zerolinecolor": "white"
           },
           "zaxis": {
            "backgroundcolor": "#E5ECF6",
            "gridcolor": "white",
            "gridwidth": 2,
            "linecolor": "white",
            "showbackground": true,
            "ticks": "",
            "zerolinecolor": "white"
           }
          },
          "shapedefaults": {
           "line": {
            "color": "#2a3f5f"
           }
          },
          "ternary": {
           "aaxis": {
            "gridcolor": "white",
            "linecolor": "white",
            "ticks": ""
           },
           "baxis": {
            "gridcolor": "white",
            "linecolor": "white",
            "ticks": ""
           },
           "bgcolor": "#E5ECF6",
           "caxis": {
            "gridcolor": "white",
            "linecolor": "white",
            "ticks": ""
           }
          },
          "title": {
           "x": 0.05
          },
          "xaxis": {
           "automargin": true,
           "gridcolor": "white",
           "linecolor": "white",
           "ticks": "",
           "zerolinecolor": "white",
           "zerolinewidth": 2
          },
          "yaxis": {
           "automargin": true,
           "gridcolor": "white",
           "linecolor": "white",
           "ticks": "",
           "zerolinecolor": "white",
           "zerolinewidth": 2
          }
         }
        }
       }
      },
      "text/html": [
       "<div>\n",
       "        \n",
       "        \n",
       "            <div id=\"4810684c-48b3-4f21-aba7-82f94f67eef8\" class=\"plotly-graph-div\" style=\"height:525px; width:100%;\"></div>\n",
       "            <script type=\"text/javascript\">\n",
       "                require([\"plotly\"], function(Plotly) {\n",
       "                    window.PLOTLYENV=window.PLOTLYENV || {};\n",
       "                    \n",
       "                if (document.getElementById(\"4810684c-48b3-4f21-aba7-82f94f67eef8\")) {\n",
       "                    Plotly.newPlot(\n",
       "                        '4810684c-48b3-4f21-aba7-82f94f67eef8',\n",
       "                        [{\"type\": \"scatter\", \"y\": [0.8739320645144875, 0.8963148473643368, 0.9004108748934583, 0.9036706025281673, 0.90237434431756, 0.9058046182942292, 0.8942599428384845, 0.9027676477697255, 0.9035478939713258, 0.898118239103056, 0.9082430201888704, 0.9088195913884568, 0.9051180599432624, 0.9046835444379895, 0.9008850122761562, 0.9063854299623022, 0.905839867188527, 0.9036087181911857, 0.9062953200069542, 0.9037287764552226, 0.9053336612628964, 0.9073547745554928, 0.9048857617789613, 0.9060603715498489, 0.9036227647430488, 0.9050347082345658, 0.902024373152746, 0.9054492140291659, 0.9029192445181345, 0.9046093362394677, 0.9067149938725232, 0.9047543072558656, 0.9055483349800486, 0.9060550709642402, 0.9031991154382737, 0.9057783803954661, 0.9037707835961717, 0.9058883675468465, 0.905608231597427, 0.9068949487539383, 0.9068090792670774, 0.9076614134329561, 0.9083666563481932, 0.9059252066168272, 0.9070608570834906, 0.9078572700711974, 0.9071562676244472, 0.9073656407559908, 0.9080080717317649, 0.9074499200671691, 0.9064348579231034, 0.9078456087828582, 0.907771135555056, 0.9077107088791169, 0.9081832560861325, 0.9077478129783779, 0.9080372249526129, 0.9079076256344801, 0.9088580206341197, 0.9080682333784236, 0.9088272772375893, 0.9085320346191847, 0.9094792492674592, 0.9093308328704155, 0.9092977042103612, 0.9102359078631006, 0.9090798501418436, 0.9102679764060332, 0.9101942982660723, 0.9105059726998639, 0.9105868066303966, 0.9107890239713683, 0.9110975180537946, 0.9111415129143469, 0.9116673310067297, 0.9120251205353167, 0.9111841826284969, 0.9117115908965621, 0.9116887983784449, 0.9119148683546558, 0.9113246481471274, 0.9118006407347884, 0.9127078359617171, 0.9122798136738147, 0.9122249526127647, 0.9124483722961715, 0.912233698579019, 0.9127229426307019, 0.9123386501740712, 0.9127433498852953, 0.9122268078177277, 0.9118676931427383, 0.9126052696301888, 0.9129405316699388, 0.9131557354456521, 0.9125975837810562, 0.9124751402534952, 0.9132506159280478, 0.9124343257443083, 0.9128400855726541]}],\n",
       "                        {\"template\": {\"data\": {\"bar\": [{\"error_x\": {\"color\": \"#2a3f5f\"}, \"error_y\": {\"color\": \"#2a3f5f\"}, \"marker\": {\"line\": {\"color\": \"#E5ECF6\", \"width\": 0.5}}, \"type\": \"bar\"}], \"barpolar\": [{\"marker\": {\"line\": {\"color\": \"#E5ECF6\", \"width\": 0.5}}, \"type\": \"barpolar\"}], \"carpet\": [{\"aaxis\": {\"endlinecolor\": \"#2a3f5f\", \"gridcolor\": \"white\", \"linecolor\": \"white\", \"minorgridcolor\": \"white\", \"startlinecolor\": \"#2a3f5f\"}, \"baxis\": {\"endlinecolor\": \"#2a3f5f\", \"gridcolor\": \"white\", \"linecolor\": \"white\", \"minorgridcolor\": \"white\", \"startlinecolor\": \"#2a3f5f\"}, \"type\": \"carpet\"}], \"choropleth\": [{\"colorbar\": {\"outlinewidth\": 0, \"ticks\": \"\"}, \"type\": \"choropleth\"}], \"contour\": [{\"colorbar\": {\"outlinewidth\": 0, \"ticks\": \"\"}, \"colorscale\": [[0.0, \"#0d0887\"], [0.1111111111111111, \"#46039f\"], [0.2222222222222222, \"#7201a8\"], [0.3333333333333333, \"#9c179e\"], [0.4444444444444444, \"#bd3786\"], [0.5555555555555556, \"#d8576b\"], [0.6666666666666666, \"#ed7953\"], [0.7777777777777778, \"#fb9f3a\"], [0.8888888888888888, \"#fdca26\"], [1.0, \"#f0f921\"]], \"type\": \"contour\"}], \"contourcarpet\": [{\"colorbar\": {\"outlinewidth\": 0, \"ticks\": \"\"}, \"type\": \"contourcarpet\"}], \"heatmap\": [{\"colorbar\": {\"outlinewidth\": 0, \"ticks\": \"\"}, \"colorscale\": [[0.0, \"#0d0887\"], [0.1111111111111111, \"#46039f\"], [0.2222222222222222, \"#7201a8\"], [0.3333333333333333, \"#9c179e\"], [0.4444444444444444, \"#bd3786\"], [0.5555555555555556, \"#d8576b\"], [0.6666666666666666, \"#ed7953\"], [0.7777777777777778, \"#fb9f3a\"], [0.8888888888888888, \"#fdca26\"], [1.0, \"#f0f921\"]], \"type\": \"heatmap\"}], \"heatmapgl\": [{\"colorbar\": {\"outlinewidth\": 0, \"ticks\": \"\"}, \"colorscale\": [[0.0, \"#0d0887\"], [0.1111111111111111, \"#46039f\"], [0.2222222222222222, \"#7201a8\"], [0.3333333333333333, \"#9c179e\"], [0.4444444444444444, \"#bd3786\"], [0.5555555555555556, \"#d8576b\"], [0.6666666666666666, \"#ed7953\"], [0.7777777777777778, \"#fb9f3a\"], [0.8888888888888888, \"#fdca26\"], [1.0, \"#f0f921\"]], \"type\": \"heatmapgl\"}], \"histogram\": [{\"marker\": {\"colorbar\": {\"outlinewidth\": 0, \"ticks\": \"\"}}, \"type\": \"histogram\"}], \"histogram2d\": [{\"colorbar\": {\"outlinewidth\": 0, \"ticks\": \"\"}, \"colorscale\": [[0.0, \"#0d0887\"], [0.1111111111111111, \"#46039f\"], [0.2222222222222222, \"#7201a8\"], [0.3333333333333333, \"#9c179e\"], [0.4444444444444444, \"#bd3786\"], [0.5555555555555556, \"#d8576b\"], [0.6666666666666666, \"#ed7953\"], [0.7777777777777778, \"#fb9f3a\"], [0.8888888888888888, \"#fdca26\"], [1.0, \"#f0f921\"]], \"type\": \"histogram2d\"}], \"histogram2dcontour\": [{\"colorbar\": {\"outlinewidth\": 0, \"ticks\": \"\"}, \"colorscale\": [[0.0, \"#0d0887\"], [0.1111111111111111, \"#46039f\"], [0.2222222222222222, \"#7201a8\"], [0.3333333333333333, \"#9c179e\"], [0.4444444444444444, \"#bd3786\"], [0.5555555555555556, \"#d8576b\"], [0.6666666666666666, \"#ed7953\"], [0.7777777777777778, \"#fb9f3a\"], [0.8888888888888888, \"#fdca26\"], [1.0, \"#f0f921\"]], \"type\": \"histogram2dcontour\"}], \"mesh3d\": [{\"colorbar\": {\"outlinewidth\": 0, \"ticks\": \"\"}, \"type\": \"mesh3d\"}], \"parcoords\": [{\"line\": {\"colorbar\": {\"outlinewidth\": 0, \"ticks\": \"\"}}, \"type\": \"parcoords\"}], \"scatter\": [{\"marker\": {\"colorbar\": {\"outlinewidth\": 0, \"ticks\": \"\"}}, \"type\": \"scatter\"}], \"scatter3d\": [{\"line\": {\"colorbar\": {\"outlinewidth\": 0, \"ticks\": \"\"}}, \"marker\": {\"colorbar\": {\"outlinewidth\": 0, \"ticks\": \"\"}}, \"type\": \"scatter3d\"}], \"scattercarpet\": [{\"marker\": {\"colorbar\": {\"outlinewidth\": 0, \"ticks\": \"\"}}, \"type\": \"scattercarpet\"}], \"scattergeo\": [{\"marker\": {\"colorbar\": {\"outlinewidth\": 0, \"ticks\": \"\"}}, \"type\": \"scattergeo\"}], \"scattergl\": [{\"marker\": {\"colorbar\": {\"outlinewidth\": 0, \"ticks\": \"\"}}, \"type\": \"scattergl\"}], \"scattermapbox\": [{\"marker\": {\"colorbar\": {\"outlinewidth\": 0, \"ticks\": \"\"}}, \"type\": \"scattermapbox\"}], \"scatterpolar\": [{\"marker\": {\"colorbar\": {\"outlinewidth\": 0, \"ticks\": \"\"}}, \"type\": \"scatterpolar\"}], \"scatterpolargl\": [{\"marker\": {\"colorbar\": {\"outlinewidth\": 0, \"ticks\": \"\"}}, \"type\": \"scatterpolargl\"}], \"scatterternary\": [{\"marker\": {\"colorbar\": {\"outlinewidth\": 0, \"ticks\": \"\"}}, \"type\": \"scatterternary\"}], \"surface\": [{\"colorbar\": {\"outlinewidth\": 0, \"ticks\": \"\"}, \"colorscale\": [[0.0, \"#0d0887\"], [0.1111111111111111, \"#46039f\"], [0.2222222222222222, \"#7201a8\"], [0.3333333333333333, \"#9c179e\"], [0.4444444444444444, \"#bd3786\"], [0.5555555555555556, \"#d8576b\"], [0.6666666666666666, \"#ed7953\"], [0.7777777777777778, \"#fb9f3a\"], [0.8888888888888888, \"#fdca26\"], [1.0, \"#f0f921\"]], \"type\": \"surface\"}], \"table\": [{\"cells\": {\"fill\": {\"color\": \"#EBF0F8\"}, \"line\": {\"color\": \"white\"}}, \"header\": {\"fill\": {\"color\": \"#C8D4E3\"}, \"line\": {\"color\": \"white\"}}, \"type\": \"table\"}]}, \"layout\": {\"annotationdefaults\": {\"arrowcolor\": \"#2a3f5f\", \"arrowhead\": 0, \"arrowwidth\": 1}, \"colorscale\": {\"diverging\": [[0, \"#8e0152\"], [0.1, \"#c51b7d\"], [0.2, \"#de77ae\"], [0.3, \"#f1b6da\"], [0.4, \"#fde0ef\"], [0.5, \"#f7f7f7\"], [0.6, \"#e6f5d0\"], [0.7, \"#b8e186\"], [0.8, \"#7fbc41\"], [0.9, \"#4d9221\"], [1, \"#276419\"]], \"sequential\": [[0.0, \"#0d0887\"], [0.1111111111111111, \"#46039f\"], [0.2222222222222222, \"#7201a8\"], [0.3333333333333333, \"#9c179e\"], [0.4444444444444444, \"#bd3786\"], [0.5555555555555556, \"#d8576b\"], [0.6666666666666666, \"#ed7953\"], [0.7777777777777778, \"#fb9f3a\"], [0.8888888888888888, \"#fdca26\"], [1.0, \"#f0f921\"]], \"sequentialminus\": [[0.0, \"#0d0887\"], [0.1111111111111111, \"#46039f\"], [0.2222222222222222, \"#7201a8\"], [0.3333333333333333, \"#9c179e\"], [0.4444444444444444, \"#bd3786\"], [0.5555555555555556, \"#d8576b\"], [0.6666666666666666, \"#ed7953\"], [0.7777777777777778, \"#fb9f3a\"], [0.8888888888888888, \"#fdca26\"], [1.0, \"#f0f921\"]]}, \"colorway\": [\"#636efa\", \"#EF553B\", \"#00cc96\", \"#ab63fa\", \"#FFA15A\", \"#19d3f3\", \"#FF6692\", \"#B6E880\", \"#FF97FF\", \"#FECB52\"], \"font\": {\"color\": \"#2a3f5f\"}, \"geo\": {\"bgcolor\": \"white\", \"lakecolor\": \"white\", \"landcolor\": \"#E5ECF6\", \"showlakes\": true, \"showland\": true, \"subunitcolor\": \"white\"}, \"hoverlabel\": {\"align\": \"left\"}, \"hovermode\": \"closest\", \"mapbox\": {\"style\": \"light\"}, \"paper_bgcolor\": \"white\", \"plot_bgcolor\": \"#E5ECF6\", \"polar\": {\"angularaxis\": {\"gridcolor\": \"white\", \"linecolor\": \"white\", \"ticks\": \"\"}, \"bgcolor\": \"#E5ECF6\", \"radialaxis\": {\"gridcolor\": \"white\", \"linecolor\": \"white\", \"ticks\": \"\"}}, \"scene\": {\"xaxis\": {\"backgroundcolor\": \"#E5ECF6\", \"gridcolor\": \"white\", \"gridwidth\": 2, \"linecolor\": \"white\", \"showbackground\": true, \"ticks\": \"\", \"zerolinecolor\": \"white\"}, \"yaxis\": {\"backgroundcolor\": \"#E5ECF6\", \"gridcolor\": \"white\", \"gridwidth\": 2, \"linecolor\": \"white\", \"showbackground\": true, \"ticks\": \"\", \"zerolinecolor\": \"white\"}, \"zaxis\": {\"backgroundcolor\": \"#E5ECF6\", \"gridcolor\": \"white\", \"gridwidth\": 2, \"linecolor\": \"white\", \"showbackground\": true, \"ticks\": \"\", \"zerolinecolor\": \"white\"}}, \"shapedefaults\": {\"line\": {\"color\": \"#2a3f5f\"}}, \"ternary\": {\"aaxis\": {\"gridcolor\": \"white\", \"linecolor\": \"white\", \"ticks\": \"\"}, \"baxis\": {\"gridcolor\": \"white\", \"linecolor\": \"white\", \"ticks\": \"\"}, \"bgcolor\": \"#E5ECF6\", \"caxis\": {\"gridcolor\": \"white\", \"linecolor\": \"white\", \"ticks\": \"\"}}, \"title\": {\"x\": 0.05}, \"xaxis\": {\"automargin\": true, \"gridcolor\": \"white\", \"linecolor\": \"white\", \"ticks\": \"\", \"zerolinecolor\": \"white\", \"zerolinewidth\": 2}, \"yaxis\": {\"automargin\": true, \"gridcolor\": \"white\", \"linecolor\": \"white\", \"ticks\": \"\", \"zerolinecolor\": \"white\", \"zerolinewidth\": 2}}}},\n",
       "                        {\"responsive\": true}\n",
       "                    ).then(function(){\n",
       "                            \n",
       "var gd = document.getElementById('4810684c-48b3-4f21-aba7-82f94f67eef8');\n",
       "var x = new MutationObserver(function (mutations, observer) {{\n",
       "        var display = window.getComputedStyle(gd).display;\n",
       "        if (!display || display === 'none') {{\n",
       "            console.log([gd, 'removed!']);\n",
       "            Plotly.purge(gd);\n",
       "            observer.disconnect();\n",
       "        }}\n",
       "}});\n",
       "\n",
       "// Listen for the removal of the full notebook cells\n",
       "var notebookContainer = gd.closest('#notebook-container');\n",
       "if (notebookContainer) {{\n",
       "    x.observe(notebookContainer, {childList: true});\n",
       "}}\n",
       "\n",
       "// Listen for the clearing of the current output cell\n",
       "var outputEl = gd.closest('.output');\n",
       "if (outputEl) {{\n",
       "    x.observe(outputEl, {childList: true});\n",
       "}}\n",
       "\n",
       "                        })\n",
       "                };\n",
       "                });\n",
       "            </script>\n",
       "        </div>"
      ]
     },
     "metadata": {},
     "output_type": "display_data"
    }
   ],
   "source": [
    "fig = go.Figure()\n",
    "fig.add_trace(go.Scatter(y=aucs))\n"
   ]
  },
  {
   "cell_type": "code",
   "execution_count": 23,
   "metadata": {},
   "outputs": [
    {
     "data": {
      "text/plain": [
       "'../temp_data/reddit/unchunked_limitted_data_40_capped/'"
      ]
     },
     "execution_count": 23,
     "metadata": {},
     "output_type": "execute_result"
    }
   ],
   "source": [
    "TEMP_DATA"
   ]
  },
  {
   "cell_type": "code",
   "execution_count": 67,
   "metadata": {
    "collapsed": true
   },
   "outputs": [],
   "source": [
    "with open(TEMP_DATA + 'model.p', 'wb') as f:\n",
    "    pickle.dump((clf, transformer, scaler, secondary_scaler, aucs ), f)"
   ]
  },
  {
   "cell_type": "code",
   "execution_count": 68,
   "metadata": {
    "collapsed": true
   },
   "outputs": [],
   "source": [
    "with open(TEMP_DATA + 'experiment_data.p', 'wb') as f:\n",
    "    pickle.dump((\n",
    "        author_to_doc_idx, \n",
    "        author_to_doc_idx_test, \n",
    "        author_subreddit, \n",
    "        author_subreddit_test, \n",
    "        x_shape, \n",
    "        x_shape_test,\n",
    "        X_idxs_train,\n",
    "        Y_train,\n",
    "        X_idxs_test,\n",
    "        Y_test,\n",
    "        exclude_users,\n",
    "        exclude_users_root,\n",
    "        exclude_users_test,\n",
    "        exclude_users_root_test\n",
    "    ), f)"
   ]
  },
  {
   "cell_type": "code",
   "execution_count": 69,
   "metadata": {},
   "outputs": [
    {
     "name": "stdout",
     "output_type": "stream",
     "text": [
      "AUC: 0.9128400855726541\n"
     ]
    }
   ],
   "source": [
    "x_diff = secondary_scaler.transform(np.abs(XX_test[X_idxs_test[:, 0]] - XX_test[X_idxs_test[:, 1]]))\n",
    "x_diff[np.isnan(x_diff)]=0\n",
    "\n",
    "probs = clf.predict_proba(x_diff)[:, 1]\n",
    "fpr, tpr, thresh = roc_curve(Y_test, probs)\n",
    "roc_auc = auc(fpr, tpr)\n",
    "print('AUC:', roc_auc)"
   ]
  },
  {
   "cell_type": "code",
   "execution_count": null,
   "metadata": {
    "collapsed": true
   },
   "outputs": [],
   "source": [
    "aucs[-1]"
   ]
  }
 ],
 "metadata": {
  "kernelspec": {
   "display_name": "Python 3",
   "language": "python",
   "name": "python3"
  },
  "language_info": {
   "codemirror_mode": {
    "name": "ipython",
    "version": 3
   },
   "file_extension": ".py",
   "mimetype": "text/x-python",
   "name": "python",
   "nbconvert_exporter": "python",
   "pygments_lexer": "ipython3",
   "version": "3.6.9"
  }
 },
 "nbformat": 4,
 "nbformat_minor": 2
}
