{
 "cells": [
  {
   "cell_type": "code",
   "execution_count": 1,
   "metadata": {
    "collapsed": true
   },
   "outputs": [],
   "source": [
    "%load_ext autoreload\n",
    "%autoreload 2"
   ]
  },
  {
   "cell_type": "code",
   "execution_count": 2,
   "metadata": {
    "collapsed": true
   },
   "outputs": [],
   "source": [
    "import sys\n",
    "sys.path.append(\"../\")"
   ]
  },
  {
   "cell_type": "code",
   "execution_count": 30,
   "metadata": {
    "collapsed": true
   },
   "outputs": [],
   "source": [
    "import pickle\n",
    "import glob\n",
    "from tqdm.notebook import trange, tqdm\n",
    "import json\n",
    "import re\n",
    "import pandas as pd\n",
    "import numpy as np\n",
    "from features import prepare_entry\n",
    "from utills import colnum_string, compress_fraction\n",
    "from collections import defaultdict\n",
    "\n",
    "import matplotlib.pyplot as plt\n",
    "import matplotlib.style as style\n",
    "%matplotlib inline"
   ]
  },
  {
   "cell_type": "code",
   "execution_count": 4,
   "metadata": {
    "collapsed": true
   },
   "outputs": [],
   "source": [
    "BASE_PATH = '../data/reddit/'\n",
    "COMPUTED_DATA_PATH = '../temp_data/reddit/preprocessed/'"
   ]
  },
  {
   "cell_type": "markdown",
   "metadata": {},
   "source": [
    "Randomly Split Train/Test sets\n",
    "=="
   ]
  },
  {
   "cell_type": "code",
   "execution_count": 6,
   "metadata": {},
   "outputs": [
    {
     "name": "stdout",
     "output_type": "stream",
     "text": [
      "50644 21705\n"
     ]
    }
   ],
   "source": [
    "files = glob.glob(BASE_PATH + '*.jsonl')\n",
    "np.random.shuffle(files)\n",
    "train_files = files[:int(len(files) * 0.7)]\n",
    "test_files = files[int(len(files) * 0.7):]\n",
    "print(len(train_files), len(test_files))\n",
    "min_count = 20"
   ]
  },
  {
   "cell_type": "code",
   "execution_count": 7,
   "metadata": {
    "collapsed": true
   },
   "outputs": [],
   "source": [
    "with open(COMPUTED_DATA_PATH + 'metadata_all.p', 'wb') as f:\n",
    "    pickle.dump((train_files, test_files, min_count), f)"
   ]
  },
  {
   "cell_type": "markdown",
   "metadata": {},
   "source": [
    "Preprocess Data\n",
    "===\n",
    "This is done on the HPC. Call `reddit_preprocess_hpc.py` and copy over the results"
   ]
  },
  {
   "cell_type": "code",
   "execution_count": null,
   "metadata": {
    "collapsed": true
   },
   "outputs": [],
   "source": [
    "with open(COMPUTED_DATA_PATH + 'train_all.jsonl', 'w') as fout:\n",
    "    for i in trange(10):\n",
    "        with open(COMPUTED_DATA_PATH + 'train' + str(i) + '.jsonl', 'r') as f:\n",
    "            for l in f:\n",
    "                _ = fout.write(l)\n",
    "                \n",
    "author_mapping = {}\n",
    "for i in trange(10):\n",
    "    with open(COMPUTED_DATA_PATH + 'author_mapping_' + str(i) + '.p', 'rb') as f:\n",
    "        am = pickle.load(f)\n",
    "        for k, v in am.items():\n",
    "            author_mapping[k] = v\n",
    "            \n",
    "with open(COMPUTED_DATA_PATH + 'test_all.jsonl', 'w') as fout:\n",
    "    for i in trange(10):\n",
    "        with open(COMPUTED_DATA_PATH + 'test' + str(i) + '.jsonl', 'r') as f:\n",
    "            for l in f:\n",
    "                _ = fout.write(l)\n",
    "                \n",
    "for i in trange(10):\n",
    "    with open(COMPUTED_DATA_PATH + 'author_mapping_test_' + str(i) + '.p', 'rb') as f:\n",
    "        am = pickle.load(f)\n",
    "        for k, v in am.items():\n",
    "            author_mapping[k] = v"
   ]
  },
  {
   "cell_type": "code",
   "execution_count": 13,
   "metadata": {
    "collapsed": true
   },
   "outputs": [],
   "source": [
    "with open(COMPUTED_DATA_PATH + 'metadata_all.p', 'wb') as f:\n",
    "    pickle.dump((train_files, test_files, min_count, author_mapping), f)"
   ]
  },
  {
   "cell_type": "markdown",
   "metadata": {},
   "source": [
    "Filter Repititive Users\n",
    "===="
   ]
  },
  {
   "cell_type": "code",
   "execution_count": 5,
   "metadata": {
    "collapsed": true
   },
   "outputs": [],
   "source": [
    "with open(COMPUTED_DATA_PATH + 'metadata_all.p', 'rb') as f:\n",
    "    (train_files, test_files, min_count, author_mapping) = pickle.load(f)"
   ]
  },
  {
   "cell_type": "code",
   "execution_count": 8,
   "metadata": {},
   "outputs": [
    {
     "data": {
      "application/vnd.jupyter.widget-view+json": {
       "model_id": "f3c4dab5bf7a4937808c080136c3b138"
      }
     },
     "metadata": {},
     "output_type": "display_data"
    },
    {
     "name": "stdout",
     "output_type": "stream",
     "text": [
      "\n"
     ]
    },
    {
     "data": {
      "application/vnd.jupyter.widget-view+json": {
       "model_id": "c5c29be3a3454093b696a8bf52ecc175"
      }
     },
     "metadata": {},
     "output_type": "display_data"
    },
    {
     "name": "stdout",
     "output_type": "stream",
     "text": [
      "\n"
     ]
    }
   ],
   "source": [
    "user_compress_fraction = {}\n",
    "with open(COMPUTED_DATA_PATH + 'train_all.jsonl', 'r') as f:\n",
    "    for l in tqdm(f, total=len(train_files)):\n",
    "        d = json.loads(l)\n",
    "        user_compress_fraction[d['username']] = compress_fraction('\\n'.join([c['preprocessed'] for c in d['data']]))\n",
    "\n",
    "with open(COMPUTED_DATA_PATH + 'test_all.jsonl', 'r') as f:\n",
    "    for l in tqdm(f, total=len(test_files)):\n",
    "        d = json.loads(l)\n",
    "        user_compress_fraction[d['username']] = compress_fraction('\\n'.join([c['preprocessed'] for c in d['data']]))        "
   ]
  },
  {
   "cell_type": "code",
   "execution_count": 11,
   "metadata": {},
   "outputs": [
    {
     "data": {
      "image/png": "[encoded data removed]",
      "text/plain": [
       "<Figure size 432x288 with 1 Axes>"
      ]
     },
     "metadata": {},
     "output_type": "display_data"
    }
   ],
   "source": [
    "fig, ax = plt.subplots()\n",
    "\n",
    "ax.hist(list(user_compress_fraction.values()), bins=100, alpha=0.5, density=True)\n",
    "\n",
    "ax.set_xlabel('1 - Compression Fraction')\n",
    "\n",
    "plt.tight_layout()\n",
    "plt.show()"
   ]
  },
  {
   "cell_type": "code",
   "execution_count": 28,
   "metadata": {
    "collapsed": true
   },
   "outputs": [],
   "source": [
    "repititive_users_roots = set([re.search(r'(.*)_[A-Z]+$', u).group(1) for u, f in user_compress_fraction.items() if f < 0.25])"
   ]
  },
  {
   "cell_type": "code",
   "execution_count": 38,
   "metadata": {
    "collapsed": true
   },
   "outputs": [],
   "source": [
    "filtered_author_mapping = defaultdict(set)\n",
    "with open(COMPUTED_DATA_PATH + 'train_all.jsonl', 'r') as f, open(COMPUTED_DATA_PATH + 'train.jsonl', 'w') as fout:\n",
    "    for l in f:\n",
    "        d = json.loads(l)\n",
    "        u_root = re.search(r'(.*)_[A-Z]+$', d['username']).group(1)\n",
    "        if u_root not in repititive_users_roots:\n",
    "            filtered_author_mapping[u_root].add(d['username'])\n",
    "            _ = fout.write(l)"
   ]
  },
  {
   "cell_type": "code",
   "execution_count": 40,
   "metadata": {
    "collapsed": true
   },
   "outputs": [],
   "source": [
    "with open(COMPUTED_DATA_PATH + 'test_all.jsonl', 'r') as f, open(COMPUTED_DATA_PATH + 'test.jsonl', 'w') as fout:\n",
    "    for l in f:\n",
    "        d = json.loads(l)\n",
    "        u_root = re.search(r'(.*)_[A-Z]+$', d['username']).group(1)\n",
    "        if u_root not in repititive_users_roots:\n",
    "            filtered_author_mapping[u_root].add(d['username'])\n",
    "            _ = fout.write(l)"
   ]
  },
  {
   "cell_type": "code",
   "execution_count": 51,
   "metadata": {
    "collapsed": true
   },
   "outputs": [],
   "source": [
    "filtered_train_files = [f for f in train_files if f.replace('../data/reddit_2/', '/scratch/jnw301/av/data/reddit_2/reddit_2/').replace('.jsonl', '') in filtered_author_mapping]\n",
    "filtered_test_files = [f for f in test_files if f.replace('../data/reddit_2/', '/scratch/jnw301/av/data/reddit_2/reddit_2/').replace('.jsonl', '') in filtered_author_mapping]"
   ]
  },
  {
   "cell_type": "code",
   "execution_count": 52,
   "metadata": {
    "collapsed": true
   },
   "outputs": [],
   "source": [
    "with open(COMPUTED_DATA_PATH + 'metadata.p', 'wb') as f:\n",
    "    pickle.dump((filtered_train_files, filtered_test_files, min_count, filtered_author_mapping), f)"
   ]
  }
 ],
 "metadata": {
  "kernelspec": {
   "display_name": "Python 3",
   "language": "python",
   "name": "python3"
  },
  "language_info": {
   "codemirror_mode": {
    "name": "ipython",
    "version": 3
   },
   "file_extension": ".py",
   "mimetype": "text/x-python",
   "name": "python",
   "nbconvert_exporter": "python",
   "pygments_lexer": "ipython3",
   "version": "3.6.9"
  }
 },
 "nbformat": 4,
 "nbformat_minor": 2
}
