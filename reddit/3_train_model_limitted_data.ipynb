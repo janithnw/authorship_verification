{
 "cells": [
  {
   "cell_type": "code",
   "execution_count": 1,
   "metadata": {
    "collapsed": true
   },
   "outputs": [],
   "source": [
    "%load_ext autoreload\n",
    "%autoreload 2\n",
    "import sys\n",
    "sys.path.append(\"../\")\n",
    "import warnings\n",
    "warnings.filterwarnings(\"ignore\")"
   ]
  },
  {
   "cell_type": "code",
   "execution_count": 2,
   "metadata": {
    "collapsed": true
   },
   "outputs": [],
   "source": [
    "import pickle\n",
    "import glob\n",
    "from tqdm.notebook import trange, tqdm\n",
    "import json\n",
    "import re\n",
    "import pandas as pd\n",
    "import numpy as np\n",
    "from collections import defaultdict\n",
    "from features import merge_entries\n",
    "from sklearn.preprocessing import StandardScaler\n",
    "from features import merge_entries, get_transformer\n",
    "\n",
    "\n",
    "from utills import cartesian_product, chunker\n",
    "from train_utils import  generate_doc_pairs_no_chunking, fit_transformers_no_chunking, vectorize_no_chunking\n",
    "\n",
    "\n",
    "from sklearn.linear_model import SGDClassifier\n",
    "from sklearn.metrics import precision_recall_curve\n",
    "from sklearn.metrics import roc_curve, auc"
   ]
  },
  {
   "cell_type": "code",
   "execution_count": 3,
   "metadata": {
    "collapsed": true
   },
   "outputs": [],
   "source": [
    "import matplotlib.pyplot as plt\n",
    "import matplotlib.style as style\n",
    "import tikzplotlib\n",
    "%matplotlib inline"
   ]
  },
  {
   "cell_type": "code",
   "execution_count": 4,
   "metadata": {},
   "outputs": [
    {
     "data": {
      "text/html": [
       "        <script type=\"text/javascript\">\n",
       "        window.PlotlyConfig = {MathJaxConfig: 'local'};\n",
       "        if (window.MathJax) {MathJax.Hub.Config({SVG: {font: \"STIX-Web\"}});}\n",
       "        if (typeof require !== 'undefined') {\n",
       "        require.undef(\"plotly\");\n",
       "        requirejs.config({\n",
       "            paths: {\n",
       "                'plotly': ['https://cdn.plot.ly/plotly-latest.min']\n",
       "            }\n",
       "        });\n",
       "        require(['plotly'], function(Plotly) {\n",
       "            window._Plotly = Plotly;\n",
       "        });\n",
       "        }\n",
       "        </script>\n",
       "        "
      ]
     },
     "metadata": {},
     "output_type": "display_data"
    }
   ],
   "source": [
    "\n",
    "from plotly.offline import init_notebook_mode\n",
    "import plotly.offline as py\n",
    "import plotly.graph_objs as go\n",
    "init_notebook_mode(connected=True)"
   ]
  },
  {
   "cell_type": "code",
   "execution_count": 5,
   "metadata": {
    "collapsed": true
   },
   "outputs": [],
   "source": [
    "BASE_PATH = '../data/reddit/'\n",
    "COMPUTED_DATA_PATH = '../temp_data/reddit/preprocessed/'\n",
    "TEMP_DATA = '../temp_data/reddit/unchunked_limitted_data_40_capped/'\n",
    "FIGURES_PATH = '../figures/'"
   ]
  },
  {
   "cell_type": "code",
   "execution_count": 6,
   "metadata": {
    "collapsed": true
   },
   "outputs": [],
   "source": [
    "MAX_COMMENTS = 40"
   ]
  },
  {
   "cell_type": "code",
   "execution_count": 7,
   "metadata": {
    "collapsed": true
   },
   "outputs": [],
   "source": [
    "with open(COMPUTED_DATA_PATH + 'metadata.p', 'rb') as f:\n",
    "    (train_files, test_files, min_count, author_mapping_all) = pickle.load(f)"
   ]
  },
  {
   "cell_type": "code",
   "execution_count": 8,
   "metadata": {},
   "outputs": [
    {
     "data": {
      "text/plain": [
       "21383"
      ]
     },
     "execution_count": 8,
     "metadata": {},
     "output_type": "execute_result"
    }
   ],
   "source": [
    "len(train_files)"
   ]
  },
  {
   "cell_type": "markdown",
   "metadata": {},
   "source": [
    "Vectorized Data\n",
    "==="
   ]
  },
  {
   "cell_type": "code",
   "execution_count": 8,
   "metadata": {
    "collapsed": true
   },
   "outputs": [],
   "source": [
    "exclude_users_root = np.random.choice(train_files, size=int(len(train_files)*0.5), replace=False)\n",
    "exclude_users_root = [u.replace('../data/reddit_2/', '/scratch/jnw301/av/data/reddit_2/reddit_2/').replace('.jsonl', '') for u in exclude_users_root]\n",
    "\n",
    "exclude_users = []\n",
    "for u in exclude_users_root:\n",
    "    exclude_users.extend(author_mapping_all[u])"
   ]
  },
  {
   "cell_type": "code",
   "execution_count": 9,
   "metadata": {
    "collapsed": true
   },
   "outputs": [],
   "source": [
    "exclude_users_test_root = np.random.choice(test_files, size=int(len(test_files)*0.5), replace=False)\n",
    "exclude_users_test_root = [u.replace('../data/reddit_2/', '/scratch/jnw301/av/data/reddit_2/reddit_2/').replace('.jsonl', '') for u in exclude_users_test_root]\n",
    "\n",
    "exclude_users_test = []\n",
    "for u in exclude_users_test_root:\n",
    "    exclude_users_test.extend(author_mapping_all[u])"
   ]
  },
  {
   "cell_type": "code",
   "execution_count": 10,
   "metadata": {},
   "outputs": [
    {
     "name": "stdout",
     "output_type": "stream",
     "text": [
      "Sampled: 7339\n",
      "Reading preprocessed data...\n"
     ]
    },
    {
     "data": {
      "application/vnd.jupyter.widget-view+json": {
       "model_id": "25f8e60b1c944795917861eff502c525"
      }
     },
     "metadata": {},
     "output_type": "display_data"
    },
    {
     "name": "stdout",
     "output_type": "stream",
     "text": [
      "\n",
      "Fitting transformer\n",
      "Generating pairs\n",
      "new2\n"
     ]
    },
    {
     "data": {
      "application/vnd.jupyter.widget-view+json": {
       "model_id": "1ba859a03262483dad90ba270602146f"
      }
     },
     "metadata": {},
     "output_type": "display_data"
    },
    {
     "name": "stdout",
     "output_type": "stream",
     "text": [
      "\n"
     ]
    },
    {
     "data": {
      "application/vnd.jupyter.widget-view+json": {
       "model_id": "974aa6a2f8c444579c38d04183b549bc"
      }
     },
     "metadata": {},
     "output_type": "display_data"
    },
    {
     "name": "stdout",
     "output_type": "stream",
     "text": [
      "\n"
     ]
    },
    {
     "data": {
      "application/vnd.jupyter.widget-view+json": {
       "model_id": "987b0699c1f14ad4923178bae04ad856"
      }
     },
     "metadata": {},
     "output_type": "display_data"
    },
    {
     "name": "stdout",
     "output_type": "stream",
     "text": [
      "\n",
      "6163 5543 3210\n",
      "6163 1848 3210\n"
     ]
    }
   ],
   "source": [
    "transformer, scaler, secondary_scaler = fit_transformers_no_chunking(COMPUTED_DATA_PATH + 'train.jsonl', author_mapping_all, sample_fraction=0.1, max_comments=MAX_COMMENTS, exclude_users=exclude_users)"
   ]
  },
  {
   "cell_type": "code",
   "execution_count": 11,
   "metadata": {},
   "outputs": [
    {
     "name": "stdout",
     "output_type": "stream",
     "text": [
      "Precomputing record size...\n"
     ]
    },
    {
     "data": {
      "application/vnd.jupyter.widget-view+json": {
       "model_id": "b6a096d01592432ca0032042eab913a0"
      }
     },
     "metadata": {},
     "output_type": "display_data"
    },
    {
     "name": "stdout",
     "output_type": "stream",
     "text": [
      "\n"
     ]
    },
    {
     "data": {
      "application/vnd.jupyter.widget-view+json": {
       "model_id": "7fd8128c8504443eaa4795173ae10639"
      }
     },
     "metadata": {},
     "output_type": "display_data"
    },
    {
     "name": "stdout",
     "output_type": "stream",
     "text": [
      "\n"
     ]
    }
   ],
   "source": [
    "XX_train, author_to_doc_idx, author_subreddit, x_shape, e, t = vectorize_no_chunking(\n",
    "    preprocessed_path = COMPUTED_DATA_PATH + 'train.jsonl', \n",
    "    vectorized_x_path = TEMP_DATA + 'XX_train.npy', \n",
    "    transformer=transformer,\n",
    "    scaler=scaler,\n",
    "    max_comments=MAX_COMMENTS,\n",
    "    exclude_users=exclude_users\n",
    ")"
   ]
  },
  {
   "cell_type": "code",
   "execution_count": 12,
   "metadata": {},
   "outputs": [
    {
     "name": "stdout",
     "output_type": "stream",
     "text": [
      "Excluded:  29246 Total: 83295\n"
     ]
    }
   ],
   "source": [
    "print('Excluded: ', len(e), 'Total:', t)"
   ]
  },
  {
   "cell_type": "code",
   "execution_count": 13,
   "metadata": {},
   "outputs": [
    {
     "name": "stdout",
     "output_type": "stream",
     "text": [
      "Precomputing record size...\n"
     ]
    },
    {
     "data": {
      "application/vnd.jupyter.widget-view+json": {
       "model_id": "4f81f02dda75477782ac0a4942ea00bc"
      }
     },
     "metadata": {},
     "output_type": "display_data"
    },
    {
     "name": "stdout",
     "output_type": "stream",
     "text": [
      "\n"
     ]
    },
    {
     "data": {
      "application/vnd.jupyter.widget-view+json": {
       "model_id": "d4d25489f40f4e8d82a7acbefa6b86a6"
      }
     },
     "metadata": {},
     "output_type": "display_data"
    },
    {
     "name": "stdout",
     "output_type": "stream",
     "text": [
      "\n"
     ]
    }
   ],
   "source": [
    "XX_test, author_to_doc_idx_test, author_subreddit_test, x_shape_test, e, t = vectorize_no_chunking(\n",
    "    preprocessed_path = COMPUTED_DATA_PATH + 'test.jsonl', \n",
    "    vectorized_x_path = TEMP_DATA + 'XX_test.npy', \n",
    "    transformer=transformer,\n",
    "    scaler=scaler,\n",
    "    max_comments=MAX_COMMENTS,\n",
    "    exclude_users=exclude_users_test\n",
    ")"
   ]
  },
  {
   "cell_type": "code",
   "execution_count": 15,
   "metadata": {},
   "outputs": [
    {
     "name": "stdout",
     "output_type": "stream",
     "text": [
      "Excluded:  21339 Total: 42961\n"
     ]
    }
   ],
   "source": [
    "print('Excluded: ', len(e), 'Total:', t)"
   ]
  },
  {
   "cell_type": "code",
   "execution_count": 16,
   "metadata": {
    "collapsed": true
   },
   "outputs": [],
   "source": [
    "author_mapping = defaultdict(set)\n",
    "author_to_root = {}\n",
    "for y in author_to_doc_idx.keys():\n",
    "    u = re.search(r'(.*)_[A-Z]+$', y).group(1)\n",
    "    author_mapping[u].add(y)\n",
    "    author_to_root[y] = u\n",
    "\n",
    "subreddit_to_author = defaultdict(list)\n",
    "for k, v in author_subreddit.items():\n",
    "    subreddit_to_author[v].append(k)\n",
    "    \n",
    "author_mapping_test = defaultdict(set)\n",
    "author_to_root_test = {}\n",
    "for y in author_to_doc_idx_test.keys():\n",
    "    u = re.search(r'(.*)_[A-Z]+$', y).group(1)\n",
    "    author_mapping_test[u].add(y)\n",
    "    author_to_root_test[y] = u\n",
    "\n",
    "subreddit_to_author_test = defaultdict(list)\n",
    "for k, v in author_subreddit_test.items():\n",
    "    subreddit_to_author_test[v].append(k)"
   ]
  },
  {
   "cell_type": "code",
   "execution_count": 17,
   "metadata": {},
   "outputs": [
    {
     "name": "stdout",
     "output_type": "stream",
     "text": [
      "Total number of authors: 27781\n",
      "Train authors: 19786\n",
      "Test authors: 7995\n"
     ]
    }
   ],
   "source": [
    "train_authors = np.unique(list(author_to_root.values()))\n",
    "test_authors = np.unique(list(author_to_root_test.values()))\n",
    "\n",
    "print('Total number of authors:', len(train_authors) + len(test_authors))\n",
    "print('Train authors:', len(train_authors))\n",
    "print('Test authors:', len(test_authors))"
   ]
  },
  {
   "cell_type": "code",
   "execution_count": 18,
   "metadata": {},
   "outputs": [
    {
     "name": "stdout",
     "output_type": "stream",
     "text": [
      "new2\n"
     ]
    },
    {
     "data": {
      "application/vnd.jupyter.widget-view+json": {
       "model_id": "7a3bf106a252452eacb7538f1b05ba0c"
      }
     },
     "metadata": {},
     "output_type": "display_data"
    },
    {
     "name": "stdout",
     "output_type": "stream",
     "text": [
      "\n"
     ]
    },
    {
     "data": {
      "application/vnd.jupyter.widget-view+json": {
       "model_id": "75c2f0ab6be148579d81bb46848d82ee"
      }
     },
     "metadata": {},
     "output_type": "display_data"
    },
    {
     "name": "stdout",
     "output_type": "stream",
     "text": [
      "\n"
     ]
    },
    {
     "data": {
      "application/vnd.jupyter.widget-view+json": {
       "model_id": "7730e863f9c7487ca8a51a09974559cd"
      }
     },
     "metadata": {},
     "output_type": "display_data"
    },
    {
     "name": "stdout",
     "output_type": "stream",
     "text": [
      "\n",
      "59611 54049 47631\n",
      "59611 17883 41727\n",
      "new2\n"
     ]
    },
    {
     "data": {
      "application/vnd.jupyter.widget-view+json": {
       "model_id": "dbd9d2331fb742fda95c5ff4468e2e9a"
      }
     },
     "metadata": {},
     "output_type": "display_data"
    },
    {
     "name": "stdout",
     "output_type": "stream",
     "text": [
      "\n"
     ]
    },
    {
     "data": {
      "application/vnd.jupyter.widget-view+json": {
       "model_id": "521eb99e07b243d3ad77039e7b6e848b"
      }
     },
     "metadata": {},
     "output_type": "display_data"
    },
    {
     "name": "stdout",
     "output_type": "stream",
     "text": [
      "\n"
     ]
    },
    {
     "data": {
      "application/vnd.jupyter.widget-view+json": {
       "model_id": "c8eaf2614ebc4920a315d4682ba0702b"
      }
     },
     "metadata": {},
     "output_type": "display_data"
    },
    {
     "name": "stdout",
     "output_type": "stream",
     "text": [
      "\n",
      "23414 21622 16925\n",
      "23414 7024 16389\n"
     ]
    }
   ],
   "source": [
    "X_idxs_train, Y_train = generate_doc_pairs_no_chunking(author_mapping, subreddit_to_author, author_to_root, author_to_doc_idx, author_subreddit)    \n",
    "X_idxs_test, Y_test = generate_doc_pairs_no_chunking(author_mapping_test, subreddit_to_author_test, author_to_root_test, author_to_doc_idx_test, author_subreddit_test)"
   ]
  },
  {
   "cell_type": "markdown",
   "metadata": {},
   "source": [
    "Train the classifier\n",
    "==="
   ]
  },
  {
   "cell_type": "code",
   "execution_count": 19,
   "metadata": {
    "collapsed": true
   },
   "outputs": [],
   "source": [
    "batch_sz = 10000\n",
    "x_test_diff_sample = secondary_scaler.transform(np.abs(XX_test[X_idxs_test[:batch_sz, 0]] - XX_test[X_idxs_test[:batch_sz, 1]]))\n",
    "y_test_sample = Y_test[:batch_sz]"
   ]
  },
  {
   "cell_type": "code",
   "execution_count": 20,
   "metadata": {},
   "outputs": [
    {
     "data": {
      "text/plain": [
       "119221"
      ]
     },
     "execution_count": 20,
     "metadata": {},
     "output_type": "execute_result"
    }
   ],
   "source": [
    "len(X_idxs_train)"
   ]
  },
  {
   "cell_type": "code",
   "execution_count": 21,
   "metadata": {
    "scrolled": true
   },
   "outputs": [
    {
     "name": "stdout",
     "output_type": "stream",
     "text": [
      "AUC: 0.874771538684063\n",
      "AUC: 0.8948091341006124\n",
      "AUC: 0.9065100214977239\n",
      "AUC: 0.9095398389494723\n",
      "~~~~~~~~~~~~~~~~~~~~ Epoch:  0\n",
      "AUC: 0.9104860043993854\n",
      "AUC: 0.9130368190920781\n",
      "AUC: 0.9187625520723\n",
      "AUC: 0.9151866714752277\n",
      "~~~~~~~~~~~~~~~~~~~~ Epoch:  1\n",
      "AUC: 0.9195409365557945\n",
      "AUC: 0.9210589652996404\n",
      "AUC: 0.9235585996975343\n",
      "AUC: 0.9199230587568185\n",
      "~~~~~~~~~~~~~~~~~~~~ Epoch:  2\n",
      "AUC: 0.9257221321594813\n",
      "AUC: 0.9236948004820508\n",
      "AUC: 0.9242083634401734\n",
      "AUC: 0.9244043045687942\n",
      "~~~~~~~~~~~~~~~~~~~~ Epoch:  3\n",
      "AUC: 0.9251002085772015\n",
      "AUC: 0.9226481544533697\n",
      "AUC: 0.9257160521244603\n",
      "AUC: 0.9262457351754346\n",
      "~~~~~~~~~~~~~~~~~~~~ Epoch:  4\n",
      "AUC: 0.9244795650022944\n",
      "AUC: 0.9258404928412388\n",
      "AUC: 0.9287907898349494\n",
      "AUC: 0.9264398962938026\n",
      "~~~~~~~~~~~~~~~~~~~~ Epoch:  5\n",
      "AUC: 0.9284207077032762\n",
      "AUC: 0.9292430724400973\n",
      "AUC: 0.9327363325612755\n",
      "AUC: 0.9312553640308968\n",
      "~~~~~~~~~~~~~~~~~~~~ Epoch:  6\n",
      "AUC: 0.9300559171220827\n",
      "AUC: 0.9303998791033037\n",
      "AUC: 0.9329972140639531\n",
      "AUC: 0.9315968059976025\n",
      "~~~~~~~~~~~~~~~~~~~~ Epoch:  7\n",
      "AUC: 0.9328160530204654\n",
      "AUC: 0.9321122489665541\n",
      "AUC: 0.9325843316857504\n",
      "AUC: 0.933035094282143\n",
      "~~~~~~~~~~~~~~~~~~~~ Epoch:  8\n",
      "AUC: 0.9341018204264857\n",
      "AUC: 0.9331454549178204\n",
      "AUC: 0.9350406258340047\n",
      "AUC: 0.9336571778653444\n",
      "~~~~~~~~~~~~~~~~~~~~ Epoch:  9\n",
      "AUC: 0.9346926238295132\n",
      "AUC: 0.9349815054934717\n",
      "AUC: 0.936063551726058\n",
      "AUC: 0.9351312663560942\n",
      "~~~~~~~~~~~~~~~~~~~~ Epoch:  10\n",
      "AUC: 0.9353169074253868\n",
      "AUC: 0.9353944678721349\n",
      "AUC: 0.9343833020478198\n",
      "AUC: 0.9366597551601897\n",
      "~~~~~~~~~~~~~~~~~~~~ Epoch:  11\n",
      "AUC: 0.9361599922815556\n",
      "AUC: 0.9344305023196934\n",
      "AUC: 0.9364003936662675\n",
      "AUC: 0.935938671006745\n",
      "~~~~~~~~~~~~~~~~~~~~ Epoch:  12\n",
      "AUC: 0.937051077414206\n",
      "AUC: 0.9372415985116074\n",
      "AUC: 0.9374971599836415\n",
      "AUC: 0.9362685129066343\n",
      "~~~~~~~~~~~~~~~~~~~~ Epoch:  13\n",
      "AUC: 0.935950831076787\n",
      "AUC: 0.935267907143145\n",
      "AUC: 0.9379224824334987\n",
      "AUC: 0.9365801947019213\n",
      "~~~~~~~~~~~~~~~~~~~~ Epoch:  14\n",
      "AUC: 0.9375889205121821\n",
      "AUC: 0.9367407956269828\n",
      "AUC: 0.9386641667056003\n",
      "AUC: 0.9377791616079708\n",
      "~~~~~~~~~~~~~~~~~~~~ Epoch:  15\n",
      "AUC: 0.9372620386293425\n",
      "AUC: 0.9376476008501808\n",
      "AUC: 0.9371299178683269\n",
      "AUC: 0.9372294384415654\n",
      "~~~~~~~~~~~~~~~~~~~~ Epoch:  16\n",
      "AUC: 0.9385840862443369\n",
      "AUC: 0.9386456865991546\n",
      "AUC: 0.938390645130116\n",
      "AUC: 0.9378392419540337\n",
      "~~~~~~~~~~~~~~~~~~~~ Epoch:  17\n",
      "AUC: 0.9378954422777475\n",
      "AUC: 0.9381821639292642\n",
      "AUC: 0.9385697261616227\n",
      "AUC: 0.9372966388286397\n",
      "~~~~~~~~~~~~~~~~~~~~ Epoch:  18\n",
      "AUC: 0.9388661278688966\n",
      "AUC: 0.9391601295623464\n",
      "AUC: 0.939178249666718\n",
      "AUC: 0.9388408077230525\n",
      "~~~~~~~~~~~~~~~~~~~~ Epoch:  19\n",
      "AUC: 0.9383215647322127\n",
      "AUC: 0.9386133264127601\n",
      "AUC: 0.9391667296003624\n",
      "AUC: 0.938332044792578\n",
      "~~~~~~~~~~~~~~~~~~~~ Epoch:  20\n",
      "AUC: 0.9379853227954592\n",
      "AUC: 0.9382277641919218\n",
      "AUC: 0.9392594101342024\n",
      "AUC: 0.9389688084603367\n",
      "~~~~~~~~~~~~~~~~~~~~ Epoch:  21\n",
      "AUC: 0.9387717673253797\n",
      "AUC: 0.938163003818902\n",
      "AUC: 0.9399534541318958\n",
      "AUC: 0.9393331705590625\n",
      "~~~~~~~~~~~~~~~~~~~~ Epoch:  22\n",
      "AUC: 0.9387990074822832\n",
      "AUC: 0.9386178064385652\n",
      "AUC: 0.9397080127181532\n",
      "AUC: 0.938653966646848\n",
      "~~~~~~~~~~~~~~~~~~~~ Epoch:  23\n",
      "AUC: 0.9397082527195355\n",
      "AUC: 0.9392181298964283\n",
      "AUC: 0.9402453758133649\n",
      "AUC: 0.9390652090156039\n",
      "~~~~~~~~~~~~~~~~~~~~ Epoch:  24\n",
      "AUC: 0.9395260116698272\n",
      "AUC: 0.9394564112689289\n",
      "AUC: 0.9395418917612967\n",
      "AUC: 0.9398630936114192\n",
      "~~~~~~~~~~~~~~~~~~~~ Epoch:  25\n",
      "AUC: 0.9396894926114775\n",
      "AUC: 0.9395600918661291\n",
      "AUC: 0.9398564535731726\n",
      "AUC: 0.9391997297904435\n",
      "~~~~~~~~~~~~~~~~~~~~ Epoch:  26\n",
      "AUC: 0.9398177733503745\n",
      "AUC: 0.939808053294387\n",
      "AUC: 0.939809053300147\n",
      "AUC: 0.94008941491503\n",
      "~~~~~~~~~~~~~~~~~~~~ Epoch:  27\n",
      "AUC: 0.9402027755679873\n",
      "AUC: 0.9396928926310616\n",
      "AUC: 0.9404790971595998\n",
      "AUC: 0.9399656542021683\n",
      "~~~~~~~~~~~~~~~~~~~~ Epoch:  28\n",
      "AUC: 0.9402458558161295\n",
      "AUC: 0.939749932959614\n",
      "AUC: 0.9405274974383853\n",
      "AUC: 0.9399006138275356\n",
      "~~~~~~~~~~~~~~~~~~~~ Epoch:  29\n",
      "AUC: 0.9398986138160156\n",
      "AUC: 0.9399517341219884\n",
      "AUC: 0.94017813542606\n",
      "AUC: 0.9399432540731435\n",
      "~~~~~~~~~~~~~~~~~~~~ Epoch:  30\n",
      "AUC: 0.9408305391839057\n",
      "AUC: 0.9399393340505642\n",
      "AUC: 0.9402176556536967\n",
      "AUC: 0.9396666524799183\n",
      "~~~~~~~~~~~~~~~~~~~~ Epoch:  31\n",
      "AUC: 0.9403752565614778\n",
      "AUC: 0.9395998520951482\n",
      "AUC: 0.9406966184125222\n",
      "AUC: 0.9401026549912928\n",
      "~~~~~~~~~~~~~~~~~~~~ Epoch:  32\n",
      "AUC: 0.9405331374708717\n",
      "AUC: 0.9399690942219826\n",
      "AUC: 0.9403939766693055\n",
      "AUC: 0.9401301751498089\n",
      "~~~~~~~~~~~~~~~~~~~~ Epoch:  33\n",
      "AUC: 0.9404366969153742\n",
      "AUC: 0.9394780913938063\n",
      "AUC: 0.9396311722755524\n",
      "AUC: 0.9405371374939119\n",
      "~~~~~~~~~~~~~~~~~~~~ Epoch:  34\n",
      "AUC: 0.9402960961055137\n",
      "AUC: 0.9405044973059046\n",
      "AUC: 0.9403040561513635\n",
      "AUC: 0.9404771371483099\n",
      "~~~~~~~~~~~~~~~~~~~~ Epoch:  35\n",
      "AUC: 0.9408140990892107\n",
      "AUC: 0.9401701753802101\n",
      "AUC: 0.9404847371920863\n",
      "AUC: 0.9404302968785101\n",
      "~~~~~~~~~~~~~~~~~~~~ Epoch:  36\n",
      "AUC: 0.9408894995235171\n",
      "AUC: 0.940527577438846\n",
      "AUC: 0.9408048590359881\n",
      "AUC: 0.9404063367404997\n",
      "~~~~~~~~~~~~~~~~~~~~ Epoch:  37\n",
      "AUC: 0.9404111767683782\n",
      "AUC: 0.9402950560995231\n",
      "AUC: 0.9404718571178969\n",
      "AUC: 0.9405284174436847\n",
      "~~~~~~~~~~~~~~~~~~~~ Epoch:  38\n",
      "AUC: 0.9404092967575494\n",
      "AUC: 0.940472657122505\n",
      "AUC: 0.9403341763248556\n",
      "AUC: 0.9406537781657622\n",
      "~~~~~~~~~~~~~~~~~~~~ Epoch:  39\n",
      "AUC: 0.9410366203709333\n",
      "AUC: 0.940427816864225\n",
      "AUC: 0.940616177949185\n",
      "AUC: 0.9405367774918384\n",
      "~~~~~~~~~~~~~~~~~~~~ Epoch:  40\n",
      "AUC: 0.9409795000419204\n",
      "AUC: 0.9405338574750192\n",
      "AUC: 0.9406487381367316\n",
      "AUC: 0.9401169750737765\n",
      "~~~~~~~~~~~~~~~~~~~~ Epoch:  41\n",
      "AUC: 0.9408878195138406\n",
      "AUC: 0.9405814177489662\n",
      "AUC: 0.9411597410801087\n",
      "AUC: 0.9405898177973505\n",
      "~~~~~~~~~~~~~~~~~~~~ Epoch:  42\n",
      "AUC: 0.9409392598101365\n",
      "AUC: 0.9405592176210933\n",
      "AUC: 0.9409752600174977\n",
      "AUC: 0.9405664576627961\n",
      "~~~~~~~~~~~~~~~~~~~~ Epoch:  43\n",
      "AUC: 0.9409620599414653\n",
      "AUC: 0.9404152567918791\n",
      "AUC: 0.9405832577595646\n",
      "AUC: 0.9405720976952827\n",
      "~~~~~~~~~~~~~~~~~~~~ Epoch:  44\n",
      "AUC: 0.9411143808188335\n",
      "AUC: 0.9407240985708079\n",
      "AUC: 0.9408834194884962\n",
      "AUC: 0.940944299839167\n",
      "~~~~~~~~~~~~~~~~~~~~ Epoch:  45\n",
      "AUC: 0.9408502992977239\n",
      "AUC: 0.9406503381459478\n",
      "AUC: 0.9408948595543911\n",
      "AUC: 0.9408038190299975\n",
      "~~~~~~~~~~~~~~~~~~~~ Epoch:  46\n",
      "AUC: 0.941258861651043\n",
      "AUC: 0.9406419380975634\n",
      "AUC: 0.9406656182339612\n",
      "AUC: 0.9407398186613555\n",
      "~~~~~~~~~~~~~~~~~~~~ Epoch:  47\n",
      "AUC: 0.941013060235227\n",
      "AUC: 0.9406452581166869\n",
      "AUC: 0.9409321797693555\n",
      "AUC: 0.9407314586132016\n",
      "~~~~~~~~~~~~~~~~~~~~ Epoch:  48\n",
      "AUC: 0.9411068207752876\n",
      "AUC: 0.9404034967241413\n",
      "AUC: 0.9412082613595855\n",
      "AUC: 0.9407327786208048\n",
      "~~~~~~~~~~~~~~~~~~~~ Epoch:  49\n",
      "AUC: 0.9411127808096175\n",
      "AUC: 0.9405074573229542\n",
      "AUC: 0.9409796600428418\n",
      "AUC: 0.9408452592686934\n",
      "~~~~~~~~~~~~~~~~~~~~ Epoch:  50\n",
      "AUC: 0.9411675011248064\n",
      "AUC: 0.940906019618673\n",
      "AUC: 0.9410937807001767\n",
      "AUC: 0.9407508987251767\n",
      "~~~~~~~~~~~~~~~~~~~~ Epoch:  51\n",
      "AUC: 0.9411931012722633\n",
      "AUC: 0.9407644988035131\n",
      "AUC: 0.9408802194700642\n",
      "AUC: 0.940909219637105\n",
      "~~~~~~~~~~~~~~~~~~~~ Epoch:  52\n",
      "AUC: 0.9414173825641234\n",
      "AUC: 0.9409036596050794\n",
      "AUC: 0.9408362592168531\n",
      "AUC: 0.9408839394914914\n",
      "~~~~~~~~~~~~~~~~~~~~ Epoch:  53\n",
      "AUC: 0.9410475804340632\n",
      "AUC: 0.9410499404476569\n",
      "AUC: 0.9407128985062954\n",
      "AUC: 0.9409409398198134\n",
      "~~~~~~~~~~~~~~~~~~~~ Epoch:  54\n",
      "AUC: 0.9411214208593841\n",
      "AUC: 0.9407853789237826\n",
      "AUC: 0.941045140420009\n",
      "AUC: 0.9410188602686351\n",
      "~~~~~~~~~~~~~~~~~~~~ Epoch:  55\n",
      "AUC: 0.9410581804951197\n",
      "AUC: 0.9408576193398874\n",
      "AUC: 0.9412827417885926\n",
      "AUC: 0.9410950607075496\n",
      "~~~~~~~~~~~~~~~~~~~~ Epoch:  56\n",
      "AUC: 0.9409786200368514\n",
      "AUC: 0.9409834200644995\n",
      "AUC: 0.9410330603504276\n",
      "AUC: 0.9410917406884265\n",
      "~~~~~~~~~~~~~~~~~~~~ Epoch:  57\n",
      "AUC: 0.9413615822427138\n",
      "AUC: 0.94121770141396\n",
      "AUC: 0.9411917412644296\n",
      "AUC: 0.9411099407932589\n",
      "~~~~~~~~~~~~~~~~~~~~ Epoch:  58\n",
      "AUC: 0.9413219020141556\n",
      "AUC: 0.9408917395364197\n",
      "AUC: 0.9410352203628694\n",
      "AUC: 0.9409344997827188\n",
      "~~~~~~~~~~~~~~~~~~~~ Epoch:  59\n",
      "AUC: 0.9414318626475288\n",
      "AUC: 0.9412336615058903\n",
      "AUC: 0.9413752623215109\n",
      "AUC: 0.9410711405697698\n",
      "~~~~~~~~~~~~~~~~~~~~ Epoch:  60\n",
      "AUC: 0.9413145819719921\n",
      "AUC: 0.9413127019611632\n",
      "AUC: 0.9411770211796421\n",
      "AUC: 0.9409633399488382\n",
      "~~~~~~~~~~~~~~~~~~~~ Epoch:  61\n",
      "AUC: 0.9411592210771133\n",
      "AUC: 0.9410616605151645\n",
      "AUC: 0.9411919012653513\n",
      "AUC: 0.941147541009836\n",
      "~~~~~~~~~~~~~~~~~~~~ Epoch:  62\n",
      "AUC: 0.9411307409130676\n",
      "AUC: 0.941068300553411\n",
      "AUC: 0.9411787011893189\n",
      "AUC: 0.9412849018010343\n",
      "~~~~~~~~~~~~~~~~~~~~ Epoch:  63\n",
      "AUC: 0.9413212220102386\n",
      "AUC: 0.9408604993564763\n"
     ]
    },
    {
     "name": "stdout",
     "output_type": "stream",
     "text": [
      "AUC: 0.941257261641827\n",
      "AUC: 0.9411893012503754\n",
      "~~~~~~~~~~~~~~~~~~~~ Epoch:  64\n",
      "AUC: 0.9414377426813979\n",
      "AUC: 0.9409428198306422\n",
      "AUC: 0.9414103025233425\n",
      "AUC: 0.9414356226691866\n",
      "~~~~~~~~~~~~~~~~~~~~ Epoch:  65\n",
      "AUC: 0.9414371826781722\n",
      "AUC: 0.940951779882252\n",
      "AUC: 0.9411729011559106\n",
      "AUC: 0.9410431804087191\n",
      "~~~~~~~~~~~~~~~~~~~~ Epoch:  66\n",
      "AUC: 0.9413825823636744\n",
      "AUC: 0.9409525798868601\n",
      "AUC: 0.9409013395917161\n",
      "AUC: 0.9411359809432501\n",
      "~~~~~~~~~~~~~~~~~~~~ Epoch:  67\n",
      "AUC: 0.9412288614782423\n",
      "AUC: 0.9411499810238906\n",
      "AUC: 0.9412976218743021\n",
      "AUC: 0.9411743411642051\n",
      "~~~~~~~~~~~~~~~~~~~~ Epoch:  68\n",
      "AUC: 0.9413416621279739\n",
      "AUC: 0.9410975407218345\n",
      "AUC: 0.9413473021604605\n",
      "AUC: 0.941231141491375\n",
      "~~~~~~~~~~~~~~~~~~~~ Epoch:  69\n",
      "AUC: 0.9411879012423111\n",
      "AUC: 0.9411322609218229\n",
      "AUC: 0.9411141808176814\n",
      "AUC: 0.9414376226807066\n",
      "~~~~~~~~~~~~~~~~~~~~ Epoch:  70\n",
      "AUC: 0.9413866223869449\n",
      "AUC: 0.9414099425212689\n",
      "AUC: 0.9412922218431979\n",
      "AUC: 0.9413851823786504\n",
      "~~~~~~~~~~~~~~~~~~~~ Epoch:  71\n",
      "AUC: 0.9414019024749583\n",
      "AUC: 0.9413714222993924\n",
      "AUC: 0.9412334615047383\n",
      "AUC: 0.9412181414164946\n",
      "~~~~~~~~~~~~~~~~~~~~ Epoch:  72\n",
      "AUC: 0.9414414627028251\n",
      "AUC: 0.9411537010453179\n",
      "AUC: 0.9413767023298052\n",
      "AUC: 0.941418822572418\n",
      "~~~~~~~~~~~~~~~~~~~~ Epoch:  73\n",
      "AUC: 0.9415005830433584\n",
      "AUC: 0.9411427809824184\n",
      "AUC: 0.9413476221623036\n",
      "AUC: 0.941219381423637\n",
      "~~~~~~~~~~~~~~~~~~~~ Epoch:  74\n",
      "AUC: 0.9415748234709833\n",
      "AUC: 0.9412532216185566\n",
      "AUC: 0.9411703011409347\n",
      "AUC: 0.9412612216646368\n",
      "~~~~~~~~~~~~~~~~~~~~ Epoch:  75\n",
      "AUC: 0.9414329826539801\n",
      "AUC: 0.9412432215609561\n",
      "AUC: 0.9413565822139136\n",
      "AUC: 0.9413231020210677\n",
      "~~~~~~~~~~~~~~~~~~~~ Epoch:  76\n",
      "AUC: 0.9414888629758508\n",
      "AUC: 0.9412529016167132\n",
      "AUC: 0.9413227820192244\n",
      "AUC: 0.9414326626521369\n",
      "~~~~~~~~~~~~~~~~~~~~ Epoch:  77\n",
      "AUC: 0.9415356632454204\n",
      "AUC: 0.9411497810227387\n",
      "AUC: 0.9415585033769793\n",
      "AUC: 0.9415010230458928\n",
      "~~~~~~~~~~~~~~~~~~~~ Epoch:  78\n",
      "AUC: 0.9414325426514456\n",
      "AUC: 0.9411889412483015\n",
      "AUC: 0.9413951424360205\n",
      "AUC: 0.9413538221980159\n",
      "~~~~~~~~~~~~~~~~~~~~ Epoch:  79\n",
      "AUC: 0.9413429821355772\n",
      "AUC: 0.9413558622097662\n",
      "AUC: 0.9414173825641237\n",
      "AUC: 0.9415227431710006\n",
      "~~~~~~~~~~~~~~~~~~~~ Epoch:  80\n",
      "AUC: 0.9415205431583287\n",
      "AUC: 0.9413101419464177\n",
      "AUC: 0.9412955818625517\n",
      "AUC: 0.9411306209123764\n",
      "~~~~~~~~~~~~~~~~~~~~ Epoch:  81\n",
      "AUC: 0.9414985830318383\n",
      "AUC: 0.9412915018390507\n",
      "AUC: 0.9415048230677808\n",
      "AUC: 0.9413557022088447\n",
      "~~~~~~~~~~~~~~~~~~~~ Epoch:  82\n",
      "AUC: 0.941545703303251\n",
      "AUC: 0.9413055819201518\n",
      "AUC: 0.9414447027214878\n",
      "AUC: 0.9413249820318965\n",
      "~~~~~~~~~~~~~~~~~~~~ Epoch:  83\n",
      "AUC: 0.9413850623779593\n",
      "AUC: 0.9412103413715662\n",
      "AUC: 0.9413973024484622\n",
      "AUC: 0.941424902607439\n",
      "~~~~~~~~~~~~~~~~~~~~ Epoch:  84\n",
      "AUC: 0.9414646628364579\n",
      "AUC: 0.9415013030475055\n",
      "AUC: 0.9413672622754307\n",
      "AUC: 0.9414120225332498\n",
      "~~~~~~~~~~~~~~~~~~~~ Epoch:  85\n",
      "AUC: 0.9414196625772566\n",
      "AUC: 0.9412734217349091\n",
      "AUC: 0.941312181958168\n",
      "AUC: 0.9413951424360203\n",
      "~~~~~~~~~~~~~~~~~~~~ Epoch:  86\n",
      "AUC: 0.9416269037709657\n",
      "AUC: 0.9413043819132397\n",
      "AUC: 0.9414314626452247\n",
      "AUC: 0.9412983818786796\n",
      "~~~~~~~~~~~~~~~~~~~~ Epoch:  87\n",
      "AUC: 0.9414637828313891\n",
      "AUC: 0.9413840223719688\n",
      "AUC: 0.941504943068472\n",
      "AUC: 0.9414848629528106\n",
      "~~~~~~~~~~~~~~~~~~~~ Epoch:  88\n",
      "AUC: 0.9415775834868809\n",
      "AUC: 0.9412752217452772\n",
      "AUC: 0.9414361826724122\n",
      "AUC: 0.9414331426549016\n",
      "~~~~~~~~~~~~~~~~~~~~ Epoch:  89\n",
      "AUC: 0.9415667834246725\n",
      "AUC: 0.9412706617190115\n",
      "AUC: 0.941368102280269\n",
      "AUC: 0.9414297426353175\n",
      "~~~~~~~~~~~~~~~~~~~~ Epoch:  90\n",
      "AUC: 0.9415681834327365\n",
      "AUC: 0.9413779823371782\n",
      "AUC: 0.9413893024023818\n",
      "AUC: 0.9415106631014195\n",
      "~~~~~~~~~~~~~~~~~~~~ Epoch:  91\n",
      "AUC: 0.9416618639723365\n",
      "AUC: 0.9413829823659785\n",
      "AUC: 0.9414719828786213\n",
      "AUC: 0.9414573827945247\n",
      "~~~~~~~~~~~~~~~~~~~~ Epoch:  92\n",
      "AUC: 0.9416354638202717\n",
      "AUC: 0.9414398626936092\n",
      "AUC: 0.9415153431283766\n",
      "AUC: 0.9414334626567449\n",
      "~~~~~~~~~~~~~~~~~~~~ Epoch:  93\n",
      "AUC: 0.9414182625691924\n",
      "AUC: 0.9413302620623094\n",
      "AUC: 0.941470942872631\n",
      "AUC: 0.9416843841020524\n",
      "~~~~~~~~~~~~~~~~~~~~ Epoch:  94\n",
      "AUC: 0.941647543889853\n",
      "AUC: 0.9413789423427079\n",
      "AUC: 0.941452502766416\n",
      "AUC: 0.9414856629574188\n",
      "~~~~~~~~~~~~~~~~~~~~ Epoch:  95\n",
      "AUC: 0.9415103030993459\n",
      "AUC: 0.941463382829085\n",
      "AUC: 0.9413867023874057\n",
      "AUC: 0.9415124631117875\n",
      "~~~~~~~~~~~~~~~~~~~~ Epoch:  96\n",
      "AUC: 0.9415383832610876\n",
      "AUC: 0.9412923818441193\n",
      "AUC: 0.9413084619367408\n",
      "AUC: 0.9414296626348568\n",
      "~~~~~~~~~~~~~~~~~~~~ Epoch:  97\n",
      "AUC: 0.9416625039760229\n",
      "AUC: 0.9414029424809487\n",
      "AUC: 0.9413999024634383\n",
      "AUC: 0.9414816629343785\n",
      "~~~~~~~~~~~~~~~~~~~~ Epoch:  98\n",
      "AUC: 0.9415758634769738\n",
      "AUC: 0.9412215414360787\n",
      "AUC: 0.9415074230827568\n",
      "AUC: 0.9414046224906256\n",
      "~~~~~~~~~~~~~~~~~~~~ Epoch:  99\n"
     ]
    }
   ],
   "source": [
    "batch_sz = 10000\n",
    "clf = SGDClassifier(loss='log', alpha=0.01)\n",
    "aucs = []\n",
    "for i in range(100):\n",
    "    for idxs in chunker(np.arange(40000), batch_sz):\n",
    "        x_diff = secondary_scaler.transform(np.abs(XX_train[X_idxs_train[idxs, 0]] - XX_train[X_idxs_train[idxs, 1]]))\n",
    "        x_diff[np.isnan(x_diff)]=0\n",
    "        y = Y_train[idxs]\n",
    "        clf.partial_fit(x_diff, y, classes=[0, 1])\n",
    "\n",
    "        probs = clf.predict_proba(x_test_diff_sample)[:, 1]\n",
    "\n",
    "        fpr, tpr, thresh = roc_curve(y_test_sample, probs)\n",
    "        roc_auc = auc(fpr, tpr)\n",
    "        print('AUC:', roc_auc)\n",
    "    print('~'*20, 'Epoch: ', i)\n",
    "    aucs.append(roc_auc)"
   ]
  },
  {
   "cell_type": "code",
   "execution_count": 22,
   "metadata": {},
   "outputs": [
    {
     "data": {
      "application/vnd.plotly.v1+json": {
       "config": {
        "plotlyServerURL": "https://plot.ly"
       },
       "data": [
        {
         "type": "scatter",
         "y": [
          0.9095398389494723,
          0.9151866714752277,
          0.9199230587568185,
          0.9244043045687942,
          0.9262457351754346,
          0.9264398962938026,
          0.9312553640308968,
          0.9315968059976025,
          0.933035094282143,
          0.9336571778653444,
          0.9351312663560942,
          0.9366597551601897,
          0.935938671006745,
          0.9362685129066343,
          0.9365801947019213,
          0.9377791616079708,
          0.9372294384415654,
          0.9378392419540337,
          0.9372966388286397,
          0.9388408077230525,
          0.938332044792578,
          0.9389688084603367,
          0.9393331705590625,
          0.938653966646848,
          0.9390652090156039,
          0.9398630936114192,
          0.9391997297904435,
          0.94008941491503,
          0.9399656542021683,
          0.9399006138275356,
          0.9399432540731435,
          0.9396666524799183,
          0.9401026549912928,
          0.9401301751498089,
          0.9405371374939119,
          0.9404771371483099,
          0.9404302968785101,
          0.9404063367404997,
          0.9405284174436847,
          0.9406537781657622,
          0.9405367774918384,
          0.9401169750737765,
          0.9405898177973505,
          0.9405664576627961,
          0.9405720976952827,
          0.940944299839167,
          0.9408038190299975,
          0.9407398186613555,
          0.9407314586132016,
          0.9407327786208048,
          0.9408452592686934,
          0.9407508987251767,
          0.940909219637105,
          0.9408839394914914,
          0.9409409398198134,
          0.9410188602686351,
          0.9410950607075496,
          0.9410917406884265,
          0.9411099407932589,
          0.9409344997827188,
          0.9410711405697698,
          0.9409633399488382,
          0.941147541009836,
          0.9412849018010343,
          0.9411893012503754,
          0.9414356226691866,
          0.9410431804087191,
          0.9411359809432501,
          0.9411743411642051,
          0.941231141491375,
          0.9414376226807066,
          0.9413851823786504,
          0.9412181414164946,
          0.941418822572418,
          0.941219381423637,
          0.9412612216646368,
          0.9413231020210677,
          0.9414326626521369,
          0.9415010230458928,
          0.9413538221980159,
          0.9415227431710006,
          0.9411306209123764,
          0.9413557022088447,
          0.9413249820318965,
          0.941424902607439,
          0.9414120225332498,
          0.9413951424360203,
          0.9412983818786796,
          0.9414848629528106,
          0.9414331426549016,
          0.9414297426353175,
          0.9415106631014195,
          0.9414573827945247,
          0.9414334626567449,
          0.9416843841020524,
          0.9414856629574188,
          0.9415124631117875,
          0.9414296626348568,
          0.9414816629343785,
          0.9414046224906256
         ]
        }
       ],
       "layout": {
        "template": {
         "data": {
          "bar": [
           {
            "error_x": {
             "color": "#2a3f5f"
            },
            "error_y": {
             "color": "#2a3f5f"
            },
            "marker": {
             "line": {
              "color": "#E5ECF6",
              "width": 0.5
             }
            },
            "type": "bar"
           }
          ],
          "barpolar": [
           {
            "marker": {
             "line": {
              "color": "#E5ECF6",
              "width": 0.5
             }
            },
            "type": "barpolar"
           }
          ],
          "carpet": [
           {
            "aaxis": {
             "endlinecolor": "#2a3f5f",
             "gridcolor": "white",
             "linecolor": "white",
             "minorgridcolor": "white",
             "startlinecolor": "#2a3f5f"
            },
            "baxis": {
             "endlinecolor": "#2a3f5f",
             "gridcolor": "white",
             "linecolor": "white",
             "minorgridcolor": "white",
             "startlinecolor": "#2a3f5f"
            },
            "type": "carpet"
           }
          ],
          "choropleth": [
           {
            "colorbar": {
             "outlinewidth": 0,
             "ticks": ""
            },
            "type": "choropleth"
           }
          ],
          "contour": [
           {
            "colorbar": {
             "outlinewidth": 0,
             "ticks": ""
            },
            "colorscale": [
             [
              0,
              "#0d0887"
             ],
             [
              0.1111111111111111,
              "#46039f"
             ],
             [
              0.2222222222222222,
              "#7201a8"
             ],
             [
              0.3333333333333333,
              "#9c179e"
             ],
             [
              0.4444444444444444,
              "#bd3786"
             ],
             [
              0.5555555555555556,
              "#d8576b"
             ],
             [
              0.6666666666666666,
              "#ed7953"
             ],
             [
              0.7777777777777778,
              "#fb9f3a"
             ],
             [
              0.8888888888888888,
              "#fdca26"
             ],
             [
              1,
              "#f0f921"
             ]
            ],
            "type": "contour"
           }
          ],
          "contourcarpet": [
           {
            "colorbar": {
             "outlinewidth": 0,
             "ticks": ""
            },
            "type": "contourcarpet"
           }
          ],
          "heatmap": [
           {
            "colorbar": {
             "outlinewidth": 0,
             "ticks": ""
            },
            "colorscale": [
             [
              0,
              "#0d0887"
             ],
             [
              0.1111111111111111,
              "#46039f"
             ],
             [
              0.2222222222222222,
              "#7201a8"
             ],
             [
              0.3333333333333333,
              "#9c179e"
             ],
             [
              0.4444444444444444,
              "#bd3786"
             ],
             [
              0.5555555555555556,
              "#d8576b"
             ],
             [
              0.6666666666666666,
              "#ed7953"
             ],
             [
              0.7777777777777778,
              "#fb9f3a"
             ],
             [
              0.8888888888888888,
              "#fdca26"
             ],
             [
              1,
              "#f0f921"
             ]
            ],
            "type": "heatmap"
           }
          ],
          "heatmapgl": [
           {
            "colorbar": {
             "outlinewidth": 0,
             "ticks": ""
            },
            "colorscale": [
             [
              0,
              "#0d0887"
             ],
             [
              0.1111111111111111,
              "#46039f"
             ],
             [
              0.2222222222222222,
              "#7201a8"
             ],
             [
              0.3333333333333333,
              "#9c179e"
             ],
             [
              0.4444444444444444,
              "#bd3786"
             ],
             [
              0.5555555555555556,
              "#d8576b"
             ],
             [
              0.6666666666666666,
              "#ed7953"
             ],
             [
              0.7777777777777778,
              "#fb9f3a"
             ],
             [
              0.8888888888888888,
              "#fdca26"
             ],
             [
              1,
              "#f0f921"
             ]
            ],
            "type": "heatmapgl"
           }
          ],
          "histogram": [
           {
            "marker": {
             "colorbar": {
              "outlinewidth": 0,
              "ticks": ""
             }
            },
            "type": "histogram"
           }
          ],
          "histogram2d": [
           {
            "colorbar": {
             "outlinewidth": 0,
             "ticks": ""
            },
            "colorscale": [
             [
              0,
              "#0d0887"
             ],
             [
              0.1111111111111111,
              "#46039f"
             ],
             [
              0.2222222222222222,
              "#7201a8"
             ],
             [
              0.3333333333333333,
              "#9c179e"
             ],
             [
              0.4444444444444444,
              "#bd3786"
             ],
             [
              0.5555555555555556,
              "#d8576b"
             ],
             [
              0.6666666666666666,
              "#ed7953"
             ],
             [
              0.7777777777777778,
              "#fb9f3a"
             ],
             [
              0.8888888888888888,
              "#fdca26"
             ],
             [
              1,
              "#f0f921"
             ]
            ],
            "type": "histogram2d"
           }
          ],
          "histogram2dcontour": [
           {
            "colorbar": {
             "outlinewidth": 0,
             "ticks": ""
            },
            "colorscale": [
             [
              0,
              "#0d0887"
             ],
             [
              0.1111111111111111,
              "#46039f"
             ],
             [
              0.2222222222222222,
              "#7201a8"
             ],
             [
              0.3333333333333333,
              "#9c179e"
             ],
             [
              0.4444444444444444,
              "#bd3786"
             ],
             [
              0.5555555555555556,
              "#d8576b"
             ],
             [
              0.6666666666666666,
              "#ed7953"
             ],
             [
              0.7777777777777778,
              "#fb9f3a"
             ],
             [
              0.8888888888888888,
              "#fdca26"
             ],
             [
              1,
              "#f0f921"
             ]
            ],
            "type": "histogram2dcontour"
           }
          ],
          "mesh3d": [
           {
            "colorbar": {
             "outlinewidth": 0,
             "ticks": ""
            },
            "type": "mesh3d"
           }
          ],
          "parcoords": [
           {
            "line": {
             "colorbar": {
              "outlinewidth": 0,
              "ticks": ""
             }
            },
            "type": "parcoords"
           }
          ],
          "scatter": [
           {
            "marker": {
             "colorbar": {
              "outlinewidth": 0,
              "ticks": ""
             }
            },
            "type": "scatter"
           }
          ],
          "scatter3d": [
           {
            "line": {
             "colorbar": {
              "outlinewidth": 0,
              "ticks": ""
             }
            },
            "marker": {
             "colorbar": {
              "outlinewidth": 0,
              "ticks": ""
             }
            },
            "type": "scatter3d"
           }
          ],
          "scattercarpet": [
           {
            "marker": {
             "colorbar": {
              "outlinewidth": 0,
              "ticks": ""
             }
            },
            "type": "scattercarpet"
           }
          ],
          "scattergeo": [
           {
            "marker": {
             "colorbar": {
              "outlinewidth": 0,
              "ticks": ""
             }
            },
            "type": "scattergeo"
           }
          ],
          "scattergl": [
           {
            "marker": {
             "colorbar": {
              "outlinewidth": 0,
              "ticks": ""
             }
            },
            "type": "scattergl"
           }
          ],
          "scattermapbox": [
           {
            "marker": {
             "colorbar": {
              "outlinewidth": 0,
              "ticks": ""
             }
            },
            "type": "scattermapbox"
           }
          ],
          "scatterpolar": [
           {
            "marker": {
             "colorbar": {
              "outlinewidth": 0,
              "ticks": ""
             }
            },
            "type": "scatterpolar"
           }
          ],
          "scatterpolargl": [
           {
            "marker": {
             "colorbar": {
              "outlinewidth": 0,
              "ticks": ""
             }
            },
            "type": "scatterpolargl"
           }
          ],
          "scatterternary": [
           {
            "marker": {
             "colorbar": {
              "outlinewidth": 0,
              "ticks": ""
             }
            },
            "type": "scatterternary"
           }
          ],
          "surface": [
           {
            "colorbar": {
             "outlinewidth": 0,
             "ticks": ""
            },
            "colorscale": [
             [
              0,
              "#0d0887"
             ],
             [
              0.1111111111111111,
              "#46039f"
             ],
             [
              0.2222222222222222,
              "#7201a8"
             ],
             [
              0.3333333333333333,
              "#9c179e"
             ],
             [
              0.4444444444444444,
              "#bd3786"
             ],
             [
              0.5555555555555556,
              "#d8576b"
             ],
             [
              0.6666666666666666,
              "#ed7953"
             ],
             [
              0.7777777777777778,
              "#fb9f3a"
             ],
             [
              0.8888888888888888,
              "#fdca26"
             ],
             [
              1,
              "#f0f921"
             ]
            ],
            "type": "surface"
           }
          ],
          "table": [
           {
            "cells": {
             "fill": {
              "color": "#EBF0F8"
             },
             "line": {
              "color": "white"
             }
            },
            "header": {
             "fill": {
              "color": "#C8D4E3"
             },
             "line": {
              "color": "white"
             }
            },
            "type": "table"
           }
          ]
         },
         "layout": {
          "annotationdefaults": {
           "arrowcolor": "#2a3f5f",
           "arrowhead": 0,
           "arrowwidth": 1
          },
          "colorscale": {
           "diverging": [
            [
             0,
             "#8e0152"
            ],
            [
             0.1,
             "#c51b7d"
            ],
            [
             0.2,
             "#de77ae"
            ],
            [
             0.3,
             "#f1b6da"
            ],
            [
             0.4,
             "#fde0ef"
            ],
            [
             0.5,
             "#f7f7f7"
            ],
            [
             0.6,
             "#e6f5d0"
            ],
            [
             0.7,
             "#b8e186"
            ],
            [
             0.8,
             "#7fbc41"
            ],
            [
             0.9,
             "#4d9221"
            ],
            [
             1,
             "#276419"
            ]
           ],
           "sequential": [
            [
             0,
             "#0d0887"
            ],
            [
             0.1111111111111111,
             "#46039f"
            ],
            [
             0.2222222222222222,
             "#7201a8"
            ],
            [
             0.3333333333333333,
             "#9c179e"
            ],
            [
             0.4444444444444444,
             "#bd3786"
            ],
            [
             0.5555555555555556,
             "#d8576b"
            ],
            [
             0.6666666666666666,
             "#ed7953"
            ],
            [
             0.7777777777777778,
             "#fb9f3a"
            ],
            [
             0.8888888888888888,
             "#fdca26"
            ],
            [
             1,
             "#f0f921"
            ]
           ],
           "sequentialminus": [
            [
             0,
             "#0d0887"
            ],
            [
             0.1111111111111111,
             "#46039f"
            ],
            [
             0.2222222222222222,
             "#7201a8"
            ],
            [
             0.3333333333333333,
             "#9c179e"
            ],
            [
             0.4444444444444444,
             "#bd3786"
            ],
            [
             0.5555555555555556,
             "#d8576b"
            ],
            [
             0.6666666666666666,
             "#ed7953"
            ],
            [
             0.7777777777777778,
             "#fb9f3a"
            ],
            [
             0.8888888888888888,
             "#fdca26"
            ],
            [
             1,
             "#f0f921"
            ]
           ]
          },
          "colorway": [
           "#636efa",
           "#EF553B",
           "#00cc96",
           "#ab63fa",
           "#FFA15A",
           "#19d3f3",
           "#FF6692",
           "#B6E880",
           "#FF97FF",
           "#FECB52"
          ],
          "font": {
           "color": "#2a3f5f"
          },
          "geo": {
           "bgcolor": "white",
           "lakecolor": "white",
           "landcolor": "#E5ECF6",
           "showlakes": true,
           "showland": true,
           "subunitcolor": "white"
          },
          "hoverlabel": {
           "align": "left"
          },
          "hovermode": "closest",
          "mapbox": {
           "style": "light"
          },
          "paper_bgcolor": "white",
          "plot_bgcolor": "#E5ECF6",
          "polar": {
           "angularaxis": {
            "gridcolor": "white",
            "linecolor": "white",
            "ticks": ""
           },
           "bgcolor": "#E5ECF6",
           "radialaxis": {
            "gridcolor": "white",
            "linecolor": "white",
            "ticks": ""
           }
          },
          "scene": {
           "xaxis": {
            "backgroundcolor": "#E5ECF6",
            "gridcolor": "white",
            "gridwidth": 2,
            "linecolor": "white",
            "showbackground": true,
            "ticks": "",
            "zerolinecolor": "white"
           },
           "yaxis": {
            "backgroundcolor": "#E5ECF6",
            "gridcolor": "white",
            "gridwidth": 2,
            "linecolor": "white",
            "showbackground": true,
            "ticks": "",
            "zerolinecolor": "white"
           },
           "zaxis": {
            "backgroundcolor": "#E5ECF6",
            "gridcolor": "white",
            "gridwidth": 2,
            "linecolor": "white",
            "showbackground": true,
            "ticks": "",
            "zerolinecolor": "white"
           }
          },
          "shapedefaults": {
           "line": {
            "color": "#2a3f5f"
           }
          },
          "ternary": {
           "aaxis": {
            "gridcolor": "white",
            "linecolor": "white",
            "ticks": ""
           },
           "baxis": {
            "gridcolor": "white",
            "linecolor": "white",
            "ticks": ""
           },
           "bgcolor": "#E5ECF6",
           "caxis": {
            "gridcolor": "white",
            "linecolor": "white",
            "ticks": ""
           }
          },
          "title": {
           "x": 0.05
          },
          "xaxis": {
           "automargin": true,
           "gridcolor": "white",
           "linecolor": "white",
           "ticks": "",
           "zerolinecolor": "white",
           "zerolinewidth": 2
          },
          "yaxis": {
           "automargin": true,
           "gridcolor": "white",
           "linecolor": "white",
           "ticks": "",
           "zerolinecolor": "white",
           "zerolinewidth": 2
          }
         }
        }
       }
      },
      "text/html": [
       "<div>\n",
       "        \n",
       "        \n",
       "            <div id=\"99b24495-4ae5-4d30-8269-d3244ee773e7\" class=\"plotly-graph-div\" style=\"height:525px; width:100%;\"></div>\n",
       "            <script type=\"text/javascript\">\n",
       "                require([\"plotly\"], function(Plotly) {\n",
       "                    window.PLOTLYENV=window.PLOTLYENV || {};\n",
       "                    \n",
       "                if (document.getElementById(\"99b24495-4ae5-4d30-8269-d3244ee773e7\")) {\n",
       "                    Plotly.newPlot(\n",
       "                        '99b24495-4ae5-4d30-8269-d3244ee773e7',\n",
       "                        [{\"type\": \"scatter\", \"y\": [0.9095398389494723, 0.9151866714752277, 0.9199230587568185, 0.9244043045687942, 0.9262457351754346, 0.9264398962938026, 0.9312553640308968, 0.9315968059976025, 0.933035094282143, 0.9336571778653444, 0.9351312663560942, 0.9366597551601897, 0.935938671006745, 0.9362685129066343, 0.9365801947019213, 0.9377791616079708, 0.9372294384415654, 0.9378392419540337, 0.9372966388286397, 0.9388408077230525, 0.938332044792578, 0.9389688084603367, 0.9393331705590625, 0.938653966646848, 0.9390652090156039, 0.9398630936114192, 0.9391997297904435, 0.94008941491503, 0.9399656542021683, 0.9399006138275356, 0.9399432540731435, 0.9396666524799183, 0.9401026549912928, 0.9401301751498089, 0.9405371374939119, 0.9404771371483099, 0.9404302968785101, 0.9404063367404997, 0.9405284174436847, 0.9406537781657622, 0.9405367774918384, 0.9401169750737765, 0.9405898177973505, 0.9405664576627961, 0.9405720976952827, 0.940944299839167, 0.9408038190299975, 0.9407398186613555, 0.9407314586132016, 0.9407327786208048, 0.9408452592686934, 0.9407508987251767, 0.940909219637105, 0.9408839394914914, 0.9409409398198134, 0.9410188602686351, 0.9410950607075496, 0.9410917406884265, 0.9411099407932589, 0.9409344997827188, 0.9410711405697698, 0.9409633399488382, 0.941147541009836, 0.9412849018010343, 0.9411893012503754, 0.9414356226691866, 0.9410431804087191, 0.9411359809432501, 0.9411743411642051, 0.941231141491375, 0.9414376226807066, 0.9413851823786504, 0.9412181414164946, 0.941418822572418, 0.941219381423637, 0.9412612216646368, 0.9413231020210677, 0.9414326626521369, 0.9415010230458928, 0.9413538221980159, 0.9415227431710006, 0.9411306209123764, 0.9413557022088447, 0.9413249820318965, 0.941424902607439, 0.9414120225332498, 0.9413951424360203, 0.9412983818786796, 0.9414848629528106, 0.9414331426549016, 0.9414297426353175, 0.9415106631014195, 0.9414573827945247, 0.9414334626567449, 0.9416843841020524, 0.9414856629574188, 0.9415124631117875, 0.9414296626348568, 0.9414816629343785, 0.9414046224906256]}],\n",
       "                        {\"template\": {\"data\": {\"bar\": [{\"error_x\": {\"color\": \"#2a3f5f\"}, \"error_y\": {\"color\": \"#2a3f5f\"}, \"marker\": {\"line\": {\"color\": \"#E5ECF6\", \"width\": 0.5}}, \"type\": \"bar\"}], \"barpolar\": [{\"marker\": {\"line\": {\"color\": \"#E5ECF6\", \"width\": 0.5}}, \"type\": \"barpolar\"}], \"carpet\": [{\"aaxis\": {\"endlinecolor\": \"#2a3f5f\", \"gridcolor\": \"white\", \"linecolor\": \"white\", \"minorgridcolor\": \"white\", \"startlinecolor\": \"#2a3f5f\"}, \"baxis\": {\"endlinecolor\": \"#2a3f5f\", \"gridcolor\": \"white\", \"linecolor\": \"white\", \"minorgridcolor\": \"white\", \"startlinecolor\": \"#2a3f5f\"}, \"type\": \"carpet\"}], \"choropleth\": [{\"colorbar\": {\"outlinewidth\": 0, \"ticks\": \"\"}, \"type\": \"choropleth\"}], \"contour\": [{\"colorbar\": {\"outlinewidth\": 0, \"ticks\": \"\"}, \"colorscale\": [[0.0, \"#0d0887\"], [0.1111111111111111, \"#46039f\"], [0.2222222222222222, \"#7201a8\"], [0.3333333333333333, \"#9c179e\"], [0.4444444444444444, \"#bd3786\"], [0.5555555555555556, \"#d8576b\"], [0.6666666666666666, \"#ed7953\"], [0.7777777777777778, \"#fb9f3a\"], [0.8888888888888888, \"#fdca26\"], [1.0, \"#f0f921\"]], \"type\": \"contour\"}], \"contourcarpet\": [{\"colorbar\": {\"outlinewidth\": 0, \"ticks\": \"\"}, \"type\": \"contourcarpet\"}], \"heatmap\": [{\"colorbar\": {\"outlinewidth\": 0, \"ticks\": \"\"}, \"colorscale\": [[0.0, \"#0d0887\"], [0.1111111111111111, \"#46039f\"], [0.2222222222222222, \"#7201a8\"], [0.3333333333333333, \"#9c179e\"], [0.4444444444444444, \"#bd3786\"], [0.5555555555555556, \"#d8576b\"], [0.6666666666666666, \"#ed7953\"], [0.7777777777777778, \"#fb9f3a\"], [0.8888888888888888, \"#fdca26\"], [1.0, \"#f0f921\"]], \"type\": \"heatmap\"}], \"heatmapgl\": [{\"colorbar\": {\"outlinewidth\": 0, \"ticks\": \"\"}, \"colorscale\": [[0.0, \"#0d0887\"], [0.1111111111111111, \"#46039f\"], [0.2222222222222222, \"#7201a8\"], [0.3333333333333333, \"#9c179e\"], [0.4444444444444444, \"#bd3786\"], [0.5555555555555556, \"#d8576b\"], [0.6666666666666666, \"#ed7953\"], [0.7777777777777778, \"#fb9f3a\"], [0.8888888888888888, \"#fdca26\"], [1.0, \"#f0f921\"]], \"type\": \"heatmapgl\"}], \"histogram\": [{\"marker\": {\"colorbar\": {\"outlinewidth\": 0, \"ticks\": \"\"}}, \"type\": \"histogram\"}], \"histogram2d\": [{\"colorbar\": {\"outlinewidth\": 0, \"ticks\": \"\"}, \"colorscale\": [[0.0, \"#0d0887\"], [0.1111111111111111, \"#46039f\"], [0.2222222222222222, \"#7201a8\"], [0.3333333333333333, \"#9c179e\"], [0.4444444444444444, \"#bd3786\"], [0.5555555555555556, \"#d8576b\"], [0.6666666666666666, \"#ed7953\"], [0.7777777777777778, \"#fb9f3a\"], [0.8888888888888888, \"#fdca26\"], [1.0, \"#f0f921\"]], \"type\": \"histogram2d\"}], \"histogram2dcontour\": [{\"colorbar\": {\"outlinewidth\": 0, \"ticks\": \"\"}, \"colorscale\": [[0.0, \"#0d0887\"], [0.1111111111111111, \"#46039f\"], [0.2222222222222222, \"#7201a8\"], [0.3333333333333333, \"#9c179e\"], [0.4444444444444444, \"#bd3786\"], [0.5555555555555556, \"#d8576b\"], [0.6666666666666666, \"#ed7953\"], [0.7777777777777778, \"#fb9f3a\"], [0.8888888888888888, \"#fdca26\"], [1.0, \"#f0f921\"]], \"type\": \"histogram2dcontour\"}], \"mesh3d\": [{\"colorbar\": {\"outlinewidth\": 0, \"ticks\": \"\"}, \"type\": \"mesh3d\"}], \"parcoords\": [{\"line\": {\"colorbar\": {\"outlinewidth\": 0, \"ticks\": \"\"}}, \"type\": \"parcoords\"}], \"scatter\": [{\"marker\": {\"colorbar\": {\"outlinewidth\": 0, \"ticks\": \"\"}}, \"type\": \"scatter\"}], \"scatter3d\": [{\"line\": {\"colorbar\": {\"outlinewidth\": 0, \"ticks\": \"\"}}, \"marker\": {\"colorbar\": {\"outlinewidth\": 0, \"ticks\": \"\"}}, \"type\": \"scatter3d\"}], \"scattercarpet\": [{\"marker\": {\"colorbar\": {\"outlinewidth\": 0, \"ticks\": \"\"}}, \"type\": \"scattercarpet\"}], \"scattergeo\": [{\"marker\": {\"colorbar\": {\"outlinewidth\": 0, \"ticks\": \"\"}}, \"type\": \"scattergeo\"}], \"scattergl\": [{\"marker\": {\"colorbar\": {\"outlinewidth\": 0, \"ticks\": \"\"}}, \"type\": \"scattergl\"}], \"scattermapbox\": [{\"marker\": {\"colorbar\": {\"outlinewidth\": 0, \"ticks\": \"\"}}, \"type\": \"scattermapbox\"}], \"scatterpolar\": [{\"marker\": {\"colorbar\": {\"outlinewidth\": 0, \"ticks\": \"\"}}, \"type\": \"scatterpolar\"}], \"scatterpolargl\": [{\"marker\": {\"colorbar\": {\"outlinewidth\": 0, \"ticks\": \"\"}}, \"type\": \"scatterpolargl\"}], \"scatterternary\": [{\"marker\": {\"colorbar\": {\"outlinewidth\": 0, \"ticks\": \"\"}}, \"type\": \"scatterternary\"}], \"surface\": [{\"colorbar\": {\"outlinewidth\": 0, \"ticks\": \"\"}, \"colorscale\": [[0.0, \"#0d0887\"], [0.1111111111111111, \"#46039f\"], [0.2222222222222222, \"#7201a8\"], [0.3333333333333333, \"#9c179e\"], [0.4444444444444444, \"#bd3786\"], [0.5555555555555556, \"#d8576b\"], [0.6666666666666666, \"#ed7953\"], [0.7777777777777778, \"#fb9f3a\"], [0.8888888888888888, \"#fdca26\"], [1.0, \"#f0f921\"]], \"type\": \"surface\"}], \"table\": [{\"cells\": {\"fill\": {\"color\": \"#EBF0F8\"}, \"line\": {\"color\": \"white\"}}, \"header\": {\"fill\": {\"color\": \"#C8D4E3\"}, \"line\": {\"color\": \"white\"}}, \"type\": \"table\"}]}, \"layout\": {\"annotationdefaults\": {\"arrowcolor\": \"#2a3f5f\", \"arrowhead\": 0, \"arrowwidth\": 1}, \"colorscale\": {\"diverging\": [[0, \"#8e0152\"], [0.1, \"#c51b7d\"], [0.2, \"#de77ae\"], [0.3, \"#f1b6da\"], [0.4, \"#fde0ef\"], [0.5, \"#f7f7f7\"], [0.6, \"#e6f5d0\"], [0.7, \"#b8e186\"], [0.8, \"#7fbc41\"], [0.9, \"#4d9221\"], [1, \"#276419\"]], \"sequential\": [[0.0, \"#0d0887\"], [0.1111111111111111, \"#46039f\"], [0.2222222222222222, \"#7201a8\"], [0.3333333333333333, \"#9c179e\"], [0.4444444444444444, \"#bd3786\"], [0.5555555555555556, \"#d8576b\"], [0.6666666666666666, \"#ed7953\"], [0.7777777777777778, \"#fb9f3a\"], [0.8888888888888888, \"#fdca26\"], [1.0, \"#f0f921\"]], \"sequentialminus\": [[0.0, \"#0d0887\"], [0.1111111111111111, \"#46039f\"], [0.2222222222222222, \"#7201a8\"], [0.3333333333333333, \"#9c179e\"], [0.4444444444444444, \"#bd3786\"], [0.5555555555555556, \"#d8576b\"], [0.6666666666666666, \"#ed7953\"], [0.7777777777777778, \"#fb9f3a\"], [0.8888888888888888, \"#fdca26\"], [1.0, \"#f0f921\"]]}, \"colorway\": [\"#636efa\", \"#EF553B\", \"#00cc96\", \"#ab63fa\", \"#FFA15A\", \"#19d3f3\", \"#FF6692\", \"#B6E880\", \"#FF97FF\", \"#FECB52\"], \"font\": {\"color\": \"#2a3f5f\"}, \"geo\": {\"bgcolor\": \"white\", \"lakecolor\": \"white\", \"landcolor\": \"#E5ECF6\", \"showlakes\": true, \"showland\": true, \"subunitcolor\": \"white\"}, \"hoverlabel\": {\"align\": \"left\"}, \"hovermode\": \"closest\", \"mapbox\": {\"style\": \"light\"}, \"paper_bgcolor\": \"white\", \"plot_bgcolor\": \"#E5ECF6\", \"polar\": {\"angularaxis\": {\"gridcolor\": \"white\", \"linecolor\": \"white\", \"ticks\": \"\"}, \"bgcolor\": \"#E5ECF6\", \"radialaxis\": {\"gridcolor\": \"white\", \"linecolor\": \"white\", \"ticks\": \"\"}}, \"scene\": {\"xaxis\": {\"backgroundcolor\": \"#E5ECF6\", \"gridcolor\": \"white\", \"gridwidth\": 2, \"linecolor\": \"white\", \"showbackground\": true, \"ticks\": \"\", \"zerolinecolor\": \"white\"}, \"yaxis\": {\"backgroundcolor\": \"#E5ECF6\", \"gridcolor\": \"white\", \"gridwidth\": 2, \"linecolor\": \"white\", \"showbackground\": true, \"ticks\": \"\", \"zerolinecolor\": \"white\"}, \"zaxis\": {\"backgroundcolor\": \"#E5ECF6\", \"gridcolor\": \"white\", \"gridwidth\": 2, \"linecolor\": \"white\", \"showbackground\": true, \"ticks\": \"\", \"zerolinecolor\": \"white\"}}, \"shapedefaults\": {\"line\": {\"color\": \"#2a3f5f\"}}, \"ternary\": {\"aaxis\": {\"gridcolor\": \"white\", \"linecolor\": \"white\", \"ticks\": \"\"}, \"baxis\": {\"gridcolor\": \"white\", \"linecolor\": \"white\", \"ticks\": \"\"}, \"bgcolor\": \"#E5ECF6\", \"caxis\": {\"gridcolor\": \"white\", \"linecolor\": \"white\", \"ticks\": \"\"}}, \"title\": {\"x\": 0.05}, \"xaxis\": {\"automargin\": true, \"gridcolor\": \"white\", \"linecolor\": \"white\", \"ticks\": \"\", \"zerolinecolor\": \"white\", \"zerolinewidth\": 2}, \"yaxis\": {\"automargin\": true, \"gridcolor\": \"white\", \"linecolor\": \"white\", \"ticks\": \"\", \"zerolinecolor\": \"white\", \"zerolinewidth\": 2}}}},\n",
       "                        {\"responsive\": true}\n",
       "                    ).then(function(){\n",
       "                            \n",
       "var gd = document.getElementById('99b24495-4ae5-4d30-8269-d3244ee773e7');\n",
       "var x = new MutationObserver(function (mutations, observer) {{\n",
       "        var display = window.getComputedStyle(gd).display;\n",
       "        if (!display || display === 'none') {{\n",
       "            console.log([gd, 'removed!']);\n",
       "            Plotly.purge(gd);\n",
       "            observer.disconnect();\n",
       "        }}\n",
       "}});\n",
       "\n",
       "// Listen for the removal of the full notebook cells\n",
       "var notebookContainer = gd.closest('#notebook-container');\n",
       "if (notebookContainer) {{\n",
       "    x.observe(notebookContainer, {childList: true});\n",
       "}}\n",
       "\n",
       "// Listen for the clearing of the current output cell\n",
       "var outputEl = gd.closest('.output');\n",
       "if (outputEl) {{\n",
       "    x.observe(outputEl, {childList: true});\n",
       "}}\n",
       "\n",
       "                        })\n",
       "                };\n",
       "                });\n",
       "            </script>\n",
       "        </div>"
      ]
     },
     "metadata": {},
     "output_type": "display_data"
    }
   ],
   "source": [
    "fig = go.Figure()\n",
    "fig.add_trace(go.Scatter(y=aucs))\n"
   ]
  },
  {
   "cell_type": "code",
   "execution_count": 23,
   "metadata": {},
   "outputs": [
    {
     "data": {
      "text/plain": [
       "'../temp_data/reddit/unchunked_limitted_data_40_capped/'"
      ]
     },
     "execution_count": 23,
     "metadata": {},
     "output_type": "execute_result"
    }
   ],
   "source": [
    "TEMP_DATA"
   ]
  },
  {
   "cell_type": "code",
   "execution_count": 24,
   "metadata": {
    "collapsed": true
   },
   "outputs": [],
   "source": [
    "with open(TEMP_DATA + 'model.p', 'wb') as f:\n",
    "    pickle.dump((clf, transformer, scaler, secondary_scaler, aucs ), f)"
   ]
  },
  {
   "cell_type": "code",
   "execution_count": 25,
   "metadata": {
    "collapsed": true
   },
   "outputs": [],
   "source": [
    "with open(TEMP_DATA + 'experiment_data.p', 'wb') as f:\n",
    "    pickle.dump((\n",
    "        author_to_doc_idx, \n",
    "        author_to_doc_idx_test, \n",
    "        author_subreddit, \n",
    "        author_subreddit_test, \n",
    "        x_shape, \n",
    "        x_shape_test,\n",
    "        X_idxs_train,\n",
    "        Y_train,\n",
    "        X_idxs_test,\n",
    "        Y_test\n",
    "    ), f)"
   ]
  },
  {
   "cell_type": "code",
   "execution_count": null,
   "metadata": {
    "collapsed": true
   },
   "outputs": [],
   "source": [
    "x_diff = secondary_scaler.transform(np.abs(XX_test[X_idxs_test[:, 0]] - XX_test[X_idxs_test[:, 1]]))\n",
    "x_diff[np.isnan(x_diff)]=0\n",
    "\n",
    "probs = clf.predict_proba(x_diff)[:, 1]\n",
    "fpr, tpr, thresh = roc_curve(Y_test, probs)\n",
    "roc_auc = auc(fpr, tpr)\n",
    "print('AUC:', roc_auc)"
   ]
  },
  {
   "cell_type": "code",
   "execution_count": null,
   "metadata": {
    "collapsed": true
   },
   "outputs": [],
   "source": [
    "aucs[-1]"
   ]
  }
 ],
 "metadata": {
  "kernelspec": {
   "display_name": "Python 3",
   "language": "python",
   "name": "python3"
  },
  "language_info": {
   "codemirror_mode": {
    "name": "ipython",
    "version": 3
   },
   "file_extension": ".py",
   "mimetype": "text/x-python",
   "name": "python",
   "nbconvert_exporter": "python",
   "pygments_lexer": "ipython3",
   "version": "3.6.9"
  }
 },
 "nbformat": 4,
 "nbformat_minor": 2
}
