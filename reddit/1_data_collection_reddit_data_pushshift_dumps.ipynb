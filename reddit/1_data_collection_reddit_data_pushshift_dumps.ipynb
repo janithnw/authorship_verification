{
 "cells": [
  {
   "cell_type": "code",
   "execution_count": 1,
   "metadata": {
    "collapsed": true
   },
   "outputs": [],
   "source": [
    "%load_ext autoreload\n",
    "%autoreload 2\n",
    "%matplotlib notebook\n",
    "import sys\n",
    "sys.path.append(\"../\")"
   ]
  },
  {
   "cell_type": "code",
   "execution_count": 2,
   "metadata": {
    "collapsed": true
   },
   "outputs": [],
   "source": [
    "import os\n",
    "import zstandard as zstd\n",
    "import json\n",
    "from collections import defaultdict\n",
    "from tqdm.auto import tqdm\n",
    "import pickle\n",
    "import matplotlib.pyplot as plt\n",
    "import numpy as np\n",
    "from config import known_bots"
   ]
  },
  {
   "cell_type": "code",
   "execution_count": 4,
   "metadata": {
    "collapsed": true
   },
   "outputs": [],
   "source": [
    "DATA_BASE_DIR = '../data/reddit/'\n",
    "DATA_DUMPS_DIR = '../data/reddit/dumps/'\n",
    "TEMP_DATA = '../temp_data/reddit/'"
   ]
  },
  {
   "cell_type": "code",
   "execution_count": 7,
   "metadata": {
    "collapsed": true
   },
   "outputs": [],
   "source": [
    "def extract_user_comment_counts(file_path, known_bots, previous_selected_users):\n",
    "    user_comments = defaultdict(int)\n",
    "    file_sz = os.path.getsize(file_path)\n",
    "    batch_sz = 6553600\n",
    "    with open(file_path, 'rb') as fh:\n",
    "        dctx = zstd.ZstdDecompressor()\n",
    "        with dctx.stream_reader(fh) as reader, tqdm(total=file_sz) as pbar:\n",
    "            previous_line = \"\"\n",
    "            while True:\n",
    "                chunk = reader.read(batch_sz)\n",
    "                pbar.update(batch_sz)\n",
    "                file_sz += batch_sz\n",
    "                if not chunk:\n",
    "                    break\n",
    "\n",
    "                string_data = chunk.decode('utf-8')\n",
    "                lines = string_data.split(\"\\n\")\n",
    "                for i, line in enumerate(lines[:-1]):\n",
    "                    if i == 0:\n",
    "                        line = previous_line + line\n",
    "                    d = json.loads(line)\n",
    "                    if d['author'].lower() not in known_bots and d['author'] not in previous_selected_users:\n",
    "                        user_comments[d['author']] += 1\n",
    "                previous_line = lines[-1]\n",
    "    return user_comments\n",
    "\n",
    "def extract_user_subreddit_comment_counts(file_path, selected_users):\n",
    "    user_subreddit_comment_counts = defaultdict(lambda: defaultdict(int))\n",
    "    file_sz = os.path.getsize(file_path)\n",
    "    batch_sz = 6553600\n",
    "    with open(file_path, 'rb') as fh:\n",
    "        dctx = zstd.ZstdDecompressor()\n",
    "        with dctx.stream_reader(fh) as reader, tqdm(total=file_sz) as pbar:\n",
    "            previous_line = \"\"\n",
    "            while True:\n",
    "                chunk = reader.read(batch_sz)\n",
    "                pbar.update(batch_sz)\n",
    "                if not chunk:\n",
    "                    break\n",
    "\n",
    "                string_data = chunk.decode('utf-8')\n",
    "                lines = string_data.split(\"\\n\")\n",
    "                for i, line in enumerate(lines[:-1]):\n",
    "                    if i == 0:\n",
    "                        line = previous_line + line\n",
    "                    d = json.loads(line)\n",
    "                    if d['author'] in selected_users:\n",
    "                        user_subreddit_comment_counts[d['author']][d['subreddit']] += 1\n",
    "                previous_line = lines[-1]\n",
    "    return user_subreddit_comment_counts\n",
    "\n",
    "def write_user_comments_to_files(file_path, selected_user_subreddit_comment_counts):\n",
    "\n",
    "    \n",
    "    file_pointers = {u: open(DATA_BASE_DIR + u + '.jsonl', 'w') for u in selected_user_subreddit_comment_counts.keys()}\n",
    "    file_sz = os.path.getsize(file_path)\n",
    "    batch_sz = 6553600\n",
    "    with open(file_path, 'rb') as fh:\n",
    "        dctx = zstd.ZstdDecompressor()\n",
    "        with dctx.stream_reader(fh) as reader, tqdm(total=file_sz) as pbar:\n",
    "            previous_line = \"\"\n",
    "            while True:\n",
    "                chunk = reader.read(batch_sz)\n",
    "                pbar.update(batch_sz)\n",
    "                if not chunk:\n",
    "                    break\n",
    "\n",
    "                string_data = chunk.decode('utf-8')\n",
    "                lines = string_data.split(\"\\n\")\n",
    "                for i, line in enumerate(lines[:-1]):\n",
    "                    if i == 0:\n",
    "                        line = previous_line + line\n",
    "                    d = json.loads(line)\n",
    "                    if d['author'] in selected_user_subreddit_comment_counts \\\n",
    "                        and d['subreddit'] in selected_user_subreddit_comment_counts[d['author']]:\n",
    "                        fp = file_pointers[d['author']]\n",
    "                        fp.write(line)\n",
    "                        fp.write('\\n')\n",
    "                previous_line = lines[-1]\n",
    "    for fp in file_pointers.values():\n",
    "        fp.close()"
   ]
  },
  {
   "cell_type": "code",
   "execution_count": null,
   "metadata": {
    "collapsed": true
   },
   "outputs": [],
   "source": []
  },
  {
   "cell_type": "code",
   "execution_count": 8,
   "metadata": {},
   "outputs": [
    {
     "data": {
      "application/vnd.jupyter.widget-view+json": {
       "model_id": "6f5d1172c5514d6282dbe0107ae905fb"
      }
     },
     "metadata": {},
     "output_type": "display_data"
    },
    {
     "name": "stdout",
     "output_type": "stream",
     "text": [
      "\n"
     ]
    },
    {
     "data": {
      "application/vnd.jupyter.widget-view+json": {
       "model_id": "f45b5a1d0a1e4e3e972a5305a8b68fde"
      }
     },
     "metadata": {},
     "output_type": "display_data"
    },
    {
     "name": "stdout",
     "output_type": "stream",
     "text": [
      "\n"
     ]
    },
    {
     "data": {
      "application/vnd.jupyter.widget-view+json": {
       "model_id": "21c81f00fa9a4ba4b9e242165b66a5ce"
      }
     },
     "metadata": {},
     "output_type": "display_data"
    },
    {
     "name": "stdout",
     "output_type": "stream",
     "text": [
      "\n"
     ]
    }
   ],
   "source": [
    "# data_collection_metadata = {}\n",
    "\n",
    "\n",
    "# file_path = DATA_DUMPS_DIR + 'RC_2019-06.zst'\n",
    "# user_comments = extract_user_comment_counts(file_path, known_bots, [])\n",
    "# user_comment_sizes = np.array(list(user_comments.values()))\n",
    "# usernames = np.array(list(user_comments.keys()))\n",
    "# selected_users = set(usernames[np.logical_and(user_comment_sizes > 200, user_comment_sizes < 5000)])\n",
    "\n",
    "user_subreddit_comment_counts = extract_user_subreddit_comment_counts(file_path, selected_users)\n",
    "\n",
    "selected_user_subreddit_comment_counts = {}\n",
    "min_sr_comment_count = 20\n",
    "for user, user_subreddits in tqdm(user_subreddit_comment_counts.items()):\n",
    "    d = {sr:c for sr, c in user_subreddits.items() if c > min_sr_comment_count}\n",
    "    if len(d) > 2:\n",
    "        selected_user_subreddit_comment_counts[user] = d\n",
    "        \n",
    "write_user_comments_to_files(file_path, selected_user_subreddit_comment_counts)\n",
    "\n",
    "data_collection_metadata[file_path] = (user_comments, user_comment_sizes, selected_user_subreddit_comment_counts)"
   ]
  },
  {
   "cell_type": "code",
   "execution_count": 9,
   "metadata": {
    "collapsed": true
   },
   "outputs": [],
   "source": [
    "with open(TEMP_DATA + 'reddit_data_collection_metadata.p', 'wb') as f:\n",
    "    pickle.dump(data_collection_metadata, f)"
   ]
  },
  {
   "cell_type": "code",
   "execution_count": 10,
   "metadata": {
    "collapsed": true
   },
   "outputs": [],
   "source": [
    "previous_selected_users = set(list(selected_user_subreddit_comment_counts.keys()))"
   ]
  },
  {
   "cell_type": "code",
   "execution_count": null,
   "metadata": {
    "scrolled": true
   },
   "outputs": [
    {
     "data": {
      "application/vnd.jupyter.widget-view+json": {
       "model_id": "618bc813402445708b5572e94d8471de"
      }
     },
     "metadata": {},
     "output_type": "display_data"
    },
    {
     "name": "stdout",
     "output_type": "stream",
     "text": [
      "\n"
     ]
    },
    {
     "data": {
      "application/vnd.jupyter.widget-view+json": {
       "model_id": "1f8f99890f9d4016be5692ad94d68320"
      }
     },
     "metadata": {},
     "output_type": "display_data"
    },
    {
     "name": "stdout",
     "output_type": "stream",
     "text": [
      "\n"
     ]
    },
    {
     "data": {
      "application/vnd.jupyter.widget-view+json": {
       "model_id": "54a75be4839a46ca8bae2ed5cad8be17"
      }
     },
     "metadata": {},
     "output_type": "display_data"
    },
    {
     "name": "stdout",
     "output_type": "stream",
     "text": [
      "\n"
     ]
    },
    {
     "data": {
      "application/vnd.jupyter.widget-view+json": {
       "model_id": "b1c34cc31e924cd1b3dff71cd49404e1"
      }
     },
     "metadata": {},
     "output_type": "display_data"
    },
    {
     "name": "stdout",
     "output_type": "stream",
     "text": [
      "\n"
     ]
    }
   ],
   "source": [
    "\n",
    "file_path = DATA_DUMPS_DIR + 'RC_2019-07.zst'\n",
    "user_comments = extract_user_comment_counts(file_path, known_bots, previous_selected_users)\n",
    "user_comment_sizes = np.array(list(user_comments.values()))\n",
    "usernames = np.array(list(user_comments.keys()))\n",
    "selected_users = set(usernames[np.logical_and(user_comment_sizes > 200, user_comment_sizes < 5000)])\n",
    "\n",
    "user_subreddit_comment_counts = extract_user_subreddit_comment_counts(file_path, selected_users)\n",
    "\n",
    "selected_user_subreddit_comment_counts = {}\n",
    "min_sr_comment_count = 20\n",
    "for user, user_subreddits in tqdm(user_subreddit_comment_counts.items()):\n",
    "    d = {sr:c for sr, c in user_subreddits.items() if c > min_sr_comment_count}\n",
    "    if len(d) > 2:\n",
    "        selected_user_subreddit_comment_counts[user] = d\n",
    "        \n",
    "write_user_comments_to_files(file_path, selected_user_subreddit_comment_counts)\n",
    "\n",
    "data_collection_metadata[file_path] = (user_comments, user_comment_sizes, selected_user_subreddit_comment_counts)"
   ]
  },
  {
   "cell_type": "code",
   "execution_count": 14,
   "metadata": {
    "collapsed": true
   },
   "outputs": [],
   "source": [
    "with open(TEMP_DATA + 'reddit_data_collection_metadata.p', 'wb') as f:\n",
    "    pickle.dump(data_collection_metadata, f)"
   ]
  },
  {
   "cell_type": "code",
   "execution_count": null,
   "metadata": {},
   "outputs": [
    {
     "data": {
      "application/vnd.jupyter.widget-view+json": {
       "model_id": "c66f74841c7a46809e502eb794432367"
      }
     },
     "metadata": {},
     "output_type": "display_data"
    },
    {
     "name": "stdout",
     "output_type": "stream",
     "text": [
      "\n"
     ]
    },
    {
     "data": {
      "application/vnd.jupyter.widget-view+json": {
       "model_id": "c9e5078627064725a3effc11cc8c47f4"
      }
     },
     "metadata": {},
     "output_type": "display_data"
    },
    {
     "name": "stdout",
     "output_type": "stream",
     "text": [
      "\n"
     ]
    },
    {
     "data": {
      "application/vnd.jupyter.widget-view+json": {
       "model_id": "384a338e535e4312bc6f8b2785ef4d3e"
      }
     },
     "metadata": {},
     "output_type": "display_data"
    },
    {
     "name": "stdout",
     "output_type": "stream",
     "text": [
      "\n"
     ]
    },
    {
     "data": {
      "application/vnd.jupyter.widget-view+json": {
       "model_id": "71cc74e5ded2405cbaf7423aceddba1d"
      }
     },
     "metadata": {},
     "output_type": "display_data"
    }
   ],
   "source": [
    "\n",
    "file_path = DATA_DUMPS_DIR + 'RC_2019-08.zst'\n",
    "user_comments = extract_user_comment_counts(file_path, known_bots, previous_selected_users)\n",
    "user_comment_sizes = np.array(list(user_comments.values()))\n",
    "usernames = np.array(list(user_comments.keys()))\n",
    "selected_users = set(usernames[np.logical_and(user_comment_sizes > 200, user_comment_sizes < 5000)])\n",
    "\n",
    "user_subreddit_comment_counts = extract_user_subreddit_comment_counts(file_path, selected_users)\n",
    "\n",
    "selected_user_subreddit_comment_counts = {}\n",
    "min_sr_comment_count = 20\n",
    "for user, user_subreddits in tqdm(user_subreddit_comment_counts.items()):\n",
    "    d = {sr:c for sr, c in user_subreddits.items() if c > min_sr_comment_count}\n",
    "    if len(d) > 2:\n",
    "        selected_user_subreddit_comment_counts[user] = d\n",
    "        \n",
    "write_user_comments_to_files(file_path, selected_user_subreddit_comment_counts)\n",
    "\n",
    "data_collection_metadata[file_path] = (user_comments, user_comment_sizes, selected_user_subreddit_comment_counts)"
   ]
  },
  {
   "cell_type": "code",
   "execution_count": 17,
   "metadata": {
    "collapsed": true
   },
   "outputs": [],
   "source": [
    "previous_selected_users = set(list(previous_selected_users) + list(selected_user_subreddit_comment_counts.keys()))"
   ]
  },
  {
   "cell_type": "code",
   "execution_count": 18,
   "metadata": {},
   "outputs": [
    {
     "data": {
      "application/vnd.jupyter.widget-view+json": {
       "model_id": "6dd3837c41dc426cb390e6e37c717b48"
      }
     },
     "metadata": {},
     "output_type": "display_data"
    },
    {
     "name": "stdout",
     "output_type": "stream",
     "text": [
      "\n"
     ]
    },
    {
     "data": {
      "application/vnd.jupyter.widget-view+json": {
       "model_id": "1061163195594376832987ff9ae5c590"
      }
     },
     "metadata": {},
     "output_type": "display_data"
    },
    {
     "name": "stdout",
     "output_type": "stream",
     "text": [
      "\n"
     ]
    },
    {
     "data": {
      "application/vnd.jupyter.widget-view+json": {
       "model_id": "0a09e45d93e84af5ae94238e312a48ac"
      }
     },
     "metadata": {},
     "output_type": "display_data"
    },
    {
     "name": "stdout",
     "output_type": "stream",
     "text": [
      "\n"
     ]
    },
    {
     "data": {
      "application/vnd.jupyter.widget-view+json": {
       "model_id": "b81e3d1bb262411582b8ccb14a319b0e"
      }
     },
     "metadata": {},
     "output_type": "display_data"
    },
    {
     "name": "stdout",
     "output_type": "stream",
     "text": [
      "\n"
     ]
    }
   ],
   "source": [
    "\n",
    "file_path = DATA_DUMPS_DIR + 'RC_2019-09.zst'\n",
    "user_comments = extract_user_comment_counts(file_path, known_bots, previous_selected_users)\n",
    "user_comment_sizes = np.array(list(user_comments.values()))\n",
    "usernames = np.array(list(user_comments.keys()))\n",
    "selected_users = set(usernames[np.logical_and(user_comment_sizes > 200, user_comment_sizes < 5000)])\n",
    "\n",
    "user_subreddit_comment_counts = extract_user_subreddit_comment_counts(file_path, selected_users)\n",
    "\n",
    "selected_user_subreddit_comment_counts = {}\n",
    "min_sr_comment_count = 20\n",
    "for user, user_subreddits in tqdm(user_subreddit_comment_counts.items()):\n",
    "    d = {sr:c for sr, c in user_subreddits.items() if c > min_sr_comment_count}\n",
    "    if len(d) > 2:\n",
    "        selected_user_subreddit_comment_counts[user] = d\n",
    "        \n",
    "write_user_comments_to_files(file_path, selected_user_subreddit_comment_counts)\n",
    "\n",
    "data_collection_metadata[file_path] = (user_comments, user_comment_sizes, selected_user_subreddit_comment_counts)"
   ]
  },
  {
   "cell_type": "code",
   "execution_count": 19,
   "metadata": {},
   "outputs": [],
   "source": [
    "with open(TEMP_DATA + 'reddit_data_collection_metadata.p', 'wb') as f:\n",
    "    pickle.dump(data_collection_metadata, f)"
   ]
  },
  {
   "cell_type": "code",
   "execution_count": 20,
   "metadata": {},
   "outputs": [],
   "source": [
    "previous_selected_users = set(list(previous_selected_users) + list(selected_user_subreddit_comment_counts.keys()))"
   ]
  },
  {
   "cell_type": "code",
   "execution_count": 21,
   "metadata": {},
   "outputs": [
    {
     "data": {
      "application/vnd.jupyter.widget-view+json": {
       "model_id": "c887b6b5cdea415198af651dab976f5a"
      }
     },
     "metadata": {},
     "output_type": "display_data"
    },
    {
     "name": "stdout",
     "output_type": "stream",
     "text": [
      "\n"
     ]
    },
    {
     "data": {
      "application/vnd.jupyter.widget-view+json": {
       "model_id": "230c03d36389429fa8abae6307cdebc4"
      }
     },
     "metadata": {},
     "output_type": "display_data"
    },
    {
     "name": "stdout",
     "output_type": "stream",
     "text": [
      "\n"
     ]
    },
    {
     "data": {
      "application/vnd.jupyter.widget-view+json": {
       "model_id": "d3daef6215754768bcf629cbe11ff4dc"
      }
     },
     "metadata": {},
     "output_type": "display_data"
    },
    {
     "name": "stdout",
     "output_type": "stream",
     "text": [
      "\n"
     ]
    },
    {
     "data": {
      "application/vnd.jupyter.widget-view+json": {
       "model_id": "175d18ce27214090ba4a575c6b2d828d"
      }
     },
     "metadata": {},
     "output_type": "display_data"
    },
    {
     "name": "stdout",
     "output_type": "stream",
     "text": [
      "\n"
     ]
    }
   ],
   "source": [
    "\n",
    "file_path = DATA_DUMPS_DIR + 'RC_2019-10.zst'\n",
    "user_comments = extract_user_comment_counts(file_path, known_bots, previous_selected_users)\n",
    "user_comment_sizes = np.array(list(user_comments.values()))\n",
    "usernames = np.array(list(user_comments.keys()))\n",
    "selected_users = set(usernames[np.logical_and(user_comment_sizes > 200, user_comment_sizes < 5000)])\n",
    "\n",
    "user_subreddit_comment_counts = extract_user_subreddit_comment_counts(file_path, selected_users)\n",
    "\n",
    "selected_user_subreddit_comment_counts = {}\n",
    "min_sr_comment_count = 20\n",
    "for user, user_subreddits in tqdm(user_subreddit_comment_counts.items()):\n",
    "    d = {sr:c for sr, c in user_subreddits.items() if c > min_sr_comment_count}\n",
    "    if len(d) > 2:\n",
    "        selected_user_subreddit_comment_counts[user] = d\n",
    "        \n",
    "write_user_comments_to_files(file_path, selected_user_subreddit_comment_counts)\n",
    "\n",
    "data_collection_metadata[file_path] = (user_comments, user_comment_sizes, selected_user_subreddit_comment_counts)"
   ]
  },
  {
   "cell_type": "code",
   "execution_count": 22,
   "metadata": {
    "collapsed": true
   },
   "outputs": [],
   "source": [
    "previous_selected_users = set(list(previous_selected_users) + list(selected_user_subreddit_comment_counts.keys()))"
   ]
  },
  {
   "cell_type": "code",
   "execution_count": 23,
   "metadata": {},
   "outputs": [
    {
     "data": {
      "application/vnd.jupyter.widget-view+json": {
       "model_id": "7cdb1997b43c464081a1c6472e49144f"
      }
     },
     "metadata": {},
     "output_type": "display_data"
    },
    {
     "name": "stdout",
     "output_type": "stream",
     "text": [
      "\n"
     ]
    },
    {
     "data": {
      "application/vnd.jupyter.widget-view+json": {
       "model_id": "73e76de2592f45899f19c5cfe8fbfd65"
      }
     },
     "metadata": {},
     "output_type": "display_data"
    },
    {
     "name": "stdout",
     "output_type": "stream",
     "text": [
      "\n"
     ]
    },
    {
     "data": {
      "application/vnd.jupyter.widget-view+json": {
       "model_id": "a3f3ed4b34e14984bde275c8753a5e8e"
      }
     },
     "metadata": {},
     "output_type": "display_data"
    },
    {
     "name": "stdout",
     "output_type": "stream",
     "text": [
      "\n"
     ]
    },
    {
     "data": {
      "application/vnd.jupyter.widget-view+json": {
       "model_id": "ec5218e1de784405acf73b75970e7a80"
      }
     },
     "metadata": {},
     "output_type": "display_data"
    },
    {
     "name": "stdout",
     "output_type": "stream",
     "text": [
      "\n"
     ]
    }
   ],
   "source": [
    "\n",
    "file_path = DATA_DUMPS_DIR + 'RC_2019-11.zst'\n",
    "user_comments = extract_user_comment_counts(file_path, known_bots, previous_selected_users)\n",
    "user_comment_sizes = np.array(list(user_comments.values()))\n",
    "usernames = np.array(list(user_comments.keys()))\n",
    "selected_users = set(usernames[np.logical_and(user_comment_sizes > 200, user_comment_sizes < 5000)])\n",
    "\n",
    "user_subreddit_comment_counts = extract_user_subreddit_comment_counts(file_path, selected_users)\n",
    "\n",
    "selected_user_subreddit_comment_counts = {}\n",
    "min_sr_comment_count = 20\n",
    "for user, user_subreddits in tqdm(user_subreddit_comment_counts.items()):\n",
    "    d = {sr:c for sr, c in user_subreddits.items() if c > min_sr_comment_count}\n",
    "    if len(d) > 2:\n",
    "        selected_user_subreddit_comment_counts[user] = d\n",
    "        \n",
    "write_user_comments_to_files(file_path, selected_user_subreddit_comment_counts)\n",
    "\n",
    "data_collection_metadata[file_path] = (user_comments, user_comment_sizes, selected_user_subreddit_comment_counts)"
   ]
  },
  {
   "cell_type": "code",
   "execution_count": 26,
   "metadata": {
    "collapsed": true
   },
   "outputs": [],
   "source": [
    "previous_selected_users = set(list(previous_selected_users) + list(selected_user_subreddit_comment_counts.keys()))"
   ]
  },
  {
   "cell_type": "code",
   "execution_count": 28,
   "metadata": {},
   "outputs": [
    {
     "data": {
      "application/vnd.jupyter.widget-view+json": {
       "model_id": "1ca68162ec204088b625de8068360a14"
      }
     },
     "metadata": {},
     "output_type": "display_data"
    },
    {
     "name": "stdout",
     "output_type": "stream",
     "text": [
      "\n"
     ]
    },
    {
     "data": {
      "application/vnd.jupyter.widget-view+json": {
       "model_id": "8bebc5f51b84406a9b6e1d352f5c1ff8"
      }
     },
     "metadata": {},
     "output_type": "display_data"
    },
    {
     "name": "stdout",
     "output_type": "stream",
     "text": [
      "\n"
     ]
    },
    {
     "data": {
      "application/vnd.jupyter.widget-view+json": {
       "model_id": "b5d18df00d68409794fa9f06fca18321"
      }
     },
     "metadata": {},
     "output_type": "display_data"
    },
    {
     "name": "stdout",
     "output_type": "stream",
     "text": [
      "\n"
     ]
    },
    {
     "data": {
      "application/vnd.jupyter.widget-view+json": {
       "model_id": "3f52103b03564a6ea1342e7653bd6784"
      }
     },
     "metadata": {},
     "output_type": "display_data"
    },
    {
     "name": "stdout",
     "output_type": "stream",
     "text": [
      "\n"
     ]
    }
   ],
   "source": [
    "\n",
    "file_path = DATA_DUMPS_DIR + 'RC_2019-12.zst'\n",
    "user_comments = extract_user_comment_counts(file_path, known_bots, previous_selected_users)\n",
    "user_comment_sizes = np.array(list(user_comments.values()))\n",
    "usernames = np.array(list(user_comments.keys()))\n",
    "selected_users = set(usernames[np.logical_and(user_comment_sizes > 200, user_comment_sizes < 5000)])\n",
    "\n",
    "user_subreddit_comment_counts = extract_user_subreddit_comment_counts(file_path, selected_users)\n",
    "\n",
    "selected_user_subreddit_comment_counts = {}\n",
    "min_sr_comment_count = 20\n",
    "for user, user_subreddits in tqdm(user_subreddit_comment_counts.items()):\n",
    "    d = {sr:c for sr, c in user_subreddits.items() if c > min_sr_comment_count}\n",
    "    if len(d) > 2:\n",
    "        selected_user_subreddit_comment_counts[user] = d\n",
    "        \n",
    "write_user_comments_to_files(file_path, selected_user_subreddit_comment_counts)\n",
    "\n",
    "data_collection_metadata[file_path] = (user_comments, user_comment_sizes, selected_user_subreddit_comment_counts)"
   ]
  },
  {
   "cell_type": "code",
   "execution_count": 29,
   "metadata": {
    "collapsed": true
   },
   "outputs": [],
   "source": [
    "with open(TEMP_DATA + 'reddit_data_collection_metadata.p', 'wb') as f:\n",
    "    pickle.dump(data_collection_metadata, f)"
   ]
  },
  {
   "cell_type": "code",
   "execution_count": 30,
   "metadata": {},
   "outputs": [
    {
     "data": {
      "text/plain": [
       "(12939, 127964)"
      ]
     },
     "execution_count": 30,
     "metadata": {},
     "output_type": "execute_result"
    }
   ],
   "source": [
    "len(selected_user_subreddit_comment_counts), len(previous_selected_users)"
   ]
  }
 ],
 "metadata": {
  "kernelspec": {
   "display_name": "Python 3",
   "language": "python",
   "name": "python3"
  },
  "language_info": {
   "codemirror_mode": {
    "name": "ipython",
    "version": 3
   },
   "file_extension": ".py",
   "mimetype": "text/x-python",
   "name": "python",
   "nbconvert_exporter": "python",
   "pygments_lexer": "ipython3",
   "version": "3.6.9"
  }
 },
 "nbformat": 4,
 "nbformat_minor": 2
}
