{
 "cells": [
  {
   "cell_type": "code",
   "execution_count": 26,
   "metadata": {
    "scrolled": true
   },
   "outputs": [
    {
     "name": "stdout",
     "output_type": "stream",
     "text": [
      "Defaulting to user installation because normal site-packages is not writeable\n",
      "Collecting openai\n",
      "  Downloading openai-0.25.0.tar.gz (44 kB)\n",
      "\u001b[K     |████████████████████████████████| 44 kB 807 kB/s  eta 0:00:01\n",
      "\u001b[?25h  Installing build dependencies ... \u001b[?25ldone\n",
      "\u001b[?25h  Getting requirements to build wheel ... \u001b[?25ldone\n",
      "\u001b[?25h    Preparing wheel metadata ... \u001b[?25ldone\n",
      "\u001b[?25hRequirement already satisfied: typing-extensions in /home/jnw301/.local/lib/python3.8/site-packages (from openai) (3.7.4.3)\n",
      "Collecting pandas-stubs>=1.1.0.11\n",
      "  Downloading pandas_stubs-1.5.2.221124-py3-none-any.whl (146 kB)\n",
      "\u001b[K     |████████████████████████████████| 146 kB 79.1 MB/s eta 0:00:01\n",
      "\u001b[?25hCollecting openpyxl>=3.0.7\n",
      "  Downloading openpyxl-3.0.10-py2.py3-none-any.whl (242 kB)\n",
      "\u001b[K     |████████████████████████████████| 242 kB 99.5 MB/s eta 0:00:01\n",
      "\u001b[?25hCollecting pandas>=1.2.3\n",
      "  Downloading pandas-1.5.2-cp38-cp38-manylinux_2_17_x86_64.manylinux2014_x86_64.whl (12.2 MB)\n",
      "\u001b[K     |████████████████████████████████| 12.2 MB 91.8 MB/s eta 0:00:01\n",
      "\u001b[?25hRequirement already satisfied: tqdm in /home/jnw301/.local/lib/python3.8/site-packages (from openai) (4.57.0)\n",
      "Requirement already satisfied: requests>=2.20 in /share/apps/python/3.8.6/intel/lib/python3.8/site-packages (from openai) (2.24.0)\n",
      "Requirement already satisfied: numpy in /share/apps/python/3.8.6/intel/lib/python3.8/site-packages/numpy-1.19.2-py3.8-linux-x86_64.egg (from openai) (1.19.2)\n",
      "Collecting types-pytz>=2022.1.1\n",
      "  Downloading types_pytz-2022.6.0.1-py3-none-any.whl (4.7 kB)\n",
      "Collecting et-xmlfile\n",
      "  Downloading et_xmlfile-1.1.0-py3-none-any.whl (4.7 kB)\n",
      "Requirement already satisfied: pytz>=2020.1 in /share/apps/python/3.8.6/intel/lib/python3.8/site-packages (from pandas>=1.2.3->openai) (2020.1)\n",
      "Requirement already satisfied: python-dateutil>=2.8.1 in /share/apps/python/3.8.6/intel/lib/python3.8/site-packages (from pandas>=1.2.3->openai) (2.8.1)\n",
      "Requirement already satisfied: certifi>=2017.4.17 in /share/apps/python/3.8.6/intel/lib/python3.8/site-packages (from requests>=2.20->openai) (2020.6.20)\n",
      "Requirement already satisfied: idna<3,>=2.5 in /share/apps/python/3.8.6/intel/lib/python3.8/site-packages (from requests>=2.20->openai) (2.10)\n",
      "Requirement already satisfied: chardet<4,>=3.0.2 in /share/apps/python/3.8.6/intel/lib/python3.8/site-packages (from requests>=2.20->openai) (3.0.4)\n",
      "Requirement already satisfied: urllib3!=1.25.0,!=1.25.1,<1.26,>=1.21.1 in /share/apps/python/3.8.6/intel/lib/python3.8/site-packages (from requests>=2.20->openai) (1.25.10)\n",
      "Requirement already satisfied: six>=1.5 in /share/apps/python/3.8.6/intel/lib/python3.8/site-packages (from python-dateutil>=2.8.1->pandas>=1.2.3->openai) (1.15.0)\n",
      "Building wheels for collected packages: openai\n",
      "  Building wheel for openai (PEP 517) ... \u001b[?25ldone\n",
      "\u001b[?25h  Created wheel for openai: filename=openai-0.25.0-py3-none-any.whl size=55859 sha256=a1f8e724d89e5366da5dab67a71b0d6d4168aaee51b47f14b2ba09e1238fcb63\n",
      "  Stored in directory: /home/jnw301/.cache/pip/wheels/4b/92/33/6f57c7aae0b16875267999a50570e81f15eecec577ebe05a2e\n",
      "Successfully built openai\n",
      "Installing collected packages: types-pytz, pandas-stubs, et-xmlfile, openpyxl, pandas, openai\n",
      "\u001b[31mERROR: After October 2020 you may experience errors when installing or updating packages. This is because pip will change the way that it resolves dependency conflicts.\n",
      "\n",
      "We recommend you use --use-feature=2020-resolver to test your packages with the new resolver before it becomes the default.\n",
      "\n",
      "pandas 1.5.2 requires numpy>=1.20.3; python_version < \"3.10\", but you'll have numpy 1.19.2 which is incompatible.\u001b[0m\n",
      "Successfully installed et-xmlfile-1.1.0 openai-0.25.0 openpyxl-3.0.10 pandas-1.5.2 pandas-stubs-1.5.2.221124 types-pytz-2022.6.0.1\n",
      "\u001b[33mWARNING: You are using pip version 20.2.3; however, version 22.3.1 is available.\n",
      "You should consider upgrading via the '/share/apps/python/3.8.6/intel/bin/python -m pip install --upgrade pip' command.\u001b[0m\n"
     ]
    }
   ],
   "source": [
    "!pip install openai"
   ]
  },
  {
   "cell_type": "code",
   "execution_count": 36,
   "metadata": {},
   "outputs": [],
   "source": [
    "import os\n",
    "import sys\n",
    "sys.path.append(\"../\")\n",
    "\n",
    "import pickle\n",
    "import json\n",
    "import glob\n",
    "from tqdm.auto import trange, tqdm\n",
    "import openai\n",
    "from features import merge_entries, prepare_entry\n",
    "import nltk\n",
    "from utills import chunker, get_num_chunks\n",
    "import numpy as np\n",
    "from nltk.tokenize import sent_tokenize"
   ]
  },
  {
   "cell_type": "code",
   "execution_count": 7,
   "metadata": {},
   "outputs": [],
   "source": [
    "PREPROCESSED_DATA_PATH = '/scratch/jnw301/authorship_verification/temp_data/pan/'"
   ]
  },
  {
   "cell_type": "code",
   "execution_count": 20,
   "metadata": {},
   "outputs": [],
   "source": [
    "def merge_and_get_text(entries):\n",
    "    return ' '.join([e['preprocessed'] for e in entries])"
   ]
  },
  {
   "cell_type": "code",
   "execution_count": 72,
   "metadata": {},
   "outputs": [
    {
     "data": {
      "application/vnd.jupyter.widget-view+json": {
       "model_id": "dcbef271f9ce4238943545f738541ed0",
       "version_major": 2,
       "version_minor": 0
      },
      "text/plain": [
       "  0%|          | 0/5 [00:00<?, ?it/s]"
      ]
     },
     "metadata": {},
     "output_type": "display_data"
    }
   ],
   "source": [
    "\n",
    "path = PREPROCESSED_DATA_PATH + 'preprocessed_test.jsonl'\n",
    "max_length = 1024\n",
    "sent_chunk_sz = 50\n",
    "max_fanfics = 10\n",
    "prompts = []\n",
    "i = 0\n",
    "with open(path, 'r') as f:\n",
    "    for l in tqdm(f, total=max_fanfics//2):\n",
    "        d = json.loads(l)\n",
    "        chunk = list(chunker(sent_tokenize(merge_and_get_text(d['pair'][0])), sent_chunk_sz))[0]\n",
    "        text = ' '.join(chunk)\n",
    "        prompt = f\"Complete the rest of this fanfiction:\\n{text}\\n\\n\"\n",
    "        prompts.append(prompt)\n",
    "        \n",
    "        chunk = list(chunker(sent_tokenize(merge_and_get_text(d['pair'][1])), sent_chunk_sz))[0]\n",
    "        text = ' '.join(chunk)\n",
    "        prompt = f\"Complete the rest of this fanfiction:\\n{text}\\n\\n\"\n",
    "        i += 2\n",
    "        if i > max_fanfics:\n",
    "            break"
   ]
  },
  {
   "cell_type": "code",
   "execution_count": 68,
   "metadata": {},
   "outputs": [],
   "source": [
    "openai.api_key = \"\"\n",
    "response = openai.Completion.create(\n",
    "  model=\"text-davinci-002\",\n",
    "  prompt=prompts[1],\n",
    "  temperature=0.1,\n",
    "  max_tokens=2048,\n",
    "  top_p=1,\n",
    "  frequency_penalty=0.1,\n",
    "  presence_penalty=0\n",
    ")"
   ]
  },
  {
   "cell_type": "code",
   "execution_count": 73,
   "metadata": {},
   "outputs": [
    {
     "name": "stdout",
     "output_type": "stream",
     "text": [
      "Complete the rest of this fanfiction:\n",
      "I suppose one could argue that what happened to me was fair. One might even argue that it wasn\"t enough. Wasn\"t I the one responsible for the death of countless innocents, certainly numbering into the tens of thousands? Yet here I am, walking away from the war with my life intact, though I cannot say the same for my face. I had personally viewed the bodies of viciously beaten and scalped Nazis, courtesy of the very group I had somehow depended on to vindicate me. These slaughtered men were merely foot soldiers, men simply carrying out wartime duties. Bakers, tailors, shopkeepers, blacksmiths. I, on the other hand, was for all intents and purposes, a mercenary, one who had spent years earning my infamous nickname. I was personally responsible for the deaths of innocent men, women and children who had never wronged me in any way. And yet, I\"m alive, by my own volition. Obviously the end was nigh: millions upon millions of Russians were practically at our doorstep, with British and American troops landing all along the shores of our occupied lands. As soon as our forces took out the Russians, in particular, more would appear in their place-the new ones even more vengeful than the last. I had escaped this inevitable aftermath with a flesh wound, as denigrating as it was-the very symbol I had come to represent, and later-of course, in hindsight-to regret. The Führer always rubbed me the wrong way, even though the masses tended to worship his every word. Maybe it was his perpetual sweatiness that seemed to indicate he knew what he said was absurd, and his knowledge that he could be called out at any time. Perhaps it was that stupid little Chaplin moustache, on second thought. I never was one for the comedies, and certainly not one to watching that simpering American fool. Only after Hitler had assumed power, I read his belligerent book, My Struggle, and felt oddly enough at that time that his prison sentence wasn\"t enough. Frankly, the man was insane. Yes, Germany was going through difficult times, what with the humiliating treaty we had to sign at the end of World War I, but really, to blame it on a harmless, albeit small, subset of civilians? They weren\"t even the ones who forced us to sign that treaty. Though I could see the overall flaw in the Führer\"s plans, I am not claiming to be a tenderhearted person. Bridget von Hammersmark, as lovely as she was, simply had to die. Did she honestly believe she could slip those I-talians past me without suspicion? Maybe she could have fooled the majority of the crowd, but to believe that she alone would be the sole German receiving credit for Operation Kino, well-I couldn\"t have that. Her death was her own fault. She should have known better than to challenge me. I saw right through her scheme. And mountain climbing, of all activities? How preposterous! To imagine her mountain climbing still sends me into fits of laughter. I\"m sorry; I\"ve just been rendered incapable of finishing what I was going to say. I still cannot stop laughing about her \"mountain climbing\" adventures. A/N: The action picks up in chapter 3. June 14, 1944 As I hear about the events that played out two nights ago on that fateful night ending the war-an event in which no one in the theater survived-it seems to me that more was happening than even I was aware. Of course, I had been busy eliminating von Hammersmark and capturing the leader of the Basterds, but it seemed as if explosions were not the only occurrences leading to the death of the Führer and the entire upper echelon of Nazi command. There were remnants of nitrate film found behind the screen, the media explained, and the bodies were badly charred. This isn\"t indicative of one or even three explosions, but more of a slow burn. Additionally, the bodies of the Nazis were littered with bullets. Hitler in particular could only be identified by a couple of unique medals he had on his person as well as his lack of a testicle, a rather unfortunate body part he had lost during World War I. This identification was only possible because as he fell, he lodged himself between the theater seats and thus his lower body was better preserved in the subsequent explosion. I wanted to pride myself on being the individual that ended the war. This news about fires, film, and bullets is troubling, leading me to believe that other plans were in action regardless of whether I picked up the phone or let it lay on the cradle. So essentially my selling out my own country, which should have made me a hero to the Allies at least, instead led to deaths that would have occurred anyway and a permanent scar that will certainly lead me to the firing squad or gallows. June 15, 1944 So you may be wondering where I am, how I am able to continue writing. After Raine carved his mark-well, I suppose it\"s actually my mark-into my skin, I was transported to Normandy. There I was brought before a rather large presence of Allied soldiers who had only a week ago stormed onto the beaches and suffered massive casualties as well as inflicting quite a lot. I was pushed before them bedecked in my uniform, which by this time had amassed a rather nasty blackish bloodstain on the collar from my freely bleeding forehead. During the trip there, the two remaining Basterds hadn\"t even allowed me the use of my hands to wipe away the blood as it flowed into my eyes and mouth, causing the former to burn almost continually. I figured I\"d be taken into an awaiting aircraft by Raine\"s superiors, but it seems that the only men here are foot soldiers of low status, with no rescue vehicles in sight.\n",
      "\n",
      "\n"
     ]
    }
   ],
   "source": [
    "print(prompts[3])"
   ]
  },
  {
   "cell_type": "code",
   "execution_count": 69,
   "metadata": {},
   "outputs": [
    {
     "name": "stdout",
     "output_type": "stream",
     "text": [
      "\n",
      "\n",
      "\"So, you spank Amy when she does something bad?\" Leonard asked, still trying to wrap his head around the concept. \"Yes, I spank her,\" Sheldon confirmed. \"It's the only thing that gets her to behave.\" \"But, Sheldon, don't you think that's a little... abusive?\" Leonard asked, his brow furrowed in concern. \"No, I don't think it's abusive,\" Sheldon replied. \"I think it's the only way to get her to behave.\" \"But, Sheldon, she's a grown woman,\" Leonard pointed out. \"She doesn't need you to spank her like a child.\" \"I beg to differ,\" Sheldon said. \"Amy is very childish and immature. She needs someone to help her grow up and learn how to behave.\" \"But, Sheldon, you can't just go around spanking her whenever she does something you don't like,\" Leonard said. \"It's not fair to her.\" \"I'm not doing it because I don't like it,\" Sheldon said. \"I'm doing it because it's the only thing that gets her to behave.\" \"But, Sheldon, you can't just hit her whenever she does something wrong,\" Leonard said. \"It's not right.\" \"I'm not hitting her,\" Sheldon said. \"I'm spanking her.\" \"But, Sheldon, it's the same thing,\" Leonard said. \"You're hitting her.\" \"No, I'm not,\" Sheldon said. \"I'm spanking her.\" \"But, Sheldon, it's not right,\" Leonard said. \"You can't just hit her.\" \"I'm not hitting her,\" Sheldon said. \"I'm spanking her.\"\n"
     ]
    }
   ],
   "source": [
    "print(response.to_dict()['choices'][0]['text'])"
   ]
  },
  {
   "cell_type": "code",
   "execution_count": 70,
   "metadata": {},
   "outputs": [
    {
     "data": {
      "text/plain": [
       "227"
      ]
     },
     "execution_count": 70,
     "metadata": {},
     "output_type": "execute_result"
    }
   ],
   "source": [
    "len(response.to_dict()['choices'][0]['text'].split(' '))"
   ]
  },
  {
   "cell_type": "code",
   "execution_count": 41,
   "metadata": {},
   "outputs": [
    {
     "data": {
      "text/plain": [
       "dict_keys(['id', 'object', 'created', 'model', 'choices', 'usage'])"
      ]
     },
     "execution_count": 41,
     "metadata": {},
     "output_type": "execute_result"
    }
   ],
   "source": [
    "response.keys()"
   ]
  },
  {
   "cell_type": "code",
   "execution_count": 34,
   "metadata": {},
   "outputs": [
    {
     "name": "stdout",
     "output_type": "stream",
     "text": [
      "Generate the rest of this Dr. Horrible's Sing-Along Blog fanfiction:\n",
      "\"Goodbye Dr. Horrible\" I frowned, trying to hold back tears. I took Sid\"s arm and left with no intention of ever returning. When we reached outside though, I could feel my spirit breaking. Sid put her hand on my shoulder sympathetically. \"Hey, it\"s okay Penny. Maybe it\"s for the best.\" She tried to be optimistic. \"Maybe you will find somebody else, so what if he is probably the best guy for you ever. Sorry Penny but you two were probably the cutest thing I\"d ever seen for about two seconds there. But at the end of the day, he\"s a bad guy and you aren\"t so you know...oh well.\" I froze, realizing that I really had to listen to Sid for once. I learned that I had to join them if you couldn\"t beat them...clearly Billy wasn\"t going to stop being evil...it\"s who he is I guess... I spun around and hugged my cousin. She didn\"t realize I was saying goodbye until I had walked into the building. \"Go get him Penny...I think!\" Sid shouted after me before leaving, finally intent on getting her house to herself again. I waited for Billy in his office. I didn\"t know how long his meeting would last so I sat in the unguarded room for hours, picking through his things cautiously...I found a picture of myself on his desk. He still loved me...and I was pretty sure I loved him...until now. I knew what I had to do though. Zora knew at least...Penny was still too unsure for her own good. So what will happen next? What is Penny\"s big decision, I think we all know but I\"m not going to simply state it outright! R&R I\"m loving all of the support you guys are giving me with this one. Also...I noticed something the other day, I\"ve been spelling Sid\"s name wrong, it\"s actually Cyd. I\"m going to fix it once the story is finished because I honestly don\"t have the time nor energy to go back and fix every chapter! Anyways! Thanks again for reading! Jenny Alrighty! Back with another chapter! We are seriously switching gears from angst to fluff so beware! Enjoy! Don\"t forget to R&R! Minutes turned to hours...three hours actually. I think I had at least scimmed every book in his shelves. Everything from \"So you wanna be a super villain?' to \"Your first scheme, What to expect.' Oddly enough, I found a good portion of them rather informative. I kept waiting, tapping my foot as I sat reading \"Evil for Dummies,' and trying to push back the feeling that I was about to do something awful. From all my reading, I pulled together that in order to do something evil, you needed to have conviction, be calm and collected (Or completely insane according to you villain style) and last but not least, you needed to have a gimmick. Like the Riddler from Batman or those classic villains from our past, new villains need a concept that will make them stand out and be different to stay on the good guy\"s radar. It made sense, most villains that I knew of had a distinct theme...except for Moist...he was simply...well...Moist. I kept telling myself that I could do it, that I could be evil, but Penny kept holding me back. But that\"s when he returned. Dr Horrible hung up his goggles on the hook and took off his gloves and lab coat, he was plain old Billy again. I tried to steady my breath but it\"s wasn\"t working. He didn\"t notice me sitting in his desk. When he did, he jumped but looked unimpressed. \"I thought you never wanted to see me again.\" He stated coldly.\n",
      "\n",
      "\n",
      "Generate the rest of this Big Bang Theory fanfiction:\n",
      "\"Of course not!\" Sheldon made a move to open the front seat, but Leonard spoke before he could enter the vehicle. \"Remember Bernadette\"s bacterial colony that Amy spilled on the front seat last week?\" Leonard commented, raising an eyebrow. \"Oh, right,\" Sheldon muttered. Leonard smiled to himself at the fact that without Sheldon riding shotgun, he had full control of the radio station and volume. In the meantime, Sheldon opened the back door and ducked into the car, putting his messenger bag on the seat beside him. \"What\"s been going on with you and Amy lately, anyway?\" Leonard asked, starting the car and glancing at Sheldon in the rear view mirror. \"She seems to be especially, uh... apologetic lately.\" \"Why wouldn\"t she be? She\"s been on a quest to ruin my life,\" Sheldon grumbled under his breath. \"What are you talking about?\" Leonard replied. \"You can\"t seriously think that because she accidentally let that pigeon into your bedroom that she\"s trying to ruin your life. I recall her even cleaning up all its crap. Even when she formatted your laptop\"s hard drive the other day, she worked hard to try to restore it, going so far as to bring it down to creepy Ron at the computer repair shop.\" \"She\"s done far more than just that,\" Sheldon muttered. \"Don\"t you remember the shower adhesives? Or her turning my bus pants inside out? Or my comic book she ripped?\" \"Eh, once I sprayed that mildew cleaner on the adhesives, they got better. As for the bus pants, you only wore those bus pants the wrong way one time and then she turned them the right way. Not only that, but you have two copies of Ultimate Spiderman #1!\" \"Well, what about what she did to my couch cushion? Surely you remember her spilling coffee on my spot.\" \"Sheldon, I think you\"re being kinda hard on her. All she does is apologize to you. Have you ever thought that maybe something\"s going on in her life that\"s causing her to be so clumsy?\" \"That\"s no excuse for her behavior,\" Sheldon huffed, shaking his head. \"Well, what about yours?\" Leonard countered, merging onto the main road. \"I\"ve noticed that after she starts apologizing, you start twitching and can barely hide your anger and then she and you leave the room for several minutes.\" \"I fail to see how that deviates from normalcy.\" \"Well, lemme tell you; it\"s not normal. When you both come back, Amy always looks like a disheveled mess. You\"re back to normal, no problem, but she keeps her head down and breathes really hard for a couple of minutes. Not to mention the totally random music you blare when you march off with her-what are you doing; trying to block out the sound of your yelling at her?\" \"No,\" Sheldon replied. \"I\"m blocking out the sound of my punishing her.\" The car skidded to a halt, followed by the blares of horns from angry drivers behind them. Leonard immediately pulled into the next parking lot and put his car into park. As he did so, he removed his seatbelt and turned to stare at Sheldon. \"What are you talking about, punishing Amy?\" \"It\"s rather simple,\" Sheldon explained. \"When she does something bad, she gets a spanking.\" Leonard\"s jaw dropped and his normally squinty eyes widened with disbelief. \"Uh, would you care to expand on that a little?\" \"I think I\"ve made myself very clear,\" Sheldon replied. \"When my girlfriend is disobedient or negligent, I teach her a lesson just like my father used to do-not to me, of course, but to my brother George.\n",
      "\n",
      "\n",
      "Generate the rest of this Big Bang Theory fanfiction:\n",
      "\"Of course not!\" Sheldon made a move to open the front seat, but Leonard spoke before he could enter the vehicle. \"Remember Bernadette\"s bacterial colony that Amy spilled on the front seat last week?\" Leonard commented, raising an eyebrow. \"Oh, right,\" Sheldon muttered. Leonard smiled to himself at the fact that without Sheldon riding shotgun, he had full control of the radio station and volume. In the meantime, Sheldon opened the back door and ducked into the car, putting his messenger bag on the seat beside him. \"What\"s been going on with you and Amy lately, anyway?\" Leonard asked, starting the car and glancing at Sheldon in the rear view mirror. \"She seems to be especially, uh... apologetic lately.\" \"Why wouldn\"t she be? She\"s been on a quest to ruin my life,\" Sheldon grumbled under his breath. \"What are you talking about?\" Leonard replied. \"You can\"t seriously think that because she accidentally let that pigeon into your bedroom that she\"s trying to ruin your life. I recall her even cleaning up all its crap. Even when she formatted your laptop\"s hard drive the other day, she worked hard to try to restore it, going so far as to bring it down to creepy Ron at the computer repair shop.\" \"She\"s done far more than just that,\" Sheldon muttered. \"Don\"t you remember the shower adhesives? Or her turning my bus pants inside out? Or my comic book she ripped?\" \"Eh, once I sprayed that mildew cleaner on the adhesives, they got better. As for the bus pants, you only wore those bus pants the wrong way one time and then she turned them the right way. Not only that, but you have two copies of Ultimate Spiderman #1!\" \"Well, what about what she did to my couch cushion? Surely you remember her spilling coffee on my spot.\" \"Sheldon, I think you\"re being kinda hard on her. All she does is apologize to you. Have you ever thought that maybe something\"s going on in her life that\"s causing her to be so clumsy?\" \"That\"s no excuse for her behavior,\" Sheldon huffed, shaking his head. \"Well, what about yours?\" Leonard countered, merging onto the main road. \"I\"ve noticed that after she starts apologizing, you start twitching and can barely hide your anger and then she and you leave the room for several minutes.\" \"I fail to see how that deviates from normalcy.\" \"Well, lemme tell you; it\"s not normal. When you both come back, Amy always looks like a disheveled mess. You\"re back to normal, no problem, but she keeps her head down and breathes really hard for a couple of minutes. Not to mention the totally random music you blare when you march off with her-what are you doing; trying to block out the sound of your yelling at her?\" \"No,\" Sheldon replied. \"I\"m blocking out the sound of my punishing her.\" The car skidded to a halt, followed by the blares of horns from angry drivers behind them. Leonard immediately pulled into the next parking lot and put his car into park. As he did so, he removed his seatbelt and turned to stare at Sheldon. \"What are you talking about, punishing Amy?\" \"It\"s rather simple,\" Sheldon explained. \"When she does something bad, she gets a spanking.\" Leonard\"s jaw dropped and his normally squinty eyes widened with disbelief. \"Uh, would you care to expand on that a little?\" \"I think I\"ve made myself very clear,\" Sheldon replied. \"When my girlfriend is disobedient or negligent, I teach her a lesson just like my father used to do-not to me, of course, but to my brother George.\n",
      "\n",
      "\n"
     ]
    }
   ],
   "source": [
    "for p in prompts:\n",
    "    print(p)"
   ]
  },
  {
   "cell_type": "code",
   "execution_count": 27,
   "metadata": {},
   "outputs": [
    {
     "data": {
      "text/plain": [
       "[['\"Goodbye Dr. Horrible\" I frowned, trying to hold back tears.',\n",
       "  'I took Sid\"s arm and left with no intention of ever returning.',\n",
       "  'When we reached outside though, I could feel my spirit breaking.',\n",
       "  'Sid put her hand on my shoulder sympathetically.',\n",
       "  '\"Hey, it\"s okay Penny.',\n",
       "  'Maybe it\"s for the best.\"',\n",
       "  'She tried to be optimistic.',\n",
       "  '\"Maybe you will find somebody else, so what if he is probably the best guy for you ever.',\n",
       "  'Sorry Penny but you two were probably the cutest thing I\"d ever seen for about two seconds there.',\n",
       "  'But at the end of the day, he\"s a bad guy and you aren\"t so you know...oh well.\"',\n",
       "  'I froze, realizing that I really had to listen to Sid for once.',\n",
       "  'I learned that I had to join them if you couldn\"t beat them...clearly Billy wasn\"t going to stop being evil...it\"s who he is I guess...',\n",
       "  'I spun around and hugged my cousin.',\n",
       "  'She didn\"t realize I was saying goodbye until I had walked into the building.',\n",
       "  '\"Go get him Penny...I think!\"',\n",
       "  'Sid shouted after me before leaving, finally intent on getting her house to herself again.',\n",
       "  'I waited for Billy in his office.',\n",
       "  'I didn\"t know how long his meeting would last so I sat in the unguarded room for hours, picking through his things cautiously...I found a picture of myself on his desk.',\n",
       "  'He still loved me...and I was pretty sure I loved him...until now.',\n",
       "  'I knew what I had to do though.',\n",
       "  'Zora knew at least...Penny was still too unsure for her own good.',\n",
       "  'So what will happen next?',\n",
       "  'What is Penny\"s big decision, I think we all know but I\"m not going to simply state it outright!',\n",
       "  'R&R I\"m loving all of the support you guys are giving me with this one.',\n",
       "  'Also...I noticed something the other day, I\"ve been spelling Sid\"s name wrong, it\"s actually Cyd.',\n",
       "  'I\"m going to fix it once the story is finished because I honestly don\"t have the time nor energy to go back and fix every chapter!',\n",
       "  'Anyways!',\n",
       "  'Thanks again for reading!',\n",
       "  'Jenny Alrighty!',\n",
       "  'Back with another chapter!',\n",
       "  'We are seriously switching gears from angst to fluff so beware!',\n",
       "  'Enjoy!',\n",
       "  'Don\"t forget to R&R!',\n",
       "  'Minutes turned to hours...three hours actually.',\n",
       "  'I think I had at least scimmed every book in his shelves.',\n",
       "  'Everything from \"So you wanna be a super villain?\\'',\n",
       "  'to \"Your first scheme, What to expect.\\'',\n",
       "  'Oddly enough, I found a good portion of them rather informative.',\n",
       "  'I kept waiting, tapping my foot as I sat reading \"Evil for Dummies,\\' and trying to push back the feeling that I was about to do something awful.',\n",
       "  'From all my reading, I pulled together that in order to do something evil, you needed to have conviction, be calm and collected (Or completely insane according to you villain style) and last but not least, you needed to have a gimmick.',\n",
       "  'Like the Riddler from Batman or those classic villains from our past, new villains need a concept that will make them stand out and be different to stay on the good guy\"s radar.',\n",
       "  'It made sense, most villains that I knew of had a distinct theme...except for Moist...he was simply...well...Moist.',\n",
       "  'I kept telling myself that I could do it, that I could be evil, but Penny kept holding me back.',\n",
       "  'But that\"s when he returned.',\n",
       "  'Dr Horrible hung up his goggles on the hook and took off his gloves and lab coat, he was plain old Billy again.',\n",
       "  'I tried to steady my breath but it\"s wasn\"t working.',\n",
       "  'He didn\"t notice me sitting in his desk.',\n",
       "  'When he did, he jumped but looked unimpressed.',\n",
       "  '\"I thought you never wanted to see me again.\"',\n",
       "  'He stated coldly.'],\n",
       " ['He stared dull daggers at me and somehow it still pierced my soul.',\n",
       "  '\"So did I...\" I was still unsure of what I was doing or how I was feeling.',\n",
       "  '\"So...then why are you here?',\n",
       "  'I don\"t understand.\"',\n",
       "  'Billy was still confused.',\n",
       "  'I smiled at him in an attempt to soften his eyes.',\n",
       "  '\"For a scientist, you aren\"t very smart are you?\"',\n",
       "  'I tried to joke, getting up from the desk, meeting up with him in the middle of the room.',\n",
       "  '\"I\"m sorry for lying to you.',\n",
       "  'I was scared that if I met you again, I\"d finally see you as Dr. Horrible then the image of you that I\"ve held in my mind...erm...heart...for so long...I guess it\"s too late for that.\"',\n",
       "  '\"What are you trying to say?\"',\n",
       "  'Dr. Horrible eyed me angrily.',\n",
       "  'I took a breath, finally the words I\"ve been looking for came to mind.',\n",
       "  '\"I...I...love you...I have ever since before the incident at the ceremony.',\n",
       "  'I\"m sorry it took me this long to realize that...much less say it\" Billy\"s jaw dropped open.',\n",
       "  'He didn\"t say anything, he just stood there.',\n",
       "  'I kept hoping he would say something...anything...reject me...kiss me!',\n",
       "  'Anything!',\n",
       "  'But this eerie silence was getting more and more uncomfortable by the moment.',\n",
       "  'I looked around, praying somebody would barge in on us and take me away or something but instead we stood there in awkward silence.',\n",
       "  '\"Aren\"t you going to say anything?\"',\n",
       "  'I tried to ask him but he stayed silent.',\n",
       "  '\"Billy?\"',\n",
       "  'I asked, he was still frozen.',\n",
       "  'I almost felt my heart break in two for what felt like the millionth time that day.',\n",
       "  '\"Okay...I\"m sorry I came back then...\" My throat was closing up, I could feel myself wavering, getting ready to cry.',\n",
       "  'I turned to leave, standing in the doorway I looked back at the frozen man one more time.',\n",
       "  'I jumped.',\n",
       "  'Billy was gone I scanned the office as fast as I could...nothing!',\n",
       "  'I spun back around to find Billy standing in front of the doorway.',\n",
       "  'Our eyes locked.',\n",
       "  'I wasn\"t even sure of what to do anymore until Billy took the sides of my face in his palms and kissed me...',\n",
       "  'It was unlike any kiss I\"ve ever had...not that I\"ve kissed a lot but this was like fireworks, like it was meant to be.',\n",
       "  'He shut the door to his office and... My mother raised me to be a lady so I suppose I shouldn\"t share much more.',\n",
       "  'The next morning I woke up in Billy\"s home with him curled up around me.',\n",
       "  'We were bundled up in probably the softest sheets I\"ve ever felt.',\n",
       "  'Billy snores...a lot.',\n",
       "  'It\"s sort of annoying but honestly, I thought it was sort of cute.',\n",
       "  'We stayed in bed for some time before finally getting up.',\n",
       "  'Billy turned over to meet my now loving gaze.',\n",
       "  'We both smiled at each other before speaking.',\n",
       "  '\"Good morning.\"',\n",
       "  'He whispered hoarsely.',\n",
       "  'I grinned back at him before responding.',\n",
       "  '\"Morning!',\n",
       "  'Did you sleep well?\"',\n",
       "  'I said, curling up on his chest.',\n",
       "  '\"Very.\"',\n",
       "  'I could practically hear him smiling.',\n",
       "  'For a while, we just laid there in the most perfect silence ever.'],\n",
       " ['I\"m pretty sure I fell asleep a few times but then again, I\"m sure he did too.',\n",
       "  'After a while, I got out of bed, throwing on the first layer of my costume and walked downstairs.',\n",
       "  'The house was a lot larger in the daytime than the night prior.',\n",
       "  'I looked for the kitchen to make coffee, I hadn\"t remembered being this tired...or sore...ever.',\n",
       "  'I normally didn\"t drink coffee because I never needed it but today was an exception.',\n",
       "  'I could barely smell the coffee brewing when Billy joined me.',\n",
       "  'He was in his red lab coat and his goggles were on top of his head.',\n",
       "  '\"Look...\" He looked sad; more depressed I suppose.',\n",
       "  '\"I have a meeting at the ELE, something about the LoC trying to retaliate against us.',\n",
       "  'I know you don\"t like the whole...evil thing but this is what makes me happy and-\" \"I know.\"',\n",
       "  'I cut him off.',\n",
       "  'For once, I felt firm in my decisions.',\n",
       "  '\"I understand.',\n",
       "  'While I don\"t like evil...I am willing to put my own feelings aside...well sort of.',\n",
       "  'Penny can\"t but Zora...she can.',\n",
       "  'So I have a question for you...\" I took a breath, fearing that I would sound incredibly cheesy.',\n",
       "  '\"What is it?\"',\n",
       "  'Billy asked me, sounding actually hopeful.',\n",
       "  '\"Do you wanna date my avatar?\"',\n",
       "  'From that moment, I knew something good would come of it...and in time...something actually did.',\n",
       "  'No it\"s not over!',\n",
       "  'Don\"t worry about that!',\n",
       "  'It can\"t be all sunshine and rainbows!',\n",
       "  'R&R!',\n",
       "  'Thanks for reading!',\n",
       "  'Jenny YAY!',\n",
       "  'Another chapter *throws butterflies and unicorns* Okay everybody, hope you enjoy the chapter!',\n",
       "  'R&R!',\n",
       "  'Happy reading!',\n",
       "  'For the next week, things were fine.',\n",
       "  'Moist eventually got used to seeing me around the house.',\n",
       "  'I was bored most of the time but I spent a lot of time playing The Game with Sid.',\n",
       "  'That usually kept my days busy, other than that, I spent time in town with Billy.',\n",
       "  'We would dress normally and go get frozen yogurt or see a movie.',\n",
       "  'It was really nice until it happened.',\n",
       "  'Billy and I woke up like we normally did; I went downstairs looking for something to eat when I heard a really weird wheezing noise.',\n",
       "  'I looked around and eventually realized it was coming from Moist\"s room.',\n",
       "  'I honestly wasn\"t sure what to do so I got Billy, who was still not totally awake.',\n",
       "  'I led my incredibly sleepy boyfriend downstairs to Moist\"s door.',\n",
       "  '\"What is that noise?\"',\n",
       "  'I asked him; Billy was still trying to adjust to the fact that I had opened the curtains on the windows, letting much more light in the room than he was used to.',\n",
       "  '\"Moist is sick...just let him sit it out.',\n",
       "  'He\"ll get better in a few days.',\n",
       "  'He always makes that noise when he\"s sick.',\n",
       "  'Just sleep with ear plugs, you\"ll be fine.\"',\n",
       "  'Billy started back up the stairs sleepily.',\n",
       "  '\"Oh...okay...sorry I woke you...\" I looked at the door, still kind of creeped out by the noises coming from the door.',\n",
       "  'I didn\"t need to be told twice, I got out of the way and headed for the lab to play The Game.',\n",
       "  'I don\"t really care what anybody says about ethics, I see nothing wrong with using a super villain\"s massive computer with probably the most advanced system I\"ve seen to play a video game.',\n",
       "  'It\"s huge and it never freezes so why not?'],\n",
       " ['That\"s when Billy halted at the top of the stairs.',\n",
       "  '\"Oh crap!\"',\n",
       "  'He put his palm to his forehead.',\n",
       "  '\"I have to perform a heist today...who\"s going to carry the money?\"',\n",
       "  'He stormed away to his computer and began accessing the ELE server.',\n",
       "  '\"You still perform heists?\"',\n",
       "  'I asked, trying not to cringe or judge him.',\n",
       "  'I asked for this life, I couldn\"t judge him...why can\"t I stop judging him?',\n",
       "  'I mean...I just can\"t!',\n",
       "  '\"Yeah, of course.',\n",
       "  'It\"s going to be more of a complex one.',\n",
       "  'I need something for a new invention.\"',\n",
       "  'Billy focused intently on the screen.',\n",
       "  'I tried not to watch him but my curiosity got the best of me.',\n",
       "  'He was asking the other members if he could borrow their sidekick for the day.',\n",
       "  '\"Oh?',\n",
       "  'What is it?\"',\n",
       "  'I asked, trying not to pry too much.',\n",
       "  '\"An alloy of steel, I need it to power the soldier robots.',\n",
       "  'I\"m changing their inner cores and plain steel won\"t be able to cut it.\"',\n",
       "  '\"Oh okay.\"',\n",
       "  'I said as I walked away.',\n",
       "  'I remembered I was having lunch with Sid today so I needed to go get dressed.',\n",
       "  'I was ready to leave before Billy was; he was still fumbling with the buttons on his red lab coat.',\n",
       "  'I looked at him and chuckled at his determination.',\n",
       "  'He refused to take his gloves off so the buttons were even smaller by comparison.',\n",
       "  'I watched him for a few minutes before helping him.',\n",
       "  'He sighed in defeat when I had finished the last button.',\n",
       "  'I looked up at him and smiled, locking eyes with him.',\n",
       "  'He knelt a down slightly to kiss me before he left for his lab downstairs, presumably for the teleportation pad the ELE had given him so he could attend their meetings easier.',\n",
       "  'He was probably going to meet his sidekick for a day.',\n",
       "  'That\"s when I set off to meet Sid at Cheesy Beard\"s. Sid seems fine, a little less rested than normal but then again, I\"m used to seeing her after I had to practically blackmail her into going to bed at decent times.',\n",
       "  'I talked to her about my new life and asked her if she were eating all her food groups and not living off energy drinks.',\n",
       "  'Naturally she said no so I lectured her and we got on with our lives.',\n",
       "  'She was actually really shocked that Billy and I had slept together; admittedly I was too but still.',\n",
       "  'I ended up poking fun at her about sleeping with a guy that plays the game too.',\n",
       "  'Other than that we just had a really pleasant time.',\n",
       "  'In the back of my mind, I wondered how my life could have gotten to this place so quickly.',\n",
       "  'Suddenly I\"m in this relationship with a super villain and I\"m living in this huge house in the Hollywood hills, looking down on everybody.',\n",
       "  'I can have anything I want, I have everything I want but something doesn\"t feel right.',\n",
       "  'I feel like something is wrong with this setup.',\n",
       "  'I need to do things again; I need a cause to work for.',\n",
       "  '\"Hey Sid, do you remember where the animal shelter is?\"',\n",
       "  'I asked out of the blue.',\n",
       "  '\"Where it\"s always been?\"',\n",
       "  'Sid looked confused, \"What\"s up?\"',\n",
       "  '\"Oh...I\"m just thinking about volunteering again.',\n",
       "  'I mean, dating-\" I stopped myself before continuing, \"You know who has got to seriously bring down my good alignment right?\"',\n",
       "  'Oh my god I just spoke geek...what has Sid done to me?',\n",
       "  '\"You get it though right?'],\n",
       " ['It just feels weird every now and then...and it\"s only been a week.\"',\n",
       "  '\"I understand.\"',\n",
       "  'Sid nodded.',\n",
       "  '\"Why don\"t we go to the shelter?',\n",
       "  'I remember when we were kids your mom would take you there to play with the kittens and stuff.\"',\n",
       "  '\"Yeah...I think I would like that.\"',\n",
       "  'I agreed and at that very moment, we left the restaurant and headed off for the shelter.',\n",
       "  'It actually wasn\"t too far from the restaurant to we chose to walk; it was a nice day anyways.',\n",
       "  'We were nearly there when we heard all sorts of screaming followed by people running in our direction.',\n",
       "  'I knew they were running from something and even worse, I knew exactly what they were running from.',\n",
       "  '\"Sid!',\n",
       "  'Come on!\"',\n",
       "  'I grabbed her hand and we followed the crowd.',\n",
       "  '\"Why are we running?\"',\n",
       "  'Sid asked, trying to look behind us.',\n",
       "  '\"I don\"t want to see him!\"',\n",
       "  'I answered frantically as I looked around, running into a large building.',\n",
       "  'There were policemen inside, I thought I was safe...I was wrong.',\n",
       "  'Suddenly Billy and a gruff looking sidekick barged in; they took the police down with ease.',\n",
       "  'He didn\"t notice me luckily; the goggles probably distorted his vision.',\n",
       "  'The sidekick burst into the back while the supervillain terrorized the now defenseless police officers.',\n",
       "  'When the sidekick returned, he had large metal boxes of something.',\n",
       "  'They turned to leave when Billy and I locked eyes.',\n",
       "  'I gulped; I didn\"t want to ruin the mission but seeing him like this made me sick.',\n",
       "  'Billy froze as I gulped again.',\n",
       "  'He looked at me before dropping the boxes.',\n",
       "  'They began to light up and flash.',\n",
       "  '\"What are you doing?\"',\n",
       "  'The sidekick shouted, \"You can\"t drop that!',\n",
       "  'This whole place is gonna blow!',\n",
       "  'Let\"s go!\"',\n",
       "  'He grabbed Billy\"s hand and tried to tug him out but instead Billy grabbed Sid and me and fled.',\n",
       "  'Moments after we escaped the building, it explodes in a warm fiery mass.',\n",
       "  'Billy simply stared, he knew he had failed.',\n",
       "  '\"What the hell man!\"',\n",
       "  'The gruff sidekick slapped \"s arm.',\n",
       "  '\"You lost it AND you save civilians?',\n",
       "  'What\"s your deal!\"',\n",
       "  'The sidekick grabbed the super villain\"s arm and fled as fast as he could, leaving us to watch the building burn down and wait for the firemen.',\n",
       "  '\"Wow...\"I heard Sid whisper.',\n",
       "  '\"What...what just happened?\"',\n",
       "  '\"I got in the way...\" I whispered back, feeling the tears well up in my eyes.',\n",
       "  'I knew this was too good to last.',\n",
       "  'Yeah, I\"m a downer.',\n",
       "  'Can\"t wait to post the next chapter...as soon as I write it!',\n",
       "  'R&R!',\n",
       "  'Thanks for reading!',\n",
       "  'Jenny Hey guys!',\n",
       "  'Back with the final chapter of Here\"s a Story!',\n",
       "  'Thanks for all the great reviews and I really hope you guys can keep them going!'],\n",
       " ['They are my biggest measure on if anybody is bothering to read.',\n",
       "  'I can\"t write if nobody will read it so R&R!',\n",
       "  'Anyways, thanks so much for sticking with me!',\n",
       "  'Can\"t wait for my next story, it should be starting up soon!',\n",
       "  'Sid and I ran as fast as we could to her car and drove until we reached Sid\"s apartment.',\n",
       "  'From there, it was about four hours of crying and eating whatever Sid had in her fridge and since I was no longer living there, it wasn\"t much.',\n",
       "  'I honestly didn\"t know what to do.',\n",
       "  'I got in the way, I didn\"t want to but in the back of my mind, I knew I was happy.',\n",
       "  'It was one less heist on Dr. Horrible\"s watch.',\n",
       "  'I knew I had to be accepting and I couldn\"t care about what the Doctor did.',\n",
       "  'It was just so hard!',\n",
       "  'How can somebody just pretend a huge elephant in the room isn\"t there?',\n",
       "  'I could feel my heart ripping out of my chest.',\n",
       "  'I just didn\"t know what to do anymore.',\n",
       "  'I knew I couldn\"t stay with Billy anymore.',\n",
       "  'It was an amazing week but too amazing to last.',\n",
       "  'At the same time, I knew that I couldn\"t go on living here in his city.',\n",
       "  'Every time I left the house I would risk seeing him.',\n",
       "  'I had to run.',\n",
       "  '\"Where are you going to go?\"',\n",
       "  'Sid asked as she drove me to Billy\"s house where I packed my things.',\n",
       "  'Luckily, Billy wasn\"t home yet.',\n",
       "  'Sid and I were nearly finished when we heard the front door open.',\n",
       "  '\"Crap...\"I mumbled under my breath.',\n",
       "  'There was no avoiding this one.',\n",
       "  'We tried to walk down the stairs with our heads held high but secretly, I already had a lump in my throat.',\n",
       "  'Sid rushed ahead of me to make sure I didn\"t run into Billy.',\n",
       "  'I couldn\"t totally hear their exchange but this is what I got out of it: \"Sid...is Penny okay?\"',\n",
       "  'Billy asked, sounding more depressed that Penny could fathom.',\n",
       "  '\"She\"s fine.\"',\n",
       "  'Sid gulped.',\n",
       "  '\"Then why do you have a bunch of suitcases...\" Billy asked, sounding threatened.',\n",
       "  '\"I...she...needs to stay with me for a while...she feels bad about what happened today.\"',\n",
       "  '\"She realizes that she can\"t do this whenever she catches me in a heist right?\"',\n",
       "  'Billy tried to reason with Sid.',\n",
       "  '\"Well yeah but it wasn\"t her with the problem.\"',\n",
       "  'Sid shrugged, trying to distance herself.',\n",
       "  '\"What?\"',\n",
       "  '\"It was you Billy...\"I walked down the stairs with a suitcase in hand.',\n",
       "  '\"I saw the way you looked at me...you froze.\"',\n",
       "  '\"It caught me off guard!',\n",
       "  'I\"ve already been scolded by Bad Horse for this, am I really going to get it from you too?\"',\n",
       "  'Billy was exasperated.',\n",
       "  'I looked at Sid, looking for strength somewhere.',\n",
       "  'Sid nodded before taking my suitcase and leaving the house.',\n",
       "  'This left me and Billy staring at each other from across the room.',\n",
       "  '\"I thought maybe the whole \"Super Villain\" thing would be something we could work around but after today I know...we just can\"t...I just can\"t.\" I looked at my shoes.',\n",
       "  '\"Maybe bad and neutral just weren\"t meant to mix?',\n",
       "  'I have to go...maybe for a few days...maybe a year...I don\"t know.',\n",
       "  'All I do know is that I can\"t handle it for the time being.\"'],\n",
       " ['I was crying, I knew I was going to but it still didn\"t make it any easier when it happened.',\n",
       "  '\"I\"m sorry...\" Was all Billy said.',\n",
       "  '\"I love you...if that makes a difference.\"',\n",
       "  '\"I love you too...\"I sniffed, \"But sometimes...I guess it\"s just not enough.\"',\n",
       "  'I tried to move but my feet wouldn\"t budge.',\n",
       "  'Before I knew it, Billy had pulled me into a hug.',\n",
       "  'All I could do was cry into his shoulder.',\n",
       "  'After what felt like forever, we finally pulled apart, catching each other\"s eyes on the way.',\n",
       "  'Before I knew it, I was kissing him again.',\n",
       "  'It was another one of those sweet, beautiful kisses that made me love him all the more.',\n",
       "  'It was so heartfelt that it made my chest ache.',\n",
       "  'Typical me though, it\"s never just a kiss is it?',\n",
       "  'An hour later, he had fallen asleep and there I way, laying in his bed, trying not to cry again.',\n",
       "  'I looked over at Billy, he looked so peaceful but I knew he wouldn\"t be that way forever.',\n",
       "  'Eventually Dr. Horrible would be called upon again and then we would run into this same problem.',\n",
       "  'I got out of bed and got dressed again.',\n",
       "  'I looked at Billy again and felt my chest seize up.',\n",
       "  'I walked to his side of the bed and kissed his temple.',\n",
       "  'I love him...I just couldn\"t love Dr. Horrible.',\n",
       "  'I left silently knowing this would be the last time I would ever see him.',\n",
       "  'I got on a plane to Alabama the next day.',\n",
       "  'I stayed with my aunt and uncle until I was able to find a place in New York and within a month, I had moved in.',\n",
       "  'If only I had known that the last hour I spent with Billy would leave a massive impact on my life.',\n",
       "  'About seven months after I moved to New York, I had a baby.',\n",
       "  'Her name is Emma.',\n",
       "  'We have lived in New York together, struggling to start back up ever since.',\n",
       "  'I still E-mail with Sid often but I hardly ever play The Game anymore, I mean, it\"s just Emma and me so I don\"t really have time for stuff like that anymore.',\n",
       "  'All I can say is that Emma takes after her father a lot; she was walking and talking by fourteen months.',\n",
       "  'She\"s so smart it\"s incredible!',\n",
       "  'I can\"t even begin to understand how amazing and fast she picks up things in comparison to the kids at our daycare.',\n",
       "  'Speaking of which, I\"m working now.',\n",
       "  'It\"s not charity like I had hoped but I\"m working as a secretary for pretty much the exact opposite of charity.',\n",
       "  'I\"m working for GMC, they are basically Eco-terrorists but it\"s work and I can\"t mess around anymore.',\n",
       "  'It pays well so it\"s okay; it gets the bills paid and keeps us off the streets.',\n",
       "  'While I miss my cousin and my life over in California, I\"m really living in New York.',\n",
       "  'I\"ve got a small group of friends, I\"m the only one with a kid but they all love her so it\"s okay.',\n",
       "  'Life has somehow gotten considerably easier over time.',\n",
       "  'I mean, it\"s been five years since I\"ve seen Billy and I can\"t remember a time when I had been this...not happy...but content with my life.',\n",
       "  'I knew though that he had a right to know Emma exists so last night I sent a picture to his factory with her name and birthday on the back.',\n",
       "  'I don\"t know if he will respond or bother but either way, I\"m still happy without him.',\n",
       "  'It doesn\"t mean I ever stopped loving him, I don\"t think I ever will but now that I\"ve sent that picture...I feel alright...I think I can move on with my life...',\n",
       "  'So I think this is where my story comes to an end and maybe another begins.',\n",
       "  'I don\"t know really...who ever does really?',\n",
       "  'That was Here\"s a Story!',\n",
       "  'Thank you all for reading and sticking with me!',\n",
       "  'Don\"t worry, we will be getting a resolution!',\n",
       "  'I haven\"t started yet but it involves a very legen...wait for it...DARY character.',\n",
       "  'Stay tuned readers and thanks again for reading!',\n",
       "  'R&R!',\n",
       "  'Jenny']]"
      ]
     },
     "execution_count": 27,
     "metadata": {},
     "output_type": "execute_result"
    }
   ],
   "source": [
    "list(chunker(sent_tokenize(merge_and_get_text(d['pair'][0])), sent_chunk_sz))"
   ]
  },
  {
   "cell_type": "code",
   "execution_count": 24,
   "metadata": {},
   "outputs": [
    {
     "name": "stdout",
     "output_type": "stream",
     "text": [
      "\"Goodbye Dr. Horrible\" I frowned, trying to hold back tears. I took Sid\"s arm and left with no intention of ever returning. When we reached outside though, I could feel my spirit breaking. Sid put her hand on my shoulder sympathetically. \"Hey, it\"s okay Penny. Maybe it\"s for the best.\" She tried to be optimistic. \"Maybe you will find somebody else, so what if he is probably the best guy for you ever. Sorry Penny but you two were probably the cutest thing I\"d ever seen for about two seconds there. But at the end of the day, he\"s a bad guy and you aren\"t so you know...oh well.\" I froze, realizing that I really had to listen to Sid for once. I learned that I had to join them if you couldn\"t beat them...clearly Billy wasn\"t going to stop being evil...it\"s who he is I guess... I spun around and hugged my cousin. She didn\"t realize I was saying goodbye until I had walked into the building. \"Go get him Penny...I think!\" Sid shouted after me before leaving, finally intent on getting her house to herself again. I waited for Billy in his office. I didn\"t know how long his meeting would last so I sat in the unguarded room for hours, picking through his things cautiously...I found a picture of myself on his desk. He still loved me...and I was pretty sure I loved him...until now. I knew what I had to do though. Zora knew at least...Penny was still too unsure for her own good. So what will happen next? What is Penny\"s big decision, I think we all know but I\"m not going to simply state it outright! R&R I\"m loving all of the support you guys are giving me with this one. Also...I noticed something the other day, I\"ve been spelling Sid\"s name wrong, it\"s actually Cyd. I\"m going to fix it once the story is finished because I honestly don\"t have the time nor energy to go back and fix every chapter! Anyways! Thanks again for reading! Jenny Alrighty! Back with another chapter! We are seriously switching gears from angst to fluff so beware! Enjoy! Don\"t forget to R&R! Minutes turned to hours...three hours actually. I think I had at least scimmed every book in his shelves. Everything from \"So you wanna be a super villain?' to \"Your first scheme, What to expect.' Oddly enough, I found a good portion of them rather informative. I kept waiting, tapping my foot as I sat reading \"Evil for Dummies,' and trying to push back the feeling that I was about to do something awful. From all my reading, I pulled together that in order to do something evil, you needed to have conviction, be calm and collected (Or completely insane according to you villain style) and last but not least, you needed to have a gimmick. Like the Riddler from Batman or those classic villains from our past, new villains need a concept that will make them stand out and be different to stay on the good guy\"s radar. It made sense, most villains that I knew of had a distinct theme...except for Moist...he was simply...well...Moist. I kept telling myself that I could do it, that I could be evil, but Penny kept holding me back. But that\"s when he returned. Dr Horrible hung up his goggles on the hook and took off his gloves and lab coat, he was plain old Billy again. I tried to steady my breath but it\"s wasn\"t working. He didn\"t notice me sitting in his desk. When he did, he jumped but looked unimpressed. \"I thought you never wanted to see me again.\" He stated coldly.\n"
     ]
    }
   ],
   "source": [
    "prompt = \"\"\"\"\"\"\n",
    "print(dataset[0])"
   ]
  },
  {
   "cell_type": "code",
   "execution_count": 13,
   "metadata": {},
   "outputs": [
    {
     "name": "stdout",
     "output_type": "stream",
     "text": [
      "\"Goodbye Dr. Horrible\" I frowned, trying to hold back tears. I took Sid\"s arm and left with no intention of ever returning. When we reached outside though, I could feel my spirit breaking. Sid put her hand on my shoulder sympathetically. \"Hey, it\"s okay Penny. Maybe it\"s for the best.\" She tried to be optimistic. \"Maybe you will find somebody else, so what if he is probably the best guy for you ever. Sorry Penny but you two were probably the cutest thing I\"d ever seen for about two seconds there. But at the end of the day, he\"s a\n",
      "bad guy and you aren\"t so you know...oh well.\" I froze, realizing that I really had to listen to Sid for once. I learned that I had to join them if you couldn\"t beat them...clearly Billy wasn\"t going to stop being evil...it\"s who he is I guess... I spun around and hugged my cousin. She didn\"t realize I was saying goodbye until I had walked into the building. \"Go get him Penny...I think!\" Sid shouted after me before leaving, finally intent on getting her house to herself again. I waited for Billy in his office. I didn\"t know how long\n",
      "his meeting would last so I sat in the unguarded room for hours, picking through his things cautiously...I found a picture of myself on his desk. He still loved me...and I was pretty sure I loved him...until now. I knew what I had to do though. Zora knew at least...Penny was still too unsure for her own good. So what will happen next? What is Penny\"s big decision, I think we all know but I\"m not going to simply state it outright! R&R I\"m loving all of the support you guys are giving me with this one. Also...I noticed something\n",
      "the other day, I\"ve been spelling Sid\"s name wrong, it\"s actually Cyd. I\"m going to fix it once the story is finished because I honestly don\"t have the time nor energy to go back and fix every chapter! Anyways! Thanks again for reading! Jenny Alrighty! Back with another chapter! We are seriously switching gears from angst to fluff so beware! Enjoy! Don\"t forget to R&R! Minutes turned to hours...three hours actually. I think I had at least scimmed every book in his shelves. Everything from \"So you wanna be a super villain?' to \"Your first scheme, What to expect.' Oddly\n",
      "enough, I found a good portion of them rather informative. I kept waiting, tapping my foot as I sat reading \"Evil for Dummies,' and trying to push back the feeling that I was about to do something awful. From all my reading, I pulled together that in order to do something evil, you needed to have conviction, be calm and collected (Or completely insane according to you villain style) and last but not least, you needed to have a gimmick. Like the Riddler from Batman or those classic villains from our past, new villains need a concept that will make\n",
      "them stand out and be different to stay on the good guy\"s radar. It made sense, most villains that I knew of had a distinct theme...except for Moist...he was simply...well...Moist. I kept telling myself that I could do it, that I could be evil, but Penny kept holding me back. But that\"s when he returned. Dr Horrible hung up his goggles on the hook and took off his gloves and lab coat, he was plain old Billy again. I tried to steady my breath but it\"s wasn\"t working. He didn\"t notice me sitting in his desk. When he did, he\n",
      "jumped but looked unimpressed. \"I thought you never wanted to see me again.\" He stated coldly.\n"
     ]
    }
   ],
   "source": [
    "print(dataset[0])"
   ]
  }
 ],
 "metadata": {
  "kernelspec": {
   "display_name": "Python 3",
   "language": "python",
   "name": "python3"
  },
  "language_info": {
   "codemirror_mode": {
    "name": "ipython",
    "version": 3
   },
   "file_extension": ".py",
   "mimetype": "text/x-python",
   "name": "python",
   "nbconvert_exporter": "python",
   "pygments_lexer": "ipython3",
   "version": "3.8.6"
  }
 },
 "nbformat": 4,
 "nbformat_minor": 4
}
