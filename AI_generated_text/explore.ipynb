{
 "cells": [
  {
   "cell_type": "code",
   "execution_count": 1,
   "metadata": {},
   "outputs": [],
   "source": [
    "import os\n",
    "import sys\n",
    "sys.path.append(\"../\")\n",
    "\n",
    "import pickle\n",
    "import json\n",
    "import glob\n",
    "from tqdm.auto import trange, tqdm\n",
    "from transformers import GPT2Tokenizer, TrainingArguments, Trainer, GPT2LMHeadModel\n",
    "from transformers import pipeline\n",
    "from features import merge_entries, prepare_entry\n",
    "import nltk\n",
    "from utills import chunker, get_num_chunks\n",
    "import torch\n",
    "from torch.utils.data import Dataset, random_split\n",
    "import numpy as np\n",
    "from nltk.tokenize import sent_tokenize"
   ]
  },
  {
   "cell_type": "code",
   "execution_count": 2,
   "metadata": {},
   "outputs": [],
   "source": [
    "PREPROCESSED_DATA_PATH = '/scratch/jnw301/av_public/temp_data/pan/'\n",
    "TEMP_DATA_PATH = '/scratch/jnw301/av_public/temp_data/pan/finetuning/'"
   ]
  },
  {
   "cell_type": "code",
   "execution_count": null,
   "metadata": {},
   "outputs": [],
   "source": []
  },
  {
   "cell_type": "code",
   "execution_count": 29,
   "metadata": {},
   "outputs": [
    {
     "name": "stderr",
     "output_type": "stream",
     "text": [
      "Special tokens have been added in the vocabulary, make sure the associated word embeddings are fine-tuned or trained.\n"
     ]
    }
   ],
   "source": [
    "# model_path = TEMP_DATA_PATH + 'results_finetune/checkpoint-200000/'\n",
    "tokenizer = GPT2Tokenizer.from_pretrained('gpt2-large', bos_token='<|startoftext|>',\n",
    "                                          eos_token='<|endoftext|>', pad_token='<|pad|>')\n",
    "# model = GPT2LMHeadModel.from_pretrained(model_path)\n",
    "# model.resize_token_embeddings(len(tokenizer))"
   ]
  },
  {
   "cell_type": "code",
   "execution_count": null,
   "metadata": {
    "scrolled": true
   },
   "outputs": [],
   "source": [
    "path = PREPROCESSED_DATA_PATH + 'preprocessed_train.jsonl'\n",
    "max_length = 1024\n",
    "sent_chunk_sz = 50\n",
    "max_fanfics = 50000\n",
    "dataset = []\n",
    "i = 0\n",
    "with open(path, 'r') as f:\n",
    "    for l in tqdm(f, total=max_fanfics//2):\n",
    "        d = json.loads(l)\n",
    "        chunks = list(chunker(sent_tokenize(merge_entries(d['pair'][0])['preprocessed']), sent_chunk_sz))\n",
    "        dataset.extend([' '.join(c) for c in chunks])\n",
    "\n",
    "        chunks = list(chunker(sent_tokenize(merge_entries(d['pair'][1])['preprocessed']), sent_chunk_sz))\n",
    "        dataset.extend([' '.join(c) for c in chunks])\n",
    "        i += 2\n",
    "        if i > max_fanfics:\n",
    "            break"
   ]
  },
  {
   "cell_type": "code",
   "execution_count": 26,
   "metadata": {},
   "outputs": [],
   "source": [
    "num_records = len(dataset)\n",
    "input_ids = np.memmap(TEMP_DATA_PATH + 'input_ids.npy', dtype='int32', mode='w+', shape=(num_records, max_length))\n",
    "attention_mask = np.memmap(TEMP_DATA_PATH + 'attention_mask.npy', dtype='int32', mode='w+', shape=(num_records, max_length))"
   ]
  },
  {
   "cell_type": "code",
   "execution_count": 30,
   "metadata": {},
   "outputs": [
    {
     "data": {
      "application/vnd.jupyter.widget-view+json": {
       "model_id": "a7a1c03145d74f03ae8e69e58262c5ee",
       "version_major": 2,
       "version_minor": 0
      },
      "text/plain": [
       "  0%|          | 0/409994 [00:00<?, ?it/s]"
      ]
     },
     "metadata": {},
     "output_type": "display_data"
    }
   ],
   "source": [
    "i = 0\n",
    "for text in tqdm(dataset):\n",
    "    encodings_dict = tokenizer('<|startoftext|>' + text + '<|endoftext|>', truncation=True,\n",
    "                   max_length=max_length, padding=\"max_length\")\n",
    "\n",
    "    input_ids[i] = encodings_dict['input_ids']\n",
    "    attention_mask[i] = encodings_dict['attention_mask']\n",
    "    i += 1"
   ]
  },
  {
   "cell_type": "code",
   "execution_count": 31,
   "metadata": {},
   "outputs": [],
   "source": [
    "with open(TEMP_DATA_PATH + 'metadata.p', 'wb') as f:\n",
    "    pickle.dump((num_records, max_length), f)"
   ]
  },
  {
   "cell_type": "code",
   "execution_count": 57,
   "metadata": {},
   "outputs": [],
   "source": [
    "class PANDataset(Dataset):\n",
    "    def __init__(self, input_ids_path, attention_mask_path, num_records, max_length):\n",
    "        \n",
    "        self.input_ids = np.memmap(input_ids_path, dtype='int32', mode='r', shape=(num_records, max_length))\n",
    "        self.attention_mask = np.memmap(attention_mask_path, dtype='int32', mode='r', shape=(num_records, max_length))\n",
    "        self.num_records = num_records\n",
    "\n",
    "    def __len__(self):\n",
    "        return self.num_records\n",
    "\n",
    "    def __getitem__(self, idx):\n",
    "        return torch.from_numpy(np.array(self.input_ids[idx])), torch.from_numpy(np.array(self.attention_mask[idx]))"
   ]
  },
  {
   "cell_type": "code",
   "execution_count": 58,
   "metadata": {},
   "outputs": [],
   "source": [
    "dataset = PANDataset(TEMP_DATA_PATH + 'input_ids.npy', TEMP_DATA_PATH + 'attention_mask.npy', num_records, max_length)\n",
    "train_size = int(0.9 * len(dataset))\n",
    "train_dataset, val_dataset = random_split(dataset, [train_size, len(dataset) - train_size])"
   ]
  },
  {
   "cell_type": "code",
   "execution_count": 14,
   "metadata": {},
   "outputs": [],
   "source": []
  },
  {
   "cell_type": "code",
   "execution_count": 60,
   "metadata": {},
   "outputs": [
    {
     "name": "stderr",
     "output_type": "stream",
     "text": [
      "PyTorch: setting up devices\n"
     ]
    }
   ],
   "source": [
    "training_args = TrainingArguments(output_dir='./results', num_train_epochs=1, logging_steps=100, save_steps=5000,\n",
    "                                  per_device_train_batch_size=1, per_device_eval_batch_size=1,\n",
    "                                  warmup_steps=10, weight_decay=0.05, logging_dir='./logs', report_to = 'none')"
   ]
  },
  {
   "cell_type": "code",
   "execution_count": null,
   "metadata": {},
   "outputs": [
    {
     "name": "stderr",
     "output_type": "stream",
     "text": [
      "***** Running training *****\n",
      "  Num examples = 1776696\n",
      "  Num Epochs = 1\n",
      "  Instantaneous batch size per device = 1\n",
      "  Total train batch size (w. parallel, distributed & accumulation) = 1\n",
      "  Gradient Accumulation steps = 1\n",
      "  Total optimization steps = 1776696\n"
     ]
    }
   ],
   "source": [
    "Trainer(model=model,  args=training_args, train_dataset=train_dataset, \n",
    "        eval_dataset=val_dataset, data_collator=lambda data: {'input_ids': torch.stack([f[0] for f in data]),\n",
    "                                                              'attention_mask': torch.stack([f[1] for f in data]),\n",
    "                                                              'labels': torch.stack([f[0] for f in data])}).train()"
   ]
  },
  {
   "cell_type": "code",
   "execution_count": 9,
   "metadata": {},
   "outputs": [],
   "source": [
    "model = torch.load('./results_finetune/pytorch_model.pt')"
   ]
  },
  {
   "cell_type": "code",
   "execution_count": 21,
   "metadata": {},
   "outputs": [
    {
     "name": "stderr",
     "output_type": "stream",
     "text": [
      "Setting `pad_token_id` to `eos_token_id`:50256 for open-end generation.\n"
     ]
    },
    {
     "name": "stdout",
     "output_type": "stream",
     "text": [
      "0: \n",
      "Sarah smiled at me. I looked around. \"Uh... Purple shirt.\"\n",
      " said. \"Huh?\" \"Huh?\" \"Oh, they are so much better than what I\"ve seen.\" \"I think they are.\" \"You think that\"s a good point?\" \"I think they\"re too much to be honest. They\"re so much to me.\" \"I know. I mean, you can tell them that, but they\"re still so much\n",
      "1: \n",
      "Sarah smiled at me. I looked around. \"Uh... Purple shirt.\"\n",
      " said as I pulled her close to me, \"You know that.\" \"Oh, my, my, my, my, my, my, my, my, my, my, my, my, my, my, my, my, my, my, my, my, my, my, my, my, my, my, my, my, my, my, my, my, my, my, my, my, my, my, my, my, my, my, my, my, my, my, my, my, my, my, my, my, my, my, my, my, my, my, my, my, my, my, my, my, my, my, my, my, my, my, my, my, my, my, my, my, my, my, my, my, my, my, my, my, my, my, my, my, my, my, my, my, my, my, my, my, my, my, my, my, my, my, my, my, my, my, my, my, my, my, my, my, my, my, my, my, my, my, my, my, my, my, my, my, my, my, my, my, my, my, my, my, my, my, my, my, my, my, my, my, my, my, my, my, my, my, my, my, my, my, my, my, my, my, my, my, my, my, my, my, my, my, my, my, my, my, my, my, my, my, my, my, my, my, my, my, my, my, my, my, my, my, my, my, my, my, my, my, my, my, my, my, my, my, my, my, my, my, my, my, my, my, my, my, my, my, my, my, my, my, my, my, my, my, my, my, my, my, my, my, my, my, my, my, my, my, my, my, my, my, my, my, my, my, my, my, my, my, my, my, my, my, my, my, my, my, my, my, my, my, my, my, my, my, my, my, my, my, my, my, my, my, my, my, my, my, my, my, my, my, my, my, my, my, my, my, my, my, my, my, my, my, my, my, my, my, my, my, my, my, my, my, my, my, my, my, my, my, my, my, my, my, my, my, my, my, my, my, my, my, my, my, my, my, my, my, my, my, my, my, my, my, my, my, my, my, my, my, my, my, my, my, my, my, my, my, my, my, my, my, my, my, my, my, my, my, my, my, my, my, my, my, my, my, my, my, my, my, my, my, my, my, my, my, my, my, my, my, my, my, my, my, my, my, my, my, my, my, my, my, my, my, my, my, my, my, my, my, my, my, my, my, my, my, my, my, my, my, my, my, my, my, my, my, my, my, my, my, my, my, my, my, my, my, my, my, my, my, my, my, my, my, my, my, my, my, my, my, my, my, my, my, my, my, my, my, my, my, my, my, my, my, my, my, my, my, my, my, my, my, my, my, my, my, my, my, my, my, my, my, my, my, my, my, my, my, my, my, my, my, my, my, my, my, my, my, my, my, my, my, my, my, my\n",
      "2: \n",
      "Sarah smiled at me. I looked around. \"Uh... Purple shirt.\"\n",
      " asked as he started to walk away from me. \"Oh, I\"m sure you\"re not the only one who\"s here.\" I said as I pulled my shirt up. \"Oh, you\"re the only one who\"s here.\" He said as he pulled my shirt back up. \"I\"ll be right back to you.\" He said as he pulled my shirt back up and pulled my shirt back up. \"I\"ll be back to you soon.\" I said as he pulled my shirt back up and pulled my shirt back up again. \"You know that\"s why you don\"t think I need to.\" He said as I pulled the shirt and pulled the shirt back up to me and pulled me up to my feet. \"I\"ll be back to the door. I\"ll be back to the door and I\"ll be back to the house.\" \"I\"ll be back to the house.\" I said as I said as I made my mom said as I pulled the door and I grabbed my back to the door and I grabbed my shirt and I got up and I got my shirt and pulled my shirt off my shirt and pulled my shirt and pulled my shirt and pulled my shirt off my shirt behind me to my head and pulled my shirt up and pulled my shirt back and I grabbed my shirt and pulled my shirt behind me off and pulled my head down. \"I don\"ll be told him to my shirt and pulled my shirt \"I\"ll be back to the shirt off my shirt off my shirt off of my head \"You know what I\"ll be back and pulled my shirt up and pulled my shirt off my shirt off my head and pulled the house clothes off my shirt and pulled my head and pulled my head down. \"I\"ll be back up and I grabbed my shirt off my shirt and I grabbed my shirt and pulled my shirt. \"You know I\"ll be back and grabbed my shirt and pulled the shirt and pulled my shirt off my shirt and I grabbed my shirt \"I\"ll be on my shirt to me \"I don\"ll be right arm and grabbed my shirt \"I\"ll be sure you and grabbed my shirt \"You\"ll be back to the shirt off and pulled me back and pulled my shirt \"I\"ll be right back to my shirt \"I\"ll be back to the shirt and pulled my shirt and grabbed my shirt off my shirt and pulled my shirt and I\"ll be right shirt and pulled my shirt and pulled my shirt and pulled my shirt and I will be ready to the shirt and I\"ll be right shirt off my head off my shirt and I\"ll be right shirt off my shirt and pulled my head and grabbed my shirt off my shirt and I grabbed my shirt and grabbed my shirt and pulled my shirt and I grabbed my shirt and pulled my shirt and pulled my shirt and pulled my shirt and pulled my shirt \"I\"ll be back and I grabbed my shirt \"You don\"ll be right shirt off my shirt and I\"ll be right shirt off my shirt I grabbed my shirt and I\"ll be right shirt off my shirt and I pulled my shirt and grabbed my shirt and I grabbed my shirt and I grabbed my shirt and grabbed my shirt \"I\"ll be back and I pulled my shirt \"You\"ll be my shirt and pulled my shirt and pulled my shirt \"You\"ll be right behind my shirt and I will be right I\"ll get my shirt and I\"ll be back and pulled my shirt and I\"ll get your shirt off my shirt and I\"ll be back to the shirt off my shirt and I\"ll be my shirt off my shirt and I\"ll be the shirt and I\"ll be on and I\"ll be right here\"ll be back up and I\"ll go to my shirt and I\"ll be back to my shirt and I\"ll tell her and I\"ll be back to the rest of my shirt and I\"ll be right off my shirt to my shirt \"I need to my shirt and I grabbed my shirt and I\"ll be ready to my head and I\"ll be right now I grabbed my shirt and I\"ll go to my shirt and I\"ll be dead I\"ll go to the door \"I\"ll be back to the door \"I will be out of my shirt and I\"ll be back to the rest of course I\"ll be right now I\"ll be sure to my shirt and I\"ll be back to my shirt and I\"ll be able to my shirt \"You\"ll be done. I\"ll be ready to the door \"I\"ll be on my shirt and I\"ll be ready for this will be off my shirt \"I need to the rest of course I\" I\n",
      "3: \n",
      "Sarah smiled at me. I looked around. \"Uh... Purple shirt.\"\n",
      " the room, I saw that the other girls were wearing the same shirt. \"He\"s not the only one who is\n",
      "4: \n",
      "Sarah smiled at me. I looked around. \"Uh... Purple shirt.\"\n",
      " said. \"Yes.\" \"But, but I think you\"re right. \"What do you mean?\" \"I mean, you\"re not going to be in the next chapter.\" \"Oh. The only reason I can tell you is that you are the only person who\"s\n"
     ]
    }
   ],
   "source": [
    "text = \"\"\"\n",
    "<|startoftext|>Sarah smiled at me. I looked around. \"Uh... Purple shirt.\"\n",
    "\"\"\"\n",
    "generated = tokenizer(text, return_tensors=\"pt\").input_ids\n",
    "sample_outputs = model.generate(generated, do_sample=True, top_k=50, \n",
    "                                max_length=1000, top_p=0.95, temperature=.5, num_return_sequences=5)\n",
    "for i, sample_output in enumerate(sample_outputs):\n",
    "    print(\"{}: {}\".format(i, tokenizer.decode(sample_output, skip_special_tokens=True)))"
   ]
  },
  {
   "cell_type": "code",
   "execution_count": 8,
   "metadata": {},
   "outputs": [
    {
     "name": "stderr",
     "output_type": "stream",
     "text": [
      "Setting `pad_token_id` to `eos_token_id`:50256 for open-end generation.\n"
     ]
    },
    {
     "name": "stdout",
     "output_type": "stream",
     "text": [
      "0: \n",
      "Sarah smiled at me. I looked around. \"Uh... Purple shirt.\" \"My mummy said the goblin king should be ashamed, bringing a mortal here, and \n",
      "\"I was just joking, but she didn.\" I laughed. I had never laughed at the way her in front of the goblin. \"Oh, you mean you were talking... about her? You were talking about her? \"She... you were talking...\" \"Oh...\" I laughed. \"I mean she was a bit of an old lady, but I don't know... I just... I don... don\"t think she ever got to know who I am or what I mean...\" Sarah said, sounding a lot more serious than before.\n",
      "\"I don\"t think so.\" I laughed, but I didn't know it yet. She had been looking forward to the goblin invasion, but she had always been afraid. She had always felt a bit uneasy about the goblin people. They were all were so different. They didn\"t seem like they knew who she really was, but she knew that she would get to know them. They were her friends now, though. She felt like she had been betrayed. It was the goblin king of goblins who had betrayed her. The goblin army was now her army. She felt like it was time. She knew that it would come back to haunt the king. The goblin people were going out, but not for her, so she had no idea where\n",
      "1: \n",
      "Sarah smiled at me. I looked around. \"Uh... Purple shirt.\" \"My mummy said the goblin king should be ashamed, bringing a mortal here, and \n",
      "s not the goblin.\" \"It should be fine if the goblins bring the goblins.\" Sarah said, looking at me, and I nodded, \"I know... but it should take place in a place with people.\" \"I know, it should... but...\" \"The place is too small... and the goblins...\"\"Sarah, it doesn't take you too much time to think about the goblin... goblin...\" She paused, looking up to my face, \"It's the goblins who should take the place. I know that... but I don't want it...\" Sarah looked up into mine eyes... she had a strange feeling... \"I know... I know... but... I don't want... the place. I know... I don't want... to live...in this world. It... doesn\n",
      "matter what it means, or what the... goblin king thinks, or whatever. It matters what we're going to do with the goblin king... I... want him to live in a... peaceful place.\" I nodded in agreement. \"I want to live in peace... with a goblin king.\" Sarah said... in a voice that sounded as if she was speaking to herself... \"And I know it doesn't take too long for a man to think of his own... destiny, and he can be\n",
      "2: \n",
      "Sarah smiled at me. I looked around. \"Uh... Purple shirt.\" \"My mummy said the goblin king should be ashamed, bringing a mortal here, and \n",
      "telling them he is not a goblin.\" I laughed. \"Well... That was the last straw.\" Sarah said. \"You don't need to say this, but... I don't want to hear this anymore.\" The last straw for Sarah said, and then she smiled. \"Well...\" she paused and then looked up at the ceiling with a smile on her face...\n",
      "\"I want you, too!\" Sarah said as she pulled up in her chair with a grin and she leaned over to her sister with a smile on her face. \"Well,\" Sarah sighed, and her brother looked at her, and then she smiled again as she leaned over to the chair and sat her down.Sarah smiled at him and said.\n",
      "\"You want to hear this? I have some bad news for you, brother...\" Sarah paused, her face turning red again, but her voice was calm and calm, as usual. \"You are not going anywhere. Not for one second, you understand. And you will always be my sister, my brother.\"\n",
      "Sarah smiled at his brother, and Sarah laughed. Sarah had never been happier. She was going to be Sarah, she was going to live with him forever... and she was going to live on her sister, and Sarah had to make it work... and Sarah laughed.\n",
      "3: \n",
      "Sarah smiled at me. I looked around. \"Uh... Purple shirt.\" \"My mummy said the goblin king should be ashamed, bringing a mortal here, and \n",
      "Sarah looked down at the blue-haired man, who she assumed looked at, who was standing beside her. \"I don...\" \"I don\"t know if you understand what this is. This...\" \"I know this...\"s not my fault... I don\"t know why...I don\"m the king. I just got the message from the goblin king. I think it was a warning to me, that the goblins might be coming...\n",
      "The goblins were still coming, and they weren\n",
      "t stopping, even though the goblin king had warned them of the goblins. Sarah stood up, walked over to the goblin king. She looked around at the goblins in the crowd, and the goblins seemed to be looking back at her with a strange look in their eyes. \"Well, well...I think you should go back to the palace... I don\"t need you to be so... \"I\"ll leave it to you to make the right decisions, if you don\"t know what you are doing\"s right. I don\"t know why you think it\"s a goblin thing, but... I do.\" \"You\"ll have to leave the palace, I don,\" Sarah whispered. \"I\"d never want you here, and you can go.\" \"No\n",
      "4: \n",
      "Sarah smiled at me. I looked around. \"Uh... Purple shirt.\" \"My mummy said the goblin king should be ashamed, bringing a mortal here, and \n",
      "s, I mean, it's not that I can go back there, it is a little too close.\"\n",
      "\"I thought. \"I was just talking to my mother,\" Sarah said as she turned her head towards me.\" \"You're talking to the one who was in front. I thought that you might be one of those guys. It doesn't make sense.\" She sighed and rubbed her eyes as though she was tired, but her voice still sounded strong.\n",
      "\"I'm not a... goblin.\" \"I am not. I have a friend, a brother who was a Goblin.\"\n",
      "\"I know that\" \"But I don' want to know, I don' know what that goblin is, but I want to know what I'm supposed to tell him.\" Sarah sighed as she turned her back towards her friend and looked at me. \"I know that you're not one of those goblins. You're one of us, and that is why I'm telling you. You don' want to know, and you don' think that I'm not telling him what he wants to know.\" Sarah smiled at the sudden look of interest from my eyes. She looked at her mother, who was looking back at me, \"I am a goblin. And that means you don' need me.\"\n"
     ]
    }
   ],
   "source": [
    "text = \"\"\"\n",
    "Sarah smiled at me. I looked around. \"Uh... Purple shirt.\" \"My mummy said the goblin king should be ashamed, bringing a mortal here, and <|startoftext|>\n",
    "\"\"\"\n",
    "generated = tokenizer(text, return_tensors=\"pt\").input_ids.cuda()\n",
    "sample_outputs = model.generate(generated, do_sample=True, top_k=5, \n",
    "                                max_length=300, top_p=0.95, temperature=1.9, num_return_sequences=5)\n",
    "for i, sample_output in enumerate(sample_outputs):\n",
    "    print(\"{}: {}\".format(i, tokenizer.decode(sample_output, skip_special_tokens=True)))"
   ]
  }
 ],
 "metadata": {
  "kernelspec": {
   "display_name": "Python 3",
   "language": "python",
   "name": "python3"
  },
  "language_info": {
   "codemirror_mode": {
    "name": "ipython",
    "version": 3
   },
   "file_extension": ".py",
   "mimetype": "text/x-python",
   "name": "python",
   "nbconvert_exporter": "python",
   "pygments_lexer": "ipython3",
   "version": "3.8.6"
  }
 },
 "nbformat": 4,
 "nbformat_minor": 4
}
