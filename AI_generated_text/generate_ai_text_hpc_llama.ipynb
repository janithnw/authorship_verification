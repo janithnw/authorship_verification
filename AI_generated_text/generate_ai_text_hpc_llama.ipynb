{
 "cells": [
  {
   "cell_type": "code",
   "execution_count": null,
   "id": "95cf469b",
   "metadata": {},
   "outputs": [],
   "source": [
    "!pip install --upgrade ipython"
   ]
  },
  {
   "cell_type": "code",
   "execution_count": null,
   "id": "579ab0c1",
   "metadata": {},
   "outputs": [],
   "source": [
    "!pip uninstall transformers --Y"
   ]
  },
  {
   "cell_type": "code",
   "execution_count": null,
   "id": "82c3d17c",
   "metadata": {},
   "outputs": [],
   "source": [
    "import os\n",
    "import sys\n",
    "sys.path.append(\"../\")"
   ]
  },
  {
   "cell_type": "code",
   "execution_count": null,
   "id": "26dffb3d",
   "metadata": {},
   "outputs": [],
   "source": [
    "import pickle\n",
    "import json\n",
    "import glob\n",
    "from tqdm.auto import trange, tqdm  \n",
    "from transformers import pipeline\n",
    "from features import merge_entries, prepare_entry\n",
    "import nltk\n",
    "from utills import chunker"
   ]
  },
  {
   "cell_type": "code",
   "execution_count": null,
   "id": "17a1299f",
   "metadata": {},
   "outputs": [],
   "source": [
    "python3 -m pip install --upgrade transformers"
   ]
  },
  {
   "cell_type": "code",
   "execution_count": null,
   "id": "59735fdc",
   "metadata": {
    "scrolled": true
   },
   "outputs": [],
   "source": [
    "!pip3 install git+https://github.com/huggingface/transformers"
   ]
  },
  {
   "cell_type": "code",
   "execution_count": null,
   "id": "50f3174c",
   "metadata": {},
   "outputs": [],
   "source": [
    "import transformers\n",
    "from transformers import AutoTokenizer\n",
    "from transformers import LlamaForCausalLM"
   ]
  },
  {
   "cell_type": "code",
   "execution_count": null,
   "id": "d49f7233",
   "metadata": {
    "lines_to_next_cell": 2
   },
   "outputs": [],
   "source": [
    "'''\n",
    "PREPROCESSED_DATA_PATH = '../temp_data/pan/'\n",
    "DATA_DIR = '../data/pan/'\n",
    "GROUND_TRUTH_PATH = DATA_DIR + 'pan20-authorship-verification-training-large-truth.jsonl'\n",
    "TEMP_DATA_PATH = '../temp_data/ai/'\n",
    "'''\n",
    "\n",
    "PREPROCESSED_DATA_PATH = '../temp_data/pan/'\n",
    "DATA_DIR = '/home/ovendra/authorship_verification-main/pan/'\n",
    "GROUND_TRUTH_PATH = DATA_DIR + 'pan20-authorship-verification-training-large-truth.jsonl'\n",
    "TEMP_DATA_PATH = '/home/ovendra/authorship_verification-main/temp_data/'"
   ]
  },
  {
   "cell_type": "code",
   "execution_count": null,
   "id": "7c1b97b1",
   "metadata": {},
   "outputs": [],
   "source": [
    "MAX_RECORDS = 10\n",
    "NUM_MACHINES = 10"
   ]
  },
  {
   "cell_type": "code",
   "execution_count": null,
   "id": "e574d601",
   "metadata": {
    "lines_to_next_cell": 1
   },
   "outputs": [],
   "source": [
    "def generate_ai_and_human_text_pair(text_generation, nltk_tokenizer, preprocessed_doc):\n",
    "    prompt_prefix = \"Complete the next X paragraphs from this fanfiction about {fandom}. Ensure to use the same writing style as the original fanfiction: \"\n",
    "    prompt_texts = [prompt_prefix['preprocessed'] for i, c in enumerate(preprocessed_doc) if i % 2 == 0]\n",
    "    \n",
    "    generated_texts = text_generation(prompt_texts, max_length=450)\n",
    "    generated_text = '\\n'.join([gt[0]['generated_text'].replace(pt, '') for gt, pt in zip(generated_texts, prompt_texts)])\n",
    "    \n",
    "    spans = list(nltk_tokenizer.span_tokenize(generated_text))\n",
    "    groups = chunker(spans, 110)\n",
    "    generated_texts_preprocessed = [prepare_entry(generated_text[spans[0][0]:spans[-1][1]], mode='accurate', tokenizer='casual') for spans in groups]\n",
    "    return preprocessed_doc, generated_texts_preprocessed"
   ]
  },
  {
   "cell_type": "code",
   "execution_count": null,
   "id": "3c51af2f",
   "metadata": {},
   "outputs": [],
   "source": [
    "sys.argv[1] = 0"
   ]
  },
  {
   "cell_type": "code",
   "execution_count": null,
   "id": "4cdcd953",
   "metadata": {},
   "outputs": [],
   "source": [
    "if __name__ == \"__main__\":\n",
    "    instance_id = int(sys.argv[1])\n",
    "    print('Instance ID for this machine:', instance_id, flush=True)\n",
    "    \n",
    "    \n",
    "    ground_truth = {}\n",
    "    with open(GROUND_TRUTH_PATH, 'r') as f:\n",
    "        for l in f:\n",
    "            d = json.loads(l)\n",
    "            ground_truth[d['id']] = d['same']\n",
    "            \n",
    "\n",
    "    fanfic_recs = []\n",
    "    with open(PREPROCESSED_DATA_PATH + 'preprocessed_test.jsonl', 'r') as f:\n",
    "        for l in tqdm(f):\n",
    "            d = json.loads(l)\n",
    "            if ground_truth[d['id']] == True:\n",
    "                fanfic_recs.append(d)\n",
    "            if len(fanfic_recs) > MAX_RECORDS:\n",
    "                break\n",
    "    \n",
    "    print('Loading models...', flush=True)                \n",
    "    \n",
    "    model = LlamaForCausalLM.from_pretrained(\"../temp_data/llama-weights/output/path\")\n",
    "    tokenizer = AutoTokenizer.from_pretrained(\"../temp_data/llama-weights/output/path/tokenizer.model\")    \n",
    "    \n",
    "    \n",
    "    text_generation = pipeline('text-generation', model=model, tokenizer=tokenizer)\n",
    "    \n",
    "    job_sz = MAX_RECORDS // NUM_MACHINES\n",
    "    start_rec = instance_id * job_sz\n",
    "    end_rec = (instance_id + 1) * job_sz\n",
    "    fanfic_recs = fanfic_recs[start_rec:end_rec]\n",
    "    nltk_tokenizer = nltk.tokenize.WhitespaceTokenizer()\n",
    "\n",
    "    print('Recs on this machine:', (end_rec - start_rec), flush=True)\n",
    "    with open(TEMP_DATA_PATH + 'human_ai_preprocessed' + str(instance_id) + '.jsonl', 'w') as f_out:\n",
    "        for d in tqdm(fanfic_recs):\n",
    "            d1_human, d1_ai = generate_ai_and_human_text_pair(text_generation, nltk_tokenizer, d['pair'][0])\n",
    "            d2_human, d2_ai = generate_ai_and_human_text_pair(text_generation, nltk_tokenizer, d['pair'][1])\n",
    "\n",
    "            preprocessed = {\n",
    "                'id': d['id'],\n",
    "                'fandoms': d['fandoms'],\n",
    "                'pair': [\n",
    "                    {'human': d1_human, 'ai': d1_ai},\n",
    "                    {'human': d2_human, 'ai': d2_ai}\n",
    "                ]\n",
    "            }\n",
    "            json.dump(preprocessed, f_out)\n",
    "            f_out.write('\\n')\n",
    "            f_out.flush()"
   ]
  },
  {
   "cell_type": "code",
   "execution_count": null,
   "id": "00092ef9",
   "metadata": {},
   "outputs": [],
   "source": []
  }
 ],
 "metadata": {
  "jupytext": {
   "cell_metadata_filter": "-all",
   "main_language": "python",
   "notebook_metadata_filter": "-all"
  },
  "kernelspec": {
   "display_name": "Python 3 (ipykernel)",
   "language": "python",
   "name": "python3"
  },
  "language_info": {
   "codemirror_mode": {
    "name": "ipython",
    "version": 3
   },
   "file_extension": ".py",
   "mimetype": "text/x-python",
   "name": "python",
   "nbconvert_exporter": "python",
   "pygments_lexer": "ipython3",
   "version": "3.8.12"
  }
 },
 "nbformat": 4,
 "nbformat_minor": 5
}
