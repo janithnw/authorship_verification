{
 "cells": [
  {
   "cell_type": "code",
   "execution_count": 1,
   "metadata": {
    "collapsed": true
   },
   "outputs": [],
   "source": [
    "%load_ext autoreload\n",
    "%autoreload 2\n",
    "import sys\n",
    "sys.path.append(\"../\")"
   ]
  },
  {
   "cell_type": "code",
   "execution_count": 2,
   "metadata": {
    "collapsed": true
   },
   "outputs": [],
   "source": [
    "import pickle\n",
    "import json\n",
    "import numpy as np\n",
    "from features import merge_entries\n",
    "from utills import chunker, cartesian_product\n",
    "from tqdm.auto import trange, tqdm\n",
    "from sklearn.metrics import precision_recall_curve\n",
    "from sklearn.metrics import roc_curve, auc"
   ]
  },
  {
   "cell_type": "code",
   "execution_count": 3,
   "metadata": {
    "collapsed": true
   },
   "outputs": [],
   "source": [
    "TEMP_DATA_PATH = '../temp_data/pan/'\n",
    "RESULTS_PATH = '../temp_data/pan/combined_results/'\n",
    "PREPROCESSED_DATA_PATH = '../temp_data/pan/'\n",
    "DATA_DIR = '../data/pan/'\n",
    "GROUND_TRUTH_PATH = DATA_DIR + 'pan20-authorship-verification-training-large-truth.jsonl'\n",
    "# chunk_sz=30\n",
    "chunk_sz=5\n",
    "test_sz = 81963"
   ]
  },
  {
   "cell_type": "code",
   "execution_count": 4,
   "metadata": {
    "collapsed": true
   },
   "outputs": [],
   "source": [
    "# Full, unchunked model\n",
    "with open(TEMP_DATA_PATH + 'model.p', 'rb') as f:\n",
    "    (clf_nc, transformer_nc, scaler_nc, secondary_scaler_nc) = pickle.load(f)\n",
    "    \n",
    "# Limitted, unchunked model\n",
    "# with open(TEMP_DATA_PATH + 'model_limitted_data.p', 'rb') as f:\n",
    "#     (clf_nc, transformer_nc, scaler_nc, secondary_scaler_nc) = pickle.load(f)"
   ]
  },
  {
   "cell_type": "code",
   "execution_count": 5,
   "metadata": {
    "collapsed": true
   },
   "outputs": [],
   "source": [
    "# # Chunked model\n",
    "# with open(TEMP_DATA_PATH + 'split_models/model.p', 'rb') as f:\n",
    "#     (clf, transformer, scaler, secondary_scaler) = pickle.load(f)\n",
    "    \n",
    "    \n",
    "# # Chunked model\n",
    "# with open(TEMP_DATA_PATH + 'split_models/model_15.p', 'rb') as f:\n",
    "#     (clf, transformer, scaler, secondary_scaler) = pickle.load(f)\n",
    "\n",
    "# Chunked model\n",
    "with open(TEMP_DATA_PATH + 'split_models/model_5.p', 'rb') as f:\n",
    "    (clf, transformer, scaler, secondary_scaler) = pickle.load(f)\n",
    "    \n",
    "# Chunked model, limitted data\n",
    "# with open(TEMP_DATA_PATH + 'split_models/model_5_limitted_data.p', 'rb') as f:\n",
    "#     (clf, transformer, scaler, secondary_scaler) = pickle.load(f)\n",
    "    \n",
    "# Chunked model, limitted data\n",
    "# with open(TEMP_DATA_PATH + 'split_models/model_10_limitted_data.p', 'rb') as f:\n",
    "#     (clf, transformer, scaler, secondary_scaler) = pickle.load(f)"
   ]
  },
  {
   "cell_type": "code",
   "execution_count": 6,
   "metadata": {
    "collapsed": true
   },
   "outputs": [],
   "source": [
    "ground_truth = {}\n",
    "with open(GROUND_TRUTH_PATH, 'r') as f:\n",
    "    for l in f:\n",
    "        d = json.loads(l)\n",
    "        ground_truth[d['id']] = d['same']"
   ]
  },
  {
   "cell_type": "code",
   "execution_count": 7,
   "metadata": {
    "scrolled": true
   },
   "outputs": [
    {
     "data": {
      "application/vnd.jupyter.widget-view+json": {
       "model_id": "1db3a79052ef4021bf149dbc51005672"
      }
     },
     "metadata": {},
     "output_type": "display_data"
    },
    {
     "name": "stdout",
     "output_type": "stream",
     "text": [
      "\n"
     ]
    }
   ],
   "source": [
    "labels = []\n",
    "\n",
    "probs_nc = []\n",
    "\n",
    "inter_probs_mean = []\n",
    "inter_probs_std = []\n",
    "\n",
    "intraA_probs_mean = []\n",
    "intraA_probs_std = []\n",
    "\n",
    "intraB_probs_mean = []\n",
    "intraB_probs_std = []\n",
    "pred_lengths = []\n",
    "\n",
    "with open(PREPROCESSED_DATA_PATH + 'preprocessed_test.jsonl', 'r') as f:\n",
    "    for l in tqdm(f, total=test_sz):\n",
    "#         if np.random.rand() > 0.1:\n",
    "#             continue\n",
    "        \n",
    "        d = json.loads(l)\n",
    "        l = []\n",
    "        \n",
    "        docs_merged_1 = [merge_entries(c) for c in list(chunker(d['pair'][0], chunk_sz))]\n",
    "        docs_merged_2 = [merge_entries(c) for c in list(chunker(d['pair'][1], chunk_sz))]\n",
    "\n",
    "        X_1 = scaler.transform(transformer.transform(docs_merged_1).todense())\n",
    "        X_2 = scaler.transform(transformer.transform(docs_merged_2).todense())\n",
    "\n",
    "        idxs = cartesian_product(range(len(X_1)), range(len(X_2)))\n",
    "        \n",
    "        x_diff = secondary_scaler.transform(np.abs(X_1[idxs[:, 0]] - X_2[idxs[:, 1]]))\n",
    "        x_diff[np.isnan(x_diff)]=0\n",
    "        p = clf.predict_proba(x_diff)[:, 1]\n",
    "        \n",
    "        inter_probs_mean.append(p.mean())\n",
    "        inter_probs_std.append(p.std())\n",
    "        l.append(len(p))\n",
    "        \n",
    "        \n",
    "        idxs = cartesian_product(range(len(X_1)), range(len(X_1)))\n",
    "        idxs = np.array([(i, j) for i, j in idxs if i != j])\n",
    "        if len(idxs) > 0:\n",
    "            x_diff = secondary_scaler.transform(np.abs(X_1[idxs[:, 0]] - X_1[idxs[:, 1]]))\n",
    "            x_diff[np.isnan(x_diff)]=0\n",
    "            p = clf.predict_proba(x_diff)[:, 1]\n",
    "            intraA_probs_mean.append(p.mean())\n",
    "            intraA_probs_std.append(p.std())\n",
    "            l.append(len(p))\n",
    "        else:\n",
    "            intraA_probs_mean.append(np.nan)\n",
    "            intraA_probs_std.append(np.nan)\n",
    "            l.append(0)\n",
    "        \n",
    "        idxs = cartesian_product(range(len(X_2)), range(len(X_2)))\n",
    "        idxs = np.array([(i, j) for i, j in idxs if i != j])\n",
    "        if len(idxs) > 0:\n",
    "            x_diff = secondary_scaler.transform(np.abs(X_2[idxs[:, 0]] - X_2[idxs[:, 1]]))\n",
    "            x_diff[np.isnan(x_diff)]=0\n",
    "            p = clf.predict_proba(x_diff)[:, 1]\n",
    "            intraB_probs_mean.append(p.mean())\n",
    "            intraB_probs_std.append(p.std())\n",
    "            l.append(len(p))\n",
    "        else:\n",
    "            intraB_probs_mean.append(np.nan)\n",
    "            intraB_probs_std.append(np.nan)\n",
    "            l.append(0)\n",
    "            \n",
    "        pred_lengths.append(l)\n",
    "        \n",
    "        \n",
    "        \n",
    "        labels.append(ground_truth[d['id']])\n",
    "\n",
    "        X_1 = scaler_nc.transform(transformer_nc.transform([merge_entries(d['pair'][0])]).todense())\n",
    "        X_2 = scaler_nc.transform(transformer_nc.transform([merge_entries(d['pair'][1])]).todense())\n",
    "        p = clf_nc.predict_proba(secondary_scaler_nc.transform(np.abs(X_1 - X_2)))[0, 1]\n",
    "        probs_nc.append(p)\n",
    "            "
   ]
  },
  {
   "cell_type": "code",
   "execution_count": 9,
   "metadata": {
    "collapsed": true
   },
   "outputs": [],
   "source": [
    "\n",
    "inter_probs_mean = np.array(inter_probs_mean)\n",
    "intraA_probs_mean = np.array(intraA_probs_mean)\n",
    "intraB_probs_mean = np.array(intraB_probs_mean)\n",
    "inter_probs_std = np.array(inter_probs_std)\n",
    "intraA_probs_std = np.array(intraA_probs_std)\n",
    "intraB_probs_std = np.array(intraB_probs_std)\n",
    "labels = np.array(labels)\n",
    "pred_lengths = np.array(pred_lengths)\n",
    "\n",
    "\n",
    "probs_nc = np.array(probs_nc)\n",
    "\n",
    "n_a = pred_lengths[:, 0]\n",
    "n_b = pred_lengths[:, 1]\n",
    "n_ab = pred_lengths[:, 2]\n",
    "\n",
    "intra_probs_mean = (intraA_probs_mean * n_a + intraB_probs_mean * n_b)/ (n_a + n_b)\n",
    "intra_probs_std = (\n",
    "        n_a * (intraA_probs_std ** 2 + (intraA_probs_mean - intra_probs_mean)**2) + \n",
    "        n_b * (intraB_probs_std ** 2 + (intraB_probs_mean - intra_probs_mean)**2)\n",
    "    ) / (n_a + n_b)\n",
    "\n",
    "\n",
    "pooled_mean = (intra_probs_mean * (n_a + n_b) + inter_probs_mean * n_ab)/ (n_a + n_b + n_ab)\n",
    "pooled_std = (\n",
    "        (n_a + n_b) * (intra_probs_mean ** 2 + (intra_probs_mean - pooled_mean)**2) + \n",
    "        n_ab * (inter_probs_mean ** 2 + (inter_probs_mean - pooled_mean)**2)\n",
    "    ) / (n_a + n_b + n_ab)"
   ]
  },
  {
   "cell_type": "code",
   "execution_count": 10,
   "metadata": {
    "collapsed": true
   },
   "outputs": [],
   "source": [
    "intra_probs_mean[np.isnan(intra_probs_mean)] = 0.5\n",
    "pooled_std[np.isnan(pooled_std)] = 0.5\n",
    "pooled_mean[np.isnan(pooled_mean)] = 0.5"
   ]
  },
  {
   "cell_type": "code",
   "execution_count": 11,
   "metadata": {},
   "outputs": [
    {
     "data": {
      "text/plain": [
       "5"
      ]
     },
     "execution_count": 11,
     "metadata": {},
     "output_type": "execute_result"
    }
   ],
   "source": [
    "chunk_sz"
   ]
  },
  {
   "cell_type": "code",
   "execution_count": 14,
   "metadata": {},
   "outputs": [
    {
     "data": {
      "text/plain": [
       "10"
      ]
     },
     "execution_count": 14,
     "metadata": {},
     "output_type": "execute_result"
    }
   ],
   "source": [
    "# Chunk Sz 5, full data"
   ]
  },
  {
   "cell_type": "code",
   "execution_count": 16,
   "metadata": {},
   "outputs": [
    {
     "name": "stdout",
     "output_type": "stream",
     "text": [
      "Inter prob mean AUC: 0.900089\n",
      "Z Score diff 0.877\n",
      "Abs mean diff AUC 0.918\n",
      "Abs mean diff / pooled std AUC 0.917\n",
      "Unchunked AUC: 0.9703022168840594\n",
      "Unchunked + Inter-Intra diff: 0.9684649932488104\n",
      "Unchunked * Inter-Intra diff: 0.9703482092725797\n"
     ]
    },
    {
     "name": "stderr",
     "output_type": "stream",
     "text": [
      "/usr/local/lib/python3.6/dist-packages/ipykernel_launcher.py:6: RuntimeWarning: invalid value encountered in true_divide\n",
      "  \n"
     ]
    }
   ],
   "source": [
    "# Chunk Sz 10, full data\n",
    "fpr, tpr, thresh = roc_curve(labels, inter_probs_mean)\n",
    "roc_auc = auc(fpr, tpr)\n",
    "print('Inter prob mean AUC:', round(roc_auc, 6))\n",
    "\n",
    "pp = np.abs(inter_probs_mean - intra_probs_mean)/np.sqrt(inter_probs_std**2/n_ab + intra_probs_std**2/(n_a+n_b))\n",
    "pp[np.isnan(pp)] = 0.5\n",
    "fpr, tpr, thresh = roc_curve(labels, pp)\n",
    "roc_auc = 1 - auc(fpr, tpr)\n",
    "print('Z Score diff', round(roc_auc, 3))\n",
    "\n",
    "fpr, tpr, thresh = roc_curve(labels, (1 - np.abs(inter_probs_mean - intra_probs_mean)))\n",
    "roc_auc = auc(fpr, tpr)\n",
    "print('Abs mean diff AUC', round(roc_auc, 3))\n",
    "\n",
    "fpr, tpr, thresh = roc_curve(labels, (1 - 2 * np.abs(inter_probs_mean - intra_probs_mean)/(pooled_std)))\n",
    "roc_auc = auc(fpr, tpr)\n",
    "print('Abs mean diff / pooled std AUC', round(roc_auc, 3))\n",
    "\n",
    "fpr, tpr, thresh = roc_curve(labels, probs_nc)\n",
    "roc_auc = auc(fpr, tpr)\n",
    "print('Unchunked AUC:', roc_auc)\n",
    "\n",
    "fpr, tpr, thresh = roc_curve(labels, 0.5 * (probs_nc + (1 - np.abs(inter_probs_mean - intra_probs_mean))))\n",
    "roc_auc = auc(fpr, tpr)\n",
    "print('Unchunked + Inter-Intra diff:', roc_auc)\n",
    "\n",
    "\n",
    "fpr, tpr, thresh = roc_curve(labels, (probs_nc * (1 - np.abs(inter_probs_mean - intra_probs_mean))))\n",
    "roc_auc = auc(fpr, tpr)\n",
    "print('Unchunked * Inter-Intra diff:', roc_auc)\n",
    "\n",
    "with open(RESULTS_PATH + 'results_' + str(chunk_sz) + '.p', 'wb') as f:\n",
    "    pickle.dump((\n",
    "        inter_probs_mean,\n",
    "        intraA_probs_mean,\n",
    "        intraB_probs_mean,\n",
    "        inter_probs_std,\n",
    "        intraA_probs_std,\n",
    "        intraB_probs_std,\n",
    "        labels,\n",
    "        pred_lengths,\n",
    "        probs_nc\n",
    "    ), f)"
   ]
  },
  {
   "cell_type": "code",
   "execution_count": 23,
   "metadata": {},
   "outputs": [
    {
     "name": "stdout",
     "output_type": "stream",
     "text": [
      "Inter prob mean AUC: 0.951128\n",
      "Z Score diff 0.935\n",
      "Abs mean diff AUC 0.952\n",
      "Abs mean diff / pooled std AUC 0.953\n",
      "Unchunked AUC: 0.9497490308055819\n",
      "Unchunked + Inter-Intra diff: 0.9534875111906185\n",
      "Unchunked * Inter-Intra diff: 0.9530706122116563\n"
     ]
    },
    {
     "name": "stderr",
     "output_type": "stream",
     "text": [
      "/usr/local/lib/python3.6/dist-packages/ipykernel_launcher.py:6: RuntimeWarning: divide by zero encountered in true_divide\n",
      "  \n"
     ]
    }
   ],
   "source": [
    "# Chunk Sz 10, limited data \n",
    "fpr, tpr, thresh = roc_curve(labels, inter_probs_mean)\n",
    "roc_auc = auc(fpr, tpr)\n",
    "print('Inter prob mean AUC:', round(roc_auc, 6))\n",
    "\n",
    "pp = np.abs(inter_probs_mean - intra_probs_mean)/np.sqrt(inter_probs_std**2/n_ab + intra_probs_std**2/(n_a+n_b))\n",
    "pp[np.isnan(pp)] = 0.5\n",
    "fpr, tpr, thresh = roc_curve(labels, pp)\n",
    "roc_auc = 1 - auc(fpr, tpr)\n",
    "print('Z Score diff', round(roc_auc, 3))\n",
    "\n",
    "fpr, tpr, thresh = roc_curve(labels, (1 - np.abs(inter_probs_mean - intra_probs_mean)))\n",
    "roc_auc = auc(fpr, tpr)\n",
    "print('Abs mean diff AUC', round(roc_auc, 3))\n",
    "\n",
    "fpr, tpr, thresh = roc_curve(labels, (1 - 2 * np.abs(inter_probs_mean - intra_probs_mean)/(pooled_std)))\n",
    "roc_auc = auc(fpr, tpr)\n",
    "print('Abs mean diff / pooled std AUC', round(roc_auc, 3))\n",
    "\n",
    "fpr, tpr, thresh = roc_curve(labels, probs_nc)\n",
    "roc_auc = auc(fpr, tpr)\n",
    "print('Unchunked AUC:', roc_auc)\n",
    "\n",
    "fpr, tpr, thresh = roc_curve(labels, 0.5 * (probs_nc + (1 - np.abs(inter_probs_mean - intra_probs_mean))))\n",
    "roc_auc = auc(fpr, tpr)\n",
    "print('Unchunked + Inter-Intra diff:', roc_auc)\n",
    "\n",
    "\n",
    "fpr, tpr, thresh = roc_curve(labels, (probs_nc * (1 - np.abs(inter_probs_mean - intra_probs_mean))))\n",
    "roc_auc = auc(fpr, tpr)\n",
    "print('Unchunked * Inter-Intra diff:', roc_auc)\n",
    "\n",
    "with open(RESULTS_PATH + 'results_' + str(chunk_sz) + '_limited_data.p', 'wb') as f:\n",
    "    pickle.dump((\n",
    "        inter_probs_mean,\n",
    "        intraA_probs_mean,\n",
    "        intraB_probs_mean,\n",
    "        inter_probs_std,\n",
    "        intraA_probs_std,\n",
    "        intraB_probs_std,\n",
    "        labels,\n",
    "        pred_lengths,\n",
    "        probs_nc\n",
    "    ), f)"
   ]
  },
  {
   "cell_type": "code",
   "execution_count": 16,
   "metadata": {},
   "outputs": [
    {
     "name": "stdout",
     "output_type": "stream",
     "text": [
      "Inter prob mean AUC: 0.952075\n",
      "Z Score diff 0.948\n",
      "Abs mean diff AUC 0.949\n",
      "Abs mean diff / pooled std AUC 0.955\n",
      "Unchunked AUC: 0.9497490308055819\n",
      "Unchunked + Inter-Intra diff: 0.9513507595545881\n",
      "Unchunked * Inter-Intra diff: 0.9508999975616909\n"
     ]
    },
    {
     "name": "stderr",
     "output_type": "stream",
     "text": [
      "/usr/local/lib/python3.6/dist-packages/ipykernel_launcher.py:6: RuntimeWarning: invalid value encountered in true_divide\n",
      "  \n"
     ]
    }
   ],
   "source": [
    "# Chunk Sz 5, limited data\n",
    "fpr, tpr, thresh = roc_curve(labels, inter_probs_mean)\n",
    "roc_auc = auc(fpr, tpr)\n",
    "print('Inter prob mean AUC:', round(roc_auc, 6))\n",
    "\n",
    "pp = np.abs(inter_probs_mean - intra_probs_mean)/np.sqrt(inter_probs_std**2/n_ab + intra_probs_std**2/(n_a+n_b))\n",
    "pp[np.isnan(pp)] = 0.5\n",
    "fpr, tpr, thresh = roc_curve(labels, pp)\n",
    "roc_auc = 1 - auc(fpr, tpr)\n",
    "print('Z Score diff', round(roc_auc, 3))\n",
    "\n",
    "fpr, tpr, thresh = roc_curve(labels, (1 - np.abs(inter_probs_mean - intra_probs_mean)))\n",
    "roc_auc = auc(fpr, tpr)\n",
    "print('Abs mean diff AUC', round(roc_auc, 3))\n",
    "\n",
    "fpr, tpr, thresh = roc_curve(labels, (1 - 2 * np.abs(inter_probs_mean - intra_probs_mean)/(pooled_std)))\n",
    "roc_auc = auc(fpr, tpr)\n",
    "print('Abs mean diff / pooled std AUC', round(roc_auc, 3))\n",
    "\n",
    "fpr, tpr, thresh = roc_curve(labels, probs_nc)\n",
    "roc_auc = auc(fpr, tpr)\n",
    "print('Unchunked AUC:', roc_auc)\n",
    "\n",
    "fpr, tpr, thresh = roc_curve(labels, 0.5 * (probs_nc + (1 - np.abs(inter_probs_mean - intra_probs_mean))))\n",
    "roc_auc = auc(fpr, tpr)\n",
    "print('Unchunked + Inter-Intra diff:', roc_auc)\n",
    "\n",
    "\n",
    "fpr, tpr, thresh = roc_curve(labels, (probs_nc * (1 - np.abs(inter_probs_mean - intra_probs_mean))))\n",
    "roc_auc = auc(fpr, tpr)\n",
    "print('Unchunked * Inter-Intra diff:', roc_auc)\n",
    "\n",
    "with open(RESULTS_PATH + 'results_' + str(chunk_sz) + '_limited_data.p', 'wb') as f:\n",
    "    pickle.dump((\n",
    "        inter_probs_mean,\n",
    "        intraA_probs_mean,\n",
    "        intraB_probs_mean,\n",
    "        inter_probs_std,\n",
    "        intraA_probs_std,\n",
    "        intraB_probs_std,\n",
    "        labels,\n",
    "        pred_lengths,\n",
    "        probs_nc\n",
    "    ), f)"
   ]
  },
  {
   "cell_type": "code",
   "execution_count": 49,
   "metadata": {},
   "outputs": [
    {
     "name": "stdout",
     "output_type": "stream",
     "text": [
      "Inter prob mean AUC: 0.956919\n",
      "Z Score diff 0.918\n",
      "Abs mean diff AUC 0.954\n",
      "Abs mean diff / pooled std AUC 0.954\n",
      "Unchunked AUC: 0.9703022168840594\n",
      "Unchunked + Inter-Intra diff: 0.9710349130076832\n",
      "Unchunked * Inter-Intra diff: 0.9717032780131589\n"
     ]
    },
    {
     "name": "stderr",
     "output_type": "stream",
     "text": [
      "/usr/local/lib/python3.6/dist-packages/ipykernel_launcher.py:6: RuntimeWarning: divide by zero encountered in true_divide\n",
      "  \n",
      "/usr/local/lib/python3.6/dist-packages/ipykernel_launcher.py:6: RuntimeWarning: invalid value encountered in true_divide\n",
      "  \n"
     ]
    }
   ],
   "source": [
    "# Chunk Sz 30, full training data\n",
    "fpr, tpr, thresh = roc_curve(labels, inter_probs_mean)\n",
    "roc_auc = auc(fpr, tpr)\n",
    "print('Inter prob mean AUC:', round(roc_auc, 6))\n",
    "\n",
    "pp = np.abs(inter_probs_mean - intra_probs_mean)/np.sqrt(inter_probs_std**2/n_ab + intra_probs_std**2/(n_a+n_b))\n",
    "pp[np.isnan(pp)] = 0.5\n",
    "fpr, tpr, thresh = roc_curve(labels, pp)\n",
    "roc_auc = 1 - auc(fpr, tpr)\n",
    "print('Z Score diff', round(roc_auc, 3))\n",
    "\n",
    "fpr, tpr, thresh = roc_curve(labels, (1 - np.abs(inter_probs_mean - intra_probs_mean)))\n",
    "roc_auc = auc(fpr, tpr)\n",
    "print('Abs mean diff AUC', round(roc_auc, 3))\n",
    "\n",
    "fpr, tpr, thresh = roc_curve(labels, (1 - 2 * np.abs(inter_probs_mean - intra_probs_mean)/(pooled_std)))\n",
    "roc_auc = auc(fpr, tpr)\n",
    "print('Abs mean diff / pooled std AUC', round(roc_auc, 3))\n",
    "\n",
    "fpr, tpr, thresh = roc_curve(labels, probs_nc)\n",
    "roc_auc = auc(fpr, tpr)\n",
    "print('Unchunked AUC:', roc_auc)\n",
    "\n",
    "fpr, tpr, thresh = roc_curve(labels, 0.5 * (probs_nc + (1 - np.abs(inter_probs_mean - intra_probs_mean))))\n",
    "roc_auc = auc(fpr, tpr)\n",
    "print('Unchunked + Inter-Intra diff:', roc_auc)\n",
    "\n",
    "\n",
    "fpr, tpr, thresh = roc_curve(labels, (probs_nc * (1 - np.abs(inter_probs_mean - intra_probs_mean))))\n",
    "roc_auc = auc(fpr, tpr)\n",
    "print('Unchunked * Inter-Intra diff:', roc_auc)\n",
    "\n",
    "with open(RESULTS_PATH + 'results_' + str(chunk_sz) + '.p', 'wb') as f:\n",
    "    pickle.dump((\n",
    "        inter_probs_mean,\n",
    "        intraA_probs_mean,\n",
    "        intraB_probs_mean,\n",
    "        inter_probs_std,\n",
    "        intraA_probs_std,\n",
    "        intraB_probs_std,\n",
    "        labels,\n",
    "        pred_lengths,\n",
    "        probs_nc\n",
    "    ), f)"
   ]
  },
  {
   "cell_type": "code",
   "execution_count": 14,
   "metadata": {},
   "outputs": [
    {
     "name": "stdout",
     "output_type": "stream",
     "text": [
      "Inter prob mean AUC: 0.95748\n",
      "Z Score diff 0.946\n",
      "Abs mean diff AUC 0.957\n",
      "Abs mean diff / pooled std AUC 0.957\n",
      "Unchunked AUC: 0.9703022168840594\n",
      "Unchunked + Inter-Intra diff: 0.9719958386477112\n",
      "Unchunked * Inter-Intra diff: 0.9722288960019245\n"
     ]
    },
    {
     "name": "stderr",
     "output_type": "stream",
     "text": [
      "/usr/local/lib/python3.6/dist-packages/ipykernel_launcher.py:6: RuntimeWarning: invalid value encountered in true_divide\n",
      "  \n"
     ]
    }
   ],
   "source": [
    "# Chunk Sz 15, full training data\n",
    "fpr, tpr, thresh = roc_curve(labels, inter_probs_mean)\n",
    "roc_auc = auc(fpr, tpr)\n",
    "print('Inter prob mean AUC:', round(roc_auc, 6))\n",
    "\n",
    "pp = np.abs(inter_probs_mean - intra_probs_mean)/np.sqrt(inter_probs_std**2/n_ab + intra_probs_std**2/(n_a+n_b))\n",
    "pp[np.isnan(pp)] = 0.5\n",
    "fpr, tpr, thresh = roc_curve(labels, pp)\n",
    "roc_auc = 1 - auc(fpr, tpr)\n",
    "print('Z Score diff', round(roc_auc, 3))\n",
    "\n",
    "fpr, tpr, thresh = roc_curve(labels, (1 - np.abs(inter_probs_mean - intra_probs_mean)))\n",
    "roc_auc = auc(fpr, tpr)\n",
    "print('Abs mean diff AUC', round(roc_auc, 3))\n",
    "\n",
    "fpr, tpr, thresh = roc_curve(labels, (1 - 2 * np.abs(inter_probs_mean - intra_probs_mean)/(pooled_std)))\n",
    "roc_auc = auc(fpr, tpr)\n",
    "print('Abs mean diff / pooled std AUC', round(roc_auc, 3))\n",
    "\n",
    "fpr, tpr, thresh = roc_curve(labels, probs_nc)\n",
    "roc_auc = auc(fpr, tpr)\n",
    "print('Unchunked AUC:', roc_auc)\n",
    "\n",
    "fpr, tpr, thresh = roc_curve(labels, 0.5 * (probs_nc + (1 - np.abs(inter_probs_mean - intra_probs_mean))))\n",
    "roc_auc = auc(fpr, tpr)\n",
    "print('Unchunked + Inter-Intra diff:', roc_auc)\n",
    "\n",
    "\n",
    "fpr, tpr, thresh = roc_curve(labels, (probs_nc * (1 - np.abs(inter_probs_mean - intra_probs_mean))))\n",
    "roc_auc = auc(fpr, tpr)\n",
    "print('Unchunked * Inter-Intra diff:', roc_auc)\n",
    "\n",
    "with open(RESULTS_PATH + 'results_' + str(chunk_sz) + '.p', 'wb') as f:\n",
    "    pickle.dump((\n",
    "        inter_probs_mean,\n",
    "        intraA_probs_mean,\n",
    "        intraB_probs_mean,\n",
    "        inter_probs_std,\n",
    "        intraA_probs_std,\n",
    "        intraB_probs_std,\n",
    "        labels,\n",
    "        pred_lengths,\n",
    "        probs_nc\n",
    "    ), f)"
   ]
  },
  {
   "cell_type": "code",
   "execution_count": 14,
   "metadata": {},
   "outputs": [
    {
     "name": "stdout",
     "output_type": "stream",
     "text": [
      "Inter prob mean AUC: 0.918796\n",
      "Z Score diff 0.92\n",
      "Abs mean diff AUC 0.924\n",
      "Abs mean diff / pooled std AUC 0.926\n",
      "Unchunked AUC: 0.9703022168840594\n",
      "Unchunked + Inter-Intra diff: 0.9683624895720556\n",
      "Unchunked * Inter-Intra diff: 0.9701088768052554\n"
     ]
    },
    {
     "name": "stderr",
     "output_type": "stream",
     "text": [
      "/usr/local/lib/python3.6/dist-packages/ipykernel_launcher.py:6: RuntimeWarning: invalid value encountered in true_divide\n",
      "  \n"
     ]
    }
   ],
   "source": [
    "# Chunk Sz 5, full training data\n",
    "fpr, tpr, thresh = roc_curve(labels, inter_probs_mean)\n",
    "roc_auc = auc(fpr, tpr)\n",
    "print('Inter prob mean AUC:', round(roc_auc, 6))\n",
    "\n",
    "pp = np.abs(inter_probs_mean - intra_probs_mean)/np.sqrt(inter_probs_std**2/n_ab + intra_probs_std**2/(n_a+n_b))\n",
    "pp[np.isnan(pp)] = 0.5\n",
    "fpr, tpr, thresh = roc_curve(labels, pp)\n",
    "roc_auc = 1 - auc(fpr, tpr)\n",
    "print('Z Score diff', round(roc_auc, 3))\n",
    "\n",
    "fpr, tpr, thresh = roc_curve(labels, (1 - np.abs(inter_probs_mean - intra_probs_mean)))\n",
    "roc_auc = auc(fpr, tpr)\n",
    "print('Abs mean diff AUC', round(roc_auc, 3))\n",
    "\n",
    "fpr, tpr, thresh = roc_curve(labels, (1 - 2 * np.abs(inter_probs_mean - intra_probs_mean)/(pooled_std)))\n",
    "roc_auc = auc(fpr, tpr)\n",
    "print('Abs mean diff / pooled std AUC', round(roc_auc, 3))\n",
    "\n",
    "fpr, tpr, thresh = roc_curve(labels, probs_nc)\n",
    "roc_auc = auc(fpr, tpr)\n",
    "print('Unchunked AUC:', roc_auc)\n",
    "\n",
    "fpr, tpr, thresh = roc_curve(labels, 0.5 * (probs_nc + (1 - np.abs(inter_probs_mean - intra_probs_mean))))\n",
    "roc_auc = auc(fpr, tpr)\n",
    "print('Unchunked + Inter-Intra diff:', roc_auc)\n",
    "\n",
    "\n",
    "fpr, tpr, thresh = roc_curve(labels, (probs_nc * (1 - np.abs(inter_probs_mean - intra_probs_mean))))\n",
    "roc_auc = auc(fpr, tpr)\n",
    "print('Unchunked * Inter-Intra diff:', roc_auc)\n",
    "\n",
    "with open(RESULTS_PATH + 'results_' + str(chunk_sz) + '.p', 'wb') as f:\n",
    "    pickle.dump((\n",
    "        inter_probs_mean,\n",
    "        intraA_probs_mean,\n",
    "        intraB_probs_mean,\n",
    "        inter_probs_std,\n",
    "        intraA_probs_std,\n",
    "        intraB_probs_std,\n",
    "        labels,\n",
    "        pred_lengths,\n",
    "        probs_nc\n",
    "    ), f)"
   ]
  }
 ],
 "metadata": {
  "kernelspec": {
   "display_name": "Python 3",
   "language": "python",
   "name": "python3"
  },
  "language_info": {
   "codemirror_mode": {
    "name": "ipython",
    "version": 3
   },
   "file_extension": ".py",
   "mimetype": "text/x-python",
   "name": "python",
   "nbconvert_exporter": "python",
   "pygments_lexer": "ipython3",
   "version": "3.6.9"
  }
 },
 "nbformat": 4,
 "nbformat_minor": 2
}
