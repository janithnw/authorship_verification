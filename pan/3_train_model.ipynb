{
 "cells": [
  {
   "cell_type": "code",
   "execution_count": 2,
   "metadata": {
    "collapsed": true
   },
   "outputs": [],
   "source": [
    "%load_ext autoreload\n",
    "%autoreload 2"
   ]
  },
  {
   "cell_type": "code",
   "execution_count": 3,
   "metadata": {
    "collapsed": true
   },
   "outputs": [],
   "source": [
    "import sys\n",
    "sys.path.append(\"../\")"
   ]
  },
  {
   "cell_type": "code",
   "execution_count": 4,
   "metadata": {
    "collapsed": true
   },
   "outputs": [],
   "source": [
    "import pickle\n",
    "import numpy as np\n",
    "from tqdm.auto import trange, tqdm\n",
    "from features import get_transformer, merge_entries\n",
    "import json\n",
    "from sklearn.preprocessing import StandardScaler\n",
    "from sklearn.linear_model import SGDClassifier\n",
    "from sklearn.metrics import precision_recall_curve\n",
    "from sklearn.metrics import roc_curve, auc\n",
    "from utills import chunker\n",
    "from sklearn.utils.fixes import loguniform\n",
    "from sklearn.model_selection import RandomizedSearchCV\n"
   ]
  },
  {
   "cell_type": "code",
   "execution_count": 42,
   "metadata": {
    "collapsed": true
   },
   "outputs": [],
   "source": [
    "import matplotlib.pyplot as plt\n",
    "import matplotlib.style as style\n",
    "import tikzplotlib\n",
    "%matplotlib inline"
   ]
  },
  {
   "cell_type": "code",
   "execution_count": 5,
   "metadata": {},
   "outputs": [
    {
     "data": {
      "text/html": [
       "        <script type=\"text/javascript\">\n",
       "        window.PlotlyConfig = {MathJaxConfig: 'local'};\n",
       "        if (window.MathJax) {MathJax.Hub.Config({SVG: {font: \"STIX-Web\"}});}\n",
       "        if (typeof require !== 'undefined') {\n",
       "        require.undef(\"plotly\");\n",
       "        requirejs.config({\n",
       "            paths: {\n",
       "                'plotly': ['https://cdn.plot.ly/plotly-latest.min']\n",
       "            }\n",
       "        });\n",
       "        require(['plotly'], function(Plotly) {\n",
       "            window._Plotly = Plotly;\n",
       "        });\n",
       "        }\n",
       "        </script>\n",
       "        "
      ]
     },
     "metadata": {},
     "output_type": "display_data"
    }
   ],
   "source": [
    "from plotly.offline import init_notebook_mode\n",
    "import plotly.offline as py\n",
    "import plotly.graph_objs as go\n",
    "init_notebook_mode(connected=True)"
   ]
  },
  {
   "cell_type": "code",
   "execution_count": 47,
   "metadata": {
    "collapsed": true
   },
   "outputs": [],
   "source": [
    "DATA_DIR = '../data/pan/'\n",
    "GROUND_TRUTH_PATH = DATA_DIR + 'pan20-authorship-verification-training-large-truth.jsonl'\n",
    "DATA_PATH = DATA_DIR + 'pan20-authorship-verification-training-large.jsonl'\n",
    "PREPROCESSED_DATA_PATH = '../temp_data/pan/'\n",
    "TEMP_DATA_PATH = '../temp_data/pan/'\n",
    "FIGURES_PATH = '../figures/'"
   ]
  },
  {
   "cell_type": "code",
   "execution_count": 18,
   "metadata": {
    "collapsed": true
   },
   "outputs": [],
   "source": [
    "def fit_transformers(data_fraction=0.01):\n",
    "    docs_1 = []\n",
    "    docs_2 = []\n",
    "\n",
    "    with open(PREPROCESSED_DATA_PATH + 'preprocessed_train.jsonl', 'r') as f:\n",
    "        for l in tqdm(f):\n",
    "            if np.random.rand() < data_fraction:\n",
    "                d = json.loads(l)\n",
    "                docs_1.append(merge_entries(d['pair'][0]))\n",
    "                docs_2.append(merge_entries(d['pair'][1]))\n",
    "                \n",
    "    transformer = get_transformer()\n",
    "    scaler = StandardScaler()\n",
    "    secondary_scaler = StandardScaler()\n",
    "\n",
    "    X = transformer.fit_transform(docs_1 + docs_2).todense()\n",
    "    X = scaler.fit_transform(X)\n",
    "    X1 = X[:len(docs_1)]\n",
    "    X2 = X[len(docs_1):]\n",
    "    secondary_scaler.fit(np.abs(X1 - X2))\n",
    "    \n",
    "    return transformer, scaler, secondary_scaler\n",
    "\n",
    "\n",
    "def vectorize(XX, Y, ordered_idxs, transformer, scaler, secondary_scaler, preprocessed_path, vector_Sz):\n",
    "    with open(preprocessed_path, 'r') as f:\n",
    "        batch_size = 10000\n",
    "        i = 0;\n",
    "        docs1 = []\n",
    "        docs2 = []\n",
    "        idxs = []\n",
    "        labels = []\n",
    "        for l in tqdm(f, total=vector_Sz):\n",
    "            d = json.loads(l)\n",
    "            \n",
    "            docs1.append(merge_entries(d['pair'][0]))\n",
    "            docs2.append(merge_entries(d['pair'][1]))\n",
    "\n",
    "            labels.append(ground_truth[d['id']])\n",
    "            idxs.append(ordered_idxs[i])\n",
    "            i += 1\n",
    "            if len(labels) >= batch_size:\n",
    "                x1 = scaler.transform(transformer.transform(docs1).todense())\n",
    "                x2 = scaler.transform(transformer.transform(docs2).todense())\n",
    "                XX[idxs, :] = secondary_scaler.transform(np.abs(x1-x2))\n",
    "                Y[idxs] = labels\n",
    "\n",
    "                docs1 = []\n",
    "                docs2 = []\n",
    "                idxs = []\n",
    "                labels = []\n",
    "\n",
    "        x1 = scaler.transform(transformer.transform(docs1).todense())\n",
    "        x2 = scaler.transform(transformer.transform(docs2).todense())\n",
    "        XX[idxs, :] = secondary_scaler.transform(np.abs(x1-x2))\n",
    "        Y[idxs] = labels\n",
    "        XX.flush()\n",
    "        Y.flush()"
   ]
  },
  {
   "cell_type": "code",
   "execution_count": 9,
   "metadata": {
    "collapsed": true
   },
   "outputs": [],
   "source": [
    "ground_truth = {}\n",
    "with open(GROUND_TRUTH_PATH, 'r') as f:\n",
    "    for l in f:\n",
    "        d = json.loads(l)\n",
    "        ground_truth[d['id']] = d['same']"
   ]
  },
  {
   "cell_type": "code",
   "execution_count": 10,
   "metadata": {},
   "outputs": [
    {
     "name": "stdout",
     "output_type": "stream",
     "text": [
      "Train Sz: 193536\n",
      "Test Sz: 81963\n"
     ]
    }
   ],
   "source": [
    "train_sz = 0\n",
    "test_sz = 0\n",
    "\n",
    "with open(PREPROCESSED_DATA_PATH + 'preprocessed_train.jsonl', 'r') as f:\n",
    "    for l in f:\n",
    "        train_sz += 1\n",
    "\n",
    "with open(PREPROCESSED_DATA_PATH + 'preprocessed_test.jsonl', 'r') as f:\n",
    "    for l in f:\n",
    "        test_sz += 1\n",
    "\n",
    "print('Train Sz:', train_sz, flush=True)\n",
    "print('Test Sz:', test_sz, flush=True)"
   ]
  },
  {
   "cell_type": "code",
   "execution_count": 15,
   "metadata": {},
   "outputs": [
    {
     "name": "stdout",
     "output_type": "stream",
     "text": [
      "Fitting transformer...\n"
     ]
    },
    {
     "data": {
      "application/vnd.jupyter.widget-view+json": {
       "model_id": "d2dbf5be86da410796770b03d5fe8de3"
      }
     },
     "metadata": {},
     "output_type": "display_data"
    },
    {
     "name": "stdout",
     "output_type": "stream",
     "text": [
      "\n"
     ]
    },
    {
     "name": "stderr",
     "output_type": "stream",
     "text": [
      "/usr/local/lib/python3.6/dist-packages/sklearn/feature_extraction/text.py:507: UserWarning:\n",
      "\n",
      "The parameter 'token_pattern' will not be used since 'tokenizer' is not None'\n",
      "\n",
      "/usr/local/lib/python3.6/dist-packages/sklearn/feature_extraction/text.py:507: UserWarning:\n",
      "\n",
      "The parameter 'token_pattern' will not be used since 'tokenizer' is not None'\n",
      "\n",
      "/usr/local/lib/python3.6/dist-packages/sklearn/feature_extraction/text.py:507: UserWarning:\n",
      "\n",
      "The parameter 'token_pattern' will not be used since 'tokenizer' is not None'\n",
      "\n",
      "/usr/local/lib/python3.6/dist-packages/sklearn/feature_extraction/text.py:507: UserWarning:\n",
      "\n",
      "The parameter 'token_pattern' will not be used since 'tokenizer' is not None'\n",
      "\n",
      "/usr/local/lib/python3.6/dist-packages/sklearn/feature_extraction/text.py:507: UserWarning:\n",
      "\n",
      "The parameter 'token_pattern' will not be used since 'tokenizer' is not None'\n",
      "\n"
     ]
    }
   ],
   "source": [
    "print('Fitting transformer...', flush=True)\n",
    "transformer, scaler, secondary_scaler = fit_transformers(data_fraction=0.01)\n",
    "feature_sz = len(transformer.get_feature_names())"
   ]
  },
  {
   "cell_type": "code",
   "execution_count": 16,
   "metadata": {
    "collapsed": true
   },
   "outputs": [],
   "source": [
    "with open(TEMP_DATA_PATH + 'model.p', 'wb') as f:\n",
    "    pickle.dump((transformer, scaler, secondary_scaler), f)"
   ]
  },
  {
   "cell_type": "code",
   "execution_count": null,
   "metadata": {},
   "outputs": [
    {
     "name": "stdout",
     "output_type": "stream",
     "text": [
      "Vectorizing train set...\n"
     ]
    },
    {
     "data": {
      "application/vnd.jupyter.widget-view+json": {
       "model_id": "76b4f46676eb4cf7aff43654627d07e0"
      }
     },
     "metadata": {},
     "output_type": "display_data"
    },
    {
     "name": "stdout",
     "output_type": "stream",
     "text": [
      "\n"
     ]
    }
   ],
   "source": [
    "print('Vectorizing train set...', flush=True)\n",
    "XX_train = np.memmap(TEMP_DATA_PATH + 'vectorized_XX_train.npy', dtype='float32', mode='w+', shape=(train_sz, feature_sz))\n",
    "Y_train = np.memmap(TEMP_DATA_PATH + 'Y_train.npy', dtype='int32', mode='w+', shape=(train_sz))\n",
    "train_idxs = np.array(range(train_sz))\n",
    "np.random.shuffle(train_idxs)\n",
    "\n",
    "vectorize(\n",
    "    XX_train, \n",
    "    Y_train, \n",
    "    train_idxs, \n",
    "    transformer, \n",
    "    scaler, \n",
    "    secondary_scaler, \n",
    "    PREPROCESSED_DATA_PATH + 'preprocessed_train.jsonl',\n",
    "    train_sz\n",
    ")"
   ]
  },
  {
   "cell_type": "code",
   "execution_count": null,
   "metadata": {},
   "outputs": [
    {
     "name": "stdout",
     "output_type": "stream",
     "text": [
      "Vectorizing test set...\n"
     ]
    },
    {
     "data": {
      "application/vnd.jupyter.widget-view+json": {
       "model_id": "3b5f1e7265e74a82bd9d3a2ed260d67b"
      }
     },
     "metadata": {},
     "output_type": "display_data"
    },
    {
     "name": "stdout",
     "output_type": "stream",
     "text": [
      "\n"
     ]
    }
   ],
   "source": [
    "print('Vectorizing test set...', flush=True)\n",
    "XX_test = np.memmap(TEMP_DATA_PATH + 'vectorized_XX_test.npy', dtype='float32', mode='w+', shape=(test_sz, feature_sz))\n",
    "Y_test = np.memmap(TEMP_DATA_PATH + 'Y_test.npy', dtype='int32', mode='w+', shape=(test_sz))\n",
    "test_idxs = np.array(range(test_sz))\n",
    "np.random.shuffle(test_idxs)\n",
    "\n",
    "vectorize(\n",
    "    XX_test, \n",
    "    Y_test, \n",
    "    test_idxs, \n",
    "    transformer, \n",
    "    scaler, \n",
    "    secondary_scaler, \n",
    "    PREPROCESSED_DATA_PATH + 'preprocessed_test.jsonl',\n",
    "    test_sz\n",
    ")"
   ]
  },
  {
   "cell_type": "code",
   "execution_count": 27,
   "metadata": {
    "scrolled": true
   },
   "outputs": [
    {
     "name": "stdout",
     "output_type": "stream",
     "text": [
      "Tuning parameters...\n",
      "Fitting 5 folds for each of 20 candidates, totalling 100 fits\n",
      "[CV] alpha=0.002130426956292032 ......................................\n"
     ]
    },
    {
     "name": "stderr",
     "output_type": "stream",
     "text": [
      "[Parallel(n_jobs=1)]: Using backend SequentialBackend with 1 concurrent workers.\n"
     ]
    },
    {
     "name": "stdout",
     "output_type": "stream",
     "text": [
      "[CV] ....................... alpha=0.002130426956292032, total=  13.4s\n",
      "[CV] alpha=0.002130426956292032 ......................................\n"
     ]
    },
    {
     "name": "stderr",
     "output_type": "stream",
     "text": [
      "[Parallel(n_jobs=1)]: Done   1 out of   1 | elapsed:   13.4s remaining:    0.0s\n"
     ]
    },
    {
     "name": "stdout",
     "output_type": "stream",
     "text": [
      "[CV] ....................... alpha=0.002130426956292032, total=   7.8s\n",
      "[CV] alpha=0.002130426956292032 ......................................\n",
      "[CV] ....................... alpha=0.002130426956292032, total=   9.5s\n",
      "[CV] alpha=0.002130426956292032 ......................................\n",
      "[CV] ....................... alpha=0.002130426956292032, total=  12.3s\n",
      "[CV] alpha=0.002130426956292032 ......................................\n",
      "[CV] ....................... alpha=0.002130426956292032, total=  11.7s\n",
      "[CV] alpha=0.5404150654403683 ........................................\n",
      "[CV] ......................... alpha=0.5404150654403683, total=   5.9s\n",
      "[CV] alpha=0.5404150654403683 ........................................\n",
      "[CV] ......................... alpha=0.5404150654403683, total=   5.3s\n",
      "[CV] alpha=0.5404150654403683 ........................................\n",
      "[CV] ......................... alpha=0.5404150654403683, total=   5.9s\n",
      "[CV] alpha=0.5404150654403683 ........................................\n",
      "[CV] ......................... alpha=0.5404150654403683, total=   5.3s\n",
      "[CV] alpha=0.5404150654403683 ........................................\n",
      "[CV] ......................... alpha=0.5404150654403683, total=   5.3s\n",
      "[CV] alpha=0.05126724124091976 .......................................\n",
      "[CV] ........................ alpha=0.05126724124091976, total=   6.5s\n",
      "[CV] alpha=0.05126724124091976 .......................................\n",
      "[CV] ........................ alpha=0.05126724124091976, total=   6.5s\n",
      "[CV] alpha=0.05126724124091976 .......................................\n",
      "[CV] ........................ alpha=0.05126724124091976, total=   8.2s\n",
      "[CV] alpha=0.05126724124091976 .......................................\n",
      "[CV] ........................ alpha=0.05126724124091976, total=   6.5s\n",
      "[CV] alpha=0.05126724124091976 .......................................\n",
      "[CV] ........................ alpha=0.05126724124091976, total=   5.9s\n",
      "[CV] alpha=0.016640049902081316 ......................................\n",
      "[CV] ....................... alpha=0.016640049902081316, total=   8.7s\n",
      "[CV] alpha=0.016640049902081316 ......................................\n",
      "[CV] ....................... alpha=0.016640049902081316, total=  10.6s\n",
      "[CV] alpha=0.016640049902081316 ......................................\n",
      "[CV] ....................... alpha=0.016640049902081316, total=   8.9s\n",
      "[CV] alpha=0.016640049902081316 ......................................\n",
      "[CV] ....................... alpha=0.016640049902081316, total=  11.2s\n",
      "[CV] alpha=0.016640049902081316 ......................................\n",
      "[CV] ....................... alpha=0.016640049902081316, total=   7.1s\n",
      "[CV] alpha=0.7399295303167733 ........................................\n",
      "[CV] ......................... alpha=0.7399295303167733, total=   5.4s\n",
      "[CV] alpha=0.7399295303167733 ........................................\n",
      "[CV] ......................... alpha=0.7399295303167733, total=   5.4s\n",
      "[CV] alpha=0.7399295303167733 ........................................\n",
      "[CV] ......................... alpha=0.7399295303167733, total=   6.0s\n",
      "[CV] alpha=0.7399295303167733 ........................................\n",
      "[CV] ......................... alpha=0.7399295303167733, total=   5.4s\n",
      "[CV] alpha=0.7399295303167733 ........................................\n",
      "[CV] ......................... alpha=0.7399295303167733, total=   6.0s\n",
      "[CV] alpha=0.0072700410010560065 .....................................\n",
      "[CV] ...................... alpha=0.0072700410010560065, total=  10.5s\n",
      "[CV] alpha=0.0072700410010560065 .....................................\n",
      "[CV] ...................... alpha=0.0072700410010560065, total=   7.7s\n",
      "[CV] alpha=0.0072700410010560065 .....................................\n",
      "[CV] ...................... alpha=0.0072700410010560065, total=   8.8s\n",
      "[CV] alpha=0.0072700410010560065 .....................................\n",
      "[CV] ...................... alpha=0.0072700410010560065, total=  11.1s\n",
      "[CV] alpha=0.0072700410010560065 .....................................\n",
      "[CV] ...................... alpha=0.0072700410010560065, total=   7.7s\n",
      "[CV] alpha=0.027169838802797337 ......................................\n",
      "[CV] ....................... alpha=0.027169838802797337, total=   7.2s\n",
      "[CV] alpha=0.027169838802797337 ......................................\n",
      "[CV] ....................... alpha=0.027169838802797337, total=   8.9s\n",
      "[CV] alpha=0.027169838802797337 ......................................\n",
      "[CV] ....................... alpha=0.027169838802797337, total=   8.9s\n",
      "[CV] alpha=0.027169838802797337 ......................................\n",
      "[CV] ....................... alpha=0.027169838802797337, total=   9.4s\n",
      "[CV] alpha=0.027169838802797337 ......................................\n",
      "[CV] ....................... alpha=0.027169838802797337, total=   7.1s\n",
      "[CV] alpha=0.00024153841814129128 ....................................\n",
      "[CV] ..................... alpha=0.00024153841814129128, total=   6.0s\n",
      "[CV] alpha=0.00024153841814129128 ....................................\n",
      "[CV] ..................... alpha=0.00024153841814129128, total=   8.7s\n",
      "[CV] alpha=0.00024153841814129128 ....................................\n",
      "[CV] ..................... alpha=0.00024153841814129128, total=   6.6s\n",
      "[CV] alpha=0.00024153841814129128 ....................................\n",
      "[CV] ..................... alpha=0.00024153841814129128, total=   8.9s\n",
      "[CV] alpha=0.00024153841814129128 ....................................\n",
      "[CV] ..................... alpha=0.00024153841814129128, total=   9.5s\n",
      "[CV] alpha=0.7448754151450889 ........................................\n",
      "[CV] ......................... alpha=0.7448754151450889, total=   5.9s\n",
      "[CV] alpha=0.7448754151450889 ........................................\n",
      "[CV] ......................... alpha=0.7448754151450889, total=   6.5s\n",
      "[CV] alpha=0.7448754151450889 ........................................\n",
      "[CV] ......................... alpha=0.7448754151450889, total=   5.4s\n",
      "[CV] alpha=0.7448754151450889 ........................................\n",
      "[CV] ......................... alpha=0.7448754151450889, total=   6.5s\n",
      "[CV] alpha=0.7448754151450889 ........................................\n",
      "[CV] ......................... alpha=0.7448754151450889, total=   5.9s\n",
      "[CV] alpha=0.08317191543368166 .......................................\n",
      "[CV] ........................ alpha=0.08317191543368166, total=   5.9s\n",
      "[CV] alpha=0.08317191543368166 .......................................\n",
      "[CV] ........................ alpha=0.08317191543368166, total=   7.1s\n",
      "[CV] alpha=0.08317191543368166 .......................................\n",
      "[CV] ........................ alpha=0.08317191543368166, total=   7.1s\n",
      "[CV] alpha=0.08317191543368166 .......................................\n",
      "[CV] ........................ alpha=0.08317191543368166, total=   8.2s\n",
      "[CV] alpha=0.08317191543368166 .......................................\n",
      "[CV] ........................ alpha=0.08317191543368166, total=   5.9s\n",
      "[CV] alpha=0.0002558451002694791 .....................................\n",
      "[CV] ...................... alpha=0.0002558451002694791, total=   5.2s\n",
      "[CV] alpha=0.0002558451002694791 .....................................\n",
      "[CV] ...................... alpha=0.0002558451002694791, total=   6.5s\n",
      "[CV] alpha=0.0002558451002694791 .....................................\n",
      "[CV] ...................... alpha=0.0002558451002694791, total=   7.0s\n",
      "[CV] alpha=0.0002558451002694791 .....................................\n",
      "[CV] ...................... alpha=0.0002558451002694791, total=   7.8s\n",
      "[CV] alpha=0.0002558451002694791 .....................................\n",
      "[CV] ...................... alpha=0.0002558451002694791, total=   7.2s\n",
      "[CV] alpha=0.3814795176239521 ........................................\n",
      "[CV] ......................... alpha=0.3814795176239521, total=   5.4s\n",
      "[CV] alpha=0.3814795176239521 ........................................\n",
      "[CV] ......................... alpha=0.3814795176239521, total=   5.9s\n",
      "[CV] alpha=0.3814795176239521 ........................................\n",
      "[CV] ......................... alpha=0.3814795176239521, total=   5.4s\n",
      "[CV] alpha=0.3814795176239521 ........................................\n",
      "[CV] ......................... alpha=0.3814795176239521, total=   5.4s\n",
      "[CV] alpha=0.3814795176239521 ........................................\n"
     ]
    },
    {
     "name": "stdout",
     "output_type": "stream",
     "text": [
      "[CV] ......................... alpha=0.3814795176239521, total=   5.4s\n",
      "[CV] alpha=0.027697150638231353 ......................................\n",
      "[CV] ....................... alpha=0.027697150638231353, total=   8.8s\n",
      "[CV] alpha=0.027697150638231353 ......................................\n",
      "[CV] ....................... alpha=0.027697150638231353, total=   8.7s\n",
      "[CV] alpha=0.027697150638231353 ......................................\n",
      "[CV] ....................... alpha=0.027697150638231353, total=   6.4s\n",
      "[CV] alpha=0.027697150638231353 ......................................\n",
      "[CV] ....................... alpha=0.027697150638231353, total=   7.6s\n",
      "[CV] alpha=0.027697150638231353 ......................................\n",
      "[CV] ....................... alpha=0.027697150638231353, total=   7.7s\n",
      "[CV] alpha=0.055481967191456455 ......................................\n",
      "[CV] ....................... alpha=0.055481967191456455, total=   6.0s\n",
      "[CV] alpha=0.055481967191456455 ......................................\n",
      "[CV] ....................... alpha=0.055481967191456455, total=   7.7s\n",
      "[CV] alpha=0.055481967191456455 ......................................\n",
      "[CV] ....................... alpha=0.055481967191456455, total=   8.3s\n",
      "[CV] alpha=0.055481967191456455 ......................................\n",
      "[CV] ....................... alpha=0.055481967191456455, total=   7.2s\n",
      "[CV] alpha=0.055481967191456455 ......................................\n",
      "[CV] ....................... alpha=0.055481967191456455, total=   6.5s\n",
      "[CV] alpha=0.00033932311071699443 ....................................\n",
      "[CV] ..................... alpha=0.00033932311071699443, total=   6.9s\n",
      "[CV] alpha=0.00033932311071699443 ....................................\n",
      "[CV] ..................... alpha=0.00033932311071699443, total=   7.5s\n",
      "[CV] alpha=0.00033932311071699443 ....................................\n",
      "[CV] ..................... alpha=0.00033932311071699443, total=   7.3s\n",
      "[CV] alpha=0.00033932311071699443 ....................................\n",
      "[CV] ..................... alpha=0.00033932311071699443, total=  11.5s\n",
      "[CV] alpha=0.00033932311071699443 ....................................\n",
      "[CV] ..................... alpha=0.00033932311071699443, total=   6.2s\n",
      "[CV] alpha=0.00017670210522057064 ....................................\n",
      "[CV] ..................... alpha=0.00017670210522057064, total=   5.8s\n",
      "[CV] alpha=0.00017670210522057064 ....................................\n",
      "[CV] ..................... alpha=0.00017670210522057064, total=   5.2s\n",
      "[CV] alpha=0.00017670210522057064 ....................................\n",
      "[CV] ..................... alpha=0.00017670210522057064, total=   5.1s\n",
      "[CV] alpha=0.00017670210522057064 ....................................\n",
      "[CV] ..................... alpha=0.00017670210522057064, total=   9.0s\n",
      "[CV] alpha=0.00017670210522057064 ....................................\n",
      "[CV] ..................... alpha=0.00017670210522057064, total=   4.2s\n",
      "[CV] alpha=0.20270825605981288 .......................................\n",
      "[CV] ........................ alpha=0.20270825605981288, total=   7.1s\n",
      "[CV] alpha=0.20270825605981288 .......................................\n",
      "[CV] ........................ alpha=0.20270825605981288, total=   6.5s\n",
      "[CV] alpha=0.20270825605981288 .......................................\n",
      "[CV] ........................ alpha=0.20270825605981288, total=   7.1s\n",
      "[CV] alpha=0.20270825605981288 .......................................\n",
      "[CV] ........................ alpha=0.20270825605981288, total=   6.0s\n",
      "[CV] alpha=0.20270825605981288 .......................................\n",
      "[CV] ........................ alpha=0.20270825605981288, total=   5.4s\n",
      "[CV] alpha=0.051625404946819026 ......................................\n",
      "[CV] ....................... alpha=0.051625404946819026, total=   8.3s\n",
      "[CV] alpha=0.051625404946819026 ......................................\n",
      "[CV] ....................... alpha=0.051625404946819026, total=   6.5s\n",
      "[CV] alpha=0.051625404946819026 ......................................\n",
      "[CV] ....................... alpha=0.051625404946819026, total=   5.9s\n",
      "[CV] alpha=0.051625404946819026 ......................................\n",
      "[CV] ....................... alpha=0.051625404946819026, total=   7.7s\n",
      "[CV] alpha=0.051625404946819026 ......................................\n",
      "[CV] ....................... alpha=0.051625404946819026, total=   7.1s\n",
      "[CV] alpha=0.890407043567478 .........................................\n",
      "[CV] .......................... alpha=0.890407043567478, total=   6.6s\n",
      "[CV] alpha=0.890407043567478 .........................................\n",
      "[CV] .......................... alpha=0.890407043567478, total=   6.0s\n",
      "[CV] alpha=0.890407043567478 .........................................\n",
      "[CV] .......................... alpha=0.890407043567478, total=   5.4s\n",
      "[CV] alpha=0.890407043567478 .........................................\n",
      "[CV] .......................... alpha=0.890407043567478, total=   6.6s\n",
      "[CV] alpha=0.890407043567478 .........................................\n",
      "[CV] .......................... alpha=0.890407043567478, total=   6.0s\n",
      "[CV] alpha=0.14193687048370024 .......................................\n",
      "[CV] ........................ alpha=0.14193687048370024, total=   8.3s\n",
      "[CV] alpha=0.14193687048370024 .......................................\n",
      "[CV] ........................ alpha=0.14193687048370024, total=   6.0s\n",
      "[CV] alpha=0.14193687048370024 .......................................\n",
      "[CV] ........................ alpha=0.14193687048370024, total=   6.0s\n",
      "[CV] alpha=0.14193687048370024 .......................................\n",
      "[CV] ........................ alpha=0.14193687048370024, total=   7.2s\n",
      "[CV] alpha=0.14193687048370024 .......................................\n",
      "[CV] ........................ alpha=0.14193687048370024, total=   6.0s\n"
     ]
    },
    {
     "name": "stderr",
     "output_type": "stream",
     "text": [
      "[Parallel(n_jobs=1)]: Done 100 out of 100 | elapsed: 12.0min finished\n"
     ]
    },
    {
     "name": "stdout",
     "output_type": "stream",
     "text": [
      "Best params: {'alpha': 0.3814795176239521}\n"
     ]
    }
   ],
   "source": [
    "print('Tuning parameters...', flush=True)\n",
    "\n",
    "\n",
    "param_dist = {'alpha': loguniform(1e-4, 1e0)}\n",
    "batch_size=10000\n",
    "clf = SGDClassifier(loss='log', alpha=0.01)\n",
    "n_iter_search = 20\n",
    "random_search = RandomizedSearchCV(clf, param_distributions=param_dist, n_iter=n_iter_search, verbose=2)\n",
    "for idxs in chunker(range(train_sz), batch_size):\n",
    "        random_search.fit(XX_train[idxs, :], Y_train[idxs])\n",
    "        break\n",
    "\n",
    "print('Best params:', random_search.best_params_)\n"
   ]
  },
  {
   "cell_type": "code",
   "execution_count": 28,
   "metadata": {},
   "outputs": [
    {
     "name": "stdout",
     "output_type": "stream",
     "text": [
      "Best params: {'alpha': 0.3814795176239521}\n"
     ]
    }
   ],
   "source": [
    "print('Best params:', random_search.best_params_)"
   ]
  },
  {
   "cell_type": "code",
   "execution_count": 36,
   "metadata": {
    "scrolled": true
   },
   "outputs": [
    {
     "name": "stdout",
     "output_type": "stream",
     "text": [
      "Training classifier...\n"
     ]
    },
    {
     "data": {
      "application/vnd.jupyter.widget-view+json": {
       "model_id": "fcfbc07fe03f4f289663a1bedd955003"
      }
     },
     "metadata": {},
     "output_type": "display_data"
    },
    {
     "name": "stdout",
     "output_type": "stream",
     "text": [
      "Epoch -  0\n",
      "------------------------------\n",
      "AUC:  0.9690182421800451\n",
      "Epoch -  1\n",
      "------------------------------\n",
      "AUC:  0.9689126771663139\n",
      "Epoch -  2\n",
      "------------------------------\n",
      "AUC:  0.9689380185324076\n",
      "Epoch -  3\n",
      "------------------------------\n",
      "AUC:  0.9689314457145877\n",
      "Epoch -  4\n",
      "------------------------------\n",
      "AUC:  0.9694374426913952\n",
      "Epoch -  5\n",
      "------------------------------\n",
      "AUC:  0.9689141800370734\n",
      "Epoch -  6\n",
      "------------------------------\n",
      "AUC:  0.9690494497636252\n",
      "Epoch -  7\n",
      "------------------------------\n",
      "AUC:  0.9690188710662977\n",
      "Epoch -  8\n",
      "------------------------------\n",
      "AUC:  0.9690604098401971\n",
      "Epoch -  9\n",
      "------------------------------\n",
      "AUC:  0.9695506206960254\n",
      "Epoch -  10\n",
      "------------------------------\n",
      "AUC:  0.9692774963530396\n",
      "Epoch -  11\n",
      "------------------------------\n",
      "AUC:  0.9693552570621218\n",
      "Epoch -  12\n",
      "------------------------------\n",
      "AUC:  0.9692160134559469\n",
      "Epoch -  13\n",
      "------------------------------\n",
      "AUC:  0.9696339529068885\n",
      "Epoch -  14\n",
      "------------------------------\n",
      "AUC:  0.9696279234898324\n",
      "Epoch -  15\n",
      "------------------------------\n",
      "AUC:  0.9692436010578709\n",
      "Epoch -  16\n",
      "------------------------------\n",
      "AUC:  0.9696925588884961\n",
      "Epoch -  17\n",
      "------------------------------\n",
      "AUC:  0.9696465192737269\n",
      "Epoch -  18\n",
      "------------------------------\n",
      "AUC:  0.969552118186579\n",
      "Epoch -  19\n",
      "------------------------------\n",
      "AUC:  0.969746599466767\n",
      "Epoch -  20\n",
      "------------------------------\n",
      "AUC:  0.9697944330811977\n",
      "Epoch -  21\n",
      "------------------------------\n",
      "AUC:  0.9697810375648992\n",
      "Epoch -  22\n",
      "------------------------------\n",
      "AUC:  0.9694552622311842\n",
      "Epoch -  23\n",
      "------------------------------\n",
      "AUC:  0.9694358525417452\n",
      "Epoch -  24\n",
      "------------------------------\n",
      "AUC:  0.9697048658098655\n",
      "Epoch -  25\n",
      "------------------------------\n",
      "AUC:  0.9695175288448903\n",
      "Epoch -  26\n",
      "------------------------------\n",
      "AUC:  0.9695067977259559\n",
      "Epoch -  27\n",
      "------------------------------\n",
      "AUC:  0.9695948552518219\n",
      "Epoch -  28\n",
      "------------------------------\n",
      "AUC:  0.9695849748031702\n",
      "Epoch -  29\n",
      "------------------------------\n",
      "AUC:  0.9699489507921208\n",
      "Epoch -  30\n",
      "------------------------------\n",
      "AUC:  0.9699687660892806\n",
      "Epoch -  31\n",
      "------------------------------\n",
      "AUC:  0.969976336038535\n",
      "Epoch -  32\n",
      "------------------------------\n",
      "AUC:  0.9696720316107977\n",
      "Epoch -  33\n",
      "------------------------------\n",
      "AUC:  0.9696562834501579\n",
      "Epoch -  34\n",
      "------------------------------\n",
      "AUC:  0.9700400257166175\n",
      "Epoch -  35\n",
      "------------------------------\n",
      "AUC:  0.970091148430061\n",
      "Epoch -  36\n",
      "------------------------------\n",
      "AUC:  0.9700848601653363\n",
      "Epoch -  37\n",
      "------------------------------\n",
      "AUC:  0.9697178835161723\n",
      "Epoch -  38\n",
      "------------------------------\n",
      "AUC:  0.969741167551431\n",
      "Epoch -  39\n",
      "------------------------------\n",
      "AUC:  0.9697709368267188\n",
      "Epoch -  40\n",
      "------------------------------\n",
      "AUC:  0.9701603079838189\n",
      "Epoch -  41\n",
      "------------------------------\n",
      "AUC:  0.9697863648651265\n",
      "Epoch -  42\n",
      "------------------------------\n",
      "AUC:  0.970155015057127\n",
      "Epoch -  43\n",
      "------------------------------\n",
      "AUC:  0.9702312794712566\n",
      "Epoch -  44\n",
      "------------------------------\n",
      "AUC:  0.9701909859160491\n",
      "Epoch -  45\n",
      "------------------------------\n",
      "AUC:  0.9698416638137032\n",
      "Epoch -  46\n",
      "------------------------------\n",
      "AUC:  0.9699605920624995\n",
      "Epoch -  47\n",
      "------------------------------\n",
      "AUC:  0.9699607433060564\n",
      "Epoch -  48\n",
      "------------------------------\n",
      "AUC:  0.9702804987875253\n",
      "Epoch -  49\n",
      "------------------------------\n",
      "AUC:  0.97030221748186\n",
      "\n"
     ]
    }
   ],
   "source": [
    "print('Training classifier...', flush=True)\n",
    "# clf = SGDClassifier(loss='log', alpha=0.01)\n",
    "# batch_size=50000\n",
    "# num_epochs = 50\n",
    "# aucs = []\n",
    "for i in trange(num_epochs):\n",
    "    print('Epoch - ', i)\n",
    "    print('-' * 30)\n",
    "    for idxs in chunker(range(train_sz), batch_size):\n",
    "        clf.partial_fit(XX_train[idxs, :], Y_train[idxs], classes=[0, 1])\n",
    "\n",
    "    probs = clf.predict_proba(XX_test)[:, 1]\n",
    "    fpr, tpr, thresh = roc_curve(Y_test, probs)\n",
    "    roc_auc = auc(fpr, tpr)\n",
    "    aucs.append(roc_auc)\n",
    "    print('AUC: ', roc_auc)\n",
    "    with open(TEMP_DATA_PATH + 'experiment_data.p', 'wb') as f:\n",
    "        pickle.dump((\n",
    "            aucs,\n",
    "            clf,\n",
    "            roc_auc,\n",
    "            transformer, \n",
    "            scaler,\n",
    "            secondary_scaler,\n",
    "            feature_sz,\n",
    "            train_sz,\n",
    "            train_idxs,\n",
    "            test_sz,\n",
    "            test_idxs\n",
    "        ), f)"
   ]
  },
  {
   "cell_type": "code",
   "execution_count": 37,
   "metadata": {},
   "outputs": [
    {
     "data": {
      "application/vnd.plotly.v1+json": {
       "config": {
        "plotlyServerURL": "https://plot.ly"
       },
       "data": [
        {
         "type": "scatter",
         "x": [
          0,
          1,
          2,
          3,
          4,
          5,
          6,
          7,
          8,
          9,
          10,
          11,
          12,
          13,
          14,
          15,
          16,
          17,
          18,
          19,
          20,
          21,
          22,
          23,
          24,
          25,
          26,
          27,
          28,
          29,
          30,
          31,
          32,
          33,
          34,
          35,
          36,
          37,
          38,
          39,
          40,
          41,
          42,
          43,
          44,
          45,
          46,
          47,
          48,
          49,
          50,
          51,
          52,
          53,
          54,
          55,
          56,
          57,
          58,
          59,
          60,
          61,
          62,
          63,
          64,
          65,
          66,
          67,
          68,
          69,
          70,
          71,
          72,
          73,
          74,
          75,
          76,
          77,
          78,
          79,
          80,
          81,
          82,
          83,
          84,
          85,
          86,
          87,
          88,
          89,
          90,
          91,
          92,
          93,
          94,
          95,
          96,
          97,
          98,
          99
         ],
         "y": [
          0.9553260027609829,
          0.9590673412307849,
          0.9619280709650934,
          0.9620342254102361,
          0.9637888416678739,
          0.964702461551419,
          0.9650767914471126,
          0.9644161126631117,
          0.9649394288205891,
          0.9649976862844354,
          0.9656966533014628,
          0.9660561927131102,
          0.9664128112709273,
          0.9665179267385919,
          0.9661290664021218,
          0.9667586724065824,
          0.9666490133553036,
          0.9665585729961652,
          0.9673213899018415,
          0.9672463880426219,
          0.9667863649225154,
          0.9668712394589787,
          0.9677847995624616,
          0.9673285389994591,
          0.9678640936301348,
          0.9674720434295551,
          0.967586937719766,
          0.9680983424009844,
          0.9676430347321706,
          0.968163944443251,
          0.9684203010766391,
          0.9680357191992084,
          0.9680274701484494,
          0.9682541716864683,
          0.9682218707255538,
          0.968672270451275,
          0.9682464923397005,
          0.9683378386656786,
          0.9687661239530548,
          0.9688758927007475,
          0.9684481083702912,
          0.9689964768572621,
          0.9689390168594432,
          0.9689748310946031,
          0.9687081970729516,
          0.9685600865890764,
          0.9691206717295229,
          0.9691297439517362,
          0.9687930512841937,
          0.9692051307945552,
          0.9690182421800451,
          0.9689126771663139,
          0.9689380185324076,
          0.9689314457145877,
          0.9694374426913952,
          0.9689141800370734,
          0.9690494497636252,
          0.9690188710662977,
          0.9690604098401971,
          0.9695506206960254,
          0.9692774963530396,
          0.9693552570621218,
          0.9692160134559469,
          0.9696339529068885,
          0.9696279234898324,
          0.9692436010578709,
          0.9696925588884961,
          0.9696465192737269,
          0.969552118186579,
          0.969746599466767,
          0.9697944330811977,
          0.9697810375648992,
          0.9694552622311842,
          0.9694358525417452,
          0.9697048658098655,
          0.9695175288448903,
          0.9695067977259559,
          0.9695948552518219,
          0.9695849748031702,
          0.9699489507921208,
          0.9699687660892806,
          0.969976336038535,
          0.9696720316107977,
          0.9696562834501579,
          0.9700400257166175,
          0.970091148430061,
          0.9700848601653363,
          0.9697178835161723,
          0.969741167551431,
          0.9697709368267188,
          0.9701603079838189,
          0.9697863648651265,
          0.970155015057127,
          0.9702312794712566,
          0.9701909859160491,
          0.9698416638137032,
          0.9699605920624995,
          0.9699607433060564,
          0.9702804987875253,
          0.97030221748186
         ]
        }
       ],
       "layout": {
        "template": {
         "data": {
          "bar": [
           {
            "error_x": {
             "color": "#2a3f5f"
            },
            "error_y": {
             "color": "#2a3f5f"
            },
            "marker": {
             "line": {
              "color": "#E5ECF6",
              "width": 0.5
             }
            },
            "type": "bar"
           }
          ],
          "barpolar": [
           {
            "marker": {
             "line": {
              "color": "#E5ECF6",
              "width": 0.5
             }
            },
            "type": "barpolar"
           }
          ],
          "carpet": [
           {
            "aaxis": {
             "endlinecolor": "#2a3f5f",
             "gridcolor": "white",
             "linecolor": "white",
             "minorgridcolor": "white",
             "startlinecolor": "#2a3f5f"
            },
            "baxis": {
             "endlinecolor": "#2a3f5f",
             "gridcolor": "white",
             "linecolor": "white",
             "minorgridcolor": "white",
             "startlinecolor": "#2a3f5f"
            },
            "type": "carpet"
           }
          ],
          "choropleth": [
           {
            "colorbar": {
             "outlinewidth": 0,
             "ticks": ""
            },
            "type": "choropleth"
           }
          ],
          "contour": [
           {
            "colorbar": {
             "outlinewidth": 0,
             "ticks": ""
            },
            "colorscale": [
             [
              0,
              "#0d0887"
             ],
             [
              0.1111111111111111,
              "#46039f"
             ],
             [
              0.2222222222222222,
              "#7201a8"
             ],
             [
              0.3333333333333333,
              "#9c179e"
             ],
             [
              0.4444444444444444,
              "#bd3786"
             ],
             [
              0.5555555555555556,
              "#d8576b"
             ],
             [
              0.6666666666666666,
              "#ed7953"
             ],
             [
              0.7777777777777778,
              "#fb9f3a"
             ],
             [
              0.8888888888888888,
              "#fdca26"
             ],
             [
              1,
              "#f0f921"
             ]
            ],
            "type": "contour"
           }
          ],
          "contourcarpet": [
           {
            "colorbar": {
             "outlinewidth": 0,
             "ticks": ""
            },
            "type": "contourcarpet"
           }
          ],
          "heatmap": [
           {
            "colorbar": {
             "outlinewidth": 0,
             "ticks": ""
            },
            "colorscale": [
             [
              0,
              "#0d0887"
             ],
             [
              0.1111111111111111,
              "#46039f"
             ],
             [
              0.2222222222222222,
              "#7201a8"
             ],
             [
              0.3333333333333333,
              "#9c179e"
             ],
             [
              0.4444444444444444,
              "#bd3786"
             ],
             [
              0.5555555555555556,
              "#d8576b"
             ],
             [
              0.6666666666666666,
              "#ed7953"
             ],
             [
              0.7777777777777778,
              "#fb9f3a"
             ],
             [
              0.8888888888888888,
              "#fdca26"
             ],
             [
              1,
              "#f0f921"
             ]
            ],
            "type": "heatmap"
           }
          ],
          "heatmapgl": [
           {
            "colorbar": {
             "outlinewidth": 0,
             "ticks": ""
            },
            "colorscale": [
             [
              0,
              "#0d0887"
             ],
             [
              0.1111111111111111,
              "#46039f"
             ],
             [
              0.2222222222222222,
              "#7201a8"
             ],
             [
              0.3333333333333333,
              "#9c179e"
             ],
             [
              0.4444444444444444,
              "#bd3786"
             ],
             [
              0.5555555555555556,
              "#d8576b"
             ],
             [
              0.6666666666666666,
              "#ed7953"
             ],
             [
              0.7777777777777778,
              "#fb9f3a"
             ],
             [
              0.8888888888888888,
              "#fdca26"
             ],
             [
              1,
              "#f0f921"
             ]
            ],
            "type": "heatmapgl"
           }
          ],
          "histogram": [
           {
            "marker": {
             "colorbar": {
              "outlinewidth": 0,
              "ticks": ""
             }
            },
            "type": "histogram"
           }
          ],
          "histogram2d": [
           {
            "colorbar": {
             "outlinewidth": 0,
             "ticks": ""
            },
            "colorscale": [
             [
              0,
              "#0d0887"
             ],
             [
              0.1111111111111111,
              "#46039f"
             ],
             [
              0.2222222222222222,
              "#7201a8"
             ],
             [
              0.3333333333333333,
              "#9c179e"
             ],
             [
              0.4444444444444444,
              "#bd3786"
             ],
             [
              0.5555555555555556,
              "#d8576b"
             ],
             [
              0.6666666666666666,
              "#ed7953"
             ],
             [
              0.7777777777777778,
              "#fb9f3a"
             ],
             [
              0.8888888888888888,
              "#fdca26"
             ],
             [
              1,
              "#f0f921"
             ]
            ],
            "type": "histogram2d"
           }
          ],
          "histogram2dcontour": [
           {
            "colorbar": {
             "outlinewidth": 0,
             "ticks": ""
            },
            "colorscale": [
             [
              0,
              "#0d0887"
             ],
             [
              0.1111111111111111,
              "#46039f"
             ],
             [
              0.2222222222222222,
              "#7201a8"
             ],
             [
              0.3333333333333333,
              "#9c179e"
             ],
             [
              0.4444444444444444,
              "#bd3786"
             ],
             [
              0.5555555555555556,
              "#d8576b"
             ],
             [
              0.6666666666666666,
              "#ed7953"
             ],
             [
              0.7777777777777778,
              "#fb9f3a"
             ],
             [
              0.8888888888888888,
              "#fdca26"
             ],
             [
              1,
              "#f0f921"
             ]
            ],
            "type": "histogram2dcontour"
           }
          ],
          "mesh3d": [
           {
            "colorbar": {
             "outlinewidth": 0,
             "ticks": ""
            },
            "type": "mesh3d"
           }
          ],
          "parcoords": [
           {
            "line": {
             "colorbar": {
              "outlinewidth": 0,
              "ticks": ""
             }
            },
            "type": "parcoords"
           }
          ],
          "scatter": [
           {
            "marker": {
             "colorbar": {
              "outlinewidth": 0,
              "ticks": ""
             }
            },
            "type": "scatter"
           }
          ],
          "scatter3d": [
           {
            "line": {
             "colorbar": {
              "outlinewidth": 0,
              "ticks": ""
             }
            },
            "marker": {
             "colorbar": {
              "outlinewidth": 0,
              "ticks": ""
             }
            },
            "type": "scatter3d"
           }
          ],
          "scattercarpet": [
           {
            "marker": {
             "colorbar": {
              "outlinewidth": 0,
              "ticks": ""
             }
            },
            "type": "scattercarpet"
           }
          ],
          "scattergeo": [
           {
            "marker": {
             "colorbar": {
              "outlinewidth": 0,
              "ticks": ""
             }
            },
            "type": "scattergeo"
           }
          ],
          "scattergl": [
           {
            "marker": {
             "colorbar": {
              "outlinewidth": 0,
              "ticks": ""
             }
            },
            "type": "scattergl"
           }
          ],
          "scattermapbox": [
           {
            "marker": {
             "colorbar": {
              "outlinewidth": 0,
              "ticks": ""
             }
            },
            "type": "scattermapbox"
           }
          ],
          "scatterpolar": [
           {
            "marker": {
             "colorbar": {
              "outlinewidth": 0,
              "ticks": ""
             }
            },
            "type": "scatterpolar"
           }
          ],
          "scatterpolargl": [
           {
            "marker": {
             "colorbar": {
              "outlinewidth": 0,
              "ticks": ""
             }
            },
            "type": "scatterpolargl"
           }
          ],
          "scatterternary": [
           {
            "marker": {
             "colorbar": {
              "outlinewidth": 0,
              "ticks": ""
             }
            },
            "type": "scatterternary"
           }
          ],
          "surface": [
           {
            "colorbar": {
             "outlinewidth": 0,
             "ticks": ""
            },
            "colorscale": [
             [
              0,
              "#0d0887"
             ],
             [
              0.1111111111111111,
              "#46039f"
             ],
             [
              0.2222222222222222,
              "#7201a8"
             ],
             [
              0.3333333333333333,
              "#9c179e"
             ],
             [
              0.4444444444444444,
              "#bd3786"
             ],
             [
              0.5555555555555556,
              "#d8576b"
             ],
             [
              0.6666666666666666,
              "#ed7953"
             ],
             [
              0.7777777777777778,
              "#fb9f3a"
             ],
             [
              0.8888888888888888,
              "#fdca26"
             ],
             [
              1,
              "#f0f921"
             ]
            ],
            "type": "surface"
           }
          ],
          "table": [
           {
            "cells": {
             "fill": {
              "color": "#EBF0F8"
             },
             "line": {
              "color": "white"
             }
            },
            "header": {
             "fill": {
              "color": "#C8D4E3"
             },
             "line": {
              "color": "white"
             }
            },
            "type": "table"
           }
          ]
         },
         "layout": {
          "annotationdefaults": {
           "arrowcolor": "#2a3f5f",
           "arrowhead": 0,
           "arrowwidth": 1
          },
          "colorscale": {
           "diverging": [
            [
             0,
             "#8e0152"
            ],
            [
             0.1,
             "#c51b7d"
            ],
            [
             0.2,
             "#de77ae"
            ],
            [
             0.3,
             "#f1b6da"
            ],
            [
             0.4,
             "#fde0ef"
            ],
            [
             0.5,
             "#f7f7f7"
            ],
            [
             0.6,
             "#e6f5d0"
            ],
            [
             0.7,
             "#b8e186"
            ],
            [
             0.8,
             "#7fbc41"
            ],
            [
             0.9,
             "#4d9221"
            ],
            [
             1,
             "#276419"
            ]
           ],
           "sequential": [
            [
             0,
             "#0d0887"
            ],
            [
             0.1111111111111111,
             "#46039f"
            ],
            [
             0.2222222222222222,
             "#7201a8"
            ],
            [
             0.3333333333333333,
             "#9c179e"
            ],
            [
             0.4444444444444444,
             "#bd3786"
            ],
            [
             0.5555555555555556,
             "#d8576b"
            ],
            [
             0.6666666666666666,
             "#ed7953"
            ],
            [
             0.7777777777777778,
             "#fb9f3a"
            ],
            [
             0.8888888888888888,
             "#fdca26"
            ],
            [
             1,
             "#f0f921"
            ]
           ],
           "sequentialminus": [
            [
             0,
             "#0d0887"
            ],
            [
             0.1111111111111111,
             "#46039f"
            ],
            [
             0.2222222222222222,
             "#7201a8"
            ],
            [
             0.3333333333333333,
             "#9c179e"
            ],
            [
             0.4444444444444444,
             "#bd3786"
            ],
            [
             0.5555555555555556,
             "#d8576b"
            ],
            [
             0.6666666666666666,
             "#ed7953"
            ],
            [
             0.7777777777777778,
             "#fb9f3a"
            ],
            [
             0.8888888888888888,
             "#fdca26"
            ],
            [
             1,
             "#f0f921"
            ]
           ]
          },
          "colorway": [
           "#636efa",
           "#EF553B",
           "#00cc96",
           "#ab63fa",
           "#FFA15A",
           "#19d3f3",
           "#FF6692",
           "#B6E880",
           "#FF97FF",
           "#FECB52"
          ],
          "font": {
           "color": "#2a3f5f"
          },
          "geo": {
           "bgcolor": "white",
           "lakecolor": "white",
           "landcolor": "#E5ECF6",
           "showlakes": true,
           "showland": true,
           "subunitcolor": "white"
          },
          "hoverlabel": {
           "align": "left"
          },
          "hovermode": "closest",
          "mapbox": {
           "style": "light"
          },
          "paper_bgcolor": "white",
          "plot_bgcolor": "#E5ECF6",
          "polar": {
           "angularaxis": {
            "gridcolor": "white",
            "linecolor": "white",
            "ticks": ""
           },
           "bgcolor": "#E5ECF6",
           "radialaxis": {
            "gridcolor": "white",
            "linecolor": "white",
            "ticks": ""
           }
          },
          "scene": {
           "xaxis": {
            "backgroundcolor": "#E5ECF6",
            "gridcolor": "white",
            "gridwidth": 2,
            "linecolor": "white",
            "showbackground": true,
            "ticks": "",
            "zerolinecolor": "white"
           },
           "yaxis": {
            "backgroundcolor": "#E5ECF6",
            "gridcolor": "white",
            "gridwidth": 2,
            "linecolor": "white",
            "showbackground": true,
            "ticks": "",
            "zerolinecolor": "white"
           },
           "zaxis": {
            "backgroundcolor": "#E5ECF6",
            "gridcolor": "white",
            "gridwidth": 2,
            "linecolor": "white",
            "showbackground": true,
            "ticks": "",
            "zerolinecolor": "white"
           }
          },
          "shapedefaults": {
           "line": {
            "color": "#2a3f5f"
           }
          },
          "ternary": {
           "aaxis": {
            "gridcolor": "white",
            "linecolor": "white",
            "ticks": ""
           },
           "baxis": {
            "gridcolor": "white",
            "linecolor": "white",
            "ticks": ""
           },
           "bgcolor": "#E5ECF6",
           "caxis": {
            "gridcolor": "white",
            "linecolor": "white",
            "ticks": ""
           }
          },
          "title": {
           "x": 0.05
          },
          "xaxis": {
           "automargin": true,
           "gridcolor": "white",
           "linecolor": "white",
           "ticks": "",
           "zerolinecolor": "white",
           "zerolinewidth": 2
          },
          "yaxis": {
           "automargin": true,
           "gridcolor": "white",
           "linecolor": "white",
           "ticks": "",
           "zerolinecolor": "white",
           "zerolinewidth": 2
          }
         }
        }
       }
      },
      "text/html": [
       "<div>\n",
       "        \n",
       "        \n",
       "            <div id=\"ab9c787c-34e3-46d4-bfe0-603cdc9cac3e\" class=\"plotly-graph-div\" style=\"height:525px; width:100%;\"></div>\n",
       "            <script type=\"text/javascript\">\n",
       "                require([\"plotly\"], function(Plotly) {\n",
       "                    window.PLOTLYENV=window.PLOTLYENV || {};\n",
       "                    \n",
       "                if (document.getElementById(\"ab9c787c-34e3-46d4-bfe0-603cdc9cac3e\")) {\n",
       "                    Plotly.newPlot(\n",
       "                        'ab9c787c-34e3-46d4-bfe0-603cdc9cac3e',\n",
       "                        [{\"type\": \"scatter\", \"x\": [0, 1, 2, 3, 4, 5, 6, 7, 8, 9, 10, 11, 12, 13, 14, 15, 16, 17, 18, 19, 20, 21, 22, 23, 24, 25, 26, 27, 28, 29, 30, 31, 32, 33, 34, 35, 36, 37, 38, 39, 40, 41, 42, 43, 44, 45, 46, 47, 48, 49, 50, 51, 52, 53, 54, 55, 56, 57, 58, 59, 60, 61, 62, 63, 64, 65, 66, 67, 68, 69, 70, 71, 72, 73, 74, 75, 76, 77, 78, 79, 80, 81, 82, 83, 84, 85, 86, 87, 88, 89, 90, 91, 92, 93, 94, 95, 96, 97, 98, 99], \"y\": [0.9553260027609829, 0.9590673412307849, 0.9619280709650934, 0.9620342254102361, 0.9637888416678739, 0.964702461551419, 0.9650767914471126, 0.9644161126631117, 0.9649394288205891, 0.9649976862844354, 0.9656966533014628, 0.9660561927131102, 0.9664128112709273, 0.9665179267385919, 0.9661290664021218, 0.9667586724065824, 0.9666490133553036, 0.9665585729961652, 0.9673213899018415, 0.9672463880426219, 0.9667863649225154, 0.9668712394589787, 0.9677847995624616, 0.9673285389994591, 0.9678640936301348, 0.9674720434295551, 0.967586937719766, 0.9680983424009844, 0.9676430347321706, 0.968163944443251, 0.9684203010766391, 0.9680357191992084, 0.9680274701484494, 0.9682541716864683, 0.9682218707255538, 0.968672270451275, 0.9682464923397005, 0.9683378386656786, 0.9687661239530548, 0.9688758927007475, 0.9684481083702912, 0.9689964768572621, 0.9689390168594432, 0.9689748310946031, 0.9687081970729516, 0.9685600865890764, 0.9691206717295229, 0.9691297439517362, 0.9687930512841937, 0.9692051307945552, 0.9690182421800451, 0.9689126771663139, 0.9689380185324076, 0.9689314457145877, 0.9694374426913952, 0.9689141800370734, 0.9690494497636252, 0.9690188710662977, 0.9690604098401971, 0.9695506206960254, 0.9692774963530396, 0.9693552570621218, 0.9692160134559469, 0.9696339529068885, 0.9696279234898324, 0.9692436010578709, 0.9696925588884961, 0.9696465192737269, 0.969552118186579, 0.969746599466767, 0.9697944330811977, 0.9697810375648992, 0.9694552622311842, 0.9694358525417452, 0.9697048658098655, 0.9695175288448903, 0.9695067977259559, 0.9695948552518219, 0.9695849748031702, 0.9699489507921208, 0.9699687660892806, 0.969976336038535, 0.9696720316107977, 0.9696562834501579, 0.9700400257166175, 0.970091148430061, 0.9700848601653363, 0.9697178835161723, 0.969741167551431, 0.9697709368267188, 0.9701603079838189, 0.9697863648651265, 0.970155015057127, 0.9702312794712566, 0.9701909859160491, 0.9698416638137032, 0.9699605920624995, 0.9699607433060564, 0.9702804987875253, 0.97030221748186]}],\n",
       "                        {\"template\": {\"data\": {\"bar\": [{\"error_x\": {\"color\": \"#2a3f5f\"}, \"error_y\": {\"color\": \"#2a3f5f\"}, \"marker\": {\"line\": {\"color\": \"#E5ECF6\", \"width\": 0.5}}, \"type\": \"bar\"}], \"barpolar\": [{\"marker\": {\"line\": {\"color\": \"#E5ECF6\", \"width\": 0.5}}, \"type\": \"barpolar\"}], \"carpet\": [{\"aaxis\": {\"endlinecolor\": \"#2a3f5f\", \"gridcolor\": \"white\", \"linecolor\": \"white\", \"minorgridcolor\": \"white\", \"startlinecolor\": \"#2a3f5f\"}, \"baxis\": {\"endlinecolor\": \"#2a3f5f\", \"gridcolor\": \"white\", \"linecolor\": \"white\", \"minorgridcolor\": \"white\", \"startlinecolor\": \"#2a3f5f\"}, \"type\": \"carpet\"}], \"choropleth\": [{\"colorbar\": {\"outlinewidth\": 0, \"ticks\": \"\"}, \"type\": \"choropleth\"}], \"contour\": [{\"colorbar\": {\"outlinewidth\": 0, \"ticks\": \"\"}, \"colorscale\": [[0.0, \"#0d0887\"], [0.1111111111111111, \"#46039f\"], [0.2222222222222222, \"#7201a8\"], [0.3333333333333333, \"#9c179e\"], [0.4444444444444444, \"#bd3786\"], [0.5555555555555556, \"#d8576b\"], [0.6666666666666666, \"#ed7953\"], [0.7777777777777778, \"#fb9f3a\"], [0.8888888888888888, \"#fdca26\"], [1.0, \"#f0f921\"]], \"type\": \"contour\"}], \"contourcarpet\": [{\"colorbar\": {\"outlinewidth\": 0, \"ticks\": \"\"}, \"type\": \"contourcarpet\"}], \"heatmap\": [{\"colorbar\": {\"outlinewidth\": 0, \"ticks\": \"\"}, \"colorscale\": [[0.0, \"#0d0887\"], [0.1111111111111111, \"#46039f\"], [0.2222222222222222, \"#7201a8\"], [0.3333333333333333, \"#9c179e\"], [0.4444444444444444, \"#bd3786\"], [0.5555555555555556, \"#d8576b\"], [0.6666666666666666, \"#ed7953\"], [0.7777777777777778, \"#fb9f3a\"], [0.8888888888888888, \"#fdca26\"], [1.0, \"#f0f921\"]], \"type\": \"heatmap\"}], \"heatmapgl\": [{\"colorbar\": {\"outlinewidth\": 0, \"ticks\": \"\"}, \"colorscale\": [[0.0, \"#0d0887\"], [0.1111111111111111, \"#46039f\"], [0.2222222222222222, \"#7201a8\"], [0.3333333333333333, \"#9c179e\"], [0.4444444444444444, \"#bd3786\"], [0.5555555555555556, \"#d8576b\"], [0.6666666666666666, \"#ed7953\"], [0.7777777777777778, \"#fb9f3a\"], [0.8888888888888888, \"#fdca26\"], [1.0, \"#f0f921\"]], \"type\": \"heatmapgl\"}], \"histogram\": [{\"marker\": {\"colorbar\": {\"outlinewidth\": 0, \"ticks\": \"\"}}, \"type\": \"histogram\"}], \"histogram2d\": [{\"colorbar\": {\"outlinewidth\": 0, \"ticks\": \"\"}, \"colorscale\": [[0.0, \"#0d0887\"], [0.1111111111111111, \"#46039f\"], [0.2222222222222222, \"#7201a8\"], [0.3333333333333333, \"#9c179e\"], [0.4444444444444444, \"#bd3786\"], [0.5555555555555556, \"#d8576b\"], [0.6666666666666666, \"#ed7953\"], [0.7777777777777778, \"#fb9f3a\"], [0.8888888888888888, \"#fdca26\"], [1.0, \"#f0f921\"]], \"type\": \"histogram2d\"}], \"histogram2dcontour\": [{\"colorbar\": {\"outlinewidth\": 0, \"ticks\": \"\"}, \"colorscale\": [[0.0, \"#0d0887\"], [0.1111111111111111, \"#46039f\"], [0.2222222222222222, \"#7201a8\"], [0.3333333333333333, \"#9c179e\"], [0.4444444444444444, \"#bd3786\"], [0.5555555555555556, \"#d8576b\"], [0.6666666666666666, \"#ed7953\"], [0.7777777777777778, \"#fb9f3a\"], [0.8888888888888888, \"#fdca26\"], [1.0, \"#f0f921\"]], \"type\": \"histogram2dcontour\"}], \"mesh3d\": [{\"colorbar\": {\"outlinewidth\": 0, \"ticks\": \"\"}, \"type\": \"mesh3d\"}], \"parcoords\": [{\"line\": {\"colorbar\": {\"outlinewidth\": 0, \"ticks\": \"\"}}, \"type\": \"parcoords\"}], \"scatter\": [{\"marker\": {\"colorbar\": {\"outlinewidth\": 0, \"ticks\": \"\"}}, \"type\": \"scatter\"}], \"scatter3d\": [{\"line\": {\"colorbar\": {\"outlinewidth\": 0, \"ticks\": \"\"}}, \"marker\": {\"colorbar\": {\"outlinewidth\": 0, \"ticks\": \"\"}}, \"type\": \"scatter3d\"}], \"scattercarpet\": [{\"marker\": {\"colorbar\": {\"outlinewidth\": 0, \"ticks\": \"\"}}, \"type\": \"scattercarpet\"}], \"scattergeo\": [{\"marker\": {\"colorbar\": {\"outlinewidth\": 0, \"ticks\": \"\"}}, \"type\": \"scattergeo\"}], \"scattergl\": [{\"marker\": {\"colorbar\": {\"outlinewidth\": 0, \"ticks\": \"\"}}, \"type\": \"scattergl\"}], \"scattermapbox\": [{\"marker\": {\"colorbar\": {\"outlinewidth\": 0, \"ticks\": \"\"}}, \"type\": \"scattermapbox\"}], \"scatterpolar\": [{\"marker\": {\"colorbar\": {\"outlinewidth\": 0, \"ticks\": \"\"}}, \"type\": \"scatterpolar\"}], \"scatterpolargl\": [{\"marker\": {\"colorbar\": {\"outlinewidth\": 0, \"ticks\": \"\"}}, \"type\": \"scatterpolargl\"}], \"scatterternary\": [{\"marker\": {\"colorbar\": {\"outlinewidth\": 0, \"ticks\": \"\"}}, \"type\": \"scatterternary\"}], \"surface\": [{\"colorbar\": {\"outlinewidth\": 0, \"ticks\": \"\"}, \"colorscale\": [[0.0, \"#0d0887\"], [0.1111111111111111, \"#46039f\"], [0.2222222222222222, \"#7201a8\"], [0.3333333333333333, \"#9c179e\"], [0.4444444444444444, \"#bd3786\"], [0.5555555555555556, \"#d8576b\"], [0.6666666666666666, \"#ed7953\"], [0.7777777777777778, \"#fb9f3a\"], [0.8888888888888888, \"#fdca26\"], [1.0, \"#f0f921\"]], \"type\": \"surface\"}], \"table\": [{\"cells\": {\"fill\": {\"color\": \"#EBF0F8\"}, \"line\": {\"color\": \"white\"}}, \"header\": {\"fill\": {\"color\": \"#C8D4E3\"}, \"line\": {\"color\": \"white\"}}, \"type\": \"table\"}]}, \"layout\": {\"annotationdefaults\": {\"arrowcolor\": \"#2a3f5f\", \"arrowhead\": 0, \"arrowwidth\": 1}, \"colorscale\": {\"diverging\": [[0, \"#8e0152\"], [0.1, \"#c51b7d\"], [0.2, \"#de77ae\"], [0.3, \"#f1b6da\"], [0.4, \"#fde0ef\"], [0.5, \"#f7f7f7\"], [0.6, \"#e6f5d0\"], [0.7, \"#b8e186\"], [0.8, \"#7fbc41\"], [0.9, \"#4d9221\"], [1, \"#276419\"]], \"sequential\": [[0.0, \"#0d0887\"], [0.1111111111111111, \"#46039f\"], [0.2222222222222222, \"#7201a8\"], [0.3333333333333333, \"#9c179e\"], [0.4444444444444444, \"#bd3786\"], [0.5555555555555556, \"#d8576b\"], [0.6666666666666666, \"#ed7953\"], [0.7777777777777778, \"#fb9f3a\"], [0.8888888888888888, \"#fdca26\"], [1.0, \"#f0f921\"]], \"sequentialminus\": [[0.0, \"#0d0887\"], [0.1111111111111111, \"#46039f\"], [0.2222222222222222, \"#7201a8\"], [0.3333333333333333, \"#9c179e\"], [0.4444444444444444, \"#bd3786\"], [0.5555555555555556, \"#d8576b\"], [0.6666666666666666, \"#ed7953\"], [0.7777777777777778, \"#fb9f3a\"], [0.8888888888888888, \"#fdca26\"], [1.0, \"#f0f921\"]]}, \"colorway\": [\"#636efa\", \"#EF553B\", \"#00cc96\", \"#ab63fa\", \"#FFA15A\", \"#19d3f3\", \"#FF6692\", \"#B6E880\", \"#FF97FF\", \"#FECB52\"], \"font\": {\"color\": \"#2a3f5f\"}, \"geo\": {\"bgcolor\": \"white\", \"lakecolor\": \"white\", \"landcolor\": \"#E5ECF6\", \"showlakes\": true, \"showland\": true, \"subunitcolor\": \"white\"}, \"hoverlabel\": {\"align\": \"left\"}, \"hovermode\": \"closest\", \"mapbox\": {\"style\": \"light\"}, \"paper_bgcolor\": \"white\", \"plot_bgcolor\": \"#E5ECF6\", \"polar\": {\"angularaxis\": {\"gridcolor\": \"white\", \"linecolor\": \"white\", \"ticks\": \"\"}, \"bgcolor\": \"#E5ECF6\", \"radialaxis\": {\"gridcolor\": \"white\", \"linecolor\": \"white\", \"ticks\": \"\"}}, \"scene\": {\"xaxis\": {\"backgroundcolor\": \"#E5ECF6\", \"gridcolor\": \"white\", \"gridwidth\": 2, \"linecolor\": \"white\", \"showbackground\": true, \"ticks\": \"\", \"zerolinecolor\": \"white\"}, \"yaxis\": {\"backgroundcolor\": \"#E5ECF6\", \"gridcolor\": \"white\", \"gridwidth\": 2, \"linecolor\": \"white\", \"showbackground\": true, \"ticks\": \"\", \"zerolinecolor\": \"white\"}, \"zaxis\": {\"backgroundcolor\": \"#E5ECF6\", \"gridcolor\": \"white\", \"gridwidth\": 2, \"linecolor\": \"white\", \"showbackground\": true, \"ticks\": \"\", \"zerolinecolor\": \"white\"}}, \"shapedefaults\": {\"line\": {\"color\": \"#2a3f5f\"}}, \"ternary\": {\"aaxis\": {\"gridcolor\": \"white\", \"linecolor\": \"white\", \"ticks\": \"\"}, \"baxis\": {\"gridcolor\": \"white\", \"linecolor\": \"white\", \"ticks\": \"\"}, \"bgcolor\": \"#E5ECF6\", \"caxis\": {\"gridcolor\": \"white\", \"linecolor\": \"white\", \"ticks\": \"\"}}, \"title\": {\"x\": 0.05}, \"xaxis\": {\"automargin\": true, \"gridcolor\": \"white\", \"linecolor\": \"white\", \"ticks\": \"\", \"zerolinecolor\": \"white\", \"zerolinewidth\": 2}, \"yaxis\": {\"automargin\": true, \"gridcolor\": \"white\", \"linecolor\": \"white\", \"ticks\": \"\", \"zerolinecolor\": \"white\", \"zerolinewidth\": 2}}}},\n",
       "                        {\"responsive\": true}\n",
       "                    ).then(function(){\n",
       "                            \n",
       "var gd = document.getElementById('ab9c787c-34e3-46d4-bfe0-603cdc9cac3e');\n",
       "var x = new MutationObserver(function (mutations, observer) {{\n",
       "        var display = window.getComputedStyle(gd).display;\n",
       "        if (!display || display === 'none') {{\n",
       "            console.log([gd, 'removed!']);\n",
       "            Plotly.purge(gd);\n",
       "            observer.disconnect();\n",
       "        }}\n",
       "}});\n",
       "\n",
       "// Listen for the removal of the full notebook cells\n",
       "var notebookContainer = gd.closest('#notebook-container');\n",
       "if (notebookContainer) {{\n",
       "    x.observe(notebookContainer, {childList: true});\n",
       "}}\n",
       "\n",
       "// Listen for the clearing of the current output cell\n",
       "var outputEl = gd.closest('.output');\n",
       "if (outputEl) {{\n",
       "    x.observe(outputEl, {childList: true});\n",
       "}}\n",
       "\n",
       "                        })\n",
       "                };\n",
       "                });\n",
       "            </script>\n",
       "        </div>"
      ]
     },
     "metadata": {},
     "output_type": "display_data"
    }
   ],
   "source": [
    "go.Figure(go.Scatter(\n",
    "    x=np.arange(len(aucs)),\n",
    "    y=aucs\n",
    "))"
   ]
  },
  {
   "cell_type": "code",
   "execution_count": 39,
   "metadata": {
    "collapsed": true
   },
   "outputs": [],
   "source": [
    "with open(TEMP_DATA_PATH + 'model.p', 'wb') as f:\n",
    "    pickle.dump((clf, transformer, scaler, secondary_scaler), f)"
   ]
  },
  {
   "cell_type": "code",
   "execution_count": 48,
   "metadata": {},
   "outputs": [
    {
     "data": {
      "image/png": "[encoded data removed]",
      "text/plain": [
       "<Figure size 432x288 with 1 Axes>"
      ]
     },
     "metadata": {},
     "output_type": "display_data"
    },
    {
     "data": {
      "text/plain": [
       "<Figure size 432x288 with 0 Axes>"
      ]
     },
     "metadata": {},
     "output_type": "display_data"
    }
   ],
   "source": [
    "\n",
    "# style.use('seaborn-white')\n",
    "\n",
    "fig, ax = plt.subplots()\n",
    "plt_x = list(range(len(aucs)))\n",
    "plt_y = aucs\n",
    "plt.plot(plt_x, plt_y, '-')\n",
    "\n",
    "plt.xlabel('Epochs')\n",
    "plt.ylabel('AUC')\n",
    "plt.grid(True, alpha=0.5)\n",
    "plt.tight_layout()\n",
    "# plt.ylim(0.65, 1)\n",
    "plt.show()\n",
    "\n",
    "tikzplotlib.save(FIGURES_PATH + 'plt_pan_full_epoch_vs_auc.pgf')"
   ]
  }
 ],
 "metadata": {
  "kernelspec": {
   "display_name": "Python 3",
   "language": "python",
   "name": "python3"
  },
  "language_info": {
   "codemirror_mode": {
    "name": "ipython",
    "version": 3
   },
   "file_extension": ".py",
   "mimetype": "text/x-python",
   "name": "python",
   "nbconvert_exporter": "python",
   "pygments_lexer": "ipython3",
   "version": "3.6.9"
  }
 },
 "nbformat": 4,
 "nbformat_minor": 2
}
