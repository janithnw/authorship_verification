{
 "cells": [
  {
   "cell_type": "code",
   "execution_count": 1,
   "metadata": {
    "collapsed": true
   },
   "outputs": [],
   "source": [
    "%load_ext autoreload\n",
    "%autoreload 2"
   ]
  },
  {
   "cell_type": "code",
   "execution_count": 2,
   "metadata": {
    "collapsed": true
   },
   "outputs": [],
   "source": [
    "import sys\n",
    "sys.path.append(\"../\")"
   ]
  },
  {
   "cell_type": "code",
   "execution_count": 3,
   "metadata": {
    "collapsed": true
   },
   "outputs": [],
   "source": [
    "import pickle\n",
    "import numpy as np\n",
    "from tqdm.auto import trange, tqdm\n",
    "from features import get_transformer, merge_entries\n",
    "import json\n",
    "from sklearn.preprocessing import StandardScaler\n",
    "from sklearn.linear_model import SGDClassifier\n",
    "from sklearn.metrics import precision_recall_curve\n",
    "from sklearn.metrics import roc_curve, auc\n",
    "from utills import chunker, get_num_chunks, cartesian_product\n",
    "from sklearn.utils.fixes import loguniform\n",
    "from sklearn.model_selection import RandomizedSearchCV\n"
   ]
  },
  {
   "cell_type": "code",
   "execution_count": 4,
   "metadata": {
    "collapsed": true
   },
   "outputs": [],
   "source": [
    "import matplotlib.pyplot as plt\n",
    "import matplotlib.style as style\n",
    "import tikzplotlib\n",
    "%matplotlib inline"
   ]
  },
  {
   "cell_type": "code",
   "execution_count": 5,
   "metadata": {},
   "outputs": [
    {
     "data": {
      "text/html": [
       "        <script type=\"text/javascript\">\n",
       "        window.PlotlyConfig = {MathJaxConfig: 'local'};\n",
       "        if (window.MathJax) {MathJax.Hub.Config({SVG: {font: \"STIX-Web\"}});}\n",
       "        if (typeof require !== 'undefined') {\n",
       "        require.undef(\"plotly\");\n",
       "        requirejs.config({\n",
       "            paths: {\n",
       "                'plotly': ['https://cdn.plot.ly/plotly-latest.min']\n",
       "            }\n",
       "        });\n",
       "        require(['plotly'], function(Plotly) {\n",
       "            window._Plotly = Plotly;\n",
       "        });\n",
       "        }\n",
       "        </script>\n",
       "        "
      ]
     },
     "metadata": {},
     "output_type": "display_data"
    }
   ],
   "source": [
    "from plotly.offline import init_notebook_mode\n",
    "import plotly.offline as py\n",
    "import plotly.graph_objs as go\n",
    "init_notebook_mode(connected=True)"
   ]
  },
  {
   "cell_type": "code",
   "execution_count": 6,
   "metadata": {
    "collapsed": true
   },
   "outputs": [],
   "source": [
    "DATA_DIR = '../data/pan/'\n",
    "GROUND_TRUTH_PATH = DATA_DIR + 'pan20-authorship-verification-training-large-truth.jsonl'\n",
    "DATA_PATH = DATA_DIR + 'pan20-authorship-verification-training-large.jsonl'\n",
    "PREPROCESSED_DATA_PATH = '../temp_data/pan/'\n",
    "TEMP_DATA_PATH = '../temp_data/pan/split_models/'\n",
    "FIGURES_PATH = '../figures/'\n",
    "\n",
    "\n",
    "MAX_CHUNKS = 15"
   ]
  },
  {
   "cell_type": "code",
   "execution_count": 7,
   "metadata": {
    "collapsed": true
   },
   "outputs": [],
   "source": [
    "def fit_transformers(chunk_sz, data_fraction=0.01, max_chunks=MAX_CHUNKS):\n",
    "    docs_1 = []\n",
    "    docs_2 = []\n",
    "    author_bounds_1 = {}\n",
    "    author_bounds_2 = {}\n",
    "    i = 0\n",
    "    with open(PREPROCESSED_DATA_PATH + 'preprocessed_train.jsonl', 'r') as f:\n",
    "        for l in tqdm(f):\n",
    "            if np.random.rand() < data_fraction:\n",
    "                d = json.loads(l)\n",
    "                docs_merged = [merge_entries(c) for c in list(chunker(d['pair'][0][:max_chunks], chunk_sz))]\n",
    "                author_bounds_1[i] = (len(docs_1), len(docs_1) + len(docs_merged))\n",
    "                docs_1.extend(docs_merged)\n",
    "                \n",
    "                docs_merged = [merge_entries(c) for c in list(chunker(d['pair'][1][:max_chunks], chunk_sz))]\n",
    "                author_bounds_2[i] = (len(docs_2), len(docs_2) + len(docs_merged))\n",
    "                docs_2.extend(docs_merged)\n",
    "                i += 1\n",
    "\n",
    "    num_recs = i            \n",
    "    transformer = get_transformer()\n",
    "    scaler = StandardScaler()\n",
    "    secondary_scaler = StandardScaler()\n",
    "\n",
    "    X = transformer.fit_transform(docs_1 + docs_2).todense()\n",
    "    X = scaler.fit_transform(X)\n",
    "    X1 = X[:len(docs_1)]\n",
    "    X2 = X[len(docs_1):]\n",
    "    \n",
    "    XX = []\n",
    "    for i in trange(num_recs):\n",
    "        s_1, e_1 = author_bounds_1[i]\n",
    "        s_2, e_2 = author_bounds_2[i]\n",
    "        \n",
    "        idxs = cartesian_product(range(s_1, e_1), range(s_2, e_2))\n",
    "        XX.extend(np.abs(X1[idxs[:, 0], :] - X2[idxs[:, 1], :]))\n",
    "    \n",
    "    secondary_scaler.fit(XX)\n",
    "    \n",
    "    return transformer, scaler, secondary_scaler\n",
    "\n",
    "def vectorize(vectorized_x_path, vectorized_y_path, ground_truth, transformer, scaler, secondary_scaler, preprocessed_path, vector_sz, chunk_sz, data_fraction=0.25, max_chunks=MAX_CHUNKS):\n",
    "    author_bounds = {}\n",
    "    total_recs = 0\n",
    "    sampled_ids = []\n",
    "    with open(preprocessed_path, 'r') as f:\n",
    "        i = 0;\n",
    "        for l in tqdm(f, total=vector_sz):\n",
    "            if np.random.rand() > data_fraction:\n",
    "                continue\n",
    "            d = json.loads(l)\n",
    "            sampled_ids.append(d['id'])\n",
    "            n_doc1_chunks = get_num_chunks(d['pair'][0][:max_chunks], chunk_sz)\n",
    "            n_doc2_chunks = get_num_chunks(d['pair'][1][:max_chunks], chunk_sz)\n",
    "            author_bounds[i] = (total_recs, total_recs + n_doc1_chunks * n_doc2_chunks)\n",
    "            \n",
    "            total_recs += n_doc1_chunks * n_doc2_chunks\n",
    "            i += 1\n",
    "    ordered_idxs = np.array(range(len(sampled_ids)))\n",
    "    np.random.shuffle(ordered_idxs)\n",
    "    # Shuffle author_bounds mapping\n",
    "    shuffled_author_bounds = {}\n",
    "    temp = {}\n",
    "    b = 0\n",
    "    for i in range(len(ordered_idxs)):\n",
    "        s, e = author_bounds[ordered_idxs[i]]\n",
    "        temp[i] = (b, b + (e - s))\n",
    "        b += (e - s)\n",
    "\n",
    "    for i in range(len(ordered_idxs)):\n",
    "        shuffled_author_bounds[ordered_idxs[i]] = temp[i]\n",
    "    assert len(shuffled_author_bounds) == len(author_bounds) and len(author_bounds) == len(sampled_ids)\n",
    "    x_shape = (total_recs, len(transformer.get_feature_names()))    \n",
    "    XX = np.memmap(vectorized_x_path, dtype='float32', mode='w+', shape=x_shape)\n",
    "    Y = np.memmap(vectorized_y_path, dtype='int32', mode='w+', shape=(total_recs))\n",
    "    \n",
    "    with open(preprocessed_path, 'r') as f:\n",
    "        i = 0;\n",
    "        for l in tqdm(f, total=vector_sz):\n",
    "            d = json.loads(l)\n",
    "            if d['id'] not in sampled_ids:\n",
    "                continue\n",
    "            try:\n",
    "                s, e = shuffled_author_bounds[i]\n",
    "            except:\n",
    "                print('Error:', i, d['id'])\n",
    "                i +=1\n",
    "                continue\n",
    "            docs_merged_1 = [merge_entries(c) for c in list(chunker(d['pair'][0][:max_chunks], chunk_sz))]\n",
    "            docs_merged_2 = [merge_entries(c) for c in list(chunker(d['pair'][1][:max_chunks], chunk_sz))]\n",
    "\n",
    "            X_1 = scaler.transform(transformer.transform(docs_merged_1).todense())\n",
    "            X_2 = scaler.transform(transformer.transform(docs_merged_2).todense())\n",
    "            c_idxs = cartesian_product(range(len(X_1)), range(len(X_2)))\n",
    "\n",
    "            XX[s:e, :] = secondary_scaler.transform(np.abs(X_1[c_idxs[:, 0], :] - X_2[c_idxs[:, 1], :]))\n",
    "            Y[s:e] = ground_truth[d['id']]\n",
    "\n",
    "            i += 1\n",
    "    \n",
    "    XX.flush()\n",
    "    Y.flush()\n",
    "    return ordered_idxs, total_recs"
   ]
  },
  {
   "cell_type": "code",
   "execution_count": 8,
   "metadata": {
    "collapsed": true
   },
   "outputs": [],
   "source": [
    "ground_truth = {}\n",
    "with open(GROUND_TRUTH_PATH, 'r') as f:\n",
    "    for l in f:\n",
    "        d = json.loads(l)\n",
    "        ground_truth[d['id']] = d['same']"
   ]
  },
  {
   "cell_type": "code",
   "execution_count": 9,
   "metadata": {},
   "outputs": [
    {
     "name": "stdout",
     "output_type": "stream",
     "text": [
      "Train Sz: 193536\n",
      "Test Sz: 81963\n"
     ]
    }
   ],
   "source": [
    "train_sz = 193536\n",
    "test_sz = 81963\n",
    "\n",
    "# with open(PREPROCESSED_DATA_PATH + 'preprocessed_train.jsonl', 'r') as f:\n",
    "#     for l in f:\n",
    "#         train_sz += 1\n",
    "\n",
    "# with open(PREPROCESSED_DATA_PATH + 'preprocessed_test.jsonl', 'r') as f:\n",
    "#     for l in f:\n",
    "#         test_sz += 1\n",
    "\n",
    "print('Train Sz:', train_sz, flush=True)\n",
    "print('Test Sz:', test_sz, flush=True)"
   ]
  },
  {
   "cell_type": "markdown",
   "metadata": {},
   "source": [
    "Fit Transofrmers\n",
    "==="
   ]
  },
  {
   "cell_type": "code",
   "execution_count": 10,
   "metadata": {},
   "outputs": [
    {
     "name": "stdout",
     "output_type": "stream",
     "text": [
      "Fitting transformer...\n"
     ]
    },
    {
     "data": {
      "application/vnd.jupyter.widget-view+json": {
       "model_id": "79d494e0d0d44742bc4ae2e363d44679"
      }
     },
     "metadata": {},
     "output_type": "display_data"
    },
    {
     "name": "stdout",
     "output_type": "stream",
     "text": [
      "\n"
     ]
    },
    {
     "name": "stderr",
     "output_type": "stream",
     "text": [
      "/usr/local/lib/python3.6/dist-packages/sklearn/feature_extraction/text.py:507: UserWarning:\n",
      "\n",
      "The parameter 'token_pattern' will not be used since 'tokenizer' is not None'\n",
      "\n",
      "/usr/local/lib/python3.6/dist-packages/sklearn/feature_extraction/text.py:507: UserWarning:\n",
      "\n",
      "The parameter 'token_pattern' will not be used since 'tokenizer' is not None'\n",
      "\n",
      "/usr/local/lib/python3.6/dist-packages/sklearn/feature_extraction/text.py:507: UserWarning:\n",
      "\n",
      "The parameter 'token_pattern' will not be used since 'tokenizer' is not None'\n",
      "\n",
      "/usr/local/lib/python3.6/dist-packages/sklearn/feature_extraction/text.py:507: UserWarning:\n",
      "\n",
      "The parameter 'token_pattern' will not be used since 'tokenizer' is not None'\n",
      "\n",
      "/usr/local/lib/python3.6/dist-packages/sklearn/feature_extraction/text.py:507: UserWarning:\n",
      "\n",
      "The parameter 'token_pattern' will not be used since 'tokenizer' is not None'\n",
      "\n"
     ]
    },
    {
     "data": {
      "application/vnd.jupyter.widget-view+json": {
       "model_id": "de55c82ebdeb4e87b4b92aad50fc4997"
      }
     },
     "metadata": {},
     "output_type": "display_data"
    },
    {
     "name": "stdout",
     "output_type": "stream",
     "text": [
      "\n"
     ]
    }
   ],
   "source": [
    "print('Fitting transformer...', flush=True)\n",
    "chunk_sz = 10\n",
    "transformer, scaler, secondary_scaler = fit_transformers(data_fraction=0.01, chunk_sz=chunk_sz, max_chunks=MAX_CHUNKS)\n",
    "feature_sz = len(transformer.get_feature_names())"
   ]
  },
  {
   "cell_type": "code",
   "execution_count": 11,
   "metadata": {
    "collapsed": true
   },
   "outputs": [],
   "source": [
    "with open(TEMP_DATA_PATH + 'model_' + str(chunk_sz) + '_limitted_data.p', 'wb') as f:\n",
    "    pickle.dump((transformer, scaler, secondary_scaler, chunk_sz), f)"
   ]
  },
  {
   "cell_type": "code",
   "execution_count": null,
   "metadata": {},
   "outputs": [
    {
     "name": "stdout",
     "output_type": "stream",
     "text": [
      "Vectorizing train set...\n"
     ]
    },
    {
     "data": {
      "application/vnd.jupyter.widget-view+json": {
       "model_id": "581ae2dd377f4b409a60bae3b3a9f4f7"
      }
     },
     "metadata": {},
     "output_type": "display_data"
    },
    {
     "name": "stdout",
     "output_type": "stream",
     "text": [
      "\n"
     ]
    },
    {
     "data": {
      "application/vnd.jupyter.widget-view+json": {
       "model_id": "0de422183b5f4743b81a6fdbc35ff264"
      }
     },
     "metadata": {},
     "output_type": "display_data"
    }
   ],
   "source": [
    "print('Vectorizing train set...', flush=True)\n",
    "# train_idxs = np.array(range(train_sz))\n",
    "# np.random.shuffle(train_idxs)\n",
    "\n",
    "train_idxs, total_recs_train = vectorize(\n",
    "    TEMP_DATA_PATH + 'split_vectorized_XX_train_' + str(chunk_sz) + '_limitted_data.npy', \n",
    "    TEMP_DATA_PATH + 'split_Y_train_' + str(chunk_sz) + '_limitted_data.npy', \n",
    "#     train_idxs, \n",
    "    ground_truth,\n",
    "    transformer, \n",
    "    scaler, \n",
    "    secondary_scaler, \n",
    "    PREPROCESSED_DATA_PATH + 'preprocessed_train.jsonl',\n",
    "    train_sz,\n",
    "    chunk_sz,\n",
    "    data_fraction=0.25,\n",
    "    max_chunks=MAX_CHUNKS\n",
    ")"
   ]
  },
  {
   "cell_type": "code",
   "execution_count": 27,
   "metadata": {
    "collapsed": true
   },
   "outputs": [],
   "source": [
    "# vectorized_x_path, vectorized_y_path\n",
    "vectorized_x_path = TEMP_DATA_PATH + 'split_vectorized_XX_train_' + str(chunk_sz) + '_limitted_data.npy'\n",
    "vectorized_y_path = TEMP_DATA_PATH + 'split_Y_train_' + str(chunk_sz) + '_limitted_data.npy'\n",
    "preprocessed_path = PREPROCESSED_DATA_PATH + 'preprocessed_train.jsonl'\n",
    "max_chunks=MAX_CHUNKS\n",
    "data_fraction=0.25"
   ]
  },
  {
   "cell_type": "code",
   "execution_count": 28,
   "metadata": {},
   "outputs": [
    {
     "data": {
      "application/vnd.jupyter.widget-view+json": {
       "model_id": "28ebbd12cafd47b6954692f4a7af9e27"
      }
     },
     "metadata": {},
     "output_type": "display_data"
    },
    {
     "name": "stdout",
     "output_type": "stream",
     "text": [
      "\n"
     ]
    }
   ],
   "source": [
    "author_bounds = {}\n",
    "total_recs = 0\n",
    "sampled_ids = []\n",
    "with open(preprocessed_path, 'r') as f:\n",
    "    i = 0;\n",
    "    for l in tqdm(f, total=train_sz):\n",
    "        if np.random.rand() > data_fraction:\n",
    "            continue\n",
    "        d = json.loads(l)\n",
    "        sampled_ids.append(d['id'])\n",
    "        n_doc1_chunks = get_num_chunks(d['pair'][0][:max_chunks], chunk_sz)\n",
    "        n_doc2_chunks = get_num_chunks(d['pair'][1][:max_chunks], chunk_sz)\n",
    "        author_bounds[i] = (total_recs, total_recs + n_doc1_chunks * n_doc2_chunks)\n",
    "\n",
    "        total_recs += n_doc1_chunks * n_doc2_chunks\n",
    "        i += 1\n",
    "ordered_idxs = np.array(range(len(sampled_ids)))\n",
    "np.random.shuffle(ordered_idxs)\n",
    "# Shuffle author_bounds mapping\n",
    "shuffled_author_bounds = {}\n",
    "temp = {}\n",
    "b = 0\n",
    "for i in range(len(ordered_idxs)):\n",
    "    s, e = author_bounds[ordered_idxs[i]]\n",
    "    temp[i] = (b, b + (e - s))\n",
    "    b += (e - s)\n",
    "\n",
    "for i in range(len(ordered_idxs)):\n",
    "    shuffled_author_bounds[ordered_idxs[i]] = temp[i]"
   ]
  },
  {
   "cell_type": "code",
   "execution_count": 29,
   "metadata": {
    "collapsed": true
   },
   "outputs": [],
   "source": [
    "ordered_idxs = np.array(range(len(sampled_ids)))\n",
    "np.random.shuffle(ordered_idxs)\n",
    "# Shuffle author_bounds mapping\n",
    "shuffled_author_bounds = {}\n",
    "temp = {}\n",
    "b = 0\n",
    "for i in range(len(ordered_idxs)):\n",
    "    s, e = author_bounds[ordered_idxs[i]]\n",
    "    temp[i] = (b, b + (e - s))\n",
    "    b += (e - s)\n",
    "\n",
    "for i in range(len(ordered_idxs)):\n",
    "    shuffled_author_bounds[ordered_idxs[i]] = temp[i]"
   ]
  },
  {
   "cell_type": "code",
   "execution_count": 32,
   "metadata": {},
   "outputs": [
    {
     "data": {
      "text/plain": [
       "(48533, 48533, 48533)"
      ]
     },
     "execution_count": 32,
     "metadata": {},
     "output_type": "execute_result"
    }
   ],
   "source": [
    "len(sampled_ids), len(author_bounds), len(shuffled_author_bounds)"
   ]
  },
  {
   "cell_type": "code",
   "execution_count": 44,
   "metadata": {},
   "outputs": [
    {
     "data": {
      "text/plain": [
       "'../temp_data/pan/split_models/split_vectorized_XX_train_10_limitted_data.npy'"
      ]
     },
     "execution_count": 44,
     "metadata": {},
     "output_type": "execute_result"
    }
   ],
   "source": [
    "vectorized_x_path"
   ]
  },
  {
   "cell_type": "code",
   "execution_count": null,
   "metadata": {
    "collapsed": true
   },
   "outputs": [],
   "source": [
    "#^^ stopped here"
   ]
  },
  {
   "cell_type": "code",
   "execution_count": 33,
   "metadata": {
    "collapsed": true
   },
   "outputs": [],
   "source": [
    "x_shape = (total_recs, len(transformer.get_feature_names()))    \n",
    "XX = np.memmap(vectorized_x_path, dtype='float32', mode='w+', shape=x_shape)\n",
    "Y = np.memmap(vectorized_y_path, dtype='int32', mode='w+', shape=(total_recs))"
   ]
  },
  {
   "cell_type": "code",
   "execution_count": 21,
   "metadata": {},
   "outputs": [
    {
     "data": {
      "text/plain": [
       "20542"
      ]
     },
     "execution_count": 21,
     "metadata": {},
     "output_type": "execute_result"
    }
   ],
   "source": [
    "len(set(shuffled_author_bounds.keys()))"
   ]
  },
  {
   "cell_type": "code",
   "execution_count": 35,
   "metadata": {},
   "outputs": [],
   "source": [
    "train_idxs = ordered_idxs\n",
    "total_recs_train = total_recs"
   ]
  },
  {
   "cell_type": "code",
   "execution_count": 41,
   "metadata": {},
   "outputs": [
    {
     "data": {
      "application/vnd.jupyter.widget-view+json": {
       "model_id": "9b23445ed4be469da364dae7882878f8"
      }
     },
     "metadata": {},
     "output_type": "display_data"
    },
    {
     "name": "stdout",
     "output_type": "stream",
     "text": [
      "\n"
     ]
    },
    {
     "ename": "KeyError",
     "evalue": "48533",
     "output_type": "error",
     "traceback": [
      "\u001b[0;31m---------------------------------------------------------------------------\u001b[0m",
      "\u001b[0;31mKeyError\u001b[0m                                  Traceback (most recent call last)",
      "\u001b[0;32m<ipython-input-41-556dfab11059>\u001b[0m in \u001b[0;36m<module>\u001b[0;34m()\u001b[0m\n\u001b[1;32m      6\u001b[0m         \u001b[0;32mif\u001b[0m \u001b[0md\u001b[0m\u001b[0;34m[\u001b[0m\u001b[0;34m'id'\u001b[0m\u001b[0;34m]\u001b[0m \u001b[0;32mnot\u001b[0m \u001b[0;32min\u001b[0m \u001b[0msampled_ids\u001b[0m\u001b[0;34m:\u001b[0m\u001b[0;34m\u001b[0m\u001b[0;34m\u001b[0m\u001b[0m\n\u001b[1;32m      7\u001b[0m             \u001b[0;32mcontinue\u001b[0m\u001b[0;34m\u001b[0m\u001b[0;34m\u001b[0m\u001b[0m\n\u001b[0;32m----> 8\u001b[0;31m         \u001b[0ms\u001b[0m\u001b[0;34m,\u001b[0m \u001b[0me\u001b[0m \u001b[0;34m=\u001b[0m \u001b[0mshuffled_author_bounds\u001b[0m\u001b[0;34m[\u001b[0m\u001b[0mi\u001b[0m\u001b[0;34m]\u001b[0m\u001b[0;34m\u001b[0m\u001b[0;34m\u001b[0m\u001b[0m\n\u001b[0m\u001b[1;32m      9\u001b[0m         \u001b[0mdocs_merged_1\u001b[0m \u001b[0;34m=\u001b[0m \u001b[0;34m[\u001b[0m\u001b[0mmerge_entries\u001b[0m\u001b[0;34m(\u001b[0m\u001b[0mc\u001b[0m\u001b[0;34m)\u001b[0m \u001b[0;32mfor\u001b[0m \u001b[0mc\u001b[0m \u001b[0;32min\u001b[0m \u001b[0mlist\u001b[0m\u001b[0;34m(\u001b[0m\u001b[0mchunker\u001b[0m\u001b[0;34m(\u001b[0m\u001b[0md\u001b[0m\u001b[0;34m[\u001b[0m\u001b[0;34m'pair'\u001b[0m\u001b[0;34m]\u001b[0m\u001b[0;34m[\u001b[0m\u001b[0;36m0\u001b[0m\u001b[0;34m]\u001b[0m\u001b[0;34m[\u001b[0m\u001b[0;34m:\u001b[0m\u001b[0mmax_chunks\u001b[0m\u001b[0;34m]\u001b[0m\u001b[0;34m,\u001b[0m \u001b[0mchunk_sz\u001b[0m\u001b[0;34m)\u001b[0m\u001b[0;34m)\u001b[0m\u001b[0;34m]\u001b[0m\u001b[0;34m\u001b[0m\u001b[0;34m\u001b[0m\u001b[0m\n\u001b[1;32m     10\u001b[0m         \u001b[0mdocs_merged_2\u001b[0m \u001b[0;34m=\u001b[0m \u001b[0;34m[\u001b[0m\u001b[0mmerge_entries\u001b[0m\u001b[0;34m(\u001b[0m\u001b[0mc\u001b[0m\u001b[0;34m)\u001b[0m \u001b[0;32mfor\u001b[0m \u001b[0mc\u001b[0m \u001b[0;32min\u001b[0m \u001b[0mlist\u001b[0m\u001b[0;34m(\u001b[0m\u001b[0mchunker\u001b[0m\u001b[0;34m(\u001b[0m\u001b[0md\u001b[0m\u001b[0;34m[\u001b[0m\u001b[0;34m'pair'\u001b[0m\u001b[0;34m]\u001b[0m\u001b[0;34m[\u001b[0m\u001b[0;36m1\u001b[0m\u001b[0;34m]\u001b[0m\u001b[0;34m[\u001b[0m\u001b[0;34m:\u001b[0m\u001b[0mmax_chunks\u001b[0m\u001b[0;34m]\u001b[0m\u001b[0;34m,\u001b[0m \u001b[0mchunk_sz\u001b[0m\u001b[0;34m)\u001b[0m\u001b[0;34m)\u001b[0m\u001b[0;34m]\u001b[0m\u001b[0;34m\u001b[0m\u001b[0;34m\u001b[0m\u001b[0m\n",
      "\u001b[0;31mKeyError\u001b[0m: 48533"
     ]
    }
   ],
   "source": [
    "\n",
    "with open(preprocessed_path, 'r') as f:\n",
    "    i = 0;\n",
    "    for l in tqdm(f, total=train_sz):\n",
    "        d = json.loads(l)\n",
    "        if d['id'] not in sampled_ids:\n",
    "            continue\n",
    "        s, e = shuffled_author_bounds[i]\n",
    "        docs_merged_1 = [merge_entries(c) for c in list(chunker(d['pair'][0][:max_chunks], chunk_sz))]\n",
    "        docs_merged_2 = [merge_entries(c) for c in list(chunker(d['pair'][1][:max_chunks], chunk_sz))]\n",
    "\n",
    "        X_1 = scaler.transform(transformer.transform(docs_merged_1).todense())\n",
    "        X_2 = scaler.transform(transformer.transform(docs_merged_2).todense())\n",
    "        c_idxs = cartesian_product(range(len(X_1)), range(len(X_2)))\n",
    "\n",
    "        XX[s:e, :] = secondary_scaler.transform(np.abs(X_1[c_idxs[:, 0], :] - X_2[c_idxs[:, 1], :]))\n",
    "        Y[s:e] = ground_truth[d['id']]\n",
    "        i += 1\n",
    "\n",
    "XX.flush()\n",
    "Y.flush()"
   ]
  },
  {
   "cell_type": "code",
   "execution_count": 42,
   "metadata": {
    "collapsed": true
   },
   "outputs": [],
   "source": [
    "XX.flush()\n",
    "Y.flush()"
   ]
  },
  {
   "cell_type": "code",
   "execution_count": 50,
   "metadata": {},
   "outputs": [
    {
     "data": {
      "text/plain": [
       "((194132, 8885), 48533)"
      ]
     },
     "execution_count": 50,
     "metadata": {},
     "output_type": "execute_result"
    }
   ],
   "source": [
    "XX.shape, len(shuffled_author_bounds)"
   ]
  },
  {
   "cell_type": "code",
   "execution_count": 31,
   "metadata": {
    "scrolled": true
   },
   "outputs": [
    {
     "name": "stdout",
     "output_type": "stream",
     "text": [
      "Vectorizing test set...\n"
     ]
    },
    {
     "data": {
      "application/vnd.jupyter.widget-view+json": {
       "model_id": "dbb98cbc51d94ba4bbce650833e1b613"
      }
     },
     "metadata": {},
     "output_type": "display_data"
    },
    {
     "name": "stdout",
     "output_type": "stream",
     "text": [
      "\n"
     ]
    },
    {
     "data": {
      "application/vnd.jupyter.widget-view+json": {
       "model_id": "46870bd8e2d1413c9a5cb8e32cbb1390"
      }
     },
     "metadata": {},
     "output_type": "display_data"
    },
    {
     "name": "stdout",
     "output_type": "stream",
     "text": [
      "\n"
     ]
    },
    {
     "ename": "ValueError",
     "evalue": "could not broadcast input array from shape (9,7248) into shape (6,7248)",
     "output_type": "error",
     "traceback": [
      "\u001b[0;31m---------------------------------------------------------------------------\u001b[0m",
      "\u001b[0;31mValueError\u001b[0m                                Traceback (most recent call last)",
      "\u001b[0;32m<ipython-input-31-0b9995682ac5>\u001b[0m in \u001b[0;36m<module>\u001b[0;34m()\u001b[0m\n\u001b[1;32m     16\u001b[0m     \u001b[0mchunk_sz\u001b[0m\u001b[0;34m,\u001b[0m\u001b[0;34m\u001b[0m\u001b[0;34m\u001b[0m\u001b[0m\n\u001b[1;32m     17\u001b[0m     \u001b[0mdata_fraction\u001b[0m\u001b[0;34m=\u001b[0m\u001b[0;36m0.25\u001b[0m\u001b[0;34m,\u001b[0m\u001b[0;34m\u001b[0m\u001b[0;34m\u001b[0m\u001b[0m\n\u001b[0;32m---> 18\u001b[0;31m     \u001b[0mmax_chunks\u001b[0m\u001b[0;34m=\u001b[0m\u001b[0mMAX_CHUNKS\u001b[0m\u001b[0;34m\u001b[0m\u001b[0;34m\u001b[0m\u001b[0m\n\u001b[0m\u001b[1;32m     19\u001b[0m )\n",
      "\u001b[0;32m<ipython-input-23-906db28dca05>\u001b[0m in \u001b[0;36mvectorize\u001b[0;34m(vectorized_x_path, vectorized_y_path, ground_truth, transformer, scaler, secondary_scaler, preprocessed_path, vector_sz, chunk_sz, data_fraction, max_chunks)\u001b[0m\n\u001b[1;32m     94\u001b[0m             \u001b[0mc_idxs\u001b[0m \u001b[0;34m=\u001b[0m \u001b[0mcartesian_product\u001b[0m\u001b[0;34m(\u001b[0m\u001b[0mrange\u001b[0m\u001b[0;34m(\u001b[0m\u001b[0mlen\u001b[0m\u001b[0;34m(\u001b[0m\u001b[0mX_1\u001b[0m\u001b[0;34m)\u001b[0m\u001b[0;34m)\u001b[0m\u001b[0;34m,\u001b[0m \u001b[0mrange\u001b[0m\u001b[0;34m(\u001b[0m\u001b[0mlen\u001b[0m\u001b[0;34m(\u001b[0m\u001b[0mX_2\u001b[0m\u001b[0;34m)\u001b[0m\u001b[0;34m)\u001b[0m\u001b[0;34m)\u001b[0m\u001b[0;34m\u001b[0m\u001b[0;34m\u001b[0m\u001b[0m\n\u001b[1;32m     95\u001b[0m \u001b[0;34m\u001b[0m\u001b[0m\n\u001b[0;32m---> 96\u001b[0;31m             \u001b[0mXX\u001b[0m\u001b[0;34m[\u001b[0m\u001b[0ms\u001b[0m\u001b[0;34m:\u001b[0m\u001b[0me\u001b[0m\u001b[0;34m,\u001b[0m \u001b[0;34m:\u001b[0m\u001b[0;34m]\u001b[0m \u001b[0;34m=\u001b[0m \u001b[0msecondary_scaler\u001b[0m\u001b[0;34m.\u001b[0m\u001b[0mtransform\u001b[0m\u001b[0;34m(\u001b[0m\u001b[0mnp\u001b[0m\u001b[0;34m.\u001b[0m\u001b[0mabs\u001b[0m\u001b[0;34m(\u001b[0m\u001b[0mX_1\u001b[0m\u001b[0;34m[\u001b[0m\u001b[0mc_idxs\u001b[0m\u001b[0;34m[\u001b[0m\u001b[0;34m:\u001b[0m\u001b[0;34m,\u001b[0m \u001b[0;36m0\u001b[0m\u001b[0;34m]\u001b[0m\u001b[0;34m,\u001b[0m \u001b[0;34m:\u001b[0m\u001b[0;34m]\u001b[0m \u001b[0;34m-\u001b[0m \u001b[0mX_2\u001b[0m\u001b[0;34m[\u001b[0m\u001b[0mc_idxs\u001b[0m\u001b[0;34m[\u001b[0m\u001b[0;34m:\u001b[0m\u001b[0;34m,\u001b[0m \u001b[0;36m1\u001b[0m\u001b[0;34m]\u001b[0m\u001b[0;34m,\u001b[0m \u001b[0;34m:\u001b[0m\u001b[0;34m]\u001b[0m\u001b[0;34m)\u001b[0m\u001b[0;34m)\u001b[0m\u001b[0;34m\u001b[0m\u001b[0;34m\u001b[0m\u001b[0m\n\u001b[0m\u001b[1;32m     97\u001b[0m             \u001b[0mY\u001b[0m\u001b[0;34m[\u001b[0m\u001b[0ms\u001b[0m\u001b[0;34m:\u001b[0m\u001b[0me\u001b[0m\u001b[0;34m]\u001b[0m \u001b[0;34m=\u001b[0m \u001b[0mground_truth\u001b[0m\u001b[0;34m[\u001b[0m\u001b[0md\u001b[0m\u001b[0;34m[\u001b[0m\u001b[0;34m'id'\u001b[0m\u001b[0;34m]\u001b[0m\u001b[0;34m]\u001b[0m\u001b[0;34m\u001b[0m\u001b[0;34m\u001b[0m\u001b[0m\n\u001b[1;32m     98\u001b[0m \u001b[0;34m\u001b[0m\u001b[0m\n",
      "\u001b[0;31mValueError\u001b[0m: could not broadcast input array from shape (9,7248) into shape (6,7248)"
     ]
    }
   ],
   "source": [
    "print('Vectorizing test set...', flush=True)\n",
    "\n",
    "# test_idxs = np.array(range(test_sz))\n",
    "# np.random.shuffle(test_idxs)\n",
    "\n",
    "test_idxs, total_recs_test = vectorize(\n",
    "    TEMP_DATA_PATH + 'split_vectorized_XX_test_' + str(chunk_sz) + '_limitted_data.npy', \n",
    "    TEMP_DATA_PATH + 'split_Y_test_' + str(chunk_sz) + '_limitted_data.npy', \n",
    "#     test_idxs, \n",
    "    ground_truth,\n",
    "    transformer, \n",
    "    scaler, \n",
    "    secondary_scaler, \n",
    "    PREPROCESSED_DATA_PATH + 'preprocessed_test.jsonl',\n",
    "    test_sz,\n",
    "    chunk_sz,\n",
    "    data_fraction=0.25,\n",
    "    max_chunks=MAX_CHUNKS\n",
    ")\n"
   ]
  },
  {
   "cell_type": "code",
   "execution_count": 45,
   "metadata": {},
   "outputs": [
    {
     "data": {
      "text/plain": [
       "194132"
      ]
     },
     "execution_count": 45,
     "metadata": {},
     "output_type": "execute_result"
    }
   ],
   "source": [
    "total_recs_train"
   ]
  },
  {
   "cell_type": "code",
   "execution_count": 46,
   "metadata": {},
   "outputs": [],
   "source": [
    "with open(TEMP_DATA_PATH + 'experiment_data_' + str(chunk_sz) + '_limitted_data.p', 'wb') as f:\n",
    "    pickle.dump((\n",
    "        transformer, \n",
    "        scaler,\n",
    "        secondary_scaler,\n",
    "        feature_sz,\n",
    "        train_sz,\n",
    "        train_idxs,\n",
    "        test_sz,\n",
    "        test_idxs,\n",
    "        total_recs_train,\n",
    "        total_recs_test\n",
    "    ), f)"
   ]
  },
  {
   "cell_type": "code",
   "execution_count": 47,
   "metadata": {},
   "outputs": [],
   "source": [
    "XX_train = np.memmap(TEMP_DATA_PATH + 'split_vectorized_XX_train_' + str(chunk_sz) + '_limitted_data.npy', dtype='float32', mode='r', shape=(total_recs_train, feature_sz))\n",
    "Y_train = np.memmap(TEMP_DATA_PATH + 'split_Y_train_' + str(chunk_sz) + '_limitted_data.npy', dtype='int32', mode='r', shape=(total_recs_train))\n",
    "\n",
    "XX_test = np.memmap(TEMP_DATA_PATH + 'split_vectorized_XX_test_' + str(chunk_sz) + '_limitted_data.npy', dtype='float32', mode='r', shape=(total_recs_test, feature_sz))\n",
    "Y_test = np.memmap(TEMP_DATA_PATH + 'split_Y_test_' + str(chunk_sz) + '_limitted_data.npy', dtype='int32', mode='r', shape=(total_recs_test))"
   ]
  },
  {
   "cell_type": "code",
   "execution_count": 49,
   "metadata": {
    "scrolled": true
   },
   "outputs": [
    {
     "name": "stdout",
     "output_type": "stream",
     "text": [
      "Training classifier...\n"
     ]
    },
    {
     "data": {
      "application/vnd.jupyter.widget-view+json": {
       "model_id": "017b3085204e4f709d4560849e818130"
      }
     },
     "metadata": {},
     "output_type": "display_data"
    },
    {
     "name": "stdout",
     "output_type": "stream",
     "text": [
      "Epoch -  0\n",
      "------------------------------\n",
      "AUC:  0.8370158365884414\n",
      "Epoch -  1\n",
      "------------------------------\n",
      "AUC:  0.8509624042927079\n",
      "Epoch -  2\n",
      "------------------------------\n",
      "AUC:  0.8648538949144418\n",
      "Epoch -  3\n",
      "------------------------------\n",
      "AUC:  0.8693963771327675\n",
      "Epoch -  4\n",
      "------------------------------\n",
      "AUC:  0.874498552867186\n",
      "Epoch -  5\n",
      "------------------------------\n",
      "AUC:  0.877090151760655\n",
      "Epoch -  6\n",
      "------------------------------\n",
      "AUC:  0.8794289351351223\n",
      "Epoch -  7\n",
      "------------------------------\n",
      "AUC:  0.8804566622310492\n",
      "Epoch -  8\n",
      "------------------------------\n",
      "AUC:  0.8814697905607122\n",
      "Epoch -  9\n",
      "------------------------------\n",
      "AUC:  0.8826867544691316\n",
      "Epoch -  10\n",
      "------------------------------\n",
      "AUC:  0.8832392809288736\n",
      "Epoch -  11\n",
      "------------------------------\n",
      "AUC:  0.8836481534351401\n",
      "Epoch -  12\n",
      "------------------------------\n",
      "AUC:  0.8841378404341655\n",
      "Epoch -  13\n",
      "------------------------------\n",
      "AUC:  0.884711360166012\n",
      "Epoch -  14\n",
      "------------------------------\n",
      "AUC:  0.8848079563372484\n",
      "Epoch -  15\n",
      "------------------------------\n",
      "AUC:  0.8849528401863784\n",
      "Epoch -  16\n",
      "------------------------------\n",
      "AUC:  0.885331894859746\n",
      "Epoch -  17\n",
      "------------------------------\n",
      "AUC:  0.8854254692225583\n",
      "Epoch -  18\n",
      "------------------------------\n",
      "AUC:  0.8857662752115762\n",
      "Epoch -  19\n",
      "------------------------------\n",
      "AUC:  0.8857275049515552\n",
      "Epoch -  20\n",
      "------------------------------\n",
      "AUC:  0.8860134319021666\n",
      "Epoch -  21\n",
      "------------------------------\n",
      "AUC:  0.8860793687016496\n",
      "Epoch -  22\n",
      "------------------------------\n",
      "AUC:  0.8860639408858004\n",
      "Epoch -  23\n",
      "------------------------------\n",
      "AUC:  0.8862899407543323\n",
      "Epoch -  24\n",
      "------------------------------\n",
      "AUC:  0.8862872163094612\n",
      "Epoch -  25\n",
      "------------------------------\n",
      "AUC:  0.8863874694576706\n",
      "Epoch -  26\n",
      "------------------------------\n",
      "AUC:  0.8864734693760644\n",
      "Epoch -  27\n",
      "------------------------------\n",
      "AUC:  0.8865656336409091\n",
      "Epoch -  28\n",
      "------------------------------\n",
      "AUC:  0.8864790294797757\n",
      "Epoch -  29\n",
      "------------------------------\n",
      "AUC:  0.886672563195607\n",
      "Epoch -  30\n",
      "------------------------------\n",
      "AUC:  0.8866292628992217\n",
      "Epoch -  31\n",
      "------------------------------\n",
      "AUC:  0.8866758514417745\n",
      "Epoch -  32\n",
      "------------------------------\n",
      "AUC:  0.8866898780805628\n",
      "Epoch -  33\n",
      "------------------------------\n",
      "AUC:  0.886757820299846\n",
      "Epoch -  34\n",
      "------------------------------\n",
      "AUC:  0.8867953737482088\n",
      "Epoch -  35\n",
      "------------------------------\n",
      "AUC:  0.8868258130709332\n",
      "Epoch -  36\n",
      "------------------------------\n",
      "AUC:  0.8868050624474879\n",
      "Epoch -  37\n",
      "------------------------------\n",
      "AUC:  0.8868154214042152\n",
      "Epoch -  38\n",
      "------------------------------\n",
      "AUC:  0.8867934920316465\n",
      "Epoch -  39\n",
      "------------------------------\n",
      "AUC:  0.8869007356022562\n",
      "Epoch -  40\n",
      "------------------------------\n",
      "AUC:  0.8867897030252558\n",
      "Epoch -  41\n",
      "------------------------------\n",
      "AUC:  0.886887541581416\n",
      "Epoch -  42\n",
      "------------------------------\n",
      "AUC:  0.8869925222153887\n",
      "Epoch -  43\n",
      "------------------------------\n",
      "AUC:  0.8869202545458656\n",
      "Epoch -  44\n",
      "------------------------------\n",
      "AUC:  0.886926490259569\n",
      "Epoch -  45\n",
      "------------------------------\n",
      "AUC:  0.8869307116325653\n",
      "Epoch -  46\n",
      "------------------------------\n",
      "AUC:  0.8869289565928764\n",
      "Epoch -  47\n",
      "------------------------------\n",
      "AUC:  0.8869984290450028\n",
      "Epoch -  48\n",
      "------------------------------\n",
      "AUC:  0.8869959793640543\n",
      "Epoch -  49\n",
      "------------------------------\n",
      "AUC:  0.8869553874549083\n",
      "\n"
     ]
    }
   ],
   "source": [
    "print('Training classifier...', flush=True)\n",
    "clf = SGDClassifier(loss='log', alpha=0.01)\n",
    "batch_size=10000\n",
    "num_epochs = 50\n",
    "aucs = []\n",
    "for i in trange(num_epochs):\n",
    "    print('Epoch - ', i)\n",
    "    print('-' * 30)\n",
    "    for idxs in chunker(range(total_recs_train), batch_size):\n",
    "        clf.partial_fit(XX_train[idxs, :], Y_train[idxs], classes=[0, 1])\n",
    "\n",
    "    probs = clf.predict_proba(XX_test)[:, 1]\n",
    "    fpr, tpr, thresh = roc_curve(Y_test, probs)\n",
    "    roc_auc = auc(fpr, tpr)\n",
    "    aucs.append(roc_auc)\n",
    "    print('AUC: ', roc_auc)\n",
    "    with open(TEMP_DATA_PATH + 'experiment_data_' + str(chunk_sz) + '_limitted_data.p', 'wb') as f:\n",
    "        pickle.dump((\n",
    "            aucs,\n",
    "            clf,\n",
    "            roc_auc,\n",
    "            transformer, \n",
    "            scaler,\n",
    "            secondary_scaler,\n",
    "            feature_sz,\n",
    "            train_sz,\n",
    "            train_idxs,\n",
    "            test_sz,\n",
    "            test_idxs,\n",
    "            total_recs_train,\n",
    "            total_recs_test\n",
    "        ), f)"
   ]
  },
  {
   "cell_type": "code",
   "execution_count": null,
   "metadata": {
    "collapsed": true
   },
   "outputs": [],
   "source": [
    "# Run stops here"
   ]
  },
  {
   "cell_type": "code",
   "execution_count": 51,
   "metadata": {},
   "outputs": [
    {
     "name": "stderr",
     "output_type": "stream",
     "text": [
      "Exception ignored in: <object repr() failed>\n",
      "Traceback (most recent call last):\n",
      "  File \"/usr/local/lib/python3.6/dist-packages/tqdm/std.py\", line 1084, in __del__\n",
      "    self.close()\n",
      "  File \"/usr/local/lib/python3.6/dist-packages/tqdm/notebook.py\", line 241, in close\n",
      "    super(tqdm_notebook, self).close(*args, **kwargs)\n",
      "  File \"/usr/local/lib/python3.6/dist-packages/tqdm/std.py\", line 1260, in close\n",
      "    if self.disable:\n",
      "AttributeError: 'tqdm_notebook' object has no attribute 'disable'\n"
     ]
    },
    {
     "data": {
      "application/vnd.plotly.v1+json": {
       "config": {
        "plotlyServerURL": "https://plot.ly"
       },
       "data": [
        {
         "type": "scatter",
         "x": [
          0,
          1,
          2,
          3,
          4,
          5,
          6,
          7,
          8,
          9,
          10,
          11,
          12,
          13,
          14,
          15,
          16,
          17,
          18,
          19,
          20,
          21,
          22,
          23,
          24,
          25,
          26,
          27,
          28,
          29,
          30,
          31,
          32,
          33,
          34,
          35,
          36,
          37,
          38,
          39,
          40,
          41,
          42,
          43,
          44,
          45,
          46,
          47,
          48,
          49
         ],
         "y": [
          0.8370158365884414,
          0.8509624042927079,
          0.8648538949144418,
          0.8693963771327675,
          0.874498552867186,
          0.877090151760655,
          0.8794289351351223,
          0.8804566622310492,
          0.8814697905607122,
          0.8826867544691316,
          0.8832392809288736,
          0.8836481534351401,
          0.8841378404341655,
          0.884711360166012,
          0.8848079563372484,
          0.8849528401863784,
          0.885331894859746,
          0.8854254692225583,
          0.8857662752115762,
          0.8857275049515552,
          0.8860134319021666,
          0.8860793687016496,
          0.8860639408858004,
          0.8862899407543323,
          0.8862872163094612,
          0.8863874694576706,
          0.8864734693760644,
          0.8865656336409091,
          0.8864790294797757,
          0.886672563195607,
          0.8866292628992217,
          0.8866758514417745,
          0.8866898780805628,
          0.886757820299846,
          0.8867953737482088,
          0.8868258130709332,
          0.8868050624474879,
          0.8868154214042152,
          0.8867934920316465,
          0.8869007356022562,
          0.8867897030252558,
          0.886887541581416,
          0.8869925222153887,
          0.8869202545458656,
          0.886926490259569,
          0.8869307116325653,
          0.8869289565928764,
          0.8869984290450028,
          0.8869959793640543,
          0.8869553874549083
         ]
        }
       ],
       "layout": {
        "template": {
         "data": {
          "bar": [
           {
            "error_x": {
             "color": "#2a3f5f"
            },
            "error_y": {
             "color": "#2a3f5f"
            },
            "marker": {
             "line": {
              "color": "#E5ECF6",
              "width": 0.5
             }
            },
            "type": "bar"
           }
          ],
          "barpolar": [
           {
            "marker": {
             "line": {
              "color": "#E5ECF6",
              "width": 0.5
             }
            },
            "type": "barpolar"
           }
          ],
          "carpet": [
           {
            "aaxis": {
             "endlinecolor": "#2a3f5f",
             "gridcolor": "white",
             "linecolor": "white",
             "minorgridcolor": "white",
             "startlinecolor": "#2a3f5f"
            },
            "baxis": {
             "endlinecolor": "#2a3f5f",
             "gridcolor": "white",
             "linecolor": "white",
             "minorgridcolor": "white",
             "startlinecolor": "#2a3f5f"
            },
            "type": "carpet"
           }
          ],
          "choropleth": [
           {
            "colorbar": {
             "outlinewidth": 0,
             "ticks": ""
            },
            "type": "choropleth"
           }
          ],
          "contour": [
           {
            "colorbar": {
             "outlinewidth": 0,
             "ticks": ""
            },
            "colorscale": [
             [
              0,
              "#0d0887"
             ],
             [
              0.1111111111111111,
              "#46039f"
             ],
             [
              0.2222222222222222,
              "#7201a8"
             ],
             [
              0.3333333333333333,
              "#9c179e"
             ],
             [
              0.4444444444444444,
              "#bd3786"
             ],
             [
              0.5555555555555556,
              "#d8576b"
             ],
             [
              0.6666666666666666,
              "#ed7953"
             ],
             [
              0.7777777777777778,
              "#fb9f3a"
             ],
             [
              0.8888888888888888,
              "#fdca26"
             ],
             [
              1,
              "#f0f921"
             ]
            ],
            "type": "contour"
           }
          ],
          "contourcarpet": [
           {
            "colorbar": {
             "outlinewidth": 0,
             "ticks": ""
            },
            "type": "contourcarpet"
           }
          ],
          "heatmap": [
           {
            "colorbar": {
             "outlinewidth": 0,
             "ticks": ""
            },
            "colorscale": [
             [
              0,
              "#0d0887"
             ],
             [
              0.1111111111111111,
              "#46039f"
             ],
             [
              0.2222222222222222,
              "#7201a8"
             ],
             [
              0.3333333333333333,
              "#9c179e"
             ],
             [
              0.4444444444444444,
              "#bd3786"
             ],
             [
              0.5555555555555556,
              "#d8576b"
             ],
             [
              0.6666666666666666,
              "#ed7953"
             ],
             [
              0.7777777777777778,
              "#fb9f3a"
             ],
             [
              0.8888888888888888,
              "#fdca26"
             ],
             [
              1,
              "#f0f921"
             ]
            ],
            "type": "heatmap"
           }
          ],
          "heatmapgl": [
           {
            "colorbar": {
             "outlinewidth": 0,
             "ticks": ""
            },
            "colorscale": [
             [
              0,
              "#0d0887"
             ],
             [
              0.1111111111111111,
              "#46039f"
             ],
             [
              0.2222222222222222,
              "#7201a8"
             ],
             [
              0.3333333333333333,
              "#9c179e"
             ],
             [
              0.4444444444444444,
              "#bd3786"
             ],
             [
              0.5555555555555556,
              "#d8576b"
             ],
             [
              0.6666666666666666,
              "#ed7953"
             ],
             [
              0.7777777777777778,
              "#fb9f3a"
             ],
             [
              0.8888888888888888,
              "#fdca26"
             ],
             [
              1,
              "#f0f921"
             ]
            ],
            "type": "heatmapgl"
           }
          ],
          "histogram": [
           {
            "marker": {
             "colorbar": {
              "outlinewidth": 0,
              "ticks": ""
             }
            },
            "type": "histogram"
           }
          ],
          "histogram2d": [
           {
            "colorbar": {
             "outlinewidth": 0,
             "ticks": ""
            },
            "colorscale": [
             [
              0,
              "#0d0887"
             ],
             [
              0.1111111111111111,
              "#46039f"
             ],
             [
              0.2222222222222222,
              "#7201a8"
             ],
             [
              0.3333333333333333,
              "#9c179e"
             ],
             [
              0.4444444444444444,
              "#bd3786"
             ],
             [
              0.5555555555555556,
              "#d8576b"
             ],
             [
              0.6666666666666666,
              "#ed7953"
             ],
             [
              0.7777777777777778,
              "#fb9f3a"
             ],
             [
              0.8888888888888888,
              "#fdca26"
             ],
             [
              1,
              "#f0f921"
             ]
            ],
            "type": "histogram2d"
           }
          ],
          "histogram2dcontour": [
           {
            "colorbar": {
             "outlinewidth": 0,
             "ticks": ""
            },
            "colorscale": [
             [
              0,
              "#0d0887"
             ],
             [
              0.1111111111111111,
              "#46039f"
             ],
             [
              0.2222222222222222,
              "#7201a8"
             ],
             [
              0.3333333333333333,
              "#9c179e"
             ],
             [
              0.4444444444444444,
              "#bd3786"
             ],
             [
              0.5555555555555556,
              "#d8576b"
             ],
             [
              0.6666666666666666,
              "#ed7953"
             ],
             [
              0.7777777777777778,
              "#fb9f3a"
             ],
             [
              0.8888888888888888,
              "#fdca26"
             ],
             [
              1,
              "#f0f921"
             ]
            ],
            "type": "histogram2dcontour"
           }
          ],
          "mesh3d": [
           {
            "colorbar": {
             "outlinewidth": 0,
             "ticks": ""
            },
            "type": "mesh3d"
           }
          ],
          "parcoords": [
           {
            "line": {
             "colorbar": {
              "outlinewidth": 0,
              "ticks": ""
             }
            },
            "type": "parcoords"
           }
          ],
          "scatter": [
           {
            "marker": {
             "colorbar": {
              "outlinewidth": 0,
              "ticks": ""
             }
            },
            "type": "scatter"
           }
          ],
          "scatter3d": [
           {
            "line": {
             "colorbar": {
              "outlinewidth": 0,
              "ticks": ""
             }
            },
            "marker": {
             "colorbar": {
              "outlinewidth": 0,
              "ticks": ""
             }
            },
            "type": "scatter3d"
           }
          ],
          "scattercarpet": [
           {
            "marker": {
             "colorbar": {
              "outlinewidth": 0,
              "ticks": ""
             }
            },
            "type": "scattercarpet"
           }
          ],
          "scattergeo": [
           {
            "marker": {
             "colorbar": {
              "outlinewidth": 0,
              "ticks": ""
             }
            },
            "type": "scattergeo"
           }
          ],
          "scattergl": [
           {
            "marker": {
             "colorbar": {
              "outlinewidth": 0,
              "ticks": ""
             }
            },
            "type": "scattergl"
           }
          ],
          "scattermapbox": [
           {
            "marker": {
             "colorbar": {
              "outlinewidth": 0,
              "ticks": ""
             }
            },
            "type": "scattermapbox"
           }
          ],
          "scatterpolar": [
           {
            "marker": {
             "colorbar": {
              "outlinewidth": 0,
              "ticks": ""
             }
            },
            "type": "scatterpolar"
           }
          ],
          "scatterpolargl": [
           {
            "marker": {
             "colorbar": {
              "outlinewidth": 0,
              "ticks": ""
             }
            },
            "type": "scatterpolargl"
           }
          ],
          "scatterternary": [
           {
            "marker": {
             "colorbar": {
              "outlinewidth": 0,
              "ticks": ""
             }
            },
            "type": "scatterternary"
           }
          ],
          "surface": [
           {
            "colorbar": {
             "outlinewidth": 0,
             "ticks": ""
            },
            "colorscale": [
             [
              0,
              "#0d0887"
             ],
             [
              0.1111111111111111,
              "#46039f"
             ],
             [
              0.2222222222222222,
              "#7201a8"
             ],
             [
              0.3333333333333333,
              "#9c179e"
             ],
             [
              0.4444444444444444,
              "#bd3786"
             ],
             [
              0.5555555555555556,
              "#d8576b"
             ],
             [
              0.6666666666666666,
              "#ed7953"
             ],
             [
              0.7777777777777778,
              "#fb9f3a"
             ],
             [
              0.8888888888888888,
              "#fdca26"
             ],
             [
              1,
              "#f0f921"
             ]
            ],
            "type": "surface"
           }
          ],
          "table": [
           {
            "cells": {
             "fill": {
              "color": "#EBF0F8"
             },
             "line": {
              "color": "white"
             }
            },
            "header": {
             "fill": {
              "color": "#C8D4E3"
             },
             "line": {
              "color": "white"
             }
            },
            "type": "table"
           }
          ]
         },
         "layout": {
          "annotationdefaults": {
           "arrowcolor": "#2a3f5f",
           "arrowhead": 0,
           "arrowwidth": 1
          },
          "colorscale": {
           "diverging": [
            [
             0,
             "#8e0152"
            ],
            [
             0.1,
             "#c51b7d"
            ],
            [
             0.2,
             "#de77ae"
            ],
            [
             0.3,
             "#f1b6da"
            ],
            [
             0.4,
             "#fde0ef"
            ],
            [
             0.5,
             "#f7f7f7"
            ],
            [
             0.6,
             "#e6f5d0"
            ],
            [
             0.7,
             "#b8e186"
            ],
            [
             0.8,
             "#7fbc41"
            ],
            [
             0.9,
             "#4d9221"
            ],
            [
             1,
             "#276419"
            ]
           ],
           "sequential": [
            [
             0,
             "#0d0887"
            ],
            [
             0.1111111111111111,
             "#46039f"
            ],
            [
             0.2222222222222222,
             "#7201a8"
            ],
            [
             0.3333333333333333,
             "#9c179e"
            ],
            [
             0.4444444444444444,
             "#bd3786"
            ],
            [
             0.5555555555555556,
             "#d8576b"
            ],
            [
             0.6666666666666666,
             "#ed7953"
            ],
            [
             0.7777777777777778,
             "#fb9f3a"
            ],
            [
             0.8888888888888888,
             "#fdca26"
            ],
            [
             1,
             "#f0f921"
            ]
           ],
           "sequentialminus": [
            [
             0,
             "#0d0887"
            ],
            [
             0.1111111111111111,
             "#46039f"
            ],
            [
             0.2222222222222222,
             "#7201a8"
            ],
            [
             0.3333333333333333,
             "#9c179e"
            ],
            [
             0.4444444444444444,
             "#bd3786"
            ],
            [
             0.5555555555555556,
             "#d8576b"
            ],
            [
             0.6666666666666666,
             "#ed7953"
            ],
            [
             0.7777777777777778,
             "#fb9f3a"
            ],
            [
             0.8888888888888888,
             "#fdca26"
            ],
            [
             1,
             "#f0f921"
            ]
           ]
          },
          "colorway": [
           "#636efa",
           "#EF553B",
           "#00cc96",
           "#ab63fa",
           "#FFA15A",
           "#19d3f3",
           "#FF6692",
           "#B6E880",
           "#FF97FF",
           "#FECB52"
          ],
          "font": {
           "color": "#2a3f5f"
          },
          "geo": {
           "bgcolor": "white",
           "lakecolor": "white",
           "landcolor": "#E5ECF6",
           "showlakes": true,
           "showland": true,
           "subunitcolor": "white"
          },
          "hoverlabel": {
           "align": "left"
          },
          "hovermode": "closest",
          "mapbox": {
           "style": "light"
          },
          "paper_bgcolor": "white",
          "plot_bgcolor": "#E5ECF6",
          "polar": {
           "angularaxis": {
            "gridcolor": "white",
            "linecolor": "white",
            "ticks": ""
           },
           "bgcolor": "#E5ECF6",
           "radialaxis": {
            "gridcolor": "white",
            "linecolor": "white",
            "ticks": ""
           }
          },
          "scene": {
           "xaxis": {
            "backgroundcolor": "#E5ECF6",
            "gridcolor": "white",
            "gridwidth": 2,
            "linecolor": "white",
            "showbackground": true,
            "ticks": "",
            "zerolinecolor": "white"
           },
           "yaxis": {
            "backgroundcolor": "#E5ECF6",
            "gridcolor": "white",
            "gridwidth": 2,
            "linecolor": "white",
            "showbackground": true,
            "ticks": "",
            "zerolinecolor": "white"
           },
           "zaxis": {
            "backgroundcolor": "#E5ECF6",
            "gridcolor": "white",
            "gridwidth": 2,
            "linecolor": "white",
            "showbackground": true,
            "ticks": "",
            "zerolinecolor": "white"
           }
          },
          "shapedefaults": {
           "line": {
            "color": "#2a3f5f"
           }
          },
          "ternary": {
           "aaxis": {
            "gridcolor": "white",
            "linecolor": "white",
            "ticks": ""
           },
           "baxis": {
            "gridcolor": "white",
            "linecolor": "white",
            "ticks": ""
           },
           "bgcolor": "#E5ECF6",
           "caxis": {
            "gridcolor": "white",
            "linecolor": "white",
            "ticks": ""
           }
          },
          "title": {
           "x": 0.05
          },
          "xaxis": {
           "automargin": true,
           "gridcolor": "white",
           "linecolor": "white",
           "ticks": "",
           "zerolinecolor": "white",
           "zerolinewidth": 2
          },
          "yaxis": {
           "automargin": true,
           "gridcolor": "white",
           "linecolor": "white",
           "ticks": "",
           "zerolinecolor": "white",
           "zerolinewidth": 2
          }
         }
        }
       }
      },
      "text/html": [
       "<div>\n",
       "        \n",
       "        \n",
       "            <div id=\"9bf16d75-f395-4021-b73b-f7e46d8a454a\" class=\"plotly-graph-div\" style=\"height:525px; width:100%;\"></div>\n",
       "            <script type=\"text/javascript\">\n",
       "                require([\"plotly\"], function(Plotly) {\n",
       "                    window.PLOTLYENV=window.PLOTLYENV || {};\n",
       "                    \n",
       "                if (document.getElementById(\"9bf16d75-f395-4021-b73b-f7e46d8a454a\")) {\n",
       "                    Plotly.newPlot(\n",
       "                        '9bf16d75-f395-4021-b73b-f7e46d8a454a',\n",
       "                        [{\"type\": \"scatter\", \"x\": [0, 1, 2, 3, 4, 5, 6, 7, 8, 9, 10, 11, 12, 13, 14, 15, 16, 17, 18, 19, 20, 21, 22, 23, 24, 25, 26, 27, 28, 29, 30, 31, 32, 33, 34, 35, 36, 37, 38, 39, 40, 41, 42, 43, 44, 45, 46, 47, 48, 49], \"y\": [0.8370158365884414, 0.8509624042927079, 0.8648538949144418, 0.8693963771327675, 0.874498552867186, 0.877090151760655, 0.8794289351351223, 0.8804566622310492, 0.8814697905607122, 0.8826867544691316, 0.8832392809288736, 0.8836481534351401, 0.8841378404341655, 0.884711360166012, 0.8848079563372484, 0.8849528401863784, 0.885331894859746, 0.8854254692225583, 0.8857662752115762, 0.8857275049515552, 0.8860134319021666, 0.8860793687016496, 0.8860639408858004, 0.8862899407543323, 0.8862872163094612, 0.8863874694576706, 0.8864734693760644, 0.8865656336409091, 0.8864790294797757, 0.886672563195607, 0.8866292628992217, 0.8866758514417745, 0.8866898780805628, 0.886757820299846, 0.8867953737482088, 0.8868258130709332, 0.8868050624474879, 0.8868154214042152, 0.8867934920316465, 0.8869007356022562, 0.8867897030252558, 0.886887541581416, 0.8869925222153887, 0.8869202545458656, 0.886926490259569, 0.8869307116325653, 0.8869289565928764, 0.8869984290450028, 0.8869959793640543, 0.8869553874549083]}],\n",
       "                        {\"template\": {\"data\": {\"bar\": [{\"error_x\": {\"color\": \"#2a3f5f\"}, \"error_y\": {\"color\": \"#2a3f5f\"}, \"marker\": {\"line\": {\"color\": \"#E5ECF6\", \"width\": 0.5}}, \"type\": \"bar\"}], \"barpolar\": [{\"marker\": {\"line\": {\"color\": \"#E5ECF6\", \"width\": 0.5}}, \"type\": \"barpolar\"}], \"carpet\": [{\"aaxis\": {\"endlinecolor\": \"#2a3f5f\", \"gridcolor\": \"white\", \"linecolor\": \"white\", \"minorgridcolor\": \"white\", \"startlinecolor\": \"#2a3f5f\"}, \"baxis\": {\"endlinecolor\": \"#2a3f5f\", \"gridcolor\": \"white\", \"linecolor\": \"white\", \"minorgridcolor\": \"white\", \"startlinecolor\": \"#2a3f5f\"}, \"type\": \"carpet\"}], \"choropleth\": [{\"colorbar\": {\"outlinewidth\": 0, \"ticks\": \"\"}, \"type\": \"choropleth\"}], \"contour\": [{\"colorbar\": {\"outlinewidth\": 0, \"ticks\": \"\"}, \"colorscale\": [[0.0, \"#0d0887\"], [0.1111111111111111, \"#46039f\"], [0.2222222222222222, \"#7201a8\"], [0.3333333333333333, \"#9c179e\"], [0.4444444444444444, \"#bd3786\"], [0.5555555555555556, \"#d8576b\"], [0.6666666666666666, \"#ed7953\"], [0.7777777777777778, \"#fb9f3a\"], [0.8888888888888888, \"#fdca26\"], [1.0, \"#f0f921\"]], \"type\": \"contour\"}], \"contourcarpet\": [{\"colorbar\": {\"outlinewidth\": 0, \"ticks\": \"\"}, \"type\": \"contourcarpet\"}], \"heatmap\": [{\"colorbar\": {\"outlinewidth\": 0, \"ticks\": \"\"}, \"colorscale\": [[0.0, \"#0d0887\"], [0.1111111111111111, \"#46039f\"], [0.2222222222222222, \"#7201a8\"], [0.3333333333333333, \"#9c179e\"], [0.4444444444444444, \"#bd3786\"], [0.5555555555555556, \"#d8576b\"], [0.6666666666666666, \"#ed7953\"], [0.7777777777777778, \"#fb9f3a\"], [0.8888888888888888, \"#fdca26\"], [1.0, \"#f0f921\"]], \"type\": \"heatmap\"}], \"heatmapgl\": [{\"colorbar\": {\"outlinewidth\": 0, \"ticks\": \"\"}, \"colorscale\": [[0.0, \"#0d0887\"], [0.1111111111111111, \"#46039f\"], [0.2222222222222222, \"#7201a8\"], [0.3333333333333333, \"#9c179e\"], [0.4444444444444444, \"#bd3786\"], [0.5555555555555556, \"#d8576b\"], [0.6666666666666666, \"#ed7953\"], [0.7777777777777778, \"#fb9f3a\"], [0.8888888888888888, \"#fdca26\"], [1.0, \"#f0f921\"]], \"type\": \"heatmapgl\"}], \"histogram\": [{\"marker\": {\"colorbar\": {\"outlinewidth\": 0, \"ticks\": \"\"}}, \"type\": \"histogram\"}], \"histogram2d\": [{\"colorbar\": {\"outlinewidth\": 0, \"ticks\": \"\"}, \"colorscale\": [[0.0, \"#0d0887\"], [0.1111111111111111, \"#46039f\"], [0.2222222222222222, \"#7201a8\"], [0.3333333333333333, \"#9c179e\"], [0.4444444444444444, \"#bd3786\"], [0.5555555555555556, \"#d8576b\"], [0.6666666666666666, \"#ed7953\"], [0.7777777777777778, \"#fb9f3a\"], [0.8888888888888888, \"#fdca26\"], [1.0, \"#f0f921\"]], \"type\": \"histogram2d\"}], \"histogram2dcontour\": [{\"colorbar\": {\"outlinewidth\": 0, \"ticks\": \"\"}, \"colorscale\": [[0.0, \"#0d0887\"], [0.1111111111111111, \"#46039f\"], [0.2222222222222222, \"#7201a8\"], [0.3333333333333333, \"#9c179e\"], [0.4444444444444444, \"#bd3786\"], [0.5555555555555556, \"#d8576b\"], [0.6666666666666666, \"#ed7953\"], [0.7777777777777778, \"#fb9f3a\"], [0.8888888888888888, \"#fdca26\"], [1.0, \"#f0f921\"]], \"type\": \"histogram2dcontour\"}], \"mesh3d\": [{\"colorbar\": {\"outlinewidth\": 0, \"ticks\": \"\"}, \"type\": \"mesh3d\"}], \"parcoords\": [{\"line\": {\"colorbar\": {\"outlinewidth\": 0, \"ticks\": \"\"}}, \"type\": \"parcoords\"}], \"scatter\": [{\"marker\": {\"colorbar\": {\"outlinewidth\": 0, \"ticks\": \"\"}}, \"type\": \"scatter\"}], \"scatter3d\": [{\"line\": {\"colorbar\": {\"outlinewidth\": 0, \"ticks\": \"\"}}, \"marker\": {\"colorbar\": {\"outlinewidth\": 0, \"ticks\": \"\"}}, \"type\": \"scatter3d\"}], \"scattercarpet\": [{\"marker\": {\"colorbar\": {\"outlinewidth\": 0, \"ticks\": \"\"}}, \"type\": \"scattercarpet\"}], \"scattergeo\": [{\"marker\": {\"colorbar\": {\"outlinewidth\": 0, \"ticks\": \"\"}}, \"type\": \"scattergeo\"}], \"scattergl\": [{\"marker\": {\"colorbar\": {\"outlinewidth\": 0, \"ticks\": \"\"}}, \"type\": \"scattergl\"}], \"scattermapbox\": [{\"marker\": {\"colorbar\": {\"outlinewidth\": 0, \"ticks\": \"\"}}, \"type\": \"scattermapbox\"}], \"scatterpolar\": [{\"marker\": {\"colorbar\": {\"outlinewidth\": 0, \"ticks\": \"\"}}, \"type\": \"scatterpolar\"}], \"scatterpolargl\": [{\"marker\": {\"colorbar\": {\"outlinewidth\": 0, \"ticks\": \"\"}}, \"type\": \"scatterpolargl\"}], \"scatterternary\": [{\"marker\": {\"colorbar\": {\"outlinewidth\": 0, \"ticks\": \"\"}}, \"type\": \"scatterternary\"}], \"surface\": [{\"colorbar\": {\"outlinewidth\": 0, \"ticks\": \"\"}, \"colorscale\": [[0.0, \"#0d0887\"], [0.1111111111111111, \"#46039f\"], [0.2222222222222222, \"#7201a8\"], [0.3333333333333333, \"#9c179e\"], [0.4444444444444444, \"#bd3786\"], [0.5555555555555556, \"#d8576b\"], [0.6666666666666666, \"#ed7953\"], [0.7777777777777778, \"#fb9f3a\"], [0.8888888888888888, \"#fdca26\"], [1.0, \"#f0f921\"]], \"type\": \"surface\"}], \"table\": [{\"cells\": {\"fill\": {\"color\": \"#EBF0F8\"}, \"line\": {\"color\": \"white\"}}, \"header\": {\"fill\": {\"color\": \"#C8D4E3\"}, \"line\": {\"color\": \"white\"}}, \"type\": \"table\"}]}, \"layout\": {\"annotationdefaults\": {\"arrowcolor\": \"#2a3f5f\", \"arrowhead\": 0, \"arrowwidth\": 1}, \"colorscale\": {\"diverging\": [[0, \"#8e0152\"], [0.1, \"#c51b7d\"], [0.2, \"#de77ae\"], [0.3, \"#f1b6da\"], [0.4, \"#fde0ef\"], [0.5, \"#f7f7f7\"], [0.6, \"#e6f5d0\"], [0.7, \"#b8e186\"], [0.8, \"#7fbc41\"], [0.9, \"#4d9221\"], [1, \"#276419\"]], \"sequential\": [[0.0, \"#0d0887\"], [0.1111111111111111, \"#46039f\"], [0.2222222222222222, \"#7201a8\"], [0.3333333333333333, \"#9c179e\"], [0.4444444444444444, \"#bd3786\"], [0.5555555555555556, \"#d8576b\"], [0.6666666666666666, \"#ed7953\"], [0.7777777777777778, \"#fb9f3a\"], [0.8888888888888888, \"#fdca26\"], [1.0, \"#f0f921\"]], \"sequentialminus\": [[0.0, \"#0d0887\"], [0.1111111111111111, \"#46039f\"], [0.2222222222222222, \"#7201a8\"], [0.3333333333333333, \"#9c179e\"], [0.4444444444444444, \"#bd3786\"], [0.5555555555555556, \"#d8576b\"], [0.6666666666666666, \"#ed7953\"], [0.7777777777777778, \"#fb9f3a\"], [0.8888888888888888, \"#fdca26\"], [1.0, \"#f0f921\"]]}, \"colorway\": [\"#636efa\", \"#EF553B\", \"#00cc96\", \"#ab63fa\", \"#FFA15A\", \"#19d3f3\", \"#FF6692\", \"#B6E880\", \"#FF97FF\", \"#FECB52\"], \"font\": {\"color\": \"#2a3f5f\"}, \"geo\": {\"bgcolor\": \"white\", \"lakecolor\": \"white\", \"landcolor\": \"#E5ECF6\", \"showlakes\": true, \"showland\": true, \"subunitcolor\": \"white\"}, \"hoverlabel\": {\"align\": \"left\"}, \"hovermode\": \"closest\", \"mapbox\": {\"style\": \"light\"}, \"paper_bgcolor\": \"white\", \"plot_bgcolor\": \"#E5ECF6\", \"polar\": {\"angularaxis\": {\"gridcolor\": \"white\", \"linecolor\": \"white\", \"ticks\": \"\"}, \"bgcolor\": \"#E5ECF6\", \"radialaxis\": {\"gridcolor\": \"white\", \"linecolor\": \"white\", \"ticks\": \"\"}}, \"scene\": {\"xaxis\": {\"backgroundcolor\": \"#E5ECF6\", \"gridcolor\": \"white\", \"gridwidth\": 2, \"linecolor\": \"white\", \"showbackground\": true, \"ticks\": \"\", \"zerolinecolor\": \"white\"}, \"yaxis\": {\"backgroundcolor\": \"#E5ECF6\", \"gridcolor\": \"white\", \"gridwidth\": 2, \"linecolor\": \"white\", \"showbackground\": true, \"ticks\": \"\", \"zerolinecolor\": \"white\"}, \"zaxis\": {\"backgroundcolor\": \"#E5ECF6\", \"gridcolor\": \"white\", \"gridwidth\": 2, \"linecolor\": \"white\", \"showbackground\": true, \"ticks\": \"\", \"zerolinecolor\": \"white\"}}, \"shapedefaults\": {\"line\": {\"color\": \"#2a3f5f\"}}, \"ternary\": {\"aaxis\": {\"gridcolor\": \"white\", \"linecolor\": \"white\", \"ticks\": \"\"}, \"baxis\": {\"gridcolor\": \"white\", \"linecolor\": \"white\", \"ticks\": \"\"}, \"bgcolor\": \"#E5ECF6\", \"caxis\": {\"gridcolor\": \"white\", \"linecolor\": \"white\", \"ticks\": \"\"}}, \"title\": {\"x\": 0.05}, \"xaxis\": {\"automargin\": true, \"gridcolor\": \"white\", \"linecolor\": \"white\", \"ticks\": \"\", \"zerolinecolor\": \"white\", \"zerolinewidth\": 2}, \"yaxis\": {\"automargin\": true, \"gridcolor\": \"white\", \"linecolor\": \"white\", \"ticks\": \"\", \"zerolinecolor\": \"white\", \"zerolinewidth\": 2}}}},\n",
       "                        {\"responsive\": true}\n",
       "                    ).then(function(){\n",
       "                            \n",
       "var gd = document.getElementById('9bf16d75-f395-4021-b73b-f7e46d8a454a');\n",
       "var x = new MutationObserver(function (mutations, observer) {{\n",
       "        var display = window.getComputedStyle(gd).display;\n",
       "        if (!display || display === 'none') {{\n",
       "            console.log([gd, 'removed!']);\n",
       "            Plotly.purge(gd);\n",
       "            observer.disconnect();\n",
       "        }}\n",
       "}});\n",
       "\n",
       "// Listen for the removal of the full notebook cells\n",
       "var notebookContainer = gd.closest('#notebook-container');\n",
       "if (notebookContainer) {{\n",
       "    x.observe(notebookContainer, {childList: true});\n",
       "}}\n",
       "\n",
       "// Listen for the clearing of the current output cell\n",
       "var outputEl = gd.closest('.output');\n",
       "if (outputEl) {{\n",
       "    x.observe(outputEl, {childList: true});\n",
       "}}\n",
       "\n",
       "                        })\n",
       "                };\n",
       "                });\n",
       "            </script>\n",
       "        </div>"
      ]
     },
     "metadata": {},
     "output_type": "display_data"
    }
   ],
   "source": [
    "go.Figure(go.Scatter(\n",
    "    x=np.arange(len(aucs)),\n",
    "    y=aucs\n",
    "))"
   ]
  },
  {
   "cell_type": "code",
   "execution_count": 52,
   "metadata": {},
   "outputs": [
    {
     "data": {
      "text/plain": [
       "10"
      ]
     },
     "execution_count": 52,
     "metadata": {},
     "output_type": "execute_result"
    }
   ],
   "source": [
    "chunk_sz"
   ]
  },
  {
   "cell_type": "code",
   "execution_count": 53,
   "metadata": {
    "collapsed": true
   },
   "outputs": [],
   "source": [
    "with open(TEMP_DATA_PATH + 'model_' + str(chunk_sz) + '_limitted_data.p', 'wb') as f:\n",
    "    pickle.dump((clf, transformer, scaler, secondary_scaler), f)"
   ]
  }
 ],
 "metadata": {
  "kernelspec": {
   "display_name": "Python 3",
   "language": "python",
   "name": "python3"
  },
  "language_info": {
   "codemirror_mode": {
    "name": "ipython",
    "version": 3
   },
   "file_extension": ".py",
   "mimetype": "text/x-python",
   "name": "python",
   "nbconvert_exporter": "python",
   "pygments_lexer": "ipython3",
   "version": "3.6.9"
  }
 },
 "nbformat": 4,
 "nbformat_minor": 2
}
