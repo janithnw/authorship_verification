{
 "cells": [
  {
   "cell_type": "code",
   "execution_count": 2,
   "metadata": {},
   "outputs": [
    {
     "name": "stdout",
     "output_type": "stream",
     "text": [
      "The autoreload extension is already loaded. To reload it, use:\n",
      "  %reload_ext autoreload\n"
     ]
    }
   ],
   "source": [
    "%load_ext autoreload\n",
    "%autoreload 2"
   ]
  },
  {
   "cell_type": "code",
   "execution_count": 3,
   "metadata": {
    "collapsed": true
   },
   "outputs": [],
   "source": [
    "import sys\n",
    "sys.path.append(\"../\")"
   ]
  },
  {
   "cell_type": "code",
   "execution_count": 4,
   "metadata": {
    "collapsed": true
   },
   "outputs": [],
   "source": [
    "import pickle\n",
    "import numpy as np\n",
    "from tqdm.auto import trange, tqdm\n",
    "from varying_doc_sizes import SIZES"
   ]
  },
  {
   "cell_type": "code",
   "execution_count": 5,
   "metadata": {
    "collapsed": true
   },
   "outputs": [],
   "source": [
    "import matplotlib.pyplot as plt\n",
    "import matplotlib.style as style\n",
    "import tikzplotlib\n",
    "%matplotlib inline"
   ]
  },
  {
   "cell_type": "code",
   "execution_count": 6,
   "metadata": {},
   "outputs": [
    {
     "data": {
      "text/html": [
       "        <script type=\"text/javascript\">\n",
       "        window.PlotlyConfig = {MathJaxConfig: 'local'};\n",
       "        if (window.MathJax) {MathJax.Hub.Config({SVG: {font: \"STIX-Web\"}});}\n",
       "        if (typeof require !== 'undefined') {\n",
       "        require.undef(\"plotly\");\n",
       "        requirejs.config({\n",
       "            paths: {\n",
       "                'plotly': ['https://cdn.plot.ly/plotly-latest.min']\n",
       "            }\n",
       "        });\n",
       "        require(['plotly'], function(Plotly) {\n",
       "            window._Plotly = Plotly;\n",
       "        });\n",
       "        }\n",
       "        </script>\n",
       "        "
      ]
     },
     "metadata": {},
     "output_type": "display_data"
    }
   ],
   "source": [
    "from plotly.offline import init_notebook_mode\n",
    "import plotly.offline as py\n",
    "import plotly.graph_objs as go\n",
    "init_notebook_mode(connected=True)"
   ]
  },
  {
   "cell_type": "code",
   "execution_count": 7,
   "metadata": {
    "collapsed": true
   },
   "outputs": [],
   "source": [
    "# DATA_DIR = '../data/pan/'\n",
    "# GROUND_TRUTH_PATH = DATA_DIR + 'pan20-authorship-verification-training-large-truth.jsonl'\n",
    "# DATA_PATH = DATA_DIR + 'pan20-authorship-verification-training-large.jsonl'\n",
    "# PREPROCESSED_DATA_PATH = '../temp_data/pan/'\n",
    "TEMP_DATA_PATH = '../temp_data/pan/doc_size_experiments/'\n",
    "FIGURES_PATH = '../figures/'"
   ]
  },
  {
   "cell_type": "markdown",
   "metadata": {},
   "source": [
    "Load HPC Results\n",
    "===="
   ]
  },
  {
   "cell_type": "code",
   "execution_count": 8,
   "metadata": {},
   "outputs": [
    {
     "name": "stderr",
     "output_type": "stream",
     "text": [
      "/usr/local/lib/python3.6/dist-packages/sklearn/base.py:318: UserWarning:\n",
      "\n",
      "Trying to unpickle estimator SGDClassifier from version 0.24.1 when using version 0.22.1. This might lead to breaking code or invalid results. Use at your own risk.\n",
      "\n",
      "/usr/local/lib/python3.6/dist-packages/sklearn/base.py:318: UserWarning:\n",
      "\n",
      "Trying to unpickle estimator TfidfTransformer from version 0.24.1 when using version 0.22.1. This might lead to breaking code or invalid results. Use at your own risk.\n",
      "\n",
      "/usr/local/lib/python3.6/dist-packages/sklearn/base.py:318: UserWarning:\n",
      "\n",
      "Trying to unpickle estimator TfidfVectorizer from version 0.24.1 when using version 0.22.1. This might lead to breaking code or invalid results. Use at your own risk.\n",
      "\n",
      "/usr/local/lib/python3.6/dist-packages/sklearn/base.py:318: UserWarning:\n",
      "\n",
      "Trying to unpickle estimator FeatureUnion from version 0.24.1 when using version 0.22.1. This might lead to breaking code or invalid results. Use at your own risk.\n",
      "\n",
      "/usr/local/lib/python3.6/dist-packages/sklearn/base.py:318: UserWarning:\n",
      "\n",
      "Trying to unpickle estimator StandardScaler from version 0.24.1 when using version 0.22.1. This might lead to breaking code or invalid results. Use at your own risk.\n",
      "\n"
     ]
    },
    {
     "name": "stdout",
     "output_type": "stream",
     "text": [
      "1 0.7146778157263471\n",
      "2 0.7851159795255009\n",
      "5 0.8728131583510979\n",
      "10 0.922383527055845\n",
      "20 0.954798917769495\n",
      "30 0.966898441778403\n",
      "40 0.9723291154825093\n"
     ]
    }
   ],
   "source": [
    "\n",
    "aucs = []\n",
    "for size in SIZES:\n",
    "    with open(TEMP_DATA_PATH + 'size_' + str(size) + '/experiment_data.p', 'rb') as f:\n",
    "        data = pickle.load(f)\n",
    "        final_auc = data[0][-1]\n",
    "        aucs.append(final_auc)\n",
    "        print(size, final_auc)"
   ]
  },
  {
   "cell_type": "code",
   "execution_count": 21,
   "metadata": {},
   "outputs": [
    {
     "data": {
      "image/png": "[encoded data removed]",
      "text/plain": [
       "<Figure size 460.8x316.8 with 1 Axes>"
      ]
     },
     "metadata": {},
     "output_type": "display_data"
    },
    {
     "data": {
      "text/plain": [
       "<Figure size 460.8x316.8 with 0 Axes>"
      ]
     },
     "metadata": {},
     "output_type": "display_data"
    }
   ],
   "source": [
    "# style.use('seaborn-paper')\n",
    "\n",
    "fig, ax = plt.subplots()\n",
    "plt_x = SIZES\n",
    "plt_y = aucs\n",
    "plt.plot(plt_x, plt_y)\n",
    "\n",
    "plt.xlabel('Chunks')\n",
    "plt.ylabel('AUC')\n",
    "# plt.grid(True, alpha=0.5)\n",
    "# plt.tight_layout()\n",
    "# plt.ylim(0.6, 1)\n",
    "plt.show()\n",
    "\n",
    "tikzplotlib.save(FIGURES_PATH + 'plt_pan_doc_size_vs_auc.pgf')"
   ]
  },
  {
   "cell_type": "code",
   "execution_count": 9,
   "metadata": {},
   "outputs": [
    {
     "data": {
      "image/png": "[encoded data removed]",
      "text/plain": [
       "<Figure size 432x288 with 1 Axes>"
      ]
     },
     "metadata": {},
     "output_type": "display_data"
    },
    {
     "data": {
      "text/plain": [
       "<Figure size 432x288 with 0 Axes>"
      ]
     },
     "metadata": {},
     "output_type": "display_data"
    }
   ],
   "source": [
    "\n",
    "# style.use('seaborn-white')\n",
    "\n",
    "fig, ax = plt.subplots()\n",
    "plt_x = SIZES\n",
    "plt_y = aucs\n",
    "plt.plot(plt_x, plt_y, '-')\n",
    "\n",
    "plt.xlabel('Chunks')\n",
    "plt.ylabel('AUC')\n",
    "plt.grid(True, alpha=0.5)\n",
    "plt.tight_layout()\n",
    "# plt.ylim(0.65, 1)\n",
    "plt.show()\n",
    "\n",
    "tikzplotlib.save(FIGURES_PATH + 'plt_pan_doc_size_vs_auc.pgf')"
   ]
  }
 ],
 "metadata": {
  "kernelspec": {
   "display_name": "Python 3",
   "language": "python",
   "name": "python3"
  },
  "language_info": {
   "codemirror_mode": {
    "name": "ipython",
    "version": 3
   },
   "file_extension": ".py",
   "mimetype": "text/x-python",
   "name": "python",
   "nbconvert_exporter": "python",
   "pygments_lexer": "ipython3",
   "version": "3.6.9"
  }
 },
 "nbformat": 4,
 "nbformat_minor": 2
}
