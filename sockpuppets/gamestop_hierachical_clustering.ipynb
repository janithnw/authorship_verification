{
 "cells": [
  {
   "cell_type": "code",
   "execution_count": 1,
   "metadata": {
    "collapsed": true
   },
   "outputs": [],
   "source": [
    "%load_ext autoreload\n",
    "%autoreload 2\n",
    "import sys\n",
    "sys.path.append(\"../\")\n",
    "import warnings\n",
    "warnings.filterwarnings(\"ignore\")"
   ]
  },
  {
   "cell_type": "code",
   "execution_count": 168,
   "metadata": {},
   "outputs": [
    {
     "data": {
      "text/html": [
       "        <script type=\"text/javascript\">\n",
       "        window.PlotlyConfig = {MathJaxConfig: 'local'};\n",
       "        if (window.MathJax) {MathJax.Hub.Config({SVG: {font: \"STIX-Web\"}});}\n",
       "        if (typeof require !== 'undefined') {\n",
       "        require.undef(\"plotly\");\n",
       "        requirejs.config({\n",
       "            paths: {\n",
       "                'plotly': ['https://cdn.plot.ly/plotly-latest.min']\n",
       "            }\n",
       "        });\n",
       "        require(['plotly'], function(Plotly) {\n",
       "            window._Plotly = Plotly;\n",
       "        });\n",
       "        }\n",
       "        </script>\n",
       "        "
      ]
     },
     "metadata": {},
     "output_type": "display_data"
    }
   ],
   "source": [
    "import json\n",
    "import glob\n",
    "from tqdm.notebook import trange, tqdm\n",
    "import numpy as np\n",
    "import pandas as pd\n",
    "from features import prepare_entry, get_transformer, merge_entries\n",
    "from utills import chunker, compress_fraction\n",
    "import pickle\n",
    "from matplotlib import rcParams\n",
    "import matplotlib.pyplot as plt\n",
    "import matplotlib.style as style\n",
    "from pushshift_api import get_user_comments\n",
    "from datetime import datetime\n",
    "from scipy.cluster.hierarchy import linkage, fcluster\n",
    "from scipy.spatial.distance import squareform\n",
    "from scipy.special import comb\n",
    "from collections import defaultdict\n",
    "%matplotlib inline\n",
    "\n",
    "import networkx as nx\n",
    "from plotly.offline import init_notebook_mode\n",
    "import plotly.offline as py\n",
    "import plotly.graph_objs as go\n",
    "init_notebook_mode(connected=True)"
   ]
  },
  {
   "cell_type": "code",
   "execution_count": 3,
   "metadata": {
    "collapsed": true
   },
   "outputs": [],
   "source": [
    "from config import known_bots"
   ]
  },
  {
   "cell_type": "code",
   "execution_count": 4,
   "metadata": {
    "collapsed": true
   },
   "outputs": [],
   "source": [
    "tqdm.pandas()"
   ]
  },
  {
   "cell_type": "code",
   "execution_count": 5,
   "metadata": {
    "collapsed": true
   },
   "outputs": [],
   "source": [
    "DATA_DIR = '../data/'\n",
    "TEMP_DIR = '../temp_data/'\n",
    "DATA_PATH = DATA_DIR + 'gamestop/comments.jsonl'\n",
    "TEMP_DATA_PATH = TEMP_DIR + 'sockpuppets/gamestop/'\n",
    "MULTIDOC_MODEL_PATH = TEMP_DIR + 'reddit/multidoc_20/model_20.p'\n",
    "SINGLEDOC_MODEL_PATH = TEMP_DIR + 'reddit/unchunked/model.p'\n",
    "chunk_sz = 20"
   ]
  },
  {
   "cell_type": "code",
   "execution_count": 6,
   "metadata": {
    "collapsed": true
   },
   "outputs": [],
   "source": [
    "def preprocess(comments, chunk_sz):\n",
    "    return [prepare_entry('\\n'.join(c), mode='accurate', tokenizer='casual') for c in chunker(comments, chunk_sz)]"
   ]
  },
  {
   "cell_type": "markdown",
   "metadata": {},
   "source": [
    "Load & Filter Data\n",
    "==="
   ]
  },
  {
   "cell_type": "code",
   "execution_count": 116,
   "metadata": {
    "collapsed": true
   },
   "outputs": [],
   "source": [
    "with open(DATA_PATH, 'r') as f:\n",
    "    data = []\n",
    "    for l in f:\n",
    "        data.append(json.loads(l))"
   ]
  },
  {
   "cell_type": "code",
   "execution_count": 117,
   "metadata": {
    "collapsed": true
   },
   "outputs": [],
   "source": [
    "df = pd.DataFrame.from_dict(data)\n",
    "\n",
    "# Select comments from users who has at least 100 comments and remove known bots\n",
    "author_comment_counts = df.groupby('author').count()['body'].to_frame()\n",
    "author_comment_counts.columns = ['count']\n",
    "selected_authors = author_comment_counts.loc[author_comment_counts['count'] > 100].index.values\n",
    "selected_authors = set(np.setdiff1d(selected_authors, known_bots))\n",
    "df = df.loc[[r['author'] in selected_authors for i, r in df.iterrows()]]\n",
    "\n",
    "# Collect each author's comments in a list\n",
    "author_comments = df.groupby('author')['body'].apply(list)"
   ]
  },
  {
   "cell_type": "code",
   "execution_count": 118,
   "metadata": {
    "collapsed": true
   },
   "outputs": [],
   "source": [
    "author_comments = author_comments.to_frame()"
   ]
  },
  {
   "cell_type": "code",
   "execution_count": 24,
   "metadata": {},
   "outputs": [
    {
     "data": {
      "application/vnd.jupyter.widget-view+json": {
       "model_id": "318ed8067900402e809f183583ebac73"
      }
     },
     "metadata": {},
     "output_type": "display_data"
    },
    {
     "name": "stdout",
     "output_type": "stream",
     "text": [
      "\n"
     ]
    }
   ],
   "source": [
    "author_comments['compress_fraction'] = author_comments['body'].progress_apply(lambda comments: compress_fraction('\\n'.join(comments)))"
   ]
  },
  {
   "cell_type": "code",
   "execution_count": 26,
   "metadata": {},
   "outputs": [
    {
     "data": {
      "image/png": "[encoded data removed]",
      "text/plain": [
       "<Figure size 432x288 with 1 Axes>"
      ]
     },
     "metadata": {},
     "output_type": "display_data"
    }
   ],
   "source": [
    "fig, ax = plt.subplots()\n",
    "\n",
    "ax.hist(author_comments['compress_fraction'], bins=100, alpha=0.5, density=True)\n",
    "\n",
    "ax.set_xlabel('1 - Compression Fraction')\n",
    "\n",
    "plt.tight_layout()\n",
    "plt.show()"
   ]
  },
  {
   "cell_type": "code",
   "execution_count": 33,
   "metadata": {
    "collapsed": true
   },
   "outputs": [],
   "source": [
    "author_comments_filtered = author_comments.loc[author_comments['compress_fraction'] < 0.3]"
   ]
  },
  {
   "cell_type": "code",
   "execution_count": 195,
   "metadata": {
    "collapsed": true
   },
   "outputs": [],
   "source": [
    "with open(TEMP_DATA_PATH + 'vectorizing_parameters.p', 'rb') as f:\n",
    "    selected_authors, total_chunks, author_bounds, author_to_idx_nc, x_shape, x_shape_nc = pickle.load(f)"
   ]
  },
  {
   "cell_type": "code",
   "execution_count": 196,
   "metadata": {},
   "outputs": [
    {
     "data": {
      "text/plain": [
       "7318"
      ]
     },
     "execution_count": 196,
     "metadata": {},
     "output_type": "execute_result"
    }
   ],
   "source": [
    "len(selected_authors)"
   ]
  },
  {
   "cell_type": "markdown",
   "metadata": {},
   "source": [
    "Load Predictions From HPC\n",
    "==="
   ]
  },
  {
   "cell_type": "code",
   "execution_count": 7,
   "metadata": {
    "collapsed": true
   },
   "outputs": [],
   "source": [
    "result_files = [TEMP_DATA_PATH + 'predict_results_instance_' + str(i) + '.p' for i in range(20)]"
   ]
  },
  {
   "cell_type": "code",
   "execution_count": 8,
   "metadata": {},
   "outputs": [
    {
     "data": {
      "application/vnd.jupyter.widget-view+json": {
       "model_id": "473f6deea9d642faaa4777b9d7bfbe45"
      }
     },
     "metadata": {},
     "output_type": "display_data"
    },
    {
     "name": "stdout",
     "output_type": "stream",
     "text": [
      "\n"
     ]
    }
   ],
   "source": [
    "user_pairs = []\n",
    "probs_nc = []\n",
    "\n",
    "inter_probs_mean = []\n",
    "inter_probs_std = []\n",
    "\n",
    "intraA_probs_mean = []\n",
    "intraA_probs_std = []\n",
    "\n",
    "intraB_probs_mean = []\n",
    "intraB_probs_std = []\n",
    "pred_lengths = []\n",
    "    \n",
    "for fp in tqdm(result_files):\n",
    "    with open(fp, 'rb') as f:\n",
    "        (\n",
    "            local_probs_nc,\n",
    "            local_inter_probs_mean,\n",
    "            local_inter_probs_std,\n",
    "            local_intraA_probs_mean,\n",
    "            local_intraA_probs_std,\n",
    "            local_intraB_probs_mean,\n",
    "            local_intraB_probs_std,\n",
    "            local_pred_lengths,\n",
    "            _, \n",
    "            local_user_pairs\n",
    "        ) = pickle.load(f)\n",
    "\n",
    "        probs_nc.extend(local_probs_nc)\n",
    "        inter_probs_mean.extend(local_inter_probs_mean)\n",
    "        inter_probs_std.extend(local_inter_probs_std)\n",
    "        intraA_probs_mean.extend(local_intraA_probs_mean)\n",
    "        intraA_probs_std.extend(local_intraA_probs_std)\n",
    "        intraB_probs_mean.extend(local_intraB_probs_mean)\n",
    "        intraB_probs_std.extend(local_intraB_probs_std)\n",
    "        pred_lengths.extend(local_pred_lengths)\n",
    "        user_pairs.extend(local_user_pairs)"
   ]
  },
  {
   "cell_type": "code",
   "execution_count": 9,
   "metadata": {
    "collapsed": true
   },
   "outputs": [],
   "source": [
    "user_pairs = np.array(user_pairs)"
   ]
  },
  {
   "cell_type": "code",
   "execution_count": 156,
   "metadata": {},
   "outputs": [
    {
     "data": {
      "text/plain": [
       "26763255"
      ]
     },
     "execution_count": 156,
     "metadata": {},
     "output_type": "execute_result"
    }
   ],
   "source": [
    "len(user_pairs)"
   ]
  },
  {
   "cell_type": "code",
   "execution_count": 10,
   "metadata": {
    "collapsed": true
   },
   "outputs": [],
   "source": [
    "inter_probs_mean = np.array(inter_probs_mean)\n",
    "intraA_probs_mean = np.array(intraA_probs_mean)\n",
    "intraB_probs_mean = np.array(intraB_probs_mean)\n",
    "inter_probs_std = np.array(inter_probs_std)\n",
    "intraA_probs_std = np.array(intraA_probs_std)\n",
    "intraB_probs_std = np.array(intraB_probs_std)\n",
    "pred_lengths = np.array(pred_lengths)\n",
    "\n",
    "\n",
    "probs_nc = np.array(probs_nc)\n",
    "\n",
    "n_a = pred_lengths[:, 0]\n",
    "n_b = pred_lengths[:, 1]\n",
    "n_ab = pred_lengths[:, 2]\n",
    "\n",
    "intra_probs_mean = (intraA_probs_mean * n_a + intraB_probs_mean * n_b)/ (n_a + n_b)\n",
    "intra_probs_std = (\n",
    "        n_a * (intraA_probs_std ** 2 + (intraA_probs_mean - intra_probs_mean)**2) + \n",
    "        n_b * (intraB_probs_std ** 2 + (intraB_probs_mean - intra_probs_mean)**2)\n",
    "    ) / (n_a + n_b)\n",
    "\n",
    "\n",
    "pooled_mean = (intra_probs_mean * (n_a + n_b) + inter_probs_mean * n_ab)/ (n_a + n_b + n_ab)\n",
    "pooled_std = (\n",
    "        (n_a + n_b) * (intra_probs_mean ** 2 + (intra_probs_mean - pooled_mean)**2) + \n",
    "        n_ab * (inter_probs_mean ** 2 + (inter_probs_mean - pooled_mean)**2)\n",
    "    ) / (n_a + n_b + n_ab)\n"
   ]
  },
  {
   "cell_type": "code",
   "execution_count": 11,
   "metadata": {
    "collapsed": true
   },
   "outputs": [],
   "source": [
    "inter_intra_sim = (1 - np.abs(inter_probs_mean - intra_probs_mean))\n",
    "aggr_score = (probs_nc * (1 - np.abs(inter_probs_mean - intra_probs_mean)))"
   ]
  },
  {
   "cell_type": "code",
   "execution_count": 21,
   "metadata": {
    "collapsed": true
   },
   "outputs": [],
   "source": [
    "usernames = np.unique(np.concatenate([user_pairs[:, 0], user_pairs[:, 1]]))"
   ]
  },
  {
   "cell_type": "code",
   "execution_count": 46,
   "metadata": {
    "collapsed": true
   },
   "outputs": [],
   "source": [
    "user_pair_to_idx = {}\n",
    "for i, u in enumerate(user_pairs):\n",
    "    user_pair_to_idx[(u[0], u[1])] = i\n",
    "    user_pair_to_idx[(u[1], u[0])] = i"
   ]
  },
  {
   "cell_type": "code",
   "execution_count": 23,
   "metadata": {
    "collapsed": true
   },
   "outputs": [],
   "source": [
    "username_to_idx = {u:i for i, u in enumerate(usernames)}"
   ]
  },
  {
   "cell_type": "code",
   "execution_count": 26,
   "metadata": {},
   "outputs": [
    {
     "data": {
      "application/vnd.jupyter.widget-view+json": {
       "model_id": "825a6e494f804a188d1ac9ac1ac2ee63"
      }
     },
     "metadata": {},
     "output_type": "display_data"
    },
    {
     "name": "stdout",
     "output_type": "stream",
     "text": [
      "\n"
     ]
    }
   ],
   "source": [
    "for i in trange(len(aggr_score)):\n",
    "    a = username_to_idx[user_pairs[i][0]]\n",
    "    b = username_to_idx[user_pairs[i][1]]\n",
    "    X[a, b] = aggr_score[i]\n",
    "    X[b, a] = aggr_score[i]"
   ]
  },
  {
   "cell_type": "code",
   "execution_count": 144,
   "metadata": {
    "scrolled": true
   },
   "outputs": [
    {
     "data": {
      "application/vnd.jupyter.widget-view+json": {
       "model_id": "410a2d03fb1645fc864fd3b710234595"
      }
     },
     "metadata": {},
     "output_type": "display_data"
    },
    {
     "name": "stdout",
     "output_type": "stream",
     "text": [
      "\n"
     ]
    }
   ],
   "source": [
    "aggr_score_ordered = []\n",
    "t = 0\n",
    "n = len(usernames)\n",
    "for i in trange(0, n):\n",
    "    for j in range(i + 1, n):\n",
    "#         print(j, i, int(comb(n, 2) - comb(n - i, 2) + (j - i - 1)) )\n",
    "        try:\n",
    "            aggr_score_ordered.append(1 - aggr_score[user_pair_to_idx[(usernames[j], usernames[i])]])\n",
    "        except:\n",
    "            aggr_score_ordered.append(10000)\n",
    "        assert int(comb(n, 2) - comb(n - i, 2) + (j - i - 1)) == len(aggr_score_ordered) - 1"
   ]
  },
  {
   "cell_type": "code",
   "execution_count": 145,
   "metadata": {
    "collapsed": true
   },
   "outputs": [],
   "source": [
    "Z = linkage(aggr_score_ordered, 'ward')"
   ]
  },
  {
   "cell_type": "code",
   "execution_count": 200,
   "metadata": {
    "collapsed": true
   },
   "outputs": [],
   "source": [
    "clusts = fcluster(Z, t=0.01, criterion='distance')\n",
    "c_ids, counts = np.unique(clusts, return_counts=True)"
   ]
  },
  {
   "cell_type": "code",
   "execution_count": 201,
   "metadata": {
    "collapsed": true
   },
   "outputs": [],
   "source": [
    "user_clusters = defaultdict(list)\n",
    "for i, c_id in enumerate(clusts):\n",
    "    user_clusters[c_id].append(usernames[i])"
   ]
  },
  {
   "cell_type": "code",
   "execution_count": 206,
   "metadata": {},
   "outputs": [
    {
     "data": {
      "text/plain": [
       "array([2990, 3139, 3574, 3782, 3910, 4126, 6053, 6809], dtype=int32)"
      ]
     },
     "execution_count": 206,
     "metadata": {},
     "output_type": "execute_result"
    }
   ],
   "source": [
    "c_ids[counts > 2]"
   ]
  },
  {
   "cell_type": "code",
   "execution_count": 207,
   "metadata": {},
   "outputs": [
    {
     "data": {
      "text/plain": [
       "['AsunaAkira', 'SauceTendies', 'aidsfordays']"
      ]
     },
     "execution_count": 207,
     "metadata": {},
     "output_type": "execute_result"
    }
   ],
   "source": [
    "user_clusters[2990]"
   ]
  },
  {
   "cell_type": "code",
   "execution_count": 195,
   "metadata": {},
   "outputs": [
    {
     "data": {
      "text/plain": [
       "0.9500332353021578"
      ]
     },
     "execution_count": 195,
     "metadata": {},
     "output_type": "execute_result"
    }
   ],
   "source": [
    "aggr_score[user_pair_to_idx[('iamd3rf', 'Narrow-Cup-3500')]]"
   ]
  },
  {
   "cell_type": "code",
   "execution_count": 189,
   "metadata": {},
   "outputs": [
    {
     "data": {
      "image/png": "[encoded data removed]",
      "text/plain": [
       "<Figure size 432x288 with 1 Axes>"
      ]
     },
     "metadata": {},
     "output_type": "display_data"
    }
   ],
   "source": [
    "fig, ax = plt.subplots()\n",
    "\n",
    "ax.hist(c, alpha=0.5, density=True)\n",
    "\n",
    "\n",
    "plt.tight_layout()\n",
    "plt.show()"
   ]
  },
  {
   "cell_type": "code",
   "execution_count": 159,
   "metadata": {},
   "outputs": [
    {
     "data": {
      "image/png": "[encoded data removed]",
      "text/plain": [
       "<Figure size 432x288 with 1 Axes>"
      ]
     },
     "metadata": {},
     "output_type": "display_data"
    }
   ],
   "source": [
    "fig, ax = plt.subplots()\n",
    "\n",
    "ax.hist(intra_probs_mean, alpha=0.5, density=True)\n",
    "\n",
    "\n",
    "plt.tight_layout()\n",
    "plt.show()"
   ]
  },
  {
   "cell_type": "code",
   "execution_count": 253,
   "metadata": {
    "collapsed": true
   },
   "outputs": [],
   "source": [
    "FIGURES_PATH = '../figures/'\n",
    "TEXT_WIDTH = 7.0 # Text with on a column\n",
    "HALF_COL_WIDTH = (TEXT_WIDTH - 0.5)/2\n",
    "HEIGHT = 2\n",
    "\n",
    "\n",
    "style.use('seaborn-whitegrid')\n",
    "\n",
    "rcParams['font.family'] = 'serif'\n",
    "rcParams['font.serif'] = [ 'Times New Roman', 'Times', 'DejaVu Serif',\n",
    " 'Bitstream Vera Serif',\n",
    " 'Computer Modern Roman',\n",
    " 'New Century Schoolbook',\n",
    " 'Century Schoolbook L',\n",
    " 'Utopia',\n",
    " 'ITC Bookman',\n",
    " 'Bookman',\n",
    " 'Nimbus Roman No9 L',\n",
    " 'Palatino',\n",
    " 'Charter',\n",
    " 'serif']\n",
    "rcParams['font.size']=9 "
   ]
  },
  {
   "cell_type": "code",
   "execution_count": 254,
   "metadata": {},
   "outputs": [
    {
     "data": {
      "image/png": "[encoded data removed]",
      "text/plain": [
       "<Figure size 234x144 with 1 Axes>"
      ]
     },
     "metadata": {},
     "output_type": "display_data"
    }
   ],
   "source": [
    "fig = plt.figure(figsize=(HALF_COL_WIDTH, HEIGHT))\n",
    "\n",
    "plt.hist(intra_probs_mean, bins=50)\n",
    "\n",
    "plt.xlabel('Intra-author Mean')\n",
    "plt.grid(True, alpha=0.5)\n",
    "plt.tight_layout()\n",
    "\n",
    "plt.show()\n",
    "fig.savefig(FIGURES_PATH + 'plt_gamestop_intra_author_mean.pdf', bbox_inches='tight')"
   ]
  },
  {
   "cell_type": "code",
   "execution_count": 161,
   "metadata": {},
   "outputs": [
    {
     "data": {
      "text/plain": [
       "0.768961157608965"
      ]
     },
     "execution_count": 161,
     "metadata": {},
     "output_type": "execute_result"
    }
   ],
   "source": [
    "intra_probs_mean.mean()"
   ]
  },
  {
   "cell_type": "code",
   "execution_count": 255,
   "metadata": {},
   "outputs": [
    {
     "data": {
      "image/png": "[encoded data removed]",
      "text/plain": [
       "<Figure size 234x144 with 1 Axes>"
      ]
     },
     "metadata": {},
     "output_type": "display_data"
    }
   ],
   "source": [
    "fig = plt.figure(figsize=(HALF_COL_WIDTH, HEIGHT))\n",
    "\n",
    "plt.hist(aggr_score, bins=50)\n",
    "\n",
    "plt.xlabel('Aggregated Score')\n",
    "plt.grid(True, alpha=0.5)\n",
    "plt.tight_layout()\n",
    "\n",
    "plt.show()\n",
    "fig.savefig(FIGURES_PATH + 'plt_gamestop_aggre_score.pdf', bbox_inches='tight')"
   ]
  },
  {
   "cell_type": "code",
   "execution_count": 243,
   "metadata": {
    "collapsed": true
   },
   "outputs": [],
   "source": [
    "selected_mask = aggr_score > 0.995"
   ]
  },
  {
   "cell_type": "code",
   "execution_count": 244,
   "metadata": {
    "collapsed": true
   },
   "outputs": [],
   "source": [
    "G = nx.Graph()\n",
    "G.add_weighted_edges_from([\n",
    "    (user_pairs[i][0], user_pairs[i][1], aggr_score[i]) \n",
    "    for i in np.argwhere(selected_mask)[:, 0]\n",
    "])\n",
    "\n",
    "nx.write_gexf(G, 'gamestop_new.gexf')"
   ]
  }
 ],
 "metadata": {
  "kernelspec": {
   "display_name": "Python 3",
   "language": "python",
   "name": "python3"
  },
  "language_info": {
   "codemirror_mode": {
    "name": "ipython",
    "version": 3
   },
   "file_extension": ".py",
   "mimetype": "text/x-python",
   "name": "python",
   "nbconvert_exporter": "python",
   "pygments_lexer": "ipython3",
   "version": "3.6.9"
  }
 },
 "nbformat": 4,
 "nbformat_minor": 2
}
