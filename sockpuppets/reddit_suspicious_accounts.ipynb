{
 "cells": [
  {
   "cell_type": "code",
   "execution_count": 1,
   "metadata": {
    "collapsed": true
   },
   "outputs": [],
   "source": [
    "%load_ext autoreload\n",
    "%autoreload 2\n",
    "%matplotlib notebook\n",
    "import sys\n",
    "sys.path.append(\"../\")"
   ]
  },
  {
   "cell_type": "code",
   "execution_count": 2,
   "metadata": {
    "collapsed": true
   },
   "outputs": [],
   "source": [
    "\n",
    "import pickle\n",
    "import glob\n",
    "from tqdm.notebook import trange, tqdm\n",
    "from features import prepare_entry\n",
    "import numpy as np\n",
    "import pandas as pd \n",
    "from utills import chunker, cartesian_product \n",
    "from features import prepare_entry, get_transformer, merge_entries\n",
    "from data_collection_methods import reddit_user_comments, reddit_user_submissions\n",
    "import seaborn as sn\n",
    "import matplotlib.pyplot as plt\n",
    "import shap\n",
    "from sklearn.preprocessing import StandardScaler\n",
    "from scipy.cluster import hierarchy\n",
    "from psaw import PushshiftAPI\n",
    "import datetime as dt\n",
    "import gc"
   ]
  },
  {
   "cell_type": "code",
   "execution_count": 3,
   "metadata": {
    "collapsed": true
   },
   "outputs": [],
   "source": [
    "from datetime import datetime\n",
    "import re\n",
    "import json\n",
    "import time\n",
    "import requests"
   ]
  },
  {
   "cell_type": "code",
   "execution_count": 45,
   "metadata": {
    "collapsed": true
   },
   "outputs": [],
   "source": [
    "import matplotlib.pyplot as plt\n",
    "import matplotlib.style as style\n",
    "from matplotlib import rcParams\n",
    "%matplotlib inline"
   ]
  },
  {
   "cell_type": "code",
   "execution_count": 4,
   "metadata": {},
   "outputs": [
    {
     "data": {
      "text/html": [
       "        <script type=\"text/javascript\">\n",
       "        window.PlotlyConfig = {MathJaxConfig: 'local'};\n",
       "        if (window.MathJax) {MathJax.Hub.Config({SVG: {font: \"STIX-Web\"}});}\n",
       "        if (typeof require !== 'undefined') {\n",
       "        require.undef(\"plotly\");\n",
       "        requirejs.config({\n",
       "            paths: {\n",
       "                'plotly': ['https://cdn.plot.ly/plotly-latest.min']\n",
       "            }\n",
       "        });\n",
       "        require(['plotly'], function(Plotly) {\n",
       "            window._Plotly = Plotly;\n",
       "        });\n",
       "        }\n",
       "        </script>\n",
       "        "
      ]
     },
     "metadata": {},
     "output_type": "display_data"
    }
   ],
   "source": [
    "import networkx as nx\n",
    "from plotly.offline import init_notebook_mode\n",
    "import plotly.offline as py\n",
    "import plotly.graph_objs as go\n",
    "init_notebook_mode(connected=True)"
   ]
  },
  {
   "cell_type": "code",
   "execution_count": 6,
   "metadata": {
    "collapsed": true
   },
   "outputs": [],
   "source": [
    "DATA_DIR = '../data/sockpuppets/reddit_suspicous/'\n",
    "TEMP_DATA_DIR = '../temp_data/sockpuppets/reddit_suspicious/'\n",
    "MULTIDOC_MODEL_PATH = '../temp_data/reddit/multidoc_20/model_20.p'\n",
    "SINGLEDOC_MODEL_PATH = '../temp_data/reddit/unchunked/model.p'"
   ]
  },
  {
   "cell_type": "markdown",
   "metadata": {},
   "source": [
    "Load Model\n",
    "=="
   ]
  },
  {
   "cell_type": "code",
   "execution_count": 7,
   "metadata": {
    "collapsed": true,
    "scrolled": true
   },
   "outputs": [],
   "source": [
    "chunk_sz = 20\n",
    "with open(MULTIDOC_MODEL_PATH, 'rb') as f:\n",
    "    (clf, transformer, scaler, secondary_scaler, _) = pickle.load(f)\n",
    "\n",
    "with open(SINGLEDOC_MODEL_PATH, 'rb') as f:\n",
    "    (clf_nc, transformer_nc, scaler_nc, secondary_scaler_nc, _) = pickle.load(f)"
   ]
  },
  {
   "cell_type": "markdown",
   "metadata": {},
   "source": [
    "Download Reddit Suspicious Data\n",
    "==="
   ]
  },
  {
   "cell_type": "code",
   "execution_count": 12,
   "metadata": {
    "collapsed": true
   },
   "outputs": [],
   "source": [
    "with open(DATA_DIR + 'usernames.txt', 'r') as f:\n",
    "    usernames = [l.strip() for l in f.readlines()]"
   ]
  },
  {
   "cell_type": "code",
   "execution_count": 13,
   "metadata": {
    "collapsed": true
   },
   "outputs": [],
   "source": [
    "after = str(int(datetime(2008, 1, 1).timestamp()))\n",
    "before = str(int(datetime.now().timestamp()))"
   ]
  },
  {
   "cell_type": "code",
   "execution_count": 14,
   "metadata": {
    "collapsed": true
   },
   "outputs": [],
   "source": [
    "completed_users_reddit = [re.search('user_content/(.*).jsonl', f).group(1) for f in glob.glob(DATA_DIR + 'user_content/*.jsonl')]\n",
    "failed_reddit = ['[deleted]']"
   ]
  },
  {
   "cell_type": "code",
   "execution_count": null,
   "metadata": {
    "collapsed": true
   },
   "outputs": [],
   "source": [
    "for u in tqdm(usernames):\n",
    "    try:\n",
    "        print(u)\n",
    "        if u in completed_users_reddit or u in failed_reddit:\n",
    "            continue\n",
    "        all_comments = reddit_user_comments(u, after, before)\n",
    "        all_subs = reddit_user_submissions(u, after, before)\n",
    "        print(u, len(all_comments), len(all_subs))\n",
    "        completed_users_reddit.append(u)\n",
    "        if len(all_comments)  + len(all_subs) < 100:\n",
    "            continue\n",
    "        with open(DATA_DIR + '/user_content/' + u + '.jsonl', 'w') as f:\n",
    "            for c in all_comments:\n",
    "                json.dump(c, f)\n",
    "                f.write('\\n')\n",
    "            for c in all_subs:\n",
    "                json.dump(c, f)\n",
    "                f.write('\\n')\n",
    "    except Exception as e:\n",
    "        print('Failed: ', e)\n",
    "        failed_reddit.append(u)"
   ]
  },
  {
   "cell_type": "markdown",
   "metadata": {},
   "source": [
    "Preprocess\n",
    "==="
   ]
  },
  {
   "cell_type": "code",
   "execution_count": 8,
   "metadata": {
    "collapsed": true
   },
   "outputs": [],
   "source": [
    "usernames = [re.search('user_content/(.*).jsonl', f).group(1) for f in glob.glob(DATA_DIR + '/user_content/*.jsonl')]"
   ]
  },
  {
   "cell_type": "code",
   "execution_count": 9,
   "metadata": {},
   "outputs": [
    {
     "data": {
      "application/vnd.jupyter.widget-view+json": {
       "model_id": "21173a8eaf844c3aa1e0aba5f7210222"
      }
     },
     "metadata": {},
     "output_type": "display_data"
    },
    {
     "name": "stdout",
     "output_type": "stream",
     "text": [
      "\n"
     ]
    }
   ],
   "source": [
    "preprocessed = {}\n",
    "for fp in tqdm(glob.glob(DATA_DIR + 'user_content/*.jsonl')):\n",
    "    with open(fp, 'r') as f:\n",
    "        comments = [json.loads(l) for l in f]\n",
    "    user = re.search('user_content/(.*).jsonl', fp).group(1)\n",
    "    preprocessed[user] = [prepare_entry('\\n'.join(chunk), mode='accurate', tokenizer='casual') for chunk in  chunker(comments, chunk_sz)]"
   ]
  },
  {
   "cell_type": "code",
   "execution_count": 10,
   "metadata": {
    "collapsed": true
   },
   "outputs": [],
   "source": [
    "with open(TEMP_DATA_DIR + 'preprocessed.p', 'wb') as f:\n",
    "    pickle.dump(preprocessed, f)"
   ]
  },
  {
   "cell_type": "code",
   "execution_count": null,
   "metadata": {
    "collapsed": true
   },
   "outputs": [],
   "source": [
    "with open(TEMP_DATA_DIR + 'preprocessed.p', 'rb') as f:\n",
    "    preprocessed = pickle.load(f)"
   ]
  },
  {
   "cell_type": "markdown",
   "metadata": {},
   "source": [
    "Vectorize\n",
    "==="
   ]
  },
  {
   "cell_type": "code",
   "execution_count": 11,
   "metadata": {},
   "outputs": [
    {
     "data": {
      "application/vnd.jupyter.widget-view+json": {
       "model_id": "9fb24b8fb32746dfbe0a9965b234e065"
      }
     },
     "metadata": {},
     "output_type": "display_data"
    },
    {
     "name": "stdout",
     "output_type": "stream",
     "text": [
      "\n"
     ]
    }
   ],
   "source": [
    "usernames = list(preprocessed.keys())\n",
    "user_bounds = {}\n",
    "X = []\n",
    "X_nc = []\n",
    "for u in tqdm(usernames):\n",
    "    x = scaler.transform(transformer.transform(preprocessed[u]).todense())\n",
    "    user_bounds[u] = (len(X), len(X) + len(x))\n",
    "    X.extend(x)\n",
    "    \n",
    "    x_nc = scaler_nc.transform(transformer_nc.transform([merge_entries(preprocessed[u])]).todense())[0]\n",
    "    X_nc.append(x_nc)\n",
    "X = np.array(X)\n",
    "X_nc = np.array(X_nc)"
   ]
  },
  {
   "cell_type": "markdown",
   "metadata": {
    "collapsed": true
   },
   "source": [
    "Make Predictions\n",
    "=="
   ]
  },
  {
   "cell_type": "code",
   "execution_count": 12,
   "metadata": {
    "collapsed": true
   },
   "outputs": [],
   "source": [
    "jobs = []\n",
    "for i in range(len(usernames)):\n",
    "    for j in range(i):\n",
    "        jobs.append((i, j))\n",
    "jobs = np.array(jobs)"
   ]
  },
  {
   "cell_type": "code",
   "execution_count": 13,
   "metadata": {},
   "outputs": [
    {
     "data": {
      "application/vnd.jupyter.widget-view+json": {
       "model_id": "7977466f513642c49a2cef658292b010"
      }
     },
     "metadata": {},
     "output_type": "display_data"
    },
    {
     "name": "stdout",
     "output_type": "stream",
     "text": [
      "\n"
     ]
    }
   ],
   "source": [
    "probs_nc = []\n",
    "\n",
    "    \n",
    "inter_probs_mean = []\n",
    "inter_probs_std = []\n",
    "\n",
    "intraA_probs_mean = []\n",
    "intraA_probs_std = []\n",
    "\n",
    "intraB_probs_mean = []\n",
    "intraB_probs_std = []\n",
    "pred_lengths = []\n",
    "\n",
    "for i, j in tqdm(jobs):\n",
    "    start_a, end_a = user_bounds[usernames[i]]\n",
    "    start_b, end_b = user_bounds[usernames[j]]\n",
    "    \n",
    "    l = []\n",
    "    idxs = cartesian_product(range(start_a, end_a), range(start_b, end_b))        \n",
    "    x_diff = secondary_scaler.transform(np.abs(X[idxs[:, 0]] - X[idxs[:, 1]]))\n",
    "    x_diff[np.isnan(x_diff)]=0\n",
    "    p = clf.predict_proba(x_diff)[:, 1]\n",
    "    inter_probs_mean.append(p.mean())\n",
    "    inter_probs_std.append(p.std())\n",
    "    l.append(len(p))\n",
    "    \n",
    "    idxs = cartesian_product(range(start_a, end_a), range(start_a, end_a))\n",
    "    idxs = np.array([(i, j) for i, j in idxs if i != j])\n",
    "    x_diff = secondary_scaler.transform(np.abs(X[idxs[:, 0]] - X[idxs[:, 1]]))\n",
    "    x_diff[np.isnan(x_diff)]=0\n",
    "    p = clf.predict_proba(x_diff)[:, 1]\n",
    "    intraA_probs_mean.append(p.mean())\n",
    "    intraA_probs_std.append(p.std())\n",
    "    l.append(len(p))\n",
    "    \n",
    "    idxs = cartesian_product(range(start_b, end_b), range(start_b, end_b))\n",
    "    idxs = np.array([(i, j) for i, j in idxs if i != j])\n",
    "    x_diff = secondary_scaler.transform(np.abs(X[idxs[:, 0]] - X[idxs[:, 1]]))\n",
    "    x_diff[np.isnan(x_diff)]=0\n",
    "    p = clf.predict_proba(x_diff)[:, 1]\n",
    "    intraB_probs_mean.append(p.mean())\n",
    "    intraB_probs_std.append(p.std())\n",
    "    l.append(len(p))\n",
    "    \n",
    "    pred_lengths.append(l)\n",
    "    \n",
    "    p = clf_nc.predict_proba(secondary_scaler_nc.transform(np.abs(X_nc[[i], :] - X_nc[[j], :])))[0, 1]\n",
    "    probs_nc.append(p)"
   ]
  },
  {
   "cell_type": "code",
   "execution_count": 16,
   "metadata": {
    "collapsed": true
   },
   "outputs": [],
   "source": [
    "inter_probs_mean = np.array(inter_probs_mean)\n",
    "intraA_probs_mean = np.array(intraA_probs_mean)\n",
    "intraB_probs_mean = np.array(intraB_probs_mean)\n",
    "inter_probs_std = np.array(inter_probs_std)\n",
    "intraA_probs_std = np.array(intraA_probs_std)\n",
    "intraB_probs_std = np.array(intraB_probs_std)\n",
    "pred_lengths = np.array(pred_lengths)\n",
    "\n",
    "\n",
    "probs_nc = np.array(probs_nc)\n",
    "\n",
    "n_a = pred_lengths[:, 0]\n",
    "n_b = pred_lengths[:, 1]\n",
    "n_ab = pred_lengths[:, 2]\n",
    "\n",
    "intra_probs_mean = (intraA_probs_mean * n_a + intraB_probs_mean * n_b)/ (n_a + n_b)\n",
    "intra_probs_std = (\n",
    "        n_a * (intraA_probs_std ** 2 + (intraA_probs_mean - intra_probs_mean)**2) + \n",
    "        n_b * (intraB_probs_std ** 2 + (intraB_probs_mean - intra_probs_mean)**2)\n",
    "    ) / (n_a + n_b)\n",
    "\n",
    "\n",
    "pooled_mean = (intra_probs_mean * (n_a + n_b) + inter_probs_mean * n_ab)/ (n_a + n_b + n_ab)\n",
    "pooled_std = (\n",
    "        (n_a + n_b) * (intra_probs_mean ** 2 + (intra_probs_mean - pooled_mean)**2) + \n",
    "        n_ab * (inter_probs_mean ** 2 + (inter_probs_mean - pooled_mean)**2)\n",
    "    ) / (n_a + n_b + n_ab)\n"
   ]
  },
  {
   "cell_type": "code",
   "execution_count": 38,
   "metadata": {
    "collapsed": true
   },
   "outputs": [],
   "source": [
    "inter_intra_sim = (1 - np.abs(inter_probs_mean - intra_probs_mean))\n",
    "aggr_score = (probs_nc * (1 - np.abs(inter_probs_mean - intra_probs_mean)))"
   ]
  },
  {
   "cell_type": "code",
   "execution_count": 57,
   "metadata": {},
   "outputs": [
    {
     "data": {
      "application/vnd.plotly.v1+json": {
       "config": {
        "plotlyServerURL": "https://plot.ly"
       },
       "data": [
        {
         "name": "Aggr Score",
         "nbinsx": 20,
         "type": "histogram",
         "x": [
          0.10637635074258255,
          0.9473781741219928,
          0.10048979115261827,
          0.6278573396440157,
          0.5244594523218693,
          0.659610612061712,
          0.05230124668724024,
          0.5082903125710514,
          0.026289346808860747,
          0.5318556630624744,
          0.1768326167629009,
          0.628873970249514,
          0.15356191503345082,
          0.8118987947558587,
          0.9768832372534337,
          0.34770719548656115,
          0.6884963192165902,
          0.3517049762809303,
          0.9308222777769408,
          0.9700231290160325,
          0.9827181663137164,
          0.07974724934718869,
          0.5899798261223208,
          0.04978508487968344,
          0.7472499097286771,
          0.9740434521011979,
          0.9712246905256602,
          0.959460220204357,
          0.989464773335958,
          0.15331332815272966,
          0.9481889739134396,
          0.4584220911167722,
          0.017281596523726413,
          0.12700262560271927,
          0.24194603320398578,
          0.030829610889781322,
          0.8814557535939483,
          0.8023289858205831,
          0.8163492041186474,
          0.7755485855710238,
          0.5890503565902319,
          0.6750879405698841,
          0.7336355346585384,
          0.7034773611858195,
          0.8247097042848549,
          0.002221489967432357,
          0.06836935180503939,
          0.0021784955435375066,
          0.015574917959039546,
          0.04042932064721054,
          0.026944989737654135,
          0.11997288495046908,
          0.05311903327234963,
          0.0004864338784077545,
          0.35114865883592483,
          0.6159505508390718,
          0.8572830741665733,
          0.492539755033679,
          0.3680598692224935,
          0.04103137273693798,
          0.37198145209726524,
          0.45266931030544105,
          0.31320196583359805,
          0.6970711801064041,
          0.8674231591692669,
          0.010608552160968435,
          0.004551973992705782,
          0.8420069957070876,
          0.0016585737161378883,
          0.07950915653614642,
          0.6926026179565274,
          0.292005605399155,
          0.8362315990946091,
          0.622156227880678,
          0.0019156467909009047,
          0.17684670688790585,
          0.003020047389083222,
          0.1737046224213412,
          0.8206756827629147,
          0.30385324885383136,
          0.8569032473921223,
          0.991252707416147,
          0.7083403292655434,
          0.7975112437657652,
          0.8806922922703014,
          0.774352805243906,
          0.6462144415420966,
          0.8419411716094868,
          0.04789818521499769,
          0.3925971755503505,
          0.03591069148293885,
          0.14795448321999374,
          0.5334703080382924,
          0.08618478968175486,
          0.8812990095732397,
          0.9557150145703273,
          0.9720644054051822,
          0.9842469179713726,
          0.971069688112609,
          0.04468411659955315,
          0.6745014942550114,
          0.03225874962355325,
          0.17081621848440387,
          0.47645433393878733,
          0.8620654663726286,
          0.03151768410899736,
          0.028858472211410132,
          0.03266336014119713,
          0.004526353411333336,
          1.8322600167280926e-05,
          0.0002560906553771903,
          0.00023972370835198604,
          0.00010671017511965298,
          0.16837547557499308,
          0.056684845158085785,
          7.925109373407602e-07,
          0.41785150619512185,
          9.760555511326307e-05,
          0.0027118220471762243,
          0.0002109531628016956,
          0.001118543454885887,
          0.5439872723754329,
          0.00027936725779172984,
          0.003620794295238899,
          0.0023145354469506223,
          0.00827244161721722,
          0.045815344027534906,
          0.010961903479793547,
          0.0007705683567111682,
          0.02766684746134661,
          7.842734693086872e-05,
          0.35657428864682555,
          0.010047699405432726,
          0.001448785298524095,
          0.009509149277406948,
          0.0043311684264811965,
          0.5898848192612364,
          0.11507666937651073,
          0.8040444631034859,
          0.34350822729744024,
          0.05728420895493565,
          0.5460609318950245,
          0.17970331794981198,
          0.5210893054354018,
          0.28884986998751117,
          0.9778628266890547,
          0.034297439119659545,
          0.92479738126364,
          0.00216863567730963,
          0.7069462364752555,
          0.24655234560351563,
          0.001413285731234687,
          0.003053931088201537,
          0.1682596559094906,
          0.7785620250542428,
          0.23387020365126165,
          0.7671656218706945,
          0.6499540188922928,
          0.860087652187587,
          0.8141655824439099,
          0.8421551865942736,
          0.04574104687942718,
          0.9088455884579135,
          0.10632189318000182,
          0.6958551175134587,
          0.28373133227511194,
          0.8063431904304885,
          0.8417532323126184,
          0.0028382085006717975,
          0.030528394694768805,
          0.5314193225604842,
          0.7232181702441354,
          0.9927078702144669,
          0.7282240368561302,
          0.8285472003924774,
          0.14645215116898544,
          0.6857480330489315,
          0.887886774998988,
          0.5798390561374446,
          0.7318501318909894,
          0.9565544274105214,
          0.023748630433814588,
          0.954807567095154,
          0.28997235172096153,
          0.8021696384658485,
          0.6137843181973219,
          0.48124623868167776,
          0.8306822856150486,
          0.9521058233930885,
          0.8909364177793186,
          0.4860829245781787,
          0.7152513036896737,
          0.28876874480510917,
          0.9682257347189844,
          0.91621189973438,
          0.9346810080843572,
          0.9413006674118037,
          0.9233934585193034,
          0.23732907461570968,
          0.8469487611164835,
          0.03864363159713597,
          0.4584376685531905,
          0.6621596633665059,
          0.9848492643510192,
          0.9413916628806833,
          0.001793248264915555,
          0.008825600418553889,
          0.5606960453337272,
          0.967424293234467,
          0.7888517484627932,
          0.9859697525673217,
          0.07428405370904347,
          0.9492595597572719,
          0.7882956745816964,
          0.1339946026723248,
          0.3247674997545693,
          0.49402251279042503,
          0.20419294471652025,
          0.9290668385633782,
          0.85703549097041,
          0.004736349555413435,
          0.4098985349017317,
          0.0040757622250989466,
          0.9173102078206886,
          0.3206422226259245,
          0.016489741076610217,
          0.0003631302584310195,
          0.579739002725516,
          0.3424359896398271,
          0.6485865163305796,
          0.665685598959162,
          0.24877122396516962,
          0.6510613527622555,
          0.3534118746936771,
          0.9054138566295242,
          0.9836611891590564,
          0.9821722231524048,
          0.9541955260880581,
          0.9632233122342265,
          0.2010281468209172,
          0.7792661263106029,
          0.14819422331543117,
          0.6359147709098434,
          0.5255083134913274,
          0.890291492527719,
          0.96934271637686,
          0.001539177518764715,
          0.01697913886337668,
          0.46685022338343835,
          0.8731481646577773,
          0.8661217535509887,
          0.9560740659410524,
          0.4966983559747147,
          0.491136935609735,
          0.4688334404680249,
          0.27580922386666284,
          0.800669656064015,
          0.8355633515689823,
          0.9346529292398618,
          0.6849650591221209,
          0.857842644770341,
          0.12593195626534215,
          0.8104623822667483,
          0.038925903463790615,
          0.430617179598482,
          0.2772154443002565,
          0.8536772988324894,
          0.7581634151567244,
          0.0004116509238699733,
          0.011033425225639418,
          0.38869608772819314,
          0.8862345939886734,
          0.7670752842793502,
          0.9210735142821898,
          0.6773883618069293,
          0.9258337542766377,
          0.342304588345834,
          0.25755356081365804,
          0.12807048352635292,
          0.8098682723151278,
          0.06753500053200931,
          0.23025833760609737,
          0.3578573716531261,
          0.22345659418810973,
          0.2778989828629413,
          0.9297192214190709,
          0.0009818320032439155,
          0.4863298071247593,
          0.02176818605285455,
          0.5505809381076552,
          0.07147018558719183,
          0.0007906945821563869,
          0.037342568215106245,
          0.17950613104282542,
          0.37482570554907874,
          0.7329306553443192,
          0.5621693702004009,
          0.2454715844667668,
          0.23741183863897677,
          0.09256717368811185,
          0.5894161542877848,
          0.7734159436731249,
          0.33239544344465577,
          0.9570348383636711,
          0.9320836857129474,
          0.9174886426999574,
          0.9427829446745789,
          0.9410579995593757,
          0.26706980870139735,
          0.9336425587388006,
          0.07208731543018596,
          0.5835245732912385,
          0.7839224309764856,
          0.9792533483143401,
          0.7711933293752877,
          0.0009664515110845392,
          0.002898360337557159,
          0.6295590156537336,
          0.9124459578808112,
          0.9222793630794314,
          0.9681546271348204,
          0.8017762593154,
          0.9585851845686578,
          0.9523816500431286,
          0.39547539781013585,
          0.24742608601615013,
          0.6371659104616161,
          0.1531213592421685,
          0.931171007062758,
          0.9403807257305578,
          0.9916180319213472,
          0.95163507174782,
          0.9681332616543836,
          0.10407348899398225,
          0.8053642924277036,
          0.04172438314853857,
          0.30221725062114535,
          0.4699697401728478,
          0.9297783169121673,
          0.9687216958613354,
          0.0007590345840708252,
          0.0018583029128280849,
          0.33222198196741815,
          0.8969517497572724,
          0.6051231644574314,
          0.9311319592865462,
          0.5158587384904628,
          0.9586256231315706,
          0.9227806809887465,
          0.09251774629406376,
          0.9764919564766039,
          0.029900200851815894,
          0.4676216033317344,
          0.030380729657852396,
          0.169323511905758,
          0.2055721847365638,
          0.4347123827317577,
          0.17895145959659525,
          0.3276151435730037,
          0.010439113854295842,
          0.7286238843337108,
          0.004884041874981499,
          0.5503757543113832,
          0.005122692465540916,
          0.20378225320132656,
          0.3153543043655243,
          0.0001874574408221991,
          0.00807283886730281,
          0.5784352834177986,
          0.7295969657138636,
          0.35906578310525594,
          0.5546326186861446,
          0.055134646932945286,
          0.14212359678904243,
          0.4311571795884162,
          0.07451325099815137,
          0.20447250074469367,
          0.26467494061401764
         ]
        }
       ],
       "layout": {
        "template": {
         "data": {
          "bar": [
           {
            "error_x": {
             "color": "#2a3f5f"
            },
            "error_y": {
             "color": "#2a3f5f"
            },
            "marker": {
             "line": {
              "color": "#E5ECF6",
              "width": 0.5
             }
            },
            "type": "bar"
           }
          ],
          "barpolar": [
           {
            "marker": {
             "line": {
              "color": "#E5ECF6",
              "width": 0.5
             }
            },
            "type": "barpolar"
           }
          ],
          "carpet": [
           {
            "aaxis": {
             "endlinecolor": "#2a3f5f",
             "gridcolor": "white",
             "linecolor": "white",
             "minorgridcolor": "white",
             "startlinecolor": "#2a3f5f"
            },
            "baxis": {
             "endlinecolor": "#2a3f5f",
             "gridcolor": "white",
             "linecolor": "white",
             "minorgridcolor": "white",
             "startlinecolor": "#2a3f5f"
            },
            "type": "carpet"
           }
          ],
          "choropleth": [
           {
            "colorbar": {
             "outlinewidth": 0,
             "ticks": ""
            },
            "type": "choropleth"
           }
          ],
          "contour": [
           {
            "colorbar": {
             "outlinewidth": 0,
             "ticks": ""
            },
            "colorscale": [
             [
              0,
              "#0d0887"
             ],
             [
              0.1111111111111111,
              "#46039f"
             ],
             [
              0.2222222222222222,
              "#7201a8"
             ],
             [
              0.3333333333333333,
              "#9c179e"
             ],
             [
              0.4444444444444444,
              "#bd3786"
             ],
             [
              0.5555555555555556,
              "#d8576b"
             ],
             [
              0.6666666666666666,
              "#ed7953"
             ],
             [
              0.7777777777777778,
              "#fb9f3a"
             ],
             [
              0.8888888888888888,
              "#fdca26"
             ],
             [
              1,
              "#f0f921"
             ]
            ],
            "type": "contour"
           }
          ],
          "contourcarpet": [
           {
            "colorbar": {
             "outlinewidth": 0,
             "ticks": ""
            },
            "type": "contourcarpet"
           }
          ],
          "heatmap": [
           {
            "colorbar": {
             "outlinewidth": 0,
             "ticks": ""
            },
            "colorscale": [
             [
              0,
              "#0d0887"
             ],
             [
              0.1111111111111111,
              "#46039f"
             ],
             [
              0.2222222222222222,
              "#7201a8"
             ],
             [
              0.3333333333333333,
              "#9c179e"
             ],
             [
              0.4444444444444444,
              "#bd3786"
             ],
             [
              0.5555555555555556,
              "#d8576b"
             ],
             [
              0.6666666666666666,
              "#ed7953"
             ],
             [
              0.7777777777777778,
              "#fb9f3a"
             ],
             [
              0.8888888888888888,
              "#fdca26"
             ],
             [
              1,
              "#f0f921"
             ]
            ],
            "type": "heatmap"
           }
          ],
          "heatmapgl": [
           {
            "colorbar": {
             "outlinewidth": 0,
             "ticks": ""
            },
            "colorscale": [
             [
              0,
              "#0d0887"
             ],
             [
              0.1111111111111111,
              "#46039f"
             ],
             [
              0.2222222222222222,
              "#7201a8"
             ],
             [
              0.3333333333333333,
              "#9c179e"
             ],
             [
              0.4444444444444444,
              "#bd3786"
             ],
             [
              0.5555555555555556,
              "#d8576b"
             ],
             [
              0.6666666666666666,
              "#ed7953"
             ],
             [
              0.7777777777777778,
              "#fb9f3a"
             ],
             [
              0.8888888888888888,
              "#fdca26"
             ],
             [
              1,
              "#f0f921"
             ]
            ],
            "type": "heatmapgl"
           }
          ],
          "histogram": [
           {
            "marker": {
             "colorbar": {
              "outlinewidth": 0,
              "ticks": ""
             }
            },
            "type": "histogram"
           }
          ],
          "histogram2d": [
           {
            "colorbar": {
             "outlinewidth": 0,
             "ticks": ""
            },
            "colorscale": [
             [
              0,
              "#0d0887"
             ],
             [
              0.1111111111111111,
              "#46039f"
             ],
             [
              0.2222222222222222,
              "#7201a8"
             ],
             [
              0.3333333333333333,
              "#9c179e"
             ],
             [
              0.4444444444444444,
              "#bd3786"
             ],
             [
              0.5555555555555556,
              "#d8576b"
             ],
             [
              0.6666666666666666,
              "#ed7953"
             ],
             [
              0.7777777777777778,
              "#fb9f3a"
             ],
             [
              0.8888888888888888,
              "#fdca26"
             ],
             [
              1,
              "#f0f921"
             ]
            ],
            "type": "histogram2d"
           }
          ],
          "histogram2dcontour": [
           {
            "colorbar": {
             "outlinewidth": 0,
             "ticks": ""
            },
            "colorscale": [
             [
              0,
              "#0d0887"
             ],
             [
              0.1111111111111111,
              "#46039f"
             ],
             [
              0.2222222222222222,
              "#7201a8"
             ],
             [
              0.3333333333333333,
              "#9c179e"
             ],
             [
              0.4444444444444444,
              "#bd3786"
             ],
             [
              0.5555555555555556,
              "#d8576b"
             ],
             [
              0.6666666666666666,
              "#ed7953"
             ],
             [
              0.7777777777777778,
              "#fb9f3a"
             ],
             [
              0.8888888888888888,
              "#fdca26"
             ],
             [
              1,
              "#f0f921"
             ]
            ],
            "type": "histogram2dcontour"
           }
          ],
          "mesh3d": [
           {
            "colorbar": {
             "outlinewidth": 0,
             "ticks": ""
            },
            "type": "mesh3d"
           }
          ],
          "parcoords": [
           {
            "line": {
             "colorbar": {
              "outlinewidth": 0,
              "ticks": ""
             }
            },
            "type": "parcoords"
           }
          ],
          "scatter": [
           {
            "marker": {
             "colorbar": {
              "outlinewidth": 0,
              "ticks": ""
             }
            },
            "type": "scatter"
           }
          ],
          "scatter3d": [
           {
            "line": {
             "colorbar": {
              "outlinewidth": 0,
              "ticks": ""
             }
            },
            "marker": {
             "colorbar": {
              "outlinewidth": 0,
              "ticks": ""
             }
            },
            "type": "scatter3d"
           }
          ],
          "scattercarpet": [
           {
            "marker": {
             "colorbar": {
              "outlinewidth": 0,
              "ticks": ""
             }
            },
            "type": "scattercarpet"
           }
          ],
          "scattergeo": [
           {
            "marker": {
             "colorbar": {
              "outlinewidth": 0,
              "ticks": ""
             }
            },
            "type": "scattergeo"
           }
          ],
          "scattergl": [
           {
            "marker": {
             "colorbar": {
              "outlinewidth": 0,
              "ticks": ""
             }
            },
            "type": "scattergl"
           }
          ],
          "scattermapbox": [
           {
            "marker": {
             "colorbar": {
              "outlinewidth": 0,
              "ticks": ""
             }
            },
            "type": "scattermapbox"
           }
          ],
          "scatterpolar": [
           {
            "marker": {
             "colorbar": {
              "outlinewidth": 0,
              "ticks": ""
             }
            },
            "type": "scatterpolar"
           }
          ],
          "scatterpolargl": [
           {
            "marker": {
             "colorbar": {
              "outlinewidth": 0,
              "ticks": ""
             }
            },
            "type": "scatterpolargl"
           }
          ],
          "scatterternary": [
           {
            "marker": {
             "colorbar": {
              "outlinewidth": 0,
              "ticks": ""
             }
            },
            "type": "scatterternary"
           }
          ],
          "surface": [
           {
            "colorbar": {
             "outlinewidth": 0,
             "ticks": ""
            },
            "colorscale": [
             [
              0,
              "#0d0887"
             ],
             [
              0.1111111111111111,
              "#46039f"
             ],
             [
              0.2222222222222222,
              "#7201a8"
             ],
             [
              0.3333333333333333,
              "#9c179e"
             ],
             [
              0.4444444444444444,
              "#bd3786"
             ],
             [
              0.5555555555555556,
              "#d8576b"
             ],
             [
              0.6666666666666666,
              "#ed7953"
             ],
             [
              0.7777777777777778,
              "#fb9f3a"
             ],
             [
              0.8888888888888888,
              "#fdca26"
             ],
             [
              1,
              "#f0f921"
             ]
            ],
            "type": "surface"
           }
          ],
          "table": [
           {
            "cells": {
             "fill": {
              "color": "#EBF0F8"
             },
             "line": {
              "color": "white"
             }
            },
            "header": {
             "fill": {
              "color": "#C8D4E3"
             },
             "line": {
              "color": "white"
             }
            },
            "type": "table"
           }
          ]
         },
         "layout": {
          "annotationdefaults": {
           "arrowcolor": "#2a3f5f",
           "arrowhead": 0,
           "arrowwidth": 1
          },
          "colorscale": {
           "diverging": [
            [
             0,
             "#8e0152"
            ],
            [
             0.1,
             "#c51b7d"
            ],
            [
             0.2,
             "#de77ae"
            ],
            [
             0.3,
             "#f1b6da"
            ],
            [
             0.4,
             "#fde0ef"
            ],
            [
             0.5,
             "#f7f7f7"
            ],
            [
             0.6,
             "#e6f5d0"
            ],
            [
             0.7,
             "#b8e186"
            ],
            [
             0.8,
             "#7fbc41"
            ],
            [
             0.9,
             "#4d9221"
            ],
            [
             1,
             "#276419"
            ]
           ],
           "sequential": [
            [
             0,
             "#0d0887"
            ],
            [
             0.1111111111111111,
             "#46039f"
            ],
            [
             0.2222222222222222,
             "#7201a8"
            ],
            [
             0.3333333333333333,
             "#9c179e"
            ],
            [
             0.4444444444444444,
             "#bd3786"
            ],
            [
             0.5555555555555556,
             "#d8576b"
            ],
            [
             0.6666666666666666,
             "#ed7953"
            ],
            [
             0.7777777777777778,
             "#fb9f3a"
            ],
            [
             0.8888888888888888,
             "#fdca26"
            ],
            [
             1,
             "#f0f921"
            ]
           ],
           "sequentialminus": [
            [
             0,
             "#0d0887"
            ],
            [
             0.1111111111111111,
             "#46039f"
            ],
            [
             0.2222222222222222,
             "#7201a8"
            ],
            [
             0.3333333333333333,
             "#9c179e"
            ],
            [
             0.4444444444444444,
             "#bd3786"
            ],
            [
             0.5555555555555556,
             "#d8576b"
            ],
            [
             0.6666666666666666,
             "#ed7953"
            ],
            [
             0.7777777777777778,
             "#fb9f3a"
            ],
            [
             0.8888888888888888,
             "#fdca26"
            ],
            [
             1,
             "#f0f921"
            ]
           ]
          },
          "colorway": [
           "#636efa",
           "#EF553B",
           "#00cc96",
           "#ab63fa",
           "#FFA15A",
           "#19d3f3",
           "#FF6692",
           "#B6E880",
           "#FF97FF",
           "#FECB52"
          ],
          "font": {
           "color": "#2a3f5f"
          },
          "geo": {
           "bgcolor": "white",
           "lakecolor": "white",
           "landcolor": "#E5ECF6",
           "showlakes": true,
           "showland": true,
           "subunitcolor": "white"
          },
          "hoverlabel": {
           "align": "left"
          },
          "hovermode": "closest",
          "mapbox": {
           "style": "light"
          },
          "paper_bgcolor": "white",
          "plot_bgcolor": "#E5ECF6",
          "polar": {
           "angularaxis": {
            "gridcolor": "white",
            "linecolor": "white",
            "ticks": ""
           },
           "bgcolor": "#E5ECF6",
           "radialaxis": {
            "gridcolor": "white",
            "linecolor": "white",
            "ticks": ""
           }
          },
          "scene": {
           "xaxis": {
            "backgroundcolor": "#E5ECF6",
            "gridcolor": "white",
            "gridwidth": 2,
            "linecolor": "white",
            "showbackground": true,
            "ticks": "",
            "zerolinecolor": "white"
           },
           "yaxis": {
            "backgroundcolor": "#E5ECF6",
            "gridcolor": "white",
            "gridwidth": 2,
            "linecolor": "white",
            "showbackground": true,
            "ticks": "",
            "zerolinecolor": "white"
           },
           "zaxis": {
            "backgroundcolor": "#E5ECF6",
            "gridcolor": "white",
            "gridwidth": 2,
            "linecolor": "white",
            "showbackground": true,
            "ticks": "",
            "zerolinecolor": "white"
           }
          },
          "shapedefaults": {
           "line": {
            "color": "#2a3f5f"
           }
          },
          "ternary": {
           "aaxis": {
            "gridcolor": "white",
            "linecolor": "white",
            "ticks": ""
           },
           "baxis": {
            "gridcolor": "white",
            "linecolor": "white",
            "ticks": ""
           },
           "bgcolor": "#E5ECF6",
           "caxis": {
            "gridcolor": "white",
            "linecolor": "white",
            "ticks": ""
           }
          },
          "title": {
           "x": 0.05
          },
          "xaxis": {
           "automargin": true,
           "gridcolor": "white",
           "linecolor": "white",
           "ticks": "",
           "zerolinecolor": "white",
           "zerolinewidth": 2
          },
          "yaxis": {
           "automargin": true,
           "gridcolor": "white",
           "linecolor": "white",
           "ticks": "",
           "zerolinecolor": "white",
           "zerolinewidth": 2
          }
         }
        }
       }
      },
      "text/html": [
       "<div>\n",
       "        \n",
       "        \n",
       "            <div id=\"c6c1572b-d134-4c91-bdc1-8948cd26e842\" class=\"plotly-graph-div\" style=\"height:525px; width:100%;\"></div>\n",
       "            <script type=\"text/javascript\">\n",
       "                require([\"plotly\"], function(Plotly) {\n",
       "                    window.PLOTLYENV=window.PLOTLYENV || {};\n",
       "                    \n",
       "                if (document.getElementById(\"c6c1572b-d134-4c91-bdc1-8948cd26e842\")) {\n",
       "                    Plotly.newPlot(\n",
       "                        'c6c1572b-d134-4c91-bdc1-8948cd26e842',\n",
       "                        [{\"name\": \"Aggr Score\", \"nbinsx\": 20, \"type\": \"histogram\", \"x\": [0.10637635074258255, 0.9473781741219928, 0.10048979115261827, 0.6278573396440157, 0.5244594523218693, 0.659610612061712, 0.05230124668724024, 0.5082903125710514, 0.026289346808860747, 0.5318556630624744, 0.1768326167629009, 0.628873970249514, 0.15356191503345082, 0.8118987947558587, 0.9768832372534337, 0.34770719548656115, 0.6884963192165902, 0.3517049762809303, 0.9308222777769408, 0.9700231290160325, 0.9827181663137164, 0.07974724934718869, 0.5899798261223208, 0.04978508487968344, 0.7472499097286771, 0.9740434521011979, 0.9712246905256602, 0.959460220204357, 0.989464773335958, 0.15331332815272966, 0.9481889739134396, 0.4584220911167722, 0.017281596523726413, 0.12700262560271927, 0.24194603320398578, 0.030829610889781322, 0.8814557535939483, 0.8023289858205831, 0.8163492041186474, 0.7755485855710238, 0.5890503565902319, 0.6750879405698841, 0.7336355346585384, 0.7034773611858195, 0.8247097042848549, 0.002221489967432357, 0.06836935180503939, 0.0021784955435375066, 0.015574917959039546, 0.04042932064721054, 0.026944989737654135, 0.11997288495046908, 0.05311903327234963, 0.0004864338784077545, 0.35114865883592483, 0.6159505508390718, 0.8572830741665733, 0.492539755033679, 0.3680598692224935, 0.04103137273693798, 0.37198145209726524, 0.45266931030544105, 0.31320196583359805, 0.6970711801064041, 0.8674231591692669, 0.010608552160968435, 0.004551973992705782, 0.8420069957070876, 0.0016585737161378883, 0.07950915653614642, 0.6926026179565274, 0.292005605399155, 0.8362315990946091, 0.622156227880678, 0.0019156467909009047, 0.17684670688790585, 0.003020047389083222, 0.1737046224213412, 0.8206756827629147, 0.30385324885383136, 0.8569032473921223, 0.991252707416147, 0.7083403292655434, 0.7975112437657652, 0.8806922922703014, 0.774352805243906, 0.6462144415420966, 0.8419411716094868, 0.04789818521499769, 0.3925971755503505, 0.03591069148293885, 0.14795448321999374, 0.5334703080382924, 0.08618478968175486, 0.8812990095732397, 0.9557150145703273, 0.9720644054051822, 0.9842469179713726, 0.971069688112609, 0.04468411659955315, 0.6745014942550114, 0.03225874962355325, 0.17081621848440387, 0.47645433393878733, 0.8620654663726286, 0.03151768410899736, 0.028858472211410132, 0.03266336014119713, 0.004526353411333336, 1.8322600167280926e-05, 0.0002560906553771903, 0.00023972370835198604, 0.00010671017511965298, 0.16837547557499308, 0.056684845158085785, 7.925109373407602e-07, 0.41785150619512185, 9.760555511326307e-05, 0.0027118220471762243, 0.0002109531628016956, 0.001118543454885887, 0.5439872723754329, 0.00027936725779172984, 0.003620794295238899, 0.0023145354469506223, 0.00827244161721722, 0.045815344027534906, 0.010961903479793547, 0.0007705683567111682, 0.02766684746134661, 7.842734693086872e-05, 0.35657428864682555, 0.010047699405432726, 0.001448785298524095, 0.009509149277406948, 0.0043311684264811965, 0.5898848192612364, 0.11507666937651073, 0.8040444631034859, 0.34350822729744024, 0.05728420895493565, 0.5460609318950245, 0.17970331794981198, 0.5210893054354018, 0.28884986998751117, 0.9778628266890547, 0.034297439119659545, 0.92479738126364, 0.00216863567730963, 0.7069462364752555, 0.24655234560351563, 0.001413285731234687, 0.003053931088201537, 0.1682596559094906, 0.7785620250542428, 0.23387020365126165, 0.7671656218706945, 0.6499540188922928, 0.860087652187587, 0.8141655824439099, 0.8421551865942736, 0.04574104687942718, 0.9088455884579135, 0.10632189318000182, 0.6958551175134587, 0.28373133227511194, 0.8063431904304885, 0.8417532323126184, 0.0028382085006717975, 0.030528394694768805, 0.5314193225604842, 0.7232181702441354, 0.9927078702144669, 0.7282240368561302, 0.8285472003924774, 0.14645215116898544, 0.6857480330489315, 0.887886774998988, 0.5798390561374446, 0.7318501318909894, 0.9565544274105214, 0.023748630433814588, 0.954807567095154, 0.28997235172096153, 0.8021696384658485, 0.6137843181973219, 0.48124623868167776, 0.8306822856150486, 0.9521058233930885, 0.8909364177793186, 0.4860829245781787, 0.7152513036896737, 0.28876874480510917, 0.9682257347189844, 0.91621189973438, 0.9346810080843572, 0.9413006674118037, 0.9233934585193034, 0.23732907461570968, 0.8469487611164835, 0.03864363159713597, 0.4584376685531905, 0.6621596633665059, 0.9848492643510192, 0.9413916628806833, 0.001793248264915555, 0.008825600418553889, 0.5606960453337272, 0.967424293234467, 0.7888517484627932, 0.9859697525673217, 0.07428405370904347, 0.9492595597572719, 0.7882956745816964, 0.1339946026723248, 0.3247674997545693, 0.49402251279042503, 0.20419294471652025, 0.9290668385633782, 0.85703549097041, 0.004736349555413435, 0.4098985349017317, 0.0040757622250989466, 0.9173102078206886, 0.3206422226259245, 0.016489741076610217, 0.0003631302584310195, 0.579739002725516, 0.3424359896398271, 0.6485865163305796, 0.665685598959162, 0.24877122396516962, 0.6510613527622555, 0.3534118746936771, 0.9054138566295242, 0.9836611891590564, 0.9821722231524048, 0.9541955260880581, 0.9632233122342265, 0.2010281468209172, 0.7792661263106029, 0.14819422331543117, 0.6359147709098434, 0.5255083134913274, 0.890291492527719, 0.96934271637686, 0.001539177518764715, 0.01697913886337668, 0.46685022338343835, 0.8731481646577773, 0.8661217535509887, 0.9560740659410524, 0.4966983559747147, 0.491136935609735, 0.4688334404680249, 0.27580922386666284, 0.800669656064015, 0.8355633515689823, 0.9346529292398618, 0.6849650591221209, 0.857842644770341, 0.12593195626534215, 0.8104623822667483, 0.038925903463790615, 0.430617179598482, 0.2772154443002565, 0.8536772988324894, 0.7581634151567244, 0.0004116509238699733, 0.011033425225639418, 0.38869608772819314, 0.8862345939886734, 0.7670752842793502, 0.9210735142821898, 0.6773883618069293, 0.9258337542766377, 0.342304588345834, 0.25755356081365804, 0.12807048352635292, 0.8098682723151278, 0.06753500053200931, 0.23025833760609737, 0.3578573716531261, 0.22345659418810973, 0.2778989828629413, 0.9297192214190709, 0.0009818320032439155, 0.4863298071247593, 0.02176818605285455, 0.5505809381076552, 0.07147018558719183, 0.0007906945821563869, 0.037342568215106245, 0.17950613104282542, 0.37482570554907874, 0.7329306553443192, 0.5621693702004009, 0.2454715844667668, 0.23741183863897677, 0.09256717368811185, 0.5894161542877848, 0.7734159436731249, 0.33239544344465577, 0.9570348383636711, 0.9320836857129474, 0.9174886426999574, 0.9427829446745789, 0.9410579995593757, 0.26706980870139735, 0.9336425587388006, 0.07208731543018596, 0.5835245732912385, 0.7839224309764856, 0.9792533483143401, 0.7711933293752877, 0.0009664515110845392, 0.002898360337557159, 0.6295590156537336, 0.9124459578808112, 0.9222793630794314, 0.9681546271348204, 0.8017762593154, 0.9585851845686578, 0.9523816500431286, 0.39547539781013585, 0.24742608601615013, 0.6371659104616161, 0.1531213592421685, 0.931171007062758, 0.9403807257305578, 0.9916180319213472, 0.95163507174782, 0.9681332616543836, 0.10407348899398225, 0.8053642924277036, 0.04172438314853857, 0.30221725062114535, 0.4699697401728478, 0.9297783169121673, 0.9687216958613354, 0.0007590345840708252, 0.0018583029128280849, 0.33222198196741815, 0.8969517497572724, 0.6051231644574314, 0.9311319592865462, 0.5158587384904628, 0.9586256231315706, 0.9227806809887465, 0.09251774629406376, 0.9764919564766039, 0.029900200851815894, 0.4676216033317344, 0.030380729657852396, 0.169323511905758, 0.2055721847365638, 0.4347123827317577, 0.17895145959659525, 0.3276151435730037, 0.010439113854295842, 0.7286238843337108, 0.004884041874981499, 0.5503757543113832, 0.005122692465540916, 0.20378225320132656, 0.3153543043655243, 0.0001874574408221991, 0.00807283886730281, 0.5784352834177986, 0.7295969657138636, 0.35906578310525594, 0.5546326186861446, 0.055134646932945286, 0.14212359678904243, 0.4311571795884162, 0.07451325099815137, 0.20447250074469367, 0.26467494061401764]}],\n",
       "                        {\"template\": {\"data\": {\"bar\": [{\"error_x\": {\"color\": \"#2a3f5f\"}, \"error_y\": {\"color\": \"#2a3f5f\"}, \"marker\": {\"line\": {\"color\": \"#E5ECF6\", \"width\": 0.5}}, \"type\": \"bar\"}], \"barpolar\": [{\"marker\": {\"line\": {\"color\": \"#E5ECF6\", \"width\": 0.5}}, \"type\": \"barpolar\"}], \"carpet\": [{\"aaxis\": {\"endlinecolor\": \"#2a3f5f\", \"gridcolor\": \"white\", \"linecolor\": \"white\", \"minorgridcolor\": \"white\", \"startlinecolor\": \"#2a3f5f\"}, \"baxis\": {\"endlinecolor\": \"#2a3f5f\", \"gridcolor\": \"white\", \"linecolor\": \"white\", \"minorgridcolor\": \"white\", \"startlinecolor\": \"#2a3f5f\"}, \"type\": \"carpet\"}], \"choropleth\": [{\"colorbar\": {\"outlinewidth\": 0, \"ticks\": \"\"}, \"type\": \"choropleth\"}], \"contour\": [{\"colorbar\": {\"outlinewidth\": 0, \"ticks\": \"\"}, \"colorscale\": [[0.0, \"#0d0887\"], [0.1111111111111111, \"#46039f\"], [0.2222222222222222, \"#7201a8\"], [0.3333333333333333, \"#9c179e\"], [0.4444444444444444, \"#bd3786\"], [0.5555555555555556, \"#d8576b\"], [0.6666666666666666, \"#ed7953\"], [0.7777777777777778, \"#fb9f3a\"], [0.8888888888888888, \"#fdca26\"], [1.0, \"#f0f921\"]], \"type\": \"contour\"}], \"contourcarpet\": [{\"colorbar\": {\"outlinewidth\": 0, \"ticks\": \"\"}, \"type\": \"contourcarpet\"}], \"heatmap\": [{\"colorbar\": {\"outlinewidth\": 0, \"ticks\": \"\"}, \"colorscale\": [[0.0, \"#0d0887\"], [0.1111111111111111, \"#46039f\"], [0.2222222222222222, \"#7201a8\"], [0.3333333333333333, \"#9c179e\"], [0.4444444444444444, \"#bd3786\"], [0.5555555555555556, \"#d8576b\"], [0.6666666666666666, \"#ed7953\"], [0.7777777777777778, \"#fb9f3a\"], [0.8888888888888888, \"#fdca26\"], [1.0, \"#f0f921\"]], \"type\": \"heatmap\"}], \"heatmapgl\": [{\"colorbar\": {\"outlinewidth\": 0, \"ticks\": \"\"}, \"colorscale\": [[0.0, \"#0d0887\"], [0.1111111111111111, \"#46039f\"], [0.2222222222222222, \"#7201a8\"], [0.3333333333333333, \"#9c179e\"], [0.4444444444444444, \"#bd3786\"], [0.5555555555555556, \"#d8576b\"], [0.6666666666666666, \"#ed7953\"], [0.7777777777777778, \"#fb9f3a\"], [0.8888888888888888, \"#fdca26\"], [1.0, \"#f0f921\"]], \"type\": \"heatmapgl\"}], \"histogram\": [{\"marker\": {\"colorbar\": {\"outlinewidth\": 0, \"ticks\": \"\"}}, \"type\": \"histogram\"}], \"histogram2d\": [{\"colorbar\": {\"outlinewidth\": 0, \"ticks\": \"\"}, \"colorscale\": [[0.0, \"#0d0887\"], [0.1111111111111111, \"#46039f\"], [0.2222222222222222, \"#7201a8\"], [0.3333333333333333, \"#9c179e\"], [0.4444444444444444, \"#bd3786\"], [0.5555555555555556, \"#d8576b\"], [0.6666666666666666, \"#ed7953\"], [0.7777777777777778, \"#fb9f3a\"], [0.8888888888888888, \"#fdca26\"], [1.0, \"#f0f921\"]], \"type\": \"histogram2d\"}], \"histogram2dcontour\": [{\"colorbar\": {\"outlinewidth\": 0, \"ticks\": \"\"}, \"colorscale\": [[0.0, \"#0d0887\"], [0.1111111111111111, \"#46039f\"], [0.2222222222222222, \"#7201a8\"], [0.3333333333333333, \"#9c179e\"], [0.4444444444444444, \"#bd3786\"], [0.5555555555555556, \"#d8576b\"], [0.6666666666666666, \"#ed7953\"], [0.7777777777777778, \"#fb9f3a\"], [0.8888888888888888, \"#fdca26\"], [1.0, \"#f0f921\"]], \"type\": \"histogram2dcontour\"}], \"mesh3d\": [{\"colorbar\": {\"outlinewidth\": 0, \"ticks\": \"\"}, \"type\": \"mesh3d\"}], \"parcoords\": [{\"line\": {\"colorbar\": {\"outlinewidth\": 0, \"ticks\": \"\"}}, \"type\": \"parcoords\"}], \"scatter\": [{\"marker\": {\"colorbar\": {\"outlinewidth\": 0, \"ticks\": \"\"}}, \"type\": \"scatter\"}], \"scatter3d\": [{\"line\": {\"colorbar\": {\"outlinewidth\": 0, \"ticks\": \"\"}}, \"marker\": {\"colorbar\": {\"outlinewidth\": 0, \"ticks\": \"\"}}, \"type\": \"scatter3d\"}], \"scattercarpet\": [{\"marker\": {\"colorbar\": {\"outlinewidth\": 0, \"ticks\": \"\"}}, \"type\": \"scattercarpet\"}], \"scattergeo\": [{\"marker\": {\"colorbar\": {\"outlinewidth\": 0, \"ticks\": \"\"}}, \"type\": \"scattergeo\"}], \"scattergl\": [{\"marker\": {\"colorbar\": {\"outlinewidth\": 0, \"ticks\": \"\"}}, \"type\": \"scattergl\"}], \"scattermapbox\": [{\"marker\": {\"colorbar\": {\"outlinewidth\": 0, \"ticks\": \"\"}}, \"type\": \"scattermapbox\"}], \"scatterpolar\": [{\"marker\": {\"colorbar\": {\"outlinewidth\": 0, \"ticks\": \"\"}}, \"type\": \"scatterpolar\"}], \"scatterpolargl\": [{\"marker\": {\"colorbar\": {\"outlinewidth\": 0, \"ticks\": \"\"}}, \"type\": \"scatterpolargl\"}], \"scatterternary\": [{\"marker\": {\"colorbar\": {\"outlinewidth\": 0, \"ticks\": \"\"}}, \"type\": \"scatterternary\"}], \"surface\": [{\"colorbar\": {\"outlinewidth\": 0, \"ticks\": \"\"}, \"colorscale\": [[0.0, \"#0d0887\"], [0.1111111111111111, \"#46039f\"], [0.2222222222222222, \"#7201a8\"], [0.3333333333333333, \"#9c179e\"], [0.4444444444444444, \"#bd3786\"], [0.5555555555555556, \"#d8576b\"], [0.6666666666666666, \"#ed7953\"], [0.7777777777777778, \"#fb9f3a\"], [0.8888888888888888, \"#fdca26\"], [1.0, \"#f0f921\"]], \"type\": \"surface\"}], \"table\": [{\"cells\": {\"fill\": {\"color\": \"#EBF0F8\"}, \"line\": {\"color\": \"white\"}}, \"header\": {\"fill\": {\"color\": \"#C8D4E3\"}, \"line\": {\"color\": \"white\"}}, \"type\": \"table\"}]}, \"layout\": {\"annotationdefaults\": {\"arrowcolor\": \"#2a3f5f\", \"arrowhead\": 0, \"arrowwidth\": 1}, \"colorscale\": {\"diverging\": [[0, \"#8e0152\"], [0.1, \"#c51b7d\"], [0.2, \"#de77ae\"], [0.3, \"#f1b6da\"], [0.4, \"#fde0ef\"], [0.5, \"#f7f7f7\"], [0.6, \"#e6f5d0\"], [0.7, \"#b8e186\"], [0.8, \"#7fbc41\"], [0.9, \"#4d9221\"], [1, \"#276419\"]], \"sequential\": [[0.0, \"#0d0887\"], [0.1111111111111111, \"#46039f\"], [0.2222222222222222, \"#7201a8\"], [0.3333333333333333, \"#9c179e\"], [0.4444444444444444, \"#bd3786\"], [0.5555555555555556, \"#d8576b\"], [0.6666666666666666, \"#ed7953\"], [0.7777777777777778, \"#fb9f3a\"], [0.8888888888888888, \"#fdca26\"], [1.0, \"#f0f921\"]], \"sequentialminus\": [[0.0, \"#0d0887\"], [0.1111111111111111, \"#46039f\"], [0.2222222222222222, \"#7201a8\"], [0.3333333333333333, \"#9c179e\"], [0.4444444444444444, \"#bd3786\"], [0.5555555555555556, \"#d8576b\"], [0.6666666666666666, \"#ed7953\"], [0.7777777777777778, \"#fb9f3a\"], [0.8888888888888888, \"#fdca26\"], [1.0, \"#f0f921\"]]}, \"colorway\": [\"#636efa\", \"#EF553B\", \"#00cc96\", \"#ab63fa\", \"#FFA15A\", \"#19d3f3\", \"#FF6692\", \"#B6E880\", \"#FF97FF\", \"#FECB52\"], \"font\": {\"color\": \"#2a3f5f\"}, \"geo\": {\"bgcolor\": \"white\", \"lakecolor\": \"white\", \"landcolor\": \"#E5ECF6\", \"showlakes\": true, \"showland\": true, \"subunitcolor\": \"white\"}, \"hoverlabel\": {\"align\": \"left\"}, \"hovermode\": \"closest\", \"mapbox\": {\"style\": \"light\"}, \"paper_bgcolor\": \"white\", \"plot_bgcolor\": \"#E5ECF6\", \"polar\": {\"angularaxis\": {\"gridcolor\": \"white\", \"linecolor\": \"white\", \"ticks\": \"\"}, \"bgcolor\": \"#E5ECF6\", \"radialaxis\": {\"gridcolor\": \"white\", \"linecolor\": \"white\", \"ticks\": \"\"}}, \"scene\": {\"xaxis\": {\"backgroundcolor\": \"#E5ECF6\", \"gridcolor\": \"white\", \"gridwidth\": 2, \"linecolor\": \"white\", \"showbackground\": true, \"ticks\": \"\", \"zerolinecolor\": \"white\"}, \"yaxis\": {\"backgroundcolor\": \"#E5ECF6\", \"gridcolor\": \"white\", \"gridwidth\": 2, \"linecolor\": \"white\", \"showbackground\": true, \"ticks\": \"\", \"zerolinecolor\": \"white\"}, \"zaxis\": {\"backgroundcolor\": \"#E5ECF6\", \"gridcolor\": \"white\", \"gridwidth\": 2, \"linecolor\": \"white\", \"showbackground\": true, \"ticks\": \"\", \"zerolinecolor\": \"white\"}}, \"shapedefaults\": {\"line\": {\"color\": \"#2a3f5f\"}}, \"ternary\": {\"aaxis\": {\"gridcolor\": \"white\", \"linecolor\": \"white\", \"ticks\": \"\"}, \"baxis\": {\"gridcolor\": \"white\", \"linecolor\": \"white\", \"ticks\": \"\"}, \"bgcolor\": \"#E5ECF6\", \"caxis\": {\"gridcolor\": \"white\", \"linecolor\": \"white\", \"ticks\": \"\"}}, \"title\": {\"x\": 0.05}, \"xaxis\": {\"automargin\": true, \"gridcolor\": \"white\", \"linecolor\": \"white\", \"ticks\": \"\", \"zerolinecolor\": \"white\", \"zerolinewidth\": 2}, \"yaxis\": {\"automargin\": true, \"gridcolor\": \"white\", \"linecolor\": \"white\", \"ticks\": \"\", \"zerolinecolor\": \"white\", \"zerolinewidth\": 2}}}},\n",
       "                        {\"responsive\": true}\n",
       "                    ).then(function(){\n",
       "                            \n",
       "var gd = document.getElementById('c6c1572b-d134-4c91-bdc1-8948cd26e842');\n",
       "var x = new MutationObserver(function (mutations, observer) {{\n",
       "        var display = window.getComputedStyle(gd).display;\n",
       "        if (!display || display === 'none') {{\n",
       "            console.log([gd, 'removed!']);\n",
       "            Plotly.purge(gd);\n",
       "            observer.disconnect();\n",
       "        }}\n",
       "}});\n",
       "\n",
       "// Listen for the removal of the full notebook cells\n",
       "var notebookContainer = gd.closest('#notebook-container');\n",
       "if (notebookContainer) {{\n",
       "    x.observe(notebookContainer, {childList: true});\n",
       "}}\n",
       "\n",
       "// Listen for the clearing of the current output cell\n",
       "var outputEl = gd.closest('.output');\n",
       "if (outputEl) {{\n",
       "    x.observe(outputEl, {childList: true});\n",
       "}}\n",
       "\n",
       "                        })\n",
       "                };\n",
       "                });\n",
       "            </script>\n",
       "        </div>"
      ]
     },
     "metadata": {},
     "output_type": "display_data"
    }
   ],
   "source": [
    "\n",
    "fig = go.Figure()\n",
    "fig.add_trace(go.Histogram(x=aggr_score, name='Aggr Score', nbinsx=20))"
   ]
  },
  {
   "cell_type": "code",
   "execution_count": 41,
   "metadata": {},
   "outputs": [
    {
     "data": {
      "application/vnd.plotly.v1+json": {
       "config": {
        "plotlyServerURL": "https://plot.ly"
       },
       "data": [
        {
         "name": "Intra Author Means",
         "type": "histogram",
         "x": [
          0.15101916984692304,
          0.9898748030950936,
          0.14805292017235794,
          0.6639028622137326,
          0.6717435971341911,
          0.6967688733622537,
          0.06618064793391072,
          0.6875949054620187,
          0.03268337262115805,
          0.5868176077410349,
          0.26546320477118185,
          0.9338003418013495,
          0.21905601977496802,
          0.9593833596332764,
          0.9943705320846509,
          0.4243787480227146,
          0.8607406863576541,
          0.4092706856568075,
          0.9730071940959074,
          0.9899554440482206,
          0.9874864993440433,
          0.11197897788271007,
          0.8189474290033112,
          0.0671513266192067,
          0.8381866101519743,
          0.9902997709061061,
          0.9777394152474782,
          0.9631118365769281,
          0.9917763493559385,
          0.21038396029242634,
          0.9882305457135067,
          0.49416535037801373,
          0.022856034118244477,
          0.19886928755417368,
          0.3055261038514862,
          0.044706068516961996,
          0.9913654853541513,
          0.9688671998355355,
          0.9929983083621964,
          0.947729427235255,
          0.8262335381619442,
          0.9743652209596443,
          0.9667210410875658,
          0.97443482141191,
          0.9579278377139145,
          0.006696095094679665,
          0.1339875726937483,
          0.006052032996580867,
          0.030238574183207963,
          0.062366645500781144,
          0.04575711492379352,
          0.1852825418238056,
          0.08538095306408892,
          0.0015702905400075398,
          0.6967179985773722,
          0.8455504442221089,
          0.9686051318833515,
          0.7427616136998157,
          0.49540110584320585,
          0.06699177742247758,
          0.5740876544671405,
          0.6602301425688738,
          0.5066228603191723,
          0.9142432508239761,
          0.9567516760530426,
          0.02315113687463812,
          0.004733005356627116,
          0.8695649770019839,
          0.0016662537649384042,
          0.0799818094227897,
          0.7680689685367676,
          0.3461789194196707,
          0.8717490033308749,
          0.6994305351498072,
          0.0019363714685855448,
          0.1793861653829606,
          0.004306952302567333,
          0.18627978717872973,
          0.8326541398349652,
          0.4139862538378859,
          0.8676775644622142,
          0.9947193954822193,
          0.8011753020477582,
          0.9723199837183062,
          0.9586327015212415,
          0.8956399015545021,
          0.6785443563782698,
          0.997188175047616,
          0.09489708578998488,
          0.5506910143027236,
          0.03658965996671257,
          0.1957092359265238,
          0.7529773795705798,
          0.10918987862955616,
          0.9718768362787179,
          0.9966257887646456,
          0.9829837475202956,
          0.9903000747842416,
          0.9918699247256703,
          0.0618218216616362,
          0.9441174315202698,
          0.04702701561516129,
          0.26388141105153706,
          0.5416465202402101,
          0.9772910633267846,
          0.05384850284749807,
          0.04005235390838231,
          0.06128485232284961,
          0.008070446809243372,
          3.512008179123138e-05,
          0.0005536081274448632,
          0.00043584308621536573,
          0.00022061132137499395,
          0.2745170723877103,
          0.08371483574368845,
          3.3717216257622973e-06,
          0.5586339141567133,
          0.00012713839688703382,
          0.004865028900142125,
          0.00045751182730224295,
          0.0014394872331453402,
          0.5725204701526543,
          0.0003575738108949673,
          0.004529119778786362,
          0.003333807348991098,
          0.012353946422039071,
          0.05960729073622015,
          0.01583542726860419,
          0.0009759460529805497,
          0.03189151145256365,
          0.0001543955487021552,
          0.39570820623408276,
          0.011722358564443291,
          0.0018959819429248304,
          0.013402434913646845,
          0.005919333843119965,
          0.6832624263908839,
          0.13291089420808933,
          0.9222540257613009,
          0.40022899894896546,
          0.0722971740954562,
          0.6591435249929425,
          0.2099572110059411,
          0.6252514353384119,
          0.35085329678810395,
          0.9930256630465826,
          0.0546023065132781,
          0.9956432486621637,
          0.002294450819574748,
          0.8117645469961132,
          0.30456986925494683,
          0.002174262352985532,
          0.003496416515518541,
          0.2193926935215728,
          0.9685798904852306,
          0.30016807093095826,
          0.891213360714195,
          0.7298842258399115,
          0.9402206943066833,
          0.8848220592598892,
          0.9474489331868836,
          0.06199807859139335,
          0.981812164403336,
          0.17602704471906344,
          0.8236240789672191,
          0.3069090546875715,
          0.9433347318011069,
          0.9344461766153034,
          0.005199721588738051,
          0.03821392864325667,
          0.5552075376921283,
          0.872101824920096,
          0.9971380516612475,
          0.9142622104663292,
          0.9260292390144074,
          0.18011791828973306,
          0.8665950972238222,
          0.9641722043531855,
          0.7106897357577036,
          0.8616826956480375,
          0.9838539116821167,
          0.043860736436879474,
          0.9979800686811214,
          0.3235829396728394,
          0.9373379723050986,
          0.7417292364310093,
          0.6446092561975627,
          0.871287126537046,
          0.9738292862080554,
          0.9734201379975932,
          0.5229604306955912,
          0.860355180114185,
          0.30648211336699976,
          0.9858519217064504,
          0.9654350649854352,
          0.9790639595949344,
          0.996188803866917,
          0.9744092107418575,
          0.26384922766788366,
          0.9551808750753752,
          0.05661269460883877,
          0.5764604708778738,
          0.682558692647208,
          0.9856931041890735,
          0.9952756359586543,
          0.0029193815890035855,
          0.011157264640831069,
          0.5950843329585298,
          0.9790278998545755,
          0.7940294586756608,
          0.9960097452482698,
          0.10993918604905842,
          0.9891984078058819,
          0.8547135136352428,
          0.16982336162811862,
          0.47304253376671684,
          0.6120223882844862,
          0.2849927580132621,
          0.9413961783437922,
          0.9837585177136312,
          0.013758048693830703,
          0.5865427711033366,
          0.004124126170852008,
          0.9529407217232182,
          0.4222378234943223,
          0.028779160632047565,
          0.0004808786615640297,
          0.6726541244463086,
          0.4454101360182944,
          0.7909568854886161,
          0.7226321286612507,
          0.3013231670812184,
          0.8064289923415433,
          0.4199761110193144,
          0.9473328214765194,
          0.9926530503085947,
          0.991879237640288,
          0.9808396230105675,
          0.9958843799298823,
          0.25131403695255594,
          0.9546111006120074,
          0.2091262841280747,
          0.8327811518479433,
          0.5516336461407951,
          0.9638555730343389,
          0.9937340308422675,
          0.002576479624393372,
          0.020932758622313568,
          0.5355477391453255,
          0.9381272216870268,
          0.9101690914084803,
          0.9892216039789001,
          0.607129890600306,
          0.6282437986718491,
          0.6335153410199725,
          0.35604370787672285,
          0.9067624869889445,
          0.8849452431371,
          0.9658106064248544,
          0.7488182272255957,
          0.8981170615729289,
          0.1712671922895743,
          0.9535826367421514,
          0.06300507463105325,
          0.5983988158232622,
          0.32031316532229687,
          0.9822926297640171,
          0.820673870398927,
          0.0007515213471186515,
          0.014547716642758309,
          0.429212039679468,
          0.9308783911904575,
          0.8753137459731688,
          0.9356271242132876,
          0.8517271122066318,
          0.9726490599314082,
          0.36524437467347287,
          0.3003440633094799,
          0.1394396937693676,
          0.8145581369500636,
          0.07849765170430717,
          0.26570221920298714,
          0.38954175633253046,
          0.26036334443348425,
          0.3037852180233957,
          0.9472422966286389,
          0.0015657927546832715,
          0.5585598986006113,
          0.02250711326168933,
          0.5716040930847499,
          0.08417222443275793,
          0.0012795332774274176,
          0.043324036201602245,
          0.18476790673923454,
          0.376877739749272,
          0.7950033638966642,
          0.5821735957938851,
          0.2665461168774828,
          0.25853154402788603,
          0.10090593637658293,
          0.5997189151100605,
          0.8869245678024729,
          0.3427493526068026,
          0.9620250814043404,
          0.967488198802219,
          0.9515772800894422,
          0.9799626491709138,
          0.9859662558495297,
          0.28423643808779225,
          0.9909506979412535,
          0.1142953155351681,
          0.7063823389834955,
          0.7995687113530895,
          0.9884647868727829,
          0.8396140927698847,
          0.0012986343131515346,
          0.0036149866014738587,
          0.6629120537600619,
          0.9348428407326681,
          0.9596849744119245,
          0.9804717542784156,
          0.8233984400684701,
          0.962801353395619,
          0.9572822449310083,
          0.4081374321522849,
          0.2855060699040064,
          0.8086228038883608,
          0.1718022563729572,
          0.9576667235403672,
          0.9682005390760381,
          0.9922025420698214,
          0.9787936102134995,
          0.9887811778447,
          0.12480111144478505,
          0.9767617012096883,
          0.06525008919475504,
          0.4276018251590027,
          0.5003390697189597,
          0.9739074220269229,
          0.9854387094894277,
          0.0013390874994494517,
          0.0024663687103061807,
          0.38662629741664745,
          0.9356803505024718,
          0.6504993044834012,
          0.9907634186306769,
          0.5957447905695261,
          0.977452340954727,
          0.950001208488024,
          0.10019333443949235,
          0.9780656718354607,
          0.046213758628636095,
          0.6176145859892325,
          0.044639946269589344,
          0.212057280030065,
          0.26661212536314377,
          0.5850238382178384,
          0.225324622425636,
          0.41840490114164275,
          0.016312745368350392,
          0.9646501453802026,
          0.008562201005194415,
          0.7469678882467686,
          0.0062099505202045805,
          0.26299960341840434,
          0.39302034078065823,
          0.00040654481827013134,
          0.010442858298752796,
          0.6862310961149202,
          0.884778446697027,
          0.4551187569840599,
          0.6324106698262417,
          0.08639416030397766,
          0.17590512626197605,
          0.560738961488574,
          0.08532517649461024,
          0.2532509545028352,
          0.32037733791604617
         ]
        }
       ],
       "layout": {
        "template": {
         "data": {
          "bar": [
           {
            "error_x": {
             "color": "#2a3f5f"
            },
            "error_y": {
             "color": "#2a3f5f"
            },
            "marker": {
             "line": {
              "color": "#E5ECF6",
              "width": 0.5
             }
            },
            "type": "bar"
           }
          ],
          "barpolar": [
           {
            "marker": {
             "line": {
              "color": "#E5ECF6",
              "width": 0.5
             }
            },
            "type": "barpolar"
           }
          ],
          "carpet": [
           {
            "aaxis": {
             "endlinecolor": "#2a3f5f",
             "gridcolor": "white",
             "linecolor": "white",
             "minorgridcolor": "white",
             "startlinecolor": "#2a3f5f"
            },
            "baxis": {
             "endlinecolor": "#2a3f5f",
             "gridcolor": "white",
             "linecolor": "white",
             "minorgridcolor": "white",
             "startlinecolor": "#2a3f5f"
            },
            "type": "carpet"
           }
          ],
          "choropleth": [
           {
            "colorbar": {
             "outlinewidth": 0,
             "ticks": ""
            },
            "type": "choropleth"
           }
          ],
          "contour": [
           {
            "colorbar": {
             "outlinewidth": 0,
             "ticks": ""
            },
            "colorscale": [
             [
              0,
              "#0d0887"
             ],
             [
              0.1111111111111111,
              "#46039f"
             ],
             [
              0.2222222222222222,
              "#7201a8"
             ],
             [
              0.3333333333333333,
              "#9c179e"
             ],
             [
              0.4444444444444444,
              "#bd3786"
             ],
             [
              0.5555555555555556,
              "#d8576b"
             ],
             [
              0.6666666666666666,
              "#ed7953"
             ],
             [
              0.7777777777777778,
              "#fb9f3a"
             ],
             [
              0.8888888888888888,
              "#fdca26"
             ],
             [
              1,
              "#f0f921"
             ]
            ],
            "type": "contour"
           }
          ],
          "contourcarpet": [
           {
            "colorbar": {
             "outlinewidth": 0,
             "ticks": ""
            },
            "type": "contourcarpet"
           }
          ],
          "heatmap": [
           {
            "colorbar": {
             "outlinewidth": 0,
             "ticks": ""
            },
            "colorscale": [
             [
              0,
              "#0d0887"
             ],
             [
              0.1111111111111111,
              "#46039f"
             ],
             [
              0.2222222222222222,
              "#7201a8"
             ],
             [
              0.3333333333333333,
              "#9c179e"
             ],
             [
              0.4444444444444444,
              "#bd3786"
             ],
             [
              0.5555555555555556,
              "#d8576b"
             ],
             [
              0.6666666666666666,
              "#ed7953"
             ],
             [
              0.7777777777777778,
              "#fb9f3a"
             ],
             [
              0.8888888888888888,
              "#fdca26"
             ],
             [
              1,
              "#f0f921"
             ]
            ],
            "type": "heatmap"
           }
          ],
          "heatmapgl": [
           {
            "colorbar": {
             "outlinewidth": 0,
             "ticks": ""
            },
            "colorscale": [
             [
              0,
              "#0d0887"
             ],
             [
              0.1111111111111111,
              "#46039f"
             ],
             [
              0.2222222222222222,
              "#7201a8"
             ],
             [
              0.3333333333333333,
              "#9c179e"
             ],
             [
              0.4444444444444444,
              "#bd3786"
             ],
             [
              0.5555555555555556,
              "#d8576b"
             ],
             [
              0.6666666666666666,
              "#ed7953"
             ],
             [
              0.7777777777777778,
              "#fb9f3a"
             ],
             [
              0.8888888888888888,
              "#fdca26"
             ],
             [
              1,
              "#f0f921"
             ]
            ],
            "type": "heatmapgl"
           }
          ],
          "histogram": [
           {
            "marker": {
             "colorbar": {
              "outlinewidth": 0,
              "ticks": ""
             }
            },
            "type": "histogram"
           }
          ],
          "histogram2d": [
           {
            "colorbar": {
             "outlinewidth": 0,
             "ticks": ""
            },
            "colorscale": [
             [
              0,
              "#0d0887"
             ],
             [
              0.1111111111111111,
              "#46039f"
             ],
             [
              0.2222222222222222,
              "#7201a8"
             ],
             [
              0.3333333333333333,
              "#9c179e"
             ],
             [
              0.4444444444444444,
              "#bd3786"
             ],
             [
              0.5555555555555556,
              "#d8576b"
             ],
             [
              0.6666666666666666,
              "#ed7953"
             ],
             [
              0.7777777777777778,
              "#fb9f3a"
             ],
             [
              0.8888888888888888,
              "#fdca26"
             ],
             [
              1,
              "#f0f921"
             ]
            ],
            "type": "histogram2d"
           }
          ],
          "histogram2dcontour": [
           {
            "colorbar": {
             "outlinewidth": 0,
             "ticks": ""
            },
            "colorscale": [
             [
              0,
              "#0d0887"
             ],
             [
              0.1111111111111111,
              "#46039f"
             ],
             [
              0.2222222222222222,
              "#7201a8"
             ],
             [
              0.3333333333333333,
              "#9c179e"
             ],
             [
              0.4444444444444444,
              "#bd3786"
             ],
             [
              0.5555555555555556,
              "#d8576b"
             ],
             [
              0.6666666666666666,
              "#ed7953"
             ],
             [
              0.7777777777777778,
              "#fb9f3a"
             ],
             [
              0.8888888888888888,
              "#fdca26"
             ],
             [
              1,
              "#f0f921"
             ]
            ],
            "type": "histogram2dcontour"
           }
          ],
          "mesh3d": [
           {
            "colorbar": {
             "outlinewidth": 0,
             "ticks": ""
            },
            "type": "mesh3d"
           }
          ],
          "parcoords": [
           {
            "line": {
             "colorbar": {
              "outlinewidth": 0,
              "ticks": ""
             }
            },
            "type": "parcoords"
           }
          ],
          "scatter": [
           {
            "marker": {
             "colorbar": {
              "outlinewidth": 0,
              "ticks": ""
             }
            },
            "type": "scatter"
           }
          ],
          "scatter3d": [
           {
            "line": {
             "colorbar": {
              "outlinewidth": 0,
              "ticks": ""
             }
            },
            "marker": {
             "colorbar": {
              "outlinewidth": 0,
              "ticks": ""
             }
            },
            "type": "scatter3d"
           }
          ],
          "scattercarpet": [
           {
            "marker": {
             "colorbar": {
              "outlinewidth": 0,
              "ticks": ""
             }
            },
            "type": "scattercarpet"
           }
          ],
          "scattergeo": [
           {
            "marker": {
             "colorbar": {
              "outlinewidth": 0,
              "ticks": ""
             }
            },
            "type": "scattergeo"
           }
          ],
          "scattergl": [
           {
            "marker": {
             "colorbar": {
              "outlinewidth": 0,
              "ticks": ""
             }
            },
            "type": "scattergl"
           }
          ],
          "scattermapbox": [
           {
            "marker": {
             "colorbar": {
              "outlinewidth": 0,
              "ticks": ""
             }
            },
            "type": "scattermapbox"
           }
          ],
          "scatterpolar": [
           {
            "marker": {
             "colorbar": {
              "outlinewidth": 0,
              "ticks": ""
             }
            },
            "type": "scatterpolar"
           }
          ],
          "scatterpolargl": [
           {
            "marker": {
             "colorbar": {
              "outlinewidth": 0,
              "ticks": ""
             }
            },
            "type": "scatterpolargl"
           }
          ],
          "scatterternary": [
           {
            "marker": {
             "colorbar": {
              "outlinewidth": 0,
              "ticks": ""
             }
            },
            "type": "scatterternary"
           }
          ],
          "surface": [
           {
            "colorbar": {
             "outlinewidth": 0,
             "ticks": ""
            },
            "colorscale": [
             [
              0,
              "#0d0887"
             ],
             [
              0.1111111111111111,
              "#46039f"
             ],
             [
              0.2222222222222222,
              "#7201a8"
             ],
             [
              0.3333333333333333,
              "#9c179e"
             ],
             [
              0.4444444444444444,
              "#bd3786"
             ],
             [
              0.5555555555555556,
              "#d8576b"
             ],
             [
              0.6666666666666666,
              "#ed7953"
             ],
             [
              0.7777777777777778,
              "#fb9f3a"
             ],
             [
              0.8888888888888888,
              "#fdca26"
             ],
             [
              1,
              "#f0f921"
             ]
            ],
            "type": "surface"
           }
          ],
          "table": [
           {
            "cells": {
             "fill": {
              "color": "#EBF0F8"
             },
             "line": {
              "color": "white"
             }
            },
            "header": {
             "fill": {
              "color": "#C8D4E3"
             },
             "line": {
              "color": "white"
             }
            },
            "type": "table"
           }
          ]
         },
         "layout": {
          "annotationdefaults": {
           "arrowcolor": "#2a3f5f",
           "arrowhead": 0,
           "arrowwidth": 1
          },
          "colorscale": {
           "diverging": [
            [
             0,
             "#8e0152"
            ],
            [
             0.1,
             "#c51b7d"
            ],
            [
             0.2,
             "#de77ae"
            ],
            [
             0.3,
             "#f1b6da"
            ],
            [
             0.4,
             "#fde0ef"
            ],
            [
             0.5,
             "#f7f7f7"
            ],
            [
             0.6,
             "#e6f5d0"
            ],
            [
             0.7,
             "#b8e186"
            ],
            [
             0.8,
             "#7fbc41"
            ],
            [
             0.9,
             "#4d9221"
            ],
            [
             1,
             "#276419"
            ]
           ],
           "sequential": [
            [
             0,
             "#0d0887"
            ],
            [
             0.1111111111111111,
             "#46039f"
            ],
            [
             0.2222222222222222,
             "#7201a8"
            ],
            [
             0.3333333333333333,
             "#9c179e"
            ],
            [
             0.4444444444444444,
             "#bd3786"
            ],
            [
             0.5555555555555556,
             "#d8576b"
            ],
            [
             0.6666666666666666,
             "#ed7953"
            ],
            [
             0.7777777777777778,
             "#fb9f3a"
            ],
            [
             0.8888888888888888,
             "#fdca26"
            ],
            [
             1,
             "#f0f921"
            ]
           ],
           "sequentialminus": [
            [
             0,
             "#0d0887"
            ],
            [
             0.1111111111111111,
             "#46039f"
            ],
            [
             0.2222222222222222,
             "#7201a8"
            ],
            [
             0.3333333333333333,
             "#9c179e"
            ],
            [
             0.4444444444444444,
             "#bd3786"
            ],
            [
             0.5555555555555556,
             "#d8576b"
            ],
            [
             0.6666666666666666,
             "#ed7953"
            ],
            [
             0.7777777777777778,
             "#fb9f3a"
            ],
            [
             0.8888888888888888,
             "#fdca26"
            ],
            [
             1,
             "#f0f921"
            ]
           ]
          },
          "colorway": [
           "#636efa",
           "#EF553B",
           "#00cc96",
           "#ab63fa",
           "#FFA15A",
           "#19d3f3",
           "#FF6692",
           "#B6E880",
           "#FF97FF",
           "#FECB52"
          ],
          "font": {
           "color": "#2a3f5f"
          },
          "geo": {
           "bgcolor": "white",
           "lakecolor": "white",
           "landcolor": "#E5ECF6",
           "showlakes": true,
           "showland": true,
           "subunitcolor": "white"
          },
          "hoverlabel": {
           "align": "left"
          },
          "hovermode": "closest",
          "mapbox": {
           "style": "light"
          },
          "paper_bgcolor": "white",
          "plot_bgcolor": "#E5ECF6",
          "polar": {
           "angularaxis": {
            "gridcolor": "white",
            "linecolor": "white",
            "ticks": ""
           },
           "bgcolor": "#E5ECF6",
           "radialaxis": {
            "gridcolor": "white",
            "linecolor": "white",
            "ticks": ""
           }
          },
          "scene": {
           "xaxis": {
            "backgroundcolor": "#E5ECF6",
            "gridcolor": "white",
            "gridwidth": 2,
            "linecolor": "white",
            "showbackground": true,
            "ticks": "",
            "zerolinecolor": "white"
           },
           "yaxis": {
            "backgroundcolor": "#E5ECF6",
            "gridcolor": "white",
            "gridwidth": 2,
            "linecolor": "white",
            "showbackground": true,
            "ticks": "",
            "zerolinecolor": "white"
           },
           "zaxis": {
            "backgroundcolor": "#E5ECF6",
            "gridcolor": "white",
            "gridwidth": 2,
            "linecolor": "white",
            "showbackground": true,
            "ticks": "",
            "zerolinecolor": "white"
           }
          },
          "shapedefaults": {
           "line": {
            "color": "#2a3f5f"
           }
          },
          "ternary": {
           "aaxis": {
            "gridcolor": "white",
            "linecolor": "white",
            "ticks": ""
           },
           "baxis": {
            "gridcolor": "white",
            "linecolor": "white",
            "ticks": ""
           },
           "bgcolor": "#E5ECF6",
           "caxis": {
            "gridcolor": "white",
            "linecolor": "white",
            "ticks": ""
           }
          },
          "title": {
           "x": 0.05
          },
          "xaxis": {
           "automargin": true,
           "gridcolor": "white",
           "linecolor": "white",
           "ticks": "",
           "zerolinecolor": "white",
           "zerolinewidth": 2
          },
          "yaxis": {
           "automargin": true,
           "gridcolor": "white",
           "linecolor": "white",
           "ticks": "",
           "zerolinecolor": "white",
           "zerolinewidth": 2
          }
         }
        }
       }
      },
      "text/html": [
       "<div>\n",
       "        \n",
       "        \n",
       "            <div id=\"70d3e130-5e12-489e-9bb9-c6a831c9528e\" class=\"plotly-graph-div\" style=\"height:525px; width:100%;\"></div>\n",
       "            <script type=\"text/javascript\">\n",
       "                require([\"plotly\"], function(Plotly) {\n",
       "                    window.PLOTLYENV=window.PLOTLYENV || {};\n",
       "                    \n",
       "                if (document.getElementById(\"70d3e130-5e12-489e-9bb9-c6a831c9528e\")) {\n",
       "                    Plotly.newPlot(\n",
       "                        '70d3e130-5e12-489e-9bb9-c6a831c9528e',\n",
       "                        [{\"name\": \"Intra Author Means\", \"type\": \"histogram\", \"x\": [0.15101916984692304, 0.9898748030950936, 0.14805292017235794, 0.6639028622137326, 0.6717435971341911, 0.6967688733622537, 0.06618064793391072, 0.6875949054620187, 0.03268337262115805, 0.5868176077410349, 0.26546320477118185, 0.9338003418013495, 0.21905601977496802, 0.9593833596332764, 0.9943705320846509, 0.4243787480227146, 0.8607406863576541, 0.4092706856568075, 0.9730071940959074, 0.9899554440482206, 0.9874864993440433, 0.11197897788271007, 0.8189474290033112, 0.0671513266192067, 0.8381866101519743, 0.9902997709061061, 0.9777394152474782, 0.9631118365769281, 0.9917763493559385, 0.21038396029242634, 0.9882305457135067, 0.49416535037801373, 0.022856034118244477, 0.19886928755417368, 0.3055261038514862, 0.044706068516961996, 0.9913654853541513, 0.9688671998355355, 0.9929983083621964, 0.947729427235255, 0.8262335381619442, 0.9743652209596443, 0.9667210410875658, 0.97443482141191, 0.9579278377139145, 0.006696095094679665, 0.1339875726937483, 0.006052032996580867, 0.030238574183207963, 0.062366645500781144, 0.04575711492379352, 0.1852825418238056, 0.08538095306408892, 0.0015702905400075398, 0.6967179985773722, 0.8455504442221089, 0.9686051318833515, 0.7427616136998157, 0.49540110584320585, 0.06699177742247758, 0.5740876544671405, 0.6602301425688738, 0.5066228603191723, 0.9142432508239761, 0.9567516760530426, 0.02315113687463812, 0.004733005356627116, 0.8695649770019839, 0.0016662537649384042, 0.0799818094227897, 0.7680689685367676, 0.3461789194196707, 0.8717490033308749, 0.6994305351498072, 0.0019363714685855448, 0.1793861653829606, 0.004306952302567333, 0.18627978717872973, 0.8326541398349652, 0.4139862538378859, 0.8676775644622142, 0.9947193954822193, 0.8011753020477582, 0.9723199837183062, 0.9586327015212415, 0.8956399015545021, 0.6785443563782698, 0.997188175047616, 0.09489708578998488, 0.5506910143027236, 0.03658965996671257, 0.1957092359265238, 0.7529773795705798, 0.10918987862955616, 0.9718768362787179, 0.9966257887646456, 0.9829837475202956, 0.9903000747842416, 0.9918699247256703, 0.0618218216616362, 0.9441174315202698, 0.04702701561516129, 0.26388141105153706, 0.5416465202402101, 0.9772910633267846, 0.05384850284749807, 0.04005235390838231, 0.06128485232284961, 0.008070446809243372, 3.512008179123138e-05, 0.0005536081274448632, 0.00043584308621536573, 0.00022061132137499395, 0.2745170723877103, 0.08371483574368845, 3.3717216257622973e-06, 0.5586339141567133, 0.00012713839688703382, 0.004865028900142125, 0.00045751182730224295, 0.0014394872331453402, 0.5725204701526543, 0.0003575738108949673, 0.004529119778786362, 0.003333807348991098, 0.012353946422039071, 0.05960729073622015, 0.01583542726860419, 0.0009759460529805497, 0.03189151145256365, 0.0001543955487021552, 0.39570820623408276, 0.011722358564443291, 0.0018959819429248304, 0.013402434913646845, 0.005919333843119965, 0.6832624263908839, 0.13291089420808933, 0.9222540257613009, 0.40022899894896546, 0.0722971740954562, 0.6591435249929425, 0.2099572110059411, 0.6252514353384119, 0.35085329678810395, 0.9930256630465826, 0.0546023065132781, 0.9956432486621637, 0.002294450819574748, 0.8117645469961132, 0.30456986925494683, 0.002174262352985532, 0.003496416515518541, 0.2193926935215728, 0.9685798904852306, 0.30016807093095826, 0.891213360714195, 0.7298842258399115, 0.9402206943066833, 0.8848220592598892, 0.9474489331868836, 0.06199807859139335, 0.981812164403336, 0.17602704471906344, 0.8236240789672191, 0.3069090546875715, 0.9433347318011069, 0.9344461766153034, 0.005199721588738051, 0.03821392864325667, 0.5552075376921283, 0.872101824920096, 0.9971380516612475, 0.9142622104663292, 0.9260292390144074, 0.18011791828973306, 0.8665950972238222, 0.9641722043531855, 0.7106897357577036, 0.8616826956480375, 0.9838539116821167, 0.043860736436879474, 0.9979800686811214, 0.3235829396728394, 0.9373379723050986, 0.7417292364310093, 0.6446092561975627, 0.871287126537046, 0.9738292862080554, 0.9734201379975932, 0.5229604306955912, 0.860355180114185, 0.30648211336699976, 0.9858519217064504, 0.9654350649854352, 0.9790639595949344, 0.996188803866917, 0.9744092107418575, 0.26384922766788366, 0.9551808750753752, 0.05661269460883877, 0.5764604708778738, 0.682558692647208, 0.9856931041890735, 0.9952756359586543, 0.0029193815890035855, 0.011157264640831069, 0.5950843329585298, 0.9790278998545755, 0.7940294586756608, 0.9960097452482698, 0.10993918604905842, 0.9891984078058819, 0.8547135136352428, 0.16982336162811862, 0.47304253376671684, 0.6120223882844862, 0.2849927580132621, 0.9413961783437922, 0.9837585177136312, 0.013758048693830703, 0.5865427711033366, 0.004124126170852008, 0.9529407217232182, 0.4222378234943223, 0.028779160632047565, 0.0004808786615640297, 0.6726541244463086, 0.4454101360182944, 0.7909568854886161, 0.7226321286612507, 0.3013231670812184, 0.8064289923415433, 0.4199761110193144, 0.9473328214765194, 0.9926530503085947, 0.991879237640288, 0.9808396230105675, 0.9958843799298823, 0.25131403695255594, 0.9546111006120074, 0.2091262841280747, 0.8327811518479433, 0.5516336461407951, 0.9638555730343389, 0.9937340308422675, 0.002576479624393372, 0.020932758622313568, 0.5355477391453255, 0.9381272216870268, 0.9101690914084803, 0.9892216039789001, 0.607129890600306, 0.6282437986718491, 0.6335153410199725, 0.35604370787672285, 0.9067624869889445, 0.8849452431371, 0.9658106064248544, 0.7488182272255957, 0.8981170615729289, 0.1712671922895743, 0.9535826367421514, 0.06300507463105325, 0.5983988158232622, 0.32031316532229687, 0.9822926297640171, 0.820673870398927, 0.0007515213471186515, 0.014547716642758309, 0.429212039679468, 0.9308783911904575, 0.8753137459731688, 0.9356271242132876, 0.8517271122066318, 0.9726490599314082, 0.36524437467347287, 0.3003440633094799, 0.1394396937693676, 0.8145581369500636, 0.07849765170430717, 0.26570221920298714, 0.38954175633253046, 0.26036334443348425, 0.3037852180233957, 0.9472422966286389, 0.0015657927546832715, 0.5585598986006113, 0.02250711326168933, 0.5716040930847499, 0.08417222443275793, 0.0012795332774274176, 0.043324036201602245, 0.18476790673923454, 0.376877739749272, 0.7950033638966642, 0.5821735957938851, 0.2665461168774828, 0.25853154402788603, 0.10090593637658293, 0.5997189151100605, 0.8869245678024729, 0.3427493526068026, 0.9620250814043404, 0.967488198802219, 0.9515772800894422, 0.9799626491709138, 0.9859662558495297, 0.28423643808779225, 0.9909506979412535, 0.1142953155351681, 0.7063823389834955, 0.7995687113530895, 0.9884647868727829, 0.8396140927698847, 0.0012986343131515346, 0.0036149866014738587, 0.6629120537600619, 0.9348428407326681, 0.9596849744119245, 0.9804717542784156, 0.8233984400684701, 0.962801353395619, 0.9572822449310083, 0.4081374321522849, 0.2855060699040064, 0.8086228038883608, 0.1718022563729572, 0.9576667235403672, 0.9682005390760381, 0.9922025420698214, 0.9787936102134995, 0.9887811778447, 0.12480111144478505, 0.9767617012096883, 0.06525008919475504, 0.4276018251590027, 0.5003390697189597, 0.9739074220269229, 0.9854387094894277, 0.0013390874994494517, 0.0024663687103061807, 0.38662629741664745, 0.9356803505024718, 0.6504993044834012, 0.9907634186306769, 0.5957447905695261, 0.977452340954727, 0.950001208488024, 0.10019333443949235, 0.9780656718354607, 0.046213758628636095, 0.6176145859892325, 0.044639946269589344, 0.212057280030065, 0.26661212536314377, 0.5850238382178384, 0.225324622425636, 0.41840490114164275, 0.016312745368350392, 0.9646501453802026, 0.008562201005194415, 0.7469678882467686, 0.0062099505202045805, 0.26299960341840434, 0.39302034078065823, 0.00040654481827013134, 0.010442858298752796, 0.6862310961149202, 0.884778446697027, 0.4551187569840599, 0.6324106698262417, 0.08639416030397766, 0.17590512626197605, 0.560738961488574, 0.08532517649461024, 0.2532509545028352, 0.32037733791604617]}],\n",
       "                        {\"template\": {\"data\": {\"bar\": [{\"error_x\": {\"color\": \"#2a3f5f\"}, \"error_y\": {\"color\": \"#2a3f5f\"}, \"marker\": {\"line\": {\"color\": \"#E5ECF6\", \"width\": 0.5}}, \"type\": \"bar\"}], \"barpolar\": [{\"marker\": {\"line\": {\"color\": \"#E5ECF6\", \"width\": 0.5}}, \"type\": \"barpolar\"}], \"carpet\": [{\"aaxis\": {\"endlinecolor\": \"#2a3f5f\", \"gridcolor\": \"white\", \"linecolor\": \"white\", \"minorgridcolor\": \"white\", \"startlinecolor\": \"#2a3f5f\"}, \"baxis\": {\"endlinecolor\": \"#2a3f5f\", \"gridcolor\": \"white\", \"linecolor\": \"white\", \"minorgridcolor\": \"white\", \"startlinecolor\": \"#2a3f5f\"}, \"type\": \"carpet\"}], \"choropleth\": [{\"colorbar\": {\"outlinewidth\": 0, \"ticks\": \"\"}, \"type\": \"choropleth\"}], \"contour\": [{\"colorbar\": {\"outlinewidth\": 0, \"ticks\": \"\"}, \"colorscale\": [[0.0, \"#0d0887\"], [0.1111111111111111, \"#46039f\"], [0.2222222222222222, \"#7201a8\"], [0.3333333333333333, \"#9c179e\"], [0.4444444444444444, \"#bd3786\"], [0.5555555555555556, \"#d8576b\"], [0.6666666666666666, \"#ed7953\"], [0.7777777777777778, \"#fb9f3a\"], [0.8888888888888888, \"#fdca26\"], [1.0, \"#f0f921\"]], \"type\": \"contour\"}], \"contourcarpet\": [{\"colorbar\": {\"outlinewidth\": 0, \"ticks\": \"\"}, \"type\": \"contourcarpet\"}], \"heatmap\": [{\"colorbar\": {\"outlinewidth\": 0, \"ticks\": \"\"}, \"colorscale\": [[0.0, \"#0d0887\"], [0.1111111111111111, \"#46039f\"], [0.2222222222222222, \"#7201a8\"], [0.3333333333333333, \"#9c179e\"], [0.4444444444444444, \"#bd3786\"], [0.5555555555555556, \"#d8576b\"], [0.6666666666666666, \"#ed7953\"], [0.7777777777777778, \"#fb9f3a\"], [0.8888888888888888, \"#fdca26\"], [1.0, \"#f0f921\"]], \"type\": \"heatmap\"}], \"heatmapgl\": [{\"colorbar\": {\"outlinewidth\": 0, \"ticks\": \"\"}, \"colorscale\": [[0.0, \"#0d0887\"], [0.1111111111111111, \"#46039f\"], [0.2222222222222222, \"#7201a8\"], [0.3333333333333333, \"#9c179e\"], [0.4444444444444444, \"#bd3786\"], [0.5555555555555556, \"#d8576b\"], [0.6666666666666666, \"#ed7953\"], [0.7777777777777778, \"#fb9f3a\"], [0.8888888888888888, \"#fdca26\"], [1.0, \"#f0f921\"]], \"type\": \"heatmapgl\"}], \"histogram\": [{\"marker\": {\"colorbar\": {\"outlinewidth\": 0, \"ticks\": \"\"}}, \"type\": \"histogram\"}], \"histogram2d\": [{\"colorbar\": {\"outlinewidth\": 0, \"ticks\": \"\"}, \"colorscale\": [[0.0, \"#0d0887\"], [0.1111111111111111, \"#46039f\"], [0.2222222222222222, \"#7201a8\"], [0.3333333333333333, \"#9c179e\"], [0.4444444444444444, \"#bd3786\"], [0.5555555555555556, \"#d8576b\"], [0.6666666666666666, \"#ed7953\"], [0.7777777777777778, \"#fb9f3a\"], [0.8888888888888888, \"#fdca26\"], [1.0, \"#f0f921\"]], \"type\": \"histogram2d\"}], \"histogram2dcontour\": [{\"colorbar\": {\"outlinewidth\": 0, \"ticks\": \"\"}, \"colorscale\": [[0.0, \"#0d0887\"], [0.1111111111111111, \"#46039f\"], [0.2222222222222222, \"#7201a8\"], [0.3333333333333333, \"#9c179e\"], [0.4444444444444444, \"#bd3786\"], [0.5555555555555556, \"#d8576b\"], [0.6666666666666666, \"#ed7953\"], [0.7777777777777778, \"#fb9f3a\"], [0.8888888888888888, \"#fdca26\"], [1.0, \"#f0f921\"]], \"type\": \"histogram2dcontour\"}], \"mesh3d\": [{\"colorbar\": {\"outlinewidth\": 0, \"ticks\": \"\"}, \"type\": \"mesh3d\"}], \"parcoords\": [{\"line\": {\"colorbar\": {\"outlinewidth\": 0, \"ticks\": \"\"}}, \"type\": \"parcoords\"}], \"scatter\": [{\"marker\": {\"colorbar\": {\"outlinewidth\": 0, \"ticks\": \"\"}}, \"type\": \"scatter\"}], \"scatter3d\": [{\"line\": {\"colorbar\": {\"outlinewidth\": 0, \"ticks\": \"\"}}, \"marker\": {\"colorbar\": {\"outlinewidth\": 0, \"ticks\": \"\"}}, \"type\": \"scatter3d\"}], \"scattercarpet\": [{\"marker\": {\"colorbar\": {\"outlinewidth\": 0, \"ticks\": \"\"}}, \"type\": \"scattercarpet\"}], \"scattergeo\": [{\"marker\": {\"colorbar\": {\"outlinewidth\": 0, \"ticks\": \"\"}}, \"type\": \"scattergeo\"}], \"scattergl\": [{\"marker\": {\"colorbar\": {\"outlinewidth\": 0, \"ticks\": \"\"}}, \"type\": \"scattergl\"}], \"scattermapbox\": [{\"marker\": {\"colorbar\": {\"outlinewidth\": 0, \"ticks\": \"\"}}, \"type\": \"scattermapbox\"}], \"scatterpolar\": [{\"marker\": {\"colorbar\": {\"outlinewidth\": 0, \"ticks\": \"\"}}, \"type\": \"scatterpolar\"}], \"scatterpolargl\": [{\"marker\": {\"colorbar\": {\"outlinewidth\": 0, \"ticks\": \"\"}}, \"type\": \"scatterpolargl\"}], \"scatterternary\": [{\"marker\": {\"colorbar\": {\"outlinewidth\": 0, \"ticks\": \"\"}}, \"type\": \"scatterternary\"}], \"surface\": [{\"colorbar\": {\"outlinewidth\": 0, \"ticks\": \"\"}, \"colorscale\": [[0.0, \"#0d0887\"], [0.1111111111111111, \"#46039f\"], [0.2222222222222222, \"#7201a8\"], [0.3333333333333333, \"#9c179e\"], [0.4444444444444444, \"#bd3786\"], [0.5555555555555556, \"#d8576b\"], [0.6666666666666666, \"#ed7953\"], [0.7777777777777778, \"#fb9f3a\"], [0.8888888888888888, \"#fdca26\"], [1.0, \"#f0f921\"]], \"type\": \"surface\"}], \"table\": [{\"cells\": {\"fill\": {\"color\": \"#EBF0F8\"}, \"line\": {\"color\": \"white\"}}, \"header\": {\"fill\": {\"color\": \"#C8D4E3\"}, \"line\": {\"color\": \"white\"}}, \"type\": \"table\"}]}, \"layout\": {\"annotationdefaults\": {\"arrowcolor\": \"#2a3f5f\", \"arrowhead\": 0, \"arrowwidth\": 1}, \"colorscale\": {\"diverging\": [[0, \"#8e0152\"], [0.1, \"#c51b7d\"], [0.2, \"#de77ae\"], [0.3, \"#f1b6da\"], [0.4, \"#fde0ef\"], [0.5, \"#f7f7f7\"], [0.6, \"#e6f5d0\"], [0.7, \"#b8e186\"], [0.8, \"#7fbc41\"], [0.9, \"#4d9221\"], [1, \"#276419\"]], \"sequential\": [[0.0, \"#0d0887\"], [0.1111111111111111, \"#46039f\"], [0.2222222222222222, \"#7201a8\"], [0.3333333333333333, \"#9c179e\"], [0.4444444444444444, \"#bd3786\"], [0.5555555555555556, \"#d8576b\"], [0.6666666666666666, \"#ed7953\"], [0.7777777777777778, \"#fb9f3a\"], [0.8888888888888888, \"#fdca26\"], [1.0, \"#f0f921\"]], \"sequentialminus\": [[0.0, \"#0d0887\"], [0.1111111111111111, \"#46039f\"], [0.2222222222222222, \"#7201a8\"], [0.3333333333333333, \"#9c179e\"], [0.4444444444444444, \"#bd3786\"], [0.5555555555555556, \"#d8576b\"], [0.6666666666666666, \"#ed7953\"], [0.7777777777777778, \"#fb9f3a\"], [0.8888888888888888, \"#fdca26\"], [1.0, \"#f0f921\"]]}, \"colorway\": [\"#636efa\", \"#EF553B\", \"#00cc96\", \"#ab63fa\", \"#FFA15A\", \"#19d3f3\", \"#FF6692\", \"#B6E880\", \"#FF97FF\", \"#FECB52\"], \"font\": {\"color\": \"#2a3f5f\"}, \"geo\": {\"bgcolor\": \"white\", \"lakecolor\": \"white\", \"landcolor\": \"#E5ECF6\", \"showlakes\": true, \"showland\": true, \"subunitcolor\": \"white\"}, \"hoverlabel\": {\"align\": \"left\"}, \"hovermode\": \"closest\", \"mapbox\": {\"style\": \"light\"}, \"paper_bgcolor\": \"white\", \"plot_bgcolor\": \"#E5ECF6\", \"polar\": {\"angularaxis\": {\"gridcolor\": \"white\", \"linecolor\": \"white\", \"ticks\": \"\"}, \"bgcolor\": \"#E5ECF6\", \"radialaxis\": {\"gridcolor\": \"white\", \"linecolor\": \"white\", \"ticks\": \"\"}}, \"scene\": {\"xaxis\": {\"backgroundcolor\": \"#E5ECF6\", \"gridcolor\": \"white\", \"gridwidth\": 2, \"linecolor\": \"white\", \"showbackground\": true, \"ticks\": \"\", \"zerolinecolor\": \"white\"}, \"yaxis\": {\"backgroundcolor\": \"#E5ECF6\", \"gridcolor\": \"white\", \"gridwidth\": 2, \"linecolor\": \"white\", \"showbackground\": true, \"ticks\": \"\", \"zerolinecolor\": \"white\"}, \"zaxis\": {\"backgroundcolor\": \"#E5ECF6\", \"gridcolor\": \"white\", \"gridwidth\": 2, \"linecolor\": \"white\", \"showbackground\": true, \"ticks\": \"\", \"zerolinecolor\": \"white\"}}, \"shapedefaults\": {\"line\": {\"color\": \"#2a3f5f\"}}, \"ternary\": {\"aaxis\": {\"gridcolor\": \"white\", \"linecolor\": \"white\", \"ticks\": \"\"}, \"baxis\": {\"gridcolor\": \"white\", \"linecolor\": \"white\", \"ticks\": \"\"}, \"bgcolor\": \"#E5ECF6\", \"caxis\": {\"gridcolor\": \"white\", \"linecolor\": \"white\", \"ticks\": \"\"}}, \"title\": {\"x\": 0.05}, \"xaxis\": {\"automargin\": true, \"gridcolor\": \"white\", \"linecolor\": \"white\", \"ticks\": \"\", \"zerolinecolor\": \"white\", \"zerolinewidth\": 2}, \"yaxis\": {\"automargin\": true, \"gridcolor\": \"white\", \"linecolor\": \"white\", \"ticks\": \"\", \"zerolinecolor\": \"white\", \"zerolinewidth\": 2}}}},\n",
       "                        {\"responsive\": true}\n",
       "                    ).then(function(){\n",
       "                            \n",
       "var gd = document.getElementById('70d3e130-5e12-489e-9bb9-c6a831c9528e');\n",
       "var x = new MutationObserver(function (mutations, observer) {{\n",
       "        var display = window.getComputedStyle(gd).display;\n",
       "        if (!display || display === 'none') {{\n",
       "            console.log([gd, 'removed!']);\n",
       "            Plotly.purge(gd);\n",
       "            observer.disconnect();\n",
       "        }}\n",
       "}});\n",
       "\n",
       "// Listen for the removal of the full notebook cells\n",
       "var notebookContainer = gd.closest('#notebook-container');\n",
       "if (notebookContainer) {{\n",
       "    x.observe(notebookContainer, {childList: true});\n",
       "}}\n",
       "\n",
       "// Listen for the clearing of the current output cell\n",
       "var outputEl = gd.closest('.output');\n",
       "if (outputEl) {{\n",
       "    x.observe(outputEl, {childList: true});\n",
       "}}\n",
       "\n",
       "                        })\n",
       "                };\n",
       "                });\n",
       "            </script>\n",
       "        </div>"
      ]
     },
     "metadata": {},
     "output_type": "display_data"
    }
   ],
   "source": [
    "\n",
    "fig = go.Figure()\n",
    "fig.add_trace(go.Histogram(x=probs_nc, name='Intra Author Means'))"
   ]
  },
  {
   "cell_type": "code",
   "execution_count": 40,
   "metadata": {},
   "outputs": [
    {
     "data": {
      "application/vnd.plotly.v1+json": {
       "config": {
        "plotlyServerURL": "https://plot.ly"
       },
       "data": [
        {
         "name": "Intra Author Means",
         "type": "histogram",
         "x": [
          0.3805768857669747,
          0.6769802868603813,
          0.3471431716765802,
          0.5508134269013549,
          0.4292404069465761,
          0.5164962720123633,
          0.29100402233126377,
          0.3234942783043943,
          0.29118881327055984,
          0.40356807943953815,
          0.3007498347279434,
          0.321202530423751,
          0.3264347813582002,
          0.45894518786267213,
          0.5802978956629807,
          0.3031102537971543,
          0.37595294387420625,
          0.32887518182086956,
          0.4397420247960304,
          0.4898784357375912,
          0.5422503435920026,
          0.28236165596231866,
          0.3362431056904958,
          0.30019640635750494,
          0.4477566967929707,
          0.5372227289440097,
          0.5837088385003747,
          0.5163156038375206,
          0.7239340324459969,
          0.40038031172970445,
          0.6281491926038487,
          0.5265163208457665,
          0.26136631230923546,
          0.2703652875988987,
          0.2812386067950079,
          0.260223184167324,
          0.7825288645579833,
          0.6132195672929052,
          0.7106959987641097,
          0.6531157247355948,
          0.43263259149382155,
          0.46274860055924066,
          0.4707790302421215,
          0.4668986430672506,
          0.7401691132976451,
          0.12199307835020645,
          0.24061499521139765,
          0.14363652975957084,
          0.2613118210044345,
          0.30536693138373744,
          0.30112688264236764,
          0.2968180760037639,
          0.30686979329602454,
          0.09008905625772301,
          0.3463945163520243,
          0.6099664467417845,
          0.6932123152240152,
          0.5417901562476873,
          0.5898956674090298,
          0.37799455075205896,
          0.4462450243021445,
          0.44577472948769586,
          0.4000793968229601,
          0.6360272135589334,
          0.7965016822993007,
          0.3115913937940335,
          0.4673297872825965,
          0.4756462705373765,
          0.4265023562731512,
          0.4275236817941069,
          0.3369608948840362,
          0.329857763262665,
          0.38911323338713916,
          0.34968857762076183,
          0.44264226376082466,
          0.5637662148150536,
          0.2426184424599108,
          0.5620505667629659,
          0.5694731956789684,
          0.379397141865781,
          0.5283597162057808,
          0.5385916702949535,
          0.37230192603435874,
          0.4266731618289813,
          0.3924853366999661,
          0.41337892583018016,
          0.5310331809299983,
          0.675549776538366,
          0.24636456368806497,
          0.5549800032484441,
          0.41063725650268423,
          0.2661043366132714,
          0.29728955331992246,
          0.28571769120990664,
          0.4118601449141892,
          0.525568376276496,
          0.5716727815246789,
          0.48191633249321647,
          0.543363150176691,
          0.23480855242245352,
          0.41889416491746284,
          0.33306262402198705,
          0.3925412432962697,
          0.32208937379020813,
          0.3776767064331931,
          0.3822196678487269,
          0.4454117495344936,
          0.32141845837315314,
          0.30145147436552006,
          0.16025698343676403,
          0.1663142028037145,
          0.17945568627611694,
          0.15506949684119067,
          0.3971026436497399,
          0.5306985533363214,
          0.028887861305817587,
          0.6037907362257166,
          0.3115681856313805,
          0.29810400768332396,
          0.10468018765192721,
          0.39037049158270515,
          0.5800005348578119,
          0.3891979421592425,
          0.40127940585470445,
          0.26398774453585244,
          0.2830039619101157,
          0.3329860204329209,
          0.2834169398418163,
          0.40135065860212354,
          0.5724902308673744,
          0.1764168332048705,
          0.6346013063415046,
          0.37794679839287826,
          0.36314797599927134,
          0.2822044643127904,
          0.3920147184508197,
          0.6238289104890422,
          0.5895660817862308,
          0.6275423829447432,
          0.5904461752762046,
          0.4583983933639044,
          0.5375903820941323,
          0.5158849600736405,
          0.5208571554491346,
          0.5777809073229556,
          0.7969033615279119,
          0.39923396434995495,
          0.7509651198101789,
          0.5333272999160242,
          0.6028920600100023,
          0.4789301683454149,
          0.4215834942126863,
          0.5568859752605471,
          0.5763747735938788,
          0.5374725062210753,
          0.5810254764928448,
          0.6154906316556465,
          0.5429457558538981,
          0.6286127669261923,
          0.5638874675661987,
          0.5721985358618364,
          0.5344113056486096,
          0.783426736282866,
          0.40438564965366336,
          0.7036938989286369,
          0.48053357234950955,
          0.6101221769323039,
          0.5580897025213464,
          0.35092888732330263,
          0.47823585427643917,
          0.7367441514008228,
          0.7393772897179178,
          0.7480587436577972,
          0.6974919570533081,
          0.6986963957942711,
          0.46538545514325996,
          0.5204040150750351,
          0.5620061648066751,
          0.5072952194661157,
          0.7311273658648423,
          0.881336625808049,
          0.3787842614936654,
          0.8514845872139639,
          0.6429966320115637,
          0.6637969028902276,
          0.4859877501559687,
          0.5965876551197131,
          0.7305525734942562,
          0.8266779254280269,
          0.7710285853246646,
          0.3530962069414242,
          0.3530667279351854,
          0.35577618810170686,
          0.44794352789970127,
          0.48413170248361787,
          0.5417827851987819,
          0.48153072490694754,
          0.5166236936081153,
          0.327192854096643,
          0.4962628172182214,
          0.24707306117700725,
          0.4591867132436522,
          0.3820816016244592,
          0.4206355219172022,
          0.4910057232337099,
          0.15756258752535754,
          0.30559321872646944,
          0.5250667185184323,
          0.5673055660954803,
          0.5475947737586248,
          0.7526024908380673,
          0.35096384185610996,
          0.6538516025631829,
          0.5340754948535827,
          0.3003001835261431,
          0.322554273799248,
          0.30268059053633495,
          0.2921919759812462,
          0.6898348341536117,
          0.7506963119541821,
          0.1266962246182172,
          0.5718136264261717,
          0.4502068490154383,
          0.5576284594937148,
          0.27941479621511073,
          0.3596125758997361,
          0.3705639103149781,
          0.6180289938183169,
          0.5678003546858639,
          0.7040712322491645,
          0.356581244247498,
          0.3710457247003997,
          0.4106431642322314,
          0.375100140163675,
          0.4910642122945515,
          0.5154413255004437,
          0.5673631573777865,
          0.5252644445053719,
          0.5743811795785817,
          0.3455133119942834,
          0.5308307635156033,
          0.3683873997321227,
          0.5149669054545342,
          0.4115543179809023,
          0.4513569471861084,
          0.5355173238706719,
          0.24327689671952132,
          0.3891395317102489,
          0.5362842579059803,
          0.588016711780046,
          0.6130272963401372,
          0.4943118066276991,
          0.36850023355758726,
          0.47982365675672284,
          0.424800373993074,
          0.46721821067835895,
          0.5590314502840411,
          0.5669212109949647,
          0.6362665304815595,
          0.5313772552594173,
          0.6005495204847994,
          0.42913415488664797,
          0.6214627029418418,
          0.3483008954836188,
          0.5092382135401853,
          0.42111465413172916,
          0.5435849610785228,
          0.5499192294322478,
          0.2748616967466649,
          0.4093715126432515,
          0.630061900335962,
          0.6854234908385033,
          0.6242999228031314,
          0.5553868437792089,
          0.49153440293855655,
          0.587927590355699,
          0.5497443883705397,
          0.4906240520798055,
          0.5234960789716405,
          0.5915040546156218,
          0.41854099932379213,
          0.47952240637108956,
          0.4701455731028987,
          0.4435151678800551,
          0.5252592875630621,
          0.7075430265311147,
          0.3079961971074342,
          0.6259919847236524,
          0.47051998829831776,
          0.5565585910674755,
          0.41101118272199805,
          0.28995970962802925,
          0.467894527961142,
          0.6533745690021204,
          0.6859487785845836,
          0.7658167516195329,
          0.47748853230097976,
          0.5345592729997479,
          0.49329112874519654,
          0.5667148795100979,
          0.4351162547099909,
          0.4106499666129407,
          0.412428818228767,
          0.4606337005150883,
          0.415535802040025,
          0.47830848234952483,
          0.4074765114774875,
          0.4370892792736262,
          0.39505538741605695,
          0.5694229599665073,
          0.21286852754244903,
          0.5038712322189077,
          0.40627211997927953,
          0.43826052092909074,
          0.37435907936202034,
          0.3070499561476677,
          0.3302101287966555,
          0.5475699215384205,
          0.5504793149579933,
          0.602315927967684,
          0.40971989929220465,
          0.4330953026415743,
          0.4767318358263955,
          0.570503639078208,
          0.4836568682940503,
          0.31911689501164425,
          0.34422128316953715,
          0.33015776893074533,
          0.4290164613350512,
          0.4809405630378262,
          0.5280775318715584,
          0.4716709415798463,
          0.510441288315527,
          0.29076370262859946,
          0.48937649608744666,
          0.24954436541642921,
          0.42088988264555555,
          0.3609708404380038,
          0.40078198674599097,
          0.47376036877947053,
          0.1565722711048038,
          0.29422304813469197,
          0.48294651963466145,
          0.5617146464248024,
          0.5254511528611929,
          0.4768471791318568,
          0.3281343211167909,
          0.49622749659147264,
          0.5567753739826266,
          0.4500501967835627,
          0.43496754376652225,
          0.2445390048186608,
          0.3961051413873403,
          0.25828138823998315,
          0.36695920520569436,
          0.2866145717172234,
          0.3503555846930422,
          0.2985864036287574,
          0.3449055374130212,
          0.23366630794588333,
          0.5426054550588685,
          0.28594471629393226,
          0.5467826074289671,
          0.27926833593861444,
          0.33286244436985885,
          0.32413605115561667,
          0.16761690525936673,
          0.3722230678713959,
          0.5521866674178085,
          0.5436404882004574,
          0.5340873458096549,
          0.3326871976957053,
          0.23960912083003832,
          0.35310352139570284,
          0.4306816318252614,
          0.46829047562777487,
          0.2842163973806781,
          0.3083783701198036
         ]
        }
       ],
       "layout": {
        "template": {
         "data": {
          "bar": [
           {
            "error_x": {
             "color": "#2a3f5f"
            },
            "error_y": {
             "color": "#2a3f5f"
            },
            "marker": {
             "line": {
              "color": "#E5ECF6",
              "width": 0.5
             }
            },
            "type": "bar"
           }
          ],
          "barpolar": [
           {
            "marker": {
             "line": {
              "color": "#E5ECF6",
              "width": 0.5
             }
            },
            "type": "barpolar"
           }
          ],
          "carpet": [
           {
            "aaxis": {
             "endlinecolor": "#2a3f5f",
             "gridcolor": "white",
             "linecolor": "white",
             "minorgridcolor": "white",
             "startlinecolor": "#2a3f5f"
            },
            "baxis": {
             "endlinecolor": "#2a3f5f",
             "gridcolor": "white",
             "linecolor": "white",
             "minorgridcolor": "white",
             "startlinecolor": "#2a3f5f"
            },
            "type": "carpet"
           }
          ],
          "choropleth": [
           {
            "colorbar": {
             "outlinewidth": 0,
             "ticks": ""
            },
            "type": "choropleth"
           }
          ],
          "contour": [
           {
            "colorbar": {
             "outlinewidth": 0,
             "ticks": ""
            },
            "colorscale": [
             [
              0,
              "#0d0887"
             ],
             [
              0.1111111111111111,
              "#46039f"
             ],
             [
              0.2222222222222222,
              "#7201a8"
             ],
             [
              0.3333333333333333,
              "#9c179e"
             ],
             [
              0.4444444444444444,
              "#bd3786"
             ],
             [
              0.5555555555555556,
              "#d8576b"
             ],
             [
              0.6666666666666666,
              "#ed7953"
             ],
             [
              0.7777777777777778,
              "#fb9f3a"
             ],
             [
              0.8888888888888888,
              "#fdca26"
             ],
             [
              1,
              "#f0f921"
             ]
            ],
            "type": "contour"
           }
          ],
          "contourcarpet": [
           {
            "colorbar": {
             "outlinewidth": 0,
             "ticks": ""
            },
            "type": "contourcarpet"
           }
          ],
          "heatmap": [
           {
            "colorbar": {
             "outlinewidth": 0,
             "ticks": ""
            },
            "colorscale": [
             [
              0,
              "#0d0887"
             ],
             [
              0.1111111111111111,
              "#46039f"
             ],
             [
              0.2222222222222222,
              "#7201a8"
             ],
             [
              0.3333333333333333,
              "#9c179e"
             ],
             [
              0.4444444444444444,
              "#bd3786"
             ],
             [
              0.5555555555555556,
              "#d8576b"
             ],
             [
              0.6666666666666666,
              "#ed7953"
             ],
             [
              0.7777777777777778,
              "#fb9f3a"
             ],
             [
              0.8888888888888888,
              "#fdca26"
             ],
             [
              1,
              "#f0f921"
             ]
            ],
            "type": "heatmap"
           }
          ],
          "heatmapgl": [
           {
            "colorbar": {
             "outlinewidth": 0,
             "ticks": ""
            },
            "colorscale": [
             [
              0,
              "#0d0887"
             ],
             [
              0.1111111111111111,
              "#46039f"
             ],
             [
              0.2222222222222222,
              "#7201a8"
             ],
             [
              0.3333333333333333,
              "#9c179e"
             ],
             [
              0.4444444444444444,
              "#bd3786"
             ],
             [
              0.5555555555555556,
              "#d8576b"
             ],
             [
              0.6666666666666666,
              "#ed7953"
             ],
             [
              0.7777777777777778,
              "#fb9f3a"
             ],
             [
              0.8888888888888888,
              "#fdca26"
             ],
             [
              1,
              "#f0f921"
             ]
            ],
            "type": "heatmapgl"
           }
          ],
          "histogram": [
           {
            "marker": {
             "colorbar": {
              "outlinewidth": 0,
              "ticks": ""
             }
            },
            "type": "histogram"
           }
          ],
          "histogram2d": [
           {
            "colorbar": {
             "outlinewidth": 0,
             "ticks": ""
            },
            "colorscale": [
             [
              0,
              "#0d0887"
             ],
             [
              0.1111111111111111,
              "#46039f"
             ],
             [
              0.2222222222222222,
              "#7201a8"
             ],
             [
              0.3333333333333333,
              "#9c179e"
             ],
             [
              0.4444444444444444,
              "#bd3786"
             ],
             [
              0.5555555555555556,
              "#d8576b"
             ],
             [
              0.6666666666666666,
              "#ed7953"
             ],
             [
              0.7777777777777778,
              "#fb9f3a"
             ],
             [
              0.8888888888888888,
              "#fdca26"
             ],
             [
              1,
              "#f0f921"
             ]
            ],
            "type": "histogram2d"
           }
          ],
          "histogram2dcontour": [
           {
            "colorbar": {
             "outlinewidth": 0,
             "ticks": ""
            },
            "colorscale": [
             [
              0,
              "#0d0887"
             ],
             [
              0.1111111111111111,
              "#46039f"
             ],
             [
              0.2222222222222222,
              "#7201a8"
             ],
             [
              0.3333333333333333,
              "#9c179e"
             ],
             [
              0.4444444444444444,
              "#bd3786"
             ],
             [
              0.5555555555555556,
              "#d8576b"
             ],
             [
              0.6666666666666666,
              "#ed7953"
             ],
             [
              0.7777777777777778,
              "#fb9f3a"
             ],
             [
              0.8888888888888888,
              "#fdca26"
             ],
             [
              1,
              "#f0f921"
             ]
            ],
            "type": "histogram2dcontour"
           }
          ],
          "mesh3d": [
           {
            "colorbar": {
             "outlinewidth": 0,
             "ticks": ""
            },
            "type": "mesh3d"
           }
          ],
          "parcoords": [
           {
            "line": {
             "colorbar": {
              "outlinewidth": 0,
              "ticks": ""
             }
            },
            "type": "parcoords"
           }
          ],
          "scatter": [
           {
            "marker": {
             "colorbar": {
              "outlinewidth": 0,
              "ticks": ""
             }
            },
            "type": "scatter"
           }
          ],
          "scatter3d": [
           {
            "line": {
             "colorbar": {
              "outlinewidth": 0,
              "ticks": ""
             }
            },
            "marker": {
             "colorbar": {
              "outlinewidth": 0,
              "ticks": ""
             }
            },
            "type": "scatter3d"
           }
          ],
          "scattercarpet": [
           {
            "marker": {
             "colorbar": {
              "outlinewidth": 0,
              "ticks": ""
             }
            },
            "type": "scattercarpet"
           }
          ],
          "scattergeo": [
           {
            "marker": {
             "colorbar": {
              "outlinewidth": 0,
              "ticks": ""
             }
            },
            "type": "scattergeo"
           }
          ],
          "scattergl": [
           {
            "marker": {
             "colorbar": {
              "outlinewidth": 0,
              "ticks": ""
             }
            },
            "type": "scattergl"
           }
          ],
          "scattermapbox": [
           {
            "marker": {
             "colorbar": {
              "outlinewidth": 0,
              "ticks": ""
             }
            },
            "type": "scattermapbox"
           }
          ],
          "scatterpolar": [
           {
            "marker": {
             "colorbar": {
              "outlinewidth": 0,
              "ticks": ""
             }
            },
            "type": "scatterpolar"
           }
          ],
          "scatterpolargl": [
           {
            "marker": {
             "colorbar": {
              "outlinewidth": 0,
              "ticks": ""
             }
            },
            "type": "scatterpolargl"
           }
          ],
          "scatterternary": [
           {
            "marker": {
             "colorbar": {
              "outlinewidth": 0,
              "ticks": ""
             }
            },
            "type": "scatterternary"
           }
          ],
          "surface": [
           {
            "colorbar": {
             "outlinewidth": 0,
             "ticks": ""
            },
            "colorscale": [
             [
              0,
              "#0d0887"
             ],
             [
              0.1111111111111111,
              "#46039f"
             ],
             [
              0.2222222222222222,
              "#7201a8"
             ],
             [
              0.3333333333333333,
              "#9c179e"
             ],
             [
              0.4444444444444444,
              "#bd3786"
             ],
             [
              0.5555555555555556,
              "#d8576b"
             ],
             [
              0.6666666666666666,
              "#ed7953"
             ],
             [
              0.7777777777777778,
              "#fb9f3a"
             ],
             [
              0.8888888888888888,
              "#fdca26"
             ],
             [
              1,
              "#f0f921"
             ]
            ],
            "type": "surface"
           }
          ],
          "table": [
           {
            "cells": {
             "fill": {
              "color": "#EBF0F8"
             },
             "line": {
              "color": "white"
             }
            },
            "header": {
             "fill": {
              "color": "#C8D4E3"
             },
             "line": {
              "color": "white"
             }
            },
            "type": "table"
           }
          ]
         },
         "layout": {
          "annotationdefaults": {
           "arrowcolor": "#2a3f5f",
           "arrowhead": 0,
           "arrowwidth": 1
          },
          "colorscale": {
           "diverging": [
            [
             0,
             "#8e0152"
            ],
            [
             0.1,
             "#c51b7d"
            ],
            [
             0.2,
             "#de77ae"
            ],
            [
             0.3,
             "#f1b6da"
            ],
            [
             0.4,
             "#fde0ef"
            ],
            [
             0.5,
             "#f7f7f7"
            ],
            [
             0.6,
             "#e6f5d0"
            ],
            [
             0.7,
             "#b8e186"
            ],
            [
             0.8,
             "#7fbc41"
            ],
            [
             0.9,
             "#4d9221"
            ],
            [
             1,
             "#276419"
            ]
           ],
           "sequential": [
            [
             0,
             "#0d0887"
            ],
            [
             0.1111111111111111,
             "#46039f"
            ],
            [
             0.2222222222222222,
             "#7201a8"
            ],
            [
             0.3333333333333333,
             "#9c179e"
            ],
            [
             0.4444444444444444,
             "#bd3786"
            ],
            [
             0.5555555555555556,
             "#d8576b"
            ],
            [
             0.6666666666666666,
             "#ed7953"
            ],
            [
             0.7777777777777778,
             "#fb9f3a"
            ],
            [
             0.8888888888888888,
             "#fdca26"
            ],
            [
             1,
             "#f0f921"
            ]
           ],
           "sequentialminus": [
            [
             0,
             "#0d0887"
            ],
            [
             0.1111111111111111,
             "#46039f"
            ],
            [
             0.2222222222222222,
             "#7201a8"
            ],
            [
             0.3333333333333333,
             "#9c179e"
            ],
            [
             0.4444444444444444,
             "#bd3786"
            ],
            [
             0.5555555555555556,
             "#d8576b"
            ],
            [
             0.6666666666666666,
             "#ed7953"
            ],
            [
             0.7777777777777778,
             "#fb9f3a"
            ],
            [
             0.8888888888888888,
             "#fdca26"
            ],
            [
             1,
             "#f0f921"
            ]
           ]
          },
          "colorway": [
           "#636efa",
           "#EF553B",
           "#00cc96",
           "#ab63fa",
           "#FFA15A",
           "#19d3f3",
           "#FF6692",
           "#B6E880",
           "#FF97FF",
           "#FECB52"
          ],
          "font": {
           "color": "#2a3f5f"
          },
          "geo": {
           "bgcolor": "white",
           "lakecolor": "white",
           "landcolor": "#E5ECF6",
           "showlakes": true,
           "showland": true,
           "subunitcolor": "white"
          },
          "hoverlabel": {
           "align": "left"
          },
          "hovermode": "closest",
          "mapbox": {
           "style": "light"
          },
          "paper_bgcolor": "white",
          "plot_bgcolor": "#E5ECF6",
          "polar": {
           "angularaxis": {
            "gridcolor": "white",
            "linecolor": "white",
            "ticks": ""
           },
           "bgcolor": "#E5ECF6",
           "radialaxis": {
            "gridcolor": "white",
            "linecolor": "white",
            "ticks": ""
           }
          },
          "scene": {
           "xaxis": {
            "backgroundcolor": "#E5ECF6",
            "gridcolor": "white",
            "gridwidth": 2,
            "linecolor": "white",
            "showbackground": true,
            "ticks": "",
            "zerolinecolor": "white"
           },
           "yaxis": {
            "backgroundcolor": "#E5ECF6",
            "gridcolor": "white",
            "gridwidth": 2,
            "linecolor": "white",
            "showbackground": true,
            "ticks": "",
            "zerolinecolor": "white"
           },
           "zaxis": {
            "backgroundcolor": "#E5ECF6",
            "gridcolor": "white",
            "gridwidth": 2,
            "linecolor": "white",
            "showbackground": true,
            "ticks": "",
            "zerolinecolor": "white"
           }
          },
          "shapedefaults": {
           "line": {
            "color": "#2a3f5f"
           }
          },
          "ternary": {
           "aaxis": {
            "gridcolor": "white",
            "linecolor": "white",
            "ticks": ""
           },
           "baxis": {
            "gridcolor": "white",
            "linecolor": "white",
            "ticks": ""
           },
           "bgcolor": "#E5ECF6",
           "caxis": {
            "gridcolor": "white",
            "linecolor": "white",
            "ticks": ""
           }
          },
          "title": {
           "x": 0.05
          },
          "xaxis": {
           "automargin": true,
           "gridcolor": "white",
           "linecolor": "white",
           "ticks": "",
           "zerolinecolor": "white",
           "zerolinewidth": 2
          },
          "yaxis": {
           "automargin": true,
           "gridcolor": "white",
           "linecolor": "white",
           "ticks": "",
           "zerolinecolor": "white",
           "zerolinewidth": 2
          }
         }
        }
       }
      },
      "text/html": [
       "<div>\n",
       "        \n",
       "        \n",
       "            <div id=\"0cb6ddd8-ee90-4b93-94c1-7fef823c0975\" class=\"plotly-graph-div\" style=\"height:525px; width:100%;\"></div>\n",
       "            <script type=\"text/javascript\">\n",
       "                require([\"plotly\"], function(Plotly) {\n",
       "                    window.PLOTLYENV=window.PLOTLYENV || {};\n",
       "                    \n",
       "                if (document.getElementById(\"0cb6ddd8-ee90-4b93-94c1-7fef823c0975\")) {\n",
       "                    Plotly.newPlot(\n",
       "                        '0cb6ddd8-ee90-4b93-94c1-7fef823c0975',\n",
       "                        [{\"name\": \"Intra Author Means\", \"type\": \"histogram\", \"x\": [0.3805768857669747, 0.6769802868603813, 0.3471431716765802, 0.5508134269013549, 0.4292404069465761, 0.5164962720123633, 0.29100402233126377, 0.3234942783043943, 0.29118881327055984, 0.40356807943953815, 0.3007498347279434, 0.321202530423751, 0.3264347813582002, 0.45894518786267213, 0.5802978956629807, 0.3031102537971543, 0.37595294387420625, 0.32887518182086956, 0.4397420247960304, 0.4898784357375912, 0.5422503435920026, 0.28236165596231866, 0.3362431056904958, 0.30019640635750494, 0.4477566967929707, 0.5372227289440097, 0.5837088385003747, 0.5163156038375206, 0.7239340324459969, 0.40038031172970445, 0.6281491926038487, 0.5265163208457665, 0.26136631230923546, 0.2703652875988987, 0.2812386067950079, 0.260223184167324, 0.7825288645579833, 0.6132195672929052, 0.7106959987641097, 0.6531157247355948, 0.43263259149382155, 0.46274860055924066, 0.4707790302421215, 0.4668986430672506, 0.7401691132976451, 0.12199307835020645, 0.24061499521139765, 0.14363652975957084, 0.2613118210044345, 0.30536693138373744, 0.30112688264236764, 0.2968180760037639, 0.30686979329602454, 0.09008905625772301, 0.3463945163520243, 0.6099664467417845, 0.6932123152240152, 0.5417901562476873, 0.5898956674090298, 0.37799455075205896, 0.4462450243021445, 0.44577472948769586, 0.4000793968229601, 0.6360272135589334, 0.7965016822993007, 0.3115913937940335, 0.4673297872825965, 0.4756462705373765, 0.4265023562731512, 0.4275236817941069, 0.3369608948840362, 0.329857763262665, 0.38911323338713916, 0.34968857762076183, 0.44264226376082466, 0.5637662148150536, 0.2426184424599108, 0.5620505667629659, 0.5694731956789684, 0.379397141865781, 0.5283597162057808, 0.5385916702949535, 0.37230192603435874, 0.4266731618289813, 0.3924853366999661, 0.41337892583018016, 0.5310331809299983, 0.675549776538366, 0.24636456368806497, 0.5549800032484441, 0.41063725650268423, 0.2661043366132714, 0.29728955331992246, 0.28571769120990664, 0.4118601449141892, 0.525568376276496, 0.5716727815246789, 0.48191633249321647, 0.543363150176691, 0.23480855242245352, 0.41889416491746284, 0.33306262402198705, 0.3925412432962697, 0.32208937379020813, 0.3776767064331931, 0.3822196678487269, 0.4454117495344936, 0.32141845837315314, 0.30145147436552006, 0.16025698343676403, 0.1663142028037145, 0.17945568627611694, 0.15506949684119067, 0.3971026436497399, 0.5306985533363214, 0.028887861305817587, 0.6037907362257166, 0.3115681856313805, 0.29810400768332396, 0.10468018765192721, 0.39037049158270515, 0.5800005348578119, 0.3891979421592425, 0.40127940585470445, 0.26398774453585244, 0.2830039619101157, 0.3329860204329209, 0.2834169398418163, 0.40135065860212354, 0.5724902308673744, 0.1764168332048705, 0.6346013063415046, 0.37794679839287826, 0.36314797599927134, 0.2822044643127904, 0.3920147184508197, 0.6238289104890422, 0.5895660817862308, 0.6275423829447432, 0.5904461752762046, 0.4583983933639044, 0.5375903820941323, 0.5158849600736405, 0.5208571554491346, 0.5777809073229556, 0.7969033615279119, 0.39923396434995495, 0.7509651198101789, 0.5333272999160242, 0.6028920600100023, 0.4789301683454149, 0.4215834942126863, 0.5568859752605471, 0.5763747735938788, 0.5374725062210753, 0.5810254764928448, 0.6154906316556465, 0.5429457558538981, 0.6286127669261923, 0.5638874675661987, 0.5721985358618364, 0.5344113056486096, 0.783426736282866, 0.40438564965366336, 0.7036938989286369, 0.48053357234950955, 0.6101221769323039, 0.5580897025213464, 0.35092888732330263, 0.47823585427643917, 0.7367441514008228, 0.7393772897179178, 0.7480587436577972, 0.6974919570533081, 0.6986963957942711, 0.46538545514325996, 0.5204040150750351, 0.5620061648066751, 0.5072952194661157, 0.7311273658648423, 0.881336625808049, 0.3787842614936654, 0.8514845872139639, 0.6429966320115637, 0.6637969028902276, 0.4859877501559687, 0.5965876551197131, 0.7305525734942562, 0.8266779254280269, 0.7710285853246646, 0.3530962069414242, 0.3530667279351854, 0.35577618810170686, 0.44794352789970127, 0.48413170248361787, 0.5417827851987819, 0.48153072490694754, 0.5166236936081153, 0.327192854096643, 0.4962628172182214, 0.24707306117700725, 0.4591867132436522, 0.3820816016244592, 0.4206355219172022, 0.4910057232337099, 0.15756258752535754, 0.30559321872646944, 0.5250667185184323, 0.5673055660954803, 0.5475947737586248, 0.7526024908380673, 0.35096384185610996, 0.6538516025631829, 0.5340754948535827, 0.3003001835261431, 0.322554273799248, 0.30268059053633495, 0.2921919759812462, 0.6898348341536117, 0.7506963119541821, 0.1266962246182172, 0.5718136264261717, 0.4502068490154383, 0.5576284594937148, 0.27941479621511073, 0.3596125758997361, 0.3705639103149781, 0.6180289938183169, 0.5678003546858639, 0.7040712322491645, 0.356581244247498, 0.3710457247003997, 0.4106431642322314, 0.375100140163675, 0.4910642122945515, 0.5154413255004437, 0.5673631573777865, 0.5252644445053719, 0.5743811795785817, 0.3455133119942834, 0.5308307635156033, 0.3683873997321227, 0.5149669054545342, 0.4115543179809023, 0.4513569471861084, 0.5355173238706719, 0.24327689671952132, 0.3891395317102489, 0.5362842579059803, 0.588016711780046, 0.6130272963401372, 0.4943118066276991, 0.36850023355758726, 0.47982365675672284, 0.424800373993074, 0.46721821067835895, 0.5590314502840411, 0.5669212109949647, 0.6362665304815595, 0.5313772552594173, 0.6005495204847994, 0.42913415488664797, 0.6214627029418418, 0.3483008954836188, 0.5092382135401853, 0.42111465413172916, 0.5435849610785228, 0.5499192294322478, 0.2748616967466649, 0.4093715126432515, 0.630061900335962, 0.6854234908385033, 0.6242999228031314, 0.5553868437792089, 0.49153440293855655, 0.587927590355699, 0.5497443883705397, 0.4906240520798055, 0.5234960789716405, 0.5915040546156218, 0.41854099932379213, 0.47952240637108956, 0.4701455731028987, 0.4435151678800551, 0.5252592875630621, 0.7075430265311147, 0.3079961971074342, 0.6259919847236524, 0.47051998829831776, 0.5565585910674755, 0.41101118272199805, 0.28995970962802925, 0.467894527961142, 0.6533745690021204, 0.6859487785845836, 0.7658167516195329, 0.47748853230097976, 0.5345592729997479, 0.49329112874519654, 0.5667148795100979, 0.4351162547099909, 0.4106499666129407, 0.412428818228767, 0.4606337005150883, 0.415535802040025, 0.47830848234952483, 0.4074765114774875, 0.4370892792736262, 0.39505538741605695, 0.5694229599665073, 0.21286852754244903, 0.5038712322189077, 0.40627211997927953, 0.43826052092909074, 0.37435907936202034, 0.3070499561476677, 0.3302101287966555, 0.5475699215384205, 0.5504793149579933, 0.602315927967684, 0.40971989929220465, 0.4330953026415743, 0.4767318358263955, 0.570503639078208, 0.4836568682940503, 0.31911689501164425, 0.34422128316953715, 0.33015776893074533, 0.4290164613350512, 0.4809405630378262, 0.5280775318715584, 0.4716709415798463, 0.510441288315527, 0.29076370262859946, 0.48937649608744666, 0.24954436541642921, 0.42088988264555555, 0.3609708404380038, 0.40078198674599097, 0.47376036877947053, 0.1565722711048038, 0.29422304813469197, 0.48294651963466145, 0.5617146464248024, 0.5254511528611929, 0.4768471791318568, 0.3281343211167909, 0.49622749659147264, 0.5567753739826266, 0.4500501967835627, 0.43496754376652225, 0.2445390048186608, 0.3961051413873403, 0.25828138823998315, 0.36695920520569436, 0.2866145717172234, 0.3503555846930422, 0.2985864036287574, 0.3449055374130212, 0.23366630794588333, 0.5426054550588685, 0.28594471629393226, 0.5467826074289671, 0.27926833593861444, 0.33286244436985885, 0.32413605115561667, 0.16761690525936673, 0.3722230678713959, 0.5521866674178085, 0.5436404882004574, 0.5340873458096549, 0.3326871976957053, 0.23960912083003832, 0.35310352139570284, 0.4306816318252614, 0.46829047562777487, 0.2842163973806781, 0.3083783701198036]}],\n",
       "                        {\"template\": {\"data\": {\"bar\": [{\"error_x\": {\"color\": \"#2a3f5f\"}, \"error_y\": {\"color\": \"#2a3f5f\"}, \"marker\": {\"line\": {\"color\": \"#E5ECF6\", \"width\": 0.5}}, \"type\": \"bar\"}], \"barpolar\": [{\"marker\": {\"line\": {\"color\": \"#E5ECF6\", \"width\": 0.5}}, \"type\": \"barpolar\"}], \"carpet\": [{\"aaxis\": {\"endlinecolor\": \"#2a3f5f\", \"gridcolor\": \"white\", \"linecolor\": \"white\", \"minorgridcolor\": \"white\", \"startlinecolor\": \"#2a3f5f\"}, \"baxis\": {\"endlinecolor\": \"#2a3f5f\", \"gridcolor\": \"white\", \"linecolor\": \"white\", \"minorgridcolor\": \"white\", \"startlinecolor\": \"#2a3f5f\"}, \"type\": \"carpet\"}], \"choropleth\": [{\"colorbar\": {\"outlinewidth\": 0, \"ticks\": \"\"}, \"type\": \"choropleth\"}], \"contour\": [{\"colorbar\": {\"outlinewidth\": 0, \"ticks\": \"\"}, \"colorscale\": [[0.0, \"#0d0887\"], [0.1111111111111111, \"#46039f\"], [0.2222222222222222, \"#7201a8\"], [0.3333333333333333, \"#9c179e\"], [0.4444444444444444, \"#bd3786\"], [0.5555555555555556, \"#d8576b\"], [0.6666666666666666, \"#ed7953\"], [0.7777777777777778, \"#fb9f3a\"], [0.8888888888888888, \"#fdca26\"], [1.0, \"#f0f921\"]], \"type\": \"contour\"}], \"contourcarpet\": [{\"colorbar\": {\"outlinewidth\": 0, \"ticks\": \"\"}, \"type\": \"contourcarpet\"}], \"heatmap\": [{\"colorbar\": {\"outlinewidth\": 0, \"ticks\": \"\"}, \"colorscale\": [[0.0, \"#0d0887\"], [0.1111111111111111, \"#46039f\"], [0.2222222222222222, \"#7201a8\"], [0.3333333333333333, \"#9c179e\"], [0.4444444444444444, \"#bd3786\"], [0.5555555555555556, \"#d8576b\"], [0.6666666666666666, \"#ed7953\"], [0.7777777777777778, \"#fb9f3a\"], [0.8888888888888888, \"#fdca26\"], [1.0, \"#f0f921\"]], \"type\": \"heatmap\"}], \"heatmapgl\": [{\"colorbar\": {\"outlinewidth\": 0, \"ticks\": \"\"}, \"colorscale\": [[0.0, \"#0d0887\"], [0.1111111111111111, \"#46039f\"], [0.2222222222222222, \"#7201a8\"], [0.3333333333333333, \"#9c179e\"], [0.4444444444444444, \"#bd3786\"], [0.5555555555555556, \"#d8576b\"], [0.6666666666666666, \"#ed7953\"], [0.7777777777777778, \"#fb9f3a\"], [0.8888888888888888, \"#fdca26\"], [1.0, \"#f0f921\"]], \"type\": \"heatmapgl\"}], \"histogram\": [{\"marker\": {\"colorbar\": {\"outlinewidth\": 0, \"ticks\": \"\"}}, \"type\": \"histogram\"}], \"histogram2d\": [{\"colorbar\": {\"outlinewidth\": 0, \"ticks\": \"\"}, \"colorscale\": [[0.0, \"#0d0887\"], [0.1111111111111111, \"#46039f\"], [0.2222222222222222, \"#7201a8\"], [0.3333333333333333, \"#9c179e\"], [0.4444444444444444, \"#bd3786\"], [0.5555555555555556, \"#d8576b\"], [0.6666666666666666, \"#ed7953\"], [0.7777777777777778, \"#fb9f3a\"], [0.8888888888888888, \"#fdca26\"], [1.0, \"#f0f921\"]], \"type\": \"histogram2d\"}], \"histogram2dcontour\": [{\"colorbar\": {\"outlinewidth\": 0, \"ticks\": \"\"}, \"colorscale\": [[0.0, \"#0d0887\"], [0.1111111111111111, \"#46039f\"], [0.2222222222222222, \"#7201a8\"], [0.3333333333333333, \"#9c179e\"], [0.4444444444444444, \"#bd3786\"], [0.5555555555555556, \"#d8576b\"], [0.6666666666666666, \"#ed7953\"], [0.7777777777777778, \"#fb9f3a\"], [0.8888888888888888, \"#fdca26\"], [1.0, \"#f0f921\"]], \"type\": \"histogram2dcontour\"}], \"mesh3d\": [{\"colorbar\": {\"outlinewidth\": 0, \"ticks\": \"\"}, \"type\": \"mesh3d\"}], \"parcoords\": [{\"line\": {\"colorbar\": {\"outlinewidth\": 0, \"ticks\": \"\"}}, \"type\": \"parcoords\"}], \"scatter\": [{\"marker\": {\"colorbar\": {\"outlinewidth\": 0, \"ticks\": \"\"}}, \"type\": \"scatter\"}], \"scatter3d\": [{\"line\": {\"colorbar\": {\"outlinewidth\": 0, \"ticks\": \"\"}}, \"marker\": {\"colorbar\": {\"outlinewidth\": 0, \"ticks\": \"\"}}, \"type\": \"scatter3d\"}], \"scattercarpet\": [{\"marker\": {\"colorbar\": {\"outlinewidth\": 0, \"ticks\": \"\"}}, \"type\": \"scattercarpet\"}], \"scattergeo\": [{\"marker\": {\"colorbar\": {\"outlinewidth\": 0, \"ticks\": \"\"}}, \"type\": \"scattergeo\"}], \"scattergl\": [{\"marker\": {\"colorbar\": {\"outlinewidth\": 0, \"ticks\": \"\"}}, \"type\": \"scattergl\"}], \"scattermapbox\": [{\"marker\": {\"colorbar\": {\"outlinewidth\": 0, \"ticks\": \"\"}}, \"type\": \"scattermapbox\"}], \"scatterpolar\": [{\"marker\": {\"colorbar\": {\"outlinewidth\": 0, \"ticks\": \"\"}}, \"type\": \"scatterpolar\"}], \"scatterpolargl\": [{\"marker\": {\"colorbar\": {\"outlinewidth\": 0, \"ticks\": \"\"}}, \"type\": \"scatterpolargl\"}], \"scatterternary\": [{\"marker\": {\"colorbar\": {\"outlinewidth\": 0, \"ticks\": \"\"}}, \"type\": \"scatterternary\"}], \"surface\": [{\"colorbar\": {\"outlinewidth\": 0, \"ticks\": \"\"}, \"colorscale\": [[0.0, \"#0d0887\"], [0.1111111111111111, \"#46039f\"], [0.2222222222222222, \"#7201a8\"], [0.3333333333333333, \"#9c179e\"], [0.4444444444444444, \"#bd3786\"], [0.5555555555555556, \"#d8576b\"], [0.6666666666666666, \"#ed7953\"], [0.7777777777777778, \"#fb9f3a\"], [0.8888888888888888, \"#fdca26\"], [1.0, \"#f0f921\"]], \"type\": \"surface\"}], \"table\": [{\"cells\": {\"fill\": {\"color\": \"#EBF0F8\"}, \"line\": {\"color\": \"white\"}}, \"header\": {\"fill\": {\"color\": \"#C8D4E3\"}, \"line\": {\"color\": \"white\"}}, \"type\": \"table\"}]}, \"layout\": {\"annotationdefaults\": {\"arrowcolor\": \"#2a3f5f\", \"arrowhead\": 0, \"arrowwidth\": 1}, \"colorscale\": {\"diverging\": [[0, \"#8e0152\"], [0.1, \"#c51b7d\"], [0.2, \"#de77ae\"], [0.3, \"#f1b6da\"], [0.4, \"#fde0ef\"], [0.5, \"#f7f7f7\"], [0.6, \"#e6f5d0\"], [0.7, \"#b8e186\"], [0.8, \"#7fbc41\"], [0.9, \"#4d9221\"], [1, \"#276419\"]], \"sequential\": [[0.0, \"#0d0887\"], [0.1111111111111111, \"#46039f\"], [0.2222222222222222, \"#7201a8\"], [0.3333333333333333, \"#9c179e\"], [0.4444444444444444, \"#bd3786\"], [0.5555555555555556, \"#d8576b\"], [0.6666666666666666, \"#ed7953\"], [0.7777777777777778, \"#fb9f3a\"], [0.8888888888888888, \"#fdca26\"], [1.0, \"#f0f921\"]], \"sequentialminus\": [[0.0, \"#0d0887\"], [0.1111111111111111, \"#46039f\"], [0.2222222222222222, \"#7201a8\"], [0.3333333333333333, \"#9c179e\"], [0.4444444444444444, \"#bd3786\"], [0.5555555555555556, \"#d8576b\"], [0.6666666666666666, \"#ed7953\"], [0.7777777777777778, \"#fb9f3a\"], [0.8888888888888888, \"#fdca26\"], [1.0, \"#f0f921\"]]}, \"colorway\": [\"#636efa\", \"#EF553B\", \"#00cc96\", \"#ab63fa\", \"#FFA15A\", \"#19d3f3\", \"#FF6692\", \"#B6E880\", \"#FF97FF\", \"#FECB52\"], \"font\": {\"color\": \"#2a3f5f\"}, \"geo\": {\"bgcolor\": \"white\", \"lakecolor\": \"white\", \"landcolor\": \"#E5ECF6\", \"showlakes\": true, \"showland\": true, \"subunitcolor\": \"white\"}, \"hoverlabel\": {\"align\": \"left\"}, \"hovermode\": \"closest\", \"mapbox\": {\"style\": \"light\"}, \"paper_bgcolor\": \"white\", \"plot_bgcolor\": \"#E5ECF6\", \"polar\": {\"angularaxis\": {\"gridcolor\": \"white\", \"linecolor\": \"white\", \"ticks\": \"\"}, \"bgcolor\": \"#E5ECF6\", \"radialaxis\": {\"gridcolor\": \"white\", \"linecolor\": \"white\", \"ticks\": \"\"}}, \"scene\": {\"xaxis\": {\"backgroundcolor\": \"#E5ECF6\", \"gridcolor\": \"white\", \"gridwidth\": 2, \"linecolor\": \"white\", \"showbackground\": true, \"ticks\": \"\", \"zerolinecolor\": \"white\"}, \"yaxis\": {\"backgroundcolor\": \"#E5ECF6\", \"gridcolor\": \"white\", \"gridwidth\": 2, \"linecolor\": \"white\", \"showbackground\": true, \"ticks\": \"\", \"zerolinecolor\": \"white\"}, \"zaxis\": {\"backgroundcolor\": \"#E5ECF6\", \"gridcolor\": \"white\", \"gridwidth\": 2, \"linecolor\": \"white\", \"showbackground\": true, \"ticks\": \"\", \"zerolinecolor\": \"white\"}}, \"shapedefaults\": {\"line\": {\"color\": \"#2a3f5f\"}}, \"ternary\": {\"aaxis\": {\"gridcolor\": \"white\", \"linecolor\": \"white\", \"ticks\": \"\"}, \"baxis\": {\"gridcolor\": \"white\", \"linecolor\": \"white\", \"ticks\": \"\"}, \"bgcolor\": \"#E5ECF6\", \"caxis\": {\"gridcolor\": \"white\", \"linecolor\": \"white\", \"ticks\": \"\"}}, \"title\": {\"x\": 0.05}, \"xaxis\": {\"automargin\": true, \"gridcolor\": \"white\", \"linecolor\": \"white\", \"ticks\": \"\", \"zerolinecolor\": \"white\", \"zerolinewidth\": 2}, \"yaxis\": {\"automargin\": true, \"gridcolor\": \"white\", \"linecolor\": \"white\", \"ticks\": \"\", \"zerolinecolor\": \"white\", \"zerolinewidth\": 2}}}},\n",
       "                        {\"responsive\": true}\n",
       "                    ).then(function(){\n",
       "                            \n",
       "var gd = document.getElementById('0cb6ddd8-ee90-4b93-94c1-7fef823c0975');\n",
       "var x = new MutationObserver(function (mutations, observer) {{\n",
       "        var display = window.getComputedStyle(gd).display;\n",
       "        if (!display || display === 'none') {{\n",
       "            console.log([gd, 'removed!']);\n",
       "            Plotly.purge(gd);\n",
       "            observer.disconnect();\n",
       "        }}\n",
       "}});\n",
       "\n",
       "// Listen for the removal of the full notebook cells\n",
       "var notebookContainer = gd.closest('#notebook-container');\n",
       "if (notebookContainer) {{\n",
       "    x.observe(notebookContainer, {childList: true});\n",
       "}}\n",
       "\n",
       "// Listen for the clearing of the current output cell\n",
       "var outputEl = gd.closest('.output');\n",
       "if (outputEl) {{\n",
       "    x.observe(outputEl, {childList: true});\n",
       "}}\n",
       "\n",
       "                        })\n",
       "                };\n",
       "                });\n",
       "            </script>\n",
       "        </div>"
      ]
     },
     "metadata": {},
     "output_type": "display_data"
    }
   ],
   "source": [
    "\n",
    "fig = go.Figure()\n",
    "fig.add_trace(go.Histogram(x=inter_probs_mean, name='Intra Author Means'))"
   ]
  },
  {
   "cell_type": "code",
   "execution_count": 66,
   "metadata": {},
   "outputs": [
    {
     "data": {
      "application/vnd.plotly.v1+json": {
       "config": {
        "plotlyServerURL": "https://plot.ly"
       },
       "data": [
        {
         "name": "Intra Author Means",
         "type": "histogram",
         "x": [
          0.6761871659028781,
          0.7199116038716077,
          0.6684007933727166,
          0.6051067951352648,
          0.6484968992163482,
          0.5698256653321806,
          0.5007239582939749,
          0.5842649609645376,
          0.48682424803465885,
          0.4972291147485117,
          0.6346212956887075,
          0.647745965783409,
          0.6254181409974287,
          0.6126736879419247,
          0.5627115993408685,
          0.48377800140088123,
          0.576064742783051,
          0.4695295491951036,
          0.4830972194697591,
          0.4697438780137819,
          0.5470791012848869,
          0.5701989727958569,
          0.6158307749010241,
          0.5588099381199013,
          0.556248886147808,
          0.5208071755100894,
          0.5903718865684215,
          0.512524126841921,
          0.7216032892078851,
          0.6716492433553403,
          0.6686676444709249,
          0.5988468863819774,
          0.5052597876899164,
          0.6317416611723059,
          0.48933889624983695,
          0.5706163385534178,
          0.8933958791796788,
          0.7851091864721096,
          0.8885906666159669,
          0.8347929384172701,
          0.7196981372708119,
          0.7698996297133853,
          0.7118884056693959,
          0.7449649172522043,
          0.8792381832048142,
          0.7902340552148531,
          0.7303486292305068,
          0.7836755803119619,
          0.7462439522393595,
          0.6571146432804089,
          0.7122569378801195,
          0.649304911678993,
          0.6847283042864413,
          0.7803158862522418,
          0.8423905153746778,
          0.8815054128105266,
          0.8081425938818663,
          0.8786705954773631,
          0.8469424021028674,
          0.7655108353525205,
          0.7982926616223848,
          0.7601512156260586,
          0.781864171327054,
          0.8735701984503638,
          0.8898681420815183,
          0.85336110392045,
          0.42908107419634245,
          0.5073379577876018,
          0.4218931851119987,
          0.4334331865934394,
          0.4352155486607792,
          0.4863471130801846,
          0.4298559289343173,
          0.4601703243929102,
          0.43193942186252987,
          0.5779225935393182,
          0.5414155553782498,
          0.6295574334383237,
          0.5838590691154767,
          0.6454277261256677,
          0.540777136583326,
          0.542076761750712,
          0.48817540908473994,
          0.6064583589654677,
          0.4737890613979212,
          0.548798413171115,
          0.578679166829482,
          0.8312345382742502,
          0.7416263536970823,
          0.8420626587599909,
          0.4291935503953142,
          0.5101130185768497,
          0.5888083658206,
          0.49640653193890566,
          0.505059018808846,
          0.4845190931297808,
          0.5605644166685367,
          0.47580388540066454,
          0.5223924199483153,
          0.5120198121598534,
          0.7044687431043183,
          0.6471005402797821,
          0.745219335308432,
          0.44244865584100246,
          0.4955797562798968,
          0.7969167821165613,
          0.7248929935726743,
          0.7884423818522208,
          0.7405961068350456,
          0.6385440706879211,
          0.7037294922808444,
          0.6294327171529359,
          0.6713673257351684,
          0.7837510800821729,
          0.8535802784866995,
          0.7938414887685874,
          0.8558026610192725,
          0.5438571124770725,
          0.7406927152042593,
          0.6435922983057683,
          0.6133275077128013,
          0.6298383996412553,
          0.6079123745934725,
          0.6018317268160328,
          0.5697258377549869,
          0.6133846083358253,
          0.564366218028525,
          0.5911777413752896,
          0.6117902578424256,
          0.7049600887949589,
          0.6684530506338905,
          0.733497202283848,
          0.5208070555505296,
          0.5990134314006393,
          0.572695383412544,
          0.6603160947086719,
          0.7604932484109809,
          0.7237478953827656,
          0.7557170065905826,
          0.7321669696226379,
          0.6660547136607181,
          0.7091502758200531,
          0.6599804779707279,
          0.687449543752303,
          0.7545027091934378,
          0.8121726913365783,
          0.7711022734053764,
          0.8221209956660325,
          0.5881618342593823,
          0.7320160909974749,
          0.6694201987392828,
          0.7715765025108476,
          0.6834399557011127,
          0.809441047549143,
          0.7336544291554803,
          0.8018946284785194,
          0.7546803524471885,
          0.652456557865874,
          0.7138406741657647,
          0.6437413501367576,
          0.6833324903204046,
          0.7966296208178638,
          0.857745000601546,
          0.8003767977770101,
          0.8588240908652008,
          0.5560534113977713,
          0.755342676880462,
          0.6572852973264233,
          0.8050903357325784,
          0.6793545097341285,
          0.7795897785162729,
          0.9100954907600974,
          0.752501640445659,
          0.900976440476623,
          0.8039652518032695,
          0.6522950499265714,
          0.7290909379000576,
          0.6411262939804605,
          0.6914130883991068,
          0.8818006524618375,
          0.909084123630079,
          0.8373289106928066,
          0.894744470793625,
          0.5391265454555169,
          0.8080013817793572,
          0.6584831999097388,
          0.8500171799756465,
          0.6839492900469472,
          0.804370665703322,
          0.8557645764948806,
          0.42361302609801227,
          0.5217225107773986,
          0.4135719542796813,
          0.43006438540439007,
          0.43314622760675725,
          0.49645076058933796,
          0.4264325986862418,
          0.46426812095941916,
          0.42770538273499037,
          0.6095734129212089,
          0.5644764834281244,
          0.6639237390885466,
          0.41196771911215435,
          0.4214916097141729,
          0.4368659742725393,
          0.5433063794057438,
          0.5145749268186333,
          0.5828539693671269,
          0.5554533945467103,
          0.541073970082772,
          0.7425222755300881,
          0.6752807084927656,
          0.6942265644853288,
          0.611783215620814,
          0.5112768042472198,
          0.6360039605144601,
          0.49548379145324534,
          0.5757072970722539,
          0.7029317003445337,
          0.8795114880989744,
          0.7824359548070426,
          0.8729753573419277,
          0.4384797718724347,
          0.5950185227896755,
          0.520027065451488,
          0.7866375233108931,
          0.6154248545499341,
          0.7561610862919564,
          0.7989898540964427,
          0.8840688677335395,
          0.43538555897896153,
          0.5454496499780203,
          0.6033044413623642,
          0.5335954321079734,
          0.5353136712984736,
          0.5063829126473901,
          0.5771496456109473,
          0.4980998639792217,
          0.5415851358270416,
          0.5456051601910951,
          0.7145128662996477,
          0.659752309058045,
          0.7513632029706979,
          0.4589142512123854,
          0.5276796687272942,
          0.5109722104817965,
          0.6458813247956363,
          0.5780119030145485,
          0.6645594997574737,
          0.657281365365514,
          0.6614219718716131,
          0.4608030984630978,
          0.5503913516450216,
          0.6980619638470077,
          0.6847497231071877,
          0.6925683074081698,
          0.6760332368017304,
          0.6227234111322982,
          0.6685271796996595,
          0.616649175442308,
          0.6453926912982486,
          0.6938388856536502,
          0.7715495952161847,
          0.7304791772849828,
          0.7896225187697175,
          0.5556633573630675,
          0.6745187857193794,
          0.6260888962108629,
          0.7271049025474695,
          0.6509414788047979,
          0.724458022079266,
          0.7333822764589226,
          0.7479566826698232,
          0.5709417689780002,
          0.6962229092701565,
          0.6360593447400315,
          0.6125510677291115,
          0.6330956628861416,
          0.6050310417622164,
          0.5972616112861573,
          0.5581967843604335,
          0.6129194163893307,
          0.5514831554399181,
          0.5852661133738559,
          0.6104715810672865,
          0.7260420687212016,
          0.6809451392281171,
          0.7553068382546948,
          0.5033508182783024,
          0.5933378150643507,
          0.5619165310262155,
          0.6720042440647356,
          0.6059580259847814,
          0.6818523267971207,
          0.6805039513003867,
          0.6877382033123923,
          0.5118498048458213,
          0.6136245119069905,
          0.5749821481847092,
          0.6493538499008057,
          0.4522955708240822,
          0.5386299868423808,
          0.4426372171167576,
          0.45544647292910406,
          0.452130060381474,
          0.5141317813108879,
          0.44541643146095866,
          0.48263673693125164,
          0.4554509844826534,
          0.6272544336427589,
          0.5821575041496745,
          0.6777965399623782,
          0.4258405199859858,
          0.447579455382573,
          0.45584980704725614,
          0.5628439073030564,
          0.5284477276924648,
          0.5978828369804443,
          0.5744372273214272,
          0.5633389591395386,
          0.4222823490413666,
          0.4593549841042597,
          0.4723527717421049,
          0.5653843600841294,
          0.5146808159760276,
          0.4524940379237358,
          0.5562569722476506,
          0.4388926454403718,
          0.45668341041693855,
          0.4522070391213563,
          0.527488428212083,
          0.44392399045318787,
          0.4895590985520409,
          0.45684894186120995,
          0.6648516489007834,
          0.6100910916591809,
          0.7141172899215497,
          0.4216683381632371,
          0.4460933830005886,
          0.4567963369557627,
          0.5897425573012679,
          0.5407659899654003,
          0.6236620266054679,
          0.6031054918394801,
          0.595207015339794,
          0.4166597941085517,
          0.46222874098186933,
          0.47696648811635106,
          0.5854285243745091,
          0.526657969030767,
          0.43335853590112666,
          0.5975411899019489,
          0.6389636911368649,
          0.5777086681390842,
          0.5684791347183632,
          0.5155611754901742,
          0.6072877738906233,
          0.5043924195440633,
          0.5618957240024082,
          0.5937302568045734,
          0.7872809596206446,
          0.7155257466833722,
          0.8099694686430587,
          0.4543515433049505,
          0.5580238113353796,
          0.5217493254733415,
          0.7065178273770316,
          0.5991742878963808,
          0.7092705030344175,
          0.7190307020584832,
          0.7451376978437464,
          0.4556738183380596,
          0.6014334994807,
          0.5451475521229409,
          0.6617727291090343,
          0.5950048399061989,
          0.47682555794198783,
          0.48224334341771263
         ]
        }
       ],
       "layout": {
        "template": {
         "data": {
          "bar": [
           {
            "error_x": {
             "color": "#2a3f5f"
            },
            "error_y": {
             "color": "#2a3f5f"
            },
            "marker": {
             "line": {
              "color": "#E5ECF6",
              "width": 0.5
             }
            },
            "type": "bar"
           }
          ],
          "barpolar": [
           {
            "marker": {
             "line": {
              "color": "#E5ECF6",
              "width": 0.5
             }
            },
            "type": "barpolar"
           }
          ],
          "carpet": [
           {
            "aaxis": {
             "endlinecolor": "#2a3f5f",
             "gridcolor": "white",
             "linecolor": "white",
             "minorgridcolor": "white",
             "startlinecolor": "#2a3f5f"
            },
            "baxis": {
             "endlinecolor": "#2a3f5f",
             "gridcolor": "white",
             "linecolor": "white",
             "minorgridcolor": "white",
             "startlinecolor": "#2a3f5f"
            },
            "type": "carpet"
           }
          ],
          "choropleth": [
           {
            "colorbar": {
             "outlinewidth": 0,
             "ticks": ""
            },
            "type": "choropleth"
           }
          ],
          "contour": [
           {
            "colorbar": {
             "outlinewidth": 0,
             "ticks": ""
            },
            "colorscale": [
             [
              0,
              "#0d0887"
             ],
             [
              0.1111111111111111,
              "#46039f"
             ],
             [
              0.2222222222222222,
              "#7201a8"
             ],
             [
              0.3333333333333333,
              "#9c179e"
             ],
             [
              0.4444444444444444,
              "#bd3786"
             ],
             [
              0.5555555555555556,
              "#d8576b"
             ],
             [
              0.6666666666666666,
              "#ed7953"
             ],
             [
              0.7777777777777778,
              "#fb9f3a"
             ],
             [
              0.8888888888888888,
              "#fdca26"
             ],
             [
              1,
              "#f0f921"
             ]
            ],
            "type": "contour"
           }
          ],
          "contourcarpet": [
           {
            "colorbar": {
             "outlinewidth": 0,
             "ticks": ""
            },
            "type": "contourcarpet"
           }
          ],
          "heatmap": [
           {
            "colorbar": {
             "outlinewidth": 0,
             "ticks": ""
            },
            "colorscale": [
             [
              0,
              "#0d0887"
             ],
             [
              0.1111111111111111,
              "#46039f"
             ],
             [
              0.2222222222222222,
              "#7201a8"
             ],
             [
              0.3333333333333333,
              "#9c179e"
             ],
             [
              0.4444444444444444,
              "#bd3786"
             ],
             [
              0.5555555555555556,
              "#d8576b"
             ],
             [
              0.6666666666666666,
              "#ed7953"
             ],
             [
              0.7777777777777778,
              "#fb9f3a"
             ],
             [
              0.8888888888888888,
              "#fdca26"
             ],
             [
              1,
              "#f0f921"
             ]
            ],
            "type": "heatmap"
           }
          ],
          "heatmapgl": [
           {
            "colorbar": {
             "outlinewidth": 0,
             "ticks": ""
            },
            "colorscale": [
             [
              0,
              "#0d0887"
             ],
             [
              0.1111111111111111,
              "#46039f"
             ],
             [
              0.2222222222222222,
              "#7201a8"
             ],
             [
              0.3333333333333333,
              "#9c179e"
             ],
             [
              0.4444444444444444,
              "#bd3786"
             ],
             [
              0.5555555555555556,
              "#d8576b"
             ],
             [
              0.6666666666666666,
              "#ed7953"
             ],
             [
              0.7777777777777778,
              "#fb9f3a"
             ],
             [
              0.8888888888888888,
              "#fdca26"
             ],
             [
              1,
              "#f0f921"
             ]
            ],
            "type": "heatmapgl"
           }
          ],
          "histogram": [
           {
            "marker": {
             "colorbar": {
              "outlinewidth": 0,
              "ticks": ""
             }
            },
            "type": "histogram"
           }
          ],
          "histogram2d": [
           {
            "colorbar": {
             "outlinewidth": 0,
             "ticks": ""
            },
            "colorscale": [
             [
              0,
              "#0d0887"
             ],
             [
              0.1111111111111111,
              "#46039f"
             ],
             [
              0.2222222222222222,
              "#7201a8"
             ],
             [
              0.3333333333333333,
              "#9c179e"
             ],
             [
              0.4444444444444444,
              "#bd3786"
             ],
             [
              0.5555555555555556,
              "#d8576b"
             ],
             [
              0.6666666666666666,
              "#ed7953"
             ],
             [
              0.7777777777777778,
              "#fb9f3a"
             ],
             [
              0.8888888888888888,
              "#fdca26"
             ],
             [
              1,
              "#f0f921"
             ]
            ],
            "type": "histogram2d"
           }
          ],
          "histogram2dcontour": [
           {
            "colorbar": {
             "outlinewidth": 0,
             "ticks": ""
            },
            "colorscale": [
             [
              0,
              "#0d0887"
             ],
             [
              0.1111111111111111,
              "#46039f"
             ],
             [
              0.2222222222222222,
              "#7201a8"
             ],
             [
              0.3333333333333333,
              "#9c179e"
             ],
             [
              0.4444444444444444,
              "#bd3786"
             ],
             [
              0.5555555555555556,
              "#d8576b"
             ],
             [
              0.6666666666666666,
              "#ed7953"
             ],
             [
              0.7777777777777778,
              "#fb9f3a"
             ],
             [
              0.8888888888888888,
              "#fdca26"
             ],
             [
              1,
              "#f0f921"
             ]
            ],
            "type": "histogram2dcontour"
           }
          ],
          "mesh3d": [
           {
            "colorbar": {
             "outlinewidth": 0,
             "ticks": ""
            },
            "type": "mesh3d"
           }
          ],
          "parcoords": [
           {
            "line": {
             "colorbar": {
              "outlinewidth": 0,
              "ticks": ""
             }
            },
            "type": "parcoords"
           }
          ],
          "scatter": [
           {
            "marker": {
             "colorbar": {
              "outlinewidth": 0,
              "ticks": ""
             }
            },
            "type": "scatter"
           }
          ],
          "scatter3d": [
           {
            "line": {
             "colorbar": {
              "outlinewidth": 0,
              "ticks": ""
             }
            },
            "marker": {
             "colorbar": {
              "outlinewidth": 0,
              "ticks": ""
             }
            },
            "type": "scatter3d"
           }
          ],
          "scattercarpet": [
           {
            "marker": {
             "colorbar": {
              "outlinewidth": 0,
              "ticks": ""
             }
            },
            "type": "scattercarpet"
           }
          ],
          "scattergeo": [
           {
            "marker": {
             "colorbar": {
              "outlinewidth": 0,
              "ticks": ""
             }
            },
            "type": "scattergeo"
           }
          ],
          "scattergl": [
           {
            "marker": {
             "colorbar": {
              "outlinewidth": 0,
              "ticks": ""
             }
            },
            "type": "scattergl"
           }
          ],
          "scattermapbox": [
           {
            "marker": {
             "colorbar": {
              "outlinewidth": 0,
              "ticks": ""
             }
            },
            "type": "scattermapbox"
           }
          ],
          "scatterpolar": [
           {
            "marker": {
             "colorbar": {
              "outlinewidth": 0,
              "ticks": ""
             }
            },
            "type": "scatterpolar"
           }
          ],
          "scatterpolargl": [
           {
            "marker": {
             "colorbar": {
              "outlinewidth": 0,
              "ticks": ""
             }
            },
            "type": "scatterpolargl"
           }
          ],
          "scatterternary": [
           {
            "marker": {
             "colorbar": {
              "outlinewidth": 0,
              "ticks": ""
             }
            },
            "type": "scatterternary"
           }
          ],
          "surface": [
           {
            "colorbar": {
             "outlinewidth": 0,
             "ticks": ""
            },
            "colorscale": [
             [
              0,
              "#0d0887"
             ],
             [
              0.1111111111111111,
              "#46039f"
             ],
             [
              0.2222222222222222,
              "#7201a8"
             ],
             [
              0.3333333333333333,
              "#9c179e"
             ],
             [
              0.4444444444444444,
              "#bd3786"
             ],
             [
              0.5555555555555556,
              "#d8576b"
             ],
             [
              0.6666666666666666,
              "#ed7953"
             ],
             [
              0.7777777777777778,
              "#fb9f3a"
             ],
             [
              0.8888888888888888,
              "#fdca26"
             ],
             [
              1,
              "#f0f921"
             ]
            ],
            "type": "surface"
           }
          ],
          "table": [
           {
            "cells": {
             "fill": {
              "color": "#EBF0F8"
             },
             "line": {
              "color": "white"
             }
            },
            "header": {
             "fill": {
              "color": "#C8D4E3"
             },
             "line": {
              "color": "white"
             }
            },
            "type": "table"
           }
          ]
         },
         "layout": {
          "annotationdefaults": {
           "arrowcolor": "#2a3f5f",
           "arrowhead": 0,
           "arrowwidth": 1
          },
          "colorscale": {
           "diverging": [
            [
             0,
             "#8e0152"
            ],
            [
             0.1,
             "#c51b7d"
            ],
            [
             0.2,
             "#de77ae"
            ],
            [
             0.3,
             "#f1b6da"
            ],
            [
             0.4,
             "#fde0ef"
            ],
            [
             0.5,
             "#f7f7f7"
            ],
            [
             0.6,
             "#e6f5d0"
            ],
            [
             0.7,
             "#b8e186"
            ],
            [
             0.8,
             "#7fbc41"
            ],
            [
             0.9,
             "#4d9221"
            ],
            [
             1,
             "#276419"
            ]
           ],
           "sequential": [
            [
             0,
             "#0d0887"
            ],
            [
             0.1111111111111111,
             "#46039f"
            ],
            [
             0.2222222222222222,
             "#7201a8"
            ],
            [
             0.3333333333333333,
             "#9c179e"
            ],
            [
             0.4444444444444444,
             "#bd3786"
            ],
            [
             0.5555555555555556,
             "#d8576b"
            ],
            [
             0.6666666666666666,
             "#ed7953"
            ],
            [
             0.7777777777777778,
             "#fb9f3a"
            ],
            [
             0.8888888888888888,
             "#fdca26"
            ],
            [
             1,
             "#f0f921"
            ]
           ],
           "sequentialminus": [
            [
             0,
             "#0d0887"
            ],
            [
             0.1111111111111111,
             "#46039f"
            ],
            [
             0.2222222222222222,
             "#7201a8"
            ],
            [
             0.3333333333333333,
             "#9c179e"
            ],
            [
             0.4444444444444444,
             "#bd3786"
            ],
            [
             0.5555555555555556,
             "#d8576b"
            ],
            [
             0.6666666666666666,
             "#ed7953"
            ],
            [
             0.7777777777777778,
             "#fb9f3a"
            ],
            [
             0.8888888888888888,
             "#fdca26"
            ],
            [
             1,
             "#f0f921"
            ]
           ]
          },
          "colorway": [
           "#636efa",
           "#EF553B",
           "#00cc96",
           "#ab63fa",
           "#FFA15A",
           "#19d3f3",
           "#FF6692",
           "#B6E880",
           "#FF97FF",
           "#FECB52"
          ],
          "font": {
           "color": "#2a3f5f"
          },
          "geo": {
           "bgcolor": "white",
           "lakecolor": "white",
           "landcolor": "#E5ECF6",
           "showlakes": true,
           "showland": true,
           "subunitcolor": "white"
          },
          "hoverlabel": {
           "align": "left"
          },
          "hovermode": "closest",
          "mapbox": {
           "style": "light"
          },
          "paper_bgcolor": "white",
          "plot_bgcolor": "#E5ECF6",
          "polar": {
           "angularaxis": {
            "gridcolor": "white",
            "linecolor": "white",
            "ticks": ""
           },
           "bgcolor": "#E5ECF6",
           "radialaxis": {
            "gridcolor": "white",
            "linecolor": "white",
            "ticks": ""
           }
          },
          "scene": {
           "xaxis": {
            "backgroundcolor": "#E5ECF6",
            "gridcolor": "white",
            "gridwidth": 2,
            "linecolor": "white",
            "showbackground": true,
            "ticks": "",
            "zerolinecolor": "white"
           },
           "yaxis": {
            "backgroundcolor": "#E5ECF6",
            "gridcolor": "white",
            "gridwidth": 2,
            "linecolor": "white",
            "showbackground": true,
            "ticks": "",
            "zerolinecolor": "white"
           },
           "zaxis": {
            "backgroundcolor": "#E5ECF6",
            "gridcolor": "white",
            "gridwidth": 2,
            "linecolor": "white",
            "showbackground": true,
            "ticks": "",
            "zerolinecolor": "white"
           }
          },
          "shapedefaults": {
           "line": {
            "color": "#2a3f5f"
           }
          },
          "ternary": {
           "aaxis": {
            "gridcolor": "white",
            "linecolor": "white",
            "ticks": ""
           },
           "baxis": {
            "gridcolor": "white",
            "linecolor": "white",
            "ticks": ""
           },
           "bgcolor": "#E5ECF6",
           "caxis": {
            "gridcolor": "white",
            "linecolor": "white",
            "ticks": ""
           }
          },
          "title": {
           "x": 0.05
          },
          "xaxis": {
           "automargin": true,
           "gridcolor": "white",
           "linecolor": "white",
           "ticks": "",
           "zerolinecolor": "white",
           "zerolinewidth": 2
          },
          "yaxis": {
           "automargin": true,
           "gridcolor": "white",
           "linecolor": "white",
           "ticks": "",
           "zerolinecolor": "white",
           "zerolinewidth": 2
          }
         }
        }
       }
      },
      "text/html": [
       "<div>\n",
       "        \n",
       "        \n",
       "            <div id=\"79a45351-7706-45c6-a5a9-9ceffefa6d80\" class=\"plotly-graph-div\" style=\"height:525px; width:100%;\"></div>\n",
       "            <script type=\"text/javascript\">\n",
       "                require([\"plotly\"], function(Plotly) {\n",
       "                    window.PLOTLYENV=window.PLOTLYENV || {};\n",
       "                    \n",
       "                if (document.getElementById(\"79a45351-7706-45c6-a5a9-9ceffefa6d80\")) {\n",
       "                    Plotly.newPlot(\n",
       "                        '79a45351-7706-45c6-a5a9-9ceffefa6d80',\n",
       "                        [{\"name\": \"Intra Author Means\", \"type\": \"histogram\", \"x\": [0.6761871659028781, 0.7199116038716077, 0.6684007933727166, 0.6051067951352648, 0.6484968992163482, 0.5698256653321806, 0.5007239582939749, 0.5842649609645376, 0.48682424803465885, 0.4972291147485117, 0.6346212956887075, 0.647745965783409, 0.6254181409974287, 0.6126736879419247, 0.5627115993408685, 0.48377800140088123, 0.576064742783051, 0.4695295491951036, 0.4830972194697591, 0.4697438780137819, 0.5470791012848869, 0.5701989727958569, 0.6158307749010241, 0.5588099381199013, 0.556248886147808, 0.5208071755100894, 0.5903718865684215, 0.512524126841921, 0.7216032892078851, 0.6716492433553403, 0.6686676444709249, 0.5988468863819774, 0.5052597876899164, 0.6317416611723059, 0.48933889624983695, 0.5706163385534178, 0.8933958791796788, 0.7851091864721096, 0.8885906666159669, 0.8347929384172701, 0.7196981372708119, 0.7698996297133853, 0.7118884056693959, 0.7449649172522043, 0.8792381832048142, 0.7902340552148531, 0.7303486292305068, 0.7836755803119619, 0.7462439522393595, 0.6571146432804089, 0.7122569378801195, 0.649304911678993, 0.6847283042864413, 0.7803158862522418, 0.8423905153746778, 0.8815054128105266, 0.8081425938818663, 0.8786705954773631, 0.8469424021028674, 0.7655108353525205, 0.7982926616223848, 0.7601512156260586, 0.781864171327054, 0.8735701984503638, 0.8898681420815183, 0.85336110392045, 0.42908107419634245, 0.5073379577876018, 0.4218931851119987, 0.4334331865934394, 0.4352155486607792, 0.4863471130801846, 0.4298559289343173, 0.4601703243929102, 0.43193942186252987, 0.5779225935393182, 0.5414155553782498, 0.6295574334383237, 0.5838590691154767, 0.6454277261256677, 0.540777136583326, 0.542076761750712, 0.48817540908473994, 0.6064583589654677, 0.4737890613979212, 0.548798413171115, 0.578679166829482, 0.8312345382742502, 0.7416263536970823, 0.8420626587599909, 0.4291935503953142, 0.5101130185768497, 0.5888083658206, 0.49640653193890566, 0.505059018808846, 0.4845190931297808, 0.5605644166685367, 0.47580388540066454, 0.5223924199483153, 0.5120198121598534, 0.7044687431043183, 0.6471005402797821, 0.745219335308432, 0.44244865584100246, 0.4955797562798968, 0.7969167821165613, 0.7248929935726743, 0.7884423818522208, 0.7405961068350456, 0.6385440706879211, 0.7037294922808444, 0.6294327171529359, 0.6713673257351684, 0.7837510800821729, 0.8535802784866995, 0.7938414887685874, 0.8558026610192725, 0.5438571124770725, 0.7406927152042593, 0.6435922983057683, 0.6133275077128013, 0.6298383996412553, 0.6079123745934725, 0.6018317268160328, 0.5697258377549869, 0.6133846083358253, 0.564366218028525, 0.5911777413752896, 0.6117902578424256, 0.7049600887949589, 0.6684530506338905, 0.733497202283848, 0.5208070555505296, 0.5990134314006393, 0.572695383412544, 0.6603160947086719, 0.7604932484109809, 0.7237478953827656, 0.7557170065905826, 0.7321669696226379, 0.6660547136607181, 0.7091502758200531, 0.6599804779707279, 0.687449543752303, 0.7545027091934378, 0.8121726913365783, 0.7711022734053764, 0.8221209956660325, 0.5881618342593823, 0.7320160909974749, 0.6694201987392828, 0.7715765025108476, 0.6834399557011127, 0.809441047549143, 0.7336544291554803, 0.8018946284785194, 0.7546803524471885, 0.652456557865874, 0.7138406741657647, 0.6437413501367576, 0.6833324903204046, 0.7966296208178638, 0.857745000601546, 0.8003767977770101, 0.8588240908652008, 0.5560534113977713, 0.755342676880462, 0.6572852973264233, 0.8050903357325784, 0.6793545097341285, 0.7795897785162729, 0.9100954907600974, 0.752501640445659, 0.900976440476623, 0.8039652518032695, 0.6522950499265714, 0.7290909379000576, 0.6411262939804605, 0.6914130883991068, 0.8818006524618375, 0.909084123630079, 0.8373289106928066, 0.894744470793625, 0.5391265454555169, 0.8080013817793572, 0.6584831999097388, 0.8500171799756465, 0.6839492900469472, 0.804370665703322, 0.8557645764948806, 0.42361302609801227, 0.5217225107773986, 0.4135719542796813, 0.43006438540439007, 0.43314622760675725, 0.49645076058933796, 0.4264325986862418, 0.46426812095941916, 0.42770538273499037, 0.6095734129212089, 0.5644764834281244, 0.6639237390885466, 0.41196771911215435, 0.4214916097141729, 0.4368659742725393, 0.5433063794057438, 0.5145749268186333, 0.5828539693671269, 0.5554533945467103, 0.541073970082772, 0.7425222755300881, 0.6752807084927656, 0.6942265644853288, 0.611783215620814, 0.5112768042472198, 0.6360039605144601, 0.49548379145324534, 0.5757072970722539, 0.7029317003445337, 0.8795114880989744, 0.7824359548070426, 0.8729753573419277, 0.4384797718724347, 0.5950185227896755, 0.520027065451488, 0.7866375233108931, 0.6154248545499341, 0.7561610862919564, 0.7989898540964427, 0.8840688677335395, 0.43538555897896153, 0.5454496499780203, 0.6033044413623642, 0.5335954321079734, 0.5353136712984736, 0.5063829126473901, 0.5771496456109473, 0.4980998639792217, 0.5415851358270416, 0.5456051601910951, 0.7145128662996477, 0.659752309058045, 0.7513632029706979, 0.4589142512123854, 0.5276796687272942, 0.5109722104817965, 0.6458813247956363, 0.5780119030145485, 0.6645594997574737, 0.657281365365514, 0.6614219718716131, 0.4608030984630978, 0.5503913516450216, 0.6980619638470077, 0.6847497231071877, 0.6925683074081698, 0.6760332368017304, 0.6227234111322982, 0.6685271796996595, 0.616649175442308, 0.6453926912982486, 0.6938388856536502, 0.7715495952161847, 0.7304791772849828, 0.7896225187697175, 0.5556633573630675, 0.6745187857193794, 0.6260888962108629, 0.7271049025474695, 0.6509414788047979, 0.724458022079266, 0.7333822764589226, 0.7479566826698232, 0.5709417689780002, 0.6962229092701565, 0.6360593447400315, 0.6125510677291115, 0.6330956628861416, 0.6050310417622164, 0.5972616112861573, 0.5581967843604335, 0.6129194163893307, 0.5514831554399181, 0.5852661133738559, 0.6104715810672865, 0.7260420687212016, 0.6809451392281171, 0.7553068382546948, 0.5033508182783024, 0.5933378150643507, 0.5619165310262155, 0.6720042440647356, 0.6059580259847814, 0.6818523267971207, 0.6805039513003867, 0.6877382033123923, 0.5118498048458213, 0.6136245119069905, 0.5749821481847092, 0.6493538499008057, 0.4522955708240822, 0.5386299868423808, 0.4426372171167576, 0.45544647292910406, 0.452130060381474, 0.5141317813108879, 0.44541643146095866, 0.48263673693125164, 0.4554509844826534, 0.6272544336427589, 0.5821575041496745, 0.6777965399623782, 0.4258405199859858, 0.447579455382573, 0.45584980704725614, 0.5628439073030564, 0.5284477276924648, 0.5978828369804443, 0.5744372273214272, 0.5633389591395386, 0.4222823490413666, 0.4593549841042597, 0.4723527717421049, 0.5653843600841294, 0.5146808159760276, 0.4524940379237358, 0.5562569722476506, 0.4388926454403718, 0.45668341041693855, 0.4522070391213563, 0.527488428212083, 0.44392399045318787, 0.4895590985520409, 0.45684894186120995, 0.6648516489007834, 0.6100910916591809, 0.7141172899215497, 0.4216683381632371, 0.4460933830005886, 0.4567963369557627, 0.5897425573012679, 0.5407659899654003, 0.6236620266054679, 0.6031054918394801, 0.595207015339794, 0.4166597941085517, 0.46222874098186933, 0.47696648811635106, 0.5854285243745091, 0.526657969030767, 0.43335853590112666, 0.5975411899019489, 0.6389636911368649, 0.5777086681390842, 0.5684791347183632, 0.5155611754901742, 0.6072877738906233, 0.5043924195440633, 0.5618957240024082, 0.5937302568045734, 0.7872809596206446, 0.7155257466833722, 0.8099694686430587, 0.4543515433049505, 0.5580238113353796, 0.5217493254733415, 0.7065178273770316, 0.5991742878963808, 0.7092705030344175, 0.7190307020584832, 0.7451376978437464, 0.4556738183380596, 0.6014334994807, 0.5451475521229409, 0.6617727291090343, 0.5950048399061989, 0.47682555794198783, 0.48224334341771263]}],\n",
       "                        {\"template\": {\"data\": {\"bar\": [{\"error_x\": {\"color\": \"#2a3f5f\"}, \"error_y\": {\"color\": \"#2a3f5f\"}, \"marker\": {\"line\": {\"color\": \"#E5ECF6\", \"width\": 0.5}}, \"type\": \"bar\"}], \"barpolar\": [{\"marker\": {\"line\": {\"color\": \"#E5ECF6\", \"width\": 0.5}}, \"type\": \"barpolar\"}], \"carpet\": [{\"aaxis\": {\"endlinecolor\": \"#2a3f5f\", \"gridcolor\": \"white\", \"linecolor\": \"white\", \"minorgridcolor\": \"white\", \"startlinecolor\": \"#2a3f5f\"}, \"baxis\": {\"endlinecolor\": \"#2a3f5f\", \"gridcolor\": \"white\", \"linecolor\": \"white\", \"minorgridcolor\": \"white\", \"startlinecolor\": \"#2a3f5f\"}, \"type\": \"carpet\"}], \"choropleth\": [{\"colorbar\": {\"outlinewidth\": 0, \"ticks\": \"\"}, \"type\": \"choropleth\"}], \"contour\": [{\"colorbar\": {\"outlinewidth\": 0, \"ticks\": \"\"}, \"colorscale\": [[0.0, \"#0d0887\"], [0.1111111111111111, \"#46039f\"], [0.2222222222222222, \"#7201a8\"], [0.3333333333333333, \"#9c179e\"], [0.4444444444444444, \"#bd3786\"], [0.5555555555555556, \"#d8576b\"], [0.6666666666666666, \"#ed7953\"], [0.7777777777777778, \"#fb9f3a\"], [0.8888888888888888, \"#fdca26\"], [1.0, \"#f0f921\"]], \"type\": \"contour\"}], \"contourcarpet\": [{\"colorbar\": {\"outlinewidth\": 0, \"ticks\": \"\"}, \"type\": \"contourcarpet\"}], \"heatmap\": [{\"colorbar\": {\"outlinewidth\": 0, \"ticks\": \"\"}, \"colorscale\": [[0.0, \"#0d0887\"], [0.1111111111111111, \"#46039f\"], [0.2222222222222222, \"#7201a8\"], [0.3333333333333333, \"#9c179e\"], [0.4444444444444444, \"#bd3786\"], [0.5555555555555556, \"#d8576b\"], [0.6666666666666666, \"#ed7953\"], [0.7777777777777778, \"#fb9f3a\"], [0.8888888888888888, \"#fdca26\"], [1.0, \"#f0f921\"]], \"type\": \"heatmap\"}], \"heatmapgl\": [{\"colorbar\": {\"outlinewidth\": 0, \"ticks\": \"\"}, \"colorscale\": [[0.0, \"#0d0887\"], [0.1111111111111111, \"#46039f\"], [0.2222222222222222, \"#7201a8\"], [0.3333333333333333, \"#9c179e\"], [0.4444444444444444, \"#bd3786\"], [0.5555555555555556, \"#d8576b\"], [0.6666666666666666, \"#ed7953\"], [0.7777777777777778, \"#fb9f3a\"], [0.8888888888888888, \"#fdca26\"], [1.0, \"#f0f921\"]], \"type\": \"heatmapgl\"}], \"histogram\": [{\"marker\": {\"colorbar\": {\"outlinewidth\": 0, \"ticks\": \"\"}}, \"type\": \"histogram\"}], \"histogram2d\": [{\"colorbar\": {\"outlinewidth\": 0, \"ticks\": \"\"}, \"colorscale\": [[0.0, \"#0d0887\"], [0.1111111111111111, \"#46039f\"], [0.2222222222222222, \"#7201a8\"], [0.3333333333333333, \"#9c179e\"], [0.4444444444444444, \"#bd3786\"], [0.5555555555555556, \"#d8576b\"], [0.6666666666666666, \"#ed7953\"], [0.7777777777777778, \"#fb9f3a\"], [0.8888888888888888, \"#fdca26\"], [1.0, \"#f0f921\"]], \"type\": \"histogram2d\"}], \"histogram2dcontour\": [{\"colorbar\": {\"outlinewidth\": 0, \"ticks\": \"\"}, \"colorscale\": [[0.0, \"#0d0887\"], [0.1111111111111111, \"#46039f\"], [0.2222222222222222, \"#7201a8\"], [0.3333333333333333, \"#9c179e\"], [0.4444444444444444, \"#bd3786\"], [0.5555555555555556, \"#d8576b\"], [0.6666666666666666, \"#ed7953\"], [0.7777777777777778, \"#fb9f3a\"], [0.8888888888888888, \"#fdca26\"], [1.0, \"#f0f921\"]], \"type\": \"histogram2dcontour\"}], \"mesh3d\": [{\"colorbar\": {\"outlinewidth\": 0, \"ticks\": \"\"}, \"type\": \"mesh3d\"}], \"parcoords\": [{\"line\": {\"colorbar\": {\"outlinewidth\": 0, \"ticks\": \"\"}}, \"type\": \"parcoords\"}], \"scatter\": [{\"marker\": {\"colorbar\": {\"outlinewidth\": 0, \"ticks\": \"\"}}, \"type\": \"scatter\"}], \"scatter3d\": [{\"line\": {\"colorbar\": {\"outlinewidth\": 0, \"ticks\": \"\"}}, \"marker\": {\"colorbar\": {\"outlinewidth\": 0, \"ticks\": \"\"}}, \"type\": \"scatter3d\"}], \"scattercarpet\": [{\"marker\": {\"colorbar\": {\"outlinewidth\": 0, \"ticks\": \"\"}}, \"type\": \"scattercarpet\"}], \"scattergeo\": [{\"marker\": {\"colorbar\": {\"outlinewidth\": 0, \"ticks\": \"\"}}, \"type\": \"scattergeo\"}], \"scattergl\": [{\"marker\": {\"colorbar\": {\"outlinewidth\": 0, \"ticks\": \"\"}}, \"type\": \"scattergl\"}], \"scattermapbox\": [{\"marker\": {\"colorbar\": {\"outlinewidth\": 0, \"ticks\": \"\"}}, \"type\": \"scattermapbox\"}], \"scatterpolar\": [{\"marker\": {\"colorbar\": {\"outlinewidth\": 0, \"ticks\": \"\"}}, \"type\": \"scatterpolar\"}], \"scatterpolargl\": [{\"marker\": {\"colorbar\": {\"outlinewidth\": 0, \"ticks\": \"\"}}, \"type\": \"scatterpolargl\"}], \"scatterternary\": [{\"marker\": {\"colorbar\": {\"outlinewidth\": 0, \"ticks\": \"\"}}, \"type\": \"scatterternary\"}], \"surface\": [{\"colorbar\": {\"outlinewidth\": 0, \"ticks\": \"\"}, \"colorscale\": [[0.0, \"#0d0887\"], [0.1111111111111111, \"#46039f\"], [0.2222222222222222, \"#7201a8\"], [0.3333333333333333, \"#9c179e\"], [0.4444444444444444, \"#bd3786\"], [0.5555555555555556, \"#d8576b\"], [0.6666666666666666, \"#ed7953\"], [0.7777777777777778, \"#fb9f3a\"], [0.8888888888888888, \"#fdca26\"], [1.0, \"#f0f921\"]], \"type\": \"surface\"}], \"table\": [{\"cells\": {\"fill\": {\"color\": \"#EBF0F8\"}, \"line\": {\"color\": \"white\"}}, \"header\": {\"fill\": {\"color\": \"#C8D4E3\"}, \"line\": {\"color\": \"white\"}}, \"type\": \"table\"}]}, \"layout\": {\"annotationdefaults\": {\"arrowcolor\": \"#2a3f5f\", \"arrowhead\": 0, \"arrowwidth\": 1}, \"colorscale\": {\"diverging\": [[0, \"#8e0152\"], [0.1, \"#c51b7d\"], [0.2, \"#de77ae\"], [0.3, \"#f1b6da\"], [0.4, \"#fde0ef\"], [0.5, \"#f7f7f7\"], [0.6, \"#e6f5d0\"], [0.7, \"#b8e186\"], [0.8, \"#7fbc41\"], [0.9, \"#4d9221\"], [1, \"#276419\"]], \"sequential\": [[0.0, \"#0d0887\"], [0.1111111111111111, \"#46039f\"], [0.2222222222222222, \"#7201a8\"], [0.3333333333333333, \"#9c179e\"], [0.4444444444444444, \"#bd3786\"], [0.5555555555555556, \"#d8576b\"], [0.6666666666666666, \"#ed7953\"], [0.7777777777777778, \"#fb9f3a\"], [0.8888888888888888, \"#fdca26\"], [1.0, \"#f0f921\"]], \"sequentialminus\": [[0.0, \"#0d0887\"], [0.1111111111111111, \"#46039f\"], [0.2222222222222222, \"#7201a8\"], [0.3333333333333333, \"#9c179e\"], [0.4444444444444444, \"#bd3786\"], [0.5555555555555556, \"#d8576b\"], [0.6666666666666666, \"#ed7953\"], [0.7777777777777778, \"#fb9f3a\"], [0.8888888888888888, \"#fdca26\"], [1.0, \"#f0f921\"]]}, \"colorway\": [\"#636efa\", \"#EF553B\", \"#00cc96\", \"#ab63fa\", \"#FFA15A\", \"#19d3f3\", \"#FF6692\", \"#B6E880\", \"#FF97FF\", \"#FECB52\"], \"font\": {\"color\": \"#2a3f5f\"}, \"geo\": {\"bgcolor\": \"white\", \"lakecolor\": \"white\", \"landcolor\": \"#E5ECF6\", \"showlakes\": true, \"showland\": true, \"subunitcolor\": \"white\"}, \"hoverlabel\": {\"align\": \"left\"}, \"hovermode\": \"closest\", \"mapbox\": {\"style\": \"light\"}, \"paper_bgcolor\": \"white\", \"plot_bgcolor\": \"#E5ECF6\", \"polar\": {\"angularaxis\": {\"gridcolor\": \"white\", \"linecolor\": \"white\", \"ticks\": \"\"}, \"bgcolor\": \"#E5ECF6\", \"radialaxis\": {\"gridcolor\": \"white\", \"linecolor\": \"white\", \"ticks\": \"\"}}, \"scene\": {\"xaxis\": {\"backgroundcolor\": \"#E5ECF6\", \"gridcolor\": \"white\", \"gridwidth\": 2, \"linecolor\": \"white\", \"showbackground\": true, \"ticks\": \"\", \"zerolinecolor\": \"white\"}, \"yaxis\": {\"backgroundcolor\": \"#E5ECF6\", \"gridcolor\": \"white\", \"gridwidth\": 2, \"linecolor\": \"white\", \"showbackground\": true, \"ticks\": \"\", \"zerolinecolor\": \"white\"}, \"zaxis\": {\"backgroundcolor\": \"#E5ECF6\", \"gridcolor\": \"white\", \"gridwidth\": 2, \"linecolor\": \"white\", \"showbackground\": true, \"ticks\": \"\", \"zerolinecolor\": \"white\"}}, \"shapedefaults\": {\"line\": {\"color\": \"#2a3f5f\"}}, \"ternary\": {\"aaxis\": {\"gridcolor\": \"white\", \"linecolor\": \"white\", \"ticks\": \"\"}, \"baxis\": {\"gridcolor\": \"white\", \"linecolor\": \"white\", \"ticks\": \"\"}, \"bgcolor\": \"#E5ECF6\", \"caxis\": {\"gridcolor\": \"white\", \"linecolor\": \"white\", \"ticks\": \"\"}}, \"title\": {\"x\": 0.05}, \"xaxis\": {\"automargin\": true, \"gridcolor\": \"white\", \"linecolor\": \"white\", \"ticks\": \"\", \"zerolinecolor\": \"white\", \"zerolinewidth\": 2}, \"yaxis\": {\"automargin\": true, \"gridcolor\": \"white\", \"linecolor\": \"white\", \"ticks\": \"\", \"zerolinecolor\": \"white\", \"zerolinewidth\": 2}}}},\n",
       "                        {\"responsive\": true}\n",
       "                    ).then(function(){\n",
       "                            \n",
       "var gd = document.getElementById('79a45351-7706-45c6-a5a9-9ceffefa6d80');\n",
       "var x = new MutationObserver(function (mutations, observer) {{\n",
       "        var display = window.getComputedStyle(gd).display;\n",
       "        if (!display || display === 'none') {{\n",
       "            console.log([gd, 'removed!']);\n",
       "            Plotly.purge(gd);\n",
       "            observer.disconnect();\n",
       "        }}\n",
       "}});\n",
       "\n",
       "// Listen for the removal of the full notebook cells\n",
       "var notebookContainer = gd.closest('#notebook-container');\n",
       "if (notebookContainer) {{\n",
       "    x.observe(notebookContainer, {childList: true});\n",
       "}}\n",
       "\n",
       "// Listen for the clearing of the current output cell\n",
       "var outputEl = gd.closest('.output');\n",
       "if (outputEl) {{\n",
       "    x.observe(outputEl, {childList: true});\n",
       "}}\n",
       "\n",
       "                        })\n",
       "                };\n",
       "                });\n",
       "            </script>\n",
       "        </div>"
      ]
     },
     "metadata": {},
     "output_type": "display_data"
    }
   ],
   "source": [
    "\n",
    "fig = go.Figure()\n",
    "fig.add_trace(go.Histogram(x=intra_probs_mean, name='Intra Author Means'))"
   ]
  },
  {
   "cell_type": "code",
   "execution_count": 72,
   "metadata": {
    "collapsed": true
   },
   "outputs": [],
   "source": [
    "usernames = np.array(usernames)"
   ]
  },
  {
   "cell_type": "code",
   "execution_count": 82,
   "metadata": {},
   "outputs": [
    {
     "data": {
      "text/plain": [
       "array([ 81, 172, 330])"
      ]
     },
     "execution_count": 82,
     "metadata": {},
     "output_type": "execute_result"
    }
   ],
   "source": [
    "np.argwhere(aggr_score > 0.99)[:, 0]"
   ]
  },
  {
   "cell_type": "code",
   "execution_count": null,
   "metadata": {},
   "outputs": [],
   "source": [
    "for j_idx in np.argwhere(aggr_score > 0.99)[:, 0]:\n",
    "    i, j = jobs[j_idx]\n",
    "    print(usernames[i], usernames[j])\n",
    "    print('Intra Author:', intraA_probs_mean[j_idx], intraB_probs_mean[j_idx])"
   ]
  },
  {
   "cell_type": "markdown",
   "metadata": {},
   "source": [
    "Export for graph visualization\n",
    "==="
   ]
  },
  {
   "cell_type": "code",
   "execution_count": 67,
   "metadata": {
    "collapsed": true
   },
   "outputs": [],
   "source": [
    "G = nx.Graph()\n",
    "G.add_weighted_edges_from([\n",
    "    (usernames[jobs[i][0]], usernames[jobs[i][1]], aggr_score[i]) \n",
    "    for i in np.argwhere(selected_mask)[:, 0]\n",
    "])\n",
    "\n",
    "nx.write_gexf(G, 'suspicious_accounts.gexf')"
   ]
  },
  {
   "cell_type": "markdown",
   "metadata": {},
   "source": [
    "Plot things\n",
    "==="
   ]
  },
  {
   "cell_type": "code",
   "execution_count": 86,
   "metadata": {
    "collapsed": true
   },
   "outputs": [],
   "source": [
    "FIGURES_PATH = '../figures/'\n",
    "TEXT_WIDTH = 7.0 # Text with on a column\n",
    "HALF_COL_WIDTH = (TEXT_WIDTH - 0.5)/2\n",
    "HEIGHT = 2\n",
    "\n",
    "\n",
    "style.use('seaborn-whitegrid')\n",
    "\n",
    "rcParams['font.family'] = 'serif'\n",
    "rcParams['font.serif'] = [ 'Times New Roman', 'Times', 'DejaVu Serif',\n",
    " 'Bitstream Vera Serif',\n",
    " 'Computer Modern Roman',\n",
    " 'New Century Schoolbook',\n",
    " 'Century Schoolbook L',\n",
    " 'Utopia',\n",
    " 'ITC Bookman',\n",
    " 'Bookman',\n",
    " 'Nimbus Roman No9 L',\n",
    " 'Palatino',\n",
    " 'Charter',\n",
    " 'serif']\n",
    "rcParams['font.size']=9 "
   ]
  },
  {
   "cell_type": "code",
   "execution_count": 87,
   "metadata": {},
   "outputs": [
    {
     "data": {
      "image/png": "[encoded data removed]",
      "text/plain": [
       "<Figure size 234x144 with 1 Axes>"
      ]
     },
     "metadata": {},
     "output_type": "display_data"
    }
   ],
   "source": [
    "fig = plt.figure(figsize=(HALF_COL_WIDTH, HEIGHT))\n",
    "\n",
    "plt.hist(intra_probs_mean, bins=20)\n",
    "\n",
    "plt.xlabel('Intra-author Mean')\n",
    "plt.grid(True, alpha=0.5)\n",
    "plt.tight_layout()\n",
    "\n",
    "plt.show()\n",
    "fig.savefig(FIGURES_PATH + 'plt_reddid_sus_intra_author_mean.pdf', bbox_inches='tight')"
   ]
  },
  {
   "cell_type": "code",
   "execution_count": 88,
   "metadata": {},
   "outputs": [
    {
     "data": {
      "image/png": "[encoded data removed]",
      "text/plain": [
       "<Figure size 234x144 with 1 Axes>"
      ]
     },
     "metadata": {},
     "output_type": "display_data"
    }
   ],
   "source": [
    "fig = plt.figure(figsize=(HALF_COL_WIDTH, HEIGHT))\n",
    "\n",
    "plt.hist(aggr_score, bins=20)\n",
    "\n",
    "plt.xlabel('Aggregated Score')\n",
    "plt.grid(True, alpha=0.5)\n",
    "plt.tight_layout()\n",
    "\n",
    "plt.show()\n",
    "fig.savefig(FIGURES_PATH + 'plt_reddid_sus_aggre_score.pdf', bbox_inches='tight')"
   ]
  }
 ],
 "metadata": {
  "kernelspec": {
   "display_name": "Python 3",
   "language": "python",
   "name": "python3"
  },
  "language_info": {
   "codemirror_mode": {
    "name": "ipython",
    "version": 3
   },
   "file_extension": ".py",
   "mimetype": "text/x-python",
   "name": "python",
   "nbconvert_exporter": "python",
   "pygments_lexer": "ipython3",
   "version": "3.6.9"
  }
 },
 "nbformat": 4,
 "nbformat_minor": 2
}
