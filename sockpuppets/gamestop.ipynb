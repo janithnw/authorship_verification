{
 "cells": [
  {
   "cell_type": "code",
   "execution_count": 1,
   "metadata": {
    "collapsed": true
   },
   "outputs": [],
   "source": [
    "%load_ext autoreload\n",
    "%autoreload 2\n",
    "import sys\n",
    "sys.path.append(\"../\")\n",
    "import warnings\n",
    "warnings.filterwarnings(\"ignore\")"
   ]
  },
  {
   "cell_type": "code",
   "execution_count": 130,
   "metadata": {},
   "outputs": [
    {
     "data": {
      "text/html": [
       "        <script type=\"text/javascript\">\n",
       "        window.PlotlyConfig = {MathJaxConfig: 'local'};\n",
       "        if (window.MathJax) {MathJax.Hub.Config({SVG: {font: \"STIX-Web\"}});}\n",
       "        if (typeof require !== 'undefined') {\n",
       "        require.undef(\"plotly\");\n",
       "        requirejs.config({\n",
       "            paths: {\n",
       "                'plotly': ['https://cdn.plot.ly/plotly-latest.min']\n",
       "            }\n",
       "        });\n",
       "        require(['plotly'], function(Plotly) {\n",
       "            window._Plotly = Plotly;\n",
       "        });\n",
       "        }\n",
       "        </script>\n",
       "        "
      ]
     },
     "metadata": {},
     "output_type": "display_data"
    }
   ],
   "source": [
    "import json\n",
    "import glob\n",
    "from tqdm.notebook import trange, tqdm\n",
    "import numpy as np\n",
    "import pandas as pd\n",
    "from features import prepare_entry, get_transformer, merge_entries\n",
    "from utills import chunker, compress_fraction\n",
    "import pickle\n",
    "from matplotlib import rcParams\n",
    "import matplotlib.pyplot as plt\n",
    "import matplotlib.style as style\n",
    "from pushshift_api import get_user_comments\n",
    "from datetime import datetime\n",
    "%matplotlib inline\n",
    "\n",
    "import networkx as nx\n",
    "from plotly.offline import init_notebook_mode\n",
    "import plotly.offline as py\n",
    "import plotly.graph_objs as go\n",
    "init_notebook_mode(connected=True)"
   ]
  },
  {
   "cell_type": "code",
   "execution_count": 3,
   "metadata": {
    "collapsed": true
   },
   "outputs": [],
   "source": [
    "from config import known_bots"
   ]
  },
  {
   "cell_type": "code",
   "execution_count": 4,
   "metadata": {
    "collapsed": true
   },
   "outputs": [],
   "source": [
    "tqdm.pandas()"
   ]
  },
  {
   "cell_type": "code",
   "execution_count": 5,
   "metadata": {
    "collapsed": true
   },
   "outputs": [],
   "source": [
    "DATA_DIR = '../data/'\n",
    "TEMP_DIR = '../temp_data/'\n",
    "DATA_PATH = DATA_DIR + 'gamestop/comments.jsonl'\n",
    "TEMP_DATA_PATH = TEMP_DIR + 'sockpuppets/gamestop/'\n",
    "MULTIDOC_MODEL_PATH = TEMP_DIR + 'reddit/multidoc_20/model_20.p'\n",
    "SINGLEDOC_MODEL_PATH = TEMP_DIR + 'reddit/unchunked/model.p'\n",
    "chunk_sz = 20"
   ]
  },
  {
   "cell_type": "code",
   "execution_count": 35,
   "metadata": {
    "collapsed": true
   },
   "outputs": [],
   "source": [
    "def preprocess(comments, chunk_sz):\n",
    "    return [prepare_entry('\\n'.join(c), mode='accurate', tokenizer='casual') for c in chunker(comments, chunk_sz)]"
   ]
  },
  {
   "cell_type": "markdown",
   "metadata": {},
   "source": [
    "Load & Filter Data\n",
    "==="
   ]
  },
  {
   "cell_type": "code",
   "execution_count": 116,
   "metadata": {
    "collapsed": true
   },
   "outputs": [],
   "source": [
    "with open(DATA_PATH, 'r') as f:\n",
    "    data = []\n",
    "    for l in f:\n",
    "        data.append(json.loads(l))"
   ]
  },
  {
   "cell_type": "code",
   "execution_count": 117,
   "metadata": {
    "collapsed": true
   },
   "outputs": [],
   "source": [
    "df = pd.DataFrame.from_dict(data)\n",
    "\n",
    "# Select comments from users who has at least 100 comments and remove known bots\n",
    "author_comment_counts = df.groupby('author').count()['body'].to_frame()\n",
    "author_comment_counts.columns = ['count']\n",
    "selected_authors = author_comment_counts.loc[author_comment_counts['count'] > 100].index.values\n",
    "selected_authors = set(np.setdiff1d(selected_authors, known_bots))\n",
    "df = df.loc[[r['author'] in selected_authors for i, r in df.iterrows()]]\n",
    "\n",
    "# Collect each author's comments in a list\n",
    "author_comments = df.groupby('author')['body'].apply(list)"
   ]
  },
  {
   "cell_type": "code",
   "execution_count": 118,
   "metadata": {
    "collapsed": true
   },
   "outputs": [],
   "source": [
    "author_comments = author_comments.to_frame()"
   ]
  },
  {
   "cell_type": "code",
   "execution_count": 24,
   "metadata": {},
   "outputs": [
    {
     "data": {
      "application/vnd.jupyter.widget-view+json": {
       "model_id": "318ed8067900402e809f183583ebac73"
      }
     },
     "metadata": {},
     "output_type": "display_data"
    },
    {
     "name": "stdout",
     "output_type": "stream",
     "text": [
      "\n"
     ]
    }
   ],
   "source": [
    "author_comments['compress_fraction'] = author_comments['body'].progress_apply(lambda comments: compress_fraction('\\n'.join(comments)))"
   ]
  },
  {
   "cell_type": "code",
   "execution_count": 26,
   "metadata": {},
   "outputs": [
    {
     "data": {
      "image/png": "[encoded data removed]",
      "text/plain": [
       "<Figure size 432x288 with 1 Axes>"
      ]
     },
     "metadata": {},
     "output_type": "display_data"
    }
   ],
   "source": [
    "fig, ax = plt.subplots()\n",
    "\n",
    "ax.hist(author_comments['compress_fraction'], bins=100, alpha=0.5, density=True)\n",
    "\n",
    "ax.set_xlabel('1 - Compression Fraction')\n",
    "\n",
    "plt.tight_layout()\n",
    "plt.show()"
   ]
  },
  {
   "cell_type": "code",
   "execution_count": 33,
   "metadata": {
    "collapsed": true
   },
   "outputs": [],
   "source": [
    "author_comments_filtered = author_comments.loc[author_comments['compress_fraction'] < 0.3]"
   ]
  },
  {
   "cell_type": "code",
   "execution_count": 195,
   "metadata": {
    "collapsed": true
   },
   "outputs": [],
   "source": [
    "with open(TEMP_DATA_PATH + 'vectorizing_parameters.p', 'rb') as f:\n",
    "    selected_authors, total_chunks, author_bounds, author_to_idx_nc, x_shape, x_shape_nc = pickle.load(f)"
   ]
  },
  {
   "cell_type": "code",
   "execution_count": 196,
   "metadata": {},
   "outputs": [
    {
     "data": {
      "text/plain": [
       "7318"
      ]
     },
     "execution_count": 196,
     "metadata": {},
     "output_type": "execute_result"
    }
   ],
   "source": [
    "len(selected_authors)"
   ]
  },
  {
   "cell_type": "markdown",
   "metadata": {},
   "source": [
    "Load Predictions From HPC\n",
    "==="
   ]
  },
  {
   "cell_type": "code",
   "execution_count": 153,
   "metadata": {
    "collapsed": true
   },
   "outputs": [],
   "source": [
    "result_files = [TEMP_DATA_PATH + 'predict_results_instance_' + str(i) + '.p' for i in range(20)]"
   ]
  },
  {
   "cell_type": "code",
   "execution_count": 154,
   "metadata": {},
   "outputs": [
    {
     "data": {
      "application/vnd.jupyter.widget-view+json": {
       "model_id": "ee9e469d6ea642c29ba28a30987d839a"
      }
     },
     "metadata": {},
     "output_type": "display_data"
    },
    {
     "name": "stdout",
     "output_type": "stream",
     "text": [
      "\n"
     ]
    }
   ],
   "source": [
    "user_pairs = []\n",
    "probs_nc = []\n",
    "\n",
    "inter_probs_mean = []\n",
    "inter_probs_std = []\n",
    "\n",
    "intraA_probs_mean = []\n",
    "intraA_probs_std = []\n",
    "\n",
    "intraB_probs_mean = []\n",
    "intraB_probs_std = []\n",
    "pred_lengths = []\n",
    "    \n",
    "for fp in tqdm(result_files):\n",
    "    with open(fp, 'rb') as f:\n",
    "        try:\n",
    "            (\n",
    "                local_probs_nc,\n",
    "                local_inter_probs_mean,\n",
    "                local_inter_probs_std,\n",
    "                local_intraA_probs_mean,\n",
    "                local_intraA_probs_std,\n",
    "                local_intraB_probs_mean,\n",
    "                local_intraB_probs_std,\n",
    "                local_pred_lengths,\n",
    "                _, \n",
    "                local_user_pairs\n",
    "            ) = pickle.load(f)\n",
    "            \n",
    "            probs_nc.extend(local_probs_nc)\n",
    "            inter_probs_mean.extend(local_inter_probs_mean)\n",
    "            inter_probs_std.extend(local_inter_probs_std)\n",
    "            intraA_probs_mean.extend(local_intraA_probs_mean)\n",
    "            intraA_probs_std.extend(local_intraA_probs_std)\n",
    "            intraB_probs_mean.extend(local_intraB_probs_mean)\n",
    "            intraB_probs_std.extend(local_intraB_probs_std)\n",
    "            pred_lengths.extend(local_pred_lengths)\n",
    "            user_pairs.extend(local_user_pairs)\n",
    "        except:\n",
    "            continue"
   ]
  },
  {
   "cell_type": "code",
   "execution_count": 155,
   "metadata": {
    "collapsed": true
   },
   "outputs": [],
   "source": [
    "user_pairs = np.array(user_pairs)"
   ]
  },
  {
   "cell_type": "code",
   "execution_count": 156,
   "metadata": {},
   "outputs": [
    {
     "data": {
      "text/plain": [
       "26763255"
      ]
     },
     "execution_count": 156,
     "metadata": {},
     "output_type": "execute_result"
    }
   ],
   "source": [
    "len(user_pairs)"
   ]
  },
  {
   "cell_type": "code",
   "execution_count": 157,
   "metadata": {
    "collapsed": true
   },
   "outputs": [],
   "source": [
    "inter_probs_mean = np.array(inter_probs_mean)\n",
    "intraA_probs_mean = np.array(intraA_probs_mean)\n",
    "intraB_probs_mean = np.array(intraB_probs_mean)\n",
    "inter_probs_std = np.array(inter_probs_std)\n",
    "intraA_probs_std = np.array(intraA_probs_std)\n",
    "intraB_probs_std = np.array(intraB_probs_std)\n",
    "pred_lengths = np.array(pred_lengths)\n",
    "\n",
    "\n",
    "probs_nc = np.array(probs_nc)\n",
    "\n",
    "n_a = pred_lengths[:, 0]\n",
    "n_b = pred_lengths[:, 1]\n",
    "n_ab = pred_lengths[:, 2]\n",
    "\n",
    "intra_probs_mean = (intraA_probs_mean * n_a + intraB_probs_mean * n_b)/ (n_a + n_b)\n",
    "intra_probs_std = (\n",
    "        n_a * (intraA_probs_std ** 2 + (intraA_probs_mean - intra_probs_mean)**2) + \n",
    "        n_b * (intraB_probs_std ** 2 + (intraB_probs_mean - intra_probs_mean)**2)\n",
    "    ) / (n_a + n_b)\n",
    "\n",
    "\n",
    "pooled_mean = (intra_probs_mean * (n_a + n_b) + inter_probs_mean * n_ab)/ (n_a + n_b + n_ab)\n",
    "pooled_std = (\n",
    "        (n_a + n_b) * (intra_probs_mean ** 2 + (intra_probs_mean - pooled_mean)**2) + \n",
    "        n_ab * (inter_probs_mean ** 2 + (inter_probs_mean - pooled_mean)**2)\n",
    "    ) / (n_a + n_b + n_ab)\n"
   ]
  },
  {
   "cell_type": "code",
   "execution_count": 158,
   "metadata": {
    "collapsed": true
   },
   "outputs": [],
   "source": [
    "inter_intra_sim = (1 - np.abs(inter_probs_mean - intra_probs_mean))\n",
    "aggr_score = (probs_nc * (1 - np.abs(inter_probs_mean - intra_probs_mean)))"
   ]
  },
  {
   "cell_type": "code",
   "execution_count": 159,
   "metadata": {},
   "outputs": [
    {
     "data": {
      "image/png": "[encoded data removed]",
      "text/plain": [
       "<Figure size 432x288 with 1 Axes>"
      ]
     },
     "metadata": {},
     "output_type": "display_data"
    }
   ],
   "source": [
    "fig, ax = plt.subplots()\n",
    "\n",
    "ax.hist(intra_probs_mean, alpha=0.5, density=True)\n",
    "\n",
    "\n",
    "plt.tight_layout()\n",
    "plt.show()"
   ]
  },
  {
   "cell_type": "code",
   "execution_count": 253,
   "metadata": {
    "collapsed": true
   },
   "outputs": [],
   "source": [
    "FIGURES_PATH = '../figures/'\n",
    "TEXT_WIDTH = 7.0 # Text with on a column\n",
    "HALF_COL_WIDTH = (TEXT_WIDTH - 0.5)/2\n",
    "HEIGHT = 2\n",
    "\n",
    "\n",
    "style.use('seaborn-whitegrid')\n",
    "\n",
    "rcParams['font.family'] = 'serif'\n",
    "rcParams['font.serif'] = [ 'Times New Roman', 'Times', 'DejaVu Serif',\n",
    " 'Bitstream Vera Serif',\n",
    " 'Computer Modern Roman',\n",
    " 'New Century Schoolbook',\n",
    " 'Century Schoolbook L',\n",
    " 'Utopia',\n",
    " 'ITC Bookman',\n",
    " 'Bookman',\n",
    " 'Nimbus Roman No9 L',\n",
    " 'Palatino',\n",
    " 'Charter',\n",
    " 'serif']\n",
    "rcParams['font.size']=9 "
   ]
  },
  {
   "cell_type": "code",
   "execution_count": 254,
   "metadata": {},
   "outputs": [
    {
     "data": {
      "image/png": "[encoded data removed]",
      "text/plain": [
       "<Figure size 234x144 with 1 Axes>"
      ]
     },
     "metadata": {},
     "output_type": "display_data"
    }
   ],
   "source": [
    "fig = plt.figure(figsize=(HALF_COL_WIDTH, HEIGHT))\n",
    "\n",
    "plt.hist(intra_probs_mean, bins=50)\n",
    "\n",
    "plt.xlabel('Intra-author Mean')\n",
    "plt.grid(True, alpha=0.5)\n",
    "plt.tight_layout()\n",
    "\n",
    "plt.show()\n",
    "fig.savefig(FIGURES_PATH + 'plt_gamestop_intra_author_mean.pdf', bbox_inches='tight')"
   ]
  },
  {
   "cell_type": "code",
   "execution_count": 161,
   "metadata": {},
   "outputs": [
    {
     "data": {
      "text/plain": [
       "0.768961157608965"
      ]
     },
     "execution_count": 161,
     "metadata": {},
     "output_type": "execute_result"
    }
   ],
   "source": [
    "intra_probs_mean.mean()"
   ]
  },
  {
   "cell_type": "code",
   "execution_count": 255,
   "metadata": {},
   "outputs": [
    {
     "data": {
      "image/png": "[encoded data removed]",
      "text/plain": [
       "<Figure size 234x144 with 1 Axes>"
      ]
     },
     "metadata": {},
     "output_type": "display_data"
    }
   ],
   "source": [
    "fig = plt.figure(figsize=(HALF_COL_WIDTH, HEIGHT))\n",
    "\n",
    "plt.hist(aggr_score, bins=50)\n",
    "\n",
    "plt.xlabel('Aggregated Score')\n",
    "plt.grid(True, alpha=0.5)\n",
    "plt.tight_layout()\n",
    "\n",
    "plt.show()\n",
    "fig.savefig(FIGURES_PATH + 'plt_gamestop_aggre_score.pdf', bbox_inches='tight')"
   ]
  },
  {
   "cell_type": "code",
   "execution_count": 243,
   "metadata": {
    "collapsed": true
   },
   "outputs": [],
   "source": [
    "selected_mask = aggr_score > 0.995"
   ]
  },
  {
   "cell_type": "code",
   "execution_count": 244,
   "metadata": {
    "collapsed": true
   },
   "outputs": [],
   "source": [
    "G = nx.Graph()\n",
    "G.add_weighted_edges_from([\n",
    "    (user_pairs[i][0], user_pairs[i][1], aggr_score[i]) \n",
    "    for i in np.argwhere(selected_mask)[:, 0]\n",
    "])\n",
    "\n",
    "nx.write_gexf(G, 'gamestop_new.gexf')"
   ]
  },
  {
   "cell_type": "markdown",
   "metadata": {},
   "source": [
    "Check if suspended\n",
    "==="
   ]
  },
  {
   "cell_type": "code",
   "execution_count": 55,
   "metadata": {
    "collapsed": true
   },
   "outputs": [],
   "source": [
    "import praw\n",
    "\n",
    "reddit = praw.Reddit(client_id=\"XX\",\n",
    "                     client_secret=\"XX\",\n",
    "                     user_agent=\"my user agent\")"
   ]
  },
  {
   "cell_type": "code",
   "execution_count": 247,
   "metadata": {},
   "outputs": [
    {
     "data": {
      "application/vnd.jupyter.widget-view+json": {
       "model_id": "0bd3237890b54b8b9f89b3728095768f"
      }
     },
     "metadata": {},
     "output_type": "display_data"
    },
    {
     "name": "stdout",
     "output_type": "stream",
     "text": [
      "\n"
     ]
    }
   ],
   "source": [
    "# account_status = {}\n",
    "for n in tqdm(G.nodes):\n",
    "    if n in account_status:\n",
    "        continue\n",
    "    status = 'live'\n",
    "    u = reddit.redditor(n)\n",
    "    try:\n",
    "        if hasattr(u, 'is_suspended'):\n",
    "            status='suspended'\n",
    "    except Exception as ex:\n",
    "        if 'NotFound' in str(type(ex)):\n",
    "            status='deleted'\n",
    "        else:\n",
    "            break\n",
    "    account_status[n] = status"
   ]
  },
  {
   "cell_type": "code",
   "execution_count": 236,
   "metadata": {
    "collapsed": true
   },
   "outputs": [],
   "source": [
    "with open(TEMP_DATA_PATH + 'account_status.p', 'wb') as f:\n",
    "    pickle.dump(account_status, f)"
   ]
  },
  {
   "cell_type": "code",
   "execution_count": 235,
   "metadata": {
    "collapsed": true
   },
   "outputs": [],
   "source": [
    "status_to_polygon = {\n",
    "    'live': 0,\n",
    "    'suspended': 3,\n",
    "    'deleted': 4\n",
    "}"
   ]
  },
  {
   "cell_type": "code",
   "execution_count": 249,
   "metadata": {
    "collapsed": true
   },
   "outputs": [],
   "source": [
    "for n in G.nodes:\n",
    "    G.node[n]['account_status'] = account_status[n]\n",
    "    G.node[n]['Polygon_string'] = status_to_polygon[account_status[n]]\n",
    "    \n",
    "# nx.write_gexf(G, 'gamestop.gexf')    "
   ]
  },
  {
   "cell_type": "code",
   "execution_count": 250,
   "metadata": {},
   "outputs": [
    {
     "name": "stdout",
     "output_type": "stream",
     "text": [
      "Suspended: 17\n",
      "Deleted: 16\n",
      "Total: 283\n"
     ]
    }
   ],
   "source": [
    "print('Suspended:', len([n for n in G.nodes if G.nodes[n]['account_status'] == 'suspended']))\n",
    "print('Deleted:', len([n for n in G.nodes if G.nodes[n]['account_status'] == 'deleted']))\n",
    "print('Total:', len(G.nodes))"
   ]
  },
  {
   "cell_type": "code",
   "execution_count": 61,
   "metadata": {
    "collapsed": true
   },
   "outputs": [],
   "source": [
    "components = nx.connected_components(G)"
   ]
  },
  {
   "cell_type": "code",
   "execution_count": 65,
   "metadata": {
    "collapsed": true
   },
   "outputs": [],
   "source": [
    "c_id = 1\n",
    "for c in components:\n",
    "    for n in c:\n",
    "        G.node[n]['component_id'] = c_id\n",
    "    c_id += 1"
   ]
  },
  {
   "cell_type": "code",
   "execution_count": 67,
   "metadata": {
    "collapsed": true
   },
   "outputs": [],
   "source": [
    "nx.write_gexf(G, 'gamestop.gexf') "
   ]
  },
  {
   "cell_type": "markdown",
   "metadata": {},
   "source": [
    "Find common threads\n",
    "==="
   ]
  },
  {
   "cell_type": "code",
   "execution_count": null,
   "metadata": {
    "collapsed": true
   },
   "outputs": [],
   "source": [
    "common_threads = {}\n",
    "user_comments = {}"
   ]
  },
  {
   "cell_type": "code",
   "execution_count": null,
   "metadata": {
    "collapsed": true,
    "scrolled": true
   },
   "outputs": [],
   "source": [
    "\n",
    "after = str(int(datetime(2016, 1, 1).timestamp()))\n",
    "before = str(int(datetime.now().timestamp()))\n",
    "for u1, u2 in tqdm(user_pairs[aggr_score > 0.99]):\n",
    "    if u1 in user_comments:\n",
    "        u1_comments = user_comments[u1]\n",
    "    else:\n",
    "        u1_comments = get_user_comments(u1, after, before)\n",
    "        user_comments[u1] = u1_comments\n",
    "        \n",
    "    if u2 in user_comments:\n",
    "        u2_comments = user_comments[u2]\n",
    "    else:\n",
    "        u2_comments = get_user_comments(u2, after, before)\n",
    "        user_comments[u2] = u2_comments\n",
    "\n",
    "    u1_threads = set([c['parent_id'] for c in u1_comments])\n",
    "    u2_threads = set([c['parent_id'] for c in u2_comments])\n",
    "    \n",
    "    intersection = u2_threads.intersection(u1_threads)\n",
    "    common_threads[(u1, u2)] = intersection\n",
    "    \n",
    "    if len(intersection) > 0:\n",
    "        print(intersection)\n",
    "        print(u1, u2)"
   ]
  },
  {
   "cell_type": "code",
   "execution_count": null,
   "metadata": {
    "collapsed": true,
    "scrolled": true
   },
   "outputs": [],
   "source": [
    "for (u1, u2), v in common_threads.items():\n",
    "    if len(v) == 0:\n",
    "        continue\n",
    "    print(u1, u2)\n",
    "    for thread in v:\n",
    "        print('Thread:' , thread)\n",
    "        print('User1: ', u1)\n",
    "        print('\\n'.join([c['body'] for c in user_comments[u1] if c['parent_id'] == thread]))\n",
    "        print('User2: ', u2)\n",
    "        print('\\n'.join([c['body'] for c in user_comments[u2] if c['parent_id'] == thread]))\n",
    "        \n",
    "    print('~'*20)\n",
    "# [c['body'] for c in user_comments[user] if c['parent_id'] == thread]"
   ]
  },
  {
   "cell_type": "code",
   "execution_count": 144,
   "metadata": {},
   "outputs": [
    {
     "data": {
      "image/png": "[encoded data removed]",
      "text/plain": [
       "<Figure size 234x180 with 1 Axes>"
      ]
     },
     "metadata": {},
     "output_type": "display_data"
    }
   ],
   "source": [
    "\n",
    "fig = plt.figure(figsize=(HALF_COL_WIDTH, HEIGHT))\n",
    "\n",
    "plt.hist(intra_probs_mean[aggr_score > 0.95], bins=50)\n",
    "\n",
    "plt.xlabel('Intra-author Mean')\n",
    "plt.grid(True, alpha=0.5)\n",
    "plt.tight_layout()\n",
    "\n",
    "plt.show()"
   ]
  }
 ],
 "metadata": {
  "kernelspec": {
   "display_name": "Python 3",
   "language": "python",
   "name": "python3"
  },
  "language_info": {
   "codemirror_mode": {
    "name": "ipython",
    "version": 3
   },
   "file_extension": ".py",
   "mimetype": "text/x-python",
   "name": "python",
   "nbconvert_exporter": "python",
   "pygments_lexer": "ipython3",
   "version": "3.6.9"
  }
 },
 "nbformat": 4,
 "nbformat_minor": 2
}
