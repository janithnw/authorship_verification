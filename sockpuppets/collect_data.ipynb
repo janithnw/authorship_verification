{
 "cells": [
  {
   "cell_type": "code",
   "execution_count": 1,
   "metadata": {
    "collapsed": true
   },
   "outputs": [],
   "source": [
    "import sys\n",
    "sys.path.append(\"../\")"
   ]
  },
  {
   "cell_type": "code",
   "execution_count": 2,
   "metadata": {
    "collapsed": true
   },
   "outputs": [],
   "source": [
    "import requests\n",
    "import json\n",
    "from json import JSONDecodeError\n",
    "from datetime import datetime\n",
    "import time\n",
    "from tqdm.auto import tqdm\n",
    "from config import known_bots"
   ]
  },
  {
   "cell_type": "code",
   "execution_count": 3,
   "metadata": {
    "collapsed": true
   },
   "outputs": [],
   "source": [
    "KEYS_TO_SAVE = ['author', 'body', 'created_utc', 'score']"
   ]
  },
  {
   "cell_type": "code",
   "execution_count": 10,
   "metadata": {
    "collapsed": true
   },
   "outputs": [],
   "source": [
    "\n",
    "def getPushshiftCom(after, before, sub):\n",
    "    url = 'https://api.pushshift.io/reddit/search/comment/?after='+str(after)+'&before='+str(before)+'&subreddit='+str(sub)\n",
    "#     print(url)\n",
    "    r = requests.get(url)\n",
    "    \n",
    "    while str(r) == '<Response [429]>' or len(str(r)) == 0:\n",
    "        time.sleep(10)\n",
    "        r = requests.get(url)\n",
    "        print(r)\n",
    "        \n",
    "    data = json.loads(r.text)\n",
    "    return data['data']"
   ]
  },
  {
   "cell_type": "code",
   "execution_count": 20,
   "metadata": {
    "collapsed": true
   },
   "outputs": [],
   "source": [
    "output_path = '../data/sockpuppets/r_funny/comments.jsonl'\n",
    "subreddit = 'funny'\n",
    "after = str(int(datetime(year=2021, month=5, day=20).timestamp())) #str(int(datetime(year=2021, month=1, day=20).timestamp())) #str(int(datetime(year=2020, month=11, day=1).timestamp()))\n",
    "before = str(int(datetime(year=2021, month=8, day=20).timestamp()))"
   ]
  },
  {
   "cell_type": "code",
   "execution_count": null,
   "metadata": {
    "scrolled": true
   },
   "outputs": [],
   "source": [
    "with open(output_path, 'a+') as f, tqdm(total=int(before) - int(after)) as pbar:\n",
    "    data = getPushshiftCom(after, before, subreddit)\n",
    "    while len(data) > 0:\n",
    "        for c in data:\n",
    "            f.write(json.dumps({k: c[k] for k in KEYS_TO_SAVE}))\n",
    "            f.write('\\n')\n",
    "\n",
    "        ##Change the after\n",
    "        pbar.update(int(data[-1]['created_utc']) - int(after))\n",
    "        after = data[-1]['created_utc']\n",
    "        try:\n",
    "            data = getPushshiftCom(after, before, subreddit)\n",
    "        except JSONDecodeError:\n",
    "            print('JSON Decode error')"
   ]
  },
  {
   "cell_type": "code",
   "execution_count": 18,
   "metadata": {},
   "outputs": [
    {
     "data": {
      "text/plain": [
       "0"
      ]
     },
     "execution_count": 18,
     "metadata": {},
     "output_type": "execute_result"
    }
   ],
   "source": [
    "with open('../data/reddit_wallstreetbets_large/comments.jsonl', 'r') as f:\n",
    "    for l in f:\n",
    "        pass\n",
    "    d = json.loads(l)\n",
    "    after = d['created_utc']"
   ]
  }
 ],
 "metadata": {
  "kernelspec": {
   "display_name": "Python 3",
   "language": "python",
   "name": "python3"
  },
  "language_info": {
   "codemirror_mode": {
    "name": "ipython",
    "version": 3
   },
   "file_extension": ".py",
   "mimetype": "text/x-python",
   "name": "python",
   "nbconvert_exporter": "python",
   "pygments_lexer": "ipython3",
   "version": "3.6.9"
  }
 },
 "nbformat": 4,
 "nbformat_minor": 2
}
