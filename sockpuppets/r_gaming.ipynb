{
 "cells": [
  {
   "cell_type": "code",
   "execution_count": 1,
   "metadata": {
    "collapsed": true
   },
   "outputs": [],
   "source": [
    "%load_ext autoreload\n",
    "%autoreload 2\n",
    "import sys\n",
    "sys.path.append(\"../\")\n",
    "import warnings\n",
    "warnings.filterwarnings(\"ignore\")"
   ]
  },
  {
   "cell_type": "code",
   "execution_count": 2,
   "metadata": {},
   "outputs": [
    {
     "data": {
      "text/html": [
       "        <script type=\"text/javascript\">\n",
       "        window.PlotlyConfig = {MathJaxConfig: 'local'};\n",
       "        if (window.MathJax) {MathJax.Hub.Config({SVG: {font: \"STIX-Web\"}});}\n",
       "        if (typeof require !== 'undefined') {\n",
       "        require.undef(\"plotly\");\n",
       "        requirejs.config({\n",
       "            paths: {\n",
       "                'plotly': ['https://cdn.plot.ly/plotly-latest.min']\n",
       "            }\n",
       "        });\n",
       "        require(['plotly'], function(Plotly) {\n",
       "            window._Plotly = Plotly;\n",
       "        });\n",
       "        }\n",
       "        </script>\n",
       "        "
      ]
     },
     "metadata": {},
     "output_type": "display_data"
    }
   ],
   "source": [
    "import json\n",
    "import glob\n",
    "from tqdm.notebook import trange, tqdm\n",
    "import numpy as np\n",
    "import pandas as pd\n",
    "from features import prepare_entry, get_transformer, merge_entries\n",
    "from utills import chunker, compress_fraction\n",
    "import pickle\n",
    "from matplotlib import rcParams\n",
    "import matplotlib.pyplot as plt\n",
    "import matplotlib.style as style\n",
    "from pushshift_api import get_user_comments\n",
    "from datetime import datetime\n",
    "%matplotlib inline\n",
    "\n",
    "import networkx as nx\n",
    "from plotly.offline import init_notebook_mode\n",
    "import plotly.offline as py\n",
    "import plotly.graph_objs as go\n",
    "init_notebook_mode(connected=True)"
   ]
  },
  {
   "cell_type": "code",
   "execution_count": 3,
   "metadata": {
    "collapsed": true
   },
   "outputs": [],
   "source": [
    "from config import known_bots"
   ]
  },
  {
   "cell_type": "code",
   "execution_count": 4,
   "metadata": {
    "collapsed": true
   },
   "outputs": [],
   "source": [
    "tqdm.pandas()"
   ]
  },
  {
   "cell_type": "code",
   "execution_count": 5,
   "metadata": {
    "collapsed": true
   },
   "outputs": [],
   "source": [
    "DATA_DIR = '../data/'\n",
    "TEMP_DIR = '../temp_data/'\n",
    "# DATA_PATH = DATA_DIR + 'gamestop/comments.jsonl'\n",
    "DATA_PATH = DATA_DIR + 'sockpuppets/r_gaming/comments.jsonl'\n",
    "TEMP_DATA_PATH = TEMP_DIR + 'sockpuppets/r_gaming/'\n",
    "MULTIDOC_MODEL_PATH = TEMP_DIR + 'reddit/multidoc_20/model_20.p'\n",
    "SINGLEDOC_MODEL_PATH = TEMP_DIR + 'reddit/unchunked/model.p'\n",
    "chunk_sz = 20"
   ]
  },
  {
   "cell_type": "markdown",
   "metadata": {},
   "source": [
    "Load Predictions From HPC\n",
    "==="
   ]
  },
  {
   "cell_type": "code",
   "execution_count": 6,
   "metadata": {
    "collapsed": true
   },
   "outputs": [],
   "source": [
    "with open(TEMP_DATA_PATH + 'vectorizing_parameters.p', 'rb') as f:\n",
    "    (author_order, total_chunks, author_bounds, author_to_idx_nc, x_shape, x_shape_nc) = pickle.load(f)"
   ]
  },
  {
   "cell_type": "code",
   "execution_count": 7,
   "metadata": {},
   "outputs": [
    {
     "data": {
      "text/plain": [
       "1110"
      ]
     },
     "execution_count": 7,
     "metadata": {},
     "output_type": "execute_result"
    }
   ],
   "source": [
    "len(author_bounds)"
   ]
  },
  {
   "cell_type": "code",
   "execution_count": 11,
   "metadata": {},
   "outputs": [
    {
     "data": {
      "application/vnd.jupyter.widget-view+json": {
       "model_id": "55de39f7ec5e48b09369020543ae98d3"
      }
     },
     "metadata": {},
     "output_type": "display_data"
    },
    {
     "name": "stdout",
     "output_type": "stream",
     "text": [
      "\n"
     ]
    }
   ],
   "source": [
    "user_pairs = []\n",
    "probs_nc = []\n",
    "\n",
    "inter_probs_mean = []\n",
    "inter_probs_std = []\n",
    "\n",
    "intraA_probs_mean = []\n",
    "intraA_probs_std = []\n",
    "\n",
    "intraB_probs_mean = []\n",
    "intraB_probs_std = []\n",
    "pred_lengths = []\n",
    "    \n",
    "for fp in tqdm(result_files):\n",
    "    with open(fp, 'rb') as f:\n",
    "        try:\n",
    "            (\n",
    "                local_probs_nc,\n",
    "                local_inter_probs_mean,\n",
    "                local_inter_probs_std,\n",
    "                local_intraA_probs_mean,\n",
    "                local_intraA_probs_std,\n",
    "                local_intraB_probs_mean,\n",
    "                local_intraB_probs_std,\n",
    "                local_pred_lengths,\n",
    "                _, \n",
    "                local_user_pairs\n",
    "            ) = pickle.load(f)\n",
    "            \n",
    "            probs_nc.extend(local_probs_nc)\n",
    "            inter_probs_mean.extend(local_inter_probs_mean)\n",
    "            inter_probs_std.extend(local_inter_probs_std)\n",
    "            intraA_probs_mean.extend(local_intraA_probs_mean)\n",
    "            intraA_probs_std.extend(local_intraA_probs_std)\n",
    "            intraB_probs_mean.extend(local_intraB_probs_mean)\n",
    "            intraB_probs_std.extend(local_intraB_probs_std)\n",
    "            pred_lengths.extend(local_pred_lengths)\n",
    "            user_pairs.extend(local_user_pairs)\n",
    "        except:\n",
    "            continue"
   ]
  },
  {
   "cell_type": "code",
   "execution_count": 12,
   "metadata": {
    "collapsed": true
   },
   "outputs": [],
   "source": [
    "user_pairs = np.array(user_pairs)"
   ]
  },
  {
   "cell_type": "code",
   "execution_count": 11,
   "metadata": {},
   "outputs": [
    {
     "data": {
      "text/plain": [
       "615495"
      ]
     },
     "execution_count": 11,
     "metadata": {},
     "output_type": "execute_result"
    }
   ],
   "source": [
    "len(user_pairs)"
   ]
  },
  {
   "cell_type": "code",
   "execution_count": 13,
   "metadata": {
    "collapsed": true
   },
   "outputs": [],
   "source": [
    "inter_probs_mean = np.array(inter_probs_mean)\n",
    "intraA_probs_mean = np.array(intraA_probs_mean)\n",
    "intraB_probs_mean = np.array(intraB_probs_mean)\n",
    "inter_probs_std = np.array(inter_probs_std)\n",
    "intraA_probs_std = np.array(intraA_probs_std)\n",
    "intraB_probs_std = np.array(intraB_probs_std)\n",
    "pred_lengths = np.array(pred_lengths)\n",
    "\n",
    "\n",
    "probs_nc = np.array(probs_nc)\n",
    "\n",
    "n_a = pred_lengths[:, 0]\n",
    "n_b = pred_lengths[:, 1]\n",
    "n_ab = pred_lengths[:, 2]\n",
    "\n",
    "intra_probs_mean = (intraA_probs_mean * n_a + intraB_probs_mean * n_b)/ (n_a + n_b)\n",
    "intra_probs_std = (\n",
    "        n_a * (intraA_probs_std ** 2 + (intraA_probs_mean - intra_probs_mean)**2) + \n",
    "        n_b * (intraB_probs_std ** 2 + (intraB_probs_mean - intra_probs_mean)**2)\n",
    "    ) / (n_a + n_b)\n",
    "\n",
    "\n",
    "pooled_mean = (intra_probs_mean * (n_a + n_b) + inter_probs_mean * n_ab)/ (n_a + n_b + n_ab)\n",
    "pooled_std = (\n",
    "        (n_a + n_b) * (intra_probs_mean ** 2 + (intra_probs_mean - pooled_mean)**2) + \n",
    "        n_ab * (inter_probs_mean ** 2 + (inter_probs_mean - pooled_mean)**2)\n",
    "    ) / (n_a + n_b + n_ab)\n"
   ]
  },
  {
   "cell_type": "code",
   "execution_count": 14,
   "metadata": {
    "collapsed": true
   },
   "outputs": [],
   "source": [
    "inter_intra_sim = (1 - np.abs(inter_probs_mean - intra_probs_mean))\n",
    "aggr_score = (probs_nc * (1 - np.abs(inter_probs_mean - intra_probs_mean)))"
   ]
  },
  {
   "cell_type": "code",
   "execution_count": 25,
   "metadata": {
    "collapsed": true
   },
   "outputs": [],
   "source": [
    "selected_mask = aggr_score > 0.995"
   ]
  },
  {
   "cell_type": "code",
   "execution_count": 27,
   "metadata": {},
   "outputs": [
    {
     "data": {
      "text/plain": [
       "(0, 615495)"
      ]
     },
     "execution_count": 27,
     "metadata": {},
     "output_type": "execute_result"
    }
   ],
   "source": [
    "selected_mask.sum(), len(selected_mask)"
   ]
  }
 ],
 "metadata": {
  "kernelspec": {
   "display_name": "Python 3",
   "language": "python",
   "name": "python3"
  },
  "language_info": {
   "codemirror_mode": {
    "name": "ipython",
    "version": 3
   },
   "file_extension": ".py",
   "mimetype": "text/x-python",
   "name": "python",
   "nbconvert_exporter": "python",
   "pygments_lexer": "ipython3",
   "version": "3.6.9"
  }
 },
 "nbformat": 4,
 "nbformat_minor": 2
}
