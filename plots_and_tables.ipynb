{
 "cells": [
  {
   "cell_type": "code",
   "execution_count": 1,
   "metadata": {
    "collapsed": true
   },
   "outputs": [],
   "source": [
    "import sys\n",
    "sys.path.append(\"./reddit/\")"
   ]
  },
  {
   "cell_type": "code",
   "execution_count": 19,
   "metadata": {
    "collapsed": true
   },
   "outputs": [],
   "source": [
    "import pickle\n",
    "\n",
    "import matplotlib.pyplot as plt\n",
    "import matplotlib.style as style\n",
    "from matplotlib import rcParams\n",
    "import numpy as np\n",
    "import json\n",
    "from tqdm.auto import tqdm, trange\n",
    "from features import merge_entries, prepare_entry, get_nltk_pos_tag_based_ml_chunker\n",
    "import features\n",
    "import warnings\n",
    "warnings.filterwarnings('ignore')\n",
    "\n",
    "%matplotlib inline"
   ]
  },
  {
   "cell_type": "code",
   "execution_count": 3,
   "metadata": {
    "collapsed": true
   },
   "outputs": [],
   "source": [
    "PAN_DATA_DIR = 'data/pan/'\n",
    "PAN_GROUND_TRUTH_PATH = PAN_DATA_DIR + 'pan20-authorship-verification-training-large-truth.jsonl'"
   ]
  },
  {
   "cell_type": "code",
   "execution_count": 127,
   "metadata": {
    "collapsed": true
   },
   "outputs": [],
   "source": [
    "FIGURES_PATH = 'figures/'\n",
    "TEXT_WIDTH = 7.0 # Text with on a column\n",
    "HALF_COL_WIDTH = (TEXT_WIDTH - 0.5)/2\n",
    "HEIGHT = 2.5"
   ]
  },
  {
   "cell_type": "code",
   "execution_count": 5,
   "metadata": {
    "collapsed": true
   },
   "outputs": [],
   "source": [
    "\n",
    "style.use('seaborn-whitegrid')\n",
    "\n",
    "rcParams['font.family'] = 'serif'\n",
    "rcParams['font.serif'] = [ 'Times New Roman', 'Times', 'DejaVu Serif',\n",
    " 'Bitstream Vera Serif',\n",
    " 'Computer Modern Roman',\n",
    " 'New Century Schoolbook',\n",
    " 'Century Schoolbook L',\n",
    " 'Utopia',\n",
    " 'ITC Bookman',\n",
    " 'Bookman',\n",
    " 'Nimbus Roman No9 L',\n",
    " 'Palatino',\n",
    " 'Charter',\n",
    " 'serif']\n",
    "rcParams['font.size']=9 "
   ]
  },
  {
   "cell_type": "markdown",
   "metadata": {},
   "source": [
    "Single-Doc AV Approach\n",
    "===="
   ]
  },
  {
   "cell_type": "markdown",
   "metadata": {},
   "source": [
    "Dataset Stats\n",
    "==="
   ]
  },
  {
   "cell_type": "markdown",
   "metadata": {},
   "source": [
    "PAN\n",
    "---"
   ]
  },
  {
   "cell_type": "code",
   "execution_count": 6,
   "metadata": {
    "collapsed": true
   },
   "outputs": [],
   "source": [
    "with open('temp_data/pan/dataset_partition.p', 'rb') as f:\n",
    "    (train_ids, test_ids, train_authors, test_authors) = pickle.load(f)"
   ]
  },
  {
   "cell_type": "code",
   "execution_count": 11,
   "metadata": {},
   "outputs": [
    {
     "name": "stdout",
     "output_type": "stream",
     "text": [
      "Num Pairs: 275486\n",
      "Num Docs: 550972\n"
     ]
    }
   ],
   "source": [
    "print('Num Pairs:', (len(train_ids) + len(test_ids)))\n",
    "print('Num Docs:', 2 * (len(train_ids) + len(test_ids)))"
   ]
  },
  {
   "cell_type": "code",
   "execution_count": 34,
   "metadata": {
    "collapsed": true
   },
   "outputs": [],
   "source": [
    "ground_truth = {}\n",
    "with open(PAN_GROUND_TRUTH_PATH, 'r') as f:\n",
    "    for l in f:\n",
    "        d = json.loads(l)\n",
    "        ground_truth[d['id']] = d['same']"
   ]
  },
  {
   "cell_type": "code",
   "execution_count": 40,
   "metadata": {},
   "outputs": [
    {
     "name": "stdout",
     "output_type": "stream",
     "text": [
      "Fraction of SA pairs: 0.5361397675380963\n"
     ]
    }
   ],
   "source": [
    "print('Fraction of SA pairs:', np.array(list(ground_truth.values())).mean())"
   ]
  },
  {
   "cell_type": "code",
   "execution_count": null,
   "metadata": {
    "collapsed": true,
    "scrolled": false
   },
   "outputs": [],
   "source": [
    "data_fraction = 0.01\n",
    "token_lengths = []\n",
    "char_lengths = []\n",
    "with open('./temp_data/pan/preprocessed_train.jsonl', 'r') as f:\n",
    "    for l in tqdm(f):\n",
    "        if np.random.rand() < data_fraction:\n",
    "            d = json.loads(l)\n",
    "            token_lengths.extend([len(c['tokens']) for c in d['pair'][0]])\n",
    "            char_lengths.extend([len(c['preprocessed']) for c in d['pair'][0]])"
   ]
  },
  {
   "cell_type": "code",
   "execution_count": 65,
   "metadata": {},
   "outputs": [
    {
     "name": "stdout",
     "output_type": "stream",
     "text": [
      "Tokens per doc: 125.25075228171396 17.310732291179278\n",
      "Chars per doc: 539.3869836611873 61.89096369113025\n"
     ]
    }
   ],
   "source": [
    "print('Tokens per doc:', np.mean(token_lengths), np.std(token_lengths))\n",
    "print('Chars per doc:', np.mean(char_lengths), np.std(char_lengths))"
   ]
  },
  {
   "cell_type": "markdown",
   "metadata": {},
   "source": [
    "Reddit\n",
    "---"
   ]
  },
  {
   "cell_type": "code",
   "execution_count": 12,
   "metadata": {
    "collapsed": true
   },
   "outputs": [],
   "source": [
    "with open('temp_data/reddit/preprocessed/metadata.p', 'rb') as f:\n",
    "    (train_files, test_files, min_count, author_mapping) = pickle.load(f)"
   ]
  },
  {
   "cell_type": "code",
   "execution_count": 90,
   "metadata": {
    "collapsed": true
   },
   "outputs": [],
   "source": [
    "with open('./temp_data/reddit/unchunked/experiment_data.p', 'rb') as f:\n",
    "    (\n",
    "        author_to_doc_idx, \n",
    "        author_to_doc_idx_test, \n",
    "        author_subreddit, \n",
    "        author_subreddit_test, \n",
    "        x_shape, \n",
    "        x_shape_test,\n",
    "        X_idxs_train,\n",
    "        Y_train,\n",
    "        X_idxs_test,\n",
    "        Y_test\n",
    "    ) = pickle.load(f)"
   ]
  },
  {
   "cell_type": "code",
   "execution_count": 91,
   "metadata": {
    "collapsed": true
   },
   "outputs": [],
   "source": [
    "author_mapping = defaultdict(set)\n",
    "author_to_root = {}\n",
    "for y in author_subreddit.keys():\n",
    "    u = re.search(r'(.*)_[A-Z]+$', y).group(1)\n",
    "    author_mapping[u].add(y)\n",
    "    author_to_root[y] = u\n",
    "    \n",
    "author_mapping_test = defaultdict(set)\n",
    "author_to_root_test = {}\n",
    "for y in author_subreddit_test.keys():\n",
    "    u = re.search(r'(.*)_[A-Z]+$', y).group(1)\n",
    "    author_mapping_test[u].add(y)\n",
    "    author_to_root_test[y] = u"
   ]
  },
  {
   "cell_type": "code",
   "execution_count": 94,
   "metadata": {},
   "outputs": [
    {
     "name": "stdout",
     "output_type": "stream",
     "text": [
      "Num users: 46465\n"
     ]
    }
   ],
   "source": [
    "print('Num users:', len(author_mapping) + len(author_mapping_test))"
   ]
  },
  {
   "cell_type": "code",
   "execution_count": 95,
   "metadata": {},
   "outputs": [
    {
     "name": "stdout",
     "output_type": "stream",
     "text": [
      "Number of Reddit user pairs: 126256\n"
     ]
    }
   ],
   "source": [
    "print('Number of Reddit user pairs:', x_shape[0] + x_shape_test[0])"
   ]
  },
  {
   "cell_type": "code",
   "execution_count": 6,
   "metadata": {
    "scrolled": true
   },
   "outputs": [
    {
     "data": {
      "application/vnd.jupyter.widget-view+json": {
       "model_id": "24b5f412f68249bcb3c38229b1ff4964"
      }
     },
     "metadata": {},
     "output_type": "display_data"
    },
    {
     "name": "stdout",
     "output_type": "stream",
     "text": [
      "\n"
     ]
    }
   ],
   "source": [
    "preprocessed_path = './temp_data/reddit/preprocessed/train.jsonl'\n",
    "token_lengths = []\n",
    "char_lengths = []\n",
    "comments_per_sr = []\n",
    "tokens_per_comment = []\n",
    "chars_per_comment = []\n",
    "\n",
    "with open(preprocessed_path, 'r') as f:\n",
    "    for l in tqdm(f):\n",
    "        d = json.loads(l)\n",
    "        doc = merge_entries(d['data'])\n",
    "        token_lengths.append(len(doc['tokens']))\n",
    "        char_lengths.append(len(doc['preprocessed']))\n",
    "        \n",
    "        comments_per_sr.append(len(d['data']))\n",
    "        tokens_per_comment.extend([len(c['tokens']) for c in d['data']])\n",
    "        chars_per_comment.extend([len(c['preprocessed']) for c in d['data']])\n",
    "        "
   ]
  },
  {
   "cell_type": "code",
   "execution_count": 7,
   "metadata": {},
   "outputs": [
    {
     "name": "stdout",
     "output_type": "stream",
     "text": [
      "Tokens per doc: 3457.3605978750224 6155.246051835943\n",
      "Chars per doc: 16734.673930007804 32164.098184333987\n"
     ]
    }
   ],
   "source": [
    "print('Tokens per doc:', np.mean(token_lengths), np.std(token_lengths))\n",
    "print('Chars per doc:', np.mean(char_lengths), np.std(char_lengths))"
   ]
  },
  {
   "cell_type": "code",
   "execution_count": 8,
   "metadata": {},
   "outputs": [
    {
     "name": "stdout",
     "output_type": "stream",
     "text": [
      "Comments Per Subreddit (Mean) 110.4095443904196\n",
      "Comments Per Subreddit (Std) 130.72500187247738\n",
      "Tokens Per Comment (Mean) 31.313964901887804\n",
      "Tokens Per Comment (Std) 57.609138747208206\n",
      "Chars Per Comment(Mean) 150.57814500917354\n",
      "Chars Per Comment (Std) 282.95570701455176\n"
     ]
    }
   ],
   "source": [
    "print('Comments Per Subreddit (Mean)', np.mean(comments_per_sr))\n",
    "print('Comments Per Subreddit (Std)', np.std(comments_per_sr))\n",
    "\n",
    "print('Tokens Per Comment (Mean)', np.mean(tokens_per_comment))\n",
    "print('Tokens Per Comment (Std)', np.std(tokens_per_comment))\n",
    "\n",
    "print('Chars Per Comment(Mean)', np.mean(chars_per_comment))\n",
    "print('Chars Per Comment (Std)', np.std(chars_per_comment))"
   ]
  },
  {
   "cell_type": "markdown",
   "metadata": {},
   "source": [
    "Example\n",
    "==="
   ]
  },
  {
   "cell_type": "code",
   "execution_count": 50,
   "metadata": {
    "collapsed": true
   },
   "outputs": [],
   "source": [
    "text = 'Noel smiled, going off in his own little world.'\n",
    "e = prepare_entry(text, mode='accurate', tokenizer='casual')"
   ]
  },
  {
   "cell_type": "code",
   "execution_count": 53,
   "metadata": {
    "collapsed": true
   },
   "outputs": [],
   "source": [
    "tagger_output = features.perceptron_tagger.tag(e['tokens'])\n",
    "parse_tree = get_nltk_pos_tag_based_ml_chunker().parse(tagger_output)"
   ]
  },
  {
   "cell_type": "code",
   "execution_count": 54,
   "metadata": {},
   "outputs": [
    {
     "name": "stdout",
     "output_type": "stream",
     "text": [
      "(S\n",
      "  (NP Noel/NNP)\n",
      "  (VP smiled/VBD)\n",
      "  ,/,\n",
      "  (VP going/VBG)\n",
      "  off/RP\n",
      "  (PP in/IN)\n",
      "  (NP his/PRP$ own/JJ little/JJ world/NN)\n",
      "  ./.)\n"
     ]
    }
   ],
   "source": [
    "parse_tree.pprint()"
   ]
  },
  {
   "cell_type": "code",
   "execution_count": 55,
   "metadata": {},
   "outputs": [
    {
     "data": {
      "text/plain": [
       "[('Noel', 'NNP'),\n",
       " ('smiled', 'VBD'),\n",
       " (',', ','),\n",
       " ('going', 'VBG'),\n",
       " ('off', 'RP'),\n",
       " ('in', 'IN'),\n",
       " ('his', 'PRP$'),\n",
       " ('own', 'JJ'),\n",
       " ('little', 'JJ'),\n",
       " ('world', 'NN'),\n",
       " ('.', '.')]"
      ]
     },
     "execution_count": 55,
     "metadata": {},
     "output_type": "execute_result"
    }
   ],
   "source": [
    "tagger_output"
   ]
  },
  {
   "cell_type": "code",
   "execution_count": 58,
   "metadata": {},
   "outputs": [
    {
     "data": {
      "text/plain": [
       "['NP[NNP]', 'VP[VBD]', 'VP[VBG]', 'PP[IN]', 'NP[PRP$ JJ JJ NN]']"
      ]
     },
     "execution_count": 58,
     "metadata": {},
     "output_type": "execute_result"
    }
   ],
   "source": [
    "e['pos_tag_chunk_subtrees']"
   ]
  },
  {
   "cell_type": "code",
   "execution_count": 57,
   "metadata": {},
   "outputs": [
    {
     "data": {
      "text/plain": [
       "['NP', 'VP', ',', 'VP', 'RP', 'PP', 'NP', '.']"
      ]
     },
     "execution_count": 57,
     "metadata": {},
     "output_type": "execute_result"
    }
   ],
   "source": [
    "e['pos_tag_chunks']"
   ]
  },
  {
   "cell_type": "markdown",
   "metadata": {},
   "source": [
    "Classifier Performance\n",
    "===="
   ]
  },
  {
   "cell_type": "code",
   "execution_count": null,
   "metadata": {
    "collapsed": true
   },
   "outputs": [],
   "source": [
    "with open('temp_data/reddit/unchunked/training_meta_data.p', 'rb') as f:\n",
    "    (author_to_doc_idx, author_to_doc_idx_test, author_subreddit, author_subreddit_test, x_shape, x_shape_test) = pickle.load(f)"
   ]
  },
  {
   "cell_type": "code",
   "execution_count": 37,
   "metadata": {
    "collapsed": true
   },
   "outputs": [],
   "source": [
    "with open('temp_data/pan/experiment_data.p', 'rb') as f:\n",
    "    d = pickle.load(f)\n",
    "    pan_aucs = d[0]\n",
    "    \n",
    "with open('temp_data/reddit/unchunked/model.p', 'rb') as f:\n",
    "    d = pickle.load(f)\n",
    "    reddit_aucs = d[-1]"
   ]
  },
  {
   "cell_type": "code",
   "execution_count": 42,
   "metadata": {},
   "outputs": [
    {
     "data": {
      "image/png": "[encoded data removed]",
      "text/plain": [
       "<Figure size 234x216 with 1 Axes>"
      ]
     },
     "metadata": {},
     "output_type": "display_data"
    },
    {
     "name": "stdout",
     "output_type": "stream",
     "text": [
      "Final AUC: 0.97\n"
     ]
    }
   ],
   "source": [
    "\n",
    "\n",
    "fig = plt.figure(figsize=(HALF_COL_WIDTH, HEIGHT))\n",
    "plt_x = list(range(len(pan_aucs)))\n",
    "plt_y = pan_aucs\n",
    "plt.plot(plt_x, plt_y, '-')\n",
    "\n",
    "plt.xlabel('Epochs')\n",
    "plt.ylabel('AUC')\n",
    "plt.grid(True, alpha=0.5)\n",
    "plt.tight_layout()\n",
    "plt.ylim(0.95, 0.985)\n",
    "plt.show()\n",
    "\n",
    "fig.savefig(FIGURES_PATH + 'plt_pan_full_epoch_vs_auc.pdf', bbox_inches='tight')\n",
    "print('Final AUC:', round(pan_aucs[-1], 3))"
   ]
  },
  {
   "cell_type": "code",
   "execution_count": 43,
   "metadata": {},
   "outputs": [
    {
     "data": {
      "image/png": "[encoded data removed]",
      "text/plain": [
       "<Figure size 234x216 with 1 Axes>"
      ]
     },
     "metadata": {},
     "output_type": "display_data"
    },
    {
     "name": "stdout",
     "output_type": "stream",
     "text": [
      "Final AUC: 0.98\n"
     ]
    }
   ],
   "source": [
    "\n",
    "\n",
    "fig = plt.figure(figsize=(HALF_COL_WIDTH, HEIGHT))\n",
    "plt_x = list(range(len(reddit_aucs)))\n",
    "plt_y = reddit_aucs\n",
    "plt.plot(plt_x, plt_y, '-')\n",
    "\n",
    "plt.xlabel('Epochs')\n",
    "plt.ylabel('AUC')\n",
    "plt.grid(True, alpha=0.5)\n",
    "plt.tight_layout()\n",
    "plt.ylim(0.95, 0.985)\n",
    "plt.show()\n",
    "\n",
    "fig.savefig(FIGURES_PATH + 'plt_reddit_full_epoch_vs_auc.pdf', bbox_inches='tight')\n",
    "print('Final AUC:', round(reddit_aucs[-1], 3))"
   ]
  },
  {
   "cell_type": "markdown",
   "metadata": {},
   "source": [
    "Varying Doc lengths\n",
    "==="
   ]
  },
  {
   "cell_type": "code",
   "execution_count": 118,
   "metadata": {
    "collapsed": true
   },
   "outputs": [],
   "source": [
    "from pan.varying_doc_sizes import SIZES as PAN_SIZES\n",
    "from reddit.varying_doc_sizes import SIZES as REDDIT_SIZES\n",
    "from sklearn.metrics import roc_curve, auc"
   ]
  },
  {
   "cell_type": "code",
   "execution_count": 119,
   "metadata": {
    "collapsed": true
   },
   "outputs": [],
   "source": [
    "pan_aucs = []\n",
    "for size in PAN_SIZES:\n",
    "    with open('./temp_data/pan/doc_size_experiments/size_' + str(size) + '/experiment_data.p', 'rb') as f:\n",
    "        data = pickle.load(f)\n",
    "        final_auc = data[0][-1]\n",
    "        pan_aucs.append(final_auc)"
   ]
  },
  {
   "cell_type": "code",
   "execution_count": 74,
   "metadata": {},
   "outputs": [
    {
     "data": {
      "text/plain": [
       "[1, 2, 5, 10, 20, 30, 40]"
      ]
     },
     "execution_count": 74,
     "metadata": {},
     "output_type": "execute_result"
    }
   ],
   "source": [
    "PAN_SIZES"
   ]
  },
  {
   "cell_type": "code",
   "execution_count": 69,
   "metadata": {},
   "outputs": [
    {
     "data": {
      "text/plain": [
       "[0.7146778157263471,\n",
       " 0.7851159795255009,\n",
       " 0.8728131583510979,\n",
       " 0.922383527055845,\n",
       " 0.954798917769495,\n",
       " 0.966898441778403,\n",
       " 0.9723291154825093]"
      ]
     },
     "execution_count": 69,
     "metadata": {},
     "output_type": "execute_result"
    }
   ],
   "source": [
    "pan_aucs"
   ]
  },
  {
   "cell_type": "code",
   "execution_count": 120,
   "metadata": {
    "collapsed": true
   },
   "outputs": [],
   "source": [
    "reddit_aucs = []\n",
    "for size in REDDIT_SIZES:\n",
    "    with open('./temp_data/reddit_old/doc_size_experiments/size_' + str(size) + '/model.p', 'rb') as f:\n",
    "        data = pickle.load(f)\n",
    "        probs = data[5]\n",
    "        Y_test = data[6]\n",
    "        fpr, tpr, thresh = roc_curve(Y_test, probs)\n",
    "        roc_auc = auc(fpr, tpr)\n",
    "        reddit_aucs.append(roc_auc)"
   ]
  },
  {
   "cell_type": "code",
   "execution_count": 71,
   "metadata": {},
   "outputs": [
    {
     "data": {
      "text/plain": [
       "[5, 10, 15, 20, 30, 40, 50, 60, 70, 80]"
      ]
     },
     "execution_count": 71,
     "metadata": {},
     "output_type": "execute_result"
    }
   ],
   "source": [
    "REDDIT_SIZES"
   ]
  },
  {
   "cell_type": "code",
   "execution_count": 73,
   "metadata": {},
   "outputs": [
    {
     "data": {
      "text/plain": [
       "[0.8015404628899654,\n",
       " 0.8765790495720556,\n",
       " 0.898272444688294,\n",
       " 0.9180072807804424,\n",
       " 0.9431727231899917,\n",
       " 0.9547066583156244,\n",
       " 0.9648174617116598,\n",
       " 0.9683909722125951,\n",
       " 0.9733653062210245,\n",
       " 0.9735743403048718]"
      ]
     },
     "execution_count": 73,
     "metadata": {},
     "output_type": "execute_result"
    }
   ],
   "source": [
    "reddit_aucs"
   ]
  },
  {
   "cell_type": "code",
   "execution_count": 141,
   "metadata": {
    "collapsed": true
   },
   "outputs": [],
   "source": [
    "rcParams['font.size']=11"
   ]
  },
  {
   "cell_type": "code",
   "execution_count": 142,
   "metadata": {},
   "outputs": [
    {
     "data": {
      "image/png": "[encoded data removed]",
      "text/plain": [
       "<Figure size 234x165.6 with 1 Axes>"
      ]
     },
     "metadata": {},
     "output_type": "display_data"
    }
   ],
   "source": [
    "\n",
    "\n",
    "fig = plt.figure(figsize=(HALF_COL_WIDTH, 2.3))\n",
    "plt_x = PAN_SIZES\n",
    "plt_y = pan_aucs\n",
    "plt.plot(plt_x, plt_y, '-')\n",
    "\n",
    "plt.xlabel('Chunks')\n",
    "plt.ylabel('AUC')\n",
    "plt.grid(True, alpha=0.5)\n",
    "plt.ylim(0.7, 0.98)\n",
    "plt.tight_layout()\n",
    "\n",
    "plt.show()\n",
    "\n",
    "fig.savefig(FIGURES_PATH +  'plt_pan_doc_size_vs_auc.pdf', bbox_inches='tight')"
   ]
  },
  {
   "cell_type": "code",
   "execution_count": 143,
   "metadata": {},
   "outputs": [
    {
     "data": {
      "image/png": "[encoded data removed]",
      "text/plain": [
       "<Figure size 234x165.6 with 1 Axes>"
      ]
     },
     "metadata": {},
     "output_type": "display_data"
    }
   ],
   "source": [
    "\n",
    "# style.use('seaborn-white')\n",
    "\n",
    "fig = plt.figure(figsize=(HALF_COL_WIDTH, 2.3))\n",
    "plt_x = REDDIT_SIZES\n",
    "plt_y = reddit_aucs\n",
    "plt.plot(plt_x, plt_y, '-')\n",
    "\n",
    "plt.xlabel('Comments')\n",
    "plt.ylabel('AUC')\n",
    "plt.grid(True, alpha=0.5)\n",
    "plt.ylim(0.7, 0.98)\n",
    "plt.tight_layout()\n",
    "\n",
    "plt.show()\n",
    "fig.savefig(FIGURES_PATH +  'plt_reddit_doc_size_vs_auc.pdf', bbox_inches='tight')"
   ]
  },
  {
   "cell_type": "markdown",
   "metadata": {},
   "source": [
    "Multi-doc Scatter Plots\n",
    "==="
   ]
  },
  {
   "cell_type": "code",
   "execution_count": 113,
   "metadata": {},
   "outputs": [
    {
     "data": {
      "image/png": "[encoded data removed]",
      "text/plain": [
       "<Figure size 288x115.2 with 2 Axes>"
      ]
     },
     "metadata": {},
     "output_type": "display_data"
    }
   ],
   "source": [
    "# Reddit\n",
    "with open('temp_data/reddit/combined_results/results_40_full_data.p', 'rb') as f:\n",
    "    (\n",
    "        inter_probs_mean,\n",
    "        intraA_probs_mean,\n",
    "        intraB_probs_mean,\n",
    "        inter_probs_std,\n",
    "        intraA_probs_std,\n",
    "        intraB_probs_std,\n",
    "        labels,\n",
    "        pred_lengths,\n",
    "        probs_nc\n",
    "    ) = pickle.load(f)\n",
    "    \n",
    "\n",
    "inter_probs_mean = np.array(inter_probs_mean)\n",
    "intraA_probs_mean = np.array(intraA_probs_mean)\n",
    "intraB_probs_mean = np.array(intraB_probs_mean)\n",
    "inter_probs_std = np.array(inter_probs_std)\n",
    "intraA_probs_std = np.array(intraA_probs_std)\n",
    "intraB_probs_std = np.array(intraB_probs_std)\n",
    "labels = np.array(labels)\n",
    "pred_lengths = np.array(pred_lengths)\n",
    "\n",
    "\n",
    "probs_nc = np.array(probs_nc)\n",
    "\n",
    "n_a = pred_lengths[:, 0]\n",
    "n_b = pred_lengths[:, 1]\n",
    "n_ab = pred_lengths[:, 2]\n",
    "\n",
    "intra_probs_mean = (intraA_probs_mean * n_a + intraB_probs_mean * n_b)/ (n_a + n_b)\n",
    "intra_probs_std = (\n",
    "        n_a * (intraA_probs_std ** 2 + (intraA_probs_mean - intra_probs_mean)**2) + \n",
    "        n_b * (intraB_probs_std ** 2 + (intraB_probs_mean - intra_probs_mean)**2)\n",
    "    ) / (n_a + n_b)\n",
    "\n",
    "\n",
    "pooled_mean = (intra_probs_mean * (n_a + n_b) + inter_probs_mean * n_ab)/ (n_a + n_b + n_ab)\n",
    "pooled_std = (\n",
    "        (n_a + n_b) * (intra_probs_mean ** 2 + (intra_probs_mean - pooled_mean)**2) + \n",
    "        n_ab * (inter_probs_mean ** 2 + (inter_probs_mean - pooled_mean)**2)\n",
    "    ) / (n_a + n_b + n_ab)\n",
    "\n",
    "\n",
    "intra_inter_diff = (1 - np.abs(inter_probs_mean - intra_probs_mean))\n",
    "\n",
    "mask = np.random.rand(len(labels)) < 0.075\n",
    "\n",
    "\n",
    "fig, axs = plt.subplots(1, 2, figsize=(4, 1.6))\n",
    "# axs[0].scatter(inter_probs_std[np.logical_and(mask, labels==True)], inter_probs_mean[np.logical_and(mask, labels==True)], s=0.5, alpha=0.4)\n",
    "# axs[0].scatter(inter_probs_std[np.logical_and(mask, labels==False)], inter_probs_mean[np.logical_and(mask, labels==False)], s=0.5, alpha=0.4)\n",
    "# axs[0].set_xlabel('Inter-author Std. dev')\n",
    "# axs[0].set_ylabel('Inter-author Mean')\n",
    "\n",
    "\n",
    "\n",
    "axs[0].scatter(intra_probs_mean[np.logical_and(mask, labels==True)], inter_probs_mean[np.logical_and(mask, labels==True)], s=0.5, alpha=0.4)\n",
    "axs[0].scatter(intra_probs_mean[np.logical_and(mask, labels==False)], inter_probs_mean[np.logical_and(mask, labels==False)], s=0.5, alpha=0.4)\n",
    "axs[0].set_xlabel('Inra-author Mean')\n",
    "axs[0].set_ylabel('Inter-author Mean')\n",
    "# axs[1].legend(labels=['Same Author', 'Different Author'], loc='best', markerscale=4.)\n",
    "\n",
    "axs[1].scatter(intra_inter_diff[np.logical_and(mask, labels==True)], probs_nc[np.logical_and(mask, labels==True)], s=0.5, alpha=0.4)\n",
    "axs[1].scatter(intra_inter_diff[np.logical_and(mask, labels==False)], probs_nc[np.logical_and(mask, labels==False)], s=0.5, alpha=0.4)\n",
    "axs[1].set_xlabel('Intra-Inter Author Sim')\n",
    "axs[1].set_ylabel('Single-doc Score')\n",
    "\n",
    "\n",
    "plt.tight_layout()\n",
    "fig.show()\n",
    "# plt.savefig(FIGURES_PATH + 'plt_reddit_multi_doc_probs_small.pdf', format='pdf')\n",
    "# tikzplotlib.save(FIGURES_PATH + 'plt_reddit_multi_doc_probs.pgf')"
   ]
  },
  {
   "cell_type": "code",
   "execution_count": 115,
   "metadata": {},
   "outputs": [
    {
     "data": {
      "text/plain": [
       "0.79286394110126"
      ]
     },
     "execution_count": 115,
     "metadata": {},
     "output_type": "execute_result"
    }
   ],
   "source": [
    "intra_probs_mean.mean()"
   ]
  },
  {
   "cell_type": "code",
   "execution_count": 110,
   "metadata": {
    "collapsed": true
   },
   "outputs": [],
   "source": [
    "with open('temp_data/pan/combined_results/results_15.p', 'rb') as f:\n",
    "    (\n",
    "        inter_probs_mean,\n",
    "        intraA_probs_mean,\n",
    "        intraB_probs_mean,\n",
    "        inter_probs_std,\n",
    "        intraA_probs_std,\n",
    "        intraB_probs_std,\n",
    "        labels,\n",
    "        pred_lengths,\n",
    "        probs_nc\n",
    "    ) = pickle.load(f)"
   ]
  },
  {
   "cell_type": "code",
   "execution_count": 116,
   "metadata": {},
   "outputs": [
    {
     "data": {
      "image/png": "[encoded data removed]",
      "text/plain": [
       "<Figure size 288x115.2 with 2 Axes>"
      ]
     },
     "metadata": {},
     "output_type": "display_data"
    }
   ],
   "source": [
    "inter_probs_mean = np.array(inter_probs_mean)\n",
    "intraA_probs_mean = np.array(intraA_probs_mean)\n",
    "intraB_probs_mean = np.array(intraB_probs_mean)\n",
    "inter_probs_std = np.array(inter_probs_std)\n",
    "intraA_probs_std = np.array(intraA_probs_std)\n",
    "intraB_probs_std = np.array(intraB_probs_std)\n",
    "labels = np.array(labels)\n",
    "pred_lengths = np.array(pred_lengths)\n",
    "\n",
    "\n",
    "probs_nc = np.array(probs_nc)\n",
    "\n",
    "n_a = pred_lengths[:, 0]\n",
    "n_b = pred_lengths[:, 1]\n",
    "n_ab = pred_lengths[:, 2]\n",
    "\n",
    "intra_probs_mean = (intraA_probs_mean * n_a + intraB_probs_mean * n_b)/ (n_a + n_b)\n",
    "intra_probs_std = (\n",
    "        n_a * (intraA_probs_std ** 2 + (intraA_probs_mean - intra_probs_mean)**2) + \n",
    "        n_b * (intraB_probs_std ** 2 + (intraB_probs_mean - intra_probs_mean)**2)\n",
    "    ) / (n_a + n_b)\n",
    "\n",
    "\n",
    "pooled_mean = (intra_probs_mean * (n_a + n_b) + inter_probs_mean * n_ab)/ (n_a + n_b + n_ab)\n",
    "pooled_std = (\n",
    "        (n_a + n_b) * (intra_probs_mean ** 2 + (intra_probs_mean - pooled_mean)**2) + \n",
    "        n_ab * (inter_probs_mean ** 2 + (inter_probs_mean - pooled_mean)**2)\n",
    "    ) / (n_a + n_b + n_ab)\n",
    "\n",
    "\n",
    "intra_inter_diff = (1 - np.abs(inter_probs_mean - intra_probs_mean))\n",
    "\n",
    "mask = np.random.rand(len(labels)) < 0.075\n",
    "\n",
    "\n",
    "fig, axs = plt.subplots(1, 2, figsize=(4, 1.6))\n",
    "# axs[0].scatter(inter_probs_std[np.logical_and(mask, labels==True)], inter_probs_mean[np.logical_and(mask, labels==True)], s=0.5, alpha=0.4)\n",
    "# axs[0].scatter(inter_probs_std[np.logical_and(mask, labels==False)], inter_probs_mean[np.logical_and(mask, labels==False)], s=0.5, alpha=0.4)\n",
    "# axs[0].set_xlabel('Inter-author Std. dev')\n",
    "# axs[0].set_ylabel('Inter-author Mean')\n",
    "\n",
    "\n",
    "\n",
    "axs[0].scatter(intra_probs_mean[np.logical_and(mask, labels==True)], inter_probs_mean[np.logical_and(mask, labels==True)], s=0.5, alpha=0.4)\n",
    "axs[0].scatter(intra_probs_mean[np.logical_and(mask, labels==False)], inter_probs_mean[np.logical_and(mask, labels==False)], s=0.5, alpha=0.4)\n",
    "axs[0].set_xlabel('Inra-author Mean')\n",
    "axs[0].set_ylabel('Inter-author Mean')\n",
    "# axs[1].legend(labels=['Same Author', 'Different Author'], loc='best', markerscale=4.)\n",
    "\n",
    "axs[1].scatter(intra_inter_diff[np.logical_and(mask, labels==True)], probs_nc[np.logical_and(mask, labels==True)], s=0.5, alpha=0.4)\n",
    "axs[1].scatter(intra_inter_diff[np.logical_and(mask, labels==False)], probs_nc[np.logical_and(mask, labels==False)], s=0.5, alpha=0.4)\n",
    "axs[1].set_xlabel('Intra-Inter Author Sim')\n",
    "axs[1].set_ylabel('Single-doc Score')\n",
    "\n",
    "\n",
    "plt.tight_layout()\n",
    "fig.show()\n",
    "# plt.savefig(FIGURES_PATH + 'plt_pan_multi_doc_probs_small.pdf', format='pdf')\n",
    "# tikzplotlib.save(FIGURES_PATH + 'plt_reddit_multi_doc_probs.pgf')"
   ]
  },
  {
   "cell_type": "code",
   "execution_count": 117,
   "metadata": {},
   "outputs": [
    {
     "data": {
      "text/plain": [
       "0.79286394110126"
      ]
     },
     "execution_count": 117,
     "metadata": {},
     "output_type": "execute_result"
    }
   ],
   "source": [
    "intra_probs_mean.mean()"
   ]
  },
  {
   "cell_type": "code",
   "execution_count": 87,
   "metadata": {
    "collapsed": true
   },
   "outputs": [],
   "source": [
    "with open('temp_data/reddit/multidoc_10_limitted_data_40_capped/experiment_data10.p', 'rb') as f:\n",
    "    (\n",
    "        author_bounds, \n",
    "        author_bounds_test, \n",
    "        author_subreddit, \n",
    "        author_subreddit_test, \n",
    "        x_shape, \n",
    "        x_shape_test,\n",
    "        exclude_users,\n",
    "        exclude_users_test,\n",
    "        X_idxs_train,\n",
    "        Y_train,\n",
    "        X_idxs_test,\n",
    "        Y_test\n",
    "    ) = pickle.load(f)"
   ]
  },
  {
   "cell_type": "code",
   "execution_count": 79,
   "metadata": {
    "collapsed": true
   },
   "outputs": [],
   "source": [
    "from collections import defaultdict\n",
    "import re"
   ]
  },
  {
   "cell_type": "code",
   "execution_count": 88,
   "metadata": {
    "collapsed": true
   },
   "outputs": [],
   "source": [
    "author_mapping = defaultdict(set)\n",
    "author_to_root = {}\n",
    "for y in author_bounds.keys():\n",
    "    u = re.search(r'(.*)_[A-Z]+$', y).group(1)\n",
    "    author_mapping[u].add(y)\n",
    "    author_to_root[y] = u\n",
    "    \n",
    "author_mapping_test = defaultdict(set)\n",
    "author_to_root_test = {}\n",
    "for y in author_bounds_test.keys():\n",
    "    u = re.search(r'(.*)_[A-Z]+$', y).group(1)\n",
    "    author_mapping_test[u].add(y)\n",
    "    author_to_root_test[y] = u"
   ]
  },
  {
   "cell_type": "code",
   "execution_count": 89,
   "metadata": {},
   "outputs": [
    {
     "data": {
      "text/plain": [
       "27789"
      ]
     },
     "execution_count": 89,
     "metadata": {},
     "output_type": "execute_result"
    }
   ],
   "source": [
    "len(author_mapping) + len(author_mapping_test)"
   ]
  },
  {
   "cell_type": "code",
   "execution_count": 97,
   "metadata": {},
   "outputs": [
    {
     "data": {
      "text/plain": [
       "0.5980630582158614"
      ]
     },
     "execution_count": 97,
     "metadata": {},
     "output_type": "execute_result"
    }
   ],
   "source": [
    "27789/46465"
   ]
  }
 ],
 "metadata": {
  "kernelspec": {
   "display_name": "Python 3",
   "language": "python",
   "name": "python3"
  },
  "language_info": {
   "codemirror_mode": {
    "name": "ipython",
    "version": 3
   },
   "file_extension": ".py",
   "mimetype": "text/x-python",
   "name": "python",
   "nbconvert_exporter": "python",
   "pygments_lexer": "ipython3",
   "version": "3.6.9"
  }
 },
 "nbformat": 4,
 "nbformat_minor": 2
}
